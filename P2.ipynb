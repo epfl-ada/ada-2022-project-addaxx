{
 "cells": [
  {
   "cell_type": "markdown",
   "metadata": {},
   "source": [
    "# 1. Import"
   ]
  },
  {
   "cell_type": "code",
   "execution_count": 1,
   "metadata": {},
   "outputs": [
    {
     "name": "stdout",
     "output_type": "stream",
     "text": [
      "Note: to be able to use all crisp methods, you need to install some additional packages:  {'graph_tool', 'wurlitzer'}\n",
      "Note: to be able to use all bipartite methods, you need to install some additional packages:  {'wurlitzer'}\n"
     ]
    }
   ],
   "source": [
    "import numpy as np\n",
    "import pandas as pd\n",
    "import matplotlib.pyplot as plt\n",
    "import seaborn as sns\n",
    "from cdlib import viz\n",
    "import os\n",
    "import sys\n",
    "import warnings\n",
    "warnings.filterwarnings('ignore')\n",
    "import networkx as nx\n",
    "#from pyvis import network as net\n",
    "from cdlib import algorithms, viz, TemporalClustering, evaluation\n",
    "from difflib import get_close_matches\n",
    "from collections import Counter\n",
    "from difflib import SequenceMatcher\n",
    "#import pandas_profiling\n",
    "#from nltk.corpus import names\n",
    "import json\n",
    "from faker import Faker\n",
    "import pycountry\n",
    "import plotly.graph_objects as go\n",
    "#import plotly.express as px\n",
    "import bokeh as bk\n",
    "import pickle"
   ]
  },
  {
   "cell_type": "markdown",
   "metadata": {},
   "source": [
    "## 1.1 Importing data"
   ]
  },
  {
   "cell_type": "code",
   "execution_count": 2,
   "metadata": {},
   "outputs": [],
   "source": [
    "# load data from tsv file to a pandas dataframe\n",
    "movies_metadata = pd.read_csv(\n",
    "    'MovieSummaries/movie.metadata.tsv', sep='\\t', header=None)\n",
    "character_metadata = pd.read_csv(\n",
    "    'MovieSummaries/character.metadata.tsv', sep='\\t', header=None)\n",
    "plot_summaries = pd.read_csv(\n",
    "    'MovieSummaries/plot_summaries.txt', sep='\\t', header=None)\n"
   ]
  },
  {
   "cell_type": "markdown",
   "metadata": {},
   "source": [
    "\n",
    "The columns have the following labels (extracted from Pandaprofiling reports and our analysis):"
   ]
  },
  {
   "cell_type": "markdown",
   "metadata": {},
   "source": [
    "Movie metadata:"
   ]
  },
  {
   "cell_type": "markdown",
   "metadata": {},
   "source": [
    "| Column | Type of data  | Missing values    | Summary   |\n",
    "|---:|:-------------|:-----------|:------|\n",
    "| Wikipedia movie ID | Integer unique  | 0       | Unique Wikipedia IDs to identify movies  |\n",
    "| Freebase movie ID | Categorical unique  | 0    | Unique identifiers for movies in the Freebase database.  |\n",
    "| Movie name | Categorical  | 0       | Movie name in original language   | \n",
    "| Movie release date | Categorical  | 6902 / 8.4%    | Date of release of the movie , can be in different formats and contains some missing values   |\n",
    "| Movie box office revenue | Real number  | 73340 / 89.7%       | Income from ticket sales of the movie . Too many missing values , this column cannot be used . It is also not ideal to replace these values from other data sources since a large portion of the movies of our dataset don't figure in the box office at all . A good idea would be to replace this column with another score metric ( like IMDB ratings ) if needed in P3   |\n",
    "| Movie runtime | Real number  | 20450 / 25.0%    | Length of the movie in minutes . Important amount of missing values but this column won't be needed in our analysis   |\n",
    "| Movie languages | Categorical  | 13866 / 17.0%       | Original language of the movie . Represented in dictionary format with each language and its associated Freebase ID . Contains A few missing values .  |\n",
    "| Movie countries | Categorical  | 8154 / 10.0%    | Country where the movie was released . Represented in dictionary format with each country and its associated Freebase ID . Some missing values but we don't use this column yet . An interesting idea for the next milestone would be to compare communities country distribution with the movie country   |\n",
    "| Movie genres | Categorical | 2294 / 2.8%      | Genre of the movie . Represented in dictionary format with each genre and its associated Freebase ID . Few missing values but we don't use this column yet . This label can be useful to test hypothesis involving communities  |"
   ]
  },
  {
   "cell_type": "markdown",
   "metadata": {},
   "source": [
    "Character metadata:"
   ]
  },
  {
   "cell_type": "markdown",
   "metadata": {},
   "source": [
    "| Column | Type of data  | Missing values    | Summary   |\n",
    "|---:|:-------------|:-----------|:------|\n",
    "| Wikipedia movie ID | Integer   | 0       | Wikipedia ID of the movie where a character is portrayed  |\n",
    "| Freebase movie ID | Categorical unique  | 0    | Identifiers for movies in the Freebase database a character is portrayed  |\n",
    "| Movie release date | Categorical  | 9995 / 2.2%    | Date of release of the movie , can be in different formats and contains some missing values   |\n",
    "| Character name | Categorical  | 257875 / 57.2%       | Name of character portrayed . Contains a lot of missing values and won't be used in our analysis  |\n",
    "| Actor date of birth | Categorical  | 106145 / 23.6%    | Date of birth of the concerned actor . Significant amount of missing values which we will be filling later after communties are established ( explained below ). The actor date of birth is converted to actor age  |\n",
    "| Actor gender | Categorical  | 45609 / 10.1%       | Gender of the actor , either \"M\" or \"F\" . Missing values are replaced using queries from Wikidata  |\n",
    "| Actor height | Real number  | 295845 / 65.6%    | Height of the actor in meters . A lot of missing and skewed values but we won't use this column in our analysis. |\n",
    "| Actor ethnicity  | Categorical | 344611 / 76.5%      | Freebase ID of the ethnicity of the actor . Very interesting feature that would have contributed a lot in our analysis but too many missing values and no way of replacing them . Will be replaced with country of citizenship of the actor after querying from Wikidata   |\n",
    "| Actor name | Categorical  | 1228 / 0.3%    | Name of the actor . Contains some duplicates since some actors have the same name , therefore can't be used reliably to identify specific actors  |\n",
    "| Actor age at movie release | Real number  | 158113 / 35.1%       | Age of the actor when the movie was released . Contains a lot of missing and skewed values but we won't use this column in our analysis |\n",
    "| Freebase character/actor map ID | Categorical  | 0    | Unique Freebase ID of the character. We won't use this column in our analysis  |\n",
    "| Freebase character ID | Categorical | 257865 / 57.2%      | Unique Freebase ID of the character. Contains a lot of missing data and we won't use this column in our analysis   |\n",
    "| Freebase actor ID | Categorical | 815 / 0.2%      | Very few missing values that will be dropped . Main identifier for actors in our analysis  |"
   ]
  },
  {
   "cell_type": "code",
   "execution_count": 3,
   "metadata": {},
   "outputs": [],
   "source": [
    "# label the columns\n",
    "movies_metadata.columns = ['Wikipedia_movie_ID', 'Freebase_movie_ID', 'Movie_name', 'Movie_release_date',\n",
    "                           'Movie_box_office_revenue', 'Movie_runtime', 'Movie_languages', 'Movie_countries', 'Movie_genres']\n",
    "character_metadata.columns = ['Wikipedia_movie_ID', 'Freebase_movie_ID', 'Movie_release_date', 'Character_name', 'Actor_date_of_birth', 'actor_gender',\n",
    "                              'Actor_height_(in_meters)', 'Actor_ethnicity', 'Actor_name', 'Actor_age_at_movie_release', 'Freebase_character/actor_map_ID', 'Freebase_character_ID', 'Freebase_actor_ID']\n",
    "plot_summaries.columns = ['Wikipedia_movie_ID', 'Plot_summary']\n"
   ]
  },
  {
   "cell_type": "markdown",
   "metadata": {},
   "source": [
    "## 1.2 Visualizing samples of raw data"
   ]
  },
  {
   "cell_type": "code",
   "execution_count": 4,
   "metadata": {},
   "outputs": [
    {
     "data": {
      "text/html": [
       "<div>\n",
       "<style scoped>\n",
       "    .dataframe tbody tr th:only-of-type {\n",
       "        vertical-align: middle;\n",
       "    }\n",
       "\n",
       "    .dataframe tbody tr th {\n",
       "        vertical-align: top;\n",
       "    }\n",
       "\n",
       "    .dataframe thead th {\n",
       "        text-align: right;\n",
       "    }\n",
       "</style>\n",
       "<table border=\"1\" class=\"dataframe\">\n",
       "  <thead>\n",
       "    <tr style=\"text-align: right;\">\n",
       "      <th></th>\n",
       "      <th>Wikipedia_movie_ID</th>\n",
       "      <th>Freebase_movie_ID</th>\n",
       "      <th>Movie_name</th>\n",
       "      <th>Movie_release_date</th>\n",
       "      <th>Movie_box_office_revenue</th>\n",
       "      <th>Movie_runtime</th>\n",
       "      <th>Movie_languages</th>\n",
       "      <th>Movie_countries</th>\n",
       "      <th>Movie_genres</th>\n",
       "    </tr>\n",
       "  </thead>\n",
       "  <tbody>\n",
       "    <tr>\n",
       "      <th>30760</th>\n",
       "      <td>4870370</td>\n",
       "      <td>/m/0crwds</td>\n",
       "      <td>Special Duty Combat Unit Shinesman</td>\n",
       "      <td>1996</td>\n",
       "      <td>NaN</td>\n",
       "      <td>60.0</td>\n",
       "      <td>{\"/m/03_9r\": \"Japanese Language\"}</td>\n",
       "      <td>{\"/m/03_3d\": \"Japan\"}</td>\n",
       "      <td>{\"/m/0gw5n2f\": \"Japanese Movies\", \"/m/01z4y\": ...</td>\n",
       "    </tr>\n",
       "    <tr>\n",
       "      <th>38520</th>\n",
       "      <td>13023499</td>\n",
       "      <td>/m/02z3rtn</td>\n",
       "      <td>The April Fools</td>\n",
       "      <td>1969-05-28</td>\n",
       "      <td>NaN</td>\n",
       "      <td>95.0</td>\n",
       "      <td>{\"/m/02h40lc\": \"English Language\"}</td>\n",
       "      <td>{\"/m/09c7w0\": \"United States of America\"}</td>\n",
       "      <td>{\"/m/02l7c8\": \"Romance Film\", \"/m/07s9rl0\": \"D...</td>\n",
       "    </tr>\n",
       "    <tr>\n",
       "      <th>80821</th>\n",
       "      <td>35270323</td>\n",
       "      <td>/m/0h972y0</td>\n",
       "      <td>From Beneath</td>\n",
       "      <td>2012</td>\n",
       "      <td>NaN</td>\n",
       "      <td>83.0</td>\n",
       "      <td>{}</td>\n",
       "      <td>{}</td>\n",
       "      <td>{\"/m/01jfsb\": \"Thriller\"}</td>\n",
       "    </tr>\n",
       "  </tbody>\n",
       "</table>\n",
       "</div>"
      ],
      "text/plain": [
       "       Wikipedia_movie_ID Freebase_movie_ID  \\\n",
       "30760             4870370         /m/0crwds   \n",
       "38520            13023499        /m/02z3rtn   \n",
       "80821            35270323        /m/0h972y0   \n",
       "\n",
       "                               Movie_name Movie_release_date  \\\n",
       "30760  Special Duty Combat Unit Shinesman               1996   \n",
       "38520                     The April Fools         1969-05-28   \n",
       "80821                        From Beneath               2012   \n",
       "\n",
       "       Movie_box_office_revenue  Movie_runtime  \\\n",
       "30760                       NaN           60.0   \n",
       "38520                       NaN           95.0   \n",
       "80821                       NaN           83.0   \n",
       "\n",
       "                          Movie_languages  \\\n",
       "30760   {\"/m/03_9r\": \"Japanese Language\"}   \n",
       "38520  {\"/m/02h40lc\": \"English Language\"}   \n",
       "80821                                  {}   \n",
       "\n",
       "                                 Movie_countries  \\\n",
       "30760                      {\"/m/03_3d\": \"Japan\"}   \n",
       "38520  {\"/m/09c7w0\": \"United States of America\"}   \n",
       "80821                                         {}   \n",
       "\n",
       "                                            Movie_genres  \n",
       "30760  {\"/m/0gw5n2f\": \"Japanese Movies\", \"/m/01z4y\": ...  \n",
       "38520  {\"/m/02l7c8\": \"Romance Film\", \"/m/07s9rl0\": \"D...  \n",
       "80821                          {\"/m/01jfsb\": \"Thriller\"}  "
      ]
     },
     "execution_count": 4,
     "metadata": {},
     "output_type": "execute_result"
    }
   ],
   "source": [
    "movies_metadata.sample(3)\n"
   ]
  },
  {
   "cell_type": "code",
   "execution_count": 5,
   "metadata": {},
   "outputs": [
    {
     "data": {
      "text/html": [
       "<div>\n",
       "<style scoped>\n",
       "    .dataframe tbody tr th:only-of-type {\n",
       "        vertical-align: middle;\n",
       "    }\n",
       "\n",
       "    .dataframe tbody tr th {\n",
       "        vertical-align: top;\n",
       "    }\n",
       "\n",
       "    .dataframe thead th {\n",
       "        text-align: right;\n",
       "    }\n",
       "</style>\n",
       "<table border=\"1\" class=\"dataframe\">\n",
       "  <thead>\n",
       "    <tr style=\"text-align: right;\">\n",
       "      <th></th>\n",
       "      <th>Wikipedia_movie_ID</th>\n",
       "      <th>Freebase_movie_ID</th>\n",
       "      <th>Movie_release_date</th>\n",
       "      <th>Character_name</th>\n",
       "      <th>Actor_date_of_birth</th>\n",
       "      <th>actor_gender</th>\n",
       "      <th>Actor_height_(in_meters)</th>\n",
       "      <th>Actor_ethnicity</th>\n",
       "      <th>Actor_name</th>\n",
       "      <th>Actor_age_at_movie_release</th>\n",
       "      <th>Freebase_character/actor_map_ID</th>\n",
       "      <th>Freebase_character_ID</th>\n",
       "      <th>Freebase_actor_ID</th>\n",
       "    </tr>\n",
       "  </thead>\n",
       "  <tbody>\n",
       "    <tr>\n",
       "      <th>214170</th>\n",
       "      <td>31434603</td>\n",
       "      <td>/m/0gl0hh7</td>\n",
       "      <td>2007</td>\n",
       "      <td>Maggie</td>\n",
       "      <td>1979-02-23</td>\n",
       "      <td>F</td>\n",
       "      <td>NaN</td>\n",
       "      <td>NaN</td>\n",
       "      <td>Anna Cheney</td>\n",
       "      <td>27.0</td>\n",
       "      <td>/m/0jvpl7n</td>\n",
       "      <td>/m/0jvpl7r</td>\n",
       "      <td>/m/0jvpl7z</td>\n",
       "    </tr>\n",
       "    <tr>\n",
       "      <th>177574</th>\n",
       "      <td>3709021</td>\n",
       "      <td>/m/09wkrb</td>\n",
       "      <td>1966-12-01</td>\n",
       "      <td>NaN</td>\n",
       "      <td>NaN</td>\n",
       "      <td>M</td>\n",
       "      <td>NaN</td>\n",
       "      <td>NaN</td>\n",
       "      <td>Sherwood Ball</td>\n",
       "      <td>NaN</td>\n",
       "      <td>/m/0gck3y4</td>\n",
       "      <td>NaN</td>\n",
       "      <td>/m/0gc31zt</td>\n",
       "    </tr>\n",
       "    <tr>\n",
       "      <th>415497</th>\n",
       "      <td>32954280</td>\n",
       "      <td>/m/0gx9hr9</td>\n",
       "      <td>2012</td>\n",
       "      <td>NaN</td>\n",
       "      <td>1990-08-10</td>\n",
       "      <td>M</td>\n",
       "      <td>1.78</td>\n",
       "      <td>/m/02ctzb</td>\n",
       "      <td>Lucas Till</td>\n",
       "      <td>21.0</td>\n",
       "      <td>/m/0h1pb80</td>\n",
       "      <td>NaN</td>\n",
       "      <td>/m/09tpw5</td>\n",
       "    </tr>\n",
       "  </tbody>\n",
       "</table>\n",
       "</div>"
      ],
      "text/plain": [
       "        Wikipedia_movie_ID Freebase_movie_ID Movie_release_date  \\\n",
       "214170            31434603        /m/0gl0hh7               2007   \n",
       "177574             3709021         /m/09wkrb         1966-12-01   \n",
       "415497            32954280        /m/0gx9hr9               2012   \n",
       "\n",
       "       Character_name Actor_date_of_birth actor_gender  \\\n",
       "214170         Maggie          1979-02-23            F   \n",
       "177574            NaN                 NaN            M   \n",
       "415497            NaN          1990-08-10            M   \n",
       "\n",
       "        Actor_height_(in_meters) Actor_ethnicity     Actor_name  \\\n",
       "214170                       NaN             NaN    Anna Cheney   \n",
       "177574                       NaN             NaN  Sherwood Ball   \n",
       "415497                      1.78       /m/02ctzb     Lucas Till   \n",
       "\n",
       "        Actor_age_at_movie_release Freebase_character/actor_map_ID  \\\n",
       "214170                        27.0                      /m/0jvpl7n   \n",
       "177574                         NaN                      /m/0gck3y4   \n",
       "415497                        21.0                      /m/0h1pb80   \n",
       "\n",
       "       Freebase_character_ID Freebase_actor_ID  \n",
       "214170            /m/0jvpl7r        /m/0jvpl7z  \n",
       "177574                   NaN        /m/0gc31zt  \n",
       "415497                   NaN         /m/09tpw5  "
      ]
     },
     "execution_count": 5,
     "metadata": {},
     "output_type": "execute_result"
    }
   ],
   "source": [
    "character_metadata.sample(3)\n"
   ]
  },
  {
   "cell_type": "code",
   "execution_count": 6,
   "metadata": {},
   "outputs": [
    {
     "data": {
      "text/html": [
       "<div>\n",
       "<style scoped>\n",
       "    .dataframe tbody tr th:only-of-type {\n",
       "        vertical-align: middle;\n",
       "    }\n",
       "\n",
       "    .dataframe tbody tr th {\n",
       "        vertical-align: top;\n",
       "    }\n",
       "\n",
       "    .dataframe thead th {\n",
       "        text-align: right;\n",
       "    }\n",
       "</style>\n",
       "<table border=\"1\" class=\"dataframe\">\n",
       "  <thead>\n",
       "    <tr style=\"text-align: right;\">\n",
       "      <th></th>\n",
       "      <th>Wikipedia_movie_ID</th>\n",
       "      <th>Plot_summary</th>\n",
       "    </tr>\n",
       "  </thead>\n",
       "  <tbody>\n",
       "    <tr>\n",
       "      <th>5285</th>\n",
       "      <td>16200312</td>\n",
       "      <td>Martial arts champion Andre Lima's fighting da...</td>\n",
       "    </tr>\n",
       "    <tr>\n",
       "      <th>32494</th>\n",
       "      <td>32020458</td>\n",
       "      <td>The film opens in a circus, where two cousins ...</td>\n",
       "    </tr>\n",
       "    <tr>\n",
       "      <th>8943</th>\n",
       "      <td>6608849</td>\n",
       "      <td>Youngster Vicky  lives with his mother . A law...</td>\n",
       "    </tr>\n",
       "  </tbody>\n",
       "</table>\n",
       "</div>"
      ],
      "text/plain": [
       "       Wikipedia_movie_ID                                       Plot_summary\n",
       "5285             16200312  Martial arts champion Andre Lima's fighting da...\n",
       "32494            32020458  The film opens in a circus, where two cousins ...\n",
       "8943              6608849  Youngster Vicky  lives with his mother . A law..."
      ]
     },
     "execution_count": 6,
     "metadata": {},
     "output_type": "execute_result"
    }
   ],
   "source": [
    "plot_summaries.sample(3)\n"
   ]
  },
  {
   "cell_type": "markdown",
   "metadata": {},
   "source": [
    "# 2. Understanding and cleaning data"
   ]
  },
  {
   "cell_type": "markdown",
   "metadata": {},
   "source": [
    "## 2.1 Exploring raw data"
   ]
  },
  {
   "cell_type": "markdown",
   "metadata": {},
   "source": [
    "We use the pandas_profiling librarie to get a first rapid overview of the data. It gives many information like value repartition, correlations and missing values.\n",
    "<br>It ouptput the `character_metadata_report.html` and `movies_metadata_report.html` which can be found in the repo in the folder \"Profiling_reports\" and doesn't requierd to re-run every time so we comment it."
   ]
  },
  {
   "cell_type": "code",
   "execution_count": 7,
   "metadata": {},
   "outputs": [],
   "source": [
    "# # profile the movies metadata dataframe using pandas profiling library than save the report to a html file\n",
    "# movies_metadata.profile_report(title='Movies Metadata Report').to_file(output_file=\"Profiling_reports/movies_metadata_report.html\")\n"
   ]
  },
  {
   "cell_type": "code",
   "execution_count": 8,
   "metadata": {},
   "outputs": [],
   "source": [
    "# # profile the character metadata dataframe using pandas profiling library than save the report to a html file\n",
    "# character_metadata.profile_report(title='Character Metadata Report').to_file(output_file=\"Profiling_reports/character_metadata_report.html\")\n"
   ]
  },
  {
   "cell_type": "markdown",
   "metadata": {},
   "source": [
    "We remark that for movies the `Movie_box_office_revenue`, `Movie_runtime` columns have some missing values and we face the same problems with those columns `Character_name`, `Actor_date_of_birth`, `Actor_height_(in_meters)`, `Actor_ethnicity` in the actor dataset. We'll probably not use most of them except for the boxoffice revenue and the ethnicity who could be interresting but will need some scarping to add missing values."
   ]
  },
  {
   "cell_type": "markdown",
   "metadata": {},
   "source": [
    "## 2.2 Cleaning the data"
   ]
  },
  {
   "cell_type": "markdown",
   "metadata": {},
   "source": [
    "### 2.2.1 Feature selection"
   ]
  },
  {
   "cell_type": "markdown",
   "metadata": {},
   "source": [
    "For the subsequent analysis we will drop the columns representing features we won't use. namely:\n",
    "- `Movie_box_office_revenue`, `Movie_runtime` in the movies_metadata dataset\n",
    "- `Character_name`, `Actor_height_(in_meters)`, `Actor_ethnicity`, `Actor_age_at_movie_release`, `Freebase_character/actor_map_ID`, `Freebase_character_ID` in the character_metadata dataset."
   ]
  },
  {
   "cell_type": "code",
   "execution_count": 9,
   "metadata": {},
   "outputs": [],
   "source": [
    "# drop the columns that are not needed from the movies metadata dataframe:\n",
    "movies_metadata.drop(['Movie_box_office_revenue', 'Movie_runtime'], axis=1, inplace=True)\n",
    "# drop the columns that are not needed from the character metadata dataframe:\n",
    "character_metadata.drop(['Character_name', 'Actor_height_(in_meters)', 'Actor_ethnicity', 'Actor_age_at_movie_release',\n",
    "                        'Freebase_character/actor_map_ID', 'Freebase_character_ID'], axis=1, inplace=True)\n"
   ]
  },
  {
   "cell_type": "markdown",
   "metadata": {},
   "source": [
    "### 2.2.2 movies_metadata dataset: feature pre-processing"
   ]
  },
  {
   "cell_type": "code",
   "execution_count": 10,
   "metadata": {},
   "outputs": [
    {
     "data": {
      "text/html": [
       "<div>\n",
       "<style scoped>\n",
       "    .dataframe tbody tr th:only-of-type {\n",
       "        vertical-align: middle;\n",
       "    }\n",
       "\n",
       "    .dataframe tbody tr th {\n",
       "        vertical-align: top;\n",
       "    }\n",
       "\n",
       "    .dataframe thead th {\n",
       "        text-align: right;\n",
       "    }\n",
       "</style>\n",
       "<table border=\"1\" class=\"dataframe\">\n",
       "  <thead>\n",
       "    <tr style=\"text-align: right;\">\n",
       "      <th></th>\n",
       "      <th>Wikipedia_movie_ID</th>\n",
       "      <th>Freebase_movie_ID</th>\n",
       "      <th>Movie_name</th>\n",
       "      <th>Movie_release_date</th>\n",
       "      <th>Movie_languages</th>\n",
       "      <th>Movie_countries</th>\n",
       "      <th>Movie_genres</th>\n",
       "    </tr>\n",
       "  </thead>\n",
       "  <tbody>\n",
       "    <tr>\n",
       "      <th>0</th>\n",
       "      <td>975900</td>\n",
       "      <td>/m/03vyhn</td>\n",
       "      <td>Ghosts of Mars</td>\n",
       "      <td>2001-08-24</td>\n",
       "      <td>{\"/m/02h40lc\": \"English Language\"}</td>\n",
       "      <td>{\"/m/09c7w0\": \"United States of America\"}</td>\n",
       "      <td>{\"/m/01jfsb\": \"Thriller\", \"/m/06n90\": \"Science...</td>\n",
       "    </tr>\n",
       "    <tr>\n",
       "      <th>1</th>\n",
       "      <td>3196793</td>\n",
       "      <td>/m/08yl5d</td>\n",
       "      <td>Getting Away with Murder: The JonBenét Ramsey ...</td>\n",
       "      <td>2000-02-16</td>\n",
       "      <td>{\"/m/02h40lc\": \"English Language\"}</td>\n",
       "      <td>{\"/m/09c7w0\": \"United States of America\"}</td>\n",
       "      <td>{\"/m/02n4kr\": \"Mystery\", \"/m/03bxz7\": \"Biograp...</td>\n",
       "    </tr>\n",
       "    <tr>\n",
       "      <th>2</th>\n",
       "      <td>28463795</td>\n",
       "      <td>/m/0crgdbh</td>\n",
       "      <td>Brun bitter</td>\n",
       "      <td>1988</td>\n",
       "      <td>{\"/m/05f_3\": \"Norwegian Language\"}</td>\n",
       "      <td>{\"/m/05b4w\": \"Norway\"}</td>\n",
       "      <td>{\"/m/0lsxr\": \"Crime Fiction\", \"/m/07s9rl0\": \"D...</td>\n",
       "    </tr>\n",
       "    <tr>\n",
       "      <th>3</th>\n",
       "      <td>9363483</td>\n",
       "      <td>/m/0285_cd</td>\n",
       "      <td>White Of The Eye</td>\n",
       "      <td>1987</td>\n",
       "      <td>{\"/m/02h40lc\": \"English Language\"}</td>\n",
       "      <td>{\"/m/07ssc\": \"United Kingdom\"}</td>\n",
       "      <td>{\"/m/01jfsb\": \"Thriller\", \"/m/0glj9q\": \"Erotic...</td>\n",
       "    </tr>\n",
       "    <tr>\n",
       "      <th>4</th>\n",
       "      <td>261236</td>\n",
       "      <td>/m/01mrr1</td>\n",
       "      <td>A Woman in Flames</td>\n",
       "      <td>1983</td>\n",
       "      <td>{\"/m/04306rv\": \"German Language\"}</td>\n",
       "      <td>{\"/m/0345h\": \"Germany\"}</td>\n",
       "      <td>{\"/m/07s9rl0\": \"Drama\"}</td>\n",
       "    </tr>\n",
       "    <tr>\n",
       "      <th>...</th>\n",
       "      <td>...</td>\n",
       "      <td>...</td>\n",
       "      <td>...</td>\n",
       "      <td>...</td>\n",
       "      <td>...</td>\n",
       "      <td>...</td>\n",
       "      <td>...</td>\n",
       "    </tr>\n",
       "    <tr>\n",
       "      <th>81736</th>\n",
       "      <td>35228177</td>\n",
       "      <td>/m/0j7hxnt</td>\n",
       "      <td>Mermaids: The Body Found</td>\n",
       "      <td>2011-03-19</td>\n",
       "      <td>{\"/m/02h40lc\": \"English Language\"}</td>\n",
       "      <td>{\"/m/09c7w0\": \"United States of America\"}</td>\n",
       "      <td>{\"/m/07s9rl0\": \"Drama\"}</td>\n",
       "    </tr>\n",
       "    <tr>\n",
       "      <th>81737</th>\n",
       "      <td>34980460</td>\n",
       "      <td>/m/0g4pl34</td>\n",
       "      <td>Knuckle</td>\n",
       "      <td>2011-01-21</td>\n",
       "      <td>{\"/m/02h40lc\": \"English Language\"}</td>\n",
       "      <td>{\"/m/03rt9\": \"Ireland\", \"/m/07ssc\": \"United Ki...</td>\n",
       "      <td>{\"/m/03bxz7\": \"Biographical film\", \"/m/07s9rl0...</td>\n",
       "    </tr>\n",
       "    <tr>\n",
       "      <th>81738</th>\n",
       "      <td>9971909</td>\n",
       "      <td>/m/02pygw1</td>\n",
       "      <td>Another Nice Mess</td>\n",
       "      <td>1972-09-22</td>\n",
       "      <td>{\"/m/02h40lc\": \"English Language\"}</td>\n",
       "      <td>{\"/m/09c7w0\": \"United States of America\"}</td>\n",
       "      <td>{\"/m/06nbt\": \"Satire\", \"/m/01z4y\": \"Comedy\"}</td>\n",
       "    </tr>\n",
       "    <tr>\n",
       "      <th>81739</th>\n",
       "      <td>913762</td>\n",
       "      <td>/m/03pcrp</td>\n",
       "      <td>The Super Dimension Fortress Macross II: Lover...</td>\n",
       "      <td>1992-05-21</td>\n",
       "      <td>{\"/m/03_9r\": \"Japanese Language\"}</td>\n",
       "      <td>{\"/m/03_3d\": \"Japan\"}</td>\n",
       "      <td>{\"/m/06n90\": \"Science Fiction\", \"/m/0gw5n2f\": ...</td>\n",
       "    </tr>\n",
       "    <tr>\n",
       "      <th>81740</th>\n",
       "      <td>12476867</td>\n",
       "      <td>/m/02w7zz8</td>\n",
       "      <td>Spliced</td>\n",
       "      <td>2002</td>\n",
       "      <td>{\"/m/02h40lc\": \"English Language\"}</td>\n",
       "      <td>{\"/m/0d060g\": \"Canada\"}</td>\n",
       "      <td>{\"/m/01jfsb\": \"Thriller\", \"/m/03npn\": \"Horror\"...</td>\n",
       "    </tr>\n",
       "  </tbody>\n",
       "</table>\n",
       "<p>81741 rows × 7 columns</p>\n",
       "</div>"
      ],
      "text/plain": [
       "       Wikipedia_movie_ID Freebase_movie_ID  \\\n",
       "0                  975900         /m/03vyhn   \n",
       "1                 3196793         /m/08yl5d   \n",
       "2                28463795        /m/0crgdbh   \n",
       "3                 9363483        /m/0285_cd   \n",
       "4                  261236         /m/01mrr1   \n",
       "...                   ...               ...   \n",
       "81736            35228177        /m/0j7hxnt   \n",
       "81737            34980460        /m/0g4pl34   \n",
       "81738             9971909        /m/02pygw1   \n",
       "81739              913762         /m/03pcrp   \n",
       "81740            12476867        /m/02w7zz8   \n",
       "\n",
       "                                              Movie_name Movie_release_date  \\\n",
       "0                                         Ghosts of Mars         2001-08-24   \n",
       "1      Getting Away with Murder: The JonBenét Ramsey ...         2000-02-16   \n",
       "2                                            Brun bitter               1988   \n",
       "3                                       White Of The Eye               1987   \n",
       "4                                      A Woman in Flames               1983   \n",
       "...                                                  ...                ...   \n",
       "81736                           Mermaids: The Body Found         2011-03-19   \n",
       "81737                                            Knuckle         2011-01-21   \n",
       "81738                                  Another Nice Mess         1972-09-22   \n",
       "81739  The Super Dimension Fortress Macross II: Lover...         1992-05-21   \n",
       "81740                                            Spliced               2002   \n",
       "\n",
       "                          Movie_languages  \\\n",
       "0      {\"/m/02h40lc\": \"English Language\"}   \n",
       "1      {\"/m/02h40lc\": \"English Language\"}   \n",
       "2      {\"/m/05f_3\": \"Norwegian Language\"}   \n",
       "3      {\"/m/02h40lc\": \"English Language\"}   \n",
       "4       {\"/m/04306rv\": \"German Language\"}   \n",
       "...                                   ...   \n",
       "81736  {\"/m/02h40lc\": \"English Language\"}   \n",
       "81737  {\"/m/02h40lc\": \"English Language\"}   \n",
       "81738  {\"/m/02h40lc\": \"English Language\"}   \n",
       "81739   {\"/m/03_9r\": \"Japanese Language\"}   \n",
       "81740  {\"/m/02h40lc\": \"English Language\"}   \n",
       "\n",
       "                                         Movie_countries  \\\n",
       "0              {\"/m/09c7w0\": \"United States of America\"}   \n",
       "1              {\"/m/09c7w0\": \"United States of America\"}   \n",
       "2                                 {\"/m/05b4w\": \"Norway\"}   \n",
       "3                         {\"/m/07ssc\": \"United Kingdom\"}   \n",
       "4                                {\"/m/0345h\": \"Germany\"}   \n",
       "...                                                  ...   \n",
       "81736          {\"/m/09c7w0\": \"United States of America\"}   \n",
       "81737  {\"/m/03rt9\": \"Ireland\", \"/m/07ssc\": \"United Ki...   \n",
       "81738          {\"/m/09c7w0\": \"United States of America\"}   \n",
       "81739                              {\"/m/03_3d\": \"Japan\"}   \n",
       "81740                            {\"/m/0d060g\": \"Canada\"}   \n",
       "\n",
       "                                            Movie_genres  \n",
       "0      {\"/m/01jfsb\": \"Thriller\", \"/m/06n90\": \"Science...  \n",
       "1      {\"/m/02n4kr\": \"Mystery\", \"/m/03bxz7\": \"Biograp...  \n",
       "2      {\"/m/0lsxr\": \"Crime Fiction\", \"/m/07s9rl0\": \"D...  \n",
       "3      {\"/m/01jfsb\": \"Thriller\", \"/m/0glj9q\": \"Erotic...  \n",
       "4                                {\"/m/07s9rl0\": \"Drama\"}  \n",
       "...                                                  ...  \n",
       "81736                            {\"/m/07s9rl0\": \"Drama\"}  \n",
       "81737  {\"/m/03bxz7\": \"Biographical film\", \"/m/07s9rl0...  \n",
       "81738       {\"/m/06nbt\": \"Satire\", \"/m/01z4y\": \"Comedy\"}  \n",
       "81739  {\"/m/06n90\": \"Science Fiction\", \"/m/0gw5n2f\": ...  \n",
       "81740  {\"/m/01jfsb\": \"Thriller\", \"/m/03npn\": \"Horror\"...  \n",
       "\n",
       "[81741 rows x 7 columns]"
      ]
     },
     "execution_count": 10,
     "metadata": {},
     "output_type": "execute_result"
    }
   ],
   "source": [
    "movies_metadata\n"
   ]
  },
  {
   "cell_type": "markdown",
   "metadata": {},
   "source": [
    "#### 2.2.1.1  `Movie_release_date` column"
   ]
  },
  {
   "cell_type": "code",
   "execution_count": 11,
   "metadata": {},
   "outputs": [
    {
     "data": {
      "text/plain": [
       "10.0    39373\n",
       "4.0     32172\n",
       "7.0      3294\n",
       "Name: Movie_release_date, dtype: int64"
      ]
     },
     "execution_count": 11,
     "metadata": {},
     "output_type": "execute_result"
    }
   ],
   "source": [
    "# show the unique string lengths of the release date column with their counts\n",
    "movies_metadata['Movie_release_date'].str.len().value_counts()\n"
   ]
  },
  {
   "cell_type": "code",
   "execution_count": 12,
   "metadata": {},
   "outputs": [
    {
     "name": "stdout",
     "output_type": "stream",
     "text": [
      "1972\n",
      "1959-07\n",
      "1965-08-01\n"
     ]
    }
   ],
   "source": [
    "# show exemples of dates with length 4,7 and 10 respectively\n",
    "print(movies_metadata[movies_metadata['Movie_release_date'].str.len(\n",
    ") == 4].sample(1)['Movie_release_date'].values[0])\n",
    "print(movies_metadata[movies_metadata['Movie_release_date'].str.len(\n",
    ") == 7].sample(1)['Movie_release_date'].values[0])\n",
    "print(movies_metadata[movies_metadata['Movie_release_date'].str.len(\n",
    ") == 10].sample(1)['Movie_release_date'].values[0])\n"
   ]
  },
  {
   "cell_type": "code",
   "execution_count": 13,
   "metadata": {},
   "outputs": [
    {
     "data": {
      "text/plain": [
       "6902"
      ]
     },
     "execution_count": 13,
     "metadata": {},
     "output_type": "execute_result"
    }
   ],
   "source": [
    "# show the number of missing values in the movie release date column\n",
    "movies_metadata['Movie_release_date'].isnull().sum()\n"
   ]
  },
  {
   "cell_type": "markdown",
   "metadata": {},
   "source": [
    "**Dropped**: We first convert the `Movie_release_date` column to a datetime object and then we extract the year of release, we will rename the column `Movie_release_year` to avoid confusion.\n",
    "\n",
    "\n",
    "**validated**: We strip the year from the `Movie_release_date` column as the substring before the first - character.\n"
   ]
  },
  {
   "cell_type": "code",
   "execution_count": 14,
   "metadata": {},
   "outputs": [],
   "source": [
    "# get the year from the release date column\n",
    "movies_metadata['Movie_release_year'] = movies_metadata['Movie_release_date'].str.split(\n",
    "    '-').str[0]\n",
    "# drop the release date column\n",
    "movies_metadata.drop(['Movie_release_date'], axis=1, inplace=True)"
   ]
  },
  {
   "cell_type": "markdown",
   "metadata": {},
   "source": [
    "#### 2.2.1.2 `Movie_genres` column"
   ]
  },
  {
   "cell_type": "code",
   "execution_count": 15,
   "metadata": {},
   "outputs": [],
   "source": [
    "# function that coverts the string to a dictionary\n",
    "def convert_to_dict(string):\n",
    "    if isinstance(string, str):\n",
    "        if string == '{}':\n",
    "            return {}\n",
    "        else:\n",
    "            string = string.replace('{', '').replace('}', '').replace('\"', '')\n",
    "            string = string.split(',')\n",
    "            string = [x.split(':') for x in string]\n",
    "            dictionnary = {x[0].strip(): x[1].strip() for x in string}\n",
    "            return dictionnary"
   ]
  },
  {
   "cell_type": "code",
   "execution_count": 16,
   "metadata": {},
   "outputs": [],
   "source": [
    "# apply the function to the genres column\n",
    "movies_metadata['Movie_genres'] = movies_metadata['Movie_genres'].apply(\n",
    "    convert_to_dict)\n"
   ]
  },
  {
   "cell_type": "code",
   "execution_count": 17,
   "metadata": {},
   "outputs": [
    {
     "data": {
      "text/plain": [
       "2294"
      ]
     },
     "execution_count": 17,
     "metadata": {},
     "output_type": "execute_result"
    }
   ],
   "source": [
    "# show the number of missing values in the genres column (empty dictionaries)\n",
    "movies_metadata[movies_metadata['Movie_genres'] == {}].shape[0]\n"
   ]
  },
  {
   "cell_type": "code",
   "execution_count": 18,
   "metadata": {},
   "outputs": [
    {
     "data": {
      "image/png": "[encoded data removed]",
      "text/plain": [
       "<Figure size 1440x720 with 1 Axes>"
      ]
     },
     "metadata": {
      "needs_background": "light"
     },
     "output_type": "display_data"
    }
   ],
   "source": [
    "# visualize the most common genres\n",
    "plt.figure(figsize=(20, 10))\n",
    "plt.title('Most common genres')\n",
    "plt.ylabel('Number of movies')\n",
    "sns.barplot(x=[x for x, y in Counter([x for y in movies_metadata['Movie_genres'].values for x in y.values()]).most_common(\n",
    "    20)], y=[y for x, y in Counter([x for y in movies_metadata['Movie_genres'].values for x in y.values()]).most_common(20)])\n",
    "plt.xticks(rotation=45)\n",
    "plt.show()\n"
   ]
  },
  {
   "cell_type": "code",
   "execution_count": 19,
   "metadata": {},
   "outputs": [
    {
     "data": {
      "image/png": "[encoded data removed]",
      "text/plain": [
       "<Figure size 1440x720 with 1 Axes>"
      ]
     },
     "metadata": {
      "needs_background": "light"
     },
     "output_type": "display_data"
    },
    {
     "name": "stdout",
     "output_type": "stream",
     "text": [
      "List of genres\n",
      "['Drama', 'Comedy', 'Romance Film', 'Black-and-white', 'Action', 'Thriller', 'Short Film', 'World cinema', 'Crime Fiction', 'Indie', 'Documentary', 'Horror', 'Silent film', 'Adventure', 'Family Film', 'Action/Adventure', 'Comedy film', 'Musical', 'Animation', 'Romantic drama', 'Mystery', 'Science Fiction', 'Fantasy', 'Romantic comedy', 'War film', 'Japanese Movies', 'Western', 'Crime Thriller', 'Period piece', 'Comedy-drama', 'Film adaptation', 'Chinese Movies', 'Biography', 'Psychological thriller', 'Bollywood', 'Sports', 'Biographical film', 'LGBT', 'Music', 'Family Drama', 'Black comedy', 'Parody', 'Television movie', 'Martial Arts Film', \"Children's/Family\", 'Teen', 'Coming of age', 'History', 'Political drama', 'Slasher', 'Suspense', 'Cult', 'Culture & Society', 'Melodrama', 'Satire', 'Supernatural', 'Biopic [feature]', 'Film noir', 'Slapstick', 'Historical fiction', 'Crime Drama', 'Action Thrillers', \"Children's\", 'B-movie', 'Costume drama', 'Spy', 'Art film', 'Ensemble Film', 'Anime', 'Gangster Film', 'Docudrama', 'Political cinema', 'Detective', 'Creature Film', 'Buddy film', 'Gay Themed', 'Filipino Movies', 'Road movie', 'Detective fiction', 'Sex comedy', 'Social issues', 'Historical drama', 'Pornographic movie', 'Erotica', 'Crime Comedy', 'Superhero movie', 'Concert film', 'Screwball comedy', 'Gay', 'Disaster', 'Gay Interest', \"Children's Fantasy\", 'Epic', 'Zombie Film', 'Comedy of manners', 'Experimental film', 'Family-Oriented Adventure', 'Courtroom Drama', 'Political thriller', 'Horror Comedy', 'Musical comedy', 'Computer Animation', 'Fantasy Comedy', 'Adult', 'Fantasy Adventure', 'Domestic Comedy', 'Propaganda film', 'Erotic thriller', 'Comedy of Errors', 'Rockumentary', 'Musical Drama', 'Marriage Drama', 'Avant-garde', 'Monster movie', 'Animal Picture', 'Pre-Code', 'Natural horror films', 'Heist', 'Mockumentary', 'Stop motion', 'Action Comedy', 'Christian film', 'Erotic Drama', 'Surrealism', 'Childhood Drama', 'Adventure Comedy', 'Sci-Fi Horror', 'Spaghetti Western', 'Social problem film', 'Prison', 'Swashbuckler films', 'Sexploitation', 'Wuxia', 'Superhero', 'Doomsday film', 'Film', 'Slice of life story', 'Animated cartoon', 'Monster', 'Dance', 'Alien Film', 'Holiday Film', 'Chase Movie', 'Caper story', 'Blaxploitation', 'Americana', 'Costume Adventure', 'Historical Epic', 'Political satire', 'Combat Films', 'Tragedy', 'Feminist Film', 'Workplace Comedy', 'Dystopia', 'Christmas movie', 'Stand-up comedy', 'Absurdism', 'Comedy Thriller', 'Remake', 'New Hollywood', 'Time travel', 'Media Satire', 'Law & Crime', 'Film & Television History', 'Whodunit', 'Hip hop movies', 'Medical fiction', 'Jungle Film', 'Auto racing', 'Boxing', 'Gender Issues', 'Haunted House Film', 'Gothic Film', 'Gay pornography', 'Religious Film', 'Comedy Western', 'Romantic fantasy', 'Revisionist Western', 'Punk rock', 'Tamil cinema', 'Softcore Porn', 'Nature', 'Fairy tale', 'B-Western', 'Costume Horror', 'Tragicomedy', 'Addiction Drama', 'Neo-noir', 'Juvenile Delinquency Film', 'Gross-out film', 'Gross out', 'Escape Film', 'Airplanes and airports', 'Illnesses & Disabilities', 'Animated Musical', 'Stoner film', 'Travel', 'Interpersonal Relationships', 'Sword and sorcery', 'Glamorized Spy Film', 'Animals', 'Tollywood', 'Crime', 'Samurai cinema', 'Roadshow theatrical release', 'Sword and sorcery films', 'Anti-war', 'Anti-war film', 'Fan film', 'Educational', 'Hybrid Western', 'Existentialism', 'Inspirational Drama', 'Giallo', 'Apocalyptic and post-apocalyptic fiction', 'Media Studies', 'Steampunk', 'Film \\\\u00e0 clef', 'Sci-Fi Adventure', 'Environmental Science', 'Mythological Fantasy', 'Future noir', 'Pinku eiga', 'Extreme Sports', 'Heavenly Comedy', 'Graphic & Applied Arts', 'Splatter film', 'Master Criminal Films', 'Language & Literature', 'Comedy horror', 'Dogme 95', 'Hagiography', 'Sword and Sandal', 'Backstage Musical', 'Essay Film', 'Indian Western', 'Biker Film', 'British Empire Film', 'Instrumental Music', 'Exploitation', 'Heaven-Can-Wait Fantasies', 'Northern', 'Road-Horror', 'Beach Film', 'World History', \"Children's Entertainment\", 'Fantasy Drama', 'Epic Western', 'Movie serial', 'Outlaw biker film', 'Women in prison films', 'Pornography', 'Albino bias', 'Family & Personal Relationships', 'Kitchen sink realism', 'Bengali Cinema', 'News', 'Buddy cop', 'Natural disaster', 'Anthropology', 'Cavalry Film', 'Inventions & Innovations', 'Psycho-biddy', 'Health & Fitness', 'Ealing Comedies', 'Anthology', 'British New Wave', 'Feature film', 'Horse racing', 'Space western', 'Malayalam Cinema', 'Business', 'Mondo film', 'Prison film', 'Filipino', 'Cold War', 'Archaeology', 'Hardcore pornography', 'Mumblecore', 'Foreign legion', 'Baseball', 'Czechoslovak New Wave', 'Journalism', 'Fictional film', 'Reboot', 'Acid western', 'Legal drama', 'Early Black Cinema', 'Sponsored film', 'Jukebox musical', 'Computers', 'Archives and records', 'Education', 'Filmed Play', 'Historical Documentaries', 'Race movie', 'Gulf War', 'Demonic child', 'Latino', 'Alien invasion', 'Finance & Investing', 'Movies About Gladiators', 'Science fiction Western', 'Bloopers & Candid Camera', 'Courtroom Comedy', 'Parkour in popular culture', 'Cyberpunk', 'Clay animation', 'Kafkaesque', 'Plague', 'Space opera', 'Libraries and librarians', 'Roadshow/Carny', 'Film-Opera', \"Children's Issues\", 'Psychological horror', 'Sci-Fi Thriller', 'Operetta', 'Coming-of-age film', 'Female buddy film', 'School story', 'Sci Fi Pictures original films', 'Outlaw', 'Singing cowboy', 'Tokusatsu', 'Humour', 'Werewolf fiction', 'Live action', 'Bruceploitation', 'Goat gland', 'Therimin music', 'Expressionism', 'Camp', 'Nuclear warfare', 'Z movie', 'Supermarionation', 'Vampire movies', 'Point of view shot', 'Star vehicle', 'Revenge', 'Conspiracy fiction', 'Private military company', 'Prison escape', 'Period Horror', 'Political Documetary', 'Beach Party film', 'Patriotic film', 'Ninja movie', 'The Netherlands in World War II', 'Revisionist Fairy Tale', 'C-Movie', 'Linguistics', 'Comdedy', 'Silhouette animation', 'Breakdance', 'War effort', 'Romantic thriller', 'Chick flick', 'Buddy Picture', 'Statutory rape', 'New Queer Cinema', 'Neorealism', 'Homoeroticism']\n"
     ]
    }
   ],
   "source": [
    "# visualize the distribution of the genres in log scale\n",
    "plt.figure(figsize=(20, 10))\n",
    "plt.title('Distribution of the genres')\n",
    "plt.ylabel('Number of movies')\n",
    "plt.yscale('log')\n",
    "sns.barplot(x=[x for x, y in Counter([x for y in movies_metadata['Movie_genres'].values for x in y.values()]).most_common()], y=[\n",
    "            y for x, y in Counter([x for y in movies_metadata['Movie_genres'].values for x in y.values()]).most_common()])\n",
    "plt.xticks(rotation=45, fontsize=1)\n",
    "plt.show()\n",
    "\n",
    "print('List of genres')\n",
    "print([x for x, y in Counter([x for y in movies_metadata['Movie_genres'].values for x in y.values()]).most_common()])"
   ]
  },
  {
   "cell_type": "markdown",
   "metadata": {},
   "source": [
    "We can easily notice that the genres distribution follows a power law."
   ]
  },
  {
   "cell_type": "markdown",
   "metadata": {},
   "source": [
    "#### 2.2.1.3 `Movie_countries` column"
   ]
  },
  {
   "cell_type": "code",
   "execution_count": 20,
   "metadata": {},
   "outputs": [
    {
     "data": {
      "text/plain": [
       "8154"
      ]
     },
     "execution_count": 20,
     "metadata": {},
     "output_type": "execute_result"
    }
   ],
   "source": [
    "# apply the same function as Movies_genre to the countries column\n",
    "movies_metadata['Movie_countries'] = movies_metadata['Movie_countries'].apply(\n",
    "    convert_to_dict)\n",
    "# show the number of missing values in the countries column (empty dictionaries)\n",
    "movies_metadata[movies_metadata['Movie_countries'] == {}].shape[0]"
   ]
  },
  {
   "cell_type": "code",
   "execution_count": 21,
   "metadata": {},
   "outputs": [
    {
     "data": {
      "text/html": [
       "<div>\n",
       "<style scoped>\n",
       "    .dataframe tbody tr th:only-of-type {\n",
       "        vertical-align: middle;\n",
       "    }\n",
       "\n",
       "    .dataframe tbody tr th {\n",
       "        vertical-align: top;\n",
       "    }\n",
       "\n",
       "    .dataframe thead th {\n",
       "        text-align: right;\n",
       "    }\n",
       "</style>\n",
       "<table border=\"1\" class=\"dataframe\">\n",
       "  <thead>\n",
       "    <tr style=\"text-align: right;\">\n",
       "      <th></th>\n",
       "      <th>Wikipedia_movie_ID</th>\n",
       "      <th>Freebase_movie_ID</th>\n",
       "      <th>Movie_name</th>\n",
       "      <th>Movie_languages</th>\n",
       "      <th>Movie_countries</th>\n",
       "      <th>Movie_genres</th>\n",
       "      <th>Movie_release_year</th>\n",
       "    </tr>\n",
       "  </thead>\n",
       "  <tbody>\n",
       "    <tr>\n",
       "      <th>0</th>\n",
       "      <td>975900</td>\n",
       "      <td>/m/03vyhn</td>\n",
       "      <td>Ghosts of Mars</td>\n",
       "      <td>{\"/m/02h40lc\": \"English Language\"}</td>\n",
       "      <td>{'/m/09c7w0': 'United States of America'}</td>\n",
       "      <td>{'/m/01jfsb': 'Thriller', '/m/06n90': 'Science...</td>\n",
       "      <td>2001</td>\n",
       "    </tr>\n",
       "    <tr>\n",
       "      <th>1</th>\n",
       "      <td>3196793</td>\n",
       "      <td>/m/08yl5d</td>\n",
       "      <td>Getting Away with Murder: The JonBenét Ramsey ...</td>\n",
       "      <td>{\"/m/02h40lc\": \"English Language\"}</td>\n",
       "      <td>{'/m/09c7w0': 'United States of America'}</td>\n",
       "      <td>{'/m/02n4kr': 'Mystery', '/m/03bxz7': 'Biograp...</td>\n",
       "      <td>2000</td>\n",
       "    </tr>\n",
       "    <tr>\n",
       "      <th>2</th>\n",
       "      <td>28463795</td>\n",
       "      <td>/m/0crgdbh</td>\n",
       "      <td>Brun bitter</td>\n",
       "      <td>{\"/m/05f_3\": \"Norwegian Language\"}</td>\n",
       "      <td>{'/m/05b4w': 'Norway'}</td>\n",
       "      <td>{'/m/0lsxr': 'Crime Fiction', '/m/07s9rl0': 'D...</td>\n",
       "      <td>1988</td>\n",
       "    </tr>\n",
       "    <tr>\n",
       "      <th>3</th>\n",
       "      <td>9363483</td>\n",
       "      <td>/m/0285_cd</td>\n",
       "      <td>White Of The Eye</td>\n",
       "      <td>{\"/m/02h40lc\": \"English Language\"}</td>\n",
       "      <td>{'/m/07ssc': 'United Kingdom'}</td>\n",
       "      <td>{'/m/01jfsb': 'Thriller', '/m/0glj9q': 'Erotic...</td>\n",
       "      <td>1987</td>\n",
       "    </tr>\n",
       "    <tr>\n",
       "      <th>4</th>\n",
       "      <td>261236</td>\n",
       "      <td>/m/01mrr1</td>\n",
       "      <td>A Woman in Flames</td>\n",
       "      <td>{\"/m/04306rv\": \"German Language\"}</td>\n",
       "      <td>{'/m/0345h': 'Germany'}</td>\n",
       "      <td>{'/m/07s9rl0': 'Drama'}</td>\n",
       "      <td>1983</td>\n",
       "    </tr>\n",
       "    <tr>\n",
       "      <th>...</th>\n",
       "      <td>...</td>\n",
       "      <td>...</td>\n",
       "      <td>...</td>\n",
       "      <td>...</td>\n",
       "      <td>...</td>\n",
       "      <td>...</td>\n",
       "      <td>...</td>\n",
       "    </tr>\n",
       "    <tr>\n",
       "      <th>81736</th>\n",
       "      <td>35228177</td>\n",
       "      <td>/m/0j7hxnt</td>\n",
       "      <td>Mermaids: The Body Found</td>\n",
       "      <td>{\"/m/02h40lc\": \"English Language\"}</td>\n",
       "      <td>{'/m/09c7w0': 'United States of America'}</td>\n",
       "      <td>{'/m/07s9rl0': 'Drama'}</td>\n",
       "      <td>2011</td>\n",
       "    </tr>\n",
       "    <tr>\n",
       "      <th>81737</th>\n",
       "      <td>34980460</td>\n",
       "      <td>/m/0g4pl34</td>\n",
       "      <td>Knuckle</td>\n",
       "      <td>{\"/m/02h40lc\": \"English Language\"}</td>\n",
       "      <td>{'/m/03rt9': 'Ireland', '/m/07ssc': 'United Ki...</td>\n",
       "      <td>{'/m/03bxz7': 'Biographical film', '/m/07s9rl0...</td>\n",
       "      <td>2011</td>\n",
       "    </tr>\n",
       "    <tr>\n",
       "      <th>81738</th>\n",
       "      <td>9971909</td>\n",
       "      <td>/m/02pygw1</td>\n",
       "      <td>Another Nice Mess</td>\n",
       "      <td>{\"/m/02h40lc\": \"English Language\"}</td>\n",
       "      <td>{'/m/09c7w0': 'United States of America'}</td>\n",
       "      <td>{'/m/06nbt': 'Satire', '/m/01z4y': 'Comedy'}</td>\n",
       "      <td>1972</td>\n",
       "    </tr>\n",
       "    <tr>\n",
       "      <th>81739</th>\n",
       "      <td>913762</td>\n",
       "      <td>/m/03pcrp</td>\n",
       "      <td>The Super Dimension Fortress Macross II: Lover...</td>\n",
       "      <td>{\"/m/03_9r\": \"Japanese Language\"}</td>\n",
       "      <td>{'/m/03_3d': 'Japan'}</td>\n",
       "      <td>{'/m/06n90': 'Science Fiction', '/m/0gw5n2f': ...</td>\n",
       "      <td>1992</td>\n",
       "    </tr>\n",
       "    <tr>\n",
       "      <th>81740</th>\n",
       "      <td>12476867</td>\n",
       "      <td>/m/02w7zz8</td>\n",
       "      <td>Spliced</td>\n",
       "      <td>{\"/m/02h40lc\": \"English Language\"}</td>\n",
       "      <td>{'/m/0d060g': 'Canada'}</td>\n",
       "      <td>{'/m/01jfsb': 'Thriller', '/m/03npn': 'Horror'...</td>\n",
       "      <td>2002</td>\n",
       "    </tr>\n",
       "  </tbody>\n",
       "</table>\n",
       "<p>81741 rows × 7 columns</p>\n",
       "</div>"
      ],
      "text/plain": [
       "       Wikipedia_movie_ID Freebase_movie_ID  \\\n",
       "0                  975900         /m/03vyhn   \n",
       "1                 3196793         /m/08yl5d   \n",
       "2                28463795        /m/0crgdbh   \n",
       "3                 9363483        /m/0285_cd   \n",
       "4                  261236         /m/01mrr1   \n",
       "...                   ...               ...   \n",
       "81736            35228177        /m/0j7hxnt   \n",
       "81737            34980460        /m/0g4pl34   \n",
       "81738             9971909        /m/02pygw1   \n",
       "81739              913762         /m/03pcrp   \n",
       "81740            12476867        /m/02w7zz8   \n",
       "\n",
       "                                              Movie_name  \\\n",
       "0                                         Ghosts of Mars   \n",
       "1      Getting Away with Murder: The JonBenét Ramsey ...   \n",
       "2                                            Brun bitter   \n",
       "3                                       White Of The Eye   \n",
       "4                                      A Woman in Flames   \n",
       "...                                                  ...   \n",
       "81736                           Mermaids: The Body Found   \n",
       "81737                                            Knuckle   \n",
       "81738                                  Another Nice Mess   \n",
       "81739  The Super Dimension Fortress Macross II: Lover...   \n",
       "81740                                            Spliced   \n",
       "\n",
       "                          Movie_languages  \\\n",
       "0      {\"/m/02h40lc\": \"English Language\"}   \n",
       "1      {\"/m/02h40lc\": \"English Language\"}   \n",
       "2      {\"/m/05f_3\": \"Norwegian Language\"}   \n",
       "3      {\"/m/02h40lc\": \"English Language\"}   \n",
       "4       {\"/m/04306rv\": \"German Language\"}   \n",
       "...                                   ...   \n",
       "81736  {\"/m/02h40lc\": \"English Language\"}   \n",
       "81737  {\"/m/02h40lc\": \"English Language\"}   \n",
       "81738  {\"/m/02h40lc\": \"English Language\"}   \n",
       "81739   {\"/m/03_9r\": \"Japanese Language\"}   \n",
       "81740  {\"/m/02h40lc\": \"English Language\"}   \n",
       "\n",
       "                                         Movie_countries  \\\n",
       "0              {'/m/09c7w0': 'United States of America'}   \n",
       "1              {'/m/09c7w0': 'United States of America'}   \n",
       "2                                 {'/m/05b4w': 'Norway'}   \n",
       "3                         {'/m/07ssc': 'United Kingdom'}   \n",
       "4                                {'/m/0345h': 'Germany'}   \n",
       "...                                                  ...   \n",
       "81736          {'/m/09c7w0': 'United States of America'}   \n",
       "81737  {'/m/03rt9': 'Ireland', '/m/07ssc': 'United Ki...   \n",
       "81738          {'/m/09c7w0': 'United States of America'}   \n",
       "81739                              {'/m/03_3d': 'Japan'}   \n",
       "81740                            {'/m/0d060g': 'Canada'}   \n",
       "\n",
       "                                            Movie_genres Movie_release_year  \n",
       "0      {'/m/01jfsb': 'Thriller', '/m/06n90': 'Science...               2001  \n",
       "1      {'/m/02n4kr': 'Mystery', '/m/03bxz7': 'Biograp...               2000  \n",
       "2      {'/m/0lsxr': 'Crime Fiction', '/m/07s9rl0': 'D...               1988  \n",
       "3      {'/m/01jfsb': 'Thriller', '/m/0glj9q': 'Erotic...               1987  \n",
       "4                                {'/m/07s9rl0': 'Drama'}               1983  \n",
       "...                                                  ...                ...  \n",
       "81736                            {'/m/07s9rl0': 'Drama'}               2011  \n",
       "81737  {'/m/03bxz7': 'Biographical film', '/m/07s9rl0...               2011  \n",
       "81738       {'/m/06nbt': 'Satire', '/m/01z4y': 'Comedy'}               1972  \n",
       "81739  {'/m/06n90': 'Science Fiction', '/m/0gw5n2f': ...               1992  \n",
       "81740  {'/m/01jfsb': 'Thriller', '/m/03npn': 'Horror'...               2002  \n",
       "\n",
       "[81741 rows x 7 columns]"
      ]
     },
     "execution_count": 21,
     "metadata": {},
     "output_type": "execute_result"
    }
   ],
   "source": [
    "movies_metadata"
   ]
  },
  {
   "cell_type": "code",
   "execution_count": 22,
   "metadata": {},
   "outputs": [
    {
     "data": {
      "image/png": "[encoded data removed]",
      "text/plain": [
       "<Figure size 432x288 with 1 Axes>"
      ]
     },
     "metadata": {
      "needs_background": "light"
     },
     "output_type": "display_data"
    },
    {
     "name": "stdout",
     "output_type": "stream",
     "text": [
      "List of countries of movie production\n",
      "['United States of America', 'India', 'United Kingdom', 'France', 'Italy', 'Japan', 'Canada', 'Germany', 'Argentina', 'Hong Kong', 'Spain', 'Australia', 'South Korea', 'Mexico', 'Netherlands', 'Sweden', 'West Germany', 'China', 'Denmark', 'Soviet Union', 'Philippines', 'Poland', 'Czechoslovakia', 'Belgium', 'New Zealand', 'Norway', 'Russia', 'Hungary', 'German Democratic Republic', 'Yugoslavia', 'Brazil', 'Ireland', 'Switzerland', 'Austria', 'Finland', 'Czech Republic', 'Israel', 'Turkey', 'England', 'Iran', 'Thailand', 'South Africa', 'Greece', 'Pakistan', 'Taiwan', 'Portugal', 'Croatia', 'Egypt', 'Romania', 'Indonesia', 'Malaysia', 'Bulgaria', 'Sri Lanka', 'Singapore', 'Iceland', 'Cambodia', 'Luxembourg', 'Bangladesh', 'Weimar Republic', 'Chile', 'Serbia', 'Morocco', 'Colombia', 'Cuba', 'Scotland', 'Algeria', 'Nepal', 'Tunisia', 'Lebanon', 'Bosnia and Herzegovina', 'Estonia', 'Burkina Faso', 'Slovakia', 'Senegal', 'Slovenia', 'Puerto Rico', 'Venezuela', 'Vietnam', 'Albania', 'Ukraine', 'Korea', 'Azerbaijan', 'Peru', 'Nigeria', 'Burma', 'Nazi Germany', 'Republic of Macedonia', 'Democratic Republic of the Congo', 'Uruguay', 'Mali', 'Socialist Federal Republic of Yugoslavia', 'Georgia', 'Serbia and Montenegro', 'Iraq', 'Lithuania', 'Kenya', 'Kingdom of Great Britain', 'United Arab Emirates', 'Armenia', 'Bolivia', 'Cameroon', 'Afghanistan', 'Federal Republic of Yugoslavia', 'Georgian SSR', 'Jamaica', 'Palestinian territories', 'Ethiopia', 'Slovak Republic', 'Mandatory Palestine', 'Uzbek SSR', 'Zimbabwe', 'Wales', 'Uzbekistan', 'Panama', 'Malta', 'Costa Rica', 'Northern Ireland', 'Kingdom of Italy', 'Monaco', 'Mongolia', 'Montenegro', 'Cyprus', 'Bhutan', 'Kuwait', 'Libya', 'Ukrainian SSR', 'Guinea', 'Bahamas', 'Congo', 'Haiti', 'Isle of Man', 'Qatar', 'Zambia', 'Aruba', 'Bahrain', 'Jordan', 'Soviet occupation zone', 'Malayalam Language', 'Crime', 'Iraqi Kurdistan', 'Turkmenistan', 'Guinea-Bissau', 'Republic of China', 'Macau', 'Palestinian Territories', 'German Language', 'Ukranian SSR']\n"
     ]
    }
   ],
   "source": [
    "# visualize the most common countries\n",
    "#plt.figure(figsize=(10, 10))\n",
    "plt.title('Most common countries of movie production')\n",
    "plt.ylabel('Number of movies')\n",
    "sns.barplot(x=[x for x, y in Counter([x for y in movies_metadata['Movie_countries'].values for x in y.values()]).most_common(\n",
    "    20)], y=[y for x, y in Counter([x for y in movies_metadata['Movie_countries'].values for x in y.values()]).most_common(20)])\n",
    "plt.xticks(rotation=90)\n",
    "plt.show()\n",
    "\n",
    "print('List of countries of movie production')\n",
    "print([x for x, y in Counter([x for y in movies_metadata['Movie_countries'].values for x in y.values()]).most_common()])\n"
   ]
  },
  {
   "cell_type": "markdown",
   "metadata": {},
   "source": [
    "#### 2.2.1.4 `Movie_languages` column"
   ]
  },
  {
   "cell_type": "code",
   "execution_count": 23,
   "metadata": {},
   "outputs": [
    {
     "data": {
      "text/plain": [
       "'{\"/m/0gtg\": \"\\\\ud801\\\\udc16\\\\ud801\\\\udc32\\\\ud801\\\\udc49\\\\ud801\\\\udc4b\\\\ud801\\\\udc4c\\\\ud801\\\\udc32\", \"/m/04306rv\": \"German Language\"}'"
      ]
     },
     "execution_count": 23,
     "metadata": {},
     "output_type": "execute_result"
    }
   ],
   "source": [
    "movies_metadata['Movie_languages'].iloc[1825]"
   ]
  },
  {
   "cell_type": "code",
   "execution_count": 24,
   "metadata": {},
   "outputs": [],
   "source": [
    "# function that converts the string to a list\n",
    "def clean_language(elt):\n",
    "    if ':' in elt:\n",
    "        elt = elt[elt.index(':') + 1 : ]\n",
    "    elt = elt.strip()\n",
    "    return elt\n",
    "\n",
    "def convert_to_list(string):\n",
    "    if isinstance(string, str):\n",
    "        if string == '{}':\n",
    "            return []\n",
    "        else:\n",
    "            string = string.replace('{', '').replace('}', '').replace('\"', '')\n",
    "            string = string.split(',')\n",
    "            string = [clean_language(x) for x in string]\n",
    "            return string"
   ]
  },
  {
   "cell_type": "code",
   "execution_count": 25,
   "metadata": {},
   "outputs": [],
   "source": [
    "# apply the function to the language column\n",
    "movies_metadata['Movie_languages'] = movies_metadata['Movie_languages'].apply(convert_to_list)"
   ]
  },
  {
   "cell_type": "code",
   "execution_count": 26,
   "metadata": {},
   "outputs": [
    {
     "data": {
      "image/png": "[encoded data removed]",
      "text/plain": [
       "<Figure size 1440x1440 with 1 Axes>"
      ]
     },
     "metadata": {
      "needs_background": "light"
     },
     "output_type": "display_data"
    },
    {
     "name": "stdout",
     "output_type": "stream",
     "text": [
      "List of languages\n",
      "['English Language', 'Hindi Language', 'Spanish Language', 'French Language', 'Silent film', 'Italian Language', 'Japanese Language', 'German Language', 'Tamil Language', 'Malayalam Language', 'Standard Mandarin', 'Telugu language', 'Russian Language', 'Cantonese', 'Korean Language', 'Dutch Language', 'Swedish Language', 'Arabic Language', 'Standard Cantonese', 'Czech Language', 'Bengali Language', 'Danish Language', 'Portuguese Language', 'Polish Language', 'Urdu Language', 'Tagalog language', 'Kannada Language', 'Mandarin Chinese', 'Serbian language', 'Hebrew Language', 'Hungarian language', 'Thai Language', 'Persian Language', 'Norwegian Language', 'Turkish Language', 'Greek Language', 'Punjabi language', 'Filipino language', 'Finnish Language', 'Chinese language', 'Croatian language', 'Romanian Language', 'American English', 'Indonesian Language', 'Serbo-Croatian', 'Malay Language', 'Latin Language', 'Sinhala Language', 'Bulgarian Language', 'Oriya Language', 'Marathi Language', 'Vietnamese Language', 'Icelandic Language', 'Khmer language', 'Yiddish Language', 'Ukrainian Language', 'Nepali Language', 'Albanian language', 'Afrikaans Language', 'Slovak Language', 'Estonian Language', 'Bhojpuri Language', 'Taiwanese', 'Swahili Language', 'Kurdish language', 'American Sign Language', 'Assamese Language', 'Armenian Language', 'Irish', 'Georgian Language', 'Bosnian language', 'Min Nan', 'Slovenian language', 'Catalan language', 'Gujarati Language', 'Zulu Language', 'Hokkien', 'Western Language', 'Wolof Language', 'Pashto language', 'Burmese Language', 'Dari', 'Tibetan languages', 'France', 'Swiss German Language', 'Farsi', 'Shanghainese', 'Macedonian Language', 'Xhosa Language', 'Mongolian language', 'Azerbaijani language', 'Romani language', 'Welsh Language', 'Navajo Language', 'Bambara language', 'M\\\\u0101ori language', 'Standard Tibetan', 'Lithuanian language', 'Amharic Language', 'Flemish language', 'Brazilian Portuguese', 'Quechua', 'Scottish Gaelic language', 'Inuktitut', 'Chinese', 'Uzbek language', 'Rajasthani language', 'South African English', 'Gaelic', 'Somali Language', 'Esperanto Language', 'Khmer', 'Central Language', 'Kinyarwanda language', 'Aramaic language', 'Plautdietsch Language', 'Hakka Language', 'Egyptian Arabic', 'Sami languages', 'French Sign Language', '\\\\ud801\\\\udc16\\\\ud801\\\\udc32\\\\ud801\\\\udc49\\\\ud801\\\\udc4b\\\\ud801\\\\udc4c\\\\ud801\\\\udc32', 'Luxembourgish language', 'Sioux language', 'Sanskrit Language', 'Hindustani language', 'Sicilian Language', 'Saami', 'North Language', 'Indian English', 'Maya', 'Yucat\\\\u00e1n Language', 'Sotho language', 'Chechen Language', 'Galician Language', 'Hawaiian language', 'Cebuano language', 'Thai', 'Northeastern Language', 'German', 'Fula language', 'Assyrian Neo-Aramaic Language', 'Australian English', 'Napoletano-Calabrese Language', 'Belarusian language', 'Klingon language', 'Corsican Language', 'Old English language', 'Hopi Language', 'Dzongkha Language', 'Jinyu Language', 'Hariyani', 'Tzotzil language', 'Chadian Arabic', 'Teochew', 'Nahuatl languages', 'Hungary', 'Italian', 'Ancient Greek', 'Algonquin Language', 'Hausa Language', 'Awadhi Language', 'Aboriginal Malay languages', 'Apache', 'Egyptian', 'Ancient', 'Hinglish', 'Shanxi', 'Japan', 'Jamaican Creole English Language', 'Hiligaynon language', 'Mende Language', 'Cree language', 'Mohawk Language', 'Gumatj Language', 'Hazaragi Language', 'Yolngu Matha', 'Crow Language', 'Frisian', 'Tulu Language', 'Classical Arabic', 'Scanian Language', 'Fulfulde', 'Adamawa Language', 'Akan Language', 'Hmong language', 'Haryanvi Language', 'Aceh Language', 'Chhattisgarhi Language', 'Sunda Language', 'Picard Language', 'Pawnee Language', 'Friulian Language', 'Tok Pisin Language', 'Cheyenne Language', 'Judeo-Georgian Language', 'Tamang language', 'Sumerian', 'Banyumasan language', 'Venetian Language', 'Kriolu', 'Maasai Language', 'Korean Sign Language', 'Southwestern Mandarin', 'Australian Aboriginal Pidgin English', 'Krio Language', 'Guanzhong Hua', 'Palawa kani', 'Maninka language', 'Osetin Language', 'Deutsch', 'Hainanese', 'Chewa language', 'Assyrian language', 'Papiamento language', 'Kuna language']\n"
     ]
    }
   ],
   "source": [
    "# show the number of missing values in the language column\n",
    "#movies_metadata[movies_metadata['Movie_languages_test'] == [[]]]\n",
    "plt.figure(figsize=(20,20))\n",
    "plt.title('Distribution of the languages')\n",
    "plt.ylabel('Number of movies')\n",
    "plt.yscale('log')\n",
    "sns.barplot(x=[x for x, y in Counter([x for y in movies_metadata['Movie_languages'].values for x in y]).most_common()], y=[\n",
    "            y for x, y in Counter([x for y in movies_metadata['Movie_languages'].values for x in y]).most_common()])\n",
    "plt.xticks(rotation=45, fontsize=1)\n",
    "plt.show()\n",
    "\n",
    "print('List of languages')\n",
    "print([x for x, y in Counter([x for y in movies_metadata['Movie_languages'].values for x in y]).most_common()])\n"
   ]
  },
  {
   "cell_type": "code",
   "execution_count": 27,
   "metadata": {},
   "outputs": [
    {
     "data": {
      "text/html": [
       "<div>\n",
       "<style scoped>\n",
       "    .dataframe tbody tr th:only-of-type {\n",
       "        vertical-align: middle;\n",
       "    }\n",
       "\n",
       "    .dataframe tbody tr th {\n",
       "        vertical-align: top;\n",
       "    }\n",
       "\n",
       "    .dataframe thead th {\n",
       "        text-align: right;\n",
       "    }\n",
       "</style>\n",
       "<table border=\"1\" class=\"dataframe\">\n",
       "  <thead>\n",
       "    <tr style=\"text-align: right;\">\n",
       "      <th></th>\n",
       "      <th>Wikipedia_movie_ID</th>\n",
       "      <th>Freebase_movie_ID</th>\n",
       "      <th>Movie_name</th>\n",
       "      <th>Movie_languages</th>\n",
       "      <th>Movie_countries</th>\n",
       "      <th>Movie_genres</th>\n",
       "      <th>Movie_release_year</th>\n",
       "    </tr>\n",
       "  </thead>\n",
       "  <tbody>\n",
       "    <tr>\n",
       "      <th>0</th>\n",
       "      <td>975900</td>\n",
       "      <td>/m/03vyhn</td>\n",
       "      <td>Ghosts of Mars</td>\n",
       "      <td>[English Language]</td>\n",
       "      <td>{'/m/09c7w0': 'United States of America'}</td>\n",
       "      <td>{'/m/01jfsb': 'Thriller', '/m/06n90': 'Science...</td>\n",
       "      <td>2001</td>\n",
       "    </tr>\n",
       "    <tr>\n",
       "      <th>1</th>\n",
       "      <td>3196793</td>\n",
       "      <td>/m/08yl5d</td>\n",
       "      <td>Getting Away with Murder: The JonBenét Ramsey ...</td>\n",
       "      <td>[English Language]</td>\n",
       "      <td>{'/m/09c7w0': 'United States of America'}</td>\n",
       "      <td>{'/m/02n4kr': 'Mystery', '/m/03bxz7': 'Biograp...</td>\n",
       "      <td>2000</td>\n",
       "    </tr>\n",
       "    <tr>\n",
       "      <th>2</th>\n",
       "      <td>28463795</td>\n",
       "      <td>/m/0crgdbh</td>\n",
       "      <td>Brun bitter</td>\n",
       "      <td>[Norwegian Language]</td>\n",
       "      <td>{'/m/05b4w': 'Norway'}</td>\n",
       "      <td>{'/m/0lsxr': 'Crime Fiction', '/m/07s9rl0': 'D...</td>\n",
       "      <td>1988</td>\n",
       "    </tr>\n",
       "    <tr>\n",
       "      <th>3</th>\n",
       "      <td>9363483</td>\n",
       "      <td>/m/0285_cd</td>\n",
       "      <td>White Of The Eye</td>\n",
       "      <td>[English Language]</td>\n",
       "      <td>{'/m/07ssc': 'United Kingdom'}</td>\n",
       "      <td>{'/m/01jfsb': 'Thriller', '/m/0glj9q': 'Erotic...</td>\n",
       "      <td>1987</td>\n",
       "    </tr>\n",
       "    <tr>\n",
       "      <th>4</th>\n",
       "      <td>261236</td>\n",
       "      <td>/m/01mrr1</td>\n",
       "      <td>A Woman in Flames</td>\n",
       "      <td>[German Language]</td>\n",
       "      <td>{'/m/0345h': 'Germany'}</td>\n",
       "      <td>{'/m/07s9rl0': 'Drama'}</td>\n",
       "      <td>1983</td>\n",
       "    </tr>\n",
       "    <tr>\n",
       "      <th>...</th>\n",
       "      <td>...</td>\n",
       "      <td>...</td>\n",
       "      <td>...</td>\n",
       "      <td>...</td>\n",
       "      <td>...</td>\n",
       "      <td>...</td>\n",
       "      <td>...</td>\n",
       "    </tr>\n",
       "    <tr>\n",
       "      <th>81736</th>\n",
       "      <td>35228177</td>\n",
       "      <td>/m/0j7hxnt</td>\n",
       "      <td>Mermaids: The Body Found</td>\n",
       "      <td>[English Language]</td>\n",
       "      <td>{'/m/09c7w0': 'United States of America'}</td>\n",
       "      <td>{'/m/07s9rl0': 'Drama'}</td>\n",
       "      <td>2011</td>\n",
       "    </tr>\n",
       "    <tr>\n",
       "      <th>81737</th>\n",
       "      <td>34980460</td>\n",
       "      <td>/m/0g4pl34</td>\n",
       "      <td>Knuckle</td>\n",
       "      <td>[English Language]</td>\n",
       "      <td>{'/m/03rt9': 'Ireland', '/m/07ssc': 'United Ki...</td>\n",
       "      <td>{'/m/03bxz7': 'Biographical film', '/m/07s9rl0...</td>\n",
       "      <td>2011</td>\n",
       "    </tr>\n",
       "    <tr>\n",
       "      <th>81738</th>\n",
       "      <td>9971909</td>\n",
       "      <td>/m/02pygw1</td>\n",
       "      <td>Another Nice Mess</td>\n",
       "      <td>[English Language]</td>\n",
       "      <td>{'/m/09c7w0': 'United States of America'}</td>\n",
       "      <td>{'/m/06nbt': 'Satire', '/m/01z4y': 'Comedy'}</td>\n",
       "      <td>1972</td>\n",
       "    </tr>\n",
       "    <tr>\n",
       "      <th>81739</th>\n",
       "      <td>913762</td>\n",
       "      <td>/m/03pcrp</td>\n",
       "      <td>The Super Dimension Fortress Macross II: Lover...</td>\n",
       "      <td>[Japanese Language]</td>\n",
       "      <td>{'/m/03_3d': 'Japan'}</td>\n",
       "      <td>{'/m/06n90': 'Science Fiction', '/m/0gw5n2f': ...</td>\n",
       "      <td>1992</td>\n",
       "    </tr>\n",
       "    <tr>\n",
       "      <th>81740</th>\n",
       "      <td>12476867</td>\n",
       "      <td>/m/02w7zz8</td>\n",
       "      <td>Spliced</td>\n",
       "      <td>[English Language]</td>\n",
       "      <td>{'/m/0d060g': 'Canada'}</td>\n",
       "      <td>{'/m/01jfsb': 'Thriller', '/m/03npn': 'Horror'...</td>\n",
       "      <td>2002</td>\n",
       "    </tr>\n",
       "  </tbody>\n",
       "</table>\n",
       "<p>81741 rows × 7 columns</p>\n",
       "</div>"
      ],
      "text/plain": [
       "       Wikipedia_movie_ID Freebase_movie_ID  \\\n",
       "0                  975900         /m/03vyhn   \n",
       "1                 3196793         /m/08yl5d   \n",
       "2                28463795        /m/0crgdbh   \n",
       "3                 9363483        /m/0285_cd   \n",
       "4                  261236         /m/01mrr1   \n",
       "...                   ...               ...   \n",
       "81736            35228177        /m/0j7hxnt   \n",
       "81737            34980460        /m/0g4pl34   \n",
       "81738             9971909        /m/02pygw1   \n",
       "81739              913762         /m/03pcrp   \n",
       "81740            12476867        /m/02w7zz8   \n",
       "\n",
       "                                              Movie_name  \\\n",
       "0                                         Ghosts of Mars   \n",
       "1      Getting Away with Murder: The JonBenét Ramsey ...   \n",
       "2                                            Brun bitter   \n",
       "3                                       White Of The Eye   \n",
       "4                                      A Woman in Flames   \n",
       "...                                                  ...   \n",
       "81736                           Mermaids: The Body Found   \n",
       "81737                                            Knuckle   \n",
       "81738                                  Another Nice Mess   \n",
       "81739  The Super Dimension Fortress Macross II: Lover...   \n",
       "81740                                            Spliced   \n",
       "\n",
       "            Movie_languages  \\\n",
       "0        [English Language]   \n",
       "1        [English Language]   \n",
       "2      [Norwegian Language]   \n",
       "3        [English Language]   \n",
       "4         [German Language]   \n",
       "...                     ...   \n",
       "81736    [English Language]   \n",
       "81737    [English Language]   \n",
       "81738    [English Language]   \n",
       "81739   [Japanese Language]   \n",
       "81740    [English Language]   \n",
       "\n",
       "                                         Movie_countries  \\\n",
       "0              {'/m/09c7w0': 'United States of America'}   \n",
       "1              {'/m/09c7w0': 'United States of America'}   \n",
       "2                                 {'/m/05b4w': 'Norway'}   \n",
       "3                         {'/m/07ssc': 'United Kingdom'}   \n",
       "4                                {'/m/0345h': 'Germany'}   \n",
       "...                                                  ...   \n",
       "81736          {'/m/09c7w0': 'United States of America'}   \n",
       "81737  {'/m/03rt9': 'Ireland', '/m/07ssc': 'United Ki...   \n",
       "81738          {'/m/09c7w0': 'United States of America'}   \n",
       "81739                              {'/m/03_3d': 'Japan'}   \n",
       "81740                            {'/m/0d060g': 'Canada'}   \n",
       "\n",
       "                                            Movie_genres Movie_release_year  \n",
       "0      {'/m/01jfsb': 'Thriller', '/m/06n90': 'Science...               2001  \n",
       "1      {'/m/02n4kr': 'Mystery', '/m/03bxz7': 'Biograp...               2000  \n",
       "2      {'/m/0lsxr': 'Crime Fiction', '/m/07s9rl0': 'D...               1988  \n",
       "3      {'/m/01jfsb': 'Thriller', '/m/0glj9q': 'Erotic...               1987  \n",
       "4                                {'/m/07s9rl0': 'Drama'}               1983  \n",
       "...                                                  ...                ...  \n",
       "81736                            {'/m/07s9rl0': 'Drama'}               2011  \n",
       "81737  {'/m/03bxz7': 'Biographical film', '/m/07s9rl0...               2011  \n",
       "81738       {'/m/06nbt': 'Satire', '/m/01z4y': 'Comedy'}               1972  \n",
       "81739  {'/m/06n90': 'Science Fiction', '/m/0gw5n2f': ...               1992  \n",
       "81740  {'/m/01jfsb': 'Thriller', '/m/03npn': 'Horror'...               2002  \n",
       "\n",
       "[81741 rows x 7 columns]"
      ]
     },
     "execution_count": 27,
     "metadata": {},
     "output_type": "execute_result"
    }
   ],
   "source": [
    "# Storing the cleaned dataset for further use\n",
    "movies_metadata.to_csv('./CSV_files/all_movies_metadata.csv')\n",
    "movies_metadata"
   ]
  },
  {
   "cell_type": "markdown",
   "metadata": {},
   "source": [
    "### 2.2.3 **character_metadata** dataset: feature pre-processing"
   ]
  },
  {
   "cell_type": "markdown",
   "metadata": {},
   "source": [
    "#### 2.2.3.1 `Movie_release_date` column"
   ]
  },
  {
   "cell_type": "code",
   "execution_count": 28,
   "metadata": {},
   "outputs": [
    {
     "name": "stdout",
     "output_type": "stream",
     "text": [
      "Number of missing values in the movie release year column: 9995\n"
     ]
    }
   ],
   "source": [
    "# As we did with the movies metadata dataframe, we will get the year from the release date column\n",
    "character_metadata['Movie_release_year'] = character_metadata['Movie_release_date'].str.split(\n",
    "    '-').str[0]\n",
    "# drop the release date column\n",
    "character_metadata.drop(['Movie_release_date'], axis=1, inplace=True)\n",
    "\n",
    "# show the number of missing values in the movie release year column\n",
    "print('Number of missing values in the movie release year column: {}'.format(\n",
    "    character_metadata['Movie_release_year'].isnull().sum()))\n",
    "# fill the missing values in the movie release year column with the median\n",
    "character_metadata['Movie_release_year'].fillna(\n",
    "    character_metadata['Movie_release_year'].median(), inplace=True)\n"
   ]
  },
  {
   "cell_type": "code",
   "execution_count": 29,
   "metadata": {},
   "outputs": [
    {
     "name": "stdout",
     "output_type": "stream",
     "text": [
      "Unique values: [1010 1888 1891 1893 1894 1895 1896 1897 1898 1899 1900 1901 1902 1903\n",
      " 1904 1905 1906 1907 1908 1909 1910 1911 1912 1913 1914 1915 1916 1917\n",
      " 1918 1919 1920 1921 1922 1923 1924 1925 1926 1927 1928 1929 1930 1931\n",
      " 1932 1933 1934 1935 1936 1937 1938 1939 1940 1941 1942 1943 1944 1945\n",
      " 1946 1947 1948 1949 1950 1951 1952 1953 1954 1955 1956 1957 1958 1959\n",
      " 1960 1961 1962 1963 1964 1965 1966 1967 1968 1969 1970 1971 1972 1973\n",
      " 1974 1975 1976 1977 1978 1979 1980 1981 1982 1983 1984 1985 1986 1987\n",
      " 1988 1989 1990 1991 1992 1993 1994 1994 1995 1996 1997 1998 1999 2000\n",
      " 2001 2002 2003 2004 2005 2006 2007 2008 2009 2010 2011 2012 2013 2014\n",
      " 2015 2016]\n",
      "Min: 1010\n",
      "Max: 2016\n"
     ]
    }
   ],
   "source": [
    "# show the unique values of the movie release year column\n",
    "years = character_metadata['Movie_release_year'].unique().astype(int)\n",
    "years.sort()\n",
    "print('Unique values: {}'.format(years))\n",
    "# replace '1010' with '2010'\n",
    "character_metadata['Movie_release_year'] = character_metadata['Movie_release_year'].replace(\n",
    "    '1010', '2010')\n",
    "# find the interval of the movie release year column\n",
    "print('Min: {}'.format(years.min()))\n",
    "print('Max: {}'.format(years.max()))\n"
   ]
  },
  {
   "cell_type": "code",
   "execution_count": 30,
   "metadata": {},
   "outputs": [
    {
     "data": {
      "image/png": "[encoded data removed]",
      "text/plain": [
       "<Figure size 1440x720 with 1 Axes>"
      ]
     },
     "metadata": {
      "needs_background": "light"
     },
     "output_type": "display_data"
    }
   ],
   "source": [
    "# visulaise the distribution of movie release year column\n",
    "plt.figure(figsize=(20, 10))\n",
    "plt.title('Distribution of movie release year')\n",
    "plt.ylabel('Number of movies')\n",
    "sns.barplot(x=character_metadata['Movie_release_year'].value_counts(\n",
    ").index, y=character_metadata['Movie_release_year'].value_counts().values)\n",
    "ax = plt.xticks(rotation=90, fontsize=10)\n"
   ]
  },
  {
   "cell_type": "markdown",
   "metadata": {},
   "source": [
    "#### 2.2.3.2 `Actor_date_of_birth` column"
   ]
  },
  {
   "cell_type": "code",
   "execution_count": 31,
   "metadata": {},
   "outputs": [
    {
     "data": {
      "text/plain": [
       "106145"
      ]
     },
     "execution_count": 31,
     "metadata": {},
     "output_type": "execute_result"
    }
   ],
   "source": [
    "# As we did with the previous column, we will get the year from the actor date of birth column\n",
    "character_metadata['Actor_year_of_birth'] = character_metadata['Actor_date_of_birth'].str.split(\n",
    "    '-').str[0]\n",
    "# drop the actor date of birth column\n",
    "character_metadata.drop(['Actor_date_of_birth'], axis=1, inplace=True)\n",
    "# show the number of missing values in the actor year of birth column\n",
    "character_metadata['Actor_year_of_birth'].isnull().sum()\n"
   ]
  },
  {
   "cell_type": "markdown",
   "metadata": {},
   "source": [
    "#### 2.2.3.3 `Actor_name` column"
   ]
  },
  {
   "cell_type": "markdown",
   "metadata": {},
   "source": [
    "We aim to create a network between actors as nodes and movies as edges. Therfore we need to match those two different dataframes. The `Wikipedia_movie_ID` and `Freebase_movie_ID` are perfect for that as they have no missing values. <br>\n",
    "Furthermore we choose to use `Actor_name` as identifier for the actors as it is more understandable than the Freebase ID. As we will use it as identifier we will need to assure us that each Actor_name relates to a unique actor. And we also want to check if there is some typos in the actor names."
   ]
  },
  {
   "cell_type": "code",
   "execution_count": 32,
   "metadata": {},
   "outputs": [],
   "source": [
    "# first filter the characters where the actor name is null\n",
    "character_metadata = character_metadata.dropna(subset=['Actor_name'])\n"
   ]
  },
  {
   "cell_type": "markdown",
   "metadata": {},
   "source": [
    "Let's start to see if actor names link to a unique ID. This is necessary if we want to use it as identifier. <br>\n",
    "__Note:__ The following tests take a lot of times and are just there to see if somethings is wrong, once we know it we didn't need to re-run it so we commented it."
   ]
  },
  {
   "cell_type": "code",
   "execution_count": 33,
   "metadata": {},
   "outputs": [],
   "source": [
    "# # check if every same actor_names refer to same actor_id\n",
    "# for a in actors_unique.Actor_name:\n",
    "#     same_name = character_metadata.query(\"`Actor_name` == @a\")\n",
    "#     if same_name.Freebase_actor_ID.nunique() > 1:\n",
    "#         print(a, same_name.Freebase_actor_ID.unique())\n"
   ]
  },
  {
   "cell_type": "markdown",
   "metadata": {},
   "source": [
    "We remark that some actors have the same `Actor_name` ! \n",
    "> This mean we can't use it as an identifier as we planned but we'll need to use the Freebase ID instead."
   ]
  },
  {
   "cell_type": "markdown",
   "metadata": {},
   "source": [
    "However we would like to use the actor names and can't ignore the typo question. We tried a naive way with the `get_close_matches` function which return us similar strings. \n",
    "But we have ~100'000 different names which take a lot of time but also gives way to much matches. The problem is that we should check them by hand which isn't possible. <br>\n",
    "Therefore we won't use the first method on the full dataset but later on after having created a smaller dataset we'll use."
   ]
  },
  {
   "cell_type": "code",
   "execution_count": 34,
   "metadata": {},
   "outputs": [],
   "source": [
    "# # for n in actors_unique.Actor_name:\n",
    "#     if type(n) == t:\n",
    "#         match = get_close_matches(n,actors_unique.Actor_name , cutoff=0.9)\n",
    "#         if len(match) > 1:\n",
    "#             print(match)\n"
   ]
  },
  {
   "cell_type": "markdown",
   "metadata": {},
   "source": [
    "We thought to compare if a an id refer to more than one name. As expected it isn't the case, certainly because names and id were scrapped in the same pages."
   ]
  },
  {
   "cell_type": "code",
   "execution_count": 35,
   "metadata": {},
   "outputs": [],
   "source": [
    "# create a dataframe referencing every unique id\n",
    "# actor_id_unique = character_metadata.drop_duplicates('Freebase_actor_ID')\n",
    "# for i in actor_id_unique.Freebase_actor_ID:\n",
    "#     same_name = character_metadata.query(\"`Freebase_actor_ID` == @i\")\n",
    "#     if same_name.Actor_name.nunique() > 1:\n",
    "#         print(\"Freebase id: \", i, \" | names: \", same_name.unique())\n"
   ]
  },
  {
   "cell_type": "code",
   "execution_count": 36,
   "metadata": {
    "tags": []
   },
   "outputs": [
    {
     "name": "stdout",
     "output_type": "stream",
     "text": [
      "Number of characters before filter:  449441\n",
      "Number of characters after filter:  449441\n",
      "Number of characters removed:  0\n"
     ]
    }
   ],
   "source": [
    "# filter characters metadata dataframe to keep only the characters where the actor name is not null\n",
    "characters_before_filter = character_metadata.shape[0]\n",
    "character_metadata = character_metadata[character_metadata['Freebase_actor_ID'].notnull(\n",
    ")]\n",
    "#character_metadata = character_metadata[character_metadata['Freebase_actor_ID'].notnull() & character_metadata['Actor_name'].notnull()]\n",
    "# show how many characters were originally in the dataframe, how many were removed and how many are left\n",
    "print('Number of characters before filter: ', characters_before_filter)\n",
    "print('Number of characters after filter: ', character_metadata.shape[0])\n",
    "print('Number of characters removed: ',\n",
    "      characters_before_filter - character_metadata.shape[0])\n"
   ]
  },
  {
   "cell_type": "markdown",
   "metadata": {},
   "source": [
    "We need movies that have at least 2 actors to connect the nodes."
   ]
  },
  {
   "cell_type": "code",
   "execution_count": 37,
   "metadata": {},
   "outputs": [
    {
     "name": "stdout",
     "output_type": "stream",
     "text": [
      "Number of movies before filter:  64258\n",
      "Number of movies after filter:  48770\n",
      "Number of movies removed:  15488\n"
     ]
    }
   ],
   "source": [
    "# list the characters of each movie in a list and the actors of each movie in a list\n",
    "actors = character_metadata.groupby('Wikipedia_movie_ID')['Freebase_actor_ID'].apply(\n",
    "    list).reset_index().rename(columns={'Freebase_actor_ID': 'Freebase_actor_IDs'})\n",
    "# count the actors of each movie\n",
    "actors['Number_of_actors'] = actors['Freebase_actor_IDs'].apply(\n",
    "    lambda x: len(x))\n",
    "# filter the actors dataframe to keep only the movies with more than 2 actors\n",
    "actors = actors[actors['Number_of_actors'] > 2].reset_index(drop=True)\n",
    "# show the number of movies before and after the filter and how many movies were removed\n",
    "print('Number of movies before filter: ',\n",
    "      character_metadata['Wikipedia_movie_ID'].nunique())\n",
    "print('Number of movies after filter: ', actors.shape[0])\n",
    "print('Number of movies removed: ',\n",
    "      character_metadata['Wikipedia_movie_ID'].nunique() - actors.shape[0])\n"
   ]
  },
  {
   "cell_type": "markdown",
   "metadata": {},
   "source": [
    "## 2.3 Further exploration of cleaned data"
   ]
  },
  {
   "cell_type": "markdown",
   "metadata": {},
   "source": [
    "Now that we have drop the data that won't be usefull we can start analysing it."
   ]
  },
  {
   "cell_type": "code",
   "execution_count": 38,
   "metadata": {},
   "outputs": [
    {
     "data": {
      "text/html": [
       "<div>\n",
       "<style scoped>\n",
       "    .dataframe tbody tr th:only-of-type {\n",
       "        vertical-align: middle;\n",
       "    }\n",
       "\n",
       "    .dataframe tbody tr th {\n",
       "        vertical-align: top;\n",
       "    }\n",
       "\n",
       "    .dataframe thead th {\n",
       "        text-align: right;\n",
       "    }\n",
       "</style>\n",
       "<table border=\"1\" class=\"dataframe\">\n",
       "  <thead>\n",
       "    <tr style=\"text-align: right;\">\n",
       "      <th></th>\n",
       "      <th>Wikipedia_movie_ID</th>\n",
       "      <th>Freebase_actor_IDs</th>\n",
       "      <th>Number_of_actors</th>\n",
       "    </tr>\n",
       "  </thead>\n",
       "  <tbody>\n",
       "    <tr>\n",
       "      <th>0</th>\n",
       "      <td>330</td>\n",
       "      <td>[/m/0gh6sw, /m/0267qhz, /m/0263499, /m/0263yvy]</td>\n",
       "      <td>4</td>\n",
       "    </tr>\n",
       "    <tr>\n",
       "      <th>1</th>\n",
       "      <td>3217</td>\n",
       "      <td>[/m/07qn0, /m/0gmjf8, /m/01h8f, /m/01h8f, /m/0...</td>\n",
       "      <td>14</td>\n",
       "    </tr>\n",
       "    <tr>\n",
       "      <th>2</th>\n",
       "      <td>3333</td>\n",
       "      <td>[/m/01c2sl, /m/0bkrvh, /m/0735gw, /m/0krxq4, /...</td>\n",
       "      <td>14</td>\n",
       "    </tr>\n",
       "    <tr>\n",
       "      <th>3</th>\n",
       "      <td>3746</td>\n",
       "      <td>[/m/05wqr1, /m/0c0k1, /m/09byk, /m/0380zg, /m/...</td>\n",
       "      <td>15</td>\n",
       "    </tr>\n",
       "    <tr>\n",
       "      <th>4</th>\n",
       "      <td>3837</td>\n",
       "      <td>[/m/06l6sp, /m/0hn04, /m/02x5ztx, /m/0dk54c, /...</td>\n",
       "      <td>20</td>\n",
       "    </tr>\n",
       "    <tr>\n",
       "      <th>...</th>\n",
       "      <td>...</td>\n",
       "      <td>...</td>\n",
       "      <td>...</td>\n",
       "    </tr>\n",
       "    <tr>\n",
       "      <th>48765</th>\n",
       "      <td>37322106</td>\n",
       "      <td>[/m/08ch36, /m/01zh29, /m/04lgc34]</td>\n",
       "      <td>3</td>\n",
       "    </tr>\n",
       "    <tr>\n",
       "      <th>48766</th>\n",
       "      <td>37373877</td>\n",
       "      <td>[/m/03s_y5, /m/018fyy, /m/02n305, /m/04646h, /...</td>\n",
       "      <td>7</td>\n",
       "    </tr>\n",
       "    <tr>\n",
       "      <th>48767</th>\n",
       "      <td>37476824</td>\n",
       "      <td>[/m/06dzgl, /m/03t8_m, /m/0tj9, /m/0486gk, /m/...</td>\n",
       "      <td>10</td>\n",
       "    </tr>\n",
       "    <tr>\n",
       "      <th>48768</th>\n",
       "      <td>37478048</td>\n",
       "      <td>[/m/0292l3, /m/03j367r, /m/067jsf, /m/06pwf6]</td>\n",
       "      <td>4</td>\n",
       "    </tr>\n",
       "    <tr>\n",
       "      <th>48769</th>\n",
       "      <td>37492363</td>\n",
       "      <td>[/m/0g4tzm9, /m/0g4tzmn, /m/0g4tzm_]</td>\n",
       "      <td>3</td>\n",
       "    </tr>\n",
       "  </tbody>\n",
       "</table>\n",
       "<p>48770 rows × 3 columns</p>\n",
       "</div>"
      ],
      "text/plain": [
       "       Wikipedia_movie_ID                                 Freebase_actor_IDs  \\\n",
       "0                     330    [/m/0gh6sw, /m/0267qhz, /m/0263499, /m/0263yvy]   \n",
       "1                    3217  [/m/07qn0, /m/0gmjf8, /m/01h8f, /m/01h8f, /m/0...   \n",
       "2                    3333  [/m/01c2sl, /m/0bkrvh, /m/0735gw, /m/0krxq4, /...   \n",
       "3                    3746  [/m/05wqr1, /m/0c0k1, /m/09byk, /m/0380zg, /m/...   \n",
       "4                    3837  [/m/06l6sp, /m/0hn04, /m/02x5ztx, /m/0dk54c, /...   \n",
       "...                   ...                                                ...   \n",
       "48765            37322106                 [/m/08ch36, /m/01zh29, /m/04lgc34]   \n",
       "48766            37373877  [/m/03s_y5, /m/018fyy, /m/02n305, /m/04646h, /...   \n",
       "48767            37476824  [/m/06dzgl, /m/03t8_m, /m/0tj9, /m/0486gk, /m/...   \n",
       "48768            37478048      [/m/0292l3, /m/03j367r, /m/067jsf, /m/06pwf6]   \n",
       "48769            37492363               [/m/0g4tzm9, /m/0g4tzmn, /m/0g4tzm_]   \n",
       "\n",
       "       Number_of_actors  \n",
       "0                     4  \n",
       "1                    14  \n",
       "2                    14  \n",
       "3                    15  \n",
       "4                    20  \n",
       "...                 ...  \n",
       "48765                 3  \n",
       "48766                 7  \n",
       "48767                10  \n",
       "48768                 4  \n",
       "48769                 3  \n",
       "\n",
       "[48770 rows x 3 columns]"
      ]
     },
     "execution_count": 38,
     "metadata": {},
     "output_type": "execute_result"
    }
   ],
   "source": [
    "# Firstly print the new dataframe merging movies and actors\n",
    "actors\n"
   ]
  },
  {
   "cell_type": "code",
   "execution_count": 39,
   "metadata": {},
   "outputs": [
    {
     "data": {
      "image/png": "[encoded data removed]",
      "text/plain": [
       "<Figure size 1080x360 with 1 Axes>"
      ]
     },
     "metadata": {
      "needs_background": "light"
     },
     "output_type": "display_data"
    }
   ],
   "source": [
    "plot = sns.displot(actors['Wikipedia_movie_ID'], x=actors['Number_of_actors'],\n",
    "                   log=True, discrete=True, aspect=3)\n",
    "plot = plot.set(title='Distribution of the number of actors per movie',\n",
    "                xlabel='Number of actors',\n",
    "                ylabel='Number of movies')\n"
   ]
  },
  {
   "cell_type": "markdown",
   "metadata": {},
   "source": [
    "# 3. Creating a network of actors"
   ]
  },
  {
   "cell_type": "markdown",
   "metadata": {},
   "source": [
    "It's now time to creat a first network"
   ]
  },
  {
   "cell_type": "markdown",
   "metadata": {},
   "source": [
    "## 3.1 Processing the data"
   ]
  },
  {
   "cell_type": "code",
   "execution_count": 40,
   "metadata": {},
   "outputs": [],
   "source": [
    "# one actor per line in the new dataframe\n",
    "actors_new_meta = actors.merge(character_metadata[[\n",
    "    'Actor_name', 'Freebase_actor_ID', 'Wikipedia_movie_ID', 'Movie_release_year']], on='Wikipedia_movie_ID', how='inner')\n"
   ]
  },
  {
   "cell_type": "code",
   "execution_count": 41,
   "metadata": {},
   "outputs": [
    {
     "data": {
      "text/html": [
       "<div>\n",
       "<style scoped>\n",
       "    .dataframe tbody tr th:only-of-type {\n",
       "        vertical-align: middle;\n",
       "    }\n",
       "\n",
       "    .dataframe tbody tr th {\n",
       "        vertical-align: top;\n",
       "    }\n",
       "\n",
       "    .dataframe thead th {\n",
       "        text-align: right;\n",
       "    }\n",
       "</style>\n",
       "<table border=\"1\" class=\"dataframe\">\n",
       "  <thead>\n",
       "    <tr style=\"text-align: right;\">\n",
       "      <th></th>\n",
       "      <th>Wikipedia_movie_ID</th>\n",
       "      <th>Freebase_actor_IDs</th>\n",
       "      <th>Number_of_actors</th>\n",
       "      <th>Actor_name</th>\n",
       "      <th>Freebase_actor_ID</th>\n",
       "      <th>Movie_release_year</th>\n",
       "    </tr>\n",
       "  </thead>\n",
       "  <tbody>\n",
       "    <tr>\n",
       "      <th>0</th>\n",
       "      <td>330</td>\n",
       "      <td>[/m/0gh6sw, /m/0267qhz, /m/0263499, /m/0263yvy]</td>\n",
       "      <td>4</td>\n",
       "      <td>Rosa Maria Sardà</td>\n",
       "      <td>/m/0gh6sw</td>\n",
       "      <td>1996</td>\n",
       "    </tr>\n",
       "    <tr>\n",
       "      <th>1</th>\n",
       "      <td>330</td>\n",
       "      <td>[/m/0gh6sw, /m/0267qhz, /m/0263499, /m/0263yvy]</td>\n",
       "      <td>4</td>\n",
       "      <td>Mercè Pons</td>\n",
       "      <td>/m/0267qhz</td>\n",
       "      <td>1996</td>\n",
       "    </tr>\n",
       "    <tr>\n",
       "      <th>2</th>\n",
       "      <td>330</td>\n",
       "      <td>[/m/0gh6sw, /m/0267qhz, /m/0263499, /m/0263yvy]</td>\n",
       "      <td>4</td>\n",
       "      <td>Anna Lizaran</td>\n",
       "      <td>/m/0263499</td>\n",
       "      <td>1996</td>\n",
       "    </tr>\n",
       "    <tr>\n",
       "      <th>3</th>\n",
       "      <td>330</td>\n",
       "      <td>[/m/0gh6sw, /m/0267qhz, /m/0263499, /m/0263yvy]</td>\n",
       "      <td>4</td>\n",
       "      <td>Núria Espert</td>\n",
       "      <td>/m/0263yvy</td>\n",
       "      <td>1996</td>\n",
       "    </tr>\n",
       "    <tr>\n",
       "      <th>4</th>\n",
       "      <td>3217</td>\n",
       "      <td>[/m/07qn0, /m/0gmjf8, /m/01h8f, /m/01h8f, /m/0...</td>\n",
       "      <td>14</td>\n",
       "      <td>Ted Raimi</td>\n",
       "      <td>/m/07qn0</td>\n",
       "      <td>1992</td>\n",
       "    </tr>\n",
       "    <tr>\n",
       "      <th>...</th>\n",
       "      <td>...</td>\n",
       "      <td>...</td>\n",
       "      <td>...</td>\n",
       "      <td>...</td>\n",
       "      <td>...</td>\n",
       "      <td>...</td>\n",
       "    </tr>\n",
       "    <tr>\n",
       "      <th>427252</th>\n",
       "      <td>37478048</td>\n",
       "      <td>[/m/0292l3, /m/03j367r, /m/067jsf, /m/06pwf6]</td>\n",
       "      <td>4</td>\n",
       "      <td>Sridevi Kapoor</td>\n",
       "      <td>/m/067jsf</td>\n",
       "      <td>1996</td>\n",
       "    </tr>\n",
       "    <tr>\n",
       "      <th>427253</th>\n",
       "      <td>37478048</td>\n",
       "      <td>[/m/0292l3, /m/03j367r, /m/067jsf, /m/06pwf6]</td>\n",
       "      <td>4</td>\n",
       "      <td>Akkineni Nagarjuna</td>\n",
       "      <td>/m/06pwf6</td>\n",
       "      <td>1996</td>\n",
       "    </tr>\n",
       "    <tr>\n",
       "      <th>427254</th>\n",
       "      <td>37492363</td>\n",
       "      <td>[/m/0g4tzm9, /m/0g4tzmn, /m/0g4tzm_]</td>\n",
       "      <td>3</td>\n",
       "      <td>Molly Cera</td>\n",
       "      <td>/m/0g4tzm9</td>\n",
       "      <td>2011</td>\n",
       "    </tr>\n",
       "    <tr>\n",
       "      <th>427255</th>\n",
       "      <td>37492363</td>\n",
       "      <td>[/m/0g4tzm9, /m/0g4tzmn, /m/0g4tzm_]</td>\n",
       "      <td>3</td>\n",
       "      <td>Taylor Marie Milton</td>\n",
       "      <td>/m/0g4tzmn</td>\n",
       "      <td>2011</td>\n",
       "    </tr>\n",
       "    <tr>\n",
       "      <th>427256</th>\n",
       "      <td>37492363</td>\n",
       "      <td>[/m/0g4tzm9, /m/0g4tzmn, /m/0g4tzm_]</td>\n",
       "      <td>3</td>\n",
       "      <td>Spencer Jenkins</td>\n",
       "      <td>/m/0g4tzm_</td>\n",
       "      <td>2011</td>\n",
       "    </tr>\n",
       "  </tbody>\n",
       "</table>\n",
       "<p>427257 rows × 6 columns</p>\n",
       "</div>"
      ],
      "text/plain": [
       "        Wikipedia_movie_ID                                 Freebase_actor_IDs  \\\n",
       "0                      330    [/m/0gh6sw, /m/0267qhz, /m/0263499, /m/0263yvy]   \n",
       "1                      330    [/m/0gh6sw, /m/0267qhz, /m/0263499, /m/0263yvy]   \n",
       "2                      330    [/m/0gh6sw, /m/0267qhz, /m/0263499, /m/0263yvy]   \n",
       "3                      330    [/m/0gh6sw, /m/0267qhz, /m/0263499, /m/0263yvy]   \n",
       "4                     3217  [/m/07qn0, /m/0gmjf8, /m/01h8f, /m/01h8f, /m/0...   \n",
       "...                    ...                                                ...   \n",
       "427252            37478048      [/m/0292l3, /m/03j367r, /m/067jsf, /m/06pwf6]   \n",
       "427253            37478048      [/m/0292l3, /m/03j367r, /m/067jsf, /m/06pwf6]   \n",
       "427254            37492363               [/m/0g4tzm9, /m/0g4tzmn, /m/0g4tzm_]   \n",
       "427255            37492363               [/m/0g4tzm9, /m/0g4tzmn, /m/0g4tzm_]   \n",
       "427256            37492363               [/m/0g4tzm9, /m/0g4tzmn, /m/0g4tzm_]   \n",
       "\n",
       "        Number_of_actors           Actor_name Freebase_actor_ID  \\\n",
       "0                      4     Rosa Maria Sardà         /m/0gh6sw   \n",
       "1                      4           Mercè Pons        /m/0267qhz   \n",
       "2                      4         Anna Lizaran        /m/0263499   \n",
       "3                      4         Núria Espert        /m/0263yvy   \n",
       "4                     14            Ted Raimi          /m/07qn0   \n",
       "...                  ...                  ...               ...   \n",
       "427252                 4       Sridevi Kapoor         /m/067jsf   \n",
       "427253                 4   Akkineni Nagarjuna         /m/06pwf6   \n",
       "427254                 3           Molly Cera        /m/0g4tzm9   \n",
       "427255                 3  Taylor Marie Milton        /m/0g4tzmn   \n",
       "427256                 3      Spencer Jenkins        /m/0g4tzm_   \n",
       "\n",
       "       Movie_release_year  \n",
       "0                    1996  \n",
       "1                    1996  \n",
       "2                    1996  \n",
       "3                    1996  \n",
       "4                    1992  \n",
       "...                   ...  \n",
       "427252               1996  \n",
       "427253               1996  \n",
       "427254               2011  \n",
       "427255               2011  \n",
       "427256               2011  \n",
       "\n",
       "[427257 rows x 6 columns]"
      ]
     },
     "execution_count": 41,
     "metadata": {},
     "output_type": "execute_result"
    }
   ],
   "source": [
    "actors_new_meta\n"
   ]
  },
  {
   "cell_type": "code",
   "execution_count": 42,
   "metadata": {},
   "outputs": [],
   "source": [
    "# dataframe with pairs of actors and the number of movies they acted in together\n",
    "# the dataframe to merge contains all the actors_new_meta dataframe except the actors_names column\n",
    "to_merge = actors_new_meta.drop('Freebase_actor_IDs', axis=1)\n",
    "actors_pairs = to_merge.merge(\n",
    "    to_merge, on=['Wikipedia_movie_ID', 'Number_of_actors', 'Movie_release_year'], how='inner')\n",
    "# filter the dataframe to keep only the pairs where the actor ids are different\n",
    "actors_pairs = actors_pairs[actors_pairs['Freebase_actor_ID_x']\n",
    "                            != actors_pairs['Freebase_actor_ID_y']]\n",
    "# filter the dataframe to keep only the pairs that are not interchangeable (actor1, actor2) and (actor2, actor1)\n",
    "actors_pairs = actors_pairs[actors_pairs['Freebase_actor_ID_x']\n",
    "                            < actors_pairs['Freebase_actor_ID_y']]\n"
   ]
  },
  {
   "cell_type": "code",
   "execution_count": 43,
   "metadata": {},
   "outputs": [],
   "source": [
    "# for each pair make a new column with a dictionnary containing Wikipedia_movie_ID of the movies they acted in together as keys and the movie release year as values\n",
    "\n",
    "actors_pairs_common_movies = actors_pairs.groupby(['Actor_name_x', 'Actor_name_y', 'Freebase_actor_ID_x', 'Freebase_actor_ID_y'])[[\n",
    "    'Wikipedia_movie_ID', 'Movie_release_year']].apply(lambda x: dict(zip(x['Wikipedia_movie_ID'], x['Movie_release_year'].astype(int)))).reset_index().rename(columns={0: 'Common_movies'})\n",
    "\n",
    "\n"
   ]
  },
  {
   "cell_type": "code",
   "execution_count": 44,
   "metadata": {},
   "outputs": [],
   "source": [
    "# number of common movies between each pair of actors\n",
    "actors_pairs_common_movies['Number_of_common_movies'] = actors_pairs_common_movies['Common_movies'].apply(\n",
    "    lambda x: len(x))\n"
   ]
  },
  {
   "cell_type": "code",
   "execution_count": 45,
   "metadata": {},
   "outputs": [],
   "source": [
    "# filter the dataframe to keep only the pairs that acted in more than 2 movies together\n",
    "actors_pairs_common_movies_filtered = actors_pairs_common_movies[\n",
    "    actors_pairs_common_movies['Number_of_common_movies'] > 2]\n"
   ]
  },
  {
   "cell_type": "code",
   "execution_count": 46,
   "metadata": {},
   "outputs": [
    {
     "data": {
      "text/html": [
       "<div>\n",
       "<style scoped>\n",
       "    .dataframe tbody tr th:only-of-type {\n",
       "        vertical-align: middle;\n",
       "    }\n",
       "\n",
       "    .dataframe tbody tr th {\n",
       "        vertical-align: top;\n",
       "    }\n",
       "\n",
       "    .dataframe thead th {\n",
       "        text-align: right;\n",
       "    }\n",
       "</style>\n",
       "<table border=\"1\" class=\"dataframe\">\n",
       "  <thead>\n",
       "    <tr style=\"text-align: right;\">\n",
       "      <th></th>\n",
       "      <th>Actor_name_x</th>\n",
       "      <th>Actor_name_y</th>\n",
       "      <th>Freebase_actor_ID_x</th>\n",
       "      <th>Freebase_actor_ID_y</th>\n",
       "      <th>Common_movies</th>\n",
       "      <th>Number_of_common_movies</th>\n",
       "    </tr>\n",
       "  </thead>\n",
       "  <tbody>\n",
       "    <tr>\n",
       "      <th>101</th>\n",
       "      <td>50 Cent</td>\n",
       "      <td>Ambyr Childers</td>\n",
       "      <td>/m/01vvyc_</td>\n",
       "      <td>/m/0f7tct</td>\n",
       "      <td>{24150888: 2010, 31738289: 2011, 33638321: 2011}</td>\n",
       "      <td>3</td>\n",
       "    </tr>\n",
       "    <tr>\n",
       "      <th>148</th>\n",
       "      <td>50 Cent</td>\n",
       "      <td>Dr. Dre</td>\n",
       "      <td>/m/01vvyc_</td>\n",
       "      <td>/m/01vvydl</td>\n",
       "      <td>{3914063: 2003, 6501095: 2003, 25010699: 1994}</td>\n",
       "      <td>3</td>\n",
       "    </tr>\n",
       "    <tr>\n",
       "      <th>285</th>\n",
       "      <td>50 Cent</td>\n",
       "      <td>Val Kilmer</td>\n",
       "      <td>/m/01vvyc_</td>\n",
       "      <td>/m/0d_84</td>\n",
       "      <td>{19547540: 2009, 27211939: 2011, 30244564: 2010}</td>\n",
       "      <td>3</td>\n",
       "    </tr>\n",
       "    <tr>\n",
       "      <th>766</th>\n",
       "      <td>A. Michael Baldwin</td>\n",
       "      <td>Bill Thornbury</td>\n",
       "      <td>/m/0dm23j</td>\n",
       "      <td>/m/0k1vyv</td>\n",
       "      <td>{1802400: 1979, 3305261: 1994, 3305282: 1998}</td>\n",
       "      <td>3</td>\n",
       "    </tr>\n",
       "    <tr>\n",
       "      <th>853</th>\n",
       "      <td>A. Venkatesh</td>\n",
       "      <td>Daggubati Venkatesh</td>\n",
       "      <td>/m/04n3wnz</td>\n",
       "      <td>/m/05yhh7</td>\n",
       "      <td>{6827148: 2001, 14823527: 2008, 15398677: 1993...</td>\n",
       "      <td>4</td>\n",
       "    </tr>\n",
       "    <tr>\n",
       "      <th>...</th>\n",
       "      <td>...</td>\n",
       "      <td>...</td>\n",
       "      <td>...</td>\n",
       "      <td>...</td>\n",
       "      <td>...</td>\n",
       "      <td>...</td>\n",
       "    </tr>\n",
       "    <tr>\n",
       "      <th>2073805</th>\n",
       "      <td>高田由美</td>\n",
       "      <td>Chisa Yokoyama</td>\n",
       "      <td>/m/01vv6d4</td>\n",
       "      <td>/m/038277</td>\n",
       "      <td>{4174679: 1999, 5396840: 1997, 5397050: 1996}</td>\n",
       "      <td>3</td>\n",
       "    </tr>\n",
       "    <tr>\n",
       "      <th>2073808</th>\n",
       "      <td>高田由美</td>\n",
       "      <td>Kikuchi Masami</td>\n",
       "      <td>/m/01vv6d4</td>\n",
       "      <td>/m/01wv1yt</td>\n",
       "      <td>{4174679: 1999, 5396840: 1997, 5397050: 1996}</td>\n",
       "      <td>3</td>\n",
       "    </tr>\n",
       "    <tr>\n",
       "      <th>2073811</th>\n",
       "      <td>高田由美</td>\n",
       "      <td>Orikasa Kikue</td>\n",
       "      <td>/m/01vv6d4</td>\n",
       "      <td>/m/01wpgmk</td>\n",
       "      <td>{4174679: 1999, 5396840: 1997, 5397050: 1996}</td>\n",
       "      <td>3</td>\n",
       "    </tr>\n",
       "    <tr>\n",
       "      <th>2073814</th>\n",
       "      <td>高田由美</td>\n",
       "      <td>Yuri Amano</td>\n",
       "      <td>/m/01vv6d4</td>\n",
       "      <td>/m/038cn3</td>\n",
       "      <td>{4174679: 1999, 5396840: 1997, 5397050: 1996}</td>\n",
       "      <td>3</td>\n",
       "    </tr>\n",
       "    <tr>\n",
       "      <th>2073815</th>\n",
       "      <td>高田由美</td>\n",
       "      <td>Yūko Mizutani</td>\n",
       "      <td>/m/01vv6d4</td>\n",
       "      <td>/m/03h4cc</td>\n",
       "      <td>{4174679: 1999, 5396840: 1997, 5397050: 1996}</td>\n",
       "      <td>3</td>\n",
       "    </tr>\n",
       "  </tbody>\n",
       "</table>\n",
       "<p>25865 rows × 6 columns</p>\n",
       "</div>"
      ],
      "text/plain": [
       "               Actor_name_x         Actor_name_y Freebase_actor_ID_x  \\\n",
       "101                 50 Cent       Ambyr Childers          /m/01vvyc_   \n",
       "148                 50 Cent              Dr. Dre          /m/01vvyc_   \n",
       "285                 50 Cent           Val Kilmer          /m/01vvyc_   \n",
       "766      A. Michael Baldwin       Bill Thornbury           /m/0dm23j   \n",
       "853            A. Venkatesh  Daggubati Venkatesh          /m/04n3wnz   \n",
       "...                     ...                  ...                 ...   \n",
       "2073805                高田由美       Chisa Yokoyama          /m/01vv6d4   \n",
       "2073808                高田由美       Kikuchi Masami          /m/01vv6d4   \n",
       "2073811                高田由美        Orikasa Kikue          /m/01vv6d4   \n",
       "2073814                高田由美           Yuri Amano          /m/01vv6d4   \n",
       "2073815                高田由美        Yūko Mizutani          /m/01vv6d4   \n",
       "\n",
       "        Freebase_actor_ID_y  \\\n",
       "101               /m/0f7tct   \n",
       "148              /m/01vvydl   \n",
       "285                /m/0d_84   \n",
       "766               /m/0k1vyv   \n",
       "853               /m/05yhh7   \n",
       "...                     ...   \n",
       "2073805           /m/038277   \n",
       "2073808          /m/01wv1yt   \n",
       "2073811          /m/01wpgmk   \n",
       "2073814           /m/038cn3   \n",
       "2073815           /m/03h4cc   \n",
       "\n",
       "                                             Common_movies  \\\n",
       "101       {24150888: 2010, 31738289: 2011, 33638321: 2011}   \n",
       "148         {3914063: 2003, 6501095: 2003, 25010699: 1994}   \n",
       "285       {19547540: 2009, 27211939: 2011, 30244564: 2010}   \n",
       "766          {1802400: 1979, 3305261: 1994, 3305282: 1998}   \n",
       "853      {6827148: 2001, 14823527: 2008, 15398677: 1993...   \n",
       "...                                                    ...   \n",
       "2073805      {4174679: 1999, 5396840: 1997, 5397050: 1996}   \n",
       "2073808      {4174679: 1999, 5396840: 1997, 5397050: 1996}   \n",
       "2073811      {4174679: 1999, 5396840: 1997, 5397050: 1996}   \n",
       "2073814      {4174679: 1999, 5396840: 1997, 5397050: 1996}   \n",
       "2073815      {4174679: 1999, 5396840: 1997, 5397050: 1996}   \n",
       "\n",
       "         Number_of_common_movies  \n",
       "101                            3  \n",
       "148                            3  \n",
       "285                            3  \n",
       "766                            3  \n",
       "853                            4  \n",
       "...                          ...  \n",
       "2073805                        3  \n",
       "2073808                        3  \n",
       "2073811                        3  \n",
       "2073814                        3  \n",
       "2073815                        3  \n",
       "\n",
       "[25865 rows x 6 columns]"
      ]
     },
     "execution_count": 46,
     "metadata": {},
     "output_type": "execute_result"
    }
   ],
   "source": [
    "actors_pairs_common_movies_filtered\n"
   ]
  },
  {
   "cell_type": "markdown",
   "metadata": {},
   "source": [
    "We want to create create temporal slices of the data the steps included are:\n",
    "\n",
    "- get the year of the first and last movie in the dataset\n",
    "- partition the dataset into slices where each slice contains all the movies released within or before a given year inside the interval"
   ]
  },
  {
   "cell_type": "code",
   "execution_count": 47,
   "metadata": {},
   "outputs": [
    {
     "name": "stdout",
     "output_type": "stream",
     "text": [
      "The movie dataset contains movies from 1899 to 2016\n"
     ]
    }
   ],
   "source": [
    "# get the year of the earliest movie in the dataset \n",
    "earliest_movie_year = actors_pairs_common_movies_filtered['Common_movies'].apply(lambda x: min(x.values())).min()\n",
    "# get the year of the latest movie in the dataset\n",
    "latest_movie_year = actors_pairs_common_movies_filtered['Common_movies'].apply(lambda x: max(x.values())).max()\n",
    "\n",
    "print ('The movie dataset contains movies from {} to {}'.format(earliest_movie_year, latest_movie_year))\n",
    "\n",
    "# create a dictionnary of datasets where the key is a given year and the value is the dataframe obtained by removing the common movies that were released after the given year\n",
    "actor_pairs_by_year = {}\n",
    "for year in range(earliest_movie_year, latest_movie_year+1):\n",
    "    year_df = actors_pairs_common_movies_filtered.copy()\n",
    "    # remove the common movies that were released after the given year\n",
    "    year_df['Common_movies'] = year_df['Common_movies'].apply(lambda x: {k:v for k,v in x.items() if v <= year})\n",
    "    # recalculate the number of common movies\n",
    "    year_df['Number_of_common_movies'] = year_df['Common_movies'].apply(lambda x: len(x))\n",
    "    # assign the dataframe to the dictionnary\n",
    "    actor_pairs_by_year[year] = year_df"
   ]
  },
  {
   "cell_type": "markdown",
   "metadata": {},
   "source": [
    "## 3.2 Creating the network"
   ]
  },
  {
   "cell_type": "markdown",
   "metadata": {},
   "source": [
    "### 3.2.1 Global network "
   ]
  },
  {
   "cell_type": "markdown",
   "metadata": {},
   "source": [
    "There are many ways to create networks, a really common one is the networkx library. It offers lots of tools and we can easily find documentation on the web."
   ]
  },
  {
   "cell_type": "code",
   "execution_count": 48,
   "metadata": {},
   "outputs": [
    {
     "name": "stdout",
     "output_type": "stream",
     "text": [
      "Number of nodes:  8427\n",
      "Number of edges:  25865\n"
     ]
    }
   ],
   "source": [
    "# create a non directed graph from the dataframe\n",
    "G = nx.from_pandas_edgelist(actors_pairs_common_movies_filtered, source='Freebase_actor_ID_x',\n",
    "                            target='Freebase_actor_ID_y', edge_attr='Number_of_common_movies')\n",
    "# show the number of nodes and edges in the graph\n",
    "print('Number of nodes: ', G.number_of_nodes())\n",
    "print('Number of edges: ', G.number_of_edges())\n"
   ]
  },
  {
   "cell_type": "markdown",
   "metadata": {},
   "source": [
    "### 3.2.2 Creating sub-network communities"
   ]
  },
  {
   "cell_type": "markdown",
   "metadata": {},
   "source": [
    "Now that we have the network we'll need to analyse it. The first step is to create subgroup using the louvain algorithm.\n",
    "This step take a little bit time and doesn't give the exact same result. Therefor we created a csv file once to make the analyse on the same partitionning"
   ]
  },
  {
   "cell_type": "code",
   "execution_count": 49,
   "metadata": {
    "tags": []
   },
   "outputs": [],
   "source": [
    "# # select the number of simulations to run\n",
    "# number_of_simulations = 100\n",
    "# # make partitions of the graph\n",
    "# best_coms = algorithms.louvain(G, weight='Number_of_common_movies')\n",
    "# for i in range(0, number_of_simulations):\n",
    "#     # make partitions of the graph\n",
    "#     modularity = evaluation.newman_girvan_modularity(G, best_coms).score\n",
    "#     coms = algorithms.louvain(G, weight='Number_of_common_movies', randomize=i)\n",
    "#     # if the modularity is higher than the previous one then keep the partitions\n",
    "#     if evaluation.newman_girvan_modularity(G, coms).score > modularity:\n",
    "#         best_coms = coms\n",
    "# \n",
    "# # print the modularity of the best partition\n",
    "# print('Modularity: ', evaluation.newman_girvan_modularity(G, best_coms).score)\n",
    "# # make subgraphs from the partitions\n",
    "# subgraphs = [G.subgraph(c) for c in best_coms.communities]\n",
    "# # show the number of subgraphs\n",
    "# print('Number of communities: ', len(subgraphs))\n",
    "#\n",
    "# # Store the communities to work on them afterwards\n",
    "# with open('./CSV_files/best_coms_communities.txt', 'wb') as f:\n",
    "#     pickle.dump(best_coms.communities, f)"
   ]
  },
  {
   "cell_type": "code",
   "execution_count": 50,
   "metadata": {},
   "outputs": [
    {
     "name": "stdout",
     "output_type": "stream",
     "text": [
      "Number of communities:  646\n"
     ]
    }
   ],
   "source": [
    "# Load communities\n",
    "with open('./CSV_files/best_coms_communities.txt', 'rb') as f:\n",
    "    best_coms_communities = pickle.load(f)\n",
    "subgraphs = [G.subgraph(c) for c in best_coms_communities]\n",
    "print('Number of communities: ', len(subgraphs))"
   ]
  },
  {
   "cell_type": "markdown",
   "metadata": {},
   "source": [
    "The analyse of those communities will be done after on the notebook "
   ]
  },
  {
   "cell_type": "markdown",
   "metadata": {},
   "source": [
    "### 3.2.3 temporal version of the network ( a revoir)"
   ]
  },
  {
   "cell_type": "markdown",
   "metadata": {},
   "source": [
    "\n",
    "- Identify: detect static communities on each step of evolution\n",
    "- Match: align the communities found at step 'year' with the ones found at step year − 1, for each step."
   ]
  },
  {
   "cell_type": "code",
   "execution_count": 51,
   "metadata": {},
   "outputs": [],
   "source": [
    "# # Temporal clustering object\n",
    "# tc = TemporalClustering()\n",
    "\n",
    "# # identify the communities for each year\n",
    "# for year in range(earliest_movie_year, latest_movie_year+1):\n",
    "#     g = nx.from_pandas_edgelist(actor_pairs_by_year[year], source='Freebase_actor_ID_x',\n",
    "#                             target='Freebase_actor_ID_y', edge_attr='Number_of_common_movies')\n",
    "#     coms = algorithms.louvain(G, weight='Number_of_common_movies')\n",
    "#     tc.add_clustering(coms, year)"
   ]
  },
  {
   "cell_type": "code",
   "execution_count": 52,
   "metadata": {},
   "outputs": [],
   "source": [
    "# # match the communities between years using the jaccard similarity\n",
    "# jaccard = lambda x, y:  len(set(x) & set(y)) / len(set(x) | set(y))\n",
    "# matching = tc.community_matching(jaccard, two_sided=True)"
   ]
  },
  {
   "cell_type": "markdown",
   "metadata": {},
   "source": [
    "## 3.3 Vizualising the network"
   ]
  },
  {
   "cell_type": "markdown",
   "metadata": {},
   "source": [
    "Let's start the funny part with a basic visualization."
   ]
  },
  {
   "cell_type": "code",
   "execution_count": 53,
   "metadata": {},
   "outputs": [],
   "source": [
    "# vizualise the obtained partitions (top 10 communities)\n",
    "# viz.plot_network_clusters(G, coms, node_size=20, figsize=(\n",
    "#     20, 20), plot_labels=False, top_k=10)\n"
   ]
  },
  {
   "cell_type": "code",
   "execution_count": 54,
   "metadata": {},
   "outputs": [],
   "source": [
    "# viz.plot_community_graph(G, coms, node_size=20, figsize=(\n",
    "#     20, 20), plot_labels=False, top_k=10)\n"
   ]
  },
  {
   "cell_type": "markdown",
   "metadata": {},
   "source": [
    "This is a nice visualization but didn't show us much more as the graph is very dense. <br>\n",
    "A 3D one would be much better. We used the pyvis tool which is much nicer but didn't allow us to show communities"
   ]
  },
  {
   "cell_type": "code",
   "execution_count": 55,
   "metadata": {},
   "outputs": [],
   "source": [
    "# g = net.Network(notebook = True)\n",
    "# g.from_nx(G)\n",
    "# g.show(\"example.html\")\n"
   ]
  },
  {
   "cell_type": "markdown",
   "metadata": {},
   "source": [
    "a new visualization was done on the website for the datastory"
   ]
  },
  {
   "cell_type": "markdown",
   "metadata": {},
   "source": [
    "## 3.4 Analysing communities"
   ]
  },
  {
   "cell_type": "markdown",
   "metadata": {},
   "source": [
    "### 3.4.1 intra-communities analysis"
   ]
  },
  {
   "cell_type": "code",
   "execution_count": 56,
   "metadata": {},
   "outputs": [
    {
     "name": "stdout",
     "output_type": "stream",
     "text": [
      "community  1  number of actors                        : 1080\n",
      "community  1  size                                    : 8735.0\n",
      "community  1  assortativity of actors                 : 0.0042\n",
      "community  1  average degree                          : 4.57\n",
      "community  1  average weighted degree                 : 16.18\n",
      "community  1  average numbers of movies between actors: 3.5393030794165314\n",
      "community  2  number of actors                        : 1009\n",
      "community  2  size                                    : 7263.0\n",
      "community  2  assortativity of actors                 : 0.0039\n",
      "community  2  average degree                          : 3.92\n",
      "community  2  average weighted degree                 : 14.40\n",
      "community  2  average numbers of movies between actors: 3.6737481031866466\n",
      "community  3  number of actors                        : 722\n",
      "community  3  size                                    : 23408.0\n",
      "community  3  assortativity of actors                 : 0.0201\n",
      "community  3  average degree                          : 14.49\n",
      "community  3  average weighted degree                 : 64.84\n",
      "community  3  average numbers of movies between actors: 4.475717017208413\n",
      "community  4  number of actors                        : 563\n",
      "community  4  size                                    : 4744.0\n",
      "community  4  assortativity of actors                 : 0.0081\n",
      "community  4  average degree                          : 4.53\n",
      "community  4  average weighted degree                 : 16.85\n",
      "community  4  average numbers of movies between actors: 3.72078431372549\n",
      "community  5  number of actors                        : 442\n",
      "community  5  size                                    : 14412.0\n",
      "community  5  assortativity of actors                 : 0.0296\n",
      "community  5  average degree                          : 13.03\n",
      "community  5  average weighted degree                 : 65.21\n",
      "community  5  average numbers of movies between actors: 5.004166666666666\n",
      "community  6  number of actors                        : 274\n",
      "community  6  size                                    : 2659.0\n",
      "community  6  assortativity of actors                 : 0.0180\n",
      "community  6  average degree                          : 4.91\n",
      "community  6  average weighted degree                 : 19.41\n",
      "community  6  average numbers of movies between actors: 3.9509658246656763\n",
      "community  7  number of actors                        : 272\n",
      "community  7  size                                    : 4665.0\n",
      "community  7  assortativity of actors                 : 0.0263\n",
      "community  7  average degree                          : 7.13\n",
      "community  7  average weighted degree                 : 34.30\n",
      "community  7  average numbers of movies between actors: 4.809278350515464\n",
      "community  8  number of actors                        : 270\n",
      "community  8  size                                    : 1777.0\n",
      "community  8  assortativity of actors                 : 0.0133\n",
      "community  8  average degree                          : 3.57\n",
      "community  8  average weighted degree                 : 13.16\n",
      "community  8  average numbers of movies between actors: 3.6867219917012446\n",
      "community  9  number of actors                        : 199\n",
      "community  9  size                                    : 5116.0\n",
      "community  9  assortativity of actors                 : 0.0636\n",
      "community  9  average degree                          : 12.58\n",
      "community  9  average weighted degree                 : 51.42\n",
      "community  9  average numbers of movies between actors: 4.086261980830671\n",
      "community  10  number of actors                        : 173\n",
      "community  10  size                                    : 7599.0\n",
      "community  10  assortativity of actors                 : 0.0908\n",
      "community  10  average degree                          : 15.62\n",
      "community  10  average weighted degree                 : 87.85\n",
      "community  10  average numbers of movies between actors: 5.624722427831236\n",
      "community  11  number of actors                        : 166\n",
      "community  11  size                                    : 3790.0\n",
      "community  11  assortativity of actors                 : 0.0571\n",
      "community  11  average degree                          : 9.42\n",
      "community  11  average weighted degree                 : 45.66\n",
      "community  11  average numbers of movies between actors: 4.846547314578005\n",
      "community  12  number of actors                        : 162\n",
      "community  12  size                                    : 938.0\n",
      "community  12  assortativity of actors                 : 0.0197\n",
      "community  12  average degree                          : 3.17\n",
      "community  12  average weighted degree                 : 11.58\n",
      "community  12  average numbers of movies between actors: 3.649805447470817\n",
      "community  13  number of actors                        : 132\n",
      "community  13  size                                    : 3285.0\n",
      "community  13  assortativity of actors                 : 0.0623\n",
      "community  13  average degree                          : 8.17\n",
      "community  13  average weighted degree                 : 49.77\n",
      "community  13  average numbers of movies between actors: 6.094619666048238\n",
      "community  14  number of actors                        : 125\n",
      "community  14  size                                    : 1046.0\n",
      "community  14  assortativity of actors                 : 0.0355\n",
      "community  14  average degree                          : 4.40\n",
      "community  14  average weighted degree                 : 16.74\n",
      "community  14  average numbers of movies between actors: 3.8036363636363637\n",
      "community  15  number of actors                        : 106\n",
      "community  15  size                                    : 643.0\n",
      "community  15  assortativity of actors                 : 0.0320\n",
      "community  15  average degree                          : 3.36\n",
      "community  15  average weighted degree                 : 12.13\n",
      "community  15  average numbers of movies between actors: 3.6123595505617976\n",
      "community  16  number of actors                        : 102\n",
      "community  16  size                                    : 1180.0\n",
      "community  16  assortativity of actors                 : 0.0511\n",
      "community  16  average degree                          : 5.16\n",
      "community  16  average weighted degree                 : 23.14\n",
      "community  16  average numbers of movies between actors: 4.486692015209125\n",
      "community  17  number of actors                        : 82\n",
      "community  17  size                                    : 3812.0\n",
      "community  17  assortativity of actors                 : 0.1256\n",
      "community  17  average degree                          : 10.17\n",
      "community  17  average weighted degree                 : 92.98\n",
      "community  17  average numbers of movies between actors: 9.141486810551559\n",
      "community  18  number of actors                        : 75\n",
      "community  18  size                                    : 1443.0\n",
      "community  18  assortativity of actors                 : 0.0714\n",
      "community  18  average degree                          : 5.28\n",
      "community  18  average weighted degree                 : 38.48\n",
      "community  18  average numbers of movies between actors: 7.287878787878788\n",
      "community  19  number of actors                        : 66\n",
      "community  19  size                                    : 486.0\n",
      "community  19  assortativity of actors                 : 0.0643\n",
      "community  19  average degree                          : 4.18\n",
      "community  19  average weighted degree                 : 14.73\n",
      "community  19  average numbers of movies between actors: 3.5217391304347827\n",
      "community  20  number of actors                        : 57\n",
      "community  20  size                                    : 513.0\n",
      "community  20  assortativity of actors                 : 0.0865\n",
      "community  20  average degree                          : 4.84\n",
      "community  20  average weighted degree                 : 18.00\n",
      "community  20  average numbers of movies between actors: 3.717391304347826\n"
     ]
    }
   ],
   "source": [
    "# show the number of nodes in each subgraph and the average weight of the edges in each subgraph (only for the top 20 subgraphs)\n",
    "for i, subgraph in enumerate(subgraphs[:20]):\n",
    "    print('community ', i + 1, ' number of actors                        :', subgraph.number_of_nodes())\n",
    "    print('community ', i + 1, ' size                                    :', subgraph.size(weight='Number_of_common_movies'))\n",
    "    print('community ', i + 1, ' assortativity of actors                 : %.4f' %nx.density(subgraph))\n",
    "    print('community ', i + 1, ' average degree                          : %.2f' %(2*subgraph.number_of_edges()/subgraph.number_of_nodes()))\n",
    "    print('community ', i + 1, ' average weighted degree                 : %.2f' %(2*subgraph.size(weight='Number_of_common_movies') / subgraph.number_of_nodes()))\n",
    "    print('community ', i + 1, ' average numbers of movies between actors:',\n",
    "          subgraph.size(weight='Number_of_common_movies') / subgraph.number_of_edges())\n",
    "\n",
    "\n",
    "# store the sizes of communities\n",
    "com_sizes = pd.DataFrame(columns=['community','number_actors','size','density','av_deg','av_weighted_deg','av_num_movies_between_actors'])\n",
    "for i, subgraph in enumerate(subgraphs[:20]):\n",
    "    com_sizes = com_sizes.append({'community' : i+1,\n",
    "                                  'number_actors' : subgraph.number_of_nodes(),\n",
    "                                  'size' : subgraph.size(weight='Number_of_common_movies'),\n",
    "                                  'density' : nx.density(subgraph),\n",
    "                                  'av_deg' : 2*subgraph.number_of_edges()/subgraph.number_of_nodes(),\n",
    "                                  'av_weighted_deg' : 2*subgraph.size(weight='Number_of_common_movies') / subgraph.number_of_nodes(),\n",
    "                                  'av_num_movies_between_actors' : subgraph.size(weight='Number_of_common_movies') / subgraph.number_of_edges()\n",
    "                                 },ignore_index = True)\n",
    "\n",
    "com_sizes.to_csv('./CSV_files/community_sizes.csv')"
   ]
  },
  {
   "cell_type": "markdown",
   "metadata": {},
   "source": [
    "### 3.4.2 inter-community connections"
   ]
  },
  {
   "cell_type": "code",
   "execution_count": 57,
   "metadata": {},
   "outputs": [],
   "source": [
    "# load data from tsv file to a pandas dataframe\n",
    "actors_community = pd.read_csv('CSV_files/top_20_communities_scraping_done.csv')\n",
    "actors_community = actors_community.drop(['connectivity', 'Wikidata_ID','actor_country_of_citizenship','actor_occupation'], axis=1)"
   ]
  },
  {
   "cell_type": "code",
   "execution_count": 58,
   "metadata": {},
   "outputs": [
    {
     "data": {
      "text/html": [
       "<div>\n",
       "<style scoped>\n",
       "    .dataframe tbody tr th:only-of-type {\n",
       "        vertical-align: middle;\n",
       "    }\n",
       "\n",
       "    .dataframe tbody tr th {\n",
       "        vertical-align: top;\n",
       "    }\n",
       "\n",
       "    .dataframe thead th {\n",
       "        text-align: right;\n",
       "    }\n",
       "</style>\n",
       "<table border=\"1\" class=\"dataframe\">\n",
       "  <thead>\n",
       "    <tr style=\"text-align: right;\">\n",
       "      <th></th>\n",
       "      <th>Community_1</th>\n",
       "      <th>Community_2</th>\n",
       "      <th>count</th>\n",
       "      <th>mean</th>\n",
       "    </tr>\n",
       "  </thead>\n",
       "  <tbody>\n",
       "    <tr>\n",
       "      <th>0</th>\n",
       "      <td>1</td>\n",
       "      <td>1</td>\n",
       "      <td>2468</td>\n",
       "      <td>3.539303</td>\n",
       "    </tr>\n",
       "    <tr>\n",
       "      <th>1</th>\n",
       "      <td>1</td>\n",
       "      <td>2</td>\n",
       "      <td>43</td>\n",
       "      <td>3.232558</td>\n",
       "    </tr>\n",
       "    <tr>\n",
       "      <th>2</th>\n",
       "      <td>1</td>\n",
       "      <td>4</td>\n",
       "      <td>67</td>\n",
       "      <td>3.119403</td>\n",
       "    </tr>\n",
       "    <tr>\n",
       "      <th>3</th>\n",
       "      <td>1</td>\n",
       "      <td>6</td>\n",
       "      <td>9</td>\n",
       "      <td>3.111111</td>\n",
       "    </tr>\n",
       "    <tr>\n",
       "      <th>4</th>\n",
       "      <td>1</td>\n",
       "      <td>7</td>\n",
       "      <td>103</td>\n",
       "      <td>3.300971</td>\n",
       "    </tr>\n",
       "  </tbody>\n",
       "</table>\n",
       "</div>"
      ],
      "text/plain": [
       "   Community_1  Community_2  count      mean\n",
       "0            1            1   2468  3.539303\n",
       "1            1            2     43  3.232558\n",
       "2            1            4     67  3.119403\n",
       "3            1            6      9  3.111111\n",
       "4            1            7    103  3.300971"
      ]
     },
     "execution_count": 58,
     "metadata": {},
     "output_type": "execute_result"
    }
   ],
   "source": [
    "# create df to count inter-community connections\n",
    "actor_pairs = actors_pairs_common_movies_filtered.copy()\n",
    "actor_pairs = actor_pairs.merge(actors_community, left_on='Freebase_actor_ID_x', right_on='Freebase_actor_ID', suffixes=('_1', '_2'))\n",
    "actor_pairs = actor_pairs.merge(actors_community, left_on='Freebase_actor_ID_y', right_on='Freebase_actor_ID', suffixes=('_1', '_2'))\n",
    "actor_pairs = actor_pairs.drop(['Freebase_actor_ID_1','Freebase_actor_ID_2'], axis = 1)\n",
    "#actor_pairs = actor_pairs.query(\"Community_1 != Community_2\")\n",
    "\n",
    "# switch when com1<com2\n",
    "actor_pairs['Community_1'], actor_pairs['Community_2'] = np.where(actor_pairs.Community_1>actor_pairs.Community_2,[actor_pairs.Community_2,actor_pairs.Community_1],[actor_pairs.Community_1,actor_pairs.Community_2])\n",
    "\n",
    "# count number of movies and watch mean movies in common\n",
    "actor_pairs = actor_pairs.groupby(['Community_1','Community_2']).agg(['count', 'mean']).reset_index()\n",
    "\n",
    "#actor_pairs.columns = actor_pairs.columns.droplevel(0)\n",
    "actor_pairs.columns = actor_pairs.columns.droplevel(0)\n",
    "actor_pairs.columns = ['Community_1','Community_2','count', 'mean']\n",
    "\n",
    "actor_pairs.to_csv('CSV_files/inter-communities-caracteristics.csv')\n",
    "\n",
    "actor_pairs.head()\n"
   ]
  },
  {
   "cell_type": "code",
   "execution_count": 59,
   "metadata": {},
   "outputs": [
    {
     "name": "stdout",
     "output_type": "stream",
     "text": [
      "Number of nodes:  20\n",
      "Number of edges:  69\n"
     ]
    }
   ],
   "source": [
    "# create a non directed graph from the dataframe\n",
    "G_communities = nx.from_pandas_edgelist(actor_pairs, source='Community_1',\n",
    "                            target='Community_2', edge_attr='count')\n",
    "#G_communities.add_node(11)\n",
    "# show the number of nodes and edges in the graph\n",
    "print('Number of nodes: ', G_communities.number_of_nodes())\n",
    "print('Number of edges: ', G_communities.number_of_edges())"
   ]
  },
  {
   "cell_type": "code",
   "execution_count": 60,
   "metadata": {},
   "outputs": [
    {
     "data": {
      "image/png": "[encoded data removed]",
      "text/plain": [
       "<Figure size 432x288 with 1 Axes>"
      ]
     },
     "metadata": {},
     "output_type": "display_data"
    }
   ],
   "source": [
    "nx.draw_shell(G_communities, with_labels = True)"
   ]
  },
  {
   "cell_type": "markdown",
   "metadata": {},
   "source": [
    "### 3.4.3 old analyse from M2"
   ]
  },
  {
   "cell_type": "markdown",
   "metadata": {},
   "source": [
    "If we aim to see tendencies between those subgroup, we'll need to add features to nodes."
   ]
  },
  {
   "cell_type": "code",
   "execution_count": 61,
   "metadata": {},
   "outputs": [],
   "source": [
    "# for n in G.nodes:\n",
    "#     G.nodes[n]['actor_gender'] = character_metadata[character_metadata.Freebase_actor_ID ==\n",
    "#                                                     n]['actor_gender'].iloc[0]\n",
    "\n"
   ]
  },
  {
   "cell_type": "markdown",
   "metadata": {},
   "source": [
    "We can now compute the assortativity  for certains properties. It measures the similarity of connections in the graph with respect to the given attribute."
   ]
  },
  {
   "cell_type": "code",
   "execution_count": 62,
   "metadata": {},
   "outputs": [],
   "source": [
    "# print(\"gender assortativity: \",\n",
    "#       nx.attribute_assortativity_coefficient(G, 'actor_gender'))\n"
   ]
  },
  {
   "cell_type": "code",
   "execution_count": 63,
   "metadata": {},
   "outputs": [],
   "source": [
    "# store the top 20 communities in dataframes\n",
    "# each row in the dataframe is an actor in the community, the connectivity column represents the total weight of the edges that the actor is connected to\n",
    "# i.e the total number of movies the actor acted in with the other actors in the community\n",
    "top_20_communities = []\n",
    "for i, subgraph in enumerate(subgraphs[:20]):\n",
    "    top_20_communities.append(pd.DataFrame(subgraph.degree(weight='Number_of_common_movies'), columns=[\n",
    "                              'Actor_name', 'connectivity']).sort_values('connectivity', ascending=False))\n"
   ]
  },
  {
   "cell_type": "code",
   "execution_count": 64,
   "metadata": {},
   "outputs": [
    {
     "data": {
      "text/html": [
       "<div>\n",
       "<style scoped>\n",
       "    .dataframe tbody tr th:only-of-type {\n",
       "        vertical-align: middle;\n",
       "    }\n",
       "\n",
       "    .dataframe tbody tr th {\n",
       "        vertical-align: top;\n",
       "    }\n",
       "\n",
       "    .dataframe thead th {\n",
       "        text-align: right;\n",
       "    }\n",
       "</style>\n",
       "<table border=\"1\" class=\"dataframe\">\n",
       "  <thead>\n",
       "    <tr style=\"text-align: right;\">\n",
       "      <th></th>\n",
       "      <th>Wikipedia_movie_ID</th>\n",
       "      <th>Freebase_movie_ID</th>\n",
       "      <th>actor_gender</th>\n",
       "      <th>Actor_name</th>\n",
       "      <th>Freebase_actor_ID</th>\n",
       "      <th>Movie_release_year</th>\n",
       "      <th>Actor_year_of_birth</th>\n",
       "    </tr>\n",
       "  </thead>\n",
       "  <tbody>\n",
       "    <tr>\n",
       "      <th>0</th>\n",
       "      <td>975900</td>\n",
       "      <td>/m/03vyhn</td>\n",
       "      <td>F</td>\n",
       "      <td>Wanda De Jesus</td>\n",
       "      <td>/m/03wcfv7</td>\n",
       "      <td>2001</td>\n",
       "      <td>1958</td>\n",
       "    </tr>\n",
       "    <tr>\n",
       "      <th>1</th>\n",
       "      <td>975900</td>\n",
       "      <td>/m/03vyhn</td>\n",
       "      <td>F</td>\n",
       "      <td>Natasha Henstridge</td>\n",
       "      <td>/m/0346l4</td>\n",
       "      <td>2001</td>\n",
       "      <td>1974</td>\n",
       "    </tr>\n",
       "    <tr>\n",
       "      <th>2</th>\n",
       "      <td>975900</td>\n",
       "      <td>/m/03vyhn</td>\n",
       "      <td>M</td>\n",
       "      <td>Ice Cube</td>\n",
       "      <td>/m/01vw26l</td>\n",
       "      <td>2001</td>\n",
       "      <td>1969</td>\n",
       "    </tr>\n",
       "    <tr>\n",
       "      <th>3</th>\n",
       "      <td>975900</td>\n",
       "      <td>/m/03vyhn</td>\n",
       "      <td>M</td>\n",
       "      <td>Jason Statham</td>\n",
       "      <td>/m/034hyc</td>\n",
       "      <td>2001</td>\n",
       "      <td>1967</td>\n",
       "    </tr>\n",
       "    <tr>\n",
       "      <th>4</th>\n",
       "      <td>975900</td>\n",
       "      <td>/m/03vyhn</td>\n",
       "      <td>F</td>\n",
       "      <td>Clea DuVall</td>\n",
       "      <td>/m/01y9xg</td>\n",
       "      <td>2001</td>\n",
       "      <td>1977</td>\n",
       "    </tr>\n",
       "    <tr>\n",
       "      <th>...</th>\n",
       "      <td>...</td>\n",
       "      <td>...</td>\n",
       "      <td>...</td>\n",
       "      <td>...</td>\n",
       "      <td>...</td>\n",
       "      <td>...</td>\n",
       "      <td>...</td>\n",
       "    </tr>\n",
       "    <tr>\n",
       "      <th>450664</th>\n",
       "      <td>913762</td>\n",
       "      <td>/m/03pcrp</td>\n",
       "      <td>F</td>\n",
       "      <td>Dorothy Elias-Fahn</td>\n",
       "      <td>/m/0b_vcv</td>\n",
       "      <td>1992</td>\n",
       "      <td>1970</td>\n",
       "    </tr>\n",
       "    <tr>\n",
       "      <th>450665</th>\n",
       "      <td>913762</td>\n",
       "      <td>/m/03pcrp</td>\n",
       "      <td>M</td>\n",
       "      <td>Jonathan Fahn</td>\n",
       "      <td>/m/0bx7_j</td>\n",
       "      <td>1992</td>\n",
       "      <td>1965</td>\n",
       "    </tr>\n",
       "    <tr>\n",
       "      <th>450666</th>\n",
       "      <td>28308153</td>\n",
       "      <td>/m/0cp05t9</td>\n",
       "      <td>M</td>\n",
       "      <td>David Hemmings</td>\n",
       "      <td>/m/022g44</td>\n",
       "      <td>1957</td>\n",
       "      <td>1941</td>\n",
       "    </tr>\n",
       "    <tr>\n",
       "      <th>450667</th>\n",
       "      <td>28308153</td>\n",
       "      <td>/m/0cp05t9</td>\n",
       "      <td>NaN</td>\n",
       "      <td>Roberta Paterson</td>\n",
       "      <td>/m/0g8ngmm</td>\n",
       "      <td>1957</td>\n",
       "      <td>NaN</td>\n",
       "    </tr>\n",
       "    <tr>\n",
       "      <th>450668</th>\n",
       "      <td>28308153</td>\n",
       "      <td>/m/0cp05t9</td>\n",
       "      <td>NaN</td>\n",
       "      <td>John Rogers</td>\n",
       "      <td>/m/0btz19d</td>\n",
       "      <td>1957</td>\n",
       "      <td>NaN</td>\n",
       "    </tr>\n",
       "  </tbody>\n",
       "</table>\n",
       "<p>449441 rows × 7 columns</p>\n",
       "</div>"
      ],
      "text/plain": [
       "        Wikipedia_movie_ID Freebase_movie_ID actor_gender          Actor_name  \\\n",
       "0                   975900         /m/03vyhn            F      Wanda De Jesus   \n",
       "1                   975900         /m/03vyhn            F  Natasha Henstridge   \n",
       "2                   975900         /m/03vyhn            M            Ice Cube   \n",
       "3                   975900         /m/03vyhn            M       Jason Statham   \n",
       "4                   975900         /m/03vyhn            F         Clea DuVall   \n",
       "...                    ...               ...          ...                 ...   \n",
       "450664              913762         /m/03pcrp            F  Dorothy Elias-Fahn   \n",
       "450665              913762         /m/03pcrp            M       Jonathan Fahn   \n",
       "450666            28308153        /m/0cp05t9            M      David Hemmings   \n",
       "450667            28308153        /m/0cp05t9          NaN    Roberta Paterson   \n",
       "450668            28308153        /m/0cp05t9          NaN         John Rogers   \n",
       "\n",
       "       Freebase_actor_ID Movie_release_year Actor_year_of_birth  \n",
       "0             /m/03wcfv7               2001                1958  \n",
       "1              /m/0346l4               2001                1974  \n",
       "2             /m/01vw26l               2001                1969  \n",
       "3              /m/034hyc               2001                1967  \n",
       "4              /m/01y9xg               2001                1977  \n",
       "...                  ...                ...                 ...  \n",
       "450664         /m/0b_vcv               1992                1970  \n",
       "450665         /m/0bx7_j               1992                1965  \n",
       "450666         /m/022g44               1957                1941  \n",
       "450667        /m/0g8ngmm               1957                 NaN  \n",
       "450668        /m/0btz19d               1957                 NaN  \n",
       "\n",
       "[449441 rows x 7 columns]"
      ]
     },
     "execution_count": 64,
     "metadata": {},
     "output_type": "execute_result"
    }
   ],
   "source": [
    "character_metadata"
   ]
  },
  {
   "cell_type": "code",
   "execution_count": 65,
   "metadata": {},
   "outputs": [],
   "source": [
    "# for each community add columns for actors ethnicity, gender and date of birth from the character_metadata dataframe\n",
    "# for i, community in enumerate(top_20_communities):\n",
    "#     top_20_communities[i] = community.merge(character_metadata[['Actor_name', 'actor_gender', 'Actor_date_of_birth',                                          ### Actor birth not in df\n",
    "#                                             ]], on='Actor_name', how='inner').drop_duplicates(subset=['Actor_name']).reset_index(drop=True)\n",
    "#     top_20_communities[i]['community'] = i + 1\n",
    "# top_20_communities_all_actors = pd.concat(\n",
    "#     top_20_communities).reset_index(drop=True)\n"
   ]
  },
  {
   "cell_type": "code",
   "execution_count": 66,
   "metadata": {},
   "outputs": [],
   "source": [
    "# G2 = nx.connected_watts_strogatz_graph(30, 5, .2)\n",
    "# nodes = G2.nodes()\n",
    "# edges = list(G2.edges(data=True))\n"
   ]
  },
  {
   "cell_type": "markdown",
   "metadata": {},
   "source": [
    "Additionnally from observing actors in each communities, we would like to include in our communities' analysis the movies within each community, i.e. the movies that connect actors together within a single community. For this purpose, we start by mapping movies' occurencies for each community. \n",
    "Later on, we can use this table to analyze the number of movies within each community, whether a movie appears in only one, or several communities, and also add movies features such as genre, length or date of release. "
   ]
  },
  {
   "cell_type": "code",
   "execution_count": 67,
   "metadata": {},
   "outputs": [],
   "source": [
    "# movies_com_list = pd.DataFrame(columns=['movie_index', 'community'])\n",
    "\n",
    "# # first we extract for each edge in a subgraph the corresponding movies and store in a dataframe the movie index and the community\n",
    "# for community_nb in range(1, 21):\n",
    "#     for x in subgraphs[community_nb-1].edges:\n",
    "#         movies = actors_pairs_common_movies_filtered.loc[(actors_pairs_common_movies_filtered['Freebase_actor_ID_x'] == x[0])\n",
    "#                                                          & (actors_pairs_common_movies_filtered['Freebase_actor_ID_y'] == x[1])].Common_movies\n",
    "#         if len(movies) == 0:\n",
    "#             movies = actors_pairs_common_movies_filtered.loc[(actors_pairs_common_movies_filtered['Freebase_actor_ID_x'] == x[1])\n",
    "#                                                              & (actors_pairs_common_movies_filtered['Freebase_actor_ID_y'] == x[0])].Common_movies\n",
    "#         if len(movies) == 0:\n",
    "#             print('error')\n",
    "#         for liste in movies:\n",
    "#             for elt in liste:\n",
    "#                 movies_com_list = movies_com_list.append(pd.DataFrame([[int(elt), int(\n",
    "#                     community_nb)]], columns=['movie_index', 'community']), ignore_index=True)\n",
    "\n",
    "# # data rearranged to have each movie as a row, and each community as a column. the value describes the numbers of edges referring to a movie within the specified community\n",
    "# movie_com_table = movies_com_list.pivot_table(\n",
    "#     columns='community', index='movie_index', aggfunc=len, fill_value=0)\n",
    "# movie_com_table.to_csv('./CSV_files/movies_communities_table.csv')\n"
   ]
  },
  {
   "cell_type": "code",
   "execution_count": 68,
   "metadata": {},
   "outputs": [],
   "source": [
    "# movie_com_table"
   ]
  },
  {
   "cell_type": "code",
   "execution_count": 69,
   "metadata": {},
   "outputs": [],
   "source": [
    "# Aggregate this information with the features of each movie\n",
    "# movies_com_metadata = pd.merge(\n",
    "#     movies_metadata, movie_com_table, left_on='Wikipedia_movie_ID', right_on='movie_index')\n",
    "# movies_com_metadata.to_csv('./CSV_files/movies_communities_metadata.csv')\n"
   ]
  },
  {
   "cell_type": "markdown",
   "metadata": {},
   "source": [
    "## 3.5 Preprocessing of scraped data "
   ]
  },
  {
   "cell_type": "markdown",
   "metadata": {},
   "source": [
    "The dataframe used in this section is the dataframe produced by the file \"scraping.ipynb\" . \n",
    "This dataframe is based on an older and no longer valid version of our top 20 communities . \n",
    "<br /> The scraping was done only on the cast of actors of those communities for time constraints but our network have changed in the meantime. So this is just an example of how we would preprocess the data obtained from scraping ,  namely \"actor_country_of_citizenship\" and \"actor_occupation\"."
   ]
  },
  {
   "cell_type": "code",
   "execution_count": 70,
   "metadata": {},
   "outputs": [
    {
     "ename": "NameError",
     "evalue": "name 'actors_scraping' is not defined",
     "output_type": "error",
     "traceback": [
      "\u001b[1;31m---------------------------------------------------------------------------\u001b[0m",
      "\u001b[1;31mNameError\u001b[0m                                 Traceback (most recent call last)",
      "Input \u001b[1;32mIn [70]\u001b[0m, in \u001b[0;36m<cell line: 2>\u001b[1;34m()\u001b[0m\n\u001b[0;32m      1\u001b[0m \u001b[38;5;66;03m# add gender info to the dataframe\u001b[39;00m\n\u001b[1;32m----> 2\u001b[0m actors_scraping \u001b[38;5;241m=\u001b[39m \u001b[43mactors_scraping\u001b[49m\u001b[38;5;241m.\u001b[39mmerge(character_metadata[[\u001b[38;5;124m'\u001b[39m\u001b[38;5;124mFreebase_actor_ID\u001b[39m\u001b[38;5;124m'\u001b[39m, \u001b[38;5;124m'\u001b[39m\u001b[38;5;124mactor_gender\u001b[39m\u001b[38;5;124m'\u001b[39m]], on\u001b[38;5;241m=\u001b[39m\u001b[38;5;124m'\u001b[39m\u001b[38;5;124mFreebase_actor_ID\u001b[39m\u001b[38;5;124m'\u001b[39m, how\u001b[38;5;241m=\u001b[39m\u001b[38;5;124m'\u001b[39m\u001b[38;5;124minner\u001b[39m\u001b[38;5;124m'\u001b[39m)\u001b[38;5;241m.\u001b[39mdrop_duplicates(subset\u001b[38;5;241m=\u001b[39m[\u001b[38;5;124m'\u001b[39m\u001b[38;5;124mFreebase_actor_ID\u001b[39m\u001b[38;5;124m'\u001b[39m])\u001b[38;5;241m.\u001b[39mreset_index(drop\u001b[38;5;241m=\u001b[39m\u001b[38;5;28;01mTrue\u001b[39;00m)\n\u001b[0;32m      4\u001b[0m \u001b[38;5;66;03m# make a table with the movies as rows (wikidata movie id should be index) and the communities as columns, the value is the number of actors in the community that acted in the movie\u001b[39;00m\n\u001b[0;32m      5\u001b[0m movies \u001b[38;5;241m=\u001b[39m pd\u001b[38;5;241m.\u001b[39mDataFrame(character_metadata\u001b[38;5;241m.\u001b[39mWikipedia_movie_ID\u001b[38;5;241m.\u001b[39munique(), columns\u001b[38;5;241m=\u001b[39m[\u001b[38;5;124m'\u001b[39m\u001b[38;5;124mWikipedia_movie_ID\u001b[39m\u001b[38;5;124m'\u001b[39m])\n",
      "\u001b[1;31mNameError\u001b[0m: name 'actors_scraping' is not defined"
     ]
    }
   ],
   "source": [
    "# add gender info to the dataframe\n",
    "actors_scraping = actors_scraping.merge(character_metadata[['Freebase_actor_ID', 'actor_gender']], on='Freebase_actor_ID', how='inner').drop_duplicates(subset=['Freebase_actor_ID']).reset_index(drop=True)\n",
    "\n",
    "# make a table with the movies as rows (wikidata movie id should be index) and the communities as columns, the value is the number of actors in the community that acted in the movie\n",
    "movies = pd.DataFrame(character_metadata.Wikipedia_movie_ID.unique(), columns=['Wikipedia_movie_ID'])\n",
    "communities = pd.DataFrame(range(1, 21), columns=['community'])\n",
    "movies_com_table = pd.DataFrame(index=movies.Wikipedia_movie_ID, columns=communities.community, data=0)\n",
    "\n",
    "# get the dictionnary of freebase actor ids for each community\n",
    "actors_dict = {}\n",
    "for community_nb in range(1, 21):\n",
    "    actors_dict[community_nb] = list(\n",
    "        actors_scraping[actors_scraping.Community == community_nb].Freebase_actor_ID)\n",
    "\n",
    "\n",
    "# for each community, for each movie, count the number of actors in the community that acted in the movie (from character_metadata)\n",
    "for community_nb in range(1, 21):\n",
    "    movies_com_table.loc[:, community_nb] = character_metadata.loc[character_metadata.Freebase_actor_ID.isin(actors_dict[community_nb])].groupby(\"Wikipedia_movie_ID\").size()\n",
    "    # NaN values are replaced by 0\n",
    "    movies_com_table.loc[:, community_nb] = movies_com_table.loc[:, community_nb].fillna(0)\n",
    "\n",
    "# remove the lines that do not contain at least two actors from a community\n",
    "movies_com_table = movies_com_table[movies_com_table.max(axis=1) > 1]\n",
    "\n",
    "# save the table\n",
    "movies_com_table.to_csv('./CSV_files/movies_communities_table_scraping_done.csv')\n",
    "\n",
    "movies_com_table\n"
   ]
  },
  {
   "cell_type": "code",
   "execution_count": null,
   "metadata": {},
   "outputs": [],
   "source": [
    "# Aggregate this information with the features of each movie\n",
    "movies_com_metadata = pd.merge(\n",
    "    movies_metadata, movies_com_table, on='Wikipedia_movie_ID')\n",
    "\n",
    "# save the table\n",
    "movies_com_metadata.to_csv('./CSV_files/movies_communities_metadata_scraping_done.csv')"
   ]
  },
  {
   "cell_type": "markdown",
   "metadata": {},
   "source": [
    "### Country of citizenship cleaning "
   ]
  },
  {
   "cell_type": "code",
   "execution_count": null,
   "metadata": {},
   "outputs": [],
   "source": [
    "# extract unique country names\n",
    "unique_countries = actors_scraping['actor_country_of_citizenship'].unique()\n",
    "unique_countries\n"
   ]
  },
  {
   "cell_type": "markdown",
   "metadata": {},
   "source": [
    "We can see that we have some countries that are named in more than way ; Hungary / Kingdom of Hungary , United Kingdom of Great Britain / England / United Kingdom , Russia / Soviet Union ... <br /> We tried to use again a sequence matcher but it didn't hold much results , we will have to regroup manually the concerned countires. <br /> Old country names such as \"Ottoman Empire\",\"Soviet Union\",\"British Raj\" have been renamed to their modern names"
   ]
  },
  {
   "cell_type": "code",
   "execution_count": null,
   "metadata": {},
   "outputs": [],
   "source": [
    "# function that outputs a similarity score between strings\n",
    "def similar(a, b):\n",
    "    return SequenceMatcher(None, a, b).ratio()\n"
   ]
  },
  {
   "cell_type": "code",
   "execution_count": null,
   "metadata": {},
   "outputs": [],
   "source": [
    "# apply the similarity function on unique country names obtained\n",
    "matches = []\n",
    "for n in unique_countries:\n",
    "    for x in unique_countries:\n",
    "        if n != x:\n",
    "            match = similar(str(n), str(x))\n",
    "            if match > 0.5:\n",
    "                matches.append(['match score =', \"%.2f\" %\n",
    "                               match, str(n)+' / '+str(x)])\n",
    "matches[2:10]\n"
   ]
  },
  {
   "cell_type": "code",
   "execution_count": null,
   "metadata": {},
   "outputs": [],
   "source": [
    "# Merge concerned countries into unique key countries\n",
    "countries_wordsets = dict([\n",
    "    ('United Kingdom', [\n",
    "     'United Kingdom of Great Britain and Ireland', 'Scotland', 'England', 'Wales']),\n",
    "    ('Ireland', ['Republic of Ireland']),\n",
    "    ('Russia', ['Soviet Union', 'Russian Empire']),\n",
    "    ('Romania', ['Kingdom of Romania']),\n",
    "    ('Hungary', ['Kingdom of Hungary']),\n",
    "    ('China', ['Republic of China', 'People\\'s Republic of China']),\n",
    "    ('Italy', ['Kingdom of Italy']),\n",
    "    ('Hong Kong', ['British Hong Kong']),\n",
    "    ('India', ['British Raj']),\n",
    "    ('Germany', ['German Empire']),\n",
    "    ('Netherlands', ['Kingdom of the Netherlands']),\n",
    "    ('Malta', ['Crown Colony of Malta']),\n",
    "    ('Turkey', ['Ottoman Empire'])\n",
    "])\n"
   ]
  },
  {
   "cell_type": "markdown",
   "metadata": {},
   "source": [
    "Now that we have a dictionary that can normalize country names , all we have to do is replace the problematic country names with their correspondant name ."
   ]
  },
  {
   "cell_type": "code",
   "execution_count": null,
   "metadata": {},
   "outputs": [],
   "source": [
    "actors_scraping['actor_country_of_citizenship'] = actors_scraping['actor_country_of_citizenship'].apply(\n",
    "    lambda x:  [k for k, v in countries_wordsets.items() if x in v][0] if len([k for k, v in countries_wordsets.items() if x in v]) != 0 else x)\n",
    "actors_scraping['actor_country_of_citizenship'].value_counts()\n"
   ]
  },
  {
   "cell_type": "markdown",
   "metadata": {},
   "source": [
    "### Occupation preprocessing"
   ]
  },
  {
   "cell_type": "markdown",
   "metadata": {},
   "source": [
    "The occupation column is a list of occupations in string format . \n",
    "<br /> The first step is to eliminate non desired characters from the string such as ' , [ , ] "
   ]
  },
  {
   "cell_type": "code",
   "execution_count": null,
   "metadata": {},
   "outputs": [],
   "source": [
    "# extract a list from actor_occupations column\n",
    "list_occupations = list(actors_scraping['actor_occupation'])\n",
    "# function that extracts occupations from string of occupations\n",
    "\n",
    "\n",
    "def extract_occupation(string):\n",
    "    occupation_list = \"\"\n",
    "    if isinstance(string, str):\n",
    "        string = string.replace(\"'\", \"\")\n",
    "        string = string.replace(\"[\", \"\")\n",
    "        string = string.replace(\"]\", \"\")\n",
    "        occupation_list = string.split(\",\")\n",
    "\n",
    "    return occupation_list\n",
    "\n",
    "\n",
    "occupations_with_dupilicate = []\n",
    "# get a list of all occupations with duplicates\n",
    "for s in list_occupations:\n",
    "    split_string = extract_occupation(s)\n",
    "    split_string = [x.strip() for x in split_string]\n",
    "    occupations_with_dupilicate.append(split_string)\n"
   ]
  },
  {
   "cell_type": "code",
   "execution_count": null,
   "metadata": {},
   "outputs": [],
   "source": [
    "# get a list of unique occupations\n",
    "occupations_unique = Counter(\n",
    "    [item for sublist in occupations_with_dupilicate for item in sublist])\n",
    "top_25_occupations = occupations_unique.most_common(25)\n",
    "\n",
    "labels = [i[0] for i in top_25_occupations]\n",
    "values = [i[1] for i in top_25_occupations]\n",
    "indexes = np.arange(len(top_25_occupations))\n",
    "width = 1\n",
    "# plot histogram of top 25 occupations distribution\n",
    "plt.bar(indexes, values, width)\n",
    "plt.xticks(indexes + width * 0.5, labels)\n",
    "plt.xticks(rotation=45, ha='right')\n",
    "plt.show()\n"
   ]
  },
  {
   "cell_type": "markdown",
   "metadata": {},
   "source": [
    "We can observe here the 25 most common occupations . <br /> We can see that for the \"actor\" occupation for example, there are a lot of variations like \"film actor\" , \"stage actor\" ... <br />These differences will induce non desired variance between actor occupation , for this reason , we aim here to regroup the different occupation into key occupations that would better represent specific communities . <br /> To be sure to take into account most relevant occupations , we are going to consider the top 50 occupations present in our communities and label them and replace all remaining occupations with \"other\""
   ]
  },
  {
   "cell_type": "code",
   "execution_count": null,
   "metadata": {},
   "outputs": [],
   "source": [
    "# get a list of unique occupations\n",
    "occupations_unique.most_common(50)\n"
   ]
  },
  {
   "cell_type": "code",
   "execution_count": null,
   "metadata": {},
   "outputs": [],
   "source": [
    "# Merge top 50 occupations into unique key occupations\n",
    "occupation_wordsets = dict([\n",
    "    ('actor', ['actor', 'film actor',\n",
    "     'television actor', 'stage actor', 'child actor']),\n",
    "    ('voice actor', ['voice actor', 'dub actor']),\n",
    "    ('director', ['director', 'film director',\n",
    "     'theatrical director', 'television director']),\n",
    "    ('musician', ['singer', 'musician', 'yodeler', 'songwriter', 'rapper',\n",
    "                  \"guitarist\", \"recording artist\", \"record producer\", \"singer-songwriter\", 'jazz musician']),\n",
    "    ('producer', ['producer', 'film producer', 'television producer', 'film editor']),\n",
    "    ('writer', ['screenwriter', 'novelist', 'author', 'playwright', 'writer',\n",
    "                \"autobiographer\"]),\n",
    "    ('dancer', ['dancer', 'ballet dancer']),\n",
    "    ('model', ['model', 'beauty pageant contestant']),\n",
    "    ('athlete', ['American football player', 'stunt performer', 'athlete']),\n",
    "    ('presenter', ['radio personality', 'presenter','animator']),\n",
    "    ('artist', ['painter', 'sculptor', 'poet', 'painter','photographer']),\n",
    "    ('politician', ['military officer', 'military personnel', 'politician']),\n",
    "    ('comedian', ['comedian', 'stand-up comedian', 'podcaster']),\n",
    "    ('businessperson', ['businessman', 'businesswoman',\n",
    "     'businessperson', 'entrepreneur']),\n",
    "    ('journalist', ['journalist'])\n",
    "])\n"
   ]
  },
  {
   "cell_type": "code",
   "execution_count": null,
   "metadata": {},
   "outputs": [],
   "source": [
    "# split occupation string into list of strings\n",
    "actors_scraping['actor_occupation']=actors_scraping['actor_occupation'].apply(extract_occupation)"
   ]
  },
  {
   "cell_type": "code",
   "execution_count": null,
   "metadata": {},
   "outputs": [],
   "source": [
    "# strip actor_occupation list of whitespaces\n",
    "actors_scraping['actor_occupation'] = actors_scraping['actor_occupation'].apply(\n",
    "    lambda x: [i.strip() for i in x])\n"
   ]
  },
  {
   "cell_type": "code",
   "execution_count": null,
   "metadata": {},
   "outputs": [],
   "source": [
    "# create a new collumn occupation_filtered where you group the occupations into the keys of occupation_wordsets\n",
    "actors_scraping['occupation_filtered'] = actors_scraping['actor_occupation'].apply(\n",
    "    lambda x: [k for k, v in occupation_wordsets.items() if any(i in v for i in x)] if len([k for k, v in occupation_wordsets.items() if any(i in v for i in x)]) != 0 else x)\n",
    "actors_scraping['occupation_filtered'].value_counts()"
   ]
  },
  {
   "cell_type": "code",
   "execution_count": null,
   "metadata": {},
   "outputs": [],
   "source": [
    "actors_scraping"
   ]
  },
  {
   "cell_type": "markdown",
   "metadata": {},
   "source": [
    "Now that we have a clear classification of the occupations and countries , we can characterize the communities"
   ]
  },
  {
   "cell_type": "markdown",
   "metadata": {},
   "source": [
    "### Communities characterization"
   ]
  },
  {
   "cell_type": "code",
   "execution_count": null,
   "metadata": {},
   "outputs": [],
   "source": [
    "def aggregate_occupation(column):\n",
    "\n",
    "    return pd.Series([x for item in column for x in item]).value_counts(normalize=True)\n"
   ]
  },
  {
   "cell_type": "code",
   "execution_count": null,
   "metadata": {},
   "outputs": [],
   "source": [
    "communities_feature = pd.DataFrame(columns=['Community', 'Males_%', 'Females_%', '1st_country','1st_country_%','2nd_country', \n",
    "                                       '2nd_country_%', '3rd_country','3rd_country_%', '1st_occupation','1st_occupation_%', '2nd_occupation','2nd_occupation_%', '3rd_occupation','3rd_occupation_%'])\n",
    "for i in range(0, 20):\n",
    "    df = actors_scraping[actors_scraping['Community'] == i+1]\n",
    "    gender_distribution = df['actor_gender'].value_counts(normalize=True) * 100\n",
    "    country_distribution_labels = df['actor_country_of_citizenship'].value_counts(\n",
    "        normalize=True).index.tolist()\n",
    "    country_distribution_values = df['actor_country_of_citizenship'].value_counts(\n",
    "        normalize=True)*100\n",
    "    occupation_distribution_labels = aggregate_occupation(df['occupation_filtered']).index.tolist()\n",
    "    occupation_distribution_values = aggregate_occupation(df['occupation_filtered'])*100\n",
    "    # fill the communities_feature dataframe\n",
    "    communities_feature.at[i,'Community']=i+1\n",
    "    communities_feature.at[i,'Males_%']=gender_distribution.M\n",
    "    communities_feature.at[i,'Females_%']=gender_distribution.F\n",
    "    # We take the top 3 countries and top 3 occupations for each community , we don't consider actor occupation since it's number 1 in all communities\n",
    "    if len(country_distribution_values) >= 3:\n",
    "        communities_feature.at[i,'1st_country_%']=country_distribution_values[0]\n",
    "        communities_feature.at[i,'2nd_country_%']=country_distribution_values[1]\n",
    "        communities_feature.at[i,'3rd_country_%']=country_distribution_values[2]\n",
    "        communities_feature.at[i,'1st_country']=country_distribution_labels[0]\n",
    "        communities_feature.at[i,'2nd_country']=country_distribution_labels[1]\n",
    "        communities_feature.at[i,'3rd_country']=country_distribution_labels[2]\n",
    "    elif len(country_distribution_values) == 2 :\n",
    "        communities_feature.at[i,'1st_country_%']=country_distribution_values[0]\n",
    "        communities_feature.at[i,'2nd_country_%']=country_distribution_values[1]\n",
    "        communities_feature.at[i,'3rd_country_%']=0\n",
    "        communities_feature.at[i,'1st_country']=country_distribution_labels[0]\n",
    "        communities_feature.at[i,'2nd_country']=country_distribution_labels[1]\n",
    "        communities_feature.at[i,'3rd_country']=0\n",
    "    else :\n",
    "        communities_feature.at[i,'1st_country_%']=country_distribution_values[0]\n",
    "        communities_feature.at[i,'2nd_country_%']=0\n",
    "        communities_feature.at[i,'3rd_country_%']=0\n",
    "        communities_feature.at[i,'1st_country']=country_distribution_labels[0]\n",
    "        communities_feature.at[i,'2nd_country']=0\n",
    "        communities_feature.at[i,'3rd_country']=0\n",
    "    communities_feature.at[i,'1st_occupation_%']=occupation_distribution_values[1]\n",
    "    communities_feature.at[i,'2nd_occupation_%']=occupation_distribution_values[2]\n",
    "    communities_feature.at[i,'3rd_occupation_%']=occupation_distribution_values[3]\n",
    "    communities_feature.at[i,'1st_occupation']=occupation_distribution_labels[1]\n",
    "    communities_feature.at[i,'2nd_occupation']=occupation_distribution_labels[2]\n",
    "    communities_feature.at[i,'3rd_occupation']=occupation_distribution_labels[3]\n",
    "\n"
   ]
  },
  {
   "cell_type": "code",
   "execution_count": null,
   "metadata": {},
   "outputs": [],
   "source": [
    "communities_feature"
   ]
  },
  {
   "cell_type": "code",
   "execution_count": null,
   "metadata": {},
   "outputs": [],
   "source": [
    "# save communties features in csv files folder\n",
    "communities_feature.to_csv('./CSV_files/communities_features.csv', index=False)"
   ]
  },
  {
   "cell_type": "code",
   "execution_count": null,
   "metadata": {},
   "outputs": [],
   "source": [
    "# df = top_20_communities_all_actors.groupby('community')\n",
    "\n",
    "# df_fill = df.agg('count')\n",
    "# # df_fill[['connectivity','actor_gender','Actor_date_of_birth','Actor_ethnicity']]/4\n",
    "# df_fill['actor_gender'] = df_fill.apply(\n",
    "#     lambda r: r.actor_gender/r.Actor_name*100, axis=1)\n",
    "# df_fill['connectivity'] = df_fill.apply(\n",
    "#     lambda r: r.connectivity / r.Actor_name*100, axis=1)\n",
    "# df_fill['Actor_date_of_birth'] = df_fill.apply(\n",
    "#     lambda r: r.Actor_date_of_birth/r.Actor_name*100, axis=1)\n",
    "# df_fill['Actor_ethnicity'] = df_fill.apply(\n",
    "#     lambda r: r.Actor_ethnicity/r.Actor_name*100, axis=1)\n",
    "# df_fill\n",
    "\n",
    "# # gender is always here\n",
    "# # date of birth never less than 70%\n",
    "# # ethnicity very small representation (no more than 60% values)\n"
   ]
  },
  {
   "cell_type": "markdown",
   "metadata": {},
   "source": [
    "## 3.6 Gapminder sytle visualization"
   ]
  },
  {
   "cell_type": "markdown",
   "metadata": {},
   "source": [
    "### 3.6.1 Cleaning the data"
   ]
  },
  {
   "cell_type": "code",
   "execution_count": null,
   "metadata": {},
   "outputs": [],
   "source": [
    "actors_dataframe = actors_scraping[['Actor_name', 'actor_gender', 'Actor_date_of_birth',\n",
    "                                    'Freebase_actor_ID', 'Wikidata_actor_id', 'actor_country_of_citizenship', 'community', 'actor_occupation']]\n",
    "# print the number of missing values in each column feature\n",
    "print('the number of missing values in actor_name column is',\n",
    "      actors_dataframe['Actor_name'].isnull().sum())\n",
    "print('the number of missing values in the actor gender column is',\n",
    "      actors_dataframe['actor_gender'].isnull().sum())\n",
    "print('the number of missing values in actor_date_of_birth column is',\n",
    "      actors_dataframe['Actor_date_of_birth'].isnull().sum())\n",
    "print('the number of missing values in freebase_actor_id column is',\n",
    "      actors_dataframe['Freebase_actor_ID'].isnull().sum())\n",
    "print('the number of missing values in wiki_data_actor_id column is',\n",
    "      actors_dataframe['Wikidata_actor_id'].isnull().sum())\n",
    "print('the number of missing values in actor_country_of_citizenship column is',\n",
    "      actors_dataframe['actor_country_of_citizenship'].isnull().sum())\n",
    "print('the number of missing values in community column is',\n",
    "      actors_dataframe['community'].isnull().sum())\n",
    "print('the number of missing values in actor_occupation column is',\n",
    "      actors_dataframe['actor_occupation'].isnull().sum())\n"
   ]
  },
  {
   "cell_type": "code",
   "execution_count": null,
   "metadata": {},
   "outputs": [],
   "source": [
    "actors_dataframe\n"
   ]
  },
  {
   "cell_type": "code",
   "execution_count": null,
   "metadata": {},
   "outputs": [],
   "source": [
    "# function to extract the year from the date of birth\n",
    "def extract_year(date_of_birth):\n",
    "    if date_of_birth is not None:\n",
    "        # convert to string\n",
    "        date_of_birth = str(date_of_birth)\n",
    "        if '-' in date_of_birth:\n",
    "            date = date_of_birth.split('-')\n",
    "        else :\n",
    "            date = date_of_birth.split('/')\n",
    "        # the year of birth is the substring of length 4 among the date substrings\n",
    "        for string in date:\n",
    "            if len(string) == 4:\n",
    "                return int(string)\n",
    "\n",
    "# apply the function to the date of birth column\n",
    "actors_dataframe['Year_of_birth'] = actors_dataframe['Actor_date_of_birth'].apply(extract_year)\n",
    "# sanity check: assert that number of missing values in the year of birth column is equal to the number of missing values in the date of birth column\n",
    "assert actors_dataframe['Year_of_birth'].isnull().sum() == actors_dataframe['Actor_date_of_birth'].isnull().sum()\n",
    "# drop the date of birth column\n",
    "actors_dataframe.drop('Actor_date_of_birth', axis=1, inplace=True)\n",
    "    "
   ]
  },
  {
   "cell_type": "code",
   "execution_count": null,
   "metadata": {},
   "outputs": [],
   "source": [
    "# fill the year of birth column with the median value of the year of birth from the same community which are not missing\n",
    "actors_dataframe['Year_of_birth'] = actors_dataframe.groupby(\n",
    "    'community')['Year_of_birth'].apply(lambda x: x.fillna(x.median()))\n"
   ]
  },
  {
   "cell_type": "code",
   "execution_count": null,
   "metadata": {},
   "outputs": [],
   "source": [
    "# fill the missing gender values randomly with the probability of each within the same community\n",
    "gender_probabilities = actors_dataframe.groupby(\n",
    "    'community')['actor_gender'].value_counts(normalize=True)\n",
    "actors_dataframe['actor_gender'] = actors_dataframe.groupby('community')['actor_gender'].apply(\n",
    "    lambda x: x.fillna(np.random.choice(['M', 'F'], p=gender_probabilities[x.name])))\n",
    "# fill the missing country of citizenship values randomly with the probability of each within the same community\n",
    "actors_dataframe['actor_country_of_citizenship'] = actors_dataframe.groupby('community')['actor_country_of_citizenship'].apply(\n",
    "    lambda x: x.fillna(np.random.choice(x.value_counts().index, p=x.value_counts(normalize=True).values)))\n",
    "# fill the missing occupation values with a list containing a single string 'actor'\n",
    "actors_dataframe['actor_occupation'] = actors_dataframe['actor_occupation'].fillna(\n",
    "    \"['actor']\")\n"
   ]
  },
  {
   "cell_type": "markdown",
   "metadata": {},
   "source": [
    "### 3.6.2 Preprocessing the data"
   ]
  },
  {
   "cell_type": "markdown",
   "metadata": {},
   "source": [
    "#### 3.6.2.1 movies"
   ]
  },
  {
   "cell_type": "code",
   "execution_count": null,
   "metadata": {},
   "outputs": [],
   "source": [
    "# drop the rows where the freebase actor id is not present in actors_dataframe\n",
    "actors_movies = actors_new_meta[actors_new_meta['Freebase_actor_ID'].isin(\n",
    "    actors_dataframe['Freebase_actor_ID'])]\n",
    "# sanity check: assert every actor in actors_dataframe is present in actors_movies\n",
    "assert set(actors_dataframe['Freebase_actor_ID']) == set(\n",
    "    actors_movies['Freebase_actor_ID'])\n"
   ]
  },
  {
   "cell_type": "code",
   "execution_count": null,
   "metadata": {},
   "outputs": [],
   "source": [
    "# for each actor in actors_dataframe, make a new coloumn in actors_movies representing a dictionnary with Wikipedia_movie_ID  as key and the movie release year as value\n",
    "actors_dataframe['movies'] = actors_dataframe['Freebase_actor_ID'].apply(lambda x: dict(zip(\n",
    "    actors_movies[actors_movies['Freebase_actor_ID'] == x]['Wikipedia_movie_ID'], actors_movies[actors_movies['Freebase_actor_ID'] == x]['Movie_release_year'].astype(int))))\n"
   ]
  },
  {
   "cell_type": "code",
   "execution_count": null,
   "metadata": {},
   "outputs": [],
   "source": [
    "actors_dataframe\n"
   ]
  },
  {
   "cell_type": "markdown",
   "metadata": {},
   "source": [
    "#### 3.6.2.2 countries"
   ]
  },
  {
   "cell_type": "code",
   "execution_count": null,
   "metadata": {},
   "outputs": [],
   "source": [
    "# show the list of unique countries in the dataset\n",
    "actors_dataframe['actor_country_of_citizenship'].unique()\n",
    "# map countries to coutnries codes using pycountry (make dictionary of countries and codes)\n",
    "countries = actors_dataframe['actor_country_of_citizenship'].unique()\n",
    "countries_codes = dict()\n",
    "for country in countries:\n",
    "    try:\n",
    "        countries_codes[country] = pycountry.countries.search_fuzzy(country)[\n",
    "            0].alpha_2\n",
    "    except LookupError:\n",
    "        countries_codes[country] = None\n",
    "# get the number of missing values in the country codes\n",
    "print('the number of missing values in the country codes is', sum(\n",
    "    [1 for code in countries_codes.values() if code is None]))\n"
   ]
  },
  {
   "cell_type": "code",
   "execution_count": null,
   "metadata": {},
   "outputs": [],
   "source": [
    "# make a new column in actors_dataframe representing the country codes\n",
    "actors_dataframe['country_codes'] = actors_dataframe['actor_country_of_citizenship'].map(\n",
    "    countries_codes)\n"
   ]
  },
  {
   "cell_type": "code",
   "execution_count": null,
   "metadata": {},
   "outputs": [],
   "source": [
    "# using the faker library, generate random longitude and latitude for each actor based on the country code\n",
    "fake = Faker()\n",
    "Faker.seed(4321)\n",
    "actors_dataframe['lat_long'] = actors_dataframe['country_codes'].apply(\n",
    "    lambda x: fake.local_latlng(country_code=x, coords_only=True) if x is not None else None)\n",
    "# split the long_lat column into two columns: longitude and latitude\n",
    "actors_dataframe[['latitude', 'longitude']] = pd.DataFrame(\n",
    "    actors_dataframe['lat_long'].tolist(), index=actors_dataframe.index)\n",
    "# drop the long_lat column\n",
    "actors_dataframe.drop('lat_long', axis=1, inplace=True)\n"
   ]
  },
  {
   "cell_type": "code",
   "execution_count": null,
   "metadata": {},
   "outputs": [],
   "source": [
    "actors_dataframe\n"
   ]
  },
  {
   "cell_type": "markdown",
   "metadata": {},
   "source": [
    "# function that given a country attributes longitude and latitude that are within the country\n",
    "# def get_country_coordinates(country):\n",
    "#### 3.6.2.3 years"
   ]
  },
  {
   "cell_type": "code",
   "execution_count": null,
   "metadata": {},
   "outputs": [],
   "source": [
    "# across all actors get the earliest and latest movie release year\n",
    "earliest_movie_year = actors_dataframe['movies'].apply(\n",
    "    lambda x: min(x.values())).min()\n",
    "latest_movie_year = actors_dataframe['movies'].apply(\n",
    "    lambda x: max(x.values())).max()\n",
    "print('the movie release year range is [{}, {}]'.format(\n",
    "    earliest_movie_year, latest_movie_year))\n"
   ]
  },
  {
   "cell_type": "code",
   "execution_count": null,
   "metadata": {},
   "outputs": [],
   "source": [
    "# for each year in the range of movie release years, make a new dataframe (copy) where the movies that were released after that year are removed\n",
    "actors_per_year = []\n",
    "for year in range(earliest_movie_year, latest_movie_year+1):\n",
    "    year_dataframe = actors_dataframe.copy()\n",
    "    year_dataframe['movies'] = year_dataframe['movies'].apply(\n",
    "        lambda x: {k: v for k, v in x.items() if v <= year})\n",
    "    # compute the number of movies each actor has played in\n",
    "    year_dataframe['number_of_movies'] = year_dataframe['movies'].apply(\n",
    "        lambda x: len(x))\n",
    "    # compute the average age at which each actor has played in a movie\n",
    "    year_dataframe['average_age_when_playing'] = year_dataframe['movies'].apply(\n",
    "        lambda x: np.mean([v for k, v in x.items()])) - year_dataframe['Year_of_birth']\n",
    "    # drop the rows where the movies column is empty\n",
    "    year_dataframe = year_dataframe[year_dataframe['movies'].apply(\n",
    "        lambda x: len(x) > 0)]\n",
    "    actors_per_year.append(year_dataframe)\n",
    "# map dataframes to the year they represent\n",
    "actors_per_year = dict(\n",
    "    zip(range(earliest_movie_year, latest_movie_year+1), actors_per_year))\n"
   ]
  },
  {
   "cell_type": "code",
   "execution_count": null,
   "metadata": {},
   "outputs": [],
   "source": [
    "actors_per_year[1909]\n"
   ]
  },
  {
   "cell_type": "markdown",
   "metadata": {},
   "source": [
    "#### 3.6.2.4 Plotting"
   ]
  },
  {
   "cell_type": "code",
   "execution_count": null,
   "metadata": {},
   "outputs": [],
   "source": [
    "# use scatter geo to plot the actors on a world map for 1940\n",
    "fig = go.Figure()\n",
    "fig.add_trace(go.Scattergeo(\n",
    "    lon=actors_per_year[1940]['longitude'],\n",
    "    lat=actors_per_year[1940]['latitude'],\n",
    "    mode='markers',\n",
    "    marker=dict(\n",
    "        size=actors_per_year[1940]['number_of_movies'],\n",
    "        symbol=actors_per_year[1940]['actor_gender'].map(\n",
    "            {'M': 'circle', 'F': 'square'}),\n",
    "        color=actors_per_year[1940]['community'],\n",
    "        colorscale='Rainbow',\n",
    "        colorbar_title='Community',\n",
    "        line_color='black',\n",
    "        line_width=0.5,\n",
    "        sizemode='area'\n",
    "    ),\n",
    "    text=actors_per_year[1940]['Actor_name'],\n",
    "    hovertemplate='<b>%{text}</b><br><br>' + 'Number of movies: %{marker.size}<br>' +\n",
    "    'Average age when playing: %{customdata:.2f}<extra></extra>',\n",
    "    customdata=actors_per_year[1940]['average_age_when_playing']\n",
    "))\n",
    "fig.update_layout(\n",
    "    title='Actors in 1940',\n",
    "    geo_scope='world',\n",
    "    showlegend=False\n",
    ")\n",
    "fig.show()\n"
   ]
  },
  {
   "cell_type": "code",
   "execution_count": null,
   "metadata": {},
   "outputs": [],
   "source": [
    "# make an animation of the scatter plot of the actors on a map for each year in the range of movie release years\n",
    "\n",
    "# make a list of frames for the animation\n",
    "frames = []\n",
    "for year in range(earliest_movie_year, latest_movie_year+1):\n",
    "    frame = dict(data=[go.Scattergeo(\n",
    "        lat=actors_per_year[year]['latitude'],\n",
    "        lon=actors_per_year[year]['longitude'],\n",
    "        mode='markers',\n",
    "        marker=dict(\n",
    "            # the size of the marker is proportional to the number of movies the actor has played in\n",
    "            size=actors_per_year[year]['number_of_movies'] * 5,\n",
    "            # the color of the marker is proportional to the community the actor belongs to\n",
    "            color=actors_per_year[year]['community'],\n",
    "            # the shape of the marker\n",
    "            symbol=actors_per_year[year]['actor_gender'].map(\n",
    "                {'M': 'triangle-up', 'F': 'circle'}),\n",
    "            # choose discrete colors\n",
    "            colorscale='Rainbow',\n",
    "            cmin=0,\n",
    "            cmax=actors_per_year[year]['community'].max(),\n",
    "            line=dict(width=0.5, color='black')\n",
    "        ),\n",
    "        text=actors_per_year[year]['Actor_name'],\n",
    "        hoverinfo='text'\n",
    "    )],\n",
    "        name=str(year))\n",
    "    frames.append(frame)\n",
    "\n",
    "# make the layout for the animation\n",
    "layout = go.Layout(\n",
    "    title='The actors in the movies released in the year {}'.format(year),\n",
    "    geo=dict(\n",
    "        showframe=False,\n",
    "        showcoastlines=False,\n",
    "        showland=True,\n",
    "        showocean=True,\n",
    "        showlakes=True,\n",
    "        landcolor='rgb(243, 243, 243)',\n",
    "        oceancolor='rgb(0, 255, 255)',\n",
    "        lakecolor='rgb(0, 255, 255)',\n",
    "        projection_type='natural earth',\n",
    "        center=dict(lat=0, lon=0),\n",
    "        scope='world'\n",
    "    ),\n",
    "    # make a play and pause buttons\n",
    "    updatemenus=[dict(\n",
    "        type='buttons',\n",
    "        showactive=False,\n",
    "        y=1,\n",
    "        x=1.15,\n",
    "        xanchor='right',\n",
    "        yanchor='top',\n",
    "        pad=dict(t=0, r=10),\n",
    "        buttons=[dict(\n",
    "            label='Play',\n",
    "            method='animate',\n",
    "            args=[None, dict(frame=dict(duration=100, redraw=False), transition=dict(\n",
    "                duration=0), fromcurrent=True, mode='immediate')]\n",
    "        ), dict(\n",
    "            label='Pause',\n",
    "            method='animate',\n",
    "            args=[[None], dict(frame=dict(duration=0, redraw=False),\n",
    "                               mode='immediate', transition=dict(duration=0))]\n",
    "        )]\n",
    "    )]\n",
    ")\n",
    "\n",
    "# make the figure\n",
    "fig = go.Figure(data=frames[0]['data'], layout=layout, frames=frames)\n",
    "# make the animation\n",
    "fig.show()\n"
   ]
  },
  {
   "cell_type": "markdown",
   "metadata": {
    "tags": []
   },
   "source": [
    "## 3.7 Exporting the graph"
   ]
  },
  {
   "cell_type": "code",
   "execution_count": null,
   "metadata": {},
   "outputs": [],
   "source": [
    "actors_properties = character_metadata.copy().drop_duplicates(subset=['Freebase_actor_ID'])"
   ]
  },
  {
   "cell_type": "code",
   "execution_count": null,
   "metadata": {},
   "outputs": [],
   "source": [
    "for n in G.nodes:\n",
    "    G.nodes[n]['name'] = actors_properties[actors_properties.Freebase_actor_ID == n].Actor_name.item()\n",
    "    for i, c in enumerate(coms.communities):\n",
    "        if n in c:\n",
    "            G.nodes[n]['community'] = i;"
   ]
  },
  {
   "cell_type": "code",
   "execution_count": null,
   "metadata": {},
   "outputs": [],
   "source": [
    "#save into json file for website visualization\n",
    "path_network = f'networks/graph_complete_communities.json'\n",
    "with open(path_network, 'w') as writer:\n",
    "    json.dump(nx.node_link_data(G), writer)"
   ]
  },
  {
   "cell_type": "markdown",
   "metadata": {},
   "source": [
    "this is heavy to visualize, we try making it a bit lighter"
   ]
  },
  {
   "cell_type": "code",
   "execution_count": null,
   "metadata": {},
   "outputs": [],
   "source": [
    "# make a second graph lighter to visualize\n",
    "\n",
    "G_20_com = G.copy()\n",
    "\n",
    "for c in coms.communities[20:]:\n",
    "    G_20_com.remove_nodes_from(c)"
   ]
  },
  {
   "cell_type": "code",
   "execution_count": null,
   "metadata": {},
   "outputs": [],
   "source": [
    "#save into json file for website visualization\n",
    "path_network = f'networks/graph_20_com_complete_communities.json'\n",
    "with open(path_network, 'w') as writer:\n",
    "    json.dump(nx.node_link_data(G_20_com), writer)"
   ]
  },
  {
   "cell_type": "markdown",
   "metadata": {},
   "source": [
    "Let save the network of communities"
   ]
  },
  {
   "cell_type": "code",
   "execution_count": null,
   "metadata": {},
   "outputs": [],
   "source": [
    "#save into json file for website visualization\n",
    "path_network = f'networks/graph_communities.json'\n",
    "with open(path_network, 'w') as writer:\n",
    "    json.dump(nx.node_link_data(G_communities), writer)"
   ]
  }
 ],
 "metadata": {
  "kernelspec": {
   "display_name": "Python 3 (ipykernel)",
   "language": "python",
   "name": "python3"
  },
  "language_info": {
   "codemirror_mode": {
    "name": "ipython",
    "version": 3
   },
   "file_extension": ".py",
   "mimetype": "text/x-python",
   "name": "python",
   "nbconvert_exporter": "python",
   "pygments_lexer": "ipython3",
   "version": "3.9.12"
  },
  "vscode": {
   "interpreter": {
    "hash": "afb734500600fd355917ca529030176ea0ca205570884b88f2f6f7d791fd3fbe"
   }
  }
 },
 "nbformat": 4,
 "nbformat_minor": 4
}
