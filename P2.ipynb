{
 "cells": [
  {
   "cell_type": "markdown",
   "metadata": {},
   "source": [
    "# 1. Import"
   ]
  },
  {
   "cell_type": "code",
   "execution_count": 1,
   "metadata": {},
   "outputs": [
    {
     "name": "stdout",
     "output_type": "stream",
     "text": [
      "Note: to be able to use all crisp methods, you need to install some additional packages:  {'graph_tool', 'wurlitzer'}\n",
      "Note: to be able to use all bipartite methods, you need to install some additional packages:  {'wurlitzer'}\n"
     ]
    }
   ],
   "source": [
    "import numpy as np\n",
    "import pandas as pd\n",
    "import matplotlib.pyplot as plt\n",
    "import seaborn as sns\n",
    "from cdlib import viz\n",
    "import os\n",
    "import sys\n",
    "import warnings\n",
    "warnings.filterwarnings('ignore')\n",
    "import networkx as nx\n",
    "#from pyvis import network as net\n",
    "from cdlib import algorithms, viz\n",
    "from difflib import get_close_matches\n",
    "from collections import Counter\n",
    "from difflib import SequenceMatcher\n",
    "import pandas_profiling\n",
    "from nltk.corpus import names\n",
    "import json"
   ]
  },
  {
   "cell_type": "markdown",
   "metadata": {},
   "source": [
    "## 1.1 Importing data"
   ]
  },
  {
   "cell_type": "code",
   "execution_count": 2,
   "metadata": {},
   "outputs": [],
   "source": [
    "# load data from tsv file to a pandas dataframe\n",
    "movies_metadata = pd.read_csv(\n",
    "    'MovieSummaries/movie.metadata.tsv', sep='\\t', header=None)\n",
    "character_metadata = pd.read_csv(\n",
    "    'MovieSummaries/character.metadata.tsv', sep='\\t', header=None)\n",
    "plot_summaries = pd.read_csv(\n",
    "    'MovieSummaries/plot_summaries.txt', sep='\\t', header=None)\n"
   ]
  },
  {
   "cell_type": "markdown",
   "metadata": {},
   "source": [
    "\n",
    "The columns have the following labels (extracted from Pandaprofiling reports and our analysis):"
   ]
  },
  {
   "cell_type": "markdown",
   "metadata": {},
   "source": [
    "Movie metadata:"
   ]
  },
  {
   "cell_type": "markdown",
   "metadata": {},
   "source": [
    "| Column | Type of data  | Missing values    | Summary   |\n",
    "|---:|:-------------|:-----------|:------|\n",
    "| Wikipedia movie ID | Integer unique  | 0       | Unique Wikipedia IDs to identify movies  |\n",
    "| Freebase movie ID | Categorical unique  | 0    | Unique identifiers for movies in the Freebase database.  |\n",
    "| Movie name | Categorical  | 0       | Movie name in original language   | \n",
    "| Movie release date | Categorical  | 6902 / 8.4%    | Date of release of the movie , can be in different formats and contains some missing values   |\n",
    "| Movie box office revenue | Real number  | 73340 / 89.7%       | Income from ticket sales of the movie . Too many missing values , this column cannot be used . It is also not ideal to replace these values from other data sources since a large portion of the movies of our dataset don't figure in the box office at all . A good idea would be to replace this column with another score metric ( like IMDB ratings ) if needed in P3   |\n",
    "| Movie runtime | Real number  | 20450 / 25.0%    | Length of the movie in minutes . Important amount of missing values but this column won't be needed in our analysis   |\n",
    "| Movie languages | Categorical  | 13866 / 17.0%       | Original language of the movie . Represented in dictionary format with each language and its associated Freebase ID . Contains A few missing values .  |\n",
    "| Movie countries | Categorical  | 8154 / 10.0%    | Country where the movie was released . Represented in dictionary format with each country and its associated Freebase ID . Some missing values but we don't use this column yet . An interesting idea for the next milestone would be to compare communities country distribution with the movie country   |\n",
    "| Movie genres | Categorical | 2294 / 2.8%      | Genre of the movie . Represented in dictionary format with each genre and its associated Freebase ID . Few missing values but we don't use this column yet . This label can be useful to test hypothesis involving communities  |"
   ]
  },
  {
   "cell_type": "markdown",
   "metadata": {},
   "source": [
    "Character metadata:"
   ]
  },
  {
   "cell_type": "markdown",
   "metadata": {},
   "source": [
    "| Column | Type of data  | Missing values    | Summary   |\n",
    "|---:|:-------------|:-----------|:------|\n",
    "| Wikipedia movie ID | Integer   | 0       | Wikipedia ID of the movie where a character is portrayed  |\n",
    "| Freebase movie ID | Categorical unique  | 0    | Identifiers for movies in the Freebase database a character is portrayed  |\n",
    "| Movie release date | Categorical  | 9995 / 2.2%    | Date of release of the movie , can be in different formats and contains some missing values   |\n",
    "| Character name | Categorical  | 257875 / 57.2%       | Name of character portrayed . Contains a lot of missing values and won't be used in our analysis  |\n",
    "| Actor date of birth | Categorical  | 106145 / 23.6%    | Date of birth of the concerned actor . Significant amount of missing values which we will be filling later after communties are established ( explained below ). The actor date of birth is converted to actor age  |\n",
    "| Actor gender | Categorical  | 45609 / 10.1%       | Gender of the actor , either \"M\" or \"F\" . Missing values are replaced using queries from Wikidata  |\n",
    "| Actor height | Real number  | 295845 / 65.6%    | Height of the actor in meters . A lot of missing and skewed values but we won't use this column in our analysis. |\n",
    "| Actor ethnicity  | Categorical | 344611 / 76.5%      | Freebase ID of the ethnicity of the actor . Very interesting feature that would have contributed a lot in our analysis but too many missing values and no way of replacing them . Will be replaced with country of citizenship of the actor after querying from Wikidata   |\n",
    "| Actor name | Categorical  | 1228 / 0.3%    | Name of the actor . Contains some duplicates since some actors have the same name , therefore can't be used reliably to identify specific actors  |\n",
    "| Actor age at movie release | Real number  | 158113 / 35.1%       | Age of the actor when the movie was released . Contains a lot of missing and skewed values but we won't use this column in our analysis |\n",
    "| Freebase character/actor map ID | Categorical  | 0    | Unique Freebase ID of the character. We won't use this column in our analysis  |\n",
    "| Freebase character ID | Categorical | 257865 / 57.2%      | Unique Freebase ID of the character. Contains a lot of missing data and we won't use this column in our analysis   |\n",
    "| Freebase actor ID | Categorical | 815 / 0.2%      | Very few missing values that will be dropped . Main identifier for actors in our analysis  |"
   ]
  },
  {
   "cell_type": "code",
   "execution_count": 3,
   "metadata": {},
   "outputs": [],
   "source": [
    "# label the columns\n",
    "movies_metadata.columns = ['Wikipedia_movie_ID', 'Freebase_movie_ID', 'Movie_name', 'Movie_release_date',\n",
    "                           'Movie_box_office_revenue', 'Movie_runtime', 'Movie_languages', 'Movie_countries', 'Movie_genres']\n",
    "character_metadata.columns = ['Wikipedia_movie_ID', 'Freebase_movie_ID', 'Movie_release_date', 'Character_name', 'Actor_date_of_birth', 'actor_gender',\n",
    "                              'Actor_height_(in_meters)', 'Actor_ethnicity', 'Actor_name', 'Actor_age_at_movie_release', 'Freebase_character/actor_map_ID', 'Freebase_character_ID', 'Freebase_actor_ID']\n",
    "plot_summaries.columns = ['Wikipedia_movie_ID', 'Plot_summary']\n"
   ]
  },
  {
   "cell_type": "markdown",
   "metadata": {},
   "source": [
    "## 1.2 Visualizing samples of raw data"
   ]
  },
  {
   "cell_type": "code",
   "execution_count": 4,
   "metadata": {},
   "outputs": [
    {
     "data": {
      "text/html": [
       "<div>\n",
       "<style scoped>\n",
       "    .dataframe tbody tr th:only-of-type {\n",
       "        vertical-align: middle;\n",
       "    }\n",
       "\n",
       "    .dataframe tbody tr th {\n",
       "        vertical-align: top;\n",
       "    }\n",
       "\n",
       "    .dataframe thead th {\n",
       "        text-align: right;\n",
       "    }\n",
       "</style>\n",
       "<table border=\"1\" class=\"dataframe\">\n",
       "  <thead>\n",
       "    <tr style=\"text-align: right;\">\n",
       "      <th></th>\n",
       "      <th>Wikipedia_movie_ID</th>\n",
       "      <th>Freebase_movie_ID</th>\n",
       "      <th>Movie_name</th>\n",
       "      <th>Movie_release_date</th>\n",
       "      <th>Movie_box_office_revenue</th>\n",
       "      <th>Movie_runtime</th>\n",
       "      <th>Movie_languages</th>\n",
       "      <th>Movie_countries</th>\n",
       "      <th>Movie_genres</th>\n",
       "    </tr>\n",
       "  </thead>\n",
       "  <tbody>\n",
       "    <tr>\n",
       "      <th>36496</th>\n",
       "      <td>15797050</td>\n",
       "      <td>/m/03x_rh8</td>\n",
       "      <td>Shadowhunter</td>\n",
       "      <td>1993</td>\n",
       "      <td>NaN</td>\n",
       "      <td>93.0</td>\n",
       "      <td>{\"/m/02h40lc\": \"English Language\"}</td>\n",
       "      <td>{\"/m/09c7w0\": \"United States of America\"}</td>\n",
       "      <td>{\"/m/0lsxr\": \"Crime Fiction\", \"/m/01jfsb\": \"Th...</td>\n",
       "    </tr>\n",
       "    <tr>\n",
       "      <th>13853</th>\n",
       "      <td>23699986</td>\n",
       "      <td>/m/06znq6h</td>\n",
       "      <td>Angels with Broken Wings</td>\n",
       "      <td>1941</td>\n",
       "      <td>NaN</td>\n",
       "      <td>72.0</td>\n",
       "      <td>{\"/m/02h40lc\": \"English Language\"}</td>\n",
       "      <td>{\"/m/09c7w0\": \"United States of America\"}</td>\n",
       "      <td>{\"/m/02l7c8\": \"Romance Film\", \"/m/01z4y\": \"Com...</td>\n",
       "    </tr>\n",
       "    <tr>\n",
       "      <th>5939</th>\n",
       "      <td>19587744</td>\n",
       "      <td>/m/04mxx8z</td>\n",
       "      <td>Spookies</td>\n",
       "      <td>1986</td>\n",
       "      <td>NaN</td>\n",
       "      <td>85.0</td>\n",
       "      <td>{\"/m/02h40lc\": \"English Language\"}</td>\n",
       "      <td>{\"/m/09c7w0\": \"United States of America\", \"/m/...</td>\n",
       "      <td>{\"/m/03npn\": \"Horror\", \"/m/0hj3m_q\": \"Creature...</td>\n",
       "    </tr>\n",
       "  </tbody>\n",
       "</table>\n",
       "</div>"
      ],
      "text/plain": [
       "       Wikipedia_movie_ID Freebase_movie_ID                Movie_name  \\\n",
       "36496            15797050        /m/03x_rh8              Shadowhunter   \n",
       "13853            23699986        /m/06znq6h  Angels with Broken Wings   \n",
       "5939             19587744        /m/04mxx8z                  Spookies   \n",
       "\n",
       "      Movie_release_date  Movie_box_office_revenue  Movie_runtime  \\\n",
       "36496               1993                       NaN           93.0   \n",
       "13853               1941                       NaN           72.0   \n",
       "5939                1986                       NaN           85.0   \n",
       "\n",
       "                          Movie_languages  \\\n",
       "36496  {\"/m/02h40lc\": \"English Language\"}   \n",
       "13853  {\"/m/02h40lc\": \"English Language\"}   \n",
       "5939   {\"/m/02h40lc\": \"English Language\"}   \n",
       "\n",
       "                                         Movie_countries  \\\n",
       "36496          {\"/m/09c7w0\": \"United States of America\"}   \n",
       "13853          {\"/m/09c7w0\": \"United States of America\"}   \n",
       "5939   {\"/m/09c7w0\": \"United States of America\", \"/m/...   \n",
       "\n",
       "                                            Movie_genres  \n",
       "36496  {\"/m/0lsxr\": \"Crime Fiction\", \"/m/01jfsb\": \"Th...  \n",
       "13853  {\"/m/02l7c8\": \"Romance Film\", \"/m/01z4y\": \"Com...  \n",
       "5939   {\"/m/03npn\": \"Horror\", \"/m/0hj3m_q\": \"Creature...  "
      ]
     },
     "execution_count": 4,
     "metadata": {},
     "output_type": "execute_result"
    }
   ],
   "source": [
    "movies_metadata.sample(3)\n"
   ]
  },
  {
   "cell_type": "code",
   "execution_count": 5,
   "metadata": {},
   "outputs": [
    {
     "data": {
      "text/html": [
       "<div>\n",
       "<style scoped>\n",
       "    .dataframe tbody tr th:only-of-type {\n",
       "        vertical-align: middle;\n",
       "    }\n",
       "\n",
       "    .dataframe tbody tr th {\n",
       "        vertical-align: top;\n",
       "    }\n",
       "\n",
       "    .dataframe thead th {\n",
       "        text-align: right;\n",
       "    }\n",
       "</style>\n",
       "<table border=\"1\" class=\"dataframe\">\n",
       "  <thead>\n",
       "    <tr style=\"text-align: right;\">\n",
       "      <th></th>\n",
       "      <th>Wikipedia_movie_ID</th>\n",
       "      <th>Freebase_movie_ID</th>\n",
       "      <th>Movie_release_date</th>\n",
       "      <th>Character_name</th>\n",
       "      <th>Actor_date_of_birth</th>\n",
       "      <th>actor_gender</th>\n",
       "      <th>Actor_height_(in_meters)</th>\n",
       "      <th>Actor_ethnicity</th>\n",
       "      <th>Actor_name</th>\n",
       "      <th>Actor_age_at_movie_release</th>\n",
       "      <th>Freebase_character/actor_map_ID</th>\n",
       "      <th>Freebase_character_ID</th>\n",
       "      <th>Freebase_actor_ID</th>\n",
       "    </tr>\n",
       "  </thead>\n",
       "  <tbody>\n",
       "    <tr>\n",
       "      <th>359480</th>\n",
       "      <td>18856365</td>\n",
       "      <td>/m/04gmlcs</td>\n",
       "      <td>1972-11-10</td>\n",
       "      <td>NaN</td>\n",
       "      <td>1944-11-17</td>\n",
       "      <td>F</td>\n",
       "      <td>NaN</td>\n",
       "      <td>NaN</td>\n",
       "      <td>Roberta Collins</td>\n",
       "      <td>27.0</td>\n",
       "      <td>/m/06wjlgc</td>\n",
       "      <td>NaN</td>\n",
       "      <td>/m/047ffgl</td>\n",
       "    </tr>\n",
       "    <tr>\n",
       "      <th>166939</th>\n",
       "      <td>9939440</td>\n",
       "      <td>/m/02pxm7r</td>\n",
       "      <td>1943-11-10</td>\n",
       "      <td>NaN</td>\n",
       "      <td>1878-01-16</td>\n",
       "      <td>M</td>\n",
       "      <td>NaN</td>\n",
       "      <td>NaN</td>\n",
       "      <td>Harry Carey</td>\n",
       "      <td>NaN</td>\n",
       "      <td>/m/04l91f2</td>\n",
       "      <td>NaN</td>\n",
       "      <td>/m/03fpwp</td>\n",
       "    </tr>\n",
       "    <tr>\n",
       "      <th>242685</th>\n",
       "      <td>1243185</td>\n",
       "      <td>/m/04llkr</td>\n",
       "      <td>1980</td>\n",
       "      <td>NaN</td>\n",
       "      <td>NaN</td>\n",
       "      <td>NaN</td>\n",
       "      <td>NaN</td>\n",
       "      <td>NaN</td>\n",
       "      <td>Leo Ilial</td>\n",
       "      <td>NaN</td>\n",
       "      <td>/m/0bycxtf</td>\n",
       "      <td>NaN</td>\n",
       "      <td>/m/0bycxtb</td>\n",
       "    </tr>\n",
       "  </tbody>\n",
       "</table>\n",
       "</div>"
      ],
      "text/plain": [
       "        Wikipedia_movie_ID Freebase_movie_ID Movie_release_date  \\\n",
       "359480            18856365        /m/04gmlcs         1972-11-10   \n",
       "166939             9939440        /m/02pxm7r         1943-11-10   \n",
       "242685             1243185         /m/04llkr               1980   \n",
       "\n",
       "       Character_name Actor_date_of_birth actor_gender  \\\n",
       "359480            NaN          1944-11-17            F   \n",
       "166939            NaN          1878-01-16            M   \n",
       "242685            NaN                 NaN          NaN   \n",
       "\n",
       "        Actor_height_(in_meters) Actor_ethnicity       Actor_name  \\\n",
       "359480                       NaN             NaN  Roberta Collins   \n",
       "166939                       NaN             NaN      Harry Carey   \n",
       "242685                       NaN             NaN        Leo Ilial   \n",
       "\n",
       "        Actor_age_at_movie_release Freebase_character/actor_map_ID  \\\n",
       "359480                        27.0                      /m/06wjlgc   \n",
       "166939                         NaN                      /m/04l91f2   \n",
       "242685                         NaN                      /m/0bycxtf   \n",
       "\n",
       "       Freebase_character_ID Freebase_actor_ID  \n",
       "359480                   NaN        /m/047ffgl  \n",
       "166939                   NaN         /m/03fpwp  \n",
       "242685                   NaN        /m/0bycxtb  "
      ]
     },
     "execution_count": 5,
     "metadata": {},
     "output_type": "execute_result"
    }
   ],
   "source": [
    "character_metadata.sample(3)\n"
   ]
  },
  {
   "cell_type": "code",
   "execution_count": 6,
   "metadata": {},
   "outputs": [
    {
     "data": {
      "text/html": [
       "<div>\n",
       "<style scoped>\n",
       "    .dataframe tbody tr th:only-of-type {\n",
       "        vertical-align: middle;\n",
       "    }\n",
       "\n",
       "    .dataframe tbody tr th {\n",
       "        vertical-align: top;\n",
       "    }\n",
       "\n",
       "    .dataframe thead th {\n",
       "        text-align: right;\n",
       "    }\n",
       "</style>\n",
       "<table border=\"1\" class=\"dataframe\">\n",
       "  <thead>\n",
       "    <tr style=\"text-align: right;\">\n",
       "      <th></th>\n",
       "      <th>Wikipedia_movie_ID</th>\n",
       "      <th>Plot_summary</th>\n",
       "    </tr>\n",
       "  </thead>\n",
       "  <tbody>\n",
       "    <tr>\n",
       "      <th>35611</th>\n",
       "      <td>26068451</td>\n",
       "      <td>When the devastating Kocaeli earthquake occurs...</td>\n",
       "    </tr>\n",
       "    <tr>\n",
       "      <th>21765</th>\n",
       "      <td>7532215</td>\n",
       "      <td>Joe Leaphorn, a seasoned cop accustomed to the...</td>\n",
       "    </tr>\n",
       "    <tr>\n",
       "      <th>23560</th>\n",
       "      <td>21250867</td>\n",
       "      <td>Doctor Howard Latimer answers what he believes...</td>\n",
       "    </tr>\n",
       "  </tbody>\n",
       "</table>\n",
       "</div>"
      ],
      "text/plain": [
       "       Wikipedia_movie_ID                                       Plot_summary\n",
       "35611            26068451  When the devastating Kocaeli earthquake occurs...\n",
       "21765             7532215  Joe Leaphorn, a seasoned cop accustomed to the...\n",
       "23560            21250867  Doctor Howard Latimer answers what he believes..."
      ]
     },
     "execution_count": 6,
     "metadata": {},
     "output_type": "execute_result"
    }
   ],
   "source": [
    "plot_summaries.sample(3)\n"
   ]
  },
  {
   "cell_type": "markdown",
   "metadata": {},
   "source": [
    "# 2. Understanding and cleaning data"
   ]
  },
  {
   "cell_type": "markdown",
   "metadata": {},
   "source": [
    "## 2.1 Exploring raw data"
   ]
  },
  {
   "cell_type": "markdown",
   "metadata": {},
   "source": [
    "We use the pandas_profiling librarie to get a first rapid overview of the data. It gives many information like value repartition, correlations and missing values.\n",
    "<br>It ouptput the `character_metadata_report.html` and `movies_metadata_report.html` which can be found in the repo in the folder \"Profiling_reports\" and doesn't requierd to re-run every time so we comment it."
   ]
  },
  {
   "cell_type": "code",
   "execution_count": 7,
   "metadata": {},
   "outputs": [],
   "source": [
    "# # profile the movies metadata dataframe using pandas profiling library than save the report to a html file\n",
    "# movies_metadata.profile_report(title='Movies Metadata Report').to_file(output_file=\"Profiling_reports/movies_metadata_report.html\")\n"
   ]
  },
  {
   "cell_type": "code",
   "execution_count": 8,
   "metadata": {},
   "outputs": [],
   "source": [
    "# # profile the character metadata dataframe using pandas profiling library than save the report to a html file\n",
    "# character_metadata.profile_report(title='Character Metadata Report').to_file(output_file=\"Profiling_reports/character_metadata_report.html\")\n"
   ]
  },
  {
   "cell_type": "markdown",
   "metadata": {},
   "source": [
    "We remark that for movies the `Movie_box_office_revenue`, `Movie_runtime` columns have some missing values and we face the same problems with those columns `Character_name`, `Actor_date_of_birth`, `Actor_height_(in_meters)`, `Actor_ethnicity` in the actor dataset. We'll probably not use most of them except for the boxoffice revenue and the ethnicity who could be interresting but will need some scarping to add missing values."
   ]
  },
  {
   "cell_type": "markdown",
   "metadata": {},
   "source": [
    "## 2.2 Cleaning the data"
   ]
  },
  {
   "cell_type": "markdown",
   "metadata": {},
   "source": [
    "### 2.2.1 Feature selection"
   ]
  },
  {
   "cell_type": "markdown",
   "metadata": {},
   "source": [
    "For the subsequent analysis we will drop the columns representing features we won't use. namely:\n",
    "- `Movie_box_office_revenue`, `Movie_runtime`, `Movie_languages`, `Movie_countries` in the movies_metadata dataset\n",
    "- `Character_name`, `Actor_height_(in_meters)`, `Actor_ethnicity`, `Actor_age_at_movie_release`, `Freebase_character/actor_map_ID`, `Freebase_character_ID` in the character_metadata dataset."
   ]
  },
  {
   "cell_type": "code",
   "execution_count": 9,
   "metadata": {},
   "outputs": [],
   "source": [
    "# drop the columns that are not needed from the movies metadata dataframe:\n",
    "movies_metadata.drop(['Movie_box_office_revenue', 'Movie_runtime',\n",
    "                     'Movie_languages', 'Movie_countries'], axis=1, inplace=True)\n",
    "# drop the columns that are not needed from the character metadata dataframe:\n",
    "character_metadata.drop(['Character_name', 'Actor_height_(in_meters)', 'Actor_ethnicity', 'Actor_age_at_movie_release',\n",
    "                        'Freebase_character/actor_map_ID', 'Freebase_character_ID'], axis=1, inplace=True)\n"
   ]
  },
  {
   "cell_type": "markdown",
   "metadata": {},
   "source": [
    "### 2.2.2 movies_metadata dataset: feature pre-processing"
   ]
  },
  {
   "cell_type": "code",
   "execution_count": 10,
   "metadata": {},
   "outputs": [
    {
     "data": {
      "text/html": [
       "<div>\n",
       "<style scoped>\n",
       "    .dataframe tbody tr th:only-of-type {\n",
       "        vertical-align: middle;\n",
       "    }\n",
       "\n",
       "    .dataframe tbody tr th {\n",
       "        vertical-align: top;\n",
       "    }\n",
       "\n",
       "    .dataframe thead th {\n",
       "        text-align: right;\n",
       "    }\n",
       "</style>\n",
       "<table border=\"1\" class=\"dataframe\">\n",
       "  <thead>\n",
       "    <tr style=\"text-align: right;\">\n",
       "      <th></th>\n",
       "      <th>Wikipedia_movie_ID</th>\n",
       "      <th>Freebase_movie_ID</th>\n",
       "      <th>Movie_name</th>\n",
       "      <th>Movie_release_date</th>\n",
       "      <th>Movie_genres</th>\n",
       "    </tr>\n",
       "  </thead>\n",
       "  <tbody>\n",
       "    <tr>\n",
       "      <th>0</th>\n",
       "      <td>975900</td>\n",
       "      <td>/m/03vyhn</td>\n",
       "      <td>Ghosts of Mars</td>\n",
       "      <td>2001-08-24</td>\n",
       "      <td>{\"/m/01jfsb\": \"Thriller\", \"/m/06n90\": \"Science...</td>\n",
       "    </tr>\n",
       "    <tr>\n",
       "      <th>1</th>\n",
       "      <td>3196793</td>\n",
       "      <td>/m/08yl5d</td>\n",
       "      <td>Getting Away with Murder: The JonBenét Ramsey ...</td>\n",
       "      <td>2000-02-16</td>\n",
       "      <td>{\"/m/02n4kr\": \"Mystery\", \"/m/03bxz7\": \"Biograp...</td>\n",
       "    </tr>\n",
       "    <tr>\n",
       "      <th>2</th>\n",
       "      <td>28463795</td>\n",
       "      <td>/m/0crgdbh</td>\n",
       "      <td>Brun bitter</td>\n",
       "      <td>1988</td>\n",
       "      <td>{\"/m/0lsxr\": \"Crime Fiction\", \"/m/07s9rl0\": \"D...</td>\n",
       "    </tr>\n",
       "    <tr>\n",
       "      <th>3</th>\n",
       "      <td>9363483</td>\n",
       "      <td>/m/0285_cd</td>\n",
       "      <td>White Of The Eye</td>\n",
       "      <td>1987</td>\n",
       "      <td>{\"/m/01jfsb\": \"Thriller\", \"/m/0glj9q\": \"Erotic...</td>\n",
       "    </tr>\n",
       "    <tr>\n",
       "      <th>4</th>\n",
       "      <td>261236</td>\n",
       "      <td>/m/01mrr1</td>\n",
       "      <td>A Woman in Flames</td>\n",
       "      <td>1983</td>\n",
       "      <td>{\"/m/07s9rl0\": \"Drama\"}</td>\n",
       "    </tr>\n",
       "    <tr>\n",
       "      <th>...</th>\n",
       "      <td>...</td>\n",
       "      <td>...</td>\n",
       "      <td>...</td>\n",
       "      <td>...</td>\n",
       "      <td>...</td>\n",
       "    </tr>\n",
       "    <tr>\n",
       "      <th>81736</th>\n",
       "      <td>35228177</td>\n",
       "      <td>/m/0j7hxnt</td>\n",
       "      <td>Mermaids: The Body Found</td>\n",
       "      <td>2011-03-19</td>\n",
       "      <td>{\"/m/07s9rl0\": \"Drama\"}</td>\n",
       "    </tr>\n",
       "    <tr>\n",
       "      <th>81737</th>\n",
       "      <td>34980460</td>\n",
       "      <td>/m/0g4pl34</td>\n",
       "      <td>Knuckle</td>\n",
       "      <td>2011-01-21</td>\n",
       "      <td>{\"/m/03bxz7\": \"Biographical film\", \"/m/07s9rl0...</td>\n",
       "    </tr>\n",
       "    <tr>\n",
       "      <th>81738</th>\n",
       "      <td>9971909</td>\n",
       "      <td>/m/02pygw1</td>\n",
       "      <td>Another Nice Mess</td>\n",
       "      <td>1972-09-22</td>\n",
       "      <td>{\"/m/06nbt\": \"Satire\", \"/m/01z4y\": \"Comedy\"}</td>\n",
       "    </tr>\n",
       "    <tr>\n",
       "      <th>81739</th>\n",
       "      <td>913762</td>\n",
       "      <td>/m/03pcrp</td>\n",
       "      <td>The Super Dimension Fortress Macross II: Lover...</td>\n",
       "      <td>1992-05-21</td>\n",
       "      <td>{\"/m/06n90\": \"Science Fiction\", \"/m/0gw5n2f\": ...</td>\n",
       "    </tr>\n",
       "    <tr>\n",
       "      <th>81740</th>\n",
       "      <td>12476867</td>\n",
       "      <td>/m/02w7zz8</td>\n",
       "      <td>Spliced</td>\n",
       "      <td>2002</td>\n",
       "      <td>{\"/m/01jfsb\": \"Thriller\", \"/m/03npn\": \"Horror\"...</td>\n",
       "    </tr>\n",
       "  </tbody>\n",
       "</table>\n",
       "<p>81741 rows × 5 columns</p>\n",
       "</div>"
      ],
      "text/plain": [
       "       Wikipedia_movie_ID Freebase_movie_ID  \\\n",
       "0                  975900         /m/03vyhn   \n",
       "1                 3196793         /m/08yl5d   \n",
       "2                28463795        /m/0crgdbh   \n",
       "3                 9363483        /m/0285_cd   \n",
       "4                  261236         /m/01mrr1   \n",
       "...                   ...               ...   \n",
       "81736            35228177        /m/0j7hxnt   \n",
       "81737            34980460        /m/0g4pl34   \n",
       "81738             9971909        /m/02pygw1   \n",
       "81739              913762         /m/03pcrp   \n",
       "81740            12476867        /m/02w7zz8   \n",
       "\n",
       "                                              Movie_name Movie_release_date  \\\n",
       "0                                         Ghosts of Mars         2001-08-24   \n",
       "1      Getting Away with Murder: The JonBenét Ramsey ...         2000-02-16   \n",
       "2                                            Brun bitter               1988   \n",
       "3                                       White Of The Eye               1987   \n",
       "4                                      A Woman in Flames               1983   \n",
       "...                                                  ...                ...   \n",
       "81736                           Mermaids: The Body Found         2011-03-19   \n",
       "81737                                            Knuckle         2011-01-21   \n",
       "81738                                  Another Nice Mess         1972-09-22   \n",
       "81739  The Super Dimension Fortress Macross II: Lover...         1992-05-21   \n",
       "81740                                            Spliced               2002   \n",
       "\n",
       "                                            Movie_genres  \n",
       "0      {\"/m/01jfsb\": \"Thriller\", \"/m/06n90\": \"Science...  \n",
       "1      {\"/m/02n4kr\": \"Mystery\", \"/m/03bxz7\": \"Biograp...  \n",
       "2      {\"/m/0lsxr\": \"Crime Fiction\", \"/m/07s9rl0\": \"D...  \n",
       "3      {\"/m/01jfsb\": \"Thriller\", \"/m/0glj9q\": \"Erotic...  \n",
       "4                                {\"/m/07s9rl0\": \"Drama\"}  \n",
       "...                                                  ...  \n",
       "81736                            {\"/m/07s9rl0\": \"Drama\"}  \n",
       "81737  {\"/m/03bxz7\": \"Biographical film\", \"/m/07s9rl0...  \n",
       "81738       {\"/m/06nbt\": \"Satire\", \"/m/01z4y\": \"Comedy\"}  \n",
       "81739  {\"/m/06n90\": \"Science Fiction\", \"/m/0gw5n2f\": ...  \n",
       "81740  {\"/m/01jfsb\": \"Thriller\", \"/m/03npn\": \"Horror\"...  \n",
       "\n",
       "[81741 rows x 5 columns]"
      ]
     },
     "execution_count": 10,
     "metadata": {},
     "output_type": "execute_result"
    }
   ],
   "source": [
    "movies_metadata\n"
   ]
  },
  {
   "cell_type": "markdown",
   "metadata": {},
   "source": [
    "#### 2.2.1.1  `Movie_release_date` column"
   ]
  },
  {
   "cell_type": "code",
   "execution_count": 11,
   "metadata": {},
   "outputs": [
    {
     "data": {
      "text/plain": [
       "10.0    39373\n",
       "4.0     32172\n",
       "7.0      3294\n",
       "Name: Movie_release_date, dtype: int64"
      ]
     },
     "execution_count": 11,
     "metadata": {},
     "output_type": "execute_result"
    }
   ],
   "source": [
    "# show the unique string lengths of the release date column with their counts\n",
    "movies_metadata['Movie_release_date'].str.len().value_counts()\n"
   ]
  },
  {
   "cell_type": "code",
   "execution_count": 12,
   "metadata": {},
   "outputs": [
    {
     "name": "stdout",
     "output_type": "stream",
     "text": [
      "2006\n",
      "1962-09\n",
      "1993-09-17\n"
     ]
    }
   ],
   "source": [
    "# show exemples of dates with length 4,7 and 10 respectively\n",
    "print(movies_metadata[movies_metadata['Movie_release_date'].str.len(\n",
    ") == 4].sample(1)['Movie_release_date'].values[0])\n",
    "print(movies_metadata[movies_metadata['Movie_release_date'].str.len(\n",
    ") == 7].sample(1)['Movie_release_date'].values[0])\n",
    "print(movies_metadata[movies_metadata['Movie_release_date'].str.len(\n",
    ") == 10].sample(1)['Movie_release_date'].values[0])\n"
   ]
  },
  {
   "cell_type": "code",
   "execution_count": 13,
   "metadata": {},
   "outputs": [
    {
     "data": {
      "text/plain": [
       "6902"
      ]
     },
     "execution_count": 13,
     "metadata": {},
     "output_type": "execute_result"
    }
   ],
   "source": [
    "# show the number of missing values in the movie release date column\n",
    "movies_metadata['Movie_release_date'].isnull().sum()\n"
   ]
  },
  {
   "cell_type": "markdown",
   "metadata": {},
   "source": [
    "**Dropped**: We first convert the `Movie_release_date` column to a datetime object and then we extract the year of release, we will rename the column `Movie_release_year` to avoid confusion.\n",
    "\n",
    "\n",
    "**validated**: We strip the year from the `Movie_release_date` column as the substring before the first - character.\n"
   ]
  },
  {
   "cell_type": "code",
   "execution_count": 14,
   "metadata": {},
   "outputs": [],
   "source": [
    "# get the year from the release date column\n",
    "movies_metadata['Movie_release_year'] = movies_metadata['Movie_release_date'].str.split(\n",
    "    '-').str[0]\n",
    "# drop the release date column\n",
    "movies_metadata.drop(['Movie_release_date'], axis=1, inplace=True)\n",
    "\n"
   ]
  },
  {
   "cell_type": "markdown",
   "metadata": {},
   "source": [
    "#### 2.2.1.2 `Movie_genres` column"
   ]
  },
  {
   "cell_type": "code",
   "execution_count": 15,
   "metadata": {},
   "outputs": [],
   "source": [
    "# function that coverts the string to a dictionary\n",
    "def convert_to_dict(string):\n",
    "    if isinstance(string, str):\n",
    "        if string == '{}':\n",
    "            return {}\n",
    "        else:\n",
    "            string = string.replace('{', '').replace('}', '').replace('\"', '')\n",
    "            string = string.split(',')\n",
    "            string = [x.split(':') for x in string]\n",
    "            dictionnary = {x[0].strip(): x[1].strip() for x in string}\n",
    "            return dictionnary\n"
   ]
  },
  {
   "cell_type": "code",
   "execution_count": 16,
   "metadata": {},
   "outputs": [],
   "source": [
    "# apply the function to the genres column\n",
    "movies_metadata['Movie_genres'] = movies_metadata['Movie_genres'].apply(\n",
    "    convert_to_dict)\n"
   ]
  },
  {
   "cell_type": "code",
   "execution_count": 17,
   "metadata": {},
   "outputs": [
    {
     "data": {
      "text/plain": [
       "2294"
      ]
     },
     "execution_count": 17,
     "metadata": {},
     "output_type": "execute_result"
    }
   ],
   "source": [
    "# show the number of missing values in the genres column (empty dictionaries)\n",
    "movies_metadata[movies_metadata['Movie_genres'] == {}].shape[0]\n"
   ]
  },
  {
   "cell_type": "code",
   "execution_count": 18,
   "metadata": {},
   "outputs": [
    {
     "data": {
      "image/png": "[encoded data removed]",
      "text/plain": [
       "<Figure size 1440x720 with 1 Axes>"
      ]
     },
     "metadata": {
      "needs_background": "light"
     },
     "output_type": "display_data"
    }
   ],
   "source": [
    "# visualize the most common genres\n",
    "plt.figure(figsize=(20, 10))\n",
    "plt.title('Most common genres')\n",
    "plt.ylabel('Number of movies')\n",
    "sns.barplot(x=[x for x, y in Counter([x for y in movies_metadata['Movie_genres'].values for x in y.values()]).most_common(\n",
    "    20)], y=[y for x, y in Counter([x for y in movies_metadata['Movie_genres'].values for x in y.values()]).most_common(20)])\n",
    "plt.xticks(rotation=45)\n",
    "plt.show()\n"
   ]
  },
  {
   "cell_type": "code",
   "execution_count": 19,
   "metadata": {},
   "outputs": [
    {
     "data": {
      "image/png": "[encoded data removed]",
      "text/plain": [
       "<Figure size 1440x720 with 1 Axes>"
      ]
     },
     "metadata": {
      "needs_background": "light"
     },
     "output_type": "display_data"
    }
   ],
   "source": [
    "# visualize the distribution of the genres in log scale\n",
    "plt.figure(figsize=(20, 10))\n",
    "plt.title('Distribution of the genres')\n",
    "plt.ylabel('Number of movies')\n",
    "plt.yscale('log')\n",
    "sns.barplot(x=[x for x, y in Counter([x for y in movies_metadata['Movie_genres'].values for x in y.values()]).most_common()], y=[\n",
    "            y for x, y in Counter([x for y in movies_metadata['Movie_genres'].values for x in y.values()]).most_common()])\n",
    "plt.xticks(rotation=45, fontsize=1)\n",
    "plt.show()\n"
   ]
  },
  {
   "cell_type": "markdown",
   "metadata": {},
   "source": [
    "We can easily notice that the genres distribution follows a power law."
   ]
  },
  {
   "cell_type": "markdown",
   "metadata": {},
   "source": [
    "### 2.2.3 character_metadata dataset: feature pre-processing"
   ]
  },
  {
   "cell_type": "markdown",
   "metadata": {},
   "source": [
    "#### 2.2.3.1 `Movie_release_date` column"
   ]
  },
  {
   "cell_type": "code",
   "execution_count": 20,
   "metadata": {},
   "outputs": [
    {
     "name": "stdout",
     "output_type": "stream",
     "text": [
      "Number of missing values in the movie release year column: 9995\n"
     ]
    }
   ],
   "source": [
    "# As we did with the movies metadata dataframe, we will get the year from the release date column\n",
    "character_metadata['Movie_release_year'] = character_metadata['Movie_release_date'].str.split(\n",
    "    '-').str[0]\n",
    "# drop the release date column\n",
    "character_metadata.drop(['Movie_release_date'], axis=1, inplace=True)\n",
    "\n",
    "# show the number of missing values in the movie release year column\n",
    "print('Number of missing values in the movie release year column: {}'.format(character_metadata['Movie_release_year'].isnull().sum()))\n",
    "# fill the missing values in the movie release year column with the median\n",
    "character_metadata['Movie_release_year'].fillna(character_metadata['Movie_release_year'].median(), inplace=True)\n"
   ]
  },
  {
   "cell_type": "code",
   "execution_count": 21,
   "metadata": {},
   "outputs": [
    {
     "name": "stdout",
     "output_type": "stream",
     "text": [
      "Unique values: [1010 1888 1891 1893 1894 1895 1896 1897 1898 1899 1900 1901 1902 1903\n",
      " 1904 1905 1906 1907 1908 1909 1910 1911 1912 1913 1914 1915 1916 1917\n",
      " 1918 1919 1920 1921 1922 1923 1924 1925 1926 1927 1928 1929 1930 1931\n",
      " 1932 1933 1934 1935 1936 1937 1938 1939 1940 1941 1942 1943 1944 1945\n",
      " 1946 1947 1948 1949 1950 1951 1952 1953 1954 1955 1956 1957 1958 1959\n",
      " 1960 1961 1962 1963 1964 1965 1966 1967 1968 1969 1970 1971 1972 1973\n",
      " 1974 1975 1976 1977 1978 1979 1980 1981 1982 1983 1984 1985 1986 1987\n",
      " 1988 1989 1990 1991 1992 1993 1994 1994 1995 1996 1997 1998 1999 2000\n",
      " 2001 2002 2003 2004 2005 2006 2007 2008 2009 2010 2011 2012 2013 2014\n",
      " 2015 2016]\n",
      "Min: 1010\n",
      "Max: 2016\n"
     ]
    }
   ],
   "source": [
    "# show the unique values of the movie release year column\n",
    "years = character_metadata['Movie_release_year'].unique().astype(int)\n",
    "years.sort()\n",
    "print('Unique values: {}'.format(years))\n",
    "# replace '1010' with '2010'\n",
    "character_metadata['Movie_release_year'] = character_metadata['Movie_release_year'].replace('1010', '2010')\n",
    "# find the interval of the movie release year column\n",
    "print('Min: {}'.format(years.min()))\n",
    "print('Max: {}'.format(years.max()))"
   ]
  },
  {
   "cell_type": "code",
   "execution_count": 22,
   "metadata": {},
   "outputs": [
    {
     "data": {
      "image/png": "[encoded data removed]",
      "text/plain": [
       "<Figure size 1440x720 with 1 Axes>"
      ]
     },
     "metadata": {
      "needs_background": "light"
     },
     "output_type": "display_data"
    }
   ],
   "source": [
    "# visulaise the distribution of movie release year column\n",
    "plt.figure(figsize=(20, 10));\n",
    "plt.title('Distribution of movie release year')\n",
    "plt.ylabel('Number of movies')\n",
    "sns.barplot(x=character_metadata['Movie_release_year'].value_counts().index, y=character_metadata['Movie_release_year'].value_counts().values)\n",
    "plt.xticks(rotation=90, fontsize=10);\n"
   ]
  },
  {
   "cell_type": "markdown",
   "metadata": {},
   "source": [
    "#### 2.2.3.2 `Actor_date_of_birth` column"
   ]
  },
  {
   "cell_type": "code",
   "execution_count": 23,
   "metadata": {},
   "outputs": [
    {
     "data": {
      "text/plain": [
       "106145"
      ]
     },
     "execution_count": 23,
     "metadata": {},
     "output_type": "execute_result"
    }
   ],
   "source": [
    "# As we did with the previous column, we will get the year from the actor date of birth column\n",
    "character_metadata['Actor_year_of_birth'] = character_metadata['Actor_date_of_birth'].str.split(\n",
    "    '-').str[0]\n",
    "# drop the actor date of birth column\n",
    "character_metadata.drop(['Actor_date_of_birth'], axis=1, inplace=True)\n",
    "# show the number of missing values in the actor year of birth column\n",
    "character_metadata['Actor_year_of_birth'].isnull().sum()\n"
   ]
  },
  {
   "cell_type": "markdown",
   "metadata": {},
   "source": [
    "#### 2.2.3.3 `Actor_name` column"
   ]
  },
  {
   "cell_type": "markdown",
   "metadata": {},
   "source": [
    "We aim to create a network between actors as nodes and movies as edges. Therfore we need to match those two different dataframes. The `Wikipedia_movie_ID` and `Freebase_movie_ID` are perfect for that as they have no missing values. <br>\n",
    "Furthermore we choose to use `Actor_name` as identifier for the actors as it is more understandable than the Freebase ID. As we will use it as identifier we will need to assure us that each Actor_name relates to a unique actor. And we also want to check if there is some typos in the actor names."
   ]
  },
  {
   "cell_type": "code",
   "execution_count": 24,
   "metadata": {},
   "outputs": [],
   "source": [
    "# first filter the characters where the actor name is null\n",
    "character_metadata = character_metadata.dropna(subset=['Actor_name'])\n",
    "\n"
   ]
  },
  {
   "cell_type": "markdown",
   "metadata": {},
   "source": [
    "Let's start to see if actor names link to a unique ID. This is necessary if we want to use it as identifier. <br>\n",
    "__Note:__ The following tests take a lot of times and are just there to see if somethings is wrong, once we know it we didn't need to re-run it so we commented it."
   ]
  },
  {
   "cell_type": "code",
   "execution_count": 25,
   "metadata": {},
   "outputs": [],
   "source": [
    "# # check if every same actor_names refer to same actor_id\n",
    "# for a in actors_unique.Actor_name:\n",
    "#     same_name = character_metadata.query(\"`Actor_name` == @a\")\n",
    "#     if same_name.Freebase_actor_ID.nunique() > 1:\n",
    "#         print(a, same_name.Freebase_actor_ID.unique())\n"
   ]
  },
  {
   "cell_type": "markdown",
   "metadata": {},
   "source": [
    "We remark that some actors have the same `Actor_name` ! \n",
    "> This mean we can't us it as an identifier as we planned but we'll need to use the Freebase ID instead."
   ]
  },
  {
   "cell_type": "markdown",
   "metadata": {},
   "source": [
    "However we would like to use the actor names and can't ignore the typo question. We tried a naive way with the `get_close_matches` function which return us similar strings. \n",
    "But we have ~100'000 different names which take a lot of time but also gives way to much matches. The problem is that we should check them by hand which isn't possible. <br>\n",
    "Therefore we won't use the first method on the full dataset but later on after having created a smaller dataset we'll use."
   ]
  },
  {
   "cell_type": "code",
   "execution_count": 26,
   "metadata": {},
   "outputs": [],
   "source": [
    "# # for n in actors_unique.Actor_name:\n",
    "#     if type(n) == t:\n",
    "#         match = get_close_matches(n,actors_unique.Actor_name , cutoff=0.9)\n",
    "#         if len(match) > 1:\n",
    "#             print(match)\n"
   ]
  },
  {
   "cell_type": "markdown",
   "metadata": {},
   "source": [
    "We thought to compare if a an id refer to more than one name. As expected it isn't the case, certainly because names and id were scrapped in the same pages."
   ]
  },
  {
   "cell_type": "code",
   "execution_count": 27,
   "metadata": {},
   "outputs": [],
   "source": [
    "# create a dataframe referencing every unique id\n",
    "# actor_id_unique = character_metadata.drop_duplicates('Freebase_actor_ID')\n",
    "# for i in actor_id_unique.Freebase_actor_ID:\n",
    "#     same_name = character_metadata.query(\"`Freebase_actor_ID` == @i\")\n",
    "#     if same_name.Actor_name.nunique() > 1:\n",
    "#         print(\"Freebase id: \", i, \" | names: \", same_name.unique())\n"
   ]
  },
  {
   "cell_type": "code",
   "execution_count": 28,
   "metadata": {
    "tags": []
   },
   "outputs": [
    {
     "name": "stdout",
     "output_type": "stream",
     "text": [
      "Number of characters before filter:  449441\n",
      "Number of characters after filter:  449441\n",
      "Number of characters removed:  0\n"
     ]
    }
   ],
   "source": [
    "# filter characters metadata dataframe to keep only the characters where the actor name is not null\n",
    "characters_before_filter = character_metadata.shape[0]\n",
    "character_metadata = character_metadata[character_metadata['Freebase_actor_ID'].notnull(\n",
    ")]\n",
    "#character_metadata = character_metadata[character_metadata['Freebase_actor_ID'].notnull() & character_metadata['Actor_name'].notnull()]\n",
    "# show how many characters were originally in the dataframe, how many were removed and how many are left\n",
    "print('Number of characters before filter: ', characters_before_filter)\n",
    "print('Number of characters after filter: ', character_metadata.shape[0])\n",
    "print('Number of characters removed: ',\n",
    "      characters_before_filter - character_metadata.shape[0])\n"
   ]
  },
  {
   "cell_type": "markdown",
   "metadata": {},
   "source": [
    "We need movies that have at least 2 actors to connect the nodes."
   ]
  },
  {
   "cell_type": "code",
   "execution_count": 29,
   "metadata": {},
   "outputs": [
    {
     "name": "stdout",
     "output_type": "stream",
     "text": [
      "Number of movies before filter:  64258\n",
      "Number of movies after filter:  48770\n",
      "Number of movies removed:  15488\n"
     ]
    }
   ],
   "source": [
    "# list the characters of each movie in a list and the actors of each movie in a list\n",
    "actors = character_metadata.groupby('Wikipedia_movie_ID')['Freebase_actor_ID'].apply(\n",
    "    list).reset_index().rename(columns={'Freebase_actor_ID': 'Freebase_actor_IDs'})\n",
    "# count the actors of each movie\n",
    "actors['Number_of_actors'] = actors['Freebase_actor_IDs'].apply(lambda x: len(x))\n",
    "# filter the actors dataframe to keep only the movies with more than 2 actors\n",
    "actors = actors[actors['Number_of_actors'] > 2].reset_index(drop=True)\n",
    "# show the number of movies before and after the filter and how many movies were removed\n",
    "print('Number of movies before filter: ',\n",
    "      character_metadata['Wikipedia_movie_ID'].nunique())\n",
    "print('Number of movies after filter: ', actors.shape[0])\n",
    "print('Number of movies removed: ',\n",
    "      character_metadata['Wikipedia_movie_ID'].nunique() - actors.shape[0])\n"
   ]
  },
  {
   "cell_type": "markdown",
   "metadata": {},
   "source": [
    "## 2.3 Further exploration of cleaned data"
   ]
  },
  {
   "cell_type": "markdown",
   "metadata": {},
   "source": [
    "Now that we have drop the data that won't be usefull we can start analysing it."
   ]
  },
  {
   "cell_type": "code",
   "execution_count": 30,
   "metadata": {},
   "outputs": [
    {
     "data": {
      "text/html": [
       "<div>\n",
       "<style scoped>\n",
       "    .dataframe tbody tr th:only-of-type {\n",
       "        vertical-align: middle;\n",
       "    }\n",
       "\n",
       "    .dataframe tbody tr th {\n",
       "        vertical-align: top;\n",
       "    }\n",
       "\n",
       "    .dataframe thead th {\n",
       "        text-align: right;\n",
       "    }\n",
       "</style>\n",
       "<table border=\"1\" class=\"dataframe\">\n",
       "  <thead>\n",
       "    <tr style=\"text-align: right;\">\n",
       "      <th></th>\n",
       "      <th>Wikipedia_movie_ID</th>\n",
       "      <th>Freebase_actor_IDs</th>\n",
       "      <th>Number_of_actors</th>\n",
       "    </tr>\n",
       "  </thead>\n",
       "  <tbody>\n",
       "    <tr>\n",
       "      <th>0</th>\n",
       "      <td>330</td>\n",
       "      <td>[/m/0gh6sw, /m/0267qhz, /m/0263499, /m/0263yvy]</td>\n",
       "      <td>4</td>\n",
       "    </tr>\n",
       "    <tr>\n",
       "      <th>1</th>\n",
       "      <td>3217</td>\n",
       "      <td>[/m/07qn0, /m/0gmjf8, /m/01h8f, /m/01h8f, /m/0...</td>\n",
       "      <td>14</td>\n",
       "    </tr>\n",
       "    <tr>\n",
       "      <th>2</th>\n",
       "      <td>3333</td>\n",
       "      <td>[/m/01c2sl, /m/0bkrvh, /m/0735gw, /m/0krxq4, /...</td>\n",
       "      <td>14</td>\n",
       "    </tr>\n",
       "    <tr>\n",
       "      <th>3</th>\n",
       "      <td>3746</td>\n",
       "      <td>[/m/05wqr1, /m/0c0k1, /m/09byk, /m/0380zg, /m/...</td>\n",
       "      <td>15</td>\n",
       "    </tr>\n",
       "    <tr>\n",
       "      <th>4</th>\n",
       "      <td>3837</td>\n",
       "      <td>[/m/06l6sp, /m/0hn04, /m/02x5ztx, /m/0dk54c, /...</td>\n",
       "      <td>20</td>\n",
       "    </tr>\n",
       "    <tr>\n",
       "      <th>...</th>\n",
       "      <td>...</td>\n",
       "      <td>...</td>\n",
       "      <td>...</td>\n",
       "    </tr>\n",
       "    <tr>\n",
       "      <th>48765</th>\n",
       "      <td>37322106</td>\n",
       "      <td>[/m/08ch36, /m/01zh29, /m/04lgc34]</td>\n",
       "      <td>3</td>\n",
       "    </tr>\n",
       "    <tr>\n",
       "      <th>48766</th>\n",
       "      <td>37373877</td>\n",
       "      <td>[/m/03s_y5, /m/018fyy, /m/02n305, /m/04646h, /...</td>\n",
       "      <td>7</td>\n",
       "    </tr>\n",
       "    <tr>\n",
       "      <th>48767</th>\n",
       "      <td>37476824</td>\n",
       "      <td>[/m/06dzgl, /m/03t8_m, /m/0tj9, /m/0486gk, /m/...</td>\n",
       "      <td>10</td>\n",
       "    </tr>\n",
       "    <tr>\n",
       "      <th>48768</th>\n",
       "      <td>37478048</td>\n",
       "      <td>[/m/0292l3, /m/03j367r, /m/067jsf, /m/06pwf6]</td>\n",
       "      <td>4</td>\n",
       "    </tr>\n",
       "    <tr>\n",
       "      <th>48769</th>\n",
       "      <td>37492363</td>\n",
       "      <td>[/m/0g4tzm9, /m/0g4tzmn, /m/0g4tzm_]</td>\n",
       "      <td>3</td>\n",
       "    </tr>\n",
       "  </tbody>\n",
       "</table>\n",
       "<p>48770 rows × 3 columns</p>\n",
       "</div>"
      ],
      "text/plain": [
       "       Wikipedia_movie_ID                                 Freebase_actor_IDs  \\\n",
       "0                     330    [/m/0gh6sw, /m/0267qhz, /m/0263499, /m/0263yvy]   \n",
       "1                    3217  [/m/07qn0, /m/0gmjf8, /m/01h8f, /m/01h8f, /m/0...   \n",
       "2                    3333  [/m/01c2sl, /m/0bkrvh, /m/0735gw, /m/0krxq4, /...   \n",
       "3                    3746  [/m/05wqr1, /m/0c0k1, /m/09byk, /m/0380zg, /m/...   \n",
       "4                    3837  [/m/06l6sp, /m/0hn04, /m/02x5ztx, /m/0dk54c, /...   \n",
       "...                   ...                                                ...   \n",
       "48765            37322106                 [/m/08ch36, /m/01zh29, /m/04lgc34]   \n",
       "48766            37373877  [/m/03s_y5, /m/018fyy, /m/02n305, /m/04646h, /...   \n",
       "48767            37476824  [/m/06dzgl, /m/03t8_m, /m/0tj9, /m/0486gk, /m/...   \n",
       "48768            37478048      [/m/0292l3, /m/03j367r, /m/067jsf, /m/06pwf6]   \n",
       "48769            37492363               [/m/0g4tzm9, /m/0g4tzmn, /m/0g4tzm_]   \n",
       "\n",
       "       Number_of_actors  \n",
       "0                     4  \n",
       "1                    14  \n",
       "2                    14  \n",
       "3                    15  \n",
       "4                    20  \n",
       "...                 ...  \n",
       "48765                 3  \n",
       "48766                 7  \n",
       "48767                10  \n",
       "48768                 4  \n",
       "48769                 3  \n",
       "\n",
       "[48770 rows x 3 columns]"
      ]
     },
     "execution_count": 30,
     "metadata": {},
     "output_type": "execute_result"
    }
   ],
   "source": [
    "# Firstly print the new dataframe merging movies and actors\n",
    "actors\n"
   ]
  },
  {
   "cell_type": "code",
   "execution_count": 31,
   "metadata": {},
   "outputs": [
    {
     "data": {
      "image/png": "[encoded data removed]",
      "text/plain": [
       "<Figure size 1080x360 with 1 Axes>"
      ]
     },
     "metadata": {
      "needs_background": "light"
     },
     "output_type": "display_data"
    }
   ],
   "source": [
    "plot = sns.displot(actors['Wikipedia_movie_ID'], x=actors['Number_of_actors'],\n",
    "                   log=True, discrete=True, aspect=3)\n",
    "plot = plot.set(title='Distribution of the number of actors per movie',\n",
    "                xlabel='Number of actors',\n",
    "                ylabel='Number of movies')\n"
   ]
  },
  {
   "cell_type": "markdown",
   "metadata": {},
   "source": [
    "# 3. Creating a network of actors"
   ]
  },
  {
   "cell_type": "markdown",
   "metadata": {},
   "source": [
    "It's now time to creat a first network"
   ]
  },
  {
   "cell_type": "markdown",
   "metadata": {},
   "source": [
    "## 3.1 Processing the data"
   ]
  },
  {
   "cell_type": "code",
   "execution_count": 32,
   "metadata": {},
   "outputs": [],
   "source": [
    "# one actor per line in the new dataframe\n",
    "actors_new_meta = actors.merge(character_metadata[[\n",
    "                                'Actor_name', 'Freebase_actor_ID', 'Wikipedia_movie_ID','Movie_release_year']], on='Wikipedia_movie_ID', how='inner')\n"
   ]
  },
  {
   "cell_type": "code",
   "execution_count": 33,
   "metadata": {},
   "outputs": [
    {
     "data": {
      "text/html": [
       "<div>\n",
       "<style scoped>\n",
       "    .dataframe tbody tr th:only-of-type {\n",
       "        vertical-align: middle;\n",
       "    }\n",
       "\n",
       "    .dataframe tbody tr th {\n",
       "        vertical-align: top;\n",
       "    }\n",
       "\n",
       "    .dataframe thead th {\n",
       "        text-align: right;\n",
       "    }\n",
       "</style>\n",
       "<table border=\"1\" class=\"dataframe\">\n",
       "  <thead>\n",
       "    <tr style=\"text-align: right;\">\n",
       "      <th></th>\n",
       "      <th>Wikipedia_movie_ID</th>\n",
       "      <th>Freebase_actor_IDs</th>\n",
       "      <th>Number_of_actors</th>\n",
       "      <th>Actor_name</th>\n",
       "      <th>Freebase_actor_ID</th>\n",
       "      <th>Movie_release_year</th>\n",
       "    </tr>\n",
       "  </thead>\n",
       "  <tbody>\n",
       "    <tr>\n",
       "      <th>0</th>\n",
       "      <td>330</td>\n",
       "      <td>[/m/0gh6sw, /m/0267qhz, /m/0263499, /m/0263yvy]</td>\n",
       "      <td>4</td>\n",
       "      <td>Rosa Maria Sardà</td>\n",
       "      <td>/m/0gh6sw</td>\n",
       "      <td>1996</td>\n",
       "    </tr>\n",
       "    <tr>\n",
       "      <th>1</th>\n",
       "      <td>330</td>\n",
       "      <td>[/m/0gh6sw, /m/0267qhz, /m/0263499, /m/0263yvy]</td>\n",
       "      <td>4</td>\n",
       "      <td>Mercè Pons</td>\n",
       "      <td>/m/0267qhz</td>\n",
       "      <td>1996</td>\n",
       "    </tr>\n",
       "    <tr>\n",
       "      <th>2</th>\n",
       "      <td>330</td>\n",
       "      <td>[/m/0gh6sw, /m/0267qhz, /m/0263499, /m/0263yvy]</td>\n",
       "      <td>4</td>\n",
       "      <td>Anna Lizaran</td>\n",
       "      <td>/m/0263499</td>\n",
       "      <td>1996</td>\n",
       "    </tr>\n",
       "    <tr>\n",
       "      <th>3</th>\n",
       "      <td>330</td>\n",
       "      <td>[/m/0gh6sw, /m/0267qhz, /m/0263499, /m/0263yvy]</td>\n",
       "      <td>4</td>\n",
       "      <td>Núria Espert</td>\n",
       "      <td>/m/0263yvy</td>\n",
       "      <td>1996</td>\n",
       "    </tr>\n",
       "    <tr>\n",
       "      <th>4</th>\n",
       "      <td>3217</td>\n",
       "      <td>[/m/07qn0, /m/0gmjf8, /m/01h8f, /m/01h8f, /m/0...</td>\n",
       "      <td>14</td>\n",
       "      <td>Ted Raimi</td>\n",
       "      <td>/m/07qn0</td>\n",
       "      <td>1992</td>\n",
       "    </tr>\n",
       "    <tr>\n",
       "      <th>...</th>\n",
       "      <td>...</td>\n",
       "      <td>...</td>\n",
       "      <td>...</td>\n",
       "      <td>...</td>\n",
       "      <td>...</td>\n",
       "      <td>...</td>\n",
       "    </tr>\n",
       "    <tr>\n",
       "      <th>427252</th>\n",
       "      <td>37478048</td>\n",
       "      <td>[/m/0292l3, /m/03j367r, /m/067jsf, /m/06pwf6]</td>\n",
       "      <td>4</td>\n",
       "      <td>Sridevi Kapoor</td>\n",
       "      <td>/m/067jsf</td>\n",
       "      <td>1996</td>\n",
       "    </tr>\n",
       "    <tr>\n",
       "      <th>427253</th>\n",
       "      <td>37478048</td>\n",
       "      <td>[/m/0292l3, /m/03j367r, /m/067jsf, /m/06pwf6]</td>\n",
       "      <td>4</td>\n",
       "      <td>Akkineni Nagarjuna</td>\n",
       "      <td>/m/06pwf6</td>\n",
       "      <td>1996</td>\n",
       "    </tr>\n",
       "    <tr>\n",
       "      <th>427254</th>\n",
       "      <td>37492363</td>\n",
       "      <td>[/m/0g4tzm9, /m/0g4tzmn, /m/0g4tzm_]</td>\n",
       "      <td>3</td>\n",
       "      <td>Molly Cera</td>\n",
       "      <td>/m/0g4tzm9</td>\n",
       "      <td>2011</td>\n",
       "    </tr>\n",
       "    <tr>\n",
       "      <th>427255</th>\n",
       "      <td>37492363</td>\n",
       "      <td>[/m/0g4tzm9, /m/0g4tzmn, /m/0g4tzm_]</td>\n",
       "      <td>3</td>\n",
       "      <td>Taylor Marie Milton</td>\n",
       "      <td>/m/0g4tzmn</td>\n",
       "      <td>2011</td>\n",
       "    </tr>\n",
       "    <tr>\n",
       "      <th>427256</th>\n",
       "      <td>37492363</td>\n",
       "      <td>[/m/0g4tzm9, /m/0g4tzmn, /m/0g4tzm_]</td>\n",
       "      <td>3</td>\n",
       "      <td>Spencer Jenkins</td>\n",
       "      <td>/m/0g4tzm_</td>\n",
       "      <td>2011</td>\n",
       "    </tr>\n",
       "  </tbody>\n",
       "</table>\n",
       "<p>427257 rows × 6 columns</p>\n",
       "</div>"
      ],
      "text/plain": [
       "        Wikipedia_movie_ID                                 Freebase_actor_IDs  \\\n",
       "0                      330    [/m/0gh6sw, /m/0267qhz, /m/0263499, /m/0263yvy]   \n",
       "1                      330    [/m/0gh6sw, /m/0267qhz, /m/0263499, /m/0263yvy]   \n",
       "2                      330    [/m/0gh6sw, /m/0267qhz, /m/0263499, /m/0263yvy]   \n",
       "3                      330    [/m/0gh6sw, /m/0267qhz, /m/0263499, /m/0263yvy]   \n",
       "4                     3217  [/m/07qn0, /m/0gmjf8, /m/01h8f, /m/01h8f, /m/0...   \n",
       "...                    ...                                                ...   \n",
       "427252            37478048      [/m/0292l3, /m/03j367r, /m/067jsf, /m/06pwf6]   \n",
       "427253            37478048      [/m/0292l3, /m/03j367r, /m/067jsf, /m/06pwf6]   \n",
       "427254            37492363               [/m/0g4tzm9, /m/0g4tzmn, /m/0g4tzm_]   \n",
       "427255            37492363               [/m/0g4tzm9, /m/0g4tzmn, /m/0g4tzm_]   \n",
       "427256            37492363               [/m/0g4tzm9, /m/0g4tzmn, /m/0g4tzm_]   \n",
       "\n",
       "        Number_of_actors           Actor_name Freebase_actor_ID  \\\n",
       "0                      4     Rosa Maria Sardà         /m/0gh6sw   \n",
       "1                      4           Mercè Pons        /m/0267qhz   \n",
       "2                      4         Anna Lizaran        /m/0263499   \n",
       "3                      4         Núria Espert        /m/0263yvy   \n",
       "4                     14            Ted Raimi          /m/07qn0   \n",
       "...                  ...                  ...               ...   \n",
       "427252                 4       Sridevi Kapoor         /m/067jsf   \n",
       "427253                 4   Akkineni Nagarjuna         /m/06pwf6   \n",
       "427254                 3           Molly Cera        /m/0g4tzm9   \n",
       "427255                 3  Taylor Marie Milton        /m/0g4tzmn   \n",
       "427256                 3      Spencer Jenkins        /m/0g4tzm_   \n",
       "\n",
       "       Movie_release_year  \n",
       "0                    1996  \n",
       "1                    1996  \n",
       "2                    1996  \n",
       "3                    1996  \n",
       "4                    1992  \n",
       "...                   ...  \n",
       "427252               1996  \n",
       "427253               1996  \n",
       "427254               2011  \n",
       "427255               2011  \n",
       "427256               2011  \n",
       "\n",
       "[427257 rows x 6 columns]"
      ]
     },
     "execution_count": 33,
     "metadata": {},
     "output_type": "execute_result"
    }
   ],
   "source": [
    "actors_new_meta\n"
   ]
  },
  {
   "cell_type": "code",
   "execution_count": 34,
   "metadata": {},
   "outputs": [],
   "source": [
    "# dataframe with pairs of actors and the number of movies they acted in together\n",
    "# the dataframe to merge contains all the actors_new_meta dataframe except the actors_names column\n",
    "to_merge = actors_new_meta.drop('Freebase_actor_IDs', axis=1)\n",
    "actors_pairs = to_merge.merge(\n",
    "    to_merge, on=['Wikipedia_movie_ID', 'Number_of_actors'], how='inner')\n",
    "# filter the dataframe to keep only the pairs where the actor ids are different\n",
    "actors_pairs = actors_pairs[actors_pairs['Freebase_actor_ID_x']\n",
    "                            != actors_pairs['Freebase_actor_ID_y']]\n",
    "# filter the dataframe to keep only the pairs that are not interchangeable (actor1, actor2) and (actor2, actor1)\n",
    "actors_pairs = actors_pairs[actors_pairs['Freebase_actor_ID_x']\n",
    "                            < actors_pairs['Freebase_actor_ID_y']]\n"
   ]
  },
  {
   "cell_type": "code",
   "execution_count": 35,
   "metadata": {},
   "outputs": [],
   "source": [
    "# for each pair make a new column with the list of movies they acted in together\n",
    "actors_pairs_common_movies = actors_pairs.groupby(['Actor_name_x', 'Actor_name_y', 'Freebase_actor_ID_x', 'Freebase_actor_ID_y'])[\n",
    "    'Wikipedia_movie_ID'].apply(list).reset_index().rename(columns={'Wikipedia_movie_ID': 'Common_movies'})\n",
    "# remove the duplicates in the movies list\n",
    "actors_pairs_common_movies['Common_movies'] = actors_pairs_common_movies['Common_movies'].apply(\n",
    "    lambda x: list(set(x)))\n"
   ]
  },
  {
   "cell_type": "code",
   "execution_count": 36,
   "metadata": {},
   "outputs": [],
   "source": [
    "# number of common movies between each pair of actors\n",
    "actors_pairs_common_movies['Number_of_common_movies'] = actors_pairs_common_movies['Common_movies'].apply(\n",
    "    lambda x: len(x))\n"
   ]
  },
  {
   "cell_type": "code",
   "execution_count": 37,
   "metadata": {},
   "outputs": [],
   "source": [
    "# filter the dataframe to keep only the pairs that acted in more than 2 movies together\n",
    "actors_pairs_common_movies_filtered = actors_pairs_common_movies[\n",
    "    actors_pairs_common_movies['Number_of_common_movies'] > 2]\n"
   ]
  },
  {
   "cell_type": "code",
   "execution_count": 38,
   "metadata": {},
   "outputs": [
    {
     "data": {
      "text/html": [
       "<div>\n",
       "<style scoped>\n",
       "    .dataframe tbody tr th:only-of-type {\n",
       "        vertical-align: middle;\n",
       "    }\n",
       "\n",
       "    .dataframe tbody tr th {\n",
       "        vertical-align: top;\n",
       "    }\n",
       "\n",
       "    .dataframe thead th {\n",
       "        text-align: right;\n",
       "    }\n",
       "</style>\n",
       "<table border=\"1\" class=\"dataframe\">\n",
       "  <thead>\n",
       "    <tr style=\"text-align: right;\">\n",
       "      <th></th>\n",
       "      <th>Actor_name_x</th>\n",
       "      <th>Actor_name_y</th>\n",
       "      <th>Freebase_actor_ID_x</th>\n",
       "      <th>Freebase_actor_ID_y</th>\n",
       "      <th>Common_movies</th>\n",
       "      <th>Number_of_common_movies</th>\n",
       "    </tr>\n",
       "  </thead>\n",
       "  <tbody>\n",
       "    <tr>\n",
       "      <th>101</th>\n",
       "      <td>50 Cent</td>\n",
       "      <td>Ambyr Childers</td>\n",
       "      <td>/m/01vvyc_</td>\n",
       "      <td>/m/0f7tct</td>\n",
       "      <td>[24150888, 31738289, 33638321]</td>\n",
       "      <td>3</td>\n",
       "    </tr>\n",
       "    <tr>\n",
       "      <th>148</th>\n",
       "      <td>50 Cent</td>\n",
       "      <td>Dr. Dre</td>\n",
       "      <td>/m/01vvyc_</td>\n",
       "      <td>/m/01vvydl</td>\n",
       "      <td>[25010699, 6501095, 3914063]</td>\n",
       "      <td>3</td>\n",
       "    </tr>\n",
       "    <tr>\n",
       "      <th>285</th>\n",
       "      <td>50 Cent</td>\n",
       "      <td>Val Kilmer</td>\n",
       "      <td>/m/01vvyc_</td>\n",
       "      <td>/m/0d_84</td>\n",
       "      <td>[27211939, 19547540, 30244564]</td>\n",
       "      <td>3</td>\n",
       "    </tr>\n",
       "    <tr>\n",
       "      <th>766</th>\n",
       "      <td>A. Michael Baldwin</td>\n",
       "      <td>Bill Thornbury</td>\n",
       "      <td>/m/0dm23j</td>\n",
       "      <td>/m/0k1vyv</td>\n",
       "      <td>[1802400, 3305282, 3305261]</td>\n",
       "      <td>3</td>\n",
       "    </tr>\n",
       "    <tr>\n",
       "      <th>853</th>\n",
       "      <td>A. Venkatesh</td>\n",
       "      <td>Daggubati Venkatesh</td>\n",
       "      <td>/m/04n3wnz</td>\n",
       "      <td>/m/05yhh7</td>\n",
       "      <td>[25495379, 6827148, 15398677, 14823527]</td>\n",
       "      <td>4</td>\n",
       "    </tr>\n",
       "    <tr>\n",
       "      <th>...</th>\n",
       "      <td>...</td>\n",
       "      <td>...</td>\n",
       "      <td>...</td>\n",
       "      <td>...</td>\n",
       "      <td>...</td>\n",
       "      <td>...</td>\n",
       "    </tr>\n",
       "    <tr>\n",
       "      <th>2073805</th>\n",
       "      <td>高田由美</td>\n",
       "      <td>Chisa Yokoyama</td>\n",
       "      <td>/m/01vv6d4</td>\n",
       "      <td>/m/038277</td>\n",
       "      <td>[5396840, 5397050, 4174679]</td>\n",
       "      <td>3</td>\n",
       "    </tr>\n",
       "    <tr>\n",
       "      <th>2073808</th>\n",
       "      <td>高田由美</td>\n",
       "      <td>Kikuchi Masami</td>\n",
       "      <td>/m/01vv6d4</td>\n",
       "      <td>/m/01wv1yt</td>\n",
       "      <td>[5396840, 5397050, 4174679]</td>\n",
       "      <td>3</td>\n",
       "    </tr>\n",
       "    <tr>\n",
       "      <th>2073811</th>\n",
       "      <td>高田由美</td>\n",
       "      <td>Orikasa Kikue</td>\n",
       "      <td>/m/01vv6d4</td>\n",
       "      <td>/m/01wpgmk</td>\n",
       "      <td>[5396840, 5397050, 4174679]</td>\n",
       "      <td>3</td>\n",
       "    </tr>\n",
       "    <tr>\n",
       "      <th>2073814</th>\n",
       "      <td>高田由美</td>\n",
       "      <td>Yuri Amano</td>\n",
       "      <td>/m/01vv6d4</td>\n",
       "      <td>/m/038cn3</td>\n",
       "      <td>[5396840, 5397050, 4174679]</td>\n",
       "      <td>3</td>\n",
       "    </tr>\n",
       "    <tr>\n",
       "      <th>2073815</th>\n",
       "      <td>高田由美</td>\n",
       "      <td>Yūko Mizutani</td>\n",
       "      <td>/m/01vv6d4</td>\n",
       "      <td>/m/03h4cc</td>\n",
       "      <td>[5396840, 5397050, 4174679]</td>\n",
       "      <td>3</td>\n",
       "    </tr>\n",
       "  </tbody>\n",
       "</table>\n",
       "<p>25865 rows × 6 columns</p>\n",
       "</div>"
      ],
      "text/plain": [
       "               Actor_name_x         Actor_name_y Freebase_actor_ID_x  \\\n",
       "101                 50 Cent       Ambyr Childers          /m/01vvyc_   \n",
       "148                 50 Cent              Dr. Dre          /m/01vvyc_   \n",
       "285                 50 Cent           Val Kilmer          /m/01vvyc_   \n",
       "766      A. Michael Baldwin       Bill Thornbury           /m/0dm23j   \n",
       "853            A. Venkatesh  Daggubati Venkatesh          /m/04n3wnz   \n",
       "...                     ...                  ...                 ...   \n",
       "2073805                高田由美       Chisa Yokoyama          /m/01vv6d4   \n",
       "2073808                高田由美       Kikuchi Masami          /m/01vv6d4   \n",
       "2073811                高田由美        Orikasa Kikue          /m/01vv6d4   \n",
       "2073814                高田由美           Yuri Amano          /m/01vv6d4   \n",
       "2073815                高田由美        Yūko Mizutani          /m/01vv6d4   \n",
       "\n",
       "        Freebase_actor_ID_y                            Common_movies  \\\n",
       "101               /m/0f7tct           [24150888, 31738289, 33638321]   \n",
       "148              /m/01vvydl             [25010699, 6501095, 3914063]   \n",
       "285                /m/0d_84           [27211939, 19547540, 30244564]   \n",
       "766               /m/0k1vyv              [1802400, 3305282, 3305261]   \n",
       "853               /m/05yhh7  [25495379, 6827148, 15398677, 14823527]   \n",
       "...                     ...                                      ...   \n",
       "2073805           /m/038277              [5396840, 5397050, 4174679]   \n",
       "2073808          /m/01wv1yt              [5396840, 5397050, 4174679]   \n",
       "2073811          /m/01wpgmk              [5396840, 5397050, 4174679]   \n",
       "2073814           /m/038cn3              [5396840, 5397050, 4174679]   \n",
       "2073815           /m/03h4cc              [5396840, 5397050, 4174679]   \n",
       "\n",
       "         Number_of_common_movies  \n",
       "101                            3  \n",
       "148                            3  \n",
       "285                            3  \n",
       "766                            3  \n",
       "853                            4  \n",
       "...                          ...  \n",
       "2073805                        3  \n",
       "2073808                        3  \n",
       "2073811                        3  \n",
       "2073814                        3  \n",
       "2073815                        3  \n",
       "\n",
       "[25865 rows x 6 columns]"
      ]
     },
     "execution_count": 38,
     "metadata": {},
     "output_type": "execute_result"
    }
   ],
   "source": [
    "actors_pairs_common_movies_filtered\n"
   ]
  },
  {
   "cell_type": "markdown",
   "metadata": {},
   "source": [
    "## 3.2 Creating the network"
   ]
  },
  {
   "cell_type": "markdown",
   "metadata": {},
   "source": [
    "There are many ways to create networks, a really common one is the networkx library. It offers lots of tools and we can easily find documentation on the web."
   ]
  },
  {
   "cell_type": "code",
   "execution_count": 39,
   "metadata": {},
   "outputs": [
    {
     "name": "stdout",
     "output_type": "stream",
     "text": [
      "Number of nodes:  8427\n",
      "Number of edges:  25865\n"
     ]
    }
   ],
   "source": [
    "# create a non directed graph from the dataframe\n",
    "G = nx.from_pandas_edgelist(actors_pairs_common_movies_filtered, source='Freebase_actor_ID_x',\n",
    "                            target='Freebase_actor_ID_y', edge_attr='Number_of_common_movies')\n",
    "# show the number of nodes and edges in the graph\n",
    "print('Number of nodes: ', G.number_of_nodes())\n",
    "print('Number of edges: ', G.number_of_edges())\n"
   ]
  },
  {
   "cell_type": "markdown",
   "metadata": {},
   "source": [
    "Now that we have the network we'll need to analyse it. The first step is to create subgroup using the louvain algorithm."
   ]
  },
  {
   "cell_type": "code",
   "execution_count": 40,
   "metadata": {
    "tags": []
   },
   "outputs": [
    {
     "name": "stdout",
     "output_type": "stream",
     "text": [
      "Number of communities:  645\n"
     ]
    }
   ],
   "source": [
    "# make partitions of the graph\n",
    "coms = algorithms.louvain(G, weight='Number_of_common_movies')\n",
    "\n",
    "# make subgraphs from the partitions\n",
    "subgraphs = [G.subgraph(c) for c in coms.communities]\n",
    "# show the number of subgraphs\n",
    "print('Number of communities: ', len(subgraphs))\n"
   ]
  },
  {
   "cell_type": "code",
   "execution_count": 41,
   "metadata": {},
   "outputs": [
    {
     "name": "stdout",
     "output_type": "stream",
     "text": [
      "community  1  number of actors:  989\n",
      "community  1  average numbers of movies between actors:  3.6733539094650207\n",
      "community  2  number of actors:  980\n",
      "community  2  average numbers of movies between actors:  3.554096638655462\n",
      "community  3  number of actors:  722\n",
      "community  3  average numbers of movies between actors:  4.475717017208413\n",
      "community  4  number of actors:  574\n",
      "community  4  average numbers of movies between actors:  3.7229199372056514\n",
      "community  5  number of actors:  369\n",
      "community  5  average numbers of movies between actors:  3.6649848637739657\n",
      "community  6  number of actors:  366\n",
      "community  6  average numbers of movies between actors:  4.956295975768065\n",
      "community  7  number of actors:  279\n",
      "community  7  average numbers of movies between actors:  4.75\n",
      "community  8  number of actors:  274\n",
      "community  8  average numbers of movies between actors:  3.9509658246656763\n",
      "community  9  number of actors:  215\n",
      "community  9  average numbers of movies between actors:  4.064263322884012\n",
      "community  10  number of actors:  173\n",
      "community  10  average numbers of movies between actors:  5.624722427831236\n",
      "community  11  number of actors:  165\n",
      "community  11  average numbers of movies between actors:  3.6423076923076922\n",
      "community  12  number of actors:  162\n",
      "community  12  average numbers of movies between actors:  4.784516129032258\n",
      "community  13  number of actors:  133\n",
      "community  13  average numbers of movies between actors:  4.365695792880259\n",
      "community  14  number of actors:  132\n",
      "community  14  average numbers of movies between actors:  6.094619666048238\n",
      "community  15  number of actors:  125\n",
      "community  15  average numbers of movies between actors:  3.8036363636363637\n",
      "community  16  number of actors:  110\n",
      "community  16  average numbers of movies between actors:  3.35\n",
      "community  17  number of actors:  82\n",
      "community  17  average numbers of movies between actors:  9.141486810551559\n",
      "community  18  number of actors:  76\n",
      "community  18  average numbers of movies between actors:  5.497674418604651\n",
      "community  19  number of actors:  66\n",
      "community  19  average numbers of movies between actors:  3.5217391304347827\n",
      "community  20  number of actors:  57\n",
      "community  20  average numbers of movies between actors:  3.717391304347826\n"
     ]
    }
   ],
   "source": [
    "# show the number of nodes in each subgraph and the average weight of the edges in each subgraph (only for the top 20 subgraphs)\n",
    "for i, subgraph in enumerate(subgraphs[:20]):\n",
    "    print('community ', i + 1, ' number of actors: ', subgraph.number_of_nodes())\n",
    "    print('community ', i + 1, ' average numbers of movies between actors: ',\n",
    "          subgraph.size(weight='Number_of_common_movies') / subgraph.number_of_edges())\n"
   ]
  },
  {
   "cell_type": "markdown",
   "metadata": {},
   "source": [
    "## 3.3 Vizualising the network"
   ]
  },
  {
   "cell_type": "markdown",
   "metadata": {},
   "source": [
    "Let's start the funny part with a basic visualization."
   ]
  },
  {
   "cell_type": "code",
   "execution_count": 42,
   "metadata": {},
   "outputs": [],
   "source": [
    "# vizualise the obtained partitions (top 10 communities)\n",
    "# viz.plot_network_clusters(G, coms, node_size=20, figsize=(\n",
    "#     20, 20), plot_labels=False, top_k=10)\n"
   ]
  },
  {
   "cell_type": "code",
   "execution_count": 43,
   "metadata": {},
   "outputs": [],
   "source": [
    "# viz.plot_community_graph(G, coms, node_size=20, figsize=(\n",
    "#     20, 20), plot_labels=False, top_k=10)\n"
   ]
  },
  {
   "cell_type": "markdown",
   "metadata": {},
   "source": [
    "This is a nice visualization but didn't show us much more as the graph is very dense. <br>\n",
    "A 3D one would be much better. We used the pyvis tool which is much nicer but didn't allow us to show communities"
   ]
  },
  {
   "cell_type": "code",
   "execution_count": 44,
   "metadata": {},
   "outputs": [],
   "source": [
    "# g = net.Network(notebook = True)\n",
    "# g.from_nx(G)\n",
    "# g.show(\"example.html\")\n"
   ]
  },
  {
   "cell_type": "markdown",
   "metadata": {},
   "source": [
    "## 3.4 Analysing subnetworks"
   ]
  },
  {
   "cell_type": "markdown",
   "metadata": {},
   "source": [
    "If we aim to see tendencies between those subgroup, we'll need to add features to nodes."
   ]
  },
  {
   "cell_type": "code",
   "execution_count": 45,
   "metadata": {},
   "outputs": [],
   "source": [
    "# for n in G.nodes:\n",
    "#     G.nodes[n]['actor_gender'] = character_metadata[character_metadata.Freebase_actor_ID ==\n",
    "#                                                     n]['actor_gender'].iloc[0]\n",
    "\n"
   ]
  },
  {
   "cell_type": "markdown",
   "metadata": {},
   "source": [
    "We can now compute the assortativity  for certains properties. It measures the similarity of connections in the graph with respect to the given attribute."
   ]
  },
  {
   "cell_type": "code",
   "execution_count": 46,
   "metadata": {},
   "outputs": [],
   "source": [
    "# print(\"gender assortativity: \",\n",
    "#       nx.attribute_assortativity_coefficient(G, 'actor_gender'))\n"
   ]
  },
  {
   "cell_type": "code",
   "execution_count": 47,
   "metadata": {},
   "outputs": [],
   "source": [
    "# store the top 20 communities in dataframes\n",
    "# each row in the dataframe is an actor in the community, the connectivity column represents the total weight of the edges that the actor is connected to\n",
    "# i.e the total number of movies the actor acted in with the other actors in the community\n",
    "top_20_communities = []\n",
    "for i, subgraph in enumerate(subgraphs[:20]):\n",
    "    top_20_communities.append(pd.DataFrame(subgraph.degree(weight='Number_of_common_movies'), columns=[\n",
    "                              'Actor_name', 'connectivity']).sort_values('connectivity', ascending=False))\n"
   ]
  },
  {
   "cell_type": "code",
   "execution_count": 48,
   "metadata": {},
   "outputs": [
    {
     "data": {
      "text/html": [
       "<div>\n",
       "<style scoped>\n",
       "    .dataframe tbody tr th:only-of-type {\n",
       "        vertical-align: middle;\n",
       "    }\n",
       "\n",
       "    .dataframe tbody tr th {\n",
       "        vertical-align: top;\n",
       "    }\n",
       "\n",
       "    .dataframe thead th {\n",
       "        text-align: right;\n",
       "    }\n",
       "</style>\n",
       "<table border=\"1\" class=\"dataframe\">\n",
       "  <thead>\n",
       "    <tr style=\"text-align: right;\">\n",
       "      <th></th>\n",
       "      <th>Wikipedia_movie_ID</th>\n",
       "      <th>Freebase_movie_ID</th>\n",
       "      <th>actor_gender</th>\n",
       "      <th>Actor_name</th>\n",
       "      <th>Freebase_actor_ID</th>\n",
       "      <th>Movie_release_year</th>\n",
       "      <th>Actor_year_of_birth</th>\n",
       "    </tr>\n",
       "  </thead>\n",
       "  <tbody>\n",
       "    <tr>\n",
       "      <th>0</th>\n",
       "      <td>975900</td>\n",
       "      <td>/m/03vyhn</td>\n",
       "      <td>F</td>\n",
       "      <td>Wanda De Jesus</td>\n",
       "      <td>/m/03wcfv7</td>\n",
       "      <td>2001</td>\n",
       "      <td>1958</td>\n",
       "    </tr>\n",
       "    <tr>\n",
       "      <th>1</th>\n",
       "      <td>975900</td>\n",
       "      <td>/m/03vyhn</td>\n",
       "      <td>F</td>\n",
       "      <td>Natasha Henstridge</td>\n",
       "      <td>/m/0346l4</td>\n",
       "      <td>2001</td>\n",
       "      <td>1974</td>\n",
       "    </tr>\n",
       "    <tr>\n",
       "      <th>2</th>\n",
       "      <td>975900</td>\n",
       "      <td>/m/03vyhn</td>\n",
       "      <td>M</td>\n",
       "      <td>Ice Cube</td>\n",
       "      <td>/m/01vw26l</td>\n",
       "      <td>2001</td>\n",
       "      <td>1969</td>\n",
       "    </tr>\n",
       "    <tr>\n",
       "      <th>3</th>\n",
       "      <td>975900</td>\n",
       "      <td>/m/03vyhn</td>\n",
       "      <td>M</td>\n",
       "      <td>Jason Statham</td>\n",
       "      <td>/m/034hyc</td>\n",
       "      <td>2001</td>\n",
       "      <td>1967</td>\n",
       "    </tr>\n",
       "    <tr>\n",
       "      <th>4</th>\n",
       "      <td>975900</td>\n",
       "      <td>/m/03vyhn</td>\n",
       "      <td>F</td>\n",
       "      <td>Clea DuVall</td>\n",
       "      <td>/m/01y9xg</td>\n",
       "      <td>2001</td>\n",
       "      <td>1977</td>\n",
       "    </tr>\n",
       "    <tr>\n",
       "      <th>...</th>\n",
       "      <td>...</td>\n",
       "      <td>...</td>\n",
       "      <td>...</td>\n",
       "      <td>...</td>\n",
       "      <td>...</td>\n",
       "      <td>...</td>\n",
       "      <td>...</td>\n",
       "    </tr>\n",
       "    <tr>\n",
       "      <th>450664</th>\n",
       "      <td>913762</td>\n",
       "      <td>/m/03pcrp</td>\n",
       "      <td>F</td>\n",
       "      <td>Dorothy Elias-Fahn</td>\n",
       "      <td>/m/0b_vcv</td>\n",
       "      <td>1992</td>\n",
       "      <td>1970</td>\n",
       "    </tr>\n",
       "    <tr>\n",
       "      <th>450665</th>\n",
       "      <td>913762</td>\n",
       "      <td>/m/03pcrp</td>\n",
       "      <td>M</td>\n",
       "      <td>Jonathan Fahn</td>\n",
       "      <td>/m/0bx7_j</td>\n",
       "      <td>1992</td>\n",
       "      <td>1965</td>\n",
       "    </tr>\n",
       "    <tr>\n",
       "      <th>450666</th>\n",
       "      <td>28308153</td>\n",
       "      <td>/m/0cp05t9</td>\n",
       "      <td>M</td>\n",
       "      <td>David Hemmings</td>\n",
       "      <td>/m/022g44</td>\n",
       "      <td>1957</td>\n",
       "      <td>1941</td>\n",
       "    </tr>\n",
       "    <tr>\n",
       "      <th>450667</th>\n",
       "      <td>28308153</td>\n",
       "      <td>/m/0cp05t9</td>\n",
       "      <td>NaN</td>\n",
       "      <td>Roberta Paterson</td>\n",
       "      <td>/m/0g8ngmm</td>\n",
       "      <td>1957</td>\n",
       "      <td>NaN</td>\n",
       "    </tr>\n",
       "    <tr>\n",
       "      <th>450668</th>\n",
       "      <td>28308153</td>\n",
       "      <td>/m/0cp05t9</td>\n",
       "      <td>NaN</td>\n",
       "      <td>John Rogers</td>\n",
       "      <td>/m/0btz19d</td>\n",
       "      <td>1957</td>\n",
       "      <td>NaN</td>\n",
       "    </tr>\n",
       "  </tbody>\n",
       "</table>\n",
       "<p>449441 rows × 7 columns</p>\n",
       "</div>"
      ],
      "text/plain": [
       "        Wikipedia_movie_ID Freebase_movie_ID actor_gender          Actor_name  \\\n",
       "0                   975900         /m/03vyhn            F      Wanda De Jesus   \n",
       "1                   975900         /m/03vyhn            F  Natasha Henstridge   \n",
       "2                   975900         /m/03vyhn            M            Ice Cube   \n",
       "3                   975900         /m/03vyhn            M       Jason Statham   \n",
       "4                   975900         /m/03vyhn            F         Clea DuVall   \n",
       "...                    ...               ...          ...                 ...   \n",
       "450664              913762         /m/03pcrp            F  Dorothy Elias-Fahn   \n",
       "450665              913762         /m/03pcrp            M       Jonathan Fahn   \n",
       "450666            28308153        /m/0cp05t9            M      David Hemmings   \n",
       "450667            28308153        /m/0cp05t9          NaN    Roberta Paterson   \n",
       "450668            28308153        /m/0cp05t9          NaN         John Rogers   \n",
       "\n",
       "       Freebase_actor_ID Movie_release_year Actor_year_of_birth  \n",
       "0             /m/03wcfv7               2001                1958  \n",
       "1              /m/0346l4               2001                1974  \n",
       "2             /m/01vw26l               2001                1969  \n",
       "3              /m/034hyc               2001                1967  \n",
       "4              /m/01y9xg               2001                1977  \n",
       "...                  ...                ...                 ...  \n",
       "450664         /m/0b_vcv               1992                1970  \n",
       "450665         /m/0bx7_j               1992                1965  \n",
       "450666         /m/022g44               1957                1941  \n",
       "450667        /m/0g8ngmm               1957                 NaN  \n",
       "450668        /m/0btz19d               1957                 NaN  \n",
       "\n",
       "[449441 rows x 7 columns]"
      ]
     },
     "execution_count": 48,
     "metadata": {},
     "output_type": "execute_result"
    }
   ],
   "source": [
    "character_metadata"
   ]
  },
  {
   "cell_type": "code",
   "execution_count": 49,
   "metadata": {},
   "outputs": [],
   "source": [
    "# for each community add columns for actors ethnicity, gender and date of birth from the character_metadata dataframe\n",
    "# for i, community in enumerate(top_20_communities):\n",
    "#     top_20_communities[i] = community.merge(character_metadata[['Actor_name', 'actor_gender', 'Actor_date_of_birth',                                          ### Actor birth not in df\n",
    "#                                             ]], on='Actor_name', how='inner').drop_duplicates(subset=['Actor_name']).reset_index(drop=True)\n",
    "#     top_20_communities[i]['community'] = i + 1\n",
    "# top_20_communities_all_actors = pd.concat(\n",
    "#     top_20_communities).reset_index(drop=True)\n"
   ]
  },
  {
   "cell_type": "code",
   "execution_count": 50,
   "metadata": {},
   "outputs": [],
   "source": [
    "G2 = nx.connected_watts_strogatz_graph(30, 5, .2)\n",
    "nodes = G2.nodes()\n",
    "edges = list(G2.edges(data=True))\n"
   ]
  },
  {
   "cell_type": "markdown",
   "metadata": {},
   "source": [
    "Additionnally from observing actors in each communities, we would like to include in our communities' analysis the movies within each community, i.e. the movies that connect actors together within a single community. For this purpose, we start by mapping movies' occurencies for each community. \n",
    "Later on, we can use this table to analyze the number of movies within each community, whether a movie appears in only one, or several communities, and also add movies features such as genre, length or date of release. "
   ]
  },
  {
   "cell_type": "code",
   "execution_count": 51,
   "metadata": {},
   "outputs": [],
   "source": [
    "movies_com_list = pd.DataFrame(columns=['movie_index', 'community'])\n",
    "\n",
    "# first we extract for each edge in a subgraph the corresponding movies and store in a dataframe the movie index and the community\n",
    "for community_nb in range(1, 21):\n",
    "    for x in subgraphs[community_nb].edges:\n",
    "        movies = actors_pairs_common_movies_filtered.loc[(actors_pairs_common_movies_filtered['Freebase_actor_ID_x'] == x[0])\n",
    "                                                         & (actors_pairs_common_movies_filtered['Freebase_actor_ID_y'] == x[1])].Common_movies\n",
    "        if len(movies) == 0:\n",
    "            movies = actors_pairs_common_movies_filtered.loc[(actors_pairs_common_movies_filtered['Freebase_actor_ID_x'] == x[1])\n",
    "                                                             & (actors_pairs_common_movies_filtered['Freebase_actor_ID_y'] == x[0])].Common_movies\n",
    "        if len(movies) == 0:\n",
    "            print('error')\n",
    "        for liste in movies:\n",
    "            for elt in liste:\n",
    "                movies_com_list = movies_com_list.append(pd.DataFrame([[int(elt), int(\n",
    "                    community_nb)]], columns=['movie_index', 'community']), ignore_index=True)\n",
    "\n",
    "# data rearranged to have each movie as a row, and each community as a column. the value describes the numbers of edges referring to a movie within the specified community\n",
    "movie_com_table = movies_com_list.pivot_table(\n",
    "    columns='community', index='movie_index', aggfunc=len, fill_value=0)\n",
    "movie_com_table.to_csv('movies_communities_table.csv')\n"
   ]
  },
  {
   "cell_type": "code",
   "execution_count": 52,
   "metadata": {},
   "outputs": [
    {
     "data": {
      "text/html": [
       "<div>\n",
       "<style scoped>\n",
       "    .dataframe tbody tr th:only-of-type {\n",
       "        vertical-align: middle;\n",
       "    }\n",
       "\n",
       "    .dataframe tbody tr th {\n",
       "        vertical-align: top;\n",
       "    }\n",
       "\n",
       "    .dataframe thead th {\n",
       "        text-align: right;\n",
       "    }\n",
       "</style>\n",
       "<table border=\"1\" class=\"dataframe\">\n",
       "  <thead>\n",
       "    <tr style=\"text-align: right;\">\n",
       "      <th>community</th>\n",
       "      <th>1</th>\n",
       "      <th>2</th>\n",
       "      <th>3</th>\n",
       "      <th>4</th>\n",
       "      <th>5</th>\n",
       "      <th>6</th>\n",
       "      <th>7</th>\n",
       "      <th>8</th>\n",
       "      <th>9</th>\n",
       "      <th>10</th>\n",
       "      <th>11</th>\n",
       "      <th>12</th>\n",
       "      <th>13</th>\n",
       "      <th>14</th>\n",
       "      <th>15</th>\n",
       "      <th>16</th>\n",
       "      <th>17</th>\n",
       "      <th>18</th>\n",
       "      <th>19</th>\n",
       "      <th>20</th>\n",
       "    </tr>\n",
       "    <tr>\n",
       "      <th>movie_index</th>\n",
       "      <th></th>\n",
       "      <th></th>\n",
       "      <th></th>\n",
       "      <th></th>\n",
       "      <th></th>\n",
       "      <th></th>\n",
       "      <th></th>\n",
       "      <th></th>\n",
       "      <th></th>\n",
       "      <th></th>\n",
       "      <th></th>\n",
       "      <th></th>\n",
       "      <th></th>\n",
       "      <th></th>\n",
       "      <th></th>\n",
       "      <th></th>\n",
       "      <th></th>\n",
       "      <th></th>\n",
       "      <th></th>\n",
       "      <th></th>\n",
       "    </tr>\n",
       "  </thead>\n",
       "  <tbody>\n",
       "    <tr>\n",
       "      <th>3217</th>\n",
       "      <td>0</td>\n",
       "      <td>0</td>\n",
       "      <td>0</td>\n",
       "      <td>1</td>\n",
       "      <td>0</td>\n",
       "      <td>0</td>\n",
       "      <td>0</td>\n",
       "      <td>0</td>\n",
       "      <td>0</td>\n",
       "      <td>0</td>\n",
       "      <td>0</td>\n",
       "      <td>0</td>\n",
       "      <td>0</td>\n",
       "      <td>0</td>\n",
       "      <td>0</td>\n",
       "      <td>0</td>\n",
       "      <td>0</td>\n",
       "      <td>0</td>\n",
       "      <td>0</td>\n",
       "      <td>0</td>\n",
       "    </tr>\n",
       "    <tr>\n",
       "      <th>3333</th>\n",
       "      <td>0</td>\n",
       "      <td>0</td>\n",
       "      <td>0</td>\n",
       "      <td>0</td>\n",
       "      <td>0</td>\n",
       "      <td>0</td>\n",
       "      <td>0</td>\n",
       "      <td>0</td>\n",
       "      <td>0</td>\n",
       "      <td>0</td>\n",
       "      <td>0</td>\n",
       "      <td>17</td>\n",
       "      <td>0</td>\n",
       "      <td>0</td>\n",
       "      <td>0</td>\n",
       "      <td>0</td>\n",
       "      <td>0</td>\n",
       "      <td>0</td>\n",
       "      <td>0</td>\n",
       "      <td>0</td>\n",
       "    </tr>\n",
       "    <tr>\n",
       "      <th>3837</th>\n",
       "      <td>8</td>\n",
       "      <td>0</td>\n",
       "      <td>0</td>\n",
       "      <td>0</td>\n",
       "      <td>0</td>\n",
       "      <td>0</td>\n",
       "      <td>0</td>\n",
       "      <td>0</td>\n",
       "      <td>0</td>\n",
       "      <td>0</td>\n",
       "      <td>0</td>\n",
       "      <td>0</td>\n",
       "      <td>0</td>\n",
       "      <td>0</td>\n",
       "      <td>0</td>\n",
       "      <td>0</td>\n",
       "      <td>0</td>\n",
       "      <td>0</td>\n",
       "      <td>0</td>\n",
       "      <td>0</td>\n",
       "    </tr>\n",
       "    <tr>\n",
       "      <th>3947</th>\n",
       "      <td>1</td>\n",
       "      <td>0</td>\n",
       "      <td>0</td>\n",
       "      <td>0</td>\n",
       "      <td>0</td>\n",
       "      <td>0</td>\n",
       "      <td>0</td>\n",
       "      <td>0</td>\n",
       "      <td>0</td>\n",
       "      <td>0</td>\n",
       "      <td>0</td>\n",
       "      <td>0</td>\n",
       "      <td>0</td>\n",
       "      <td>0</td>\n",
       "      <td>0</td>\n",
       "      <td>0</td>\n",
       "      <td>0</td>\n",
       "      <td>0</td>\n",
       "      <td>0</td>\n",
       "      <td>0</td>\n",
       "    </tr>\n",
       "    <tr>\n",
       "      <th>4560</th>\n",
       "      <td>0</td>\n",
       "      <td>0</td>\n",
       "      <td>0</td>\n",
       "      <td>0</td>\n",
       "      <td>0</td>\n",
       "      <td>0</td>\n",
       "      <td>0</td>\n",
       "      <td>1</td>\n",
       "      <td>0</td>\n",
       "      <td>0</td>\n",
       "      <td>0</td>\n",
       "      <td>0</td>\n",
       "      <td>0</td>\n",
       "      <td>0</td>\n",
       "      <td>0</td>\n",
       "      <td>0</td>\n",
       "      <td>0</td>\n",
       "      <td>0</td>\n",
       "      <td>0</td>\n",
       "      <td>0</td>\n",
       "    </tr>\n",
       "    <tr>\n",
       "      <th>...</th>\n",
       "      <td>...</td>\n",
       "      <td>...</td>\n",
       "      <td>...</td>\n",
       "      <td>...</td>\n",
       "      <td>...</td>\n",
       "      <td>...</td>\n",
       "      <td>...</td>\n",
       "      <td>...</td>\n",
       "      <td>...</td>\n",
       "      <td>...</td>\n",
       "      <td>...</td>\n",
       "      <td>...</td>\n",
       "      <td>...</td>\n",
       "      <td>...</td>\n",
       "      <td>...</td>\n",
       "      <td>...</td>\n",
       "      <td>...</td>\n",
       "      <td>...</td>\n",
       "      <td>...</td>\n",
       "      <td>...</td>\n",
       "    </tr>\n",
       "    <tr>\n",
       "      <th>36657306</th>\n",
       "      <td>0</td>\n",
       "      <td>1</td>\n",
       "      <td>0</td>\n",
       "      <td>0</td>\n",
       "      <td>0</td>\n",
       "      <td>0</td>\n",
       "      <td>0</td>\n",
       "      <td>0</td>\n",
       "      <td>0</td>\n",
       "      <td>0</td>\n",
       "      <td>0</td>\n",
       "      <td>0</td>\n",
       "      <td>0</td>\n",
       "      <td>0</td>\n",
       "      <td>0</td>\n",
       "      <td>0</td>\n",
       "      <td>0</td>\n",
       "      <td>0</td>\n",
       "      <td>0</td>\n",
       "      <td>0</td>\n",
       "    </tr>\n",
       "    <tr>\n",
       "      <th>36806453</th>\n",
       "      <td>0</td>\n",
       "      <td>6</td>\n",
       "      <td>0</td>\n",
       "      <td>0</td>\n",
       "      <td>0</td>\n",
       "      <td>0</td>\n",
       "      <td>0</td>\n",
       "      <td>0</td>\n",
       "      <td>0</td>\n",
       "      <td>0</td>\n",
       "      <td>0</td>\n",
       "      <td>0</td>\n",
       "      <td>0</td>\n",
       "      <td>0</td>\n",
       "      <td>0</td>\n",
       "      <td>0</td>\n",
       "      <td>0</td>\n",
       "      <td>0</td>\n",
       "      <td>0</td>\n",
       "      <td>0</td>\n",
       "    </tr>\n",
       "    <tr>\n",
       "      <th>37302868</th>\n",
       "      <td>0</td>\n",
       "      <td>0</td>\n",
       "      <td>0</td>\n",
       "      <td>0</td>\n",
       "      <td>0</td>\n",
       "      <td>0</td>\n",
       "      <td>0</td>\n",
       "      <td>0</td>\n",
       "      <td>1</td>\n",
       "      <td>0</td>\n",
       "      <td>0</td>\n",
       "      <td>0</td>\n",
       "      <td>0</td>\n",
       "      <td>0</td>\n",
       "      <td>0</td>\n",
       "      <td>0</td>\n",
       "      <td>0</td>\n",
       "      <td>0</td>\n",
       "      <td>0</td>\n",
       "      <td>0</td>\n",
       "    </tr>\n",
       "    <tr>\n",
       "      <th>37476824</th>\n",
       "      <td>0</td>\n",
       "      <td>4</td>\n",
       "      <td>0</td>\n",
       "      <td>0</td>\n",
       "      <td>0</td>\n",
       "      <td>0</td>\n",
       "      <td>0</td>\n",
       "      <td>0</td>\n",
       "      <td>0</td>\n",
       "      <td>0</td>\n",
       "      <td>0</td>\n",
       "      <td>0</td>\n",
       "      <td>0</td>\n",
       "      <td>0</td>\n",
       "      <td>0</td>\n",
       "      <td>0</td>\n",
       "      <td>0</td>\n",
       "      <td>0</td>\n",
       "      <td>0</td>\n",
       "      <td>0</td>\n",
       "    </tr>\n",
       "    <tr>\n",
       "      <th>37478048</th>\n",
       "      <td>0</td>\n",
       "      <td>3</td>\n",
       "      <td>0</td>\n",
       "      <td>0</td>\n",
       "      <td>0</td>\n",
       "      <td>0</td>\n",
       "      <td>0</td>\n",
       "      <td>0</td>\n",
       "      <td>0</td>\n",
       "      <td>0</td>\n",
       "      <td>0</td>\n",
       "      <td>0</td>\n",
       "      <td>0</td>\n",
       "      <td>0</td>\n",
       "      <td>0</td>\n",
       "      <td>0</td>\n",
       "      <td>0</td>\n",
       "      <td>0</td>\n",
       "      <td>0</td>\n",
       "      <td>0</td>\n",
       "    </tr>\n",
       "  </tbody>\n",
       "</table>\n",
       "<p>13877 rows × 20 columns</p>\n",
       "</div>"
      ],
      "text/plain": [
       "community    1   2   3   4   5   6   7   8   9   10  11  12  13  14  15  16  \\\n",
       "movie_index                                                                   \n",
       "3217          0   0   0   1   0   0   0   0   0   0   0   0   0   0   0   0   \n",
       "3333          0   0   0   0   0   0   0   0   0   0   0  17   0   0   0   0   \n",
       "3837          8   0   0   0   0   0   0   0   0   0   0   0   0   0   0   0   \n",
       "3947          1   0   0   0   0   0   0   0   0   0   0   0   0   0   0   0   \n",
       "4560          0   0   0   0   0   0   0   1   0   0   0   0   0   0   0   0   \n",
       "...          ..  ..  ..  ..  ..  ..  ..  ..  ..  ..  ..  ..  ..  ..  ..  ..   \n",
       "36657306      0   1   0   0   0   0   0   0   0   0   0   0   0   0   0   0   \n",
       "36806453      0   6   0   0   0   0   0   0   0   0   0   0   0   0   0   0   \n",
       "37302868      0   0   0   0   0   0   0   0   1   0   0   0   0   0   0   0   \n",
       "37476824      0   4   0   0   0   0   0   0   0   0   0   0   0   0   0   0   \n",
       "37478048      0   3   0   0   0   0   0   0   0   0   0   0   0   0   0   0   \n",
       "\n",
       "community    17  18  19  20  \n",
       "movie_index                  \n",
       "3217          0   0   0   0  \n",
       "3333          0   0   0   0  \n",
       "3837          0   0   0   0  \n",
       "3947          0   0   0   0  \n",
       "4560          0   0   0   0  \n",
       "...          ..  ..  ..  ..  \n",
       "36657306      0   0   0   0  \n",
       "36806453      0   0   0   0  \n",
       "37302868      0   0   0   0  \n",
       "37476824      0   0   0   0  \n",
       "37478048      0   0   0   0  \n",
       "\n",
       "[13877 rows x 20 columns]"
      ]
     },
     "execution_count": 52,
     "metadata": {},
     "output_type": "execute_result"
    }
   ],
   "source": [
    "movie_com_table\n"
   ]
  },
  {
   "cell_type": "code",
   "execution_count": 53,
   "metadata": {},
   "outputs": [],
   "source": [
    "# Aggregate this information with the features of each movie\n",
    "movies_com_metadata = pd.merge(\n",
    "    movies_metadata, movie_com_table, left_on='Wikipedia_movie_ID', right_on='movie_index')\n",
    "movies_com_metadata.to_csv('movies_communities_metadata.csv')\n"
   ]
  },
  {
   "cell_type": "markdown",
   "metadata": {},
   "source": [
    "## 3.5 Preprocessing of scraped data ( example on an older network of communities )"
   ]
  },
  {
   "cell_type": "markdown",
   "metadata": {},
   "source": [
    "The dataframe used in this section is the dataframe produced by the file \"scraping.ipynb\" . \n",
    "This dataframe is based on an older and no longer valid version of our top 20 communities . \n",
    "<br /> The scraping was done only on the cast of actors of those communities for time constraints but our network have changed in the meantime. So this is just an example of how we would preprocess the data obtained from scraping ,  namely \"actor_country_of_citizenship\" and \"actor_occupation\"."
   ]
  },
  {
   "cell_type": "code",
   "execution_count": 54,
   "metadata": {},
   "outputs": [
    {
     "data": {
      "text/html": [
       "<div>\n",
       "<style scoped>\n",
       "    .dataframe tbody tr th:only-of-type {\n",
       "        vertical-align: middle;\n",
       "    }\n",
       "\n",
       "    .dataframe tbody tr th {\n",
       "        vertical-align: top;\n",
       "    }\n",
       "\n",
       "    .dataframe thead th {\n",
       "        text-align: right;\n",
       "    }\n",
       "</style>\n",
       "<table border=\"1\" class=\"dataframe\">\n",
       "  <thead>\n",
       "    <tr style=\"text-align: right;\">\n",
       "      <th></th>\n",
       "      <th>Actor_name</th>\n",
       "      <th>connectivity</th>\n",
       "      <th>actor_gender</th>\n",
       "      <th>Actor_date_of_birth</th>\n",
       "      <th>Actor_ethnicity</th>\n",
       "      <th>Freebase_actor_ID</th>\n",
       "      <th>community</th>\n",
       "      <th>Wikidata_actor_id</th>\n",
       "      <th>actor_country_of_citizenship</th>\n",
       "      <th>actor_occupation</th>\n",
       "    </tr>\n",
       "  </thead>\n",
       "  <tbody>\n",
       "    <tr>\n",
       "      <th>4366</th>\n",
       "      <td>Nick Cheung</td>\n",
       "      <td>25</td>\n",
       "      <td>M</td>\n",
       "      <td>12/2/1967</td>\n",
       "      <td>NaN</td>\n",
       "      <td>/m/03cp9fl</td>\n",
       "      <td>9</td>\n",
       "      <td>Q701930</td>\n",
       "      <td>People's Republic of China</td>\n",
       "      <td>['actor', 'film director', 'television actor',...</td>\n",
       "    </tr>\n",
       "    <tr>\n",
       "      <th>4072</th>\n",
       "      <td>Sacha Baron Cohen</td>\n",
       "      <td>31</td>\n",
       "      <td>M</td>\n",
       "      <td>10/13/1971</td>\n",
       "      <td>/m/02w7gg</td>\n",
       "      <td>/m/0c9c0</td>\n",
       "      <td>8</td>\n",
       "      <td>Q29055</td>\n",
       "      <td>United Kingdom</td>\n",
       "      <td>['film actor', 'comedian', 'film producer', 'v...</td>\n",
       "    </tr>\n",
       "    <tr>\n",
       "      <th>3970</th>\n",
       "      <td>Julian Sands</td>\n",
       "      <td>3</td>\n",
       "      <td>M</td>\n",
       "      <td>1/4/1958</td>\n",
       "      <td>NaN</td>\n",
       "      <td>/m/06zg2d</td>\n",
       "      <td>7</td>\n",
       "      <td>Q363518</td>\n",
       "      <td>United Kingdom</td>\n",
       "      <td>['actor', 'film actor', 'film director', 'scre...</td>\n",
       "    </tr>\n",
       "  </tbody>\n",
       "</table>\n",
       "</div>"
      ],
      "text/plain": [
       "             Actor_name  connectivity actor_gender Actor_date_of_birth  \\\n",
       "4366        Nick Cheung            25            M           12/2/1967   \n",
       "4072  Sacha Baron Cohen            31            M          10/13/1971   \n",
       "3970       Julian Sands             3            M            1/4/1958   \n",
       "\n",
       "     Actor_ethnicity Freebase_actor_ID  community Wikidata_actor_id  \\\n",
       "4366             NaN        /m/03cp9fl          9           Q701930   \n",
       "4072       /m/02w7gg          /m/0c9c0          8            Q29055   \n",
       "3970             NaN         /m/06zg2d          7           Q363518   \n",
       "\n",
       "     actor_country_of_citizenship  \\\n",
       "4366   People's Republic of China   \n",
       "4072               United Kingdom   \n",
       "3970               United Kingdom   \n",
       "\n",
       "                                       actor_occupation  \n",
       "4366  ['actor', 'film director', 'television actor',...  \n",
       "4072  ['film actor', 'comedian', 'film producer', 'v...  \n",
       "3970  ['actor', 'film actor', 'film director', 'scre...  "
      ]
     },
     "execution_count": 54,
     "metadata": {},
     "output_type": "execute_result"
    }
   ],
   "source": [
    "# load actor dataframe after scraping\n",
    "actors_scraping = pd.read_csv(\n",
    "    'CSV_files/top_20_communities_all_actors_wikidata_with_country_occupation.csv')\n",
    "actors_scraping.sample(3)\n"
   ]
  },
  {
   "cell_type": "markdown",
   "metadata": {},
   "source": [
    "### Country of citizenship cleaning "
   ]
  },
  {
   "cell_type": "code",
   "execution_count": 55,
   "metadata": {},
   "outputs": [
    {
     "data": {
      "text/plain": [
       "array(['United States of America', 'United Kingdom', nan, 'Canada',\n",
       "       'Hungary', 'Mexico', 'Republic of Ireland', 'France',\n",
       "       'Soviet Union', 'Sweden', 'Romania', 'Kingdom of Romania',\n",
       "       'United Kingdom of Great Britain and Ireland', 'Portugal',\n",
       "       'Belgium', 'Dominican Republic', 'Scotland', 'Kingdom of Hungary',\n",
       "       'Russian Empire', 'Australia', 'Russia', 'Austria', 'Japan',\n",
       "       'Spain', 'Germany', 'Ottoman Empire', 'Croatia', 'Greece', 'Malta',\n",
       "       'German Empire', 'Italy', 'Switzerland',\n",
       "       'Kingdom of the Netherlands', 'Poland', 'England', 'Dominica',\n",
       "       'New Zealand', 'India', 'British Raj', 'Pakistan', 'Nepal',\n",
       "       'Sri Lanka', 'Norway', 'Honduras', 'Puerto Rico', 'Philippines',\n",
       "       'South Africa', 'Wales', 'Egypt', \"People's Republic of China\",\n",
       "       'Argentina', 'Colombia', 'Lithuania', 'Armenia', 'Cuba',\n",
       "       'Venezuela', 'Brazil', 'Panama', 'Nigeria', 'Bhutan', 'Denmark',\n",
       "       'British Hong Kong', 'Hong Kong', 'Taiwan', 'Singapore',\n",
       "       'South Korea', 'Indonesia', 'Malaysia', 'Republic of China',\n",
       "       'Kenya', 'Slovenia', 'Kingdom of Italy'], dtype=object)"
      ]
     },
     "execution_count": 55,
     "metadata": {},
     "output_type": "execute_result"
    }
   ],
   "source": [
    "# extract unique country names\n",
    "unique_countries = actors_scraping['actor_country_of_citizenship'].unique()\n",
    "unique_countries\n"
   ]
  },
  {
   "cell_type": "markdown",
   "metadata": {},
   "source": [
    "We can see that we have some countries that are named in more than way ; Hungary / Kingdom of Hungary , United Kingdom of Great Britain / England / United Kingdom , Russia / Soviet Union ... <br /> We tried to use again a sequence matcher but it didn't hold much results , we will have to regroup manually the concerned countires. <br /> Old country names such as \"Ottoman Empire\",\"Soviet Union\",\"British Raj\" have been renamed to their modern names"
   ]
  },
  {
   "cell_type": "code",
   "execution_count": 56,
   "metadata": {},
   "outputs": [],
   "source": [
    "# function that outputs a similarity score between strings\n",
    "def similar(a, b):\n",
    "    return SequenceMatcher(None, a, b).ratio()\n"
   ]
  },
  {
   "cell_type": "code",
   "execution_count": 57,
   "metadata": {},
   "outputs": [
    {
     "data": {
      "text/plain": [
       "[['match score =', '0.67', 'Canada / Panama'],\n",
       " ['match score =', '0.56', 'Hungary / Kingdom of Hungary'],\n",
       " ['match score =', '0.58', \"Republic of Ireland / People's Republic of China\"],\n",
       " ['match score =', '0.72', 'Republic of Ireland / Republic of China'],\n",
       " ['match score =', '0.60', 'Soviet Union / Slovenia'],\n",
       " ['match score =', '0.56', 'Romania / Kingdom of Romania'],\n",
       " ['match score =', '0.57', 'Romania / Croatia'],\n",
       " ['match score =', '0.67', 'Romania / Dominica']]"
      ]
     },
     "execution_count": 57,
     "metadata": {},
     "output_type": "execute_result"
    }
   ],
   "source": [
    "# apply the similarity function on unique country names obtained\n",
    "matches = []\n",
    "for n in unique_countries:\n",
    "    for x in unique_countries:\n",
    "        if n != x:\n",
    "            match = similar(str(n), str(x))\n",
    "            if match > 0.5:\n",
    "                matches.append(['match score =', \"%.2f\" %\n",
    "                               match, str(n)+' / '+str(x)])\n",
    "matches[2:10]\n"
   ]
  },
  {
   "cell_type": "code",
   "execution_count": 58,
   "metadata": {},
   "outputs": [],
   "source": [
    "# Merge concerned countries into unique key countries\n",
    "countries_wordsets = dict([\n",
    "    ('United Kingdom', [\n",
    "     'United Kingdom of Great Britain and Ireland', 'Scotland', 'England', 'Wales']),\n",
    "    ('Ireland', ['Republic of Ireland']),\n",
    "    ('Russia', ['Soviet Union', 'Russian Empire']),\n",
    "    ('Romania', ['Kingdom of Romania']),\n",
    "    ('Hungary', ['Kingdom of Hungary']),\n",
    "    ('China', ['Republic of China', 'People\\'s Republic of China']),\n",
    "    ('Italy', ['Kingdom of Italy']),\n",
    "    ('Hong Kong', ['British Hong Kong']),\n",
    "    ('India', ['British Raj']),\n",
    "    ('Germany', ['German Empire']),\n",
    "    ('Turkey', ['Ottoman Empire'])\n",
    "])\n"
   ]
  },
  {
   "cell_type": "markdown",
   "metadata": {},
   "source": [
    "Now that we have a dictionary that can normalize country names , all we have to do is replace the problematic country names with their correspondant name ."
   ]
  },
  {
   "cell_type": "code",
   "execution_count": 59,
   "metadata": {},
   "outputs": [
    {
     "data": {
      "text/plain": [
       "United States of America      2798\n",
       "India                         1157\n",
       "United Kingdom                 740\n",
       "Japan                          233\n",
       "China                          137\n",
       "Canada                         131\n",
       "France                         117\n",
       "Italy                           65\n",
       "Australia                       57\n",
       "Ireland                         49\n",
       "Hong Kong                       42\n",
       "Spain                           28\n",
       "Germany                         27\n",
       "New Zealand                     24\n",
       "Taiwan                          23\n",
       "Mexico                          15\n",
       "Egypt                           12\n",
       "Sweden                          11\n",
       "Austria                          9\n",
       "Portugal                         9\n",
       "Puerto Rico                      7\n",
       "Russia                           6\n",
       "Hungary                          5\n",
       "Belgium                          5\n",
       "South Africa                     4\n",
       "South Korea                      4\n",
       "Pakistan                         4\n",
       "Kingdom of the Netherlands       4\n",
       "Switzerland                      3\n",
       "Romania                          2\n",
       "Philippines                      2\n",
       "Poland                           2\n",
       "Denmark                          2\n",
       "Dominican Republic               2\n",
       "Singapore                        2\n",
       "Venezuela                        2\n",
       "Norway                           2\n",
       "Malaysia                         2\n",
       "Panama                           1\n",
       "Indonesia                        1\n",
       "Turkey                           1\n",
       "Bhutan                           1\n",
       "Kenya                            1\n",
       "Nigeria                          1\n",
       "Dominica                         1\n",
       "Armenia                          1\n",
       "Brazil                           1\n",
       "Cuba                             1\n",
       "Lithuania                        1\n",
       "Colombia                         1\n",
       "Argentina                        1\n",
       "Croatia                          1\n",
       "Greece                           1\n",
       "Malta                            1\n",
       "Honduras                         1\n",
       "Sri Lanka                        1\n",
       "Nepal                            1\n",
       "Slovenia                         1\n",
       "Name: actor_country_of_citizenship, dtype: int64"
      ]
     },
     "execution_count": 59,
     "metadata": {},
     "output_type": "execute_result"
    }
   ],
   "source": [
    "actors_scraping['actor_country_of_citizenship'] = actors_scraping['actor_country_of_citizenship'].apply(\n",
    "    lambda x:  [k for k, v in countries_wordsets.items() if x in v][0] if len([k for k, v in countries_wordsets.items() if x in v]) != 0 else x)\n",
    "actors_scraping['actor_country_of_citizenship'].value_counts()\n"
   ]
  },
  {
   "cell_type": "markdown",
   "metadata": {},
   "source": [
    "### Occupation preprocessing"
   ]
  },
  {
   "cell_type": "markdown",
   "metadata": {},
   "source": [
    "The occupation column is a list of occupations in string format . \n",
    "<br /> The first step is to eliminate non desired characters from the string such as ' , [ , ] "
   ]
  },
  {
   "cell_type": "code",
   "execution_count": 60,
   "metadata": {},
   "outputs": [],
   "source": [
    "# extract a list from actor_occupations column\n",
    "list_occupations = list(actors_scraping['actor_occupation'])\n",
    "# function that extracts occupations from string of occupations\n",
    "\n",
    "\n",
    "def extract_occupation(string):\n",
    "    occupation_list = \"\"\n",
    "    if isinstance(string, str):\n",
    "        string = string.replace(\"'\", \"\")\n",
    "        string = string.replace(\"[\", \"\")\n",
    "        string = string.replace(\"]\", \"\")\n",
    "        occupation_list = string.split(\",\")\n",
    "\n",
    "    return occupation_list\n",
    "\n",
    "\n",
    "occupations_with_dupilicate = []\n",
    "# get a list of all occupations with duplicates\n",
    "for s in list_occupations:\n",
    "    split_string = extract_occupation(s)\n",
    "    split_string = [x.strip() for x in split_string]\n",
    "    occupations_with_dupilicate.append(split_string)\n"
   ]
  },
  {
   "cell_type": "code",
   "execution_count": 61,
   "metadata": {},
   "outputs": [
    {
     "data": {
      "image/png": "[encoded data removed]",
      "text/plain": [
       "<Figure size 432x288 with 1 Axes>"
      ]
     },
     "metadata": {
      "needs_background": "light"
     },
     "output_type": "display_data"
    }
   ],
   "source": [
    "# get a list of unique occupations\n",
    "occupations_unique = Counter(\n",
    "    [item for sublist in occupations_with_dupilicate for item in sublist])\n",
    "top_25_occupations = occupations_unique.most_common(25)\n",
    "\n",
    "labels = [i[0] for i in top_25_occupations]\n",
    "values = [i[1] for i in top_25_occupations]\n",
    "indexes = np.arange(len(top_25_occupations))\n",
    "width = 1\n",
    "# plot histogram of top 25 occupations distribution\n",
    "plt.bar(indexes, values, width)\n",
    "plt.xticks(indexes + width * 0.5, labels)\n",
    "plt.xticks(rotation=45, ha='right')\n",
    "plt.show()\n"
   ]
  },
  {
   "cell_type": "markdown",
   "metadata": {},
   "source": [
    "We can observe here the 25 most common occupations . <br /> We can see that for the \"actor\" occupation for example, there are a lot of variations like \"film actor\" , \"stage actor\" ... <br />These differences will induce non desired variance between actor occupation , for this reason , we aim here to regroup the different occupation into key occupations that would better represent specific communities . <br /> To be sure to take into account most relevant occupations , we are going to consider the top 50 occupations present in our communities and label them and replace all remaining occupations with \"other\""
   ]
  },
  {
   "cell_type": "code",
   "execution_count": 62,
   "metadata": {},
   "outputs": [
    {
     "data": {
      "text/plain": [
       "[('actor', 4544),\n",
       " ('film actor', 3827),\n",
       " ('television actor', 3148),\n",
       " ('stage actor', 1827),\n",
       " ('voice actor', 1137),\n",
       " ('film producer', 1074),\n",
       " ('screenwriter', 1059),\n",
       " ('film director', 1052),\n",
       " ('singer', 654),\n",
       " ('model', 401),\n",
       " ('comedian', 362),\n",
       " ('writer', 349),\n",
       " ('television producer', 237),\n",
       " ('character actor', 225),\n",
       " ('musician', 182),\n",
       " ('composer', 131),\n",
       " ('seiyū', 130),\n",
       " ('television presenter', 118),\n",
       " ('dancer', 109),\n",
       " ('autobiographer', 103),\n",
       " ('songwriter', 93),\n",
       " ('politician', 88),\n",
       " ('director', 86),\n",
       " ('theatrical director', 81),\n",
       " ('television director', 78),\n",
       " ('recording artist', 70),\n",
       " ('dub actor', 68),\n",
       " ('singer-songwriter', 68),\n",
       " ('manufacturer', 62),\n",
       " ('radio personality', 60),\n",
       " ('stunt performer', 48),\n",
       " ('film editor', 48),\n",
       " ('playwright', 47),\n",
       " ('beauty pageant contestant', 45),\n",
       " ('journalist', 44),\n",
       " ('businessperson', 42),\n",
       " ('stand-up comedian', 37),\n",
       " ('guitarist', 37),\n",
       " ('author', 36),\n",
       " ('novelist', 34),\n",
       " ('rapper', 34),\n",
       " ('painter', 33),\n",
       " ('executive producer', 32),\n",
       " ('poet', 27),\n",
       " ('podcaster', 27),\n",
       " ('jazz musician', 26),\n",
       " ('child actor', 26),\n",
       " ('entrepreneur', 26),\n",
       " ('record producer', 25),\n",
       " ('military officer', 24)]"
      ]
     },
     "execution_count": 62,
     "metadata": {},
     "output_type": "execute_result"
    }
   ],
   "source": [
    "# get a list of unique occupations\n",
    "occupations_unique.most_common(50)\n"
   ]
  },
  {
   "cell_type": "code",
   "execution_count": 63,
   "metadata": {},
   "outputs": [],
   "source": [
    "# Merge top 50 occupations into unique key occupations\n",
    "occupation_wordsets = dict([\n",
    "    ('actor', ['actor', 'film actor',\n",
    "     'television actor', 'stage actor', 'child actor']),\n",
    "    ('voice actor', ['voice actor', 'dub actor']),\n",
    "    ('director', ['director', 'film director',\n",
    "     'theatrical director', 'television director']),\n",
    "    ('musician', ['singer', 'musician', 'yodeler', 'songwriter', 'rapper',\n",
    "                  \"guitarist\", \"recording artist\", \"record producer\", \"singer-songwriter\", 'jazz musician', 'im', 'ive']),\n",
    "    ('producer', ['producer', 'film producer', 'television producer', 'film editor', 'rapper',\n",
    "                  \"guitarist\"]),\n",
    "    ('writer', ['screenwriter', 'novelist', 'author', 'playwright', 'writer',\n",
    "                \"autobiographer\"]),\n",
    "    ('dancer', ['dancer', 'ballet dancer']),\n",
    "    ('model', ['model', 'beauty pageant contestant']),\n",
    "    ('athlete', ['American football player', 'stunt performer', 'athlete']),\n",
    "    ('presenter', ['radio personality', 'presenter']),\n",
    "    ('artist', ['painter', 'sculptor', 'poet', 'painter']),\n",
    "    ('politician', ['military officer', 'military personnel', 'politician']),\n",
    "    ('comedian', ['comedian', 'stand-up comedian', 'podcaster']),\n",
    "    ('businessperson', ['businessman', 'businesswoman',\n",
    "     'businessperson', 'entrepreneur']),\n",
    "    ('journalist', ['journalist'])\n",
    "])\n"
   ]
  },
  {
   "cell_type": "markdown",
   "metadata": {},
   "source": [
    "Now that we have a clear classification of the occupations we can find in the dataset , all we have to do is replace any non"
   ]
  },
  {
   "cell_type": "markdown",
   "metadata": {},
   "source": [
    "First initial analysis"
   ]
  },
  {
   "cell_type": "code",
   "execution_count": 64,
   "metadata": {},
   "outputs": [
    {
     "name": "stdout",
     "output_type": "stream",
     "text": [
      "Community 1 :\n",
      "Males= 67.68916155419224 %,Females= 32.31083844580777\n",
      "United States of America    0.801036\n",
      "United Kingdom              0.097409\n",
      "Canada                      0.033161\n",
      "Community 2 :\n",
      "Males= 59.33147632311978 %,Females= 40.66852367688023\n",
      "India             0.969256\n",
      "United Kingdom    0.012945\n",
      "Pakistan          0.004854\n",
      "Community 3 :\n",
      "Males= 67.31107205623901 %,Females= 32.68892794376098\n",
      "United States of America    0.900722\n",
      "Canada                      0.041516\n",
      "United Kingdom              0.032491\n",
      "Community 4 :\n",
      "Males= 71.90812720848056 %,Females= 28.091872791519435\n",
      "United Kingdom              0.616756\n",
      "United States of America    0.169340\n",
      "Australia                   0.074866\n",
      "Community 5 :\n",
      "Males= 71.30434782608695 %,Females= 28.695652173913043\n",
      "United States of America    0.761062\n",
      "United Kingdom              0.059735\n",
      "Canada                      0.042035\n",
      "Community 6 :\n",
      "Males= 66.01671309192201 %,Females= 33.98328690807799\n",
      "India     0.987915\n",
      "Egypt     0.003021\n",
      "Bhutan    0.003021\n",
      "Community 7 :\n",
      "Males= 65.95744680851064 %,Females= 34.04255319148936\n",
      "United States of America    0.910769\n",
      "United Kingdom              0.033846\n",
      "Canada                      0.015385\n",
      "Community 8 :\n",
      "Males= 71.24600638977637 %,Females= 28.753993610223645\n",
      "United States of America    0.871383\n",
      "United Kingdom              0.061093\n",
      "Canada                      0.054662\n",
      "Community 9 :\n",
      "Males= 72.6235741444867 %,Females= 27.376425855513308\n",
      "China        0.584416\n",
      "Hong Kong    0.181818\n",
      "Taiwan       0.099567\n",
      "Community 10 :\n",
      "Males= 70.53140096618358 %,Females= 29.468599033816425\n",
      "United Kingdom              0.776190\n",
      "United States of America    0.076190\n",
      "Ireland                     0.071429\n",
      "Community 11 :\n",
      "Males= 70.8994708994709 %,Females= 29.100529100529098\n",
      "United States of America    0.701087\n",
      "United Kingdom              0.168478\n",
      "Canada                      0.032609\n",
      "Community 12 :\n",
      "Males= 59.76331360946746 %,Females= 40.23668639053255\n",
      "India    1.0\n",
      "Community 13 :\n",
      "Males= 54.32098765432099 %,Females= 45.67901234567901\n",
      "Japan                       0.737179\n",
      "United States of America    0.237179\n",
      "Canada                      0.019231\n",
      "Community 14 :\n",
      "Males= 65.0 %,Females= 35.0\n",
      "France      0.55625\n",
      "Italy       0.30625\n",
      "Portugal    0.05000\n",
      "Community 15 :\n",
      "Males= 71.7557251908397 %,Females= 28.24427480916031\n",
      "United States of America    0.872881\n",
      "United Kingdom              0.067797\n",
      "Australia                   0.025424\n",
      "Community 16 :\n",
      "Males= 67.22689075630252 %,Females= 32.773109243697476\n",
      "Japan    1.0\n",
      "Community 17 :\n",
      "Males= 84.31372549019608 %,Females= 15.686274509803921\n",
      "United States of America    0.913043\n",
      "United Kingdom              0.065217\n",
      "Canada                      0.010870\n",
      "Community 18 :\n",
      "Males= 67.07317073170732 %,Females= 32.926829268292686\n",
      "United States of America      0.9250\n",
      "United Kingdom                0.0375\n",
      "Kingdom of the Netherlands    0.0125\n",
      "Community 19 :\n",
      "Males= 52.63157894736842 %,Females= 47.368421052631575\n",
      "United States of America    0.875000\n",
      "Canada                      0.069444\n",
      "Germany                     0.027778\n"
     ]
    }
   ],
   "source": [
    "df_feature_distribution = pd.DataFrame(columns=['Community', 'Males', 'Females', '1st_country',\n",
    "                                       '2nd_country', '3rd_country', '1st_occupation', '2nd_occupation', '3rd_occupation'])\n",
    "for i in range(1, 20):\n",
    "    df = actors_scraping[actors_scraping['community'] == i]\n",
    "    gender_distribution = df['actor_gender'].value_counts(normalize=True) * 100\n",
    "    country_distribution = df['actor_country_of_citizenship'].value_counts(\n",
    "        normalize=True)\n",
    "    occupation_distribution = df['actor_occupation'].value_counts(\n",
    "        normalize=True)\n",
    "    print(\"Community\", i, \":\")\n",
    "    print(\"Males=\", gender_distribution.M, \"%,Females=\", gender_distribution.F)\n",
    "    print(country_distribution[:3].to_string())\n",
    "#     print(occupation_distribution[:3].to_string())\n"
   ]
  },
  {
   "cell_type": "code",
   "execution_count": 65,
   "metadata": {},
   "outputs": [],
   "source": [
    "# df = top_20_communities_all_actors.groupby('community')\n",
    "\n",
    "# df_fill = df.agg('count')\n",
    "# # df_fill[['connectivity','actor_gender','Actor_date_of_birth','Actor_ethnicity']]/4\n",
    "# df_fill['actor_gender'] = df_fill.apply(\n",
    "#     lambda r: r.actor_gender/r.Actor_name*100, axis=1)\n",
    "# df_fill['connectivity'] = df_fill.apply(\n",
    "#     lambda r: r.connectivity / r.Actor_name*100, axis=1)\n",
    "# df_fill['Actor_date_of_birth'] = df_fill.apply(\n",
    "#     lambda r: r.Actor_date_of_birth/r.Actor_name*100, axis=1)\n",
    "# df_fill['Actor_ethnicity'] = df_fill.apply(\n",
    "#     lambda r: r.Actor_ethnicity/r.Actor_name*100, axis=1)\n",
    "# df_fill\n",
    "\n",
    "# # gender is always here\n",
    "# # date of birth never less than 70%\n",
    "# # ethnicity very small representation (no more than 60% values)\n"
   ]
  },
  {
   "cell_type": "markdown",
   "metadata": {},
   "source": [
    "## 3.6 Gapminder sytle visualization"
   ]
  },
  {
   "cell_type": "markdown",
   "metadata": {},
   "source": [
    "### 3.6.1 Cleaning the data"
   ]
  },
  {
   "cell_type": "code",
   "execution_count": 66,
   "metadata": {},
   "outputs": [
    {
     "name": "stdout",
     "output_type": "stream",
     "text": [
      "the number of missing values in actor_name column is 0\n",
      "the number of missing values in the actor gender column is 55\n",
      "the number of missing values in actor_date_of_birth column is 560\n",
      "the number of missing values in freebase_actor_id column is 0\n",
      "the number of missing values in wiki_data_actor_id column is 270\n",
      "the number of missing values in actor_country_of_citizenship column is 310\n",
      "the number of missing values in community column is 0\n",
      "the number of missing values in actor_occupation column is 271\n"
     ]
    }
   ],
   "source": [
    "actors_dataframe = actors_scraping[['Actor_name', 'actor_gender','Actor_date_of_birth', 'Freebase_actor_ID', 'Wikidata_actor_id', 'actor_country_of_citizenship','community', 'actor_occupation']]\n",
    "# print the number of missing values in each column feature\n",
    "print('the number of missing values in actor_name column is', actors_dataframe['Actor_name'].isnull().sum())\n",
    "print('the number of missing values in the actor gender column is', actors_dataframe['actor_gender'].isnull().sum())\n",
    "print('the number of missing values in actor_date_of_birth column is', actors_dataframe['Actor_date_of_birth'].isnull().sum())\n",
    "print('the number of missing values in freebase_actor_id column is', actors_dataframe['Freebase_actor_ID'].isnull().sum())\n",
    "print('the number of missing values in wiki_data_actor_id column is', actors_dataframe['Wikidata_actor_id'].isnull().sum())\n",
    "print('the number of missing values in actor_country_of_citizenship column is', actors_dataframe['actor_country_of_citizenship'].isnull().sum())\n",
    "print('the number of missing values in community column is', actors_dataframe['community'].isnull().sum())\n",
    "print('the number of missing values in actor_occupation column is', actors_dataframe['actor_occupation'].isnull().sum())\n"
   ]
  },
  {
   "cell_type": "code",
   "execution_count": 67,
   "metadata": {},
   "outputs": [
    {
     "data": {
      "text/html": [
       "<div>\n",
       "<style scoped>\n",
       "    .dataframe tbody tr th:only-of-type {\n",
       "        vertical-align: middle;\n",
       "    }\n",
       "\n",
       "    .dataframe tbody tr th {\n",
       "        vertical-align: top;\n",
       "    }\n",
       "\n",
       "    .dataframe thead th {\n",
       "        text-align: right;\n",
       "    }\n",
       "</style>\n",
       "<table border=\"1\" class=\"dataframe\">\n",
       "  <thead>\n",
       "    <tr style=\"text-align: right;\">\n",
       "      <th></th>\n",
       "      <th>Actor_name</th>\n",
       "      <th>actor_gender</th>\n",
       "      <th>Actor_date_of_birth</th>\n",
       "      <th>Freebase_actor_ID</th>\n",
       "      <th>Wikidata_actor_id</th>\n",
       "      <th>actor_country_of_citizenship</th>\n",
       "      <th>community</th>\n",
       "      <th>actor_occupation</th>\n",
       "    </tr>\n",
       "  </thead>\n",
       "  <tbody>\n",
       "    <tr>\n",
       "      <th>0</th>\n",
       "      <td>John Wayne</td>\n",
       "      <td>M</td>\n",
       "      <td>5/26/1907</td>\n",
       "      <td>/m/043gj</td>\n",
       "      <td>Q40531</td>\n",
       "      <td>United States of America</td>\n",
       "      <td>1</td>\n",
       "      <td>['actor', 'film actor', 'film director', 'film...</td>\n",
       "    </tr>\n",
       "    <tr>\n",
       "      <th>1</th>\n",
       "      <td>Roy Rogers</td>\n",
       "      <td>M</td>\n",
       "      <td>11/5/1911</td>\n",
       "      <td>/m/01mc6h1</td>\n",
       "      <td>Q367129</td>\n",
       "      <td>United States of America</td>\n",
       "      <td>1</td>\n",
       "      <td>['television actor', 'film actor', 'singer', '...</td>\n",
       "    </tr>\n",
       "    <tr>\n",
       "      <th>2</th>\n",
       "      <td>George 'Gabby' Hayes</td>\n",
       "      <td>M</td>\n",
       "      <td>1885-05-07</td>\n",
       "      <td>/m/03l6jx</td>\n",
       "      <td>Q1277973</td>\n",
       "      <td>United States of America</td>\n",
       "      <td>1</td>\n",
       "      <td>['actor', 'television actor', 'film actor', 'r...</td>\n",
       "    </tr>\n",
       "    <tr>\n",
       "      <th>3</th>\n",
       "      <td>Basil Rathbone</td>\n",
       "      <td>M</td>\n",
       "      <td>1892-06-13</td>\n",
       "      <td>/m/0hwd8</td>\n",
       "      <td>Q336865</td>\n",
       "      <td>United Kingdom</td>\n",
       "      <td>1</td>\n",
       "      <td>['character actor', 'stage actor', 'film actor...</td>\n",
       "    </tr>\n",
       "    <tr>\n",
       "      <th>4</th>\n",
       "      <td>John Carradine</td>\n",
       "      <td>M</td>\n",
       "      <td>2/5/1906</td>\n",
       "      <td>/m/021mlp</td>\n",
       "      <td>Q312878</td>\n",
       "      <td>United States of America</td>\n",
       "      <td>1</td>\n",
       "      <td>['film actor', 'character actor', 'stage actor...</td>\n",
       "    </tr>\n",
       "    <tr>\n",
       "      <th>...</th>\n",
       "      <td>...</td>\n",
       "      <td>...</td>\n",
       "      <td>...</td>\n",
       "      <td>...</td>\n",
       "      <td>...</td>\n",
       "      <td>...</td>\n",
       "      <td>...</td>\n",
       "      <td>...</td>\n",
       "    </tr>\n",
       "    <tr>\n",
       "      <th>6069</th>\n",
       "      <td>Pushpavalli</td>\n",
       "      <td>F</td>\n",
       "      <td>NaN</td>\n",
       "      <td>/m/080hxfv</td>\n",
       "      <td>Q7261853</td>\n",
       "      <td>India</td>\n",
       "      <td>20</td>\n",
       "      <td>['actor']</td>\n",
       "    </tr>\n",
       "    <tr>\n",
       "      <th>6070</th>\n",
       "      <td>Sarathi</td>\n",
       "      <td>M</td>\n",
       "      <td>6/26/1942</td>\n",
       "      <td>/m/0463_8t</td>\n",
       "      <td>Q7423331</td>\n",
       "      <td>India</td>\n",
       "      <td>20</td>\n",
       "      <td>['actor']</td>\n",
       "    </tr>\n",
       "    <tr>\n",
       "      <th>6071</th>\n",
       "      <td>Ragini</td>\n",
       "      <td>F</td>\n",
       "      <td>1937</td>\n",
       "      <td>/m/06w4wmq</td>\n",
       "      <td>Q7283094</td>\n",
       "      <td>India</td>\n",
       "      <td>20</td>\n",
       "      <td>['actor']</td>\n",
       "    </tr>\n",
       "    <tr>\n",
       "      <th>6072</th>\n",
       "      <td>Nirmalamma</td>\n",
       "      <td>F</td>\n",
       "      <td>1920</td>\n",
       "      <td>/m/07kj3f9</td>\n",
       "      <td>Q7040057</td>\n",
       "      <td>India</td>\n",
       "      <td>20</td>\n",
       "      <td>['actor']</td>\n",
       "    </tr>\n",
       "    <tr>\n",
       "      <th>6073</th>\n",
       "      <td>Rushyendramani</td>\n",
       "      <td>F</td>\n",
       "      <td>1/1/1917</td>\n",
       "      <td>/m/0br_7d6</td>\n",
       "      <td>Q7380893</td>\n",
       "      <td>India</td>\n",
       "      <td>20</td>\n",
       "      <td>['actor']</td>\n",
       "    </tr>\n",
       "  </tbody>\n",
       "</table>\n",
       "<p>6074 rows × 8 columns</p>\n",
       "</div>"
      ],
      "text/plain": [
       "                Actor_name actor_gender Actor_date_of_birth Freebase_actor_ID  \\\n",
       "0               John Wayne            M           5/26/1907          /m/043gj   \n",
       "1               Roy Rogers            M           11/5/1911        /m/01mc6h1   \n",
       "2     George 'Gabby' Hayes            M          1885-05-07         /m/03l6jx   \n",
       "3           Basil Rathbone            M          1892-06-13          /m/0hwd8   \n",
       "4           John Carradine            M            2/5/1906         /m/021mlp   \n",
       "...                    ...          ...                 ...               ...   \n",
       "6069           Pushpavalli            F                 NaN        /m/080hxfv   \n",
       "6070               Sarathi            M           6/26/1942        /m/0463_8t   \n",
       "6071                Ragini            F                1937        /m/06w4wmq   \n",
       "6072            Nirmalamma            F                1920        /m/07kj3f9   \n",
       "6073        Rushyendramani            F            1/1/1917        /m/0br_7d6   \n",
       "\n",
       "     Wikidata_actor_id actor_country_of_citizenship  community  \\\n",
       "0               Q40531     United States of America          1   \n",
       "1              Q367129     United States of America          1   \n",
       "2             Q1277973     United States of America          1   \n",
       "3              Q336865               United Kingdom          1   \n",
       "4              Q312878     United States of America          1   \n",
       "...                ...                          ...        ...   \n",
       "6069          Q7261853                        India         20   \n",
       "6070          Q7423331                        India         20   \n",
       "6071          Q7283094                        India         20   \n",
       "6072          Q7040057                        India         20   \n",
       "6073          Q7380893                        India         20   \n",
       "\n",
       "                                       actor_occupation  \n",
       "0     ['actor', 'film actor', 'film director', 'film...  \n",
       "1     ['television actor', 'film actor', 'singer', '...  \n",
       "2     ['actor', 'television actor', 'film actor', 'r...  \n",
       "3     ['character actor', 'stage actor', 'film actor...  \n",
       "4     ['film actor', 'character actor', 'stage actor...  \n",
       "...                                                 ...  \n",
       "6069                                          ['actor']  \n",
       "6070                                          ['actor']  \n",
       "6071                                          ['actor']  \n",
       "6072                                          ['actor']  \n",
       "6073                                          ['actor']  \n",
       "\n",
       "[6074 rows x 8 columns]"
      ]
     },
     "execution_count": 67,
     "metadata": {},
     "output_type": "execute_result"
    }
   ],
   "source": [
    "actors_dataframe"
   ]
  },
  {
   "cell_type": "code",
   "execution_count": 68,
   "metadata": {},
   "outputs": [],
   "source": [
    "# function to extract the year from the date of birth\n",
    "def extract_year(date_of_birth):\n",
    "    if date_of_birth is not None:\n",
    "        # convert to string\n",
    "        date_of_birth = str(date_of_birth)\n",
    "        if '-' in date_of_birth:\n",
    "            date = date_of_birth.split('-')\n",
    "        else :\n",
    "            date = date_of_birth.split('/')\n",
    "        # the year of birth is the substring of length 4 among the date substrings\n",
    "        for string in date:\n",
    "            if len(string) == 4:\n",
    "                return int(string)\n",
    "\n",
    "# apply the function to the date of birth column\n",
    "actors_dataframe['Year_of_birth'] = actors_dataframe['Actor_date_of_birth'].apply(extract_year)\n",
    "# sanity check: assert that number of missing values in the year of birth column is equal to the number of missing values in the date of birth column\n",
    "assert actors_dataframe['Year_of_birth'].isnull().sum() == actors_dataframe['Actor_date_of_birth'].isnull().sum()\n",
    "# drop the date of birth column\n",
    "actors_dataframe.drop('Actor_date_of_birth', axis=1, inplace=True)\n",
    "    "
   ]
  },
  {
   "cell_type": "code",
   "execution_count": 69,
   "metadata": {},
   "outputs": [],
   "source": [
    "# fill the year of birth column with the median value of the year of birth from the same community which are not missing\n",
    "actors_dataframe['Year_of_birth'] = actors_dataframe.groupby('community')['Year_of_birth'].apply(lambda x: x.fillna(x.median()))"
   ]
  },
  {
   "cell_type": "code",
   "execution_count": 70,
   "metadata": {},
   "outputs": [],
   "source": [
    "# fill the missing gender values randomly with the probability of each within the same community\n",
    "gender_probabilities = actors_dataframe.groupby('community')['actor_gender'].value_counts(normalize=True)\n",
    "actors_dataframe['actor_gender'] = actors_dataframe.groupby('community')['actor_gender'].apply(lambda x: x.fillna(np.random.choice(['M', 'F'], p=gender_probabilities[x.name])))\n",
    "# fill the missing country of citizenship values randomly with the probability of each within the same community\n",
    "actors_dataframe['actor_country_of_citizenship'] = actors_dataframe.groupby('community')['actor_country_of_citizenship'].apply(lambda x: x.fillna(np.random.choice(x.value_counts().index, p=x.value_counts(normalize=True).values)))\n",
    "# fill the missing occupation values with a list containing a single string 'actor'\n",
    "actors_dataframe['actor_occupation'] = actors_dataframe['actor_occupation'].fillna(\"['actor']\")"
   ]
  },
  {
   "cell_type": "markdown",
   "metadata": {},
   "source": [
    "### 3.6.2 Preprocessing the data"
   ]
  },
  {
   "cell_type": "code",
   "execution_count": 71,
   "metadata": {},
   "outputs": [],
   "source": [
    "# drop the rows where the freebase actor id is not present in actors_dataframe\n",
    "actors_movies = actors_new_meta[actors_new_meta['Freebase_actor_ID'].isin(actors_dataframe['Freebase_actor_ID'])]\n",
    "# sanity check: assert every actor in actors_dataframe is present in actors_movies\n",
    "assert set(actors_dataframe['Freebase_actor_ID']) == set(actors_movies['Freebase_actor_ID'])\n"
   ]
  },
  {
   "cell_type": "code",
   "execution_count": 72,
   "metadata": {},
   "outputs": [],
   "source": [
    "# for each actor in actors_dataframe, make a new coloumn in actors_movies representing a dictionnary with Wikipedia_movie_ID  as key and the movie release year as value\n",
    "actors_dataframe['movies'] = actors_dataframe['Freebase_actor_ID'].apply(lambda x: dict(zip(actors_movies[actors_movies['Freebase_actor_ID'] == x]['Wikipedia_movie_ID'], actors_movies[actors_movies['Freebase_actor_ID'] == x]['Movie_release_year'].astype(int))))"
   ]
  },
  {
   "cell_type": "code",
   "execution_count": 73,
   "metadata": {},
   "outputs": [
    {
     "data": {
      "text/html": [
       "<div>\n",
       "<style scoped>\n",
       "    .dataframe tbody tr th:only-of-type {\n",
       "        vertical-align: middle;\n",
       "    }\n",
       "\n",
       "    .dataframe tbody tr th {\n",
       "        vertical-align: top;\n",
       "    }\n",
       "\n",
       "    .dataframe thead th {\n",
       "        text-align: right;\n",
       "    }\n",
       "</style>\n",
       "<table border=\"1\" class=\"dataframe\">\n",
       "  <thead>\n",
       "    <tr style=\"text-align: right;\">\n",
       "      <th></th>\n",
       "      <th>Actor_name</th>\n",
       "      <th>actor_gender</th>\n",
       "      <th>Freebase_actor_ID</th>\n",
       "      <th>Wikidata_actor_id</th>\n",
       "      <th>actor_country_of_citizenship</th>\n",
       "      <th>community</th>\n",
       "      <th>actor_occupation</th>\n",
       "      <th>Year_of_birth</th>\n",
       "      <th>movies</th>\n",
       "    </tr>\n",
       "  </thead>\n",
       "  <tbody>\n",
       "    <tr>\n",
       "      <th>0</th>\n",
       "      <td>John Wayne</td>\n",
       "      <td>M</td>\n",
       "      <td>/m/043gj</td>\n",
       "      <td>Q40531</td>\n",
       "      <td>United States of America</td>\n",
       "      <td>1</td>\n",
       "      <td>['actor', 'film actor', 'film director', 'film...</td>\n",
       "      <td>1907.0</td>\n",
       "      <td>{62122: 1939, 62693: 1940, 70428: 1952, 74387:...</td>\n",
       "    </tr>\n",
       "    <tr>\n",
       "      <th>1</th>\n",
       "      <td>Roy Rogers</td>\n",
       "      <td>M</td>\n",
       "      <td>/m/01mc6h1</td>\n",
       "      <td>Q367129</td>\n",
       "      <td>United States of America</td>\n",
       "      <td>1</td>\n",
       "      <td>['television actor', 'film actor', 'singer', '...</td>\n",
       "      <td>1911.0</td>\n",
       "      <td>{1614254: 1948, 2236141: 1952, 2684680: 1941, ...</td>\n",
       "    </tr>\n",
       "    <tr>\n",
       "      <th>2</th>\n",
       "      <td>George 'Gabby' Hayes</td>\n",
       "      <td>M</td>\n",
       "      <td>/m/03l6jx</td>\n",
       "      <td>Q1277973</td>\n",
       "      <td>United States of America</td>\n",
       "      <td>1</td>\n",
       "      <td>['actor', 'television actor', 'film actor', 'r...</td>\n",
       "      <td>1885.0</td>\n",
       "      <td>{165359: 1940, 1901270: 1931, 2684680: 1941, 3...</td>\n",
       "    </tr>\n",
       "    <tr>\n",
       "      <th>3</th>\n",
       "      <td>Basil Rathbone</td>\n",
       "      <td>M</td>\n",
       "      <td>/m/0hwd8</td>\n",
       "      <td>Q336865</td>\n",
       "      <td>United Kingdom</td>\n",
       "      <td>1</td>\n",
       "      <td>['character actor', 'stage actor', 'film actor...</td>\n",
       "      <td>1892.0</td>\n",
       "      <td>{61481: 1935, 61498: 1935, 61519: 1935, 62084:...</td>\n",
       "    </tr>\n",
       "    <tr>\n",
       "      <th>4</th>\n",
       "      <td>John Carradine</td>\n",
       "      <td>M</td>\n",
       "      <td>/m/021mlp</td>\n",
       "      <td>Q312878</td>\n",
       "      <td>United States of America</td>\n",
       "      <td>1</td>\n",
       "      <td>['film actor', 'character actor', 'stage actor...</td>\n",
       "      <td>1906.0</td>\n",
       "      <td>{62122: 1939, 73375: 1935, 76383: 1956, 163150...</td>\n",
       "    </tr>\n",
       "    <tr>\n",
       "      <th>...</th>\n",
       "      <td>...</td>\n",
       "      <td>...</td>\n",
       "      <td>...</td>\n",
       "      <td>...</td>\n",
       "      <td>...</td>\n",
       "      <td>...</td>\n",
       "      <td>...</td>\n",
       "      <td>...</td>\n",
       "      <td>...</td>\n",
       "    </tr>\n",
       "    <tr>\n",
       "      <th>6069</th>\n",
       "      <td>Pushpavalli</td>\n",
       "      <td>F</td>\n",
       "      <td>/m/080hxfv</td>\n",
       "      <td>Q7261853</td>\n",
       "      <td>India</td>\n",
       "      <td>20</td>\n",
       "      <td>['actor']</td>\n",
       "      <td>1925.0</td>\n",
       "      <td>{24258284: 1940, 24272584: 1942, 26479782: 196...</td>\n",
       "    </tr>\n",
       "    <tr>\n",
       "      <th>6070</th>\n",
       "      <td>Sarathi</td>\n",
       "      <td>M</td>\n",
       "      <td>/m/0463_8t</td>\n",
       "      <td>Q7423331</td>\n",
       "      <td>India</td>\n",
       "      <td>20</td>\n",
       "      <td>['actor']</td>\n",
       "      <td>1942.0</td>\n",
       "      <td>{11142544: 1978, 19570233: 1993, 25968481: 196...</td>\n",
       "    </tr>\n",
       "    <tr>\n",
       "      <th>6071</th>\n",
       "      <td>Ragini</td>\n",
       "      <td>F</td>\n",
       "      <td>/m/06w4wmq</td>\n",
       "      <td>Q7283094</td>\n",
       "      <td>India</td>\n",
       "      <td>20</td>\n",
       "      <td>['actor']</td>\n",
       "      <td>1937.0</td>\n",
       "      <td>{30640377: 1957, 31153734: 1962, 31153795: 197...</td>\n",
       "    </tr>\n",
       "    <tr>\n",
       "      <th>6072</th>\n",
       "      <td>Nirmalamma</td>\n",
       "      <td>F</td>\n",
       "      <td>/m/07kj3f9</td>\n",
       "      <td>Q7040057</td>\n",
       "      <td>India</td>\n",
       "      <td>20</td>\n",
       "      <td>['actor']</td>\n",
       "      <td>1920.0</td>\n",
       "      <td>{7192710: 1983, 8993730: 1995, 9043017: 1978, ...</td>\n",
       "    </tr>\n",
       "    <tr>\n",
       "      <th>6073</th>\n",
       "      <td>Rushyendramani</td>\n",
       "      <td>F</td>\n",
       "      <td>/m/0br_7d6</td>\n",
       "      <td>Q7380893</td>\n",
       "      <td>India</td>\n",
       "      <td>20</td>\n",
       "      <td>['actor']</td>\n",
       "      <td>1917.0</td>\n",
       "      <td>{12873578: 1962, 14700543: 1974, 26087436: 195...</td>\n",
       "    </tr>\n",
       "  </tbody>\n",
       "</table>\n",
       "<p>6074 rows × 9 columns</p>\n",
       "</div>"
      ],
      "text/plain": [
       "                Actor_name actor_gender Freebase_actor_ID Wikidata_actor_id  \\\n",
       "0               John Wayne            M          /m/043gj            Q40531   \n",
       "1               Roy Rogers            M        /m/01mc6h1           Q367129   \n",
       "2     George 'Gabby' Hayes            M         /m/03l6jx          Q1277973   \n",
       "3           Basil Rathbone            M          /m/0hwd8           Q336865   \n",
       "4           John Carradine            M         /m/021mlp           Q312878   \n",
       "...                    ...          ...               ...               ...   \n",
       "6069           Pushpavalli            F        /m/080hxfv          Q7261853   \n",
       "6070               Sarathi            M        /m/0463_8t          Q7423331   \n",
       "6071                Ragini            F        /m/06w4wmq          Q7283094   \n",
       "6072            Nirmalamma            F        /m/07kj3f9          Q7040057   \n",
       "6073        Rushyendramani            F        /m/0br_7d6          Q7380893   \n",
       "\n",
       "     actor_country_of_citizenship  community  \\\n",
       "0        United States of America          1   \n",
       "1        United States of America          1   \n",
       "2        United States of America          1   \n",
       "3                  United Kingdom          1   \n",
       "4        United States of America          1   \n",
       "...                           ...        ...   \n",
       "6069                        India         20   \n",
       "6070                        India         20   \n",
       "6071                        India         20   \n",
       "6072                        India         20   \n",
       "6073                        India         20   \n",
       "\n",
       "                                       actor_occupation  Year_of_birth  \\\n",
       "0     ['actor', 'film actor', 'film director', 'film...         1907.0   \n",
       "1     ['television actor', 'film actor', 'singer', '...         1911.0   \n",
       "2     ['actor', 'television actor', 'film actor', 'r...         1885.0   \n",
       "3     ['character actor', 'stage actor', 'film actor...         1892.0   \n",
       "4     ['film actor', 'character actor', 'stage actor...         1906.0   \n",
       "...                                                 ...            ...   \n",
       "6069                                          ['actor']         1925.0   \n",
       "6070                                          ['actor']         1942.0   \n",
       "6071                                          ['actor']         1937.0   \n",
       "6072                                          ['actor']         1920.0   \n",
       "6073                                          ['actor']         1917.0   \n",
       "\n",
       "                                                 movies  \n",
       "0     {62122: 1939, 62693: 1940, 70428: 1952, 74387:...  \n",
       "1     {1614254: 1948, 2236141: 1952, 2684680: 1941, ...  \n",
       "2     {165359: 1940, 1901270: 1931, 2684680: 1941, 3...  \n",
       "3     {61481: 1935, 61498: 1935, 61519: 1935, 62084:...  \n",
       "4     {62122: 1939, 73375: 1935, 76383: 1956, 163150...  \n",
       "...                                                 ...  \n",
       "6069  {24258284: 1940, 24272584: 1942, 26479782: 196...  \n",
       "6070  {11142544: 1978, 19570233: 1993, 25968481: 196...  \n",
       "6071  {30640377: 1957, 31153734: 1962, 31153795: 197...  \n",
       "6072  {7192710: 1983, 8993730: 1995, 9043017: 1978, ...  \n",
       "6073  {12873578: 1962, 14700543: 1974, 26087436: 195...  \n",
       "\n",
       "[6074 rows x 9 columns]"
      ]
     },
     "execution_count": 73,
     "metadata": {},
     "output_type": "execute_result"
    }
   ],
   "source": [
    "actors_dataframe"
   ]
  },
  {
   "cell_type": "code",
   "execution_count": 74,
   "metadata": {},
   "outputs": [],
   "source": [
    "# function that given a country attributes longitude and latitude that are within the country\n",
    "# def get_country_coordinates(country):\n",
    "    "
   ]
  },
  {
   "cell_type": "code",
   "execution_count": 75,
   "metadata": {},
   "outputs": [
    {
     "name": "stdout",
     "output_type": "stream",
     "text": [
      "the movie release year range is [1908, 2016]\n"
     ]
    }
   ],
   "source": [
    "# across all actors get the earliest and latest movie release year\n",
    "earliest_movie_year = actors_dataframe['movies'].apply(lambda x: min(x.values())).min()\n",
    "latest_movie_year = actors_dataframe['movies'].apply(lambda x: max(x.values())).max()\n",
    "print('the movie release year range is [{}, {}]'.format(earliest_movie_year, latest_movie_year))"
   ]
  },
  {
   "cell_type": "code",
   "execution_count": 76,
   "metadata": {},
   "outputs": [],
   "source": [
    "# for each year in the range of movie release years, make a new dataframe (copy) where the movies that were released after that year are removed\n",
    "actors_per_year = []\n",
    "for year in range(earliest_movie_year, latest_movie_year+1):\n",
    "    year_dataframe = actors_dataframe.copy()\n",
    "    year_dataframe['movies'] = year_dataframe['movies'].apply(lambda x: {k:v for k,v in x.items() if v <= year})\n",
    "    # compute the number of movies each actor has played in\n",
    "    year_dataframe['number_of_movies'] = year_dataframe['movies'].apply(lambda x: len(x))\n",
    "    # compute the average age at which each actor has played in a movie\n",
    "    year_dataframe['average_age_when_playing'] = year_dataframe['movies'].apply(lambda x: np.mean([ v for k,v in x.items()])) - year_dataframe['Year_of_birth']\n",
    "    # drop the rows where the movies column is empty\n",
    "    year_dataframe = year_dataframe[year_dataframe['movies'].apply(lambda x: len(x) > 0)]\n",
    "    actors_per_year.append(year_dataframe)\n",
    "# map dataframes to the year they represent\n",
    "actors_per_year = dict(zip(range(earliest_movie_year, latest_movie_year+1), actors_per_year))\n",
    "    "
   ]
  },
  {
   "cell_type": "code",
   "execution_count": 77,
   "metadata": {},
   "outputs": [
    {
     "data": {
      "text/html": [
       "<div>\n",
       "<style scoped>\n",
       "    .dataframe tbody tr th:only-of-type {\n",
       "        vertical-align: middle;\n",
       "    }\n",
       "\n",
       "    .dataframe tbody tr th {\n",
       "        vertical-align: top;\n",
       "    }\n",
       "\n",
       "    .dataframe thead th {\n",
       "        text-align: right;\n",
       "    }\n",
       "</style>\n",
       "<table border=\"1\" class=\"dataframe\">\n",
       "  <thead>\n",
       "    <tr style=\"text-align: right;\">\n",
       "      <th></th>\n",
       "      <th>Actor_name</th>\n",
       "      <th>actor_gender</th>\n",
       "      <th>Freebase_actor_ID</th>\n",
       "      <th>Wikidata_actor_id</th>\n",
       "      <th>actor_country_of_citizenship</th>\n",
       "      <th>community</th>\n",
       "      <th>actor_occupation</th>\n",
       "      <th>Year_of_birth</th>\n",
       "      <th>movies</th>\n",
       "      <th>number_of_movies</th>\n",
       "      <th>average_age_when_playing</th>\n",
       "    </tr>\n",
       "  </thead>\n",
       "  <tbody>\n",
       "    <tr>\n",
       "      <th>126</th>\n",
       "      <td>Henry B. Walthall</td>\n",
       "      <td>M</td>\n",
       "      <td>/m/0bkrvh</td>\n",
       "      <td>Q661678</td>\n",
       "      <td>United States of America</td>\n",
       "      <td>1</td>\n",
       "      <td>['stage actor', 'film actor']</td>\n",
       "      <td>1878.0</td>\n",
       "      <td>{73413: 1909, 6610400: 1909, 9588217: 1909, 18...</td>\n",
       "      <td>4</td>\n",
       "      <td>31.00</td>\n",
       "    </tr>\n",
       "    <tr>\n",
       "      <th>205</th>\n",
       "      <td>Claire McDowell</td>\n",
       "      <td>F</td>\n",
       "      <td>/m/03c1x11</td>\n",
       "      <td>Q459580</td>\n",
       "      <td>United States of America</td>\n",
       "      <td>1</td>\n",
       "      <td>['actor', 'film actor']</td>\n",
       "      <td>1877.0</td>\n",
       "      <td>{19268430: 1908}</td>\n",
       "      <td>1</td>\n",
       "      <td>31.00</td>\n",
       "    </tr>\n",
       "    <tr>\n",
       "      <th>337</th>\n",
       "      <td>Blanche Sweet</td>\n",
       "      <td>F</td>\n",
       "      <td>/m/07y9rp</td>\n",
       "      <td>Q267718</td>\n",
       "      <td>United States of America</td>\n",
       "      <td>1</td>\n",
       "      <td>['actor', 'stage actor', 'film actor', 'televi...</td>\n",
       "      <td>1896.0</td>\n",
       "      <td>{73413: 1909}</td>\n",
       "      <td>1</td>\n",
       "      <td>13.00</td>\n",
       "    </tr>\n",
       "    <tr>\n",
       "      <th>611</th>\n",
       "      <td>George Siegmann</td>\n",
       "      <td>M</td>\n",
       "      <td>/m/027j9c7</td>\n",
       "      <td>Q745994</td>\n",
       "      <td>United States of America</td>\n",
       "      <td>1</td>\n",
       "      <td>['actor', 'film actor', 'film director']</td>\n",
       "      <td>1882.0</td>\n",
       "      <td>{9588217: 1909}</td>\n",
       "      <td>1</td>\n",
       "      <td>27.00</td>\n",
       "    </tr>\n",
       "    <tr>\n",
       "      <th>5775</th>\n",
       "      <td>Mack Sennett</td>\n",
       "      <td>M</td>\n",
       "      <td>/m/04rg6</td>\n",
       "      <td>Q317574</td>\n",
       "      <td>United States of America</td>\n",
       "      <td>17</td>\n",
       "      <td>['film director', 'film producer', 'actor', 's...</td>\n",
       "      <td>1880.0</td>\n",
       "      <td>{9588217: 1909, 10993693: 1909, 13289708: 1909...</td>\n",
       "      <td>5</td>\n",
       "      <td>28.60</td>\n",
       "    </tr>\n",
       "    <tr>\n",
       "      <th>5795</th>\n",
       "      <td>Marion Leonard</td>\n",
       "      <td>F</td>\n",
       "      <td>/m/08fb7_</td>\n",
       "      <td>Q1748192</td>\n",
       "      <td>United States of America</td>\n",
       "      <td>17</td>\n",
       "      <td>['actor', 'stage actor', 'film actor', 'film d...</td>\n",
       "      <td>1881.0</td>\n",
       "      <td>{6610400: 1909, 6735825: 1909, 9588217: 1909, ...</td>\n",
       "      <td>5</td>\n",
       "      <td>28.00</td>\n",
       "    </tr>\n",
       "    <tr>\n",
       "      <th>5797</th>\n",
       "      <td>Owen Moore</td>\n",
       "      <td>M</td>\n",
       "      <td>/m/02z8y4</td>\n",
       "      <td>Q966972</td>\n",
       "      <td>United States of America</td>\n",
       "      <td>17</td>\n",
       "      <td>['silent film actor', 'film actor', 'film dire...</td>\n",
       "      <td>1886.0</td>\n",
       "      <td>{6735825: 1909, 9588217: 1909, 10993693: 1909,...</td>\n",
       "      <td>4</td>\n",
       "      <td>23.00</td>\n",
       "    </tr>\n",
       "    <tr>\n",
       "      <th>5800</th>\n",
       "      <td>Arthur V. Johnson</td>\n",
       "      <td>M</td>\n",
       "      <td>/m/0b8mhk</td>\n",
       "      <td>Q661079</td>\n",
       "      <td>United States of America</td>\n",
       "      <td>17</td>\n",
       "      <td>['actor', 'film director', 'stage actor', 'fil...</td>\n",
       "      <td>1876.0</td>\n",
       "      <td>{6735825: 1909, 9588217: 1909, 10993693: 1909,...</td>\n",
       "      <td>4</td>\n",
       "      <td>32.75</td>\n",
       "    </tr>\n",
       "    <tr>\n",
       "      <th>5808</th>\n",
       "      <td>Charles Inslee</td>\n",
       "      <td>M</td>\n",
       "      <td>/m/04dzvs0</td>\n",
       "      <td>Q1124634</td>\n",
       "      <td>United States of America</td>\n",
       "      <td>17</td>\n",
       "      <td>['actor', 'film actor', 'film director']</td>\n",
       "      <td>1870.0</td>\n",
       "      <td>{19268430: 1908}</td>\n",
       "      <td>1</td>\n",
       "      <td>38.00</td>\n",
       "    </tr>\n",
       "    <tr>\n",
       "      <th>5809</th>\n",
       "      <td>Linda Arvidson</td>\n",
       "      <td>F</td>\n",
       "      <td>/m/027bkbh</td>\n",
       "      <td>Q2710971</td>\n",
       "      <td>United States of America</td>\n",
       "      <td>17</td>\n",
       "      <td>['actor', 'screenwriter', 'film actor']</td>\n",
       "      <td>1884.0</td>\n",
       "      <td>{73413: 1909, 6735825: 1909, 9588217: 1909, 10...</td>\n",
       "      <td>4</td>\n",
       "      <td>25.00</td>\n",
       "    </tr>\n",
       "    <tr>\n",
       "      <th>5844</th>\n",
       "      <td>George Nichols</td>\n",
       "      <td>M</td>\n",
       "      <td>/m/03c8tq3</td>\n",
       "      <td>Q3101795</td>\n",
       "      <td>United States of America</td>\n",
       "      <td>17</td>\n",
       "      <td>['actor', 'film director', 'film actor', 'stag...</td>\n",
       "      <td>1864.0</td>\n",
       "      <td>{6735825: 1909, 9588217: 1909, 18230568: 1909}</td>\n",
       "      <td>3</td>\n",
       "      <td>45.00</td>\n",
       "    </tr>\n",
       "    <tr>\n",
       "      <th>5963</th>\n",
       "      <td>Mary Pickford</td>\n",
       "      <td>F</td>\n",
       "      <td>/m/04rfq</td>\n",
       "      <td>Q104109</td>\n",
       "      <td>Canada</td>\n",
       "      <td>19</td>\n",
       "      <td>['film producer', 'film actor', 'film director...</td>\n",
       "      <td>1892.0</td>\n",
       "      <td>{9588217: 1909}</td>\n",
       "      <td>1</td>\n",
       "      <td>17.00</td>\n",
       "    </tr>\n",
       "  </tbody>\n",
       "</table>\n",
       "</div>"
      ],
      "text/plain": [
       "             Actor_name actor_gender Freebase_actor_ID Wikidata_actor_id  \\\n",
       "126   Henry B. Walthall            M         /m/0bkrvh           Q661678   \n",
       "205     Claire McDowell            F        /m/03c1x11           Q459580   \n",
       "337       Blanche Sweet            F         /m/07y9rp           Q267718   \n",
       "611     George Siegmann            M        /m/027j9c7           Q745994   \n",
       "5775       Mack Sennett            M          /m/04rg6           Q317574   \n",
       "5795     Marion Leonard            F         /m/08fb7_          Q1748192   \n",
       "5797         Owen Moore            M         /m/02z8y4           Q966972   \n",
       "5800  Arthur V. Johnson            M         /m/0b8mhk           Q661079   \n",
       "5808     Charles Inslee            M        /m/04dzvs0          Q1124634   \n",
       "5809     Linda Arvidson            F        /m/027bkbh          Q2710971   \n",
       "5844     George Nichols            M        /m/03c8tq3          Q3101795   \n",
       "5963      Mary Pickford            F          /m/04rfq           Q104109   \n",
       "\n",
       "     actor_country_of_citizenship  community  \\\n",
       "126      United States of America          1   \n",
       "205      United States of America          1   \n",
       "337      United States of America          1   \n",
       "611      United States of America          1   \n",
       "5775     United States of America         17   \n",
       "5795     United States of America         17   \n",
       "5797     United States of America         17   \n",
       "5800     United States of America         17   \n",
       "5808     United States of America         17   \n",
       "5809     United States of America         17   \n",
       "5844     United States of America         17   \n",
       "5963                       Canada         19   \n",
       "\n",
       "                                       actor_occupation  Year_of_birth  \\\n",
       "126                       ['stage actor', 'film actor']         1878.0   \n",
       "205                             ['actor', 'film actor']         1877.0   \n",
       "337   ['actor', 'stage actor', 'film actor', 'televi...         1896.0   \n",
       "611            ['actor', 'film actor', 'film director']         1882.0   \n",
       "5775  ['film director', 'film producer', 'actor', 's...         1880.0   \n",
       "5795  ['actor', 'stage actor', 'film actor', 'film d...         1881.0   \n",
       "5797  ['silent film actor', 'film actor', 'film dire...         1886.0   \n",
       "5800  ['actor', 'film director', 'stage actor', 'fil...         1876.0   \n",
       "5808           ['actor', 'film actor', 'film director']         1870.0   \n",
       "5809            ['actor', 'screenwriter', 'film actor']         1884.0   \n",
       "5844  ['actor', 'film director', 'film actor', 'stag...         1864.0   \n",
       "5963  ['film producer', 'film actor', 'film director...         1892.0   \n",
       "\n",
       "                                                 movies  number_of_movies  \\\n",
       "126   {73413: 1909, 6610400: 1909, 9588217: 1909, 18...                 4   \n",
       "205                                    {19268430: 1908}                 1   \n",
       "337                                       {73413: 1909}                 1   \n",
       "611                                     {9588217: 1909}                 1   \n",
       "5775  {9588217: 1909, 10993693: 1909, 13289708: 1909...                 5   \n",
       "5795  {6610400: 1909, 6735825: 1909, 9588217: 1909, ...                 5   \n",
       "5797  {6735825: 1909, 9588217: 1909, 10993693: 1909,...                 4   \n",
       "5800  {6735825: 1909, 9588217: 1909, 10993693: 1909,...                 4   \n",
       "5808                                   {19268430: 1908}                 1   \n",
       "5809  {73413: 1909, 6735825: 1909, 9588217: 1909, 10...                 4   \n",
       "5844     {6735825: 1909, 9588217: 1909, 18230568: 1909}                 3   \n",
       "5963                                    {9588217: 1909}                 1   \n",
       "\n",
       "      average_age_when_playing  \n",
       "126                      31.00  \n",
       "205                      31.00  \n",
       "337                      13.00  \n",
       "611                      27.00  \n",
       "5775                     28.60  \n",
       "5795                     28.00  \n",
       "5797                     23.00  \n",
       "5800                     32.75  \n",
       "5808                     38.00  \n",
       "5809                     25.00  \n",
       "5844                     45.00  \n",
       "5963                     17.00  "
      ]
     },
     "execution_count": 77,
     "metadata": {},
     "output_type": "execute_result"
    }
   ],
   "source": [
    "actors_per_year[1909]"
   ]
  },
  {
   "cell_type": "markdown",
   "metadata": {
    "tags": []
   },
   "source": [
    "## 3.7 Exporting the graph"
   ]
  },
  {
   "cell_type": "code",
   "execution_count": 78,
   "metadata": {},
   "outputs": [],
   "source": [
    "actors_properties = character_metadata.copy().drop_duplicates(subset=['Freebase_actor_ID'])"
   ]
  },
  {
   "cell_type": "code",
   "execution_count": 79,
   "metadata": {},
   "outputs": [],
   "source": [
    "for n in G.nodes:\n",
    "    G.nodes[n]['name'] = actors_properties[actors_properties.Freebase_actor_ID == n].Actor_name.item()\n",
    "    for i, c in enumerate(coms.communities):\n",
    "        if n in c:\n",
    "            G.nodes[n]['community'] = i;"
   ]
  },
  {
   "cell_type": "code",
   "execution_count": 80,
   "metadata": {},
   "outputs": [],
   "source": [
    "#save into json file for website visualization\n",
    "path_network = f'networks/graph_complete_communities.json'\n",
    "with open(path_network, 'w') as writer:\n",
    "    json.dump(nx.node_link_data(G), writer)"
   ]
  },
  {
   "cell_type": "code",
   "execution_count": 81,
   "metadata": {},
   "outputs": [],
   "source": [
    "# make a second graph lighter to visualize\n",
    "G_light = G.copy()\n",
    "\n",
    "for i, c in enumerate(coms.communities):\n",
    "    if len(c) < 20:\n",
    "            G_light.remove_nodes_from(c)"
   ]
  },
  {
   "cell_type": "code",
   "execution_count": 82,
   "metadata": {},
   "outputs": [],
   "source": [
    "#save into json file for website visualization\n",
    "path_network = f'networks/graph_light_complete_communities.json'\n",
    "with open(path_network, 'w') as writer:\n",
    "    json.dump(nx.node_link_data(G_light), writer)"
   ]
  },
  {
   "cell_type": "code",
   "execution_count": 83,
   "metadata": {},
   "outputs": [],
   "source": [
    "# make a second graph lighter to visualize\n",
    "\n",
    "G_20_com = G.copy()\n",
    "\n",
    "for c in coms.communities[20:]:\n",
    "    G_20_com.remove_nodes_from(c)"
   ]
  },
  {
   "cell_type": "code",
   "execution_count": 84,
   "metadata": {},
   "outputs": [],
   "source": [
    "#save into json file for website visualization\n",
    "path_network = f'networks/graph_20_com_complete_communities.json'\n",
    "with open(path_network, 'w') as writer:\n",
    "    json.dump(nx.node_link_data(G_20_com), writer)"
   ]
  }
 ],
 "metadata": {
  "kernelspec": {
   "display_name": "Python 3 (ipykernel)",
   "language": "python",
   "name": "python3"
  },
  "language_info": {
   "codemirror_mode": {
    "name": "ipython",
    "version": 3
   },
   "file_extension": ".py",
   "mimetype": "text/x-python",
   "name": "python",
   "nbconvert_exporter": "python",
   "pygments_lexer": "ipython3",
   "version": "3.9.12"
  },
  "vscode": {
   "interpreter": {
    "hash": "d37a1d50f378da0f68e11ee5fba6c6e83e272cf9b6bb98807c67244994dff8ee"
   }
  }
 },
 "nbformat": 4,
 "nbformat_minor": 4
}
