{
 "cells": [
  {
   "cell_type": "markdown",
   "metadata": {},
   "source": [
    "# Exploration  "
   ]
  },
  {
   "cell_type": "code",
   "execution_count": 43,
   "metadata": {},
   "outputs": [],
   "source": [
    "import numpy as np\n",
    "import pandas as pd\n",
    "import matplotlib.pyplot as plt\n",
    "from matplotlib.colors import LogNorm, Normalize\n",
    "import seaborn as sns\n",
    "import plotly.express as px\n",
    "import plotly.graph_objects as go\n",
    "from plotly.subplots import make_subplots\n",
    "from cdlib import viz\n",
    "import os\n",
    "import sys\n",
    "import warnings\n",
    "warnings.filterwarnings('ignore')\n",
    "import networkx as nx\n",
    "#from pyvis import network as net\n",
    "from cdlib import algorithms, viz\n",
    "from difflib import get_close_matches\n",
    "from collections import Counter\n",
    "from difflib import SequenceMatcher\n",
    "\n",
    "\n",
    "from statsmodels.stats import diagnostic\n",
    "from scipy import stats"
   ]
  },
  {
   "attachments": {},
   "cell_type": "markdown",
   "metadata": {},
   "source": [
    "## Loading CSV files for data story"
   ]
  },
  {
   "cell_type": "code",
   "execution_count": 44,
   "metadata": {},
   "outputs": [],
   "source": [
    "all_movies = pd.read_csv(\"./CSV_files/all_movies_metadata.csv\")\n",
    "movie_table = pd.read_csv(\"./CSV_files/movies_communities_table_scraping_done.csv\")\n",
    "data_movies = pd.read_csv(\"./CSV_files/movies_communities_metadata_scraping_done.csv\")\n",
    "data_actors = pd.read_csv(\"./CSV_files/top_20_communities_after_scraping.csv\")\n",
    "community_sizes = pd.read_csv('./CSV_files/community_sizes.csv')\n",
    "relationships = pd.read_csv('./CSV_files/inter-communities-caracteristics.csv')\n",
    "features = pd.read_csv('./CSV_files/communities_features.csv')\n",
    "features_movies = pd.read_csv('./CSV_files/communities_movies_top_features.csv')\n",
    "features_movies_full = pd.read_csv('./CSV_files/communities_movies_full_features.csv')\n",
    "gender_rolling = pd.read_csv('./CSV_files/gender_ratio_roll_avg.csv')\n",
    "age_rolling = pd.read_csv('./CSV_files/average_age_roll_avg.csv')"
   ]
  },
  {
   "cell_type": "code",
   "execution_count": 45,
   "metadata": {},
   "outputs": [
    {
     "data": {
      "text/html": [
       "<div>\n",
       "<style scoped>\n",
       "    .dataframe tbody tr th:only-of-type {\n",
       "        vertical-align: middle;\n",
       "    }\n",
       "\n",
       "    .dataframe tbody tr th {\n",
       "        vertical-align: top;\n",
       "    }\n",
       "\n",
       "    .dataframe thead th {\n",
       "        text-align: right;\n",
       "    }\n",
       "</style>\n",
       "<table border=\"1\" class=\"dataframe\">\n",
       "  <thead>\n",
       "    <tr style=\"text-align: right;\">\n",
       "      <th></th>\n",
       "      <th>Unnamed: 0</th>\n",
       "      <th>year</th>\n",
       "      <th>Community</th>\n",
       "      <th>actor_gender</th>\n",
       "      <th>ratio</th>\n",
       "      <th>rolling_average_ratio</th>\n",
       "    </tr>\n",
       "  </thead>\n",
       "  <tbody>\n",
       "    <tr>\n",
       "      <th>0</th>\n",
       "      <td>0</td>\n",
       "      <td>1908</td>\n",
       "      <td>1</td>\n",
       "      <td>M</td>\n",
       "      <td>0.680556</td>\n",
       "      <td>NaN</td>\n",
       "    </tr>\n",
       "    <tr>\n",
       "      <th>1</th>\n",
       "      <td>1</td>\n",
       "      <td>1908</td>\n",
       "      <td>1</td>\n",
       "      <td>F</td>\n",
       "      <td>0.319444</td>\n",
       "      <td>NaN</td>\n",
       "    </tr>\n",
       "    <tr>\n",
       "      <th>2</th>\n",
       "      <td>2</td>\n",
       "      <td>1908</td>\n",
       "      <td>2</td>\n",
       "      <td>M</td>\n",
       "      <td>0.679881</td>\n",
       "      <td>NaN</td>\n",
       "    </tr>\n",
       "    <tr>\n",
       "      <th>3</th>\n",
       "      <td>3</td>\n",
       "      <td>1908</td>\n",
       "      <td>2</td>\n",
       "      <td>F</td>\n",
       "      <td>0.320119</td>\n",
       "      <td>NaN</td>\n",
       "    </tr>\n",
       "    <tr>\n",
       "      <th>4</th>\n",
       "      <td>4</td>\n",
       "      <td>1908</td>\n",
       "      <td>3</td>\n",
       "      <td>M</td>\n",
       "      <td>0.591413</td>\n",
       "      <td>0.319444</td>\n",
       "    </tr>\n",
       "    <tr>\n",
       "      <th>...</th>\n",
       "      <td>...</td>\n",
       "      <td>...</td>\n",
       "      <td>...</td>\n",
       "      <td>...</td>\n",
       "      <td>...</td>\n",
       "      <td>...</td>\n",
       "    </tr>\n",
       "    <tr>\n",
       "      <th>4355</th>\n",
       "      <td>4355</td>\n",
       "      <td>2016</td>\n",
       "      <td>18</td>\n",
       "      <td>F</td>\n",
       "      <td>0.480000</td>\n",
       "      <td>0.578947</td>\n",
       "    </tr>\n",
       "    <tr>\n",
       "      <th>4356</th>\n",
       "      <td>4356</td>\n",
       "      <td>2016</td>\n",
       "      <td>19</td>\n",
       "      <td>M</td>\n",
       "      <td>0.575758</td>\n",
       "      <td>0.578947</td>\n",
       "    </tr>\n",
       "    <tr>\n",
       "      <th>4357</th>\n",
       "      <td>4357</td>\n",
       "      <td>2016</td>\n",
       "      <td>19</td>\n",
       "      <td>F</td>\n",
       "      <td>0.424242</td>\n",
       "      <td>0.578947</td>\n",
       "    </tr>\n",
       "    <tr>\n",
       "      <th>4358</th>\n",
       "      <td>4358</td>\n",
       "      <td>2016</td>\n",
       "      <td>20</td>\n",
       "      <td>M</td>\n",
       "      <td>0.578947</td>\n",
       "      <td>0.578947</td>\n",
       "    </tr>\n",
       "    <tr>\n",
       "      <th>4359</th>\n",
       "      <td>4359</td>\n",
       "      <td>2016</td>\n",
       "      <td>20</td>\n",
       "      <td>F</td>\n",
       "      <td>0.421053</td>\n",
       "      <td>0.578947</td>\n",
       "    </tr>\n",
       "  </tbody>\n",
       "</table>\n",
       "<p>4360 rows × 6 columns</p>\n",
       "</div>"
      ],
      "text/plain": [
       "      Unnamed: 0  year  Community actor_gender     ratio  \\\n",
       "0              0  1908          1            M  0.680556   \n",
       "1              1  1908          1            F  0.319444   \n",
       "2              2  1908          2            M  0.679881   \n",
       "3              3  1908          2            F  0.320119   \n",
       "4              4  1908          3            M  0.591413   \n",
       "...          ...   ...        ...          ...       ...   \n",
       "4355        4355  2016         18            F  0.480000   \n",
       "4356        4356  2016         19            M  0.575758   \n",
       "4357        4357  2016         19            F  0.424242   \n",
       "4358        4358  2016         20            M  0.578947   \n",
       "4359        4359  2016         20            F  0.421053   \n",
       "\n",
       "      rolling_average_ratio  \n",
       "0                       NaN  \n",
       "1                       NaN  \n",
       "2                       NaN  \n",
       "3                       NaN  \n",
       "4                  0.319444  \n",
       "...                     ...  \n",
       "4355               0.578947  \n",
       "4356               0.578947  \n",
       "4357               0.578947  \n",
       "4358               0.578947  \n",
       "4359               0.578947  \n",
       "\n",
       "[4360 rows x 6 columns]"
      ]
     },
     "execution_count": 45,
     "metadata": {},
     "output_type": "execute_result"
    }
   ],
   "source": [
    "gender_rolling"
   ]
  },
  {
   "attachments": {},
   "cell_type": "markdown",
   "metadata": {},
   "source": [
    "### Formatting the CSV file"
   ]
  },
  {
   "cell_type": "code",
   "execution_count": 46,
   "metadata": {},
   "outputs": [],
   "source": [
    "data_movies.drop(['Unnamed: 0'],axis=1,inplace=True)\n",
    "relationships.drop('Unnamed: 0',axis = 1,inplace = True)"
   ]
  },
  {
   "cell_type": "code",
   "execution_count": 47,
   "metadata": {},
   "outputs": [],
   "source": [
    "# function that converts the string to a dictionary\n",
    "def convert_to_dict(string):\n",
    "    if isinstance(string, str):\n",
    "        if string == '{}':\n",
    "            return {}\n",
    "        else:\n",
    "            string = string.replace('{', '').replace('}', '').replace('\"', '').replace(\"'\",'')\n",
    "            string = string.split(',')\n",
    "            string = [x.split(':') for x in string]\n",
    "            dictionnary = {x[0].strip(): x[1].strip() for x in string}\n",
    "            return dictionnary\n",
    "\n",
    "# function that converts the string to a list\n",
    "def clean_dict(elt):\n",
    "    if ':' in elt:\n",
    "        elt = elt[elt.index(':') + 1 : ]\n",
    "    elt = elt.strip()\n",
    "    return elt\n",
    "\n",
    "def convert_to_list(cell):\n",
    "    if isinstance(cell, str):\n",
    "        if cell == '{}':\n",
    "            return []\n",
    "        if cell == '[]':\n",
    "            return []\n",
    "        else:\n",
    "            cell = cell.replace('[', '').replace(']', '').replace('\"', '').replace(\"'\",'')\n",
    "            cell = cell.replace('{', '').replace('}', '')\n",
    "            cell = cell.split(',')\n",
    "            cell = [clean_dict(x) for x in cell]\n",
    "            return cell\n"
   ]
  },
  {
   "cell_type": "code",
   "execution_count": 48,
   "metadata": {},
   "outputs": [],
   "source": [
    "# apply the function to the genres column\n",
    "data_movies['Movie_genres'] = data_movies['Movie_genres'].apply(convert_to_list)\n",
    "# apply the same function as Movies_genre to the countries column\n",
    "data_movies['Movie_countries'] = data_movies['Movie_countries'].apply(convert_to_list)\n",
    "\n",
    "# apply the function to the language column\n",
    "data_movies['Movie_languages'] = data_movies['Movie_languages'].apply(convert_to_list)\n",
    "\n",
    "\n",
    "# apply the function to the genres column\n",
    "all_movies['Movie_genres'] = all_movies['Movie_genres'].apply(convert_to_list)\n",
    "# apply the same function as Movies_genre to the countries column\n",
    "all_movies['Movie_countries'] = all_movies['Movie_countries'].apply(convert_to_list)\n",
    "\n",
    "# apply the function to the language column\n",
    "all_movies['Movie_languages'] = all_movies['Movie_languages'].apply(convert_to_list)"
   ]
  },
  {
   "cell_type": "code",
   "execution_count": 49,
   "metadata": {},
   "outputs": [],
   "source": [
    "for i in range(1,21):\n",
    "    vars()['datamov' + str(i)]= data_movies[~(data_movies[str(i)] == 0)]"
   ]
  },
  {
   "attachments": {},
   "cell_type": "markdown",
   "metadata": {},
   "source": [
    "### Dataset of actors merging with actor_metadata (to be removed once properly done)"
   ]
  },
  {
   "cell_type": "code",
   "execution_count": 52,
   "metadata": {},
   "outputs": [],
   "source": [
    "data_actors = pd.read_csv(\"./CSV_files/top_20_communities_after_scraping.csv\")"
   ]
  },
  {
   "cell_type": "code",
   "execution_count": 53,
   "metadata": {},
   "outputs": [],
   "source": [
    "character_metadata = pd.read_csv(\n",
    "    'MovieSummaries/character.metadata.tsv', sep='\\t', header=None)\n",
    "character_metadata.columns = ['Wikipedia_movie_ID', 'Freebase_movie_ID', 'Movie_release_date', 'Character_name', 'Actor_date_of_birth', 'actor_gender',\n",
    "                              'Actor_height_(in_meters)', 'Actor_ethnicity', 'Actor_name', 'Actor_age_at_movie_release', 'Freebase_character/actor_map_ID', 'Freebase_character_ID', 'Freebase_actor_ID']\n"
   ]
  },
  {
   "cell_type": "code",
   "execution_count": 54,
   "metadata": {},
   "outputs": [],
   "source": [
    "character_metadata.drop_duplicates(subset=['Freebase_actor_ID'],inplace=True)\n",
    "data_actors = data_actors.merge(character_metadata,left_on='Freebase_actor_ID',right_on='Freebase_actor_ID')\n",
    "data_actors.drop(['Actor_ethnicity','Freebase_character/actor_map_ID','Freebase_character_ID','Actor_height_(in_meters)',\n",
    "                    'Character_name','Actor_age_at_movie_release','Wikipedia_movie_ID','Freebase_movie_ID','Movie_release_date'],axis = 1 ,inplace = True)"
   ]
  },
  {
   "attachments": {},
   "cell_type": "markdown",
   "metadata": {},
   "source": [
    "## Distribution of community sizes"
   ]
  },
  {
   "cell_type": "code",
   "execution_count": 55,
   "metadata": {},
   "outputs": [],
   "source": [
    "nb_actors_20 = []\n",
    "for com in range(1,21):\n",
    "    nb_actors_20.append(len(data_actors[(data_actors['Community'] == com)]))"
   ]
  },
  {
   "cell_type": "code",
   "execution_count": 56,
   "metadata": {},
   "outputs": [],
   "source": [
    "for i in range(20):\n",
    "    community_sizes['size'][i]= nb_actors_20[i]"
   ]
  },
  {
   "cell_type": "code",
   "execution_count": 58,
   "metadata": {},
   "outputs": [
    {
     "data": {
      "application/vnd.plotly.v1+json": {
       "config": {
        "plotlyServerURL": "https://plot.ly"
       },
       "data": [
        {
         "hovertemplate": "community=%{x}<br>size=%{y}<extra></extra>",
         "legendgroup": "",
         "marker": {
          "color": "darkblue",
          "symbol": "circle"
         },
         "mode": "markers",
         "name": "",
         "orientation": "v",
         "showlegend": false,
         "type": "scatter",
         "x": [
          1,
          2,
          3,
          4,
          5,
          6,
          7,
          8,
          9,
          10,
          11,
          12,
          13,
          14,
          15,
          16,
          17,
          18,
          19,
          20
         ],
         "xaxis": "x",
         "y": [
          1080,
          1009,
          722,
          563,
          442,
          274,
          272,
          270,
          199,
          173,
          166,
          162,
          132,
          125,
          106,
          102,
          82,
          75,
          66,
          57
         ],
         "yaxis": "y"
        }
       ],
       "layout": {
        "legend": {
         "tracegroupgap": 0
        },
        "template": {
         "data": {
          "bar": [
           {
            "error_x": {
             "color": "#2a3f5f"
            },
            "error_y": {
             "color": "#2a3f5f"
            },
            "marker": {
             "line": {
              "color": "white",
              "width": 0.5
             },
             "pattern": {
              "fillmode": "overlay",
              "size": 10,
              "solidity": 0.2
             }
            },
            "type": "bar"
           }
          ],
          "barpolar": [
           {
            "marker": {
             "line": {
              "color": "white",
              "width": 0.5
             },
             "pattern": {
              "fillmode": "overlay",
              "size": 10,
              "solidity": 0.2
             }
            },
            "type": "barpolar"
           }
          ],
          "carpet": [
           {
            "aaxis": {
             "endlinecolor": "#2a3f5f",
             "gridcolor": "#C8D4E3",
             "linecolor": "#C8D4E3",
             "minorgridcolor": "#C8D4E3",
             "startlinecolor": "#2a3f5f"
            },
            "baxis": {
             "endlinecolor": "#2a3f5f",
             "gridcolor": "#C8D4E3",
             "linecolor": "#C8D4E3",
             "minorgridcolor": "#C8D4E3",
             "startlinecolor": "#2a3f5f"
            },
            "type": "carpet"
           }
          ],
          "choropleth": [
           {
            "colorbar": {
             "outlinewidth": 0,
             "ticks": ""
            },
            "type": "choropleth"
           }
          ],
          "contour": [
           {
            "colorbar": {
             "outlinewidth": 0,
             "ticks": ""
            },
            "colorscale": [
             [
              0,
              "#0d0887"
             ],
             [
              0.1111111111111111,
              "#46039f"
             ],
             [
              0.2222222222222222,
              "#7201a8"
             ],
             [
              0.3333333333333333,
              "#9c179e"
             ],
             [
              0.4444444444444444,
              "#bd3786"
             ],
             [
              0.5555555555555556,
              "#d8576b"
             ],
             [
              0.6666666666666666,
              "#ed7953"
             ],
             [
              0.7777777777777778,
              "#fb9f3a"
             ],
             [
              0.8888888888888888,
              "#fdca26"
             ],
             [
              1,
              "#f0f921"
             ]
            ],
            "type": "contour"
           }
          ],
          "contourcarpet": [
           {
            "colorbar": {
             "outlinewidth": 0,
             "ticks": ""
            },
            "type": "contourcarpet"
           }
          ],
          "heatmap": [
           {
            "colorbar": {
             "outlinewidth": 0,
             "ticks": ""
            },
            "colorscale": [
             [
              0,
              "#0d0887"
             ],
             [
              0.1111111111111111,
              "#46039f"
             ],
             [
              0.2222222222222222,
              "#7201a8"
             ],
             [
              0.3333333333333333,
              "#9c179e"
             ],
             [
              0.4444444444444444,
              "#bd3786"
             ],
             [
              0.5555555555555556,
              "#d8576b"
             ],
             [
              0.6666666666666666,
              "#ed7953"
             ],
             [
              0.7777777777777778,
              "#fb9f3a"
             ],
             [
              0.8888888888888888,
              "#fdca26"
             ],
             [
              1,
              "#f0f921"
             ]
            ],
            "type": "heatmap"
           }
          ],
          "heatmapgl": [
           {
            "colorbar": {
             "outlinewidth": 0,
             "ticks": ""
            },
            "colorscale": [
             [
              0,
              "#0d0887"
             ],
             [
              0.1111111111111111,
              "#46039f"
             ],
             [
              0.2222222222222222,
              "#7201a8"
             ],
             [
              0.3333333333333333,
              "#9c179e"
             ],
             [
              0.4444444444444444,
              "#bd3786"
             ],
             [
              0.5555555555555556,
              "#d8576b"
             ],
             [
              0.6666666666666666,
              "#ed7953"
             ],
             [
              0.7777777777777778,
              "#fb9f3a"
             ],
             [
              0.8888888888888888,
              "#fdca26"
             ],
             [
              1,
              "#f0f921"
             ]
            ],
            "type": "heatmapgl"
           }
          ],
          "histogram": [
           {
            "marker": {
             "pattern": {
              "fillmode": "overlay",
              "size": 10,
              "solidity": 0.2
             }
            },
            "type": "histogram"
           }
          ],
          "histogram2d": [
           {
            "colorbar": {
             "outlinewidth": 0,
             "ticks": ""
            },
            "colorscale": [
             [
              0,
              "#0d0887"
             ],
             [
              0.1111111111111111,
              "#46039f"
             ],
             [
              0.2222222222222222,
              "#7201a8"
             ],
             [
              0.3333333333333333,
              "#9c179e"
             ],
             [
              0.4444444444444444,
              "#bd3786"
             ],
             [
              0.5555555555555556,
              "#d8576b"
             ],
             [
              0.6666666666666666,
              "#ed7953"
             ],
             [
              0.7777777777777778,
              "#fb9f3a"
             ],
             [
              0.8888888888888888,
              "#fdca26"
             ],
             [
              1,
              "#f0f921"
             ]
            ],
            "type": "histogram2d"
           }
          ],
          "histogram2dcontour": [
           {
            "colorbar": {
             "outlinewidth": 0,
             "ticks": ""
            },
            "colorscale": [
             [
              0,
              "#0d0887"
             ],
             [
              0.1111111111111111,
              "#46039f"
             ],
             [
              0.2222222222222222,
              "#7201a8"
             ],
             [
              0.3333333333333333,
              "#9c179e"
             ],
             [
              0.4444444444444444,
              "#bd3786"
             ],
             [
              0.5555555555555556,
              "#d8576b"
             ],
             [
              0.6666666666666666,
              "#ed7953"
             ],
             [
              0.7777777777777778,
              "#fb9f3a"
             ],
             [
              0.8888888888888888,
              "#fdca26"
             ],
             [
              1,
              "#f0f921"
             ]
            ],
            "type": "histogram2dcontour"
           }
          ],
          "mesh3d": [
           {
            "colorbar": {
             "outlinewidth": 0,
             "ticks": ""
            },
            "type": "mesh3d"
           }
          ],
          "parcoords": [
           {
            "line": {
             "colorbar": {
              "outlinewidth": 0,
              "ticks": ""
             }
            },
            "type": "parcoords"
           }
          ],
          "pie": [
           {
            "automargin": true,
            "type": "pie"
           }
          ],
          "scatter": [
           {
            "fillpattern": {
             "fillmode": "overlay",
             "size": 10,
             "solidity": 0.2
            },
            "type": "scatter"
           }
          ],
          "scatter3d": [
           {
            "line": {
             "colorbar": {
              "outlinewidth": 0,
              "ticks": ""
             }
            },
            "marker": {
             "colorbar": {
              "outlinewidth": 0,
              "ticks": ""
             }
            },
            "type": "scatter3d"
           }
          ],
          "scattercarpet": [
           {
            "marker": {
             "colorbar": {
              "outlinewidth": 0,
              "ticks": ""
             }
            },
            "type": "scattercarpet"
           }
          ],
          "scattergeo": [
           {
            "marker": {
             "colorbar": {
              "outlinewidth": 0,
              "ticks": ""
             }
            },
            "type": "scattergeo"
           }
          ],
          "scattergl": [
           {
            "marker": {
             "colorbar": {
              "outlinewidth": 0,
              "ticks": ""
             }
            },
            "type": "scattergl"
           }
          ],
          "scattermapbox": [
           {
            "marker": {
             "colorbar": {
              "outlinewidth": 0,
              "ticks": ""
             }
            },
            "type": "scattermapbox"
           }
          ],
          "scatterpolar": [
           {
            "marker": {
             "colorbar": {
              "outlinewidth": 0,
              "ticks": ""
             }
            },
            "type": "scatterpolar"
           }
          ],
          "scatterpolargl": [
           {
            "marker": {
             "colorbar": {
              "outlinewidth": 0,
              "ticks": ""
             }
            },
            "type": "scatterpolargl"
           }
          ],
          "scatterternary": [
           {
            "marker": {
             "colorbar": {
              "outlinewidth": 0,
              "ticks": ""
             }
            },
            "type": "scatterternary"
           }
          ],
          "surface": [
           {
            "colorbar": {
             "outlinewidth": 0,
             "ticks": ""
            },
            "colorscale": [
             [
              0,
              "#0d0887"
             ],
             [
              0.1111111111111111,
              "#46039f"
             ],
             [
              0.2222222222222222,
              "#7201a8"
             ],
             [
              0.3333333333333333,
              "#9c179e"
             ],
             [
              0.4444444444444444,
              "#bd3786"
             ],
             [
              0.5555555555555556,
              "#d8576b"
             ],
             [
              0.6666666666666666,
              "#ed7953"
             ],
             [
              0.7777777777777778,
              "#fb9f3a"
             ],
             [
              0.8888888888888888,
              "#fdca26"
             ],
             [
              1,
              "#f0f921"
             ]
            ],
            "type": "surface"
           }
          ],
          "table": [
           {
            "cells": {
             "fill": {
              "color": "#EBF0F8"
             },
             "line": {
              "color": "white"
             }
            },
            "header": {
             "fill": {
              "color": "#C8D4E3"
             },
             "line": {
              "color": "white"
             }
            },
            "type": "table"
           }
          ]
         },
         "layout": {
          "annotationdefaults": {
           "arrowcolor": "#2a3f5f",
           "arrowhead": 0,
           "arrowwidth": 1
          },
          "autotypenumbers": "strict",
          "coloraxis": {
           "colorbar": {
            "outlinewidth": 0,
            "ticks": ""
           }
          },
          "colorscale": {
           "diverging": [
            [
             0,
             "#8e0152"
            ],
            [
             0.1,
             "#c51b7d"
            ],
            [
             0.2,
             "#de77ae"
            ],
            [
             0.3,
             "#f1b6da"
            ],
            [
             0.4,
             "#fde0ef"
            ],
            [
             0.5,
             "#f7f7f7"
            ],
            [
             0.6,
             "#e6f5d0"
            ],
            [
             0.7,
             "#b8e186"
            ],
            [
             0.8,
             "#7fbc41"
            ],
            [
             0.9,
             "#4d9221"
            ],
            [
             1,
             "#276419"
            ]
           ],
           "sequential": [
            [
             0,
             "#0d0887"
            ],
            [
             0.1111111111111111,
             "#46039f"
            ],
            [
             0.2222222222222222,
             "#7201a8"
            ],
            [
             0.3333333333333333,
             "#9c179e"
            ],
            [
             0.4444444444444444,
             "#bd3786"
            ],
            [
             0.5555555555555556,
             "#d8576b"
            ],
            [
             0.6666666666666666,
             "#ed7953"
            ],
            [
             0.7777777777777778,
             "#fb9f3a"
            ],
            [
             0.8888888888888888,
             "#fdca26"
            ],
            [
             1,
             "#f0f921"
            ]
           ],
           "sequentialminus": [
            [
             0,
             "#0d0887"
            ],
            [
             0.1111111111111111,
             "#46039f"
            ],
            [
             0.2222222222222222,
             "#7201a8"
            ],
            [
             0.3333333333333333,
             "#9c179e"
            ],
            [
             0.4444444444444444,
             "#bd3786"
            ],
            [
             0.5555555555555556,
             "#d8576b"
            ],
            [
             0.6666666666666666,
             "#ed7953"
            ],
            [
             0.7777777777777778,
             "#fb9f3a"
            ],
            [
             0.8888888888888888,
             "#fdca26"
            ],
            [
             1,
             "#f0f921"
            ]
           ]
          },
          "colorway": [
           "#636efa",
           "#EF553B",
           "#00cc96",
           "#ab63fa",
           "#FFA15A",
           "#19d3f3",
           "#FF6692",
           "#B6E880",
           "#FF97FF",
           "#FECB52"
          ],
          "font": {
           "color": "#2a3f5f"
          },
          "geo": {
           "bgcolor": "white",
           "lakecolor": "white",
           "landcolor": "white",
           "showlakes": true,
           "showland": true,
           "subunitcolor": "#C8D4E3"
          },
          "hoverlabel": {
           "align": "left"
          },
          "hovermode": "closest",
          "mapbox": {
           "style": "light"
          },
          "paper_bgcolor": "white",
          "plot_bgcolor": "white",
          "polar": {
           "angularaxis": {
            "gridcolor": "#EBF0F8",
            "linecolor": "#EBF0F8",
            "ticks": ""
           },
           "bgcolor": "white",
           "radialaxis": {
            "gridcolor": "#EBF0F8",
            "linecolor": "#EBF0F8",
            "ticks": ""
           }
          },
          "scene": {
           "xaxis": {
            "backgroundcolor": "white",
            "gridcolor": "#DFE8F3",
            "gridwidth": 2,
            "linecolor": "#EBF0F8",
            "showbackground": true,
            "ticks": "",
            "zerolinecolor": "#EBF0F8"
           },
           "yaxis": {
            "backgroundcolor": "white",
            "gridcolor": "#DFE8F3",
            "gridwidth": 2,
            "linecolor": "#EBF0F8",
            "showbackground": true,
            "ticks": "",
            "zerolinecolor": "#EBF0F8"
           },
           "zaxis": {
            "backgroundcolor": "white",
            "gridcolor": "#DFE8F3",
            "gridwidth": 2,
            "linecolor": "#EBF0F8",
            "showbackground": true,
            "ticks": "",
            "zerolinecolor": "#EBF0F8"
           }
          },
          "shapedefaults": {
           "line": {
            "color": "#2a3f5f"
           }
          },
          "ternary": {
           "aaxis": {
            "gridcolor": "#DFE8F3",
            "linecolor": "#A2B1C6",
            "ticks": ""
           },
           "baxis": {
            "gridcolor": "#DFE8F3",
            "linecolor": "#A2B1C6",
            "ticks": ""
           },
           "bgcolor": "white",
           "caxis": {
            "gridcolor": "#DFE8F3",
            "linecolor": "#A2B1C6",
            "ticks": ""
           }
          },
          "title": {
           "x": 0.05
          },
          "xaxis": {
           "automargin": true,
           "gridcolor": "#EBF0F8",
           "linecolor": "#EBF0F8",
           "ticks": "",
           "title": {
            "standoff": 15
           },
           "zerolinecolor": "#EBF0F8",
           "zerolinewidth": 2
          },
          "yaxis": {
           "automargin": true,
           "gridcolor": "#EBF0F8",
           "linecolor": "#EBF0F8",
           "ticks": "",
           "title": {
            "standoff": 15
           },
           "zerolinecolor": "#EBF0F8",
           "zerolinewidth": 2
          }
         }
        },
        "title": {
         "text": "Number of actors by community"
        },
        "xaxis": {
         "anchor": "y",
         "domain": [
          0,
          1
         ],
         "title": {
          "text": "community"
         },
         "type": "log"
        },
        "yaxis": {
         "anchor": "x",
         "domain": [
          0,
          1
         ],
         "title": {
          "text": "size"
         },
         "type": "log"
        }
       }
      }
     },
     "metadata": {},
     "output_type": "display_data"
    }
   ],
   "source": [
    "#df = px.data.com_sizes() # iris is a pandas DataFrame\n",
    "fig = px.scatter(community_sizes, x='community',y='size',\n",
    "                    title='Number of actors by community',log_x=True,log_y=True,labels=('Community label','Number of actors'),\n",
    "                    template= 'plotly_white',color_discrete_sequence=['darkblue'])\n",
    "fig.show()\n",
    "#fig.write_html('C:/Users/Public/ADA2022/weloic.github.io/_includes/community_sizes_scatter.html')"
   ]
  },
  {
   "attachments": {},
   "cell_type": "markdown",
   "metadata": {},
   "source": [
    "## Number of movies by communities"
   ]
  },
  {
   "cell_type": "code",
   "execution_count": 367,
   "metadata": {},
   "outputs": [],
   "source": [
    "nb_movie = []\n",
    "for com in range(1,21):\n",
    "    nb_movie.append(len(data_movies[~(data_movies[str(com)] == 0)]))"
   ]
  },
  {
   "cell_type": "code",
   "execution_count": 59,
   "metadata": {},
   "outputs": [
    {
     "data": {
      "application/vnd.plotly.v1+json": {
       "config": {
        "plotlyServerURL": "https://plot.ly"
       },
       "data": [
        {
         "line": {
          "dash": "dot",
          "width": 1
         },
         "marker": {
          "color": "gold",
          "size": 6,
          "symbol": "x"
         },
         "mode": "lines+markers",
         "type": "scatter",
         "x": [
          1,
          2,
          3,
          4,
          5,
          6,
          7,
          8,
          9,
          10,
          11,
          12,
          13,
          14,
          15,
          16,
          17,
          18,
          19,
          20
         ],
         "xaxis": "x",
         "y": [
          7.473148148148148,
          7.480673934588702,
          5.524930747922438,
          9.259325044404973,
          7.579185520361991,
          3.6751824817518246,
          8.341911764705882,
          10.38888888888889,
          9.844221105527637,
          9.861271676300579,
          1.5602409638554218,
          6.444444444444445,
          6.234848484848484,
          2.536,
          11.575471698113208,
          5.666666666666667,
          6.2926829268292686,
          5.493333333333333,
          3.393939393939394,
          4.140350877192983
         ],
         "yaxis": "y2"
        },
        {
         "line": {
          "dash": "dot",
          "width": 2
         },
         "marker": {
          "color": "blue",
          "size": 10
         },
         "mode": "lines+markers",
         "type": "scatter",
         "x": [
          1,
          2,
          3,
          4,
          5,
          6,
          7,
          8,
          9,
          10,
          11,
          12,
          13,
          14,
          15,
          16,
          17,
          18,
          19,
          20
         ],
         "y": [
          8071,
          7548,
          3989,
          5213,
          3350,
          1007,
          2269,
          2805,
          1959,
          1706,
          259,
          1044,
          823,
          317,
          1227,
          578,
          516,
          412,
          224,
          236
         ]
        }
       ],
       "layout": {
        "showlegend": false,
        "template": {
         "data": {
          "bar": [
           {
            "error_x": {
             "color": "#2a3f5f"
            },
            "error_y": {
             "color": "#2a3f5f"
            },
            "marker": {
             "line": {
              "color": "white",
              "width": 0.5
             },
             "pattern": {
              "fillmode": "overlay",
              "size": 10,
              "solidity": 0.2
             }
            },
            "type": "bar"
           }
          ],
          "barpolar": [
           {
            "marker": {
             "line": {
              "color": "white",
              "width": 0.5
             },
             "pattern": {
              "fillmode": "overlay",
              "size": 10,
              "solidity": 0.2
             }
            },
            "type": "barpolar"
           }
          ],
          "carpet": [
           {
            "aaxis": {
             "endlinecolor": "#2a3f5f",
             "gridcolor": "#C8D4E3",
             "linecolor": "#C8D4E3",
             "minorgridcolor": "#C8D4E3",
             "startlinecolor": "#2a3f5f"
            },
            "baxis": {
             "endlinecolor": "#2a3f5f",
             "gridcolor": "#C8D4E3",
             "linecolor": "#C8D4E3",
             "minorgridcolor": "#C8D4E3",
             "startlinecolor": "#2a3f5f"
            },
            "type": "carpet"
           }
          ],
          "choropleth": [
           {
            "colorbar": {
             "outlinewidth": 0,
             "ticks": ""
            },
            "type": "choropleth"
           }
          ],
          "contour": [
           {
            "colorbar": {
             "outlinewidth": 0,
             "ticks": ""
            },
            "colorscale": [
             [
              0,
              "#0d0887"
             ],
             [
              0.1111111111111111,
              "#46039f"
             ],
             [
              0.2222222222222222,
              "#7201a8"
             ],
             [
              0.3333333333333333,
              "#9c179e"
             ],
             [
              0.4444444444444444,
              "#bd3786"
             ],
             [
              0.5555555555555556,
              "#d8576b"
             ],
             [
              0.6666666666666666,
              "#ed7953"
             ],
             [
              0.7777777777777778,
              "#fb9f3a"
             ],
             [
              0.8888888888888888,
              "#fdca26"
             ],
             [
              1,
              "#f0f921"
             ]
            ],
            "type": "contour"
           }
          ],
          "contourcarpet": [
           {
            "colorbar": {
             "outlinewidth": 0,
             "ticks": ""
            },
            "type": "contourcarpet"
           }
          ],
          "heatmap": [
           {
            "colorbar": {
             "outlinewidth": 0,
             "ticks": ""
            },
            "colorscale": [
             [
              0,
              "#0d0887"
             ],
             [
              0.1111111111111111,
              "#46039f"
             ],
             [
              0.2222222222222222,
              "#7201a8"
             ],
             [
              0.3333333333333333,
              "#9c179e"
             ],
             [
              0.4444444444444444,
              "#bd3786"
             ],
             [
              0.5555555555555556,
              "#d8576b"
             ],
             [
              0.6666666666666666,
              "#ed7953"
             ],
             [
              0.7777777777777778,
              "#fb9f3a"
             ],
             [
              0.8888888888888888,
              "#fdca26"
             ],
             [
              1,
              "#f0f921"
             ]
            ],
            "type": "heatmap"
           }
          ],
          "heatmapgl": [
           {
            "colorbar": {
             "outlinewidth": 0,
             "ticks": ""
            },
            "colorscale": [
             [
              0,
              "#0d0887"
             ],
             [
              0.1111111111111111,
              "#46039f"
             ],
             [
              0.2222222222222222,
              "#7201a8"
             ],
             [
              0.3333333333333333,
              "#9c179e"
             ],
             [
              0.4444444444444444,
              "#bd3786"
             ],
             [
              0.5555555555555556,
              "#d8576b"
             ],
             [
              0.6666666666666666,
              "#ed7953"
             ],
             [
              0.7777777777777778,
              "#fb9f3a"
             ],
             [
              0.8888888888888888,
              "#fdca26"
             ],
             [
              1,
              "#f0f921"
             ]
            ],
            "type": "heatmapgl"
           }
          ],
          "histogram": [
           {
            "marker": {
             "pattern": {
              "fillmode": "overlay",
              "size": 10,
              "solidity": 0.2
             }
            },
            "type": "histogram"
           }
          ],
          "histogram2d": [
           {
            "colorbar": {
             "outlinewidth": 0,
             "ticks": ""
            },
            "colorscale": [
             [
              0,
              "#0d0887"
             ],
             [
              0.1111111111111111,
              "#46039f"
             ],
             [
              0.2222222222222222,
              "#7201a8"
             ],
             [
              0.3333333333333333,
              "#9c179e"
             ],
             [
              0.4444444444444444,
              "#bd3786"
             ],
             [
              0.5555555555555556,
              "#d8576b"
             ],
             [
              0.6666666666666666,
              "#ed7953"
             ],
             [
              0.7777777777777778,
              "#fb9f3a"
             ],
             [
              0.8888888888888888,
              "#fdca26"
             ],
             [
              1,
              "#f0f921"
             ]
            ],
            "type": "histogram2d"
           }
          ],
          "histogram2dcontour": [
           {
            "colorbar": {
             "outlinewidth": 0,
             "ticks": ""
            },
            "colorscale": [
             [
              0,
              "#0d0887"
             ],
             [
              0.1111111111111111,
              "#46039f"
             ],
             [
              0.2222222222222222,
              "#7201a8"
             ],
             [
              0.3333333333333333,
              "#9c179e"
             ],
             [
              0.4444444444444444,
              "#bd3786"
             ],
             [
              0.5555555555555556,
              "#d8576b"
             ],
             [
              0.6666666666666666,
              "#ed7953"
             ],
             [
              0.7777777777777778,
              "#fb9f3a"
             ],
             [
              0.8888888888888888,
              "#fdca26"
             ],
             [
              1,
              "#f0f921"
             ]
            ],
            "type": "histogram2dcontour"
           }
          ],
          "mesh3d": [
           {
            "colorbar": {
             "outlinewidth": 0,
             "ticks": ""
            },
            "type": "mesh3d"
           }
          ],
          "parcoords": [
           {
            "line": {
             "colorbar": {
              "outlinewidth": 0,
              "ticks": ""
             }
            },
            "type": "parcoords"
           }
          ],
          "pie": [
           {
            "automargin": true,
            "type": "pie"
           }
          ],
          "scatter": [
           {
            "fillpattern": {
             "fillmode": "overlay",
             "size": 10,
             "solidity": 0.2
            },
            "type": "scatter"
           }
          ],
          "scatter3d": [
           {
            "line": {
             "colorbar": {
              "outlinewidth": 0,
              "ticks": ""
             }
            },
            "marker": {
             "colorbar": {
              "outlinewidth": 0,
              "ticks": ""
             }
            },
            "type": "scatter3d"
           }
          ],
          "scattercarpet": [
           {
            "marker": {
             "colorbar": {
              "outlinewidth": 0,
              "ticks": ""
             }
            },
            "type": "scattercarpet"
           }
          ],
          "scattergeo": [
           {
            "marker": {
             "colorbar": {
              "outlinewidth": 0,
              "ticks": ""
             }
            },
            "type": "scattergeo"
           }
          ],
          "scattergl": [
           {
            "marker": {
             "colorbar": {
              "outlinewidth": 0,
              "ticks": ""
             }
            },
            "type": "scattergl"
           }
          ],
          "scattermapbox": [
           {
            "marker": {
             "colorbar": {
              "outlinewidth": 0,
              "ticks": ""
             }
            },
            "type": "scattermapbox"
           }
          ],
          "scatterpolar": [
           {
            "marker": {
             "colorbar": {
              "outlinewidth": 0,
              "ticks": ""
             }
            },
            "type": "scatterpolar"
           }
          ],
          "scatterpolargl": [
           {
            "marker": {
             "colorbar": {
              "outlinewidth": 0,
              "ticks": ""
             }
            },
            "type": "scatterpolargl"
           }
          ],
          "scatterternary": [
           {
            "marker": {
             "colorbar": {
              "outlinewidth": 0,
              "ticks": ""
             }
            },
            "type": "scatterternary"
           }
          ],
          "surface": [
           {
            "colorbar": {
             "outlinewidth": 0,
             "ticks": ""
            },
            "colorscale": [
             [
              0,
              "#0d0887"
             ],
             [
              0.1111111111111111,
              "#46039f"
             ],
             [
              0.2222222222222222,
              "#7201a8"
             ],
             [
              0.3333333333333333,
              "#9c179e"
             ],
             [
              0.4444444444444444,
              "#bd3786"
             ],
             [
              0.5555555555555556,
              "#d8576b"
             ],
             [
              0.6666666666666666,
              "#ed7953"
             ],
             [
              0.7777777777777778,
              "#fb9f3a"
             ],
             [
              0.8888888888888888,
              "#fdca26"
             ],
             [
              1,
              "#f0f921"
             ]
            ],
            "type": "surface"
           }
          ],
          "table": [
           {
            "cells": {
             "fill": {
              "color": "#EBF0F8"
             },
             "line": {
              "color": "white"
             }
            },
            "header": {
             "fill": {
              "color": "#C8D4E3"
             },
             "line": {
              "color": "white"
             }
            },
            "type": "table"
           }
          ]
         },
         "layout": {
          "annotationdefaults": {
           "arrowcolor": "#2a3f5f",
           "arrowhead": 0,
           "arrowwidth": 1
          },
          "autotypenumbers": "strict",
          "coloraxis": {
           "colorbar": {
            "outlinewidth": 0,
            "ticks": ""
           }
          },
          "colorscale": {
           "diverging": [
            [
             0,
             "#8e0152"
            ],
            [
             0.1,
             "#c51b7d"
            ],
            [
             0.2,
             "#de77ae"
            ],
            [
             0.3,
             "#f1b6da"
            ],
            [
             0.4,
             "#fde0ef"
            ],
            [
             0.5,
             "#f7f7f7"
            ],
            [
             0.6,
             "#e6f5d0"
            ],
            [
             0.7,
             "#b8e186"
            ],
            [
             0.8,
             "#7fbc41"
            ],
            [
             0.9,
             "#4d9221"
            ],
            [
             1,
             "#276419"
            ]
           ],
           "sequential": [
            [
             0,
             "#0d0887"
            ],
            [
             0.1111111111111111,
             "#46039f"
            ],
            [
             0.2222222222222222,
             "#7201a8"
            ],
            [
             0.3333333333333333,
             "#9c179e"
            ],
            [
             0.4444444444444444,
             "#bd3786"
            ],
            [
             0.5555555555555556,
             "#d8576b"
            ],
            [
             0.6666666666666666,
             "#ed7953"
            ],
            [
             0.7777777777777778,
             "#fb9f3a"
            ],
            [
             0.8888888888888888,
             "#fdca26"
            ],
            [
             1,
             "#f0f921"
            ]
           ],
           "sequentialminus": [
            [
             0,
             "#0d0887"
            ],
            [
             0.1111111111111111,
             "#46039f"
            ],
            [
             0.2222222222222222,
             "#7201a8"
            ],
            [
             0.3333333333333333,
             "#9c179e"
            ],
            [
             0.4444444444444444,
             "#bd3786"
            ],
            [
             0.5555555555555556,
             "#d8576b"
            ],
            [
             0.6666666666666666,
             "#ed7953"
            ],
            [
             0.7777777777777778,
             "#fb9f3a"
            ],
            [
             0.8888888888888888,
             "#fdca26"
            ],
            [
             1,
             "#f0f921"
            ]
           ]
          },
          "colorway": [
           "#636efa",
           "#EF553B",
           "#00cc96",
           "#ab63fa",
           "#FFA15A",
           "#19d3f3",
           "#FF6692",
           "#B6E880",
           "#FF97FF",
           "#FECB52"
          ],
          "font": {
           "color": "#2a3f5f"
          },
          "geo": {
           "bgcolor": "white",
           "lakecolor": "white",
           "landcolor": "white",
           "showlakes": true,
           "showland": true,
           "subunitcolor": "#C8D4E3"
          },
          "hoverlabel": {
           "align": "left"
          },
          "hovermode": "closest",
          "mapbox": {
           "style": "light"
          },
          "paper_bgcolor": "white",
          "plot_bgcolor": "white",
          "polar": {
           "angularaxis": {
            "gridcolor": "#EBF0F8",
            "linecolor": "#EBF0F8",
            "ticks": ""
           },
           "bgcolor": "white",
           "radialaxis": {
            "gridcolor": "#EBF0F8",
            "linecolor": "#EBF0F8",
            "ticks": ""
           }
          },
          "scene": {
           "xaxis": {
            "backgroundcolor": "white",
            "gridcolor": "#DFE8F3",
            "gridwidth": 2,
            "linecolor": "#EBF0F8",
            "showbackground": true,
            "ticks": "",
            "zerolinecolor": "#EBF0F8"
           },
           "yaxis": {
            "backgroundcolor": "white",
            "gridcolor": "#DFE8F3",
            "gridwidth": 2,
            "linecolor": "#EBF0F8",
            "showbackground": true,
            "ticks": "",
            "zerolinecolor": "#EBF0F8"
           },
           "zaxis": {
            "backgroundcolor": "white",
            "gridcolor": "#DFE8F3",
            "gridwidth": 2,
            "linecolor": "#EBF0F8",
            "showbackground": true,
            "ticks": "",
            "zerolinecolor": "#EBF0F8"
           }
          },
          "shapedefaults": {
           "line": {
            "color": "#2a3f5f"
           }
          },
          "ternary": {
           "aaxis": {
            "gridcolor": "#DFE8F3",
            "linecolor": "#A2B1C6",
            "ticks": ""
           },
           "baxis": {
            "gridcolor": "#DFE8F3",
            "linecolor": "#A2B1C6",
            "ticks": ""
           },
           "bgcolor": "white",
           "caxis": {
            "gridcolor": "#DFE8F3",
            "linecolor": "#A2B1C6",
            "ticks": ""
           }
          },
          "title": {
           "x": 0.05
          },
          "xaxis": {
           "automargin": true,
           "gridcolor": "#EBF0F8",
           "linecolor": "#EBF0F8",
           "ticks": "",
           "title": {
            "standoff": 15
           },
           "zerolinecolor": "#EBF0F8",
           "zerolinewidth": 2
          },
          "yaxis": {
           "automargin": true,
           "gridcolor": "#EBF0F8",
           "linecolor": "#EBF0F8",
           "ticks": "",
           "title": {
            "standoff": 15
           },
           "zerolinecolor": "#EBF0F8",
           "zerolinewidth": 2
          }
         }
        },
        "title": {
         "text": "Movies by community"
        },
        "xaxis": {
         "anchor": "y",
         "domain": [
          0,
          0.94
         ]
        },
        "yaxis": {
         "anchor": "x",
         "domain": [
          0,
          1
         ],
         "tickfont": {
          "color": "blue"
         },
         "title": {
          "font": {
           "color": "blue"
          },
          "text": "Movies number"
         }
        },
        "yaxis2": {
         "anchor": "x",
         "overlaying": "y",
         "position": 0.15,
         "side": "right",
         "tickfont": {
          "color": "gold"
         },
         "title": {
          "font": {
           "color": "gold"
          },
          "text": "Average movies by actor"
         }
        }
       }
      }
     },
     "metadata": {},
     "output_type": "display_data"
    }
   ],
   "source": [
    "abs_trace = go.Scatter(mode=\"lines+markers\", x=[*range(1,21)],y=nb_movie,marker = {'size':10,'color':'blue'},line={'width':2,'dash':'dot'})\n",
    "ratio_trace = go.Scatter(mode=\"lines+markers\", x=[*range(1,21)],y=[i / j for i, j in zip(nb_movie, nb_actors_20)], \n",
    "                        marker = {'size':6,'color':'gold','symbol':'x'},line={'width':1,'dash':'dot'})\n",
    "\n",
    "fig = make_subplots(specs=[[{\"secondary_y\": True}]])\n",
    "\n",
    "fig.add_trace(ratio_trace,secondary_y= True)\n",
    "fig.add_trace(abs_trace)\n",
    "\n",
    "fig.update_layout( title_text=\"Movies by community\",template = 'plotly_white')\n",
    "fig.update_layout(yaxis=dict(title=\"Movies number\", titlefont=dict(color=\"blue\"), tickfont=dict(color=\"blue\")),\n",
    "                    yaxis2=dict(title=\"Average movies by actor\",overlaying=\"y\", side=\"right\", titlefont=dict(color=\"gold\"),position=0.15,tickfont=dict(color=\"gold\")),\n",
    "                    showlegend = False)\n",
    "\n",
    "fig.show()\n",
    "#fig.write_html('C:/Users/Public/ADA2022/weloic.github.io/_includes/movies_community_scatter.html')"
   ]
  },
  {
   "attachments": {},
   "cell_type": "markdown",
   "metadata": {},
   "source": [
    "## Community features"
   ]
  },
  {
   "cell_type": "code",
   "execution_count": 60,
   "metadata": {},
   "outputs": [],
   "source": [
    "# each country gets its own trace so that it will have a different color\n",
    "c1 = features.pivot_table(index='Community',columns='1st_country',values='1st_country_%').fillna(0)\n",
    "c2 = features.pivot_table(index='Community',columns='2nd_country',values='2nd_country_%').fillna(0)\n",
    "c3 = features.pivot_table(index='Community',columns='3rd_country',values='3rd_country_%').fillna(0)\n",
    "countries = c2.add(c1,fill_value=0).add(c3,fill_value=0)\n",
    "countries.drop('0',axis=1,inplace=True)\n",
    "countries['Others'] = countries.apply(lambda x: 100 - sum(x),axis=1)"
   ]
  },
  {
   "cell_type": "code",
   "execution_count": 61,
   "metadata": {},
   "outputs": [],
   "source": [
    "# each occupation gets its own trace so that it will have a different color\n",
    "o1 = features.pivot_table(index='Community',columns='1st_occupation',values='1st_occupation_%').fillna(0)\n",
    "o2 = features.pivot_table(index='Community',columns='2nd_occupation',values='2nd_occupation_%').fillna(0)\n",
    "o3 = features.pivot_table(index='Community',columns='3rd_occupation',values='3rd_occupation_%').fillna(0)\n",
    "occupations = o2.add(o1,fill_value=0).add(o3,fill_value=0)\n",
    "occupations['Others'] = occupations.apply(lambda x: 100 - sum(x),axis=1)"
   ]
  },
  {
   "cell_type": "code",
   "execution_count": 62,
   "metadata": {},
   "outputs": [
    {
     "data": {
      "text/plain": [
       "Index(['Australia', 'Bhutan', 'Canada', 'China', 'Egypt', 'France', 'Germany',\n",
       "       'Hong Kong', 'India', 'Ireland', 'Italy', 'Japan', 'Netherlands',\n",
       "       'Pakistan', 'Portugal', 'Spain', 'Sweden', 'Taiwan', 'United Kingdom',\n",
       "       'United States of America', 'Others'],\n",
       "      dtype='object')"
      ]
     },
     "execution_count": 62,
     "metadata": {},
     "output_type": "execute_result"
    }
   ],
   "source": [
    "countries.columns"
   ]
  },
  {
   "cell_type": "code",
   "execution_count": 63,
   "metadata": {},
   "outputs": [],
   "source": [
    "# color dictionnary for the interactive plot\n",
    "# colors are grouped by continent \n",
    "color_dict={\n",
    "    'female_%':'#e97030',\n",
    "    'male_%':'#3E4E58', #Lime spruce\n",
    "\n",
    "    'Others' : 'beige',\n",
    "\n",
    "    'United Kingdom' : '#FC3B01', #Vermillion\n",
    "    'Australia' : '#FEEFB1', #Buttermilk\n",
    "    'Canada': '#FF4B2F' , # red orange\n",
    "    'United States of America': '#FF8E43', #coral\n",
    "    \n",
    "    'India' : '#f2e938', #confetti\n",
    "    'Bhutan' : '#F9DB31', #bright sun\n",
    "    'Pakistan': 'gold',\n",
    "\n",
    "    'China' : ' #9CE692', #granny smith green\n",
    "    'Japan' : '#C1E522', #pear\n",
    "    'Taiwan' : '#68ce7f', \n",
    "    'Hong Kong' : ' #ABEF52', #Sulu\n",
    "\n",
    "    'Egypt' : '#E6EB59',\n",
    "\n",
    "    'Ireland': '#264653', \n",
    "    'Italy' : '#298880', #Celadon green\n",
    "    'France': '#287271', #Skobeloff\n",
    "    'Germany':'#5a8aa6',\n",
    "    'Netherlands': 'navy',\n",
    "    'Portugal' : '#D3E7D7', #surf crest\n",
    "    'Spain': '#3B464E', #lime spruce\n",
    "    'Sweden' : '#264653', #charcoal \n",
    "\n",
    "\n",
    "    'writer' : '#636EFA',\n",
    "    'voice actor' : '#EF553B',\n",
    "    'producer': '#00CC96',\n",
    "    'musician'  :  '#AB63FA',\n",
    "    'model' :  '#FFA15A',\n",
    "    'director' : '#19D3F3',\n",
    "    'comedian' :'#FF6692',\n",
    "    'seiyū': '#B6E880',\n",
    "    '2' : '#FF97FF',\n",
    "    '3': '#FECB52'\n",
    "\n",
    "\n",
    "}"
   ]
  },
  {
   "cell_type": "code",
   "execution_count": 64,
   "metadata": {},
   "outputs": [
    {
     "data": {
      "application/vnd.plotly.v1+json": {
       "config": {
        "plotlyServerURL": "https://plot.ly"
       },
       "data": [
        {
         "marker": {
          "color": "#3E4E58"
         },
         "name": "male",
         "orientation": "h",
         "type": "bar",
         "x": [
          67.93680297397769,
          67.82868525896414,
          59.22330097087378,
          72.95373665480427,
          65.06849315068493,
          72.6235741444867,
          66.91176470588235,
          70,
          69.0721649484536,
          59.76331360946746,
          54.32098765432099,
          65,
          71.53846153846153,
          67.22689075630252,
          76.41509433962264,
          84.31372549019608,
          65.85365853658537,
          52,
          57.57575757575758,
          63.46153846153846
         ],
         "xaxis": "x",
         "y": [
          1,
          2,
          3,
          4,
          5,
          6,
          7,
          8,
          9,
          10,
          11,
          12,
          13,
          14,
          15,
          16,
          17,
          18,
          19,
          20
         ],
         "yaxis": "y"
        },
        {
         "legendgroup": "1",
         "marker": {
          "color": "#e97030"
         },
         "name": "female",
         "orientation": "h",
         "type": "bar",
         "x": [
          32.06319702602231,
          32.17131474103586,
          40.77669902912621,
          27.046263345195733,
          34.93150684931507,
          27.376425855513308,
          33.088235294117645,
          30,
          30.927835051546392,
          40.23668639053255,
          45.67901234567901,
          35,
          28.46153846153846,
          32.77310924369748,
          23.58490566037736,
          15.68627450980392,
          34.14634146341464,
          48,
          42.42424242424242,
          36.53846153846153
         ],
         "xaxis": "x",
         "y": [
          1,
          2,
          3,
          4,
          5,
          6,
          7,
          8,
          9,
          10,
          11,
          12,
          13,
          14,
          15,
          16,
          17,
          18,
          19,
          20
         ],
         "yaxis": "y"
        },
        {
         "legendgroup": "2",
         "marker": {
          "color": "#FEEFB1"
         },
         "name": "Australia",
         "orientation": "h",
         "type": "bar",
         "x": [
          0,
          0,
          0,
          7.155635062611807,
          0,
          0,
          0,
          0,
          0,
          0,
          0,
          0,
          2.5,
          0,
          0,
          0,
          0,
          0,
          0,
          0
         ],
         "xaxis": "x2",
         "y": [
          1,
          2,
          3,
          4,
          5,
          6,
          7,
          8,
          9,
          10,
          11,
          12,
          13,
          14,
          15,
          16,
          17,
          18,
          19,
          20
         ],
         "yaxis": "y2"
        },
        {
         "legendgroup": "2",
         "marker": {
          "color": "#F9DB31"
         },
         "name": "Bhutan",
         "orientation": "h",
         "type": "bar",
         "x": [
          0,
          0,
          0,
          0,
          0.2439024390243902,
          0,
          0,
          0,
          0,
          0,
          0,
          0,
          0,
          0,
          0,
          0,
          0,
          0,
          0,
          0
         ],
         "xaxis": "x2",
         "y": [
          1,
          2,
          3,
          4,
          5,
          6,
          7,
          8,
          9,
          10,
          11,
          12,
          13,
          14,
          15,
          16,
          17,
          18,
          19,
          20
         ],
         "yaxis": "y2"
        },
        {
         "legendgroup": "2",
         "marker": {
          "color": "#FF4B2F"
         },
         "name": "Canada",
         "orientation": "h",
         "type": "bar",
         "x": [
          3.8752362948960304,
          3.125,
          0,
          0,
          0,
          0,
          6.4638783269961975,
          0,
          0,
          0,
          1.9230769230769231,
          0,
          0,
          0,
          3.8095238095238098,
          1.0752688172043012,
          0,
          6.944444444444445,
          4.166666666666666,
          0
         ],
         "xaxis": "x2",
         "y": [
          1,
          2,
          3,
          4,
          5,
          6,
          7,
          8,
          9,
          10,
          11,
          12,
          13,
          14,
          15,
          16,
          17,
          18,
          19,
          20
         ],
         "yaxis": "y2"
        },
        {
         "legendgroup": "2",
         "marker": {
          "color": " #9CE692"
         },
         "name": "China",
         "orientation": "h",
         "type": "bar",
         "x": [
          0,
          0,
          0,
          0,
          0,
          58.44155844155844,
          0,
          0,
          0,
          0,
          0,
          0,
          0,
          0,
          0,
          0,
          0,
          0,
          0,
          0
         ],
         "xaxis": "x2",
         "y": [
          1,
          2,
          3,
          4,
          5,
          6,
          7,
          8,
          9,
          10,
          11,
          12,
          13,
          14,
          15,
          16,
          17,
          18,
          19,
          20
         ],
         "yaxis": "y2"
        },
        {
         "legendgroup": "2",
         "marker": {
          "color": "#E6EB59"
         },
         "name": "Egypt",
         "orientation": "h",
         "type": "bar",
         "x": [
          0,
          0,
          0,
          0,
          0.2439024390243902,
          0,
          0,
          0,
          0,
          0,
          0,
          0,
          0,
          0,
          0,
          0,
          0,
          0,
          0,
          0
         ],
         "xaxis": "x2",
         "y": [
          1,
          2,
          3,
          4,
          5,
          6,
          7,
          8,
          9,
          10,
          11,
          12,
          13,
          14,
          15,
          16,
          17,
          18,
          19,
          20
         ],
         "yaxis": "y2"
        },
        {
         "legendgroup": "2",
         "marker": {
          "color": "#287271"
         },
         "name": "France",
         "orientation": "h",
         "type": "bar",
         "x": [
          0,
          0,
          0,
          0,
          0,
          0,
          0,
          0,
          0,
          0,
          0,
          55.625,
          0,
          0,
          0,
          0,
          0,
          0,
          0,
          0
         ],
         "xaxis": "x2",
         "y": [
          1,
          2,
          3,
          4,
          5,
          6,
          7,
          8,
          9,
          10,
          11,
          12,
          13,
          14,
          15,
          16,
          17,
          18,
          19,
          20
         ],
         "yaxis": "y2"
        },
        {
         "legendgroup": "2",
         "marker": {
          "color": "#5a8aa6"
         },
         "name": "Germany",
         "orientation": "h",
         "type": "bar",
         "x": [
          0,
          0,
          0,
          0,
          0,
          0,
          0,
          0,
          0,
          0,
          0,
          0,
          0,
          0,
          0,
          0,
          0,
          2.7777777777777777,
          0,
          3.636363636363636
         ],
         "xaxis": "x2",
         "y": [
          1,
          2,
          3,
          4,
          5,
          6,
          7,
          8,
          9,
          10,
          11,
          12,
          13,
          14,
          15,
          16,
          17,
          18,
          19,
          20
         ],
         "yaxis": "y2"
        },
        {
         "legendgroup": "2",
         "marker": {
          "color": " #ABEF52"
         },
         "name": "Hong Kong",
         "orientation": "h",
         "type": "bar",
         "x": [
          0,
          0,
          0,
          0,
          0,
          18.181818181818183,
          0,
          0,
          0,
          0,
          0,
          0,
          0,
          0,
          0,
          0,
          0,
          0,
          0,
          0
         ],
         "xaxis": "x2",
         "y": [
          1,
          2,
          3,
          4,
          5,
          6,
          7,
          8,
          9,
          10,
          11,
          12,
          13,
          14,
          15,
          16,
          17,
          18,
          19,
          20
         ],
         "yaxis": "y2"
        },
        {
         "legendgroup": "2",
         "marker": {
          "color": "#f2e938"
         },
         "name": "India",
         "orientation": "h",
         "type": "bar",
         "x": [
          0,
          0,
          96.78456591639872,
          0,
          99.02439024390245,
          0,
          0,
          0,
          0,
          100,
          0,
          0,
          0,
          0,
          0,
          0,
          0,
          0,
          0,
          0
         ],
         "xaxis": "x2",
         "y": [
          1,
          2,
          3,
          4,
          5,
          6,
          7,
          8,
          9,
          10,
          11,
          12,
          13,
          14,
          15,
          16,
          17,
          18,
          19,
          20
         ],
         "yaxis": "y2"
        },
        {
         "legendgroup": "2",
         "marker": {
          "color": "#264653"
         },
         "name": "Ireland",
         "orientation": "h",
         "type": "bar",
         "x": [
          0,
          0,
          0,
          0,
          0,
          0,
          0,
          0,
          7.614213197969544,
          0,
          0,
          0,
          0,
          0,
          0,
          0,
          0,
          0,
          0,
          0
         ],
         "xaxis": "x2",
         "y": [
          1,
          2,
          3,
          4,
          5,
          6,
          7,
          8,
          9,
          10,
          11,
          12,
          13,
          14,
          15,
          16,
          17,
          18,
          19,
          20
         ],
         "yaxis": "y2"
        },
        {
         "legendgroup": "2",
         "marker": {
          "color": "#298880"
         },
         "name": "Italy",
         "orientation": "h",
         "type": "bar",
         "x": [
          0,
          0,
          0,
          0,
          0,
          0,
          0,
          0,
          0,
          0,
          0,
          30.625000000000004,
          0,
          0,
          0,
          0,
          0,
          0,
          0,
          0
         ],
         "xaxis": "x2",
         "y": [
          1,
          2,
          3,
          4,
          5,
          6,
          7,
          8,
          9,
          10,
          11,
          12,
          13,
          14,
          15,
          16,
          17,
          18,
          19,
          20
         ],
         "yaxis": "y2"
        },
        {
         "legendgroup": "2",
         "marker": {
          "color": "#C1E522"
         },
         "name": "Japan",
         "orientation": "h",
         "type": "bar",
         "x": [
          0,
          0,
          0,
          0,
          0,
          0,
          0,
          0,
          0,
          0,
          73.71794871794873,
          0,
          0,
          100,
          0,
          0,
          0,
          0,
          0,
          5.454545454545454
         ],
         "xaxis": "x2",
         "y": [
          1,
          2,
          3,
          4,
          5,
          6,
          7,
          8,
          9,
          10,
          11,
          12,
          13,
          14,
          15,
          16,
          17,
          18,
          19,
          20
         ],
         "yaxis": "y2"
        },
        {
         "legendgroup": "2",
         "marker": {
          "color": "navy"
         },
         "name": "Netherlands",
         "orientation": "h",
         "type": "bar",
         "x": [
          0,
          0,
          0,
          0,
          0,
          0,
          0,
          0,
          0,
          0,
          0,
          0,
          0,
          0,
          0,
          0,
          1.2658227848101269,
          0,
          0,
          0
         ],
         "xaxis": "x2",
         "y": [
          1,
          2,
          3,
          4,
          5,
          6,
          7,
          8,
          9,
          10,
          11,
          12,
          13,
          14,
          15,
          16,
          17,
          18,
          19,
          20
         ],
         "yaxis": "y2"
        },
        {
         "legendgroup": "2",
         "marker": {
          "color": "gold"
         },
         "name": "Pakistan",
         "orientation": "h",
         "type": "bar",
         "x": [
          0,
          0,
          0.482315112540193,
          0,
          0,
          0,
          0,
          0,
          0,
          0,
          0,
          0,
          0,
          0,
          0,
          0,
          0,
          0,
          0,
          0
         ],
         "xaxis": "x2",
         "y": [
          1,
          2,
          3,
          4,
          5,
          6,
          7,
          8,
          9,
          10,
          11,
          12,
          13,
          14,
          15,
          16,
          17,
          18,
          19,
          20
         ],
         "yaxis": "y2"
        },
        {
         "legendgroup": "2",
         "marker": {
          "color": "#D3E7D7"
         },
         "name": "Portugal",
         "orientation": "h",
         "type": "bar",
         "x": [
          0,
          0,
          0,
          0,
          0,
          0,
          0,
          0,
          0,
          0,
          0,
          5,
          0,
          0,
          0,
          0,
          0,
          0,
          0,
          0
         ],
         "xaxis": "x2",
         "y": [
          1,
          2,
          3,
          4,
          5,
          6,
          7,
          8,
          9,
          10,
          11,
          12,
          13,
          14,
          15,
          16,
          17,
          18,
          19,
          20
         ],
         "yaxis": "y2"
        },
        {
         "legendgroup": "2",
         "marker": {
          "color": "#3B464E"
         },
         "name": "Spain",
         "orientation": "h",
         "type": "bar",
         "x": [
          0,
          0,
          0,
          0,
          0,
          0,
          0,
          6.390977443609022,
          0,
          0,
          0,
          0,
          0,
          0,
          0,
          0,
          0,
          0,
          0,
          0
         ],
         "xaxis": "x2",
         "y": [
          1,
          2,
          3,
          4,
          5,
          6,
          7,
          8,
          9,
          10,
          11,
          12,
          13,
          14,
          15,
          16,
          17,
          18,
          19,
          20
         ],
         "yaxis": "y2"
        },
        {
         "legendgroup": "2",
         "marker": {
          "color": "#264653"
         },
         "name": "Sweden",
         "orientation": "h",
         "type": "bar",
         "x": [
          0,
          0,
          0,
          0,
          0,
          0,
          0,
          0,
          0,
          0,
          0,
          0,
          0,
          0,
          0,
          0,
          0,
          0,
          0,
          87.27272727272727
         ],
         "xaxis": "x2",
         "y": [
          1,
          2,
          3,
          4,
          5,
          6,
          7,
          8,
          9,
          10,
          11,
          12,
          13,
          14,
          15,
          16,
          17,
          18,
          19,
          20
         ],
         "yaxis": "y2"
        },
        {
         "legendgroup": "2",
         "marker": {
          "color": "#68ce7f"
         },
         "name": "Taiwan",
         "orientation": "h",
         "type": "bar",
         "x": [
          0,
          0,
          0,
          0,
          0,
          9.956709956709958,
          0,
          0,
          0,
          0,
          0,
          0,
          0,
          0,
          0,
          0,
          0,
          0,
          0,
          0
         ],
         "xaxis": "x2",
         "y": [
          1,
          2,
          3,
          4,
          5,
          6,
          7,
          8,
          9,
          10,
          11,
          12,
          13,
          14,
          15,
          16,
          17,
          18,
          19,
          20
         ],
         "yaxis": "y2"
        },
        {
         "legendgroup": "2",
         "marker": {
          "color": "#FC3B01"
         },
         "name": "United Kingdom",
         "orientation": "h",
         "type": "bar",
         "x": [
          4.44234404536862,
          9.67741935483871,
          1.2861736334405145,
          64.57960644007156,
          0,
          0,
          3.4220532319391634,
          6.390977443609022,
          77.15736040609137,
          0,
          0,
          0,
          6.666666666666667,
          0,
          17.142857142857142,
          6.451612903225806,
          3.79746835443038,
          0,
          0,
          0
         ],
         "xaxis": "x2",
         "y": [
          1,
          2,
          3,
          4,
          5,
          6,
          7,
          8,
          9,
          10,
          11,
          12,
          13,
          14,
          15,
          16,
          17,
          18,
          19,
          20
         ],
         "yaxis": "y2"
        },
        {
         "legendgroup": "2",
         "marker": {
          "color": "#FF8E43"
         },
         "name": "United States of America",
         "orientation": "h",
         "type": "bar",
         "x": [
          86.86200378071834,
          80.64516129032258,
          0,
          14.311270125223611,
          0,
          0,
          88.97338403041825,
          74.81203007518798,
          7.106598984771575,
          0,
          23.717948717948715,
          0,
          87.5,
          0,
          73.33333333333333,
          91.39784946236558,
          92.40506329113924,
          87.5,
          95.83333333333334,
          0
         ],
         "xaxis": "x2",
         "y": [
          1,
          2,
          3,
          4,
          5,
          6,
          7,
          8,
          9,
          10,
          11,
          12,
          13,
          14,
          15,
          16,
          17,
          18,
          19,
          20
         ],
         "yaxis": "y2"
        },
        {
         "legendgroup": "2",
         "marker": {
          "color": "beige"
         },
         "name": "Others",
         "orientation": "h",
         "type": "bar",
         "x": [
          4.8204158790170055,
          6.552419354838719,
          1.4469453376205763,
          13.95348837209302,
          0.48780487804877737,
          13.419913419913414,
          1.1406844106464007,
          12.406015037593974,
          8.121827411167502,
          0,
          0.6410256410256352,
          8.75,
          3.3333333333333286,
          0,
          5.714285714285722,
          1.0752688172043037,
          2.5316455696202524,
          2.7777777777777715,
          -1.4210854715202004e-14,
          3.6363636363636402
         ],
         "xaxis": "x2",
         "y": [
          1,
          2,
          3,
          4,
          5,
          6,
          7,
          8,
          9,
          10,
          11,
          12,
          13,
          14,
          15,
          16,
          17,
          18,
          19,
          20
         ],
         "yaxis": "y2"
        },
        {
         "legendgroup": "3",
         "marker": {
          "color": "#FF6692"
         },
         "name": "comedian",
         "orientation": "h",
         "type": "bar",
         "x": [
          0,
          0,
          0,
          0,
          0,
          0,
          0,
          0,
          0,
          0,
          0,
          0,
          0,
          0,
          0,
          0,
          6.896551724137931,
          0,
          0,
          0
         ],
         "xaxis": "x3",
         "y": [
          1,
          2,
          3,
          4,
          5,
          6,
          7,
          8,
          9,
          10,
          11,
          12,
          13,
          14,
          15,
          16,
          17,
          18,
          19,
          20
         ],
         "yaxis": "y3"
        },
        {
         "legendgroup": "3",
         "marker": {
          "color": "#19D3F3"
         },
         "name": "director",
         "orientation": "h",
         "type": "bar",
         "x": [
          0,
          7.192699946323135,
          10.881294964028775,
          7.067812798471825,
          9.710144927536232,
          12.8099173553719,
          0,
          0,
          0,
          10.852713178294572,
          0,
          16.231884057971012,
          6.951871657754011,
          7.926829268292683,
          0,
          17.045454545454543,
          0,
          15.178571428571429,
          11.347517730496454,
          15.74074074074074
         ],
         "xaxis": "x3",
         "y": [
          1,
          2,
          3,
          4,
          5,
          6,
          7,
          8,
          9,
          10,
          11,
          12,
          13,
          14,
          15,
          16,
          17,
          18,
          19,
          20
         ],
         "yaxis": "y3"
        },
        {
         "legendgroup": "3",
         "marker": {
          "color": "#FFA15A"
         },
         "name": "model",
         "orientation": "h",
         "type": "bar",
         "x": [
          0,
          0,
          8.453237410071942,
          0,
          0,
          0,
          0,
          0,
          0,
          0,
          0,
          0,
          0,
          0,
          0,
          0,
          0,
          0,
          0,
          0
         ],
         "xaxis": "x3",
         "y": [
          1,
          2,
          3,
          4,
          5,
          6,
          7,
          8,
          9,
          10,
          11,
          12,
          13,
          14,
          15,
          16,
          17,
          18,
          19,
          20
         ],
         "yaxis": "y3"
        },
        {
         "legendgroup": "3",
         "marker": {
          "color": "#AB63FA"
         },
         "name": "musician",
         "orientation": "h",
         "type": "bar",
         "x": [
          0,
          7.246376811594203,
          0,
          0,
          0,
          15.702479338842975,
          9.170854271356784,
          0,
          0,
          0,
          14.50980392156863,
          5.507246376811594,
          0,
          9.146341463414634,
          0,
          0,
          0,
          0,
          0,
          8.333333333333332
         ],
         "xaxis": "x3",
         "y": [
          1,
          2,
          3,
          4,
          5,
          6,
          7,
          8,
          9,
          10,
          11,
          12,
          13,
          14,
          15,
          16,
          17,
          18,
          19,
          20
         ],
         "yaxis": "y3"
        },
        {
         "legendgroup": "3",
         "marker": {
          "color": "#00CC96"
         },
         "name": "producer",
         "orientation": "h",
         "type": "bar",
         "x": [
          13.662879950875038,
          0,
          8.453237410071942,
          7.354345749761222,
          8.695652173913043,
          0,
          0,
          12.76864728192162,
          8.411214953271028,
          5.813953488372093,
          0,
          0,
          7.4866310160427805,
          3.048780487804878,
          12.786885245901638,
          6.8181818181818175,
          0,
          5.357142857142857,
          12.76595744680851,
          0
         ],
         "xaxis": "x3",
         "y": [
          1,
          2,
          3,
          4,
          5,
          6,
          7,
          8,
          9,
          10,
          11,
          12,
          13,
          14,
          15,
          16,
          17,
          18,
          19,
          20
         ],
         "yaxis": "y3"
        },
        {
         "legendgroup": "3",
         "marker": {
          "color": "#B6E880"
         },
         "name": "seiyū",
         "orientation": "h",
         "type": "bar",
         "x": [
          0,
          0,
          0,
          0,
          0,
          0,
          0,
          0,
          0,
          0,
          8.235294117647058,
          0,
          0,
          0,
          0,
          0,
          0,
          0,
          0,
          0
         ],
         "xaxis": "x3",
         "y": [
          1,
          2,
          3,
          4,
          5,
          6,
          7,
          8,
          9,
          10,
          11,
          12,
          13,
          14,
          15,
          16,
          17,
          18,
          19,
          20
         ],
         "yaxis": "y3"
        },
        {
         "legendgroup": "3",
         "marker": {
          "color": "#EF553B"
         },
         "name": "voice actor",
         "orientation": "h",
         "type": "bar",
         "x": [
          14.676082284310716,
          0,
          0,
          0,
          0,
          0,
          28.51758793969849,
          12.389380530973453,
          12.149532710280374,
          0,
          17.647058823529413,
          0,
          0,
          0,
          11.147540983606556,
          0,
          4.310344827586207,
          0,
          0,
          0
         ],
         "xaxis": "x3",
         "y": [
          1,
          2,
          3,
          4,
          5,
          6,
          7,
          8,
          9,
          10,
          11,
          12,
          13,
          14,
          15,
          16,
          17,
          18,
          19,
          20
         ],
         "yaxis": "y3"
        },
        {
         "legendgroup": "3",
         "marker": {
          "color": "#636EFA"
         },
         "name": "writer",
         "orientation": "h",
         "type": "bar",
         "x": [
          12.588271415412958,
          10.466988727858292,
          0,
          10.410697230181473,
          5.797101449275362,
          6.6115702479338845,
          7.788944723618091,
          10.745891276864729,
          11.214953271028037,
          7.751937984496124,
          0,
          15.36231884057971,
          6.951871657754011,
          0,
          14.754098360655735,
          11.363636363636363,
          4.310344827586207,
          12.5,
          13.47517730496454,
          12.037037037037036
         ],
         "xaxis": "x3",
         "y": [
          1,
          2,
          3,
          4,
          5,
          6,
          7,
          8,
          9,
          10,
          11,
          12,
          13,
          14,
          15,
          16,
          17,
          18,
          19,
          20
         ],
         "yaxis": "y3"
        },
        {
         "legendgroup": "3",
         "marker": {
          "color": "beige"
         },
         "name": "Others",
         "orientation": "h",
         "type": "bar",
         "x": [
          59.07276634940129,
          75.09393451422437,
          72.21223021582733,
          75.16714422158549,
          75.79710144927536,
          64.87603305785123,
          54.52261306532664,
          64.0960809102402,
          68.22429906542055,
          75.58139534883722,
          59.6078431372549,
          62.89855072463769,
          78.6096256684492,
          79.8780487804878,
          61.31147540983607,
          64.77272727272728,
          84.48275862068965,
          66.96428571428572,
          62.4113475177305,
          63.88888888888889
         ],
         "xaxis": "x3",
         "y": [
          1,
          2,
          3,
          4,
          5,
          6,
          7,
          8,
          9,
          10,
          11,
          12,
          13,
          14,
          15,
          16,
          17,
          18,
          19,
          20
         ],
         "yaxis": "y3"
        }
       ],
       "layout": {
        "annotations": [
         {
          "font": {
           "size": 16
          },
          "showarrow": false,
          "text": "Gender (%)",
          "x": 0.14444444444444446,
          "xanchor": "center",
          "xref": "paper",
          "y": 1,
          "yanchor": "bottom",
          "yref": "paper"
         },
         {
          "font": {
           "size": 16
          },
          "showarrow": false,
          "text": "Nationality  (%)",
          "x": 0.5,
          "xanchor": "center",
          "xref": "paper",
          "y": 1,
          "yanchor": "bottom",
          "yref": "paper"
         },
         {
          "font": {
           "size": 16
          },
          "showarrow": false,
          "text": "Occupation (%)",
          "x": 0.8555555555555556,
          "xanchor": "center",
          "xref": "paper",
          "y": 1,
          "yanchor": "bottom",
          "yref": "paper"
         }
        ],
        "barmode": "stack",
        "height": 800,
        "template": {
         "data": {
          "bar": [
           {
            "error_x": {
             "color": "#2a3f5f"
            },
            "error_y": {
             "color": "#2a3f5f"
            },
            "marker": {
             "line": {
              "color": "white",
              "width": 0.5
             },
             "pattern": {
              "fillmode": "overlay",
              "size": 10,
              "solidity": 0.2
             }
            },
            "type": "bar"
           }
          ],
          "barpolar": [
           {
            "marker": {
             "line": {
              "color": "white",
              "width": 0.5
             },
             "pattern": {
              "fillmode": "overlay",
              "size": 10,
              "solidity": 0.2
             }
            },
            "type": "barpolar"
           }
          ],
          "carpet": [
           {
            "aaxis": {
             "endlinecolor": "#2a3f5f",
             "gridcolor": "#C8D4E3",
             "linecolor": "#C8D4E3",
             "minorgridcolor": "#C8D4E3",
             "startlinecolor": "#2a3f5f"
            },
            "baxis": {
             "endlinecolor": "#2a3f5f",
             "gridcolor": "#C8D4E3",
             "linecolor": "#C8D4E3",
             "minorgridcolor": "#C8D4E3",
             "startlinecolor": "#2a3f5f"
            },
            "type": "carpet"
           }
          ],
          "choropleth": [
           {
            "colorbar": {
             "outlinewidth": 0,
             "ticks": ""
            },
            "type": "choropleth"
           }
          ],
          "contour": [
           {
            "colorbar": {
             "outlinewidth": 0,
             "ticks": ""
            },
            "colorscale": [
             [
              0,
              "#0d0887"
             ],
             [
              0.1111111111111111,
              "#46039f"
             ],
             [
              0.2222222222222222,
              "#7201a8"
             ],
             [
              0.3333333333333333,
              "#9c179e"
             ],
             [
              0.4444444444444444,
              "#bd3786"
             ],
             [
              0.5555555555555556,
              "#d8576b"
             ],
             [
              0.6666666666666666,
              "#ed7953"
             ],
             [
              0.7777777777777778,
              "#fb9f3a"
             ],
             [
              0.8888888888888888,
              "#fdca26"
             ],
             [
              1,
              "#f0f921"
             ]
            ],
            "type": "contour"
           }
          ],
          "contourcarpet": [
           {
            "colorbar": {
             "outlinewidth": 0,
             "ticks": ""
            },
            "type": "contourcarpet"
           }
          ],
          "heatmap": [
           {
            "colorbar": {
             "outlinewidth": 0,
             "ticks": ""
            },
            "colorscale": [
             [
              0,
              "#0d0887"
             ],
             [
              0.1111111111111111,
              "#46039f"
             ],
             [
              0.2222222222222222,
              "#7201a8"
             ],
             [
              0.3333333333333333,
              "#9c179e"
             ],
             [
              0.4444444444444444,
              "#bd3786"
             ],
             [
              0.5555555555555556,
              "#d8576b"
             ],
             [
              0.6666666666666666,
              "#ed7953"
             ],
             [
              0.7777777777777778,
              "#fb9f3a"
             ],
             [
              0.8888888888888888,
              "#fdca26"
             ],
             [
              1,
              "#f0f921"
             ]
            ],
            "type": "heatmap"
           }
          ],
          "heatmapgl": [
           {
            "colorbar": {
             "outlinewidth": 0,
             "ticks": ""
            },
            "colorscale": [
             [
              0,
              "#0d0887"
             ],
             [
              0.1111111111111111,
              "#46039f"
             ],
             [
              0.2222222222222222,
              "#7201a8"
             ],
             [
              0.3333333333333333,
              "#9c179e"
             ],
             [
              0.4444444444444444,
              "#bd3786"
             ],
             [
              0.5555555555555556,
              "#d8576b"
             ],
             [
              0.6666666666666666,
              "#ed7953"
             ],
             [
              0.7777777777777778,
              "#fb9f3a"
             ],
             [
              0.8888888888888888,
              "#fdca26"
             ],
             [
              1,
              "#f0f921"
             ]
            ],
            "type": "heatmapgl"
           }
          ],
          "histogram": [
           {
            "marker": {
             "pattern": {
              "fillmode": "overlay",
              "size": 10,
              "solidity": 0.2
             }
            },
            "type": "histogram"
           }
          ],
          "histogram2d": [
           {
            "colorbar": {
             "outlinewidth": 0,
             "ticks": ""
            },
            "colorscale": [
             [
              0,
              "#0d0887"
             ],
             [
              0.1111111111111111,
              "#46039f"
             ],
             [
              0.2222222222222222,
              "#7201a8"
             ],
             [
              0.3333333333333333,
              "#9c179e"
             ],
             [
              0.4444444444444444,
              "#bd3786"
             ],
             [
              0.5555555555555556,
              "#d8576b"
             ],
             [
              0.6666666666666666,
              "#ed7953"
             ],
             [
              0.7777777777777778,
              "#fb9f3a"
             ],
             [
              0.8888888888888888,
              "#fdca26"
             ],
             [
              1,
              "#f0f921"
             ]
            ],
            "type": "histogram2d"
           }
          ],
          "histogram2dcontour": [
           {
            "colorbar": {
             "outlinewidth": 0,
             "ticks": ""
            },
            "colorscale": [
             [
              0,
              "#0d0887"
             ],
             [
              0.1111111111111111,
              "#46039f"
             ],
             [
              0.2222222222222222,
              "#7201a8"
             ],
             [
              0.3333333333333333,
              "#9c179e"
             ],
             [
              0.4444444444444444,
              "#bd3786"
             ],
             [
              0.5555555555555556,
              "#d8576b"
             ],
             [
              0.6666666666666666,
              "#ed7953"
             ],
             [
              0.7777777777777778,
              "#fb9f3a"
             ],
             [
              0.8888888888888888,
              "#fdca26"
             ],
             [
              1,
              "#f0f921"
             ]
            ],
            "type": "histogram2dcontour"
           }
          ],
          "mesh3d": [
           {
            "colorbar": {
             "outlinewidth": 0,
             "ticks": ""
            },
            "type": "mesh3d"
           }
          ],
          "parcoords": [
           {
            "line": {
             "colorbar": {
              "outlinewidth": 0,
              "ticks": ""
             }
            },
            "type": "parcoords"
           }
          ],
          "pie": [
           {
            "automargin": true,
            "type": "pie"
           }
          ],
          "scatter": [
           {
            "fillpattern": {
             "fillmode": "overlay",
             "size": 10,
             "solidity": 0.2
            },
            "type": "scatter"
           }
          ],
          "scatter3d": [
           {
            "line": {
             "colorbar": {
              "outlinewidth": 0,
              "ticks": ""
             }
            },
            "marker": {
             "colorbar": {
              "outlinewidth": 0,
              "ticks": ""
             }
            },
            "type": "scatter3d"
           }
          ],
          "scattercarpet": [
           {
            "marker": {
             "colorbar": {
              "outlinewidth": 0,
              "ticks": ""
             }
            },
            "type": "scattercarpet"
           }
          ],
          "scattergeo": [
           {
            "marker": {
             "colorbar": {
              "outlinewidth": 0,
              "ticks": ""
             }
            },
            "type": "scattergeo"
           }
          ],
          "scattergl": [
           {
            "marker": {
             "colorbar": {
              "outlinewidth": 0,
              "ticks": ""
             }
            },
            "type": "scattergl"
           }
          ],
          "scattermapbox": [
           {
            "marker": {
             "colorbar": {
              "outlinewidth": 0,
              "ticks": ""
             }
            },
            "type": "scattermapbox"
           }
          ],
          "scatterpolar": [
           {
            "marker": {
             "colorbar": {
              "outlinewidth": 0,
              "ticks": ""
             }
            },
            "type": "scatterpolar"
           }
          ],
          "scatterpolargl": [
           {
            "marker": {
             "colorbar": {
              "outlinewidth": 0,
              "ticks": ""
             }
            },
            "type": "scatterpolargl"
           }
          ],
          "scatterternary": [
           {
            "marker": {
             "colorbar": {
              "outlinewidth": 0,
              "ticks": ""
             }
            },
            "type": "scatterternary"
           }
          ],
          "surface": [
           {
            "colorbar": {
             "outlinewidth": 0,
             "ticks": ""
            },
            "colorscale": [
             [
              0,
              "#0d0887"
             ],
             [
              0.1111111111111111,
              "#46039f"
             ],
             [
              0.2222222222222222,
              "#7201a8"
             ],
             [
              0.3333333333333333,
              "#9c179e"
             ],
             [
              0.4444444444444444,
              "#bd3786"
             ],
             [
              0.5555555555555556,
              "#d8576b"
             ],
             [
              0.6666666666666666,
              "#ed7953"
             ],
             [
              0.7777777777777778,
              "#fb9f3a"
             ],
             [
              0.8888888888888888,
              "#fdca26"
             ],
             [
              1,
              "#f0f921"
             ]
            ],
            "type": "surface"
           }
          ],
          "table": [
           {
            "cells": {
             "fill": {
              "color": "#EBF0F8"
             },
             "line": {
              "color": "white"
             }
            },
            "header": {
             "fill": {
              "color": "#C8D4E3"
             },
             "line": {
              "color": "white"
             }
            },
            "type": "table"
           }
          ]
         },
         "layout": {
          "annotationdefaults": {
           "arrowcolor": "#2a3f5f",
           "arrowhead": 0,
           "arrowwidth": 1
          },
          "autotypenumbers": "strict",
          "coloraxis": {
           "colorbar": {
            "outlinewidth": 0,
            "ticks": ""
           }
          },
          "colorscale": {
           "diverging": [
            [
             0,
             "#8e0152"
            ],
            [
             0.1,
             "#c51b7d"
            ],
            [
             0.2,
             "#de77ae"
            ],
            [
             0.3,
             "#f1b6da"
            ],
            [
             0.4,
             "#fde0ef"
            ],
            [
             0.5,
             "#f7f7f7"
            ],
            [
             0.6,
             "#e6f5d0"
            ],
            [
             0.7,
             "#b8e186"
            ],
            [
             0.8,
             "#7fbc41"
            ],
            [
             0.9,
             "#4d9221"
            ],
            [
             1,
             "#276419"
            ]
           ],
           "sequential": [
            [
             0,
             "#0d0887"
            ],
            [
             0.1111111111111111,
             "#46039f"
            ],
            [
             0.2222222222222222,
             "#7201a8"
            ],
            [
             0.3333333333333333,
             "#9c179e"
            ],
            [
             0.4444444444444444,
             "#bd3786"
            ],
            [
             0.5555555555555556,
             "#d8576b"
            ],
            [
             0.6666666666666666,
             "#ed7953"
            ],
            [
             0.7777777777777778,
             "#fb9f3a"
            ],
            [
             0.8888888888888888,
             "#fdca26"
            ],
            [
             1,
             "#f0f921"
            ]
           ],
           "sequentialminus": [
            [
             0,
             "#0d0887"
            ],
            [
             0.1111111111111111,
             "#46039f"
            ],
            [
             0.2222222222222222,
             "#7201a8"
            ],
            [
             0.3333333333333333,
             "#9c179e"
            ],
            [
             0.4444444444444444,
             "#bd3786"
            ],
            [
             0.5555555555555556,
             "#d8576b"
            ],
            [
             0.6666666666666666,
             "#ed7953"
            ],
            [
             0.7777777777777778,
             "#fb9f3a"
            ],
            [
             0.8888888888888888,
             "#fdca26"
            ],
            [
             1,
             "#f0f921"
            ]
           ]
          },
          "colorway": [
           "#636efa",
           "#EF553B",
           "#00cc96",
           "#ab63fa",
           "#FFA15A",
           "#19d3f3",
           "#FF6692",
           "#B6E880",
           "#FF97FF",
           "#FECB52"
          ],
          "font": {
           "color": "#2a3f5f"
          },
          "geo": {
           "bgcolor": "white",
           "lakecolor": "white",
           "landcolor": "white",
           "showlakes": true,
           "showland": true,
           "subunitcolor": "#C8D4E3"
          },
          "hoverlabel": {
           "align": "left"
          },
          "hovermode": "closest",
          "mapbox": {
           "style": "light"
          },
          "paper_bgcolor": "white",
          "plot_bgcolor": "white",
          "polar": {
           "angularaxis": {
            "gridcolor": "#EBF0F8",
            "linecolor": "#EBF0F8",
            "ticks": ""
           },
           "bgcolor": "white",
           "radialaxis": {
            "gridcolor": "#EBF0F8",
            "linecolor": "#EBF0F8",
            "ticks": ""
           }
          },
          "scene": {
           "xaxis": {
            "backgroundcolor": "white",
            "gridcolor": "#DFE8F3",
            "gridwidth": 2,
            "linecolor": "#EBF0F8",
            "showbackground": true,
            "ticks": "",
            "zerolinecolor": "#EBF0F8"
           },
           "yaxis": {
            "backgroundcolor": "white",
            "gridcolor": "#DFE8F3",
            "gridwidth": 2,
            "linecolor": "#EBF0F8",
            "showbackground": true,
            "ticks": "",
            "zerolinecolor": "#EBF0F8"
           },
           "zaxis": {
            "backgroundcolor": "white",
            "gridcolor": "#DFE8F3",
            "gridwidth": 2,
            "linecolor": "#EBF0F8",
            "showbackground": true,
            "ticks": "",
            "zerolinecolor": "#EBF0F8"
           }
          },
          "shapedefaults": {
           "line": {
            "color": "#2a3f5f"
           }
          },
          "ternary": {
           "aaxis": {
            "gridcolor": "#DFE8F3",
            "linecolor": "#A2B1C6",
            "ticks": ""
           },
           "baxis": {
            "gridcolor": "#DFE8F3",
            "linecolor": "#A2B1C6",
            "ticks": ""
           },
           "bgcolor": "white",
           "caxis": {
            "gridcolor": "#DFE8F3",
            "linecolor": "#A2B1C6",
            "ticks": ""
           }
          },
          "title": {
           "x": 0.05
          },
          "xaxis": {
           "automargin": true,
           "gridcolor": "#EBF0F8",
           "linecolor": "#EBF0F8",
           "ticks": "",
           "title": {
            "standoff": 15
           },
           "zerolinecolor": "#EBF0F8",
           "zerolinewidth": 2
          },
          "yaxis": {
           "automargin": true,
           "gridcolor": "#EBF0F8",
           "linecolor": "#EBF0F8",
           "ticks": "",
           "title": {
            "standoff": 15
           },
           "zerolinecolor": "#EBF0F8",
           "zerolinewidth": 2
          }
         }
        },
        "title": {
         "text": "The 20 biggest communities distribution of features"
        },
        "xaxis": {
         "anchor": "y",
         "domain": [
          0,
          0.2888888888888889
         ]
        },
        "xaxis2": {
         "anchor": "y2",
         "domain": [
          0.35555555555555557,
          0.6444444444444445
         ]
        },
        "xaxis3": {
         "anchor": "y3",
         "domain": [
          0.7111111111111111,
          1
         ]
        },
        "yaxis": {
         "anchor": "x",
         "autorange": "reversed",
         "domain": [
          0,
          1
         ]
        },
        "yaxis2": {
         "anchor": "x2",
         "domain": [
          0,
          1
         ],
         "matches": "y",
         "showticklabels": false
        },
        "yaxis3": {
         "anchor": "x3",
         "domain": [
          0,
          1
         ],
         "matches": "y",
         "showticklabels": false
        }
       }
      }
     },
     "metadata": {},
     "output_type": "display_data"
    }
   ],
   "source": [
    "fig = make_subplots(rows=1, cols=3,shared_yaxes=True,subplot_titles=('Gender (%)','Nationality  (%)','Occupation (%)'))\n",
    "\n",
    "fig.add_trace(go.Bar( x=features['Males_%'], y=features['Community'],orientation='h',name = 'male',marker={'color':color_dict['male_%']}),\n",
    "                row=1, col=1\n",
    ")\n",
    "fig.add_trace(go.Bar( x=features['Females_%'], y=features['Community'],orientation='h',name = 'female',marker={'color':color_dict['female_%']}, legendgroup=1 ),\n",
    "                row=1, col=1\n",
    ")\n",
    "#Country column\n",
    "for label in countries.columns:\n",
    "    fig.add_trace(\n",
    "        go.Bar( x=countries[label], y=countries.index,orientation='h',name = label,marker={'color':color_dict[label]}, legendgroup=2),\n",
    "        row=1, col=2\n",
    "    )\n",
    "\n",
    "# Occupation column\n",
    "for label in occupations.columns:\n",
    "    fig.add_trace(\n",
    "        go.Bar( x=occupations[label], y=occupations.index,orientation='h',name = label,marker={'color':color_dict[label]}, legendgroup=3),\n",
    "        row=1, col=3\n",
    "    )\n",
    "fig.update_layout(height = 800, title_text=\"The 20 biggest communities distribution of features\")\n",
    "fig.update_layout(barmode = 'stack',template = 'plotly_white')\n",
    "fig['layout']['yaxis']['autorange'] = \"reversed\"\n",
    "\n",
    "fig.show()\n",
    "#fig.write_html('C:/Users/Public/ADA2022/weloic.github.io/_includes/top20_characterisation.html')\n",
    "\n"
   ]
  },
  {
   "cell_type": "code",
   "execution_count": 65,
   "metadata": {},
   "outputs": [
    {
     "data": {
      "text/html": [
       "<div>\n",
       "<style scoped>\n",
       "    .dataframe tbody tr th:only-of-type {\n",
       "        vertical-align: middle;\n",
       "    }\n",
       "\n",
       "    .dataframe tbody tr th {\n",
       "        vertical-align: top;\n",
       "    }\n",
       "\n",
       "    .dataframe thead th {\n",
       "        text-align: right;\n",
       "    }\n",
       "</style>\n",
       "<table border=\"1\" class=\"dataframe\">\n",
       "  <thead>\n",
       "    <tr style=\"text-align: right;\">\n",
       "      <th></th>\n",
       "      <th>Freebase_actor_ID</th>\n",
       "      <th>connectivity</th>\n",
       "      <th>Community</th>\n",
       "      <th>Wikidata_ID</th>\n",
       "      <th>actor_country_of_citizenship</th>\n",
       "      <th>actor_occupation</th>\n",
       "      <th>Actor_date_of_birth</th>\n",
       "      <th>actor_gender</th>\n",
       "      <th>Actor_name</th>\n",
       "    </tr>\n",
       "  </thead>\n",
       "  <tbody>\n",
       "    <tr>\n",
       "      <th>6020</th>\n",
       "      <td>/m/0k525</td>\n",
       "      <td>89</td>\n",
       "      <td>20</td>\n",
       "      <td>Q203215</td>\n",
       "      <td>Sweden</td>\n",
       "      <td>['television actor', 'film director', 'directo...</td>\n",
       "      <td>1929-04-10</td>\n",
       "      <td>M</td>\n",
       "      <td>Max von Sydow</td>\n",
       "    </tr>\n",
       "    <tr>\n",
       "      <th>6021</th>\n",
       "      <td>/m/0c9jt9</td>\n",
       "      <td>70</td>\n",
       "      <td>20</td>\n",
       "      <td>Q524529</td>\n",
       "      <td>Sweden</td>\n",
       "      <td>['actor', 'film actor']</td>\n",
       "      <td>1909-11-13</td>\n",
       "      <td>M</td>\n",
       "      <td>Gunnar Björnstrand</td>\n",
       "    </tr>\n",
       "    <tr>\n",
       "      <th>6022</th>\n",
       "      <td>/m/07khbj</td>\n",
       "      <td>55</td>\n",
       "      <td>20</td>\n",
       "      <td>Q234921</td>\n",
       "      <td>Sweden</td>\n",
       "      <td>['stage actor', 'film actor']</td>\n",
       "      <td>1935-11-11</td>\n",
       "      <td>F</td>\n",
       "      <td>Bibi Andersson</td>\n",
       "    </tr>\n",
       "    <tr>\n",
       "      <th>6023</th>\n",
       "      <td>/m/02rf50d</td>\n",
       "      <td>48</td>\n",
       "      <td>20</td>\n",
       "      <td>Q264921</td>\n",
       "      <td>Sweden</td>\n",
       "      <td>['actor', 'singer', 'film director', 'screenwr...</td>\n",
       "      <td>1924-08-25</td>\n",
       "      <td>M</td>\n",
       "      <td>Allan Edwall</td>\n",
       "    </tr>\n",
       "    <tr>\n",
       "      <th>6024</th>\n",
       "      <td>/m/0b76nbf</td>\n",
       "      <td>44</td>\n",
       "      <td>20</td>\n",
       "      <td>Q371066</td>\n",
       "      <td>Sweden</td>\n",
       "      <td>['actor', 'film actor']</td>\n",
       "      <td>1934-11-30</td>\n",
       "      <td>M</td>\n",
       "      <td>Björn Gustafson</td>\n",
       "    </tr>\n",
       "  </tbody>\n",
       "</table>\n",
       "</div>"
      ],
      "text/plain": [
       "     Freebase_actor_ID  connectivity  Community Wikidata_ID  \\\n",
       "6020          /m/0k525            89         20     Q203215   \n",
       "6021         /m/0c9jt9            70         20     Q524529   \n",
       "6022         /m/07khbj            55         20     Q234921   \n",
       "6023        /m/02rf50d            48         20     Q264921   \n",
       "6024        /m/0b76nbf            44         20     Q371066   \n",
       "\n",
       "     actor_country_of_citizenship  \\\n",
       "6020                       Sweden   \n",
       "6021                       Sweden   \n",
       "6022                       Sweden   \n",
       "6023                       Sweden   \n",
       "6024                       Sweden   \n",
       "\n",
       "                                       actor_occupation Actor_date_of_birth  \\\n",
       "6020  ['television actor', 'film director', 'directo...          1929-04-10   \n",
       "6021                            ['actor', 'film actor']          1909-11-13   \n",
       "6022                      ['stage actor', 'film actor']          1935-11-11   \n",
       "6023  ['actor', 'singer', 'film director', 'screenwr...          1924-08-25   \n",
       "6024                            ['actor', 'film actor']          1934-11-30   \n",
       "\n",
       "     actor_gender          Actor_name  \n",
       "6020            M       Max von Sydow  \n",
       "6021            M  Gunnar Björnstrand  \n",
       "6022            F      Bibi Andersson  \n",
       "6023            M        Allan Edwall  \n",
       "6024            M     Björn Gustafson  "
      ]
     },
     "execution_count": 65,
     "metadata": {},
     "output_type": "execute_result"
    }
   ],
   "source": [
    "datamov20\n",
    "data_actors[data_actors['Community']==20].head(5)"
   ]
  },
  {
   "attachments": {},
   "cell_type": "markdown",
   "metadata": {},
   "source": [
    "## Interelationship"
   ]
  },
  {
   "cell_type": "code",
   "execution_count": 66,
   "metadata": {},
   "outputs": [],
   "source": [
    "relationship = pd.read_csv('./CSV_files/inter-communities-caracteristics.csv')\n",
    "relationship.drop('Unnamed: 0',axis = 1,inplace = True)"
   ]
  },
  {
   "cell_type": "code",
   "execution_count": 67,
   "metadata": {},
   "outputs": [
    {
     "data": {
      "text/plain": [
       "<AxesSubplot:xlabel='Community_2', ylabel='Community_1'>"
      ]
     },
     "execution_count": 67,
     "metadata": {},
     "output_type": "execute_result"
    },
    {
     "data": {
      "image/png": "[encoded data removed]",
      "text/plain": [
       "<Figure size 432x288 with 2 Axes>"
      ]
     },
     "metadata": {
      "needs_background": "light"
     },
     "output_type": "display_data"
    }
   ],
   "source": [
    "relation_matrix = relationship.pivot_table(index='Community_1',columns='Community_2',values='count')\n",
    "sns.heatmap(relation_matrix,norm = LogNorm())"
   ]
  },
  {
   "attachments": {},
   "cell_type": "markdown",
   "metadata": {},
   "source": [
    "## India"
   ]
  },
  {
   "cell_type": "code",
   "execution_count": 69,
   "metadata": {},
   "outputs": [
    {
     "data": {
      "application/vnd.plotly.v1+json": {
       "config": {
        "plotlyServerURL": "https://plot.ly"
       },
       "data": [
        {
         "name": "3",
         "type": "box",
         "x": [
          1984,
          1986,
          1977,
          2006,
          1993,
          1976,
          2003,
          1972,
          1997,
          1986,
          1990,
          1977,
          1995,
          1971,
          1991,
          2000,
          2009,
          1977,
          1965,
          1964,
          1990,
          1967,
          1974,
          2002,
          1954,
          1998,
          2013,
          2007,
          2012,
          1983,
          1972,
          1971,
          1989,
          2009,
          2011,
          2001,
          null,
          1978,
          1954,
          1964,
          2004,
          1990,
          2007,
          1963,
          2005,
          1986,
          1988,
          1994,
          2007,
          1959,
          1995,
          null,
          1989,
          1998,
          2012,
          2008,
          2007,
          2009,
          1988,
          1985,
          2002,
          2009,
          1992,
          1993,
          2004,
          1985,
          1997,
          1999,
          2002,
          1974,
          1979,
          2010,
          2010,
          1996,
          1954,
          1975,
          1992,
          1985,
          1997,
          1995,
          2010,
          1982,
          1954,
          1992,
          1985,
          2000,
          1996,
          1954,
          2010,
          1986,
          1964,
          null,
          1988,
          1956,
          null,
          2011,
          2005,
          2007,
          null,
          2013,
          1979,
          1993,
          1988,
          1995,
          1974,
          null,
          2006,
          1988,
          2005,
          1997,
          2003,
          1979,
          1990,
          2005,
          2005,
          1982,
          1994,
          2012,
          null,
          1993,
          2013,
          2004,
          1976,
          1983,
          1995,
          2008,
          1995,
          2010,
          1997,
          2000,
          1970,
          1981,
          1965,
          2003,
          2002,
          1985,
          2008,
          1970,
          1981,
          1973,
          2008,
          2006,
          2008,
          1970,
          1974,
          1973,
          1986,
          null,
          1978,
          2001,
          null,
          1984,
          1997,
          1999,
          1966,
          1959,
          2010,
          1999,
          null,
          2009,
          2007,
          1959,
          2007,
          1992,
          1995,
          1988,
          1994,
          2005,
          1983,
          1990,
          2008,
          2003,
          2008,
          2005,
          null,
          1987,
          1997,
          1958,
          2005,
          1977,
          1980,
          null,
          2010,
          1970,
          1998,
          1978,
          1980,
          1994,
          1984,
          1994,
          2003,
          1983,
          1982,
          2012,
          2003,
          2004,
          1991,
          1981,
          1977,
          1973,
          2007,
          1999,
          1998,
          1990,
          1977,
          2001,
          2003,
          2007,
          1975,
          1985,
          1980,
          1993,
          null,
          1955,
          2007,
          2010,
          null,
          2010,
          2007,
          null,
          1973,
          2008,
          null,
          1996,
          2003,
          null,
          2011,
          1965,
          1972,
          null,
          2003,
          1963,
          1974,
          null,
          1995,
          1997,
          1994,
          2002,
          1954,
          1987,
          2008,
          2009,
          1997,
          2003,
          null,
          1982,
          2007,
          1969,
          1972,
          1995,
          2003,
          1993,
          1967,
          1974,
          2001,
          1947,
          2004,
          1994,
          1970,
          1967,
          1989,
          1962,
          1978,
          1981,
          2010,
          1999,
          2011,
          1996,
          2000,
          1976,
          2005,
          1990,
          2010,
          1981,
          1986,
          2012,
          1986,
          2009,
          1992,
          2008,
          1999,
          1975,
          1996,
          1962,
          1961,
          2011,
          1982,
          1968,
          1974,
          1994,
          2011,
          2003,
          2001,
          2012,
          2006,
          1961,
          2007,
          1991,
          2008,
          1966,
          1997,
          null,
          null,
          null,
          2006,
          2006,
          1992,
          1981,
          2012,
          1987,
          1991,
          1994,
          2006,
          1992,
          1995,
          1956,
          2005,
          1983,
          1971,
          1998,
          1975,
          2009,
          1965,
          1975,
          1984,
          2010,
          1969,
          1973,
          2005,
          2011,
          1972,
          2003,
          2006,
          1951,
          1996,
          1978,
          1972,
          1994,
          1967,
          1978,
          1985,
          1971,
          1984,
          1999,
          2011,
          2011,
          1975,
          2003,
          1988,
          1989,
          1967,
          2008,
          2008,
          1961,
          null,
          1962,
          1977,
          1971,
          null,
          null,
          2008,
          1991,
          1981,
          1994,
          1990,
          1964,
          1996,
          1985,
          2004,
          2000,
          1995,
          2008,
          1970,
          1957,
          1974,
          1990,
          2000,
          1970,
          1987,
          2001,
          2005,
          1982,
          1995,
          1986,
          1996,
          1993,
          2010,
          2009,
          1984,
          2010,
          2008,
          1998,
          null,
          2002,
          2004,
          1981,
          1956,
          1973,
          2004,
          1965,
          1974,
          2010,
          2005,
          1998,
          1991,
          2005,
          1970,
          2010,
          2011,
          1992,
          1980,
          2009,
          1982,
          2011,
          1979,
          1977,
          null,
          1969,
          1989,
          1973,
          1968,
          1985,
          2006,
          1969,
          2011,
          2004,
          1975,
          1997,
          1964,
          2002,
          1980,
          1985,
          1991,
          2003,
          2010,
          2013,
          1971,
          1998,
          2006,
          1969,
          2006,
          1991,
          1948,
          2000,
          1979,
          2001,
          1978,
          1980,
          2010,
          2008,
          2008,
          2012,
          2001,
          2004,
          2003,
          null,
          2008,
          1960,
          1960,
          1977,
          null,
          2004,
          1983,
          1971,
          1983,
          2007,
          2007,
          2007,
          2004,
          1983,
          1978,
          2011,
          2009,
          1988,
          1995,
          1994,
          2002,
          1996,
          1969,
          2010,
          1989,
          1974,
          1955,
          1988,
          2009,
          1971,
          2007,
          2001,
          1974,
          1990,
          1995,
          1984,
          2010,
          1993,
          2008,
          null,
          2004,
          2004,
          2011,
          1978,
          1998,
          1979,
          1974,
          2009,
          2001,
          1996,
          2005,
          1986,
          null,
          1999,
          1993,
          2001,
          1977,
          1982,
          2009,
          1998,
          1976,
          2009,
          1974,
          1968,
          2009,
          1959,
          2009,
          1981,
          2006,
          1978,
          2010,
          2010,
          1955,
          1999,
          1999,
          1984,
          1961,
          1975,
          1967,
          1961,
          1980,
          2001,
          1996,
          1989,
          1957,
          2008,
          1975,
          1988,
          1975,
          1983,
          1967,
          1947,
          1967,
          1984,
          1991,
          2009,
          null,
          2011,
          1991,
          2008,
          1983,
          2010,
          1985,
          1996,
          2009,
          1988,
          2004,
          2003,
          1961,
          1986,
          2002,
          1979,
          2010,
          2010,
          1976,
          1984,
          1973,
          1984,
          1991,
          1995,
          1971,
          1961,
          1983,
          2005,
          2003,
          1977,
          1999,
          1987,
          null,
          1977,
          2006,
          1972,
          1985,
          1999,
          1998,
          1993,
          1988,
          null,
          null,
          2009,
          2004,
          1946,
          1973,
          2004,
          1966,
          2007,
          2002,
          2004,
          1999,
          1998,
          1980,
          1977,
          2003,
          1991,
          null,
          null,
          1988,
          1977,
          2009,
          1998,
          2011,
          2008,
          1968,
          1982,
          1964,
          1990,
          2001,
          2003,
          1998,
          1982,
          2003,
          1988,
          1955,
          1981,
          1954,
          1973,
          1989,
          1998,
          1989,
          2004,
          1971,
          1981,
          2001,
          1999,
          1966,
          1986,
          2008,
          null,
          2007,
          2003,
          1980,
          1991,
          null,
          1992,
          null,
          2005,
          1955,
          1979,
          1996,
          1999,
          1970,
          1979,
          2003,
          1982,
          2002,
          1989,
          1972,
          2008,
          1964,
          2005,
          1991,
          1998,
          1983,
          2005,
          1978,
          1969,
          1981,
          1980,
          1993,
          2006,
          1971,
          1980,
          2011,
          1998,
          2011,
          1973,
          1963,
          null,
          1982,
          1996,
          1999,
          2000,
          2007,
          1984,
          1977,
          1970,
          1999,
          1977,
          2002,
          1986,
          1991,
          null,
          2005,
          1967,
          1999,
          null,
          1990,
          2009,
          2002,
          1998,
          1972,
          1993,
          1977,
          1972,
          null,
          1994,
          1974,
          2002,
          null,
          2003,
          2002,
          2003,
          1971,
          1989,
          null,
          1993,
          2011,
          2004,
          1986,
          2003,
          1979,
          1992,
          2007,
          1958,
          1981,
          1990,
          2007,
          1966,
          1975,
          1984,
          2005,
          1977,
          1976,
          1987,
          1999,
          2004,
          null,
          2010,
          1975,
          2006,
          2000,
          2006,
          1976,
          1979,
          2008,
          1995,
          2002,
          1975,
          1979,
          1992,
          1997,
          1986,
          1962,
          1991,
          1954,
          1981,
          2011,
          2010,
          2002,
          2006,
          1989,
          2008,
          1988,
          2007,
          2007,
          1993,
          1981,
          2007,
          1972,
          1998,
          1964,
          1990,
          2012,
          1990,
          2012,
          2004,
          2001,
          2012,
          1985,
          1954,
          1978,
          1988,
          2004,
          1967,
          null,
          1954,
          null,
          null,
          1992,
          1979,
          2004,
          2005,
          1967,
          2005,
          1948,
          1993,
          null,
          1993,
          2007,
          2010,
          2000,
          2002,
          1973,
          2011,
          1959,
          1990,
          2009,
          2006,
          2007,
          1981,
          1988,
          2011,
          2010,
          1976,
          1962,
          2000,
          2007,
          2009,
          null,
          2002,
          1973,
          2005,
          2005,
          1989,
          2000,
          2009,
          null,
          1995,
          1993,
          1988,
          null,
          2002,
          1990,
          2010,
          1989,
          2010,
          1960,
          1993,
          2008,
          1997,
          2009,
          2006,
          2005,
          1975,
          2011,
          2013,
          2002,
          1980,
          1958,
          null,
          1961,
          2007,
          1950,
          1983,
          2006,
          1991,
          1968,
          1995,
          2006,
          1972,
          1993,
          1975,
          1991,
          2004,
          1954,
          1977,
          1988,
          2009,
          1983,
          null,
          2009,
          1998,
          2005,
          null,
          2002,
          1975,
          2005,
          null,
          2010,
          2008,
          2000,
          2005,
          1983,
          2011,
          2010,
          1971,
          null,
          2012,
          1983,
          1971,
          2007,
          1987,
          1993,
          1998,
          2012,
          1999,
          2007,
          1987,
          2008,
          1974,
          1973,
          1994,
          2005,
          1999,
          1961,
          1971,
          1968,
          2013,
          1995,
          1987,
          1999,
          1996,
          1971,
          1987,
          2008,
          1993,
          2002,
          1976,
          1988,
          1993,
          1981,
          1972,
          1981,
          2006,
          1972,
          2009,
          1966,
          2008,
          1974,
          2009,
          2005,
          2008,
          1979,
          2010,
          2002,
          2009,
          1970,
          2008,
          2001,
          2007,
          1963,
          1982,
          1971,
          1980,
          1974,
          1993,
          1983,
          1990,
          1978,
          2012,
          1958,
          2005,
          2009,
          1996,
          1995,
          1993,
          1993,
          1981,
          2006,
          1960,
          1992,
          1991,
          1993,
          1966,
          1985,
          1985,
          1969,
          2008,
          1977,
          1983,
          1965,
          2011,
          1981,
          2002,
          1981,
          1968,
          1982,
          2008,
          1998,
          1985,
          1990,
          1995,
          2000,
          null,
          1984,
          1992,
          2007,
          2010,
          2010,
          2010,
          1996,
          1992,
          1981,
          null,
          2007,
          1980,
          1955,
          1972,
          1973,
          2011,
          1960,
          null,
          1984,
          2005,
          1996,
          null,
          1958,
          1981,
          2004,
          1982,
          1997,
          1993,
          1977,
          1999,
          2001,
          1973,
          2000,
          1992,
          2009,
          2011,
          1982,
          1967,
          1980,
          1982,
          1996,
          1967,
          2005,
          2011,
          2006,
          2003,
          1970,
          2001,
          1978,
          1979,
          1973,
          null,
          2011,
          1945,
          2009,
          1953,
          1994,
          1999,
          2005,
          1963,
          2008,
          2010,
          2002,
          1963,
          1952,
          null,
          1978,
          2008,
          null,
          1952,
          2011,
          1972,
          2009,
          1993,
          1999,
          1968,
          2001,
          2011,
          1949,
          1986,
          1978,
          null,
          1996,
          2010,
          1971,
          1975,
          2008,
          1991,
          1984,
          2006,
          1992,
          1986,
          1978,
          2005,
          2012,
          1993,
          1986,
          1982,
          2010,
          2007,
          1987,
          2011,
          2004,
          null,
          2011,
          1971,
          1978,
          2005,
          1994,
          1980,
          2006,
          2000,
          1962,
          2005,
          1991,
          1972,
          1998,
          null,
          null,
          1992,
          1997,
          1986,
          2012,
          1980,
          1956,
          1971,
          1979,
          1992,
          1962,
          2008,
          2008,
          1973,
          1999,
          2008,
          1977,
          1975,
          2005,
          1976,
          1986,
          1990,
          1975,
          2000,
          1965,
          1968,
          1986,
          1979,
          2003,
          1997,
          1989,
          1989,
          1985,
          2001,
          1983,
          1980,
          2006,
          2000,
          1974,
          1986,
          1996,
          1988,
          1970,
          2008,
          2010,
          1993,
          1993,
          null,
          1973,
          2011,
          2010,
          2008,
          2001,
          1980,
          1972,
          1984,
          1967,
          1972,
          null,
          null,
          2011,
          1989,
          1981,
          1999,
          2001,
          2005,
          1993,
          2009,
          1990,
          1991,
          1986,
          1979,
          1998,
          1978,
          1971,
          1973,
          1993,
          2009,
          1984,
          2009,
          2004,
          1971,
          1951,
          1955,
          1972,
          2005,
          2010,
          1997,
          1960,
          1973,
          2001,
          1994,
          1996,
          2012,
          null,
          1995,
          1965,
          2011,
          1982,
          2008,
          1993,
          1960,
          1988,
          2011,
          1996,
          2010,
          1984,
          1965,
          1999,
          1996,
          null,
          2008,
          1991,
          1996,
          null,
          1979,
          2011,
          2006,
          2011,
          1971,
          1966,
          1995,
          2012,
          1990,
          1960,
          1997,
          1988,
          2009,
          null,
          2007,
          1981,
          2012,
          2007,
          1981,
          1973,
          1991,
          1977,
          2002,
          2001,
          2000,
          1990,
          1992,
          1960,
          1971,
          2002,
          1973,
          1998,
          2007,
          2005,
          1981,
          1972,
          2008,
          2005,
          2010,
          1957,
          2008,
          null,
          1987,
          null,
          1996,
          1992,
          1989,
          2012,
          2005,
          2010,
          1998,
          1956,
          1988,
          null,
          2004,
          2006,
          1993,
          2000,
          2007,
          2012,
          2003,
          1987,
          1995,
          2006,
          1987,
          1957,
          2005,
          2012,
          1976,
          2007,
          2003,
          1986,
          1972,
          1975,
          2008,
          1981,
          1964,
          1983,
          1992,
          1986,
          2007,
          2012,
          2008,
          2006,
          1984,
          1982,
          1981,
          1991,
          1998,
          2012,
          null,
          2011,
          2012,
          1994,
          1997,
          1991,
          1979,
          1993,
          null,
          2009,
          1990,
          2000,
          null,
          1974,
          1985,
          1978,
          null,
          2004,
          2004,
          2011,
          2002,
          2011,
          1973,
          2011,
          1980,
          2002,
          1941,
          1963,
          2007,
          1984,
          2007,
          1983,
          1990,
          null,
          1987,
          1954,
          1996,
          1973,
          2011,
          2009,
          1971,
          1997,
          1999,
          2009,
          1999,
          2011,
          1951,
          1993,
          null,
          1962,
          1950,
          2002,
          1972,
          2010,
          2006,
          1992,
          2005,
          2001,
          null,
          2000,
          null,
          1990,
          null,
          1980,
          1971,
          1968,
          null,
          1957,
          1986,
          2002,
          1977,
          1971,
          2000,
          1968,
          1980,
          1995,
          1990,
          2004,
          1974,
          2009,
          1974,
          1968,
          1962,
          2002,
          1993,
          1971,
          1963,
          1971,
          2005,
          1969,
          1991,
          1979,
          1983,
          2007,
          null,
          1966,
          1999,
          2003,
          1982,
          1960,
          2012,
          null,
          1958,
          1989,
          2011,
          1992,
          1976,
          1992,
          1995,
          2001,
          2012,
          1993,
          2007,
          1966,
          1991,
          2007,
          1969,
          2011,
          1990,
          1979,
          2004,
          1973,
          1978,
          1992,
          1979,
          2000,
          2008,
          2006,
          null,
          2000,
          1974,
          1992,
          2010,
          1977,
          1980,
          2006,
          1992,
          1998,
          2008,
          1980,
          2011,
          2004,
          2009,
          2010,
          2010,
          1955,
          1989,
          2010,
          1978,
          1992,
          2006,
          2012,
          2000,
          1975,
          1990,
          1970,
          2003,
          2007,
          2005,
          1995,
          1958,
          2005,
          2003,
          null,
          2007,
          null,
          1971,
          null,
          1986,
          null,
          1995,
          1970,
          2009,
          2001,
          2012,
          1997,
          1971,
          1983,
          2008,
          2000,
          1990,
          null,
          1991,
          1981,
          null,
          2002,
          1987,
          1984,
          1987,
          2008,
          1996,
          2009,
          1965,
          2007,
          1983,
          1966,
          1981,
          1998,
          2007,
          2001,
          2000,
          1969,
          2003,
          2005,
          2004,
          2012,
          1992,
          1989,
          1996,
          1977,
          null,
          1986,
          2006,
          null,
          1982,
          null,
          2001,
          1974,
          1962,
          2008,
          null,
          1978,
          2010,
          1999,
          2000,
          1968,
          1962,
          1958,
          2009,
          2006,
          1988,
          1978,
          1984,
          2006,
          2002,
          1989,
          1993,
          1982,
          1974,
          1992,
          1999,
          2006,
          2010,
          1956,
          1998,
          1977,
          1995,
          2012,
          1976,
          1955,
          1976,
          1973,
          2003,
          1999,
          1960,
          2009,
          1993,
          2005,
          2000,
          1985,
          1985,
          1983,
          2003,
          2010,
          2011,
          1980,
          2001,
          1991,
          2012,
          1998,
          1967,
          2003,
          2006,
          1962,
          1977,
          1982,
          1990,
          1988,
          1998,
          2000,
          1993,
          null,
          1965,
          2005,
          2010,
          1983,
          2005,
          2011,
          2009,
          1996,
          2012,
          1960,
          1992,
          1972,
          1999,
          1998,
          1975,
          1999,
          2008,
          2010,
          1982,
          2009,
          1979,
          1961,
          1997,
          1976,
          1986,
          1994,
          2003,
          2008,
          null,
          2010,
          1994,
          1986,
          1964,
          1985,
          2009,
          2001,
          1981,
          1985,
          1978,
          1972,
          1948,
          2011,
          1989,
          2005,
          1997,
          1994,
          null,
          1980,
          2004,
          2006,
          2006,
          2010,
          1999,
          1980,
          1958,
          1961,
          1984,
          2000,
          1982,
          1993,
          1984,
          1969,
          2002,
          1986,
          1991,
          1987,
          2008,
          null,
          2012,
          1992,
          1988,
          2010,
          1984,
          2002,
          1980,
          2005,
          2006,
          null,
          2006,
          null,
          1972,
          2003,
          1969,
          2004,
          2004,
          1967,
          null,
          1994,
          2004,
          1983,
          1982,
          1993,
          1996,
          2010,
          2009,
          2007,
          1981,
          2011,
          2011,
          1987,
          1990,
          1977,
          1992,
          2005,
          1993,
          1998,
          null,
          1974,
          1974,
          1990,
          2012,
          1989,
          2006,
          2009,
          2008,
          2005,
          2008,
          1972,
          2008,
          1974,
          1980,
          2009,
          null,
          1989,
          null,
          1965,
          2004,
          1973,
          1994,
          2008,
          1978,
          2004,
          2007,
          1941,
          1991,
          2012,
          1972,
          2011,
          2007,
          1985,
          1955,
          2007,
          1997,
          1999,
          1991,
          1992,
          2008,
          null,
          2008,
          1992,
          1999,
          2009,
          2008,
          2010,
          1978,
          1960,
          1996,
          2009,
          2004,
          2004,
          2009,
          2011,
          1957,
          1977,
          2009,
          1993,
          2011,
          1996,
          1975,
          1996,
          1980,
          1999,
          1962,
          2000,
          2003,
          1960,
          1984,
          2000,
          2002,
          1969,
          1984,
          1972,
          1989,
          null,
          null,
          2012,
          2010,
          1974,
          1991,
          2010,
          2002,
          null,
          2006,
          2010,
          2010,
          2010,
          2008,
          1985,
          1961,
          1997,
          2010,
          null,
          1980,
          1998,
          1996,
          1995,
          2008,
          1985,
          1985,
          null,
          1966,
          null,
          1990,
          1964,
          2006,
          2004,
          1980,
          1972,
          1994,
          null,
          2001,
          1980,
          1984,
          1980,
          1983,
          2001,
          1985,
          1957,
          1970,
          1988,
          1997,
          2005,
          1971,
          1989,
          1992,
          2008,
          1993,
          2006,
          2001,
          1972,
          1988,
          1972,
          2003,
          1991,
          1972,
          2003,
          1977,
          1989,
          2006,
          1995,
          null,
          1970,
          1958,
          1974,
          null,
          1985,
          1999,
          1986,
          1971,
          2008,
          1985,
          1950,
          1973,
          1959,
          1983,
          2009,
          2009,
          1977,
          2009,
          1963,
          2004,
          1971,
          1962,
          2003,
          1998,
          1988,
          1989,
          2006,
          2009,
          1972,
          1972,
          1979,
          2006,
          null,
          2008,
          1990,
          1982,
          2007,
          2000,
          2003,
          2009,
          1976,
          1964,
          1999,
          2001,
          2004,
          1994,
          null,
          1975,
          2006,
          2001,
          1975,
          1969,
          1987,
          1981,
          1970,
          1994,
          1981,
          1993,
          2002,
          1991,
          1972,
          1983,
          2002,
          2005,
          2004,
          2001,
          1994,
          1972,
          2006,
          1997,
          2011,
          1994,
          1995,
          2010,
          1988,
          1989,
          1971,
          2009,
          2010,
          1975,
          1980,
          2006,
          1976,
          1989,
          1996,
          2007,
          2006,
          1974,
          2009,
          1973,
          2006,
          2006,
          2005,
          1975,
          2000,
          1998,
          2010,
          1974,
          1997,
          1988,
          2001,
          2005,
          1993,
          2010,
          2008,
          1974,
          1995,
          1997,
          2007,
          1982,
          1988,
          2004,
          1986,
          1950,
          2010,
          2005,
          1972,
          null,
          1993,
          2010,
          1984,
          2006,
          1971,
          1973,
          1986,
          1991,
          2000,
          1993,
          1970,
          1979,
          1992,
          2009,
          2011,
          1985,
          2009,
          1958,
          2011,
          null,
          1974,
          1956,
          null,
          1989,
          1990,
          1994,
          1968,
          1986,
          1980,
          2002,
          1963,
          null,
          2008,
          2007,
          1967,
          2008,
          1978,
          1994,
          1990,
          1973,
          null,
          1982,
          1999,
          2008,
          2004,
          null,
          1957,
          1991,
          1955,
          1987,
          2004,
          1995,
          1979,
          2012,
          1964,
          null,
          2004,
          2003,
          1987,
          1972,
          2005,
          1976,
          2010,
          1995,
          2004,
          1986,
          1993,
          1974,
          null,
          1976,
          1979,
          2010,
          1982,
          null,
          1988,
          1975,
          2008,
          1990,
          2001,
          1981,
          2000,
          1978,
          1963,
          2012,
          1955,
          1990,
          1987,
          2003,
          1962,
          2007,
          1984,
          2007,
          1989,
          1981,
          2006,
          1957,
          2008,
          1988,
          2011,
          1978,
          2001,
          1971,
          2007,
          1989,
          1991,
          1988,
          1971,
          2011,
          1966,
          null,
          2004,
          1975,
          null,
          2012,
          2003,
          1956,
          2005,
          1965,
          1981,
          2003,
          1996,
          1950,
          1996,
          1960,
          2003,
          1981,
          2007,
          1966,
          1962,
          null,
          1972,
          2012,
          1991,
          1985,
          1960,
          1970,
          1977,
          2008,
          1980,
          1998,
          1981,
          1970,
          1982,
          1968,
          1994,
          2001,
          2002,
          1973,
          2006,
          1990,
          1993,
          1977,
          1971,
          2009,
          1971,
          null,
          2003,
          1989,
          1991,
          1980,
          2006,
          1998,
          1995,
          1966,
          1993,
          2011,
          2002,
          1984,
          2011,
          2009,
          null,
          2006,
          1978,
          1983,
          null,
          2007,
          1984,
          1975,
          2012,
          2009,
          1997,
          1977,
          1973,
          2006,
          2006,
          1986,
          2004,
          2008,
          2002,
          1978,
          1985,
          1995,
          2011,
          2002,
          1951,
          1994,
          1973,
          1959,
          2007,
          1978,
          2007,
          1998,
          2005,
          2012,
          1944,
          1964,
          1970,
          2006,
          1970,
          2006,
          1992,
          2007,
          1992,
          1976,
          2007,
          2002,
          1982,
          null,
          2000,
          1982,
          2012,
          1992,
          2009,
          2006,
          1975,
          2007,
          null,
          1987,
          1961,
          1994,
          2001,
          2012,
          1968,
          1966,
          1986,
          2012,
          2004,
          1967,
          2013,
          null,
          1970,
          2000,
          1997,
          2012,
          2002,
          1950,
          1973,
          1996,
          1986,
          1988,
          1987,
          1979,
          2009,
          2009,
          1966,
          1957,
          null,
          2009,
          2011,
          1993,
          1999,
          2007,
          1979,
          null,
          1955,
          2008,
          null,
          1983,
          1985,
          1986,
          1960,
          2009,
          1977,
          2012,
          1989,
          1989,
          1985,
          null,
          1992,
          1997,
          null,
          2001,
          null,
          1948,
          2007,
          1981,
          null,
          1984,
          1996,
          1975,
          2005,
          1962,
          1992,
          1983,
          1979,
          1988,
          1987,
          null,
          1981,
          2013,
          2012,
          1971,
          2011,
          1987,
          1981,
          2004,
          2008,
          1992,
          1989,
          2008,
          2002,
          2004,
          1973,
          2007,
          1982,
          1977,
          2010,
          1970,
          2008,
          2011,
          2012,
          1971,
          2011,
          1963,
          1953,
          2011,
          1988,
          1978,
          1975,
          2009,
          2007,
          1995,
          1991,
          2008,
          1974,
          1978,
          2012,
          1999,
          1985,
          2003,
          2007,
          1973,
          1994,
          2002,
          2003,
          1964,
          1989,
          1987,
          2004,
          2007,
          1981,
          1990,
          2010,
          1949,
          1970,
          1973,
          2002,
          1989,
          1993,
          1989,
          1999,
          1948,
          1982,
          2007,
          2006,
          1989,
          2008,
          2012,
          2008,
          1991,
          1985,
          1985,
          1991,
          1990,
          1961,
          1968,
          2007,
          null,
          2013,
          1972,
          2008,
          1967,
          1996,
          2011,
          2009,
          2001,
          2008,
          1998,
          1976,
          2005,
          1994,
          2006,
          1980,
          1964,
          1999,
          null,
          2010,
          2003,
          1977,
          2012,
          2006,
          1993,
          2002,
          1994,
          1994,
          1980,
          1971,
          1979,
          1989,
          2008,
          2010,
          1996,
          1980,
          1991,
          null,
          1972,
          1953,
          2011,
          2009,
          1983,
          2005,
          1995,
          1992,
          1950,
          1990,
          2006,
          1998,
          2012,
          1981,
          1969,
          1990,
          1997,
          1988,
          1966,
          1972,
          2004,
          1973,
          1993,
          2003,
          1991,
          1950,
          1981,
          2004,
          1979,
          null,
          2011,
          1960,
          1987,
          2001,
          2008,
          2006,
          2000,
          1991,
          2007,
          2006,
          2003,
          1991,
          1984,
          1957,
          null,
          2008,
          1999,
          1964,
          1999,
          2005,
          2006,
          1979,
          2004,
          2004,
          1979,
          2006,
          2004,
          2007,
          2003,
          1978,
          1993,
          1998,
          1985,
          2000,
          2010,
          1971,
          1985,
          1994,
          1969,
          2005,
          2004,
          null,
          1998,
          1998,
          2004,
          1978,
          1995,
          1974,
          1995,
          1982,
          2001,
          1980,
          1958,
          1976,
          2011,
          2011,
          1979,
          1965,
          2012,
          1992,
          1969,
          1975,
          1999,
          2007,
          2002,
          2007,
          2003,
          2011,
          1976,
          1996,
          1978,
          2004,
          1964,
          1990,
          1985,
          2009,
          2005,
          2011,
          2004,
          1978,
          2007,
          2005,
          1981,
          1963,
          1984,
          1988,
          2011,
          null,
          null,
          1985,
          1983,
          2006,
          1987,
          1985,
          1955,
          1994,
          2000,
          null,
          2011,
          1975,
          2001,
          1999,
          null,
          2004,
          1982,
          1973,
          1978,
          1972,
          1979,
          1999,
          1992,
          2005,
          1973,
          1994,
          1996,
          1970,
          2006,
          2007,
          1986,
          2006,
          1977,
          1986,
          2008,
          2003,
          2004,
          2002,
          2010,
          1970,
          2012,
          2008,
          null,
          1967,
          2005,
          2003,
          1967,
          2009,
          2011,
          1997,
          1973,
          1998,
          1994,
          1984,
          1987,
          2012,
          1955,
          2005,
          null,
          2011,
          1991,
          1982,
          1964,
          1992,
          1983,
          1999,
          2004,
          1986,
          1990,
          1960,
          2010,
          1940,
          1993,
          1984,
          1970,
          1977,
          2009,
          2004,
          1986,
          null,
          2009,
          2008,
          2006,
          1997,
          2007,
          2005,
          1990,
          1989,
          null,
          1980,
          null,
          1976,
          1958,
          2003,
          1988,
          1976,
          1984,
          2012,
          1959,
          2008,
          1977,
          1976,
          null,
          2010,
          2002,
          1987,
          1997,
          2009,
          1990,
          null,
          null,
          1999,
          2015,
          1983,
          2006,
          2012,
          1978,
          2008,
          2005,
          1980,
          2004,
          2002,
          1975,
          null,
          1962,
          1948,
          null,
          1991,
          1989,
          1978,
          2008,
          1982,
          1985,
          1973,
          2005,
          1984,
          1993,
          1978,
          1994,
          1964,
          1973,
          2008,
          2009,
          null,
          1991,
          2009,
          2011,
          1989,
          2012,
          1985,
          1969,
          1982,
          2004,
          2013,
          1973,
          2008,
          null,
          2008,
          1991,
          1962,
          1986,
          2004,
          2009,
          2006,
          1978,
          1992,
          1970,
          1972,
          1975,
          1979,
          1994,
          2012,
          null,
          1959,
          1971,
          2008,
          2006,
          1976,
          null,
          1993,
          1976,
          1985,
          1976,
          1971,
          1953,
          1983,
          2009,
          2007,
          null,
          1991,
          null,
          1977,
          2010,
          2006,
          null,
          2011,
          1974,
          1971,
          2010,
          2011,
          2012,
          1991,
          1995,
          1969,
          1989,
          1963,
          null,
          2000,
          1998,
          1993,
          1976,
          2006,
          1997,
          2003,
          1959,
          1996,
          1994,
          1987,
          1971,
          null,
          1977,
          2012,
          null,
          1974,
          1982,
          1979,
          1980,
          2011,
          1978,
          2004,
          1989,
          2001,
          1999,
          2010,
          1993,
          1982,
          1964,
          1972,
          1979,
          2010,
          2007,
          1988,
          2004,
          1977,
          1985,
          1981,
          2004,
          1970,
          1999,
          1994,
          1996,
          1999,
          2008,
          1964,
          1985,
          2001,
          1971,
          2006,
          null,
          2008,
          null,
          2008,
          1992,
          2010,
          1978,
          1985,
          1989,
          2005,
          1991,
          1961,
          null,
          2006,
          2010,
          1993,
          1971,
          1960,
          1968,
          2010,
          2012,
          2000,
          2005,
          1975,
          1949,
          1990,
          1996,
          null,
          1991,
          1970,
          2011,
          2001,
          1991,
          1984,
          1990,
          2004,
          1960,
          1958,
          1970,
          1998,
          1952,
          1982,
          1985,
          2002,
          1971,
          1974,
          2001,
          1998,
          2002,
          1976,
          2000,
          2005,
          2009,
          1979,
          2009,
          2005,
          1991,
          1972,
          1982,
          2005,
          2008,
          1966,
          1970,
          2000,
          2007,
          1992,
          1970,
          2010,
          1993,
          2005,
          1983,
          1969,
          2002,
          2000,
          1981,
          null,
          1973,
          1983,
          1976,
          2006,
          1971,
          1985,
          2004,
          2011,
          1989,
          2005,
          2009,
          1988,
          1998,
          2006,
          1988,
          1957,
          1992,
          1996,
          null,
          1970,
          null,
          2001,
          1984,
          1995,
          1984,
          2008,
          1977,
          2003,
          1974,
          1997,
          1973,
          1984,
          1982,
          1962,
          1977,
          2002,
          1959,
          2004,
          1965,
          1991,
          1991,
          1981,
          2001,
          2009,
          1979,
          2011,
          1979,
          1979,
          1970,
          2010,
          1985,
          2008,
          null,
          1977,
          2011,
          1979,
          2004,
          1977,
          null,
          2010,
          1993,
          2008,
          2002,
          1989,
          1972,
          2011,
          1986,
          2002,
          2004,
          1972,
          null,
          1988,
          1997,
          1999,
          1982,
          2011,
          1975,
          1988,
          1999,
          2000,
          1992,
          1994,
          2003,
          2011,
          2006,
          1965,
          1963,
          1994,
          1951,
          1978,
          1956,
          2003,
          2009,
          1981,
          1987,
          1984,
          null,
          2005,
          2004,
          1988,
          1976,
          1961,
          2000,
          1978,
          1959,
          2007,
          2003,
          1977,
          1961,
          null,
          2001,
          1971,
          2012,
          1993,
          1979,
          1992,
          2011,
          1997,
          null,
          1990,
          1972,
          1972,
          2010,
          2012,
          2001,
          1971,
          2005,
          1964,
          1975,
          2001,
          2003,
          2004,
          1951,
          null,
          2010,
          2010,
          null,
          1966,
          1997,
          1993,
          1983,
          1977,
          2009,
          1980,
          1968,
          1967,
          1996,
          1981,
          2000,
          null,
          1998,
          2008,
          2000,
          2002,
          2001,
          1998,
          2003,
          1973,
          1975,
          2008,
          2006,
          2008,
          1981,
          1973,
          2010,
          1961,
          2008,
          2001,
          2009,
          2004,
          2006,
          1977,
          2007,
          1985,
          2004,
          1985,
          1966,
          2007,
          1992,
          2002,
          1998,
          1964,
          1988,
          1999,
          1986,
          1975,
          2004,
          2009,
          2004,
          1958,
          1997,
          1994,
          2002,
          1973,
          2009,
          1991,
          2001,
          2007,
          1971,
          2000,
          2006,
          1995,
          2008,
          1981,
          1991,
          1990,
          2009,
          1989,
          1999,
          2003,
          2011,
          2012,
          1980,
          2001,
          2010,
          1977,
          1988,
          2009,
          2012,
          2000,
          1960,
          null,
          2008,
          1992,
          1985,
          2003,
          1950,
          1979,
          2007,
          2000,
          2010,
          1998,
          2005,
          1969,
          1978,
          1963,
          2002,
          1979,
          1995,
          2010,
          1989,
          1987,
          1981,
          2012,
          2012,
          2004,
          2003,
          1969,
          1964,
          1963,
          1984,
          2004,
          2004,
          1962,
          1972,
          2005,
          1977,
          2004,
          1977,
          1977,
          2003,
          2005,
          1992,
          1966,
          1952,
          2002,
          2000,
          1985,
          2008,
          2006,
          2011,
          2005,
          1978,
          1970,
          2011,
          2007,
          1985,
          1963,
          1990,
          2004,
          null,
          1980,
          2002,
          1982,
          1977,
          1990,
          1979,
          2007,
          1998,
          1965,
          1974,
          1972,
          2009,
          1997,
          2008,
          2005,
          2012,
          2011,
          1968,
          1972,
          1992,
          2010,
          1995,
          1978,
          null,
          1979,
          2009,
          2009,
          1984,
          2013,
          null,
          1971,
          1967,
          2003,
          2000,
          2005,
          1997,
          2000,
          1985,
          2000,
          2004,
          1967,
          1982,
          1984,
          1982,
          2001,
          1974,
          1989,
          1974,
          2012,
          1967,
          1994,
          2009,
          1996,
          2005,
          2003,
          1977,
          2009,
          1981,
          1980,
          2006,
          2009,
          null,
          2008,
          1999,
          1998,
          1988,
          1987,
          null,
          1997,
          1958,
          1975,
          2002,
          1975,
          1958,
          1980,
          1989,
          1997,
          2010,
          1982,
          2006,
          null,
          2000,
          2003,
          2012,
          1987,
          1983,
          1995,
          2006,
          2009,
          2003,
          1962,
          1992,
          2007,
          1992,
          1977,
          1969,
          2005,
          1980,
          1981,
          1976,
          null,
          2007,
          1991,
          2007,
          2010,
          1999,
          1982,
          2013,
          1964,
          1995,
          1980,
          2001,
          1970,
          1975,
          2003,
          2009,
          1999,
          1996,
          2001,
          1988,
          2007,
          2011,
          2007,
          1976,
          2008,
          null,
          1997,
          1997,
          2004,
          1972,
          2008,
          1980,
          2009,
          1965,
          1990,
          1953,
          1986,
          2005,
          1997,
          2006,
          1995,
          2009,
          2009,
          1973,
          1976,
          2012,
          1984,
          2006,
          1975,
          2008,
          2007,
          1997,
          2010,
          1986,
          2005,
          2011,
          1975,
          2003,
          1999,
          1981,
          2011,
          1988,
          1997,
          1992,
          2006,
          2008,
          2010,
          2006,
          2009,
          1966,
          1983,
          1995,
          1981,
          1989,
          null,
          1993,
          1986,
          2005,
          1988,
          1991,
          1985,
          1975,
          1983,
          2009,
          2007,
          2006,
          1977,
          1961,
          1999,
          1991,
          2007,
          2012,
          null,
          1993,
          2002,
          2001,
          1983,
          2002,
          2001,
          1980,
          2011,
          1977,
          2002,
          1997,
          2010,
          2000,
          1962,
          1993,
          1982,
          2010,
          2002,
          2006,
          2007,
          1992,
          null,
          2005,
          1999,
          2006,
          1974,
          1973,
          2010,
          1998,
          2003,
          1958,
          2006,
          1978,
          1984,
          1995,
          2008,
          1991,
          1988,
          1999,
          2003,
          null,
          2004,
          2011,
          null,
          2009,
          1970,
          1958,
          2008,
          2007,
          2001,
          2008,
          1972,
          2006,
          1986,
          null,
          1980,
          2012,
          1983,
          1996,
          1970,
          1963,
          2001,
          1982,
          1978,
          1966,
          1987,
          1976,
          1976,
          2009,
          1996,
          1993,
          2004,
          1998,
          1993,
          1977,
          1987,
          1992,
          2009,
          1989,
          1999,
          1991,
          1960,
          1951,
          1995,
          1999,
          2010,
          null,
          1991,
          2010,
          1970,
          1977,
          2007,
          null,
          2002,
          1983,
          2005,
          2005,
          2006,
          1991,
          2011,
          2009,
          2003,
          1979,
          2006,
          1996,
          null,
          1966,
          1993,
          1979,
          1986,
          null,
          2012,
          2007,
          1998,
          1956,
          1993,
          1972,
          1995,
          2003,
          1996,
          1995,
          1984,
          1993,
          2005,
          2001,
          1973,
          1998,
          1989,
          2011,
          1968,
          2007,
          2012,
          2006,
          1992,
          1994,
          null,
          1986,
          2003,
          2008,
          2005,
          1941,
          null,
          2007,
          2000,
          2010,
          1978,
          1971,
          2009,
          1987,
          1987,
          2012,
          2012,
          2012,
          null,
          null,
          2000,
          1983,
          1992,
          2011,
          2002,
          1993,
          1985,
          1981,
          2004,
          2009,
          2009,
          1999,
          1996,
          1992,
          1998,
          1953,
          1991,
          1999,
          2011,
          2010,
          2005,
          1984,
          2011,
          1952,
          null,
          1978,
          1986,
          2001,
          null,
          1982,
          1997,
          1961,
          1943,
          1995,
          1988,
          2005,
          1949,
          1990,
          1975,
          1986,
          2012,
          1999,
          1992,
          2010,
          2006,
          1998,
          1984,
          1988,
          1989,
          2010,
          1977,
          1951,
          1981,
          2004,
          2008,
          2008,
          1990,
          1995,
          1980,
          1997,
          1977,
          2010,
          1978,
          1979,
          2009,
          2005,
          2007,
          1967,
          1957,
          1980,
          2010,
          1999,
          1976,
          1977,
          2011,
          2005,
          1991,
          1979,
          null,
          2006,
          2001,
          2000,
          2011,
          null,
          1957,
          1994,
          1970,
          1997,
          2002,
          2010,
          2012,
          1995,
          1994,
          1998,
          2006,
          2006,
          1991,
          1977,
          1980,
          2006,
          1972,
          1989,
          2002,
          1996,
          2001,
          2007,
          1974,
          1978,
          1977,
          1986,
          1995,
          1980,
          1981,
          2008,
          1965,
          1978,
          2008,
          1994,
          1948,
          2005,
          1969,
          2000,
          2011,
          2002,
          1978,
          1975,
          2010,
          1966,
          1994,
          1998,
          1998,
          2003,
          1994,
          1982,
          2003,
          1969,
          1990,
          1991,
          2004,
          2006,
          1965,
          null,
          1941,
          1988,
          1985,
          1994,
          1998,
          2009,
          1973,
          1980,
          1969,
          2008,
          2003,
          2010,
          2003,
          2002,
          2009,
          1979,
          2005,
          1958,
          null,
          1979,
          2009,
          1966,
          1999,
          1973,
          2004,
          1973,
          1968,
          2009,
          2008,
          1982,
          null,
          1986,
          1971,
          2010,
          1971,
          2008,
          1994,
          2009,
          1976,
          1975,
          1971,
          1943,
          1972,
          1979,
          1997,
          1960,
          2005,
          2003,
          2008,
          2011,
          1977,
          null,
          1974,
          2006,
          2011,
          2007,
          1991,
          1977,
          1995,
          1977,
          null,
          1981,
          2009,
          1960,
          2009,
          1984,
          1980,
          1975,
          2007,
          1978,
          1983,
          1977,
          1972,
          1974,
          2003,
          1978,
          2011,
          2012,
          1998,
          1977,
          2010,
          1953,
          1997,
          null,
          2003,
          1986,
          null,
          1999,
          2006,
          2004,
          2001,
          1986,
          2005,
          1978,
          1983,
          2010,
          2007,
          1966,
          1991,
          1982,
          2005,
          2005,
          2009,
          2011,
          null,
          2001,
          2000,
          2007,
          1996,
          2012,
          1996,
          1982,
          2008,
          1988,
          2005,
          2006,
          2010,
          1992,
          1977,
          2001,
          2006,
          1988,
          1962,
          2007,
          1975,
          2005,
          2010,
          2012,
          2009,
          2010,
          1975,
          1952,
          1990,
          2009,
          1998,
          2012,
          1956,
          2010,
          2004,
          1982,
          2003,
          1975,
          2010,
          2003,
          2006,
          2004,
          1987,
          1959,
          2001,
          1988,
          2008,
          1994,
          2000,
          1976,
          1997,
          1990,
          2009,
          1978,
          1979,
          1963,
          1984,
          2006,
          1966,
          2007,
          1988,
          1991,
          1996,
          2010,
          2007,
          2009,
          1952,
          2011,
          1991,
          1990,
          1972,
          2002,
          1989,
          1992,
          1999,
          2003,
          2000,
          2007,
          2011,
          1985,
          1971,
          2009,
          1996,
          1960,
          2002,
          1982,
          1968,
          1995,
          1991,
          2011,
          2008,
          1975,
          1999,
          2010,
          1980,
          2007,
          null,
          1989,
          null,
          2012,
          2011,
          1982,
          1997,
          2000,
          2010,
          1981,
          1991,
          1983,
          2001,
          1999,
          1960,
          1999,
          1997,
          1983,
          1959,
          2004,
          1973,
          1989,
          1989,
          1948,
          2003,
          1972,
          2002,
          1959,
          null,
          2008,
          1997,
          2005,
          2007,
          1993,
          2010,
          2011,
          2004,
          1996,
          1999,
          1998,
          2000,
          1946,
          2011,
          2003,
          2000,
          1960,
          1995,
          1999,
          1997,
          1955,
          1990,
          2002,
          1981,
          2011,
          1981,
          1994,
          2009,
          1954,
          2006,
          2010,
          2007,
          null,
          2010,
          2004,
          1985,
          1999,
          1998,
          1991,
          2008,
          1986,
          2007,
          1997,
          1943,
          1997,
          2009,
          1996,
          1992,
          1976,
          1980,
          2000,
          1997,
          2009,
          1982,
          1974,
          1977,
          1998,
          2000,
          2004,
          1986,
          1962,
          1957,
          1985,
          1987,
          1971,
          2007,
          2010,
          1982,
          2005,
          1971,
          1993,
          2008,
          1992,
          2012,
          1994,
          1998,
          1975,
          2004,
          1994,
          2004,
          2010,
          1998,
          1995,
          1982,
          2002,
          1985,
          1974,
          1982,
          1975,
          1976,
          1997,
          1950,
          1983,
          1984,
          1984,
          1984,
          1994,
          2002,
          1997,
          1992,
          1990,
          null,
          null,
          1970,
          1984,
          1962,
          2010,
          1976,
          1999,
          null,
          2004,
          1998,
          1962,
          1986,
          1978,
          2006,
          1969,
          2006,
          1954,
          1996,
          1974,
          2007,
          1982,
          1985,
          null,
          1959,
          1989,
          2005,
          1984,
          1971,
          1965,
          2011,
          2000,
          1979,
          null,
          1991,
          1969,
          1977,
          1971,
          1996,
          1980,
          2002,
          2005,
          1972,
          1979,
          1977,
          1971,
          2010,
          null,
          1997,
          1953,
          2005,
          null,
          null,
          1990,
          2002,
          1993,
          1994
         ]
        },
        {
         "name": "5",
         "type": "box",
         "x": [
          2010,
          null,
          1997,
          1990,
          1977,
          1997,
          1998,
          null,
          1968,
          1990,
          1958,
          1993,
          2002,
          1998,
          1966,
          2007,
          1993,
          2006,
          1996,
          1971,
          2007,
          1989,
          2009,
          2010,
          2011,
          2001,
          1942,
          2012,
          1978,
          2011,
          1964,
          2012,
          1983,
          1990,
          2000,
          2005,
          1994,
          1995,
          2000,
          1984,
          null,
          2002,
          1985,
          1993,
          1991,
          2003,
          1997,
          1999,
          1988,
          1967,
          1954,
          null,
          1972,
          2001,
          1992,
          1992,
          2012,
          2010,
          2012,
          1952,
          null,
          2012,
          1994,
          1988,
          null,
          1956,
          null,
          1993,
          1989,
          2009,
          1993,
          1988,
          1995,
          1993,
          2009,
          1997,
          1987,
          1993,
          1994,
          1997,
          2008,
          2009,
          2005,
          1982,
          2012,
          1994,
          2013,
          2004,
          1970,
          1962,
          2008,
          1995,
          2008,
          2011,
          1942,
          1983,
          1983,
          2003,
          2011,
          2002,
          1999,
          null,
          2004,
          1998,
          1989,
          2008,
          1957,
          1991,
          1987,
          2001,
          1999,
          1966,
          1997,
          2006,
          2010,
          1973,
          1990,
          1963,
          1963,
          1996,
          2005,
          2012,
          1987,
          1986,
          2005,
          2002,
          2010,
          2005,
          null,
          1987,
          1999,
          1977,
          1977,
          null,
          2002,
          1993,
          2002,
          1994,
          2005,
          2010,
          2003,
          1957,
          2007,
          2003,
          2002,
          2010,
          1969,
          1949,
          2003,
          1982,
          2012,
          2003,
          1991,
          2004,
          2009,
          1999,
          1991,
          2011,
          2008,
          null,
          2011,
          2004,
          1992,
          2008,
          1978,
          1977,
          1964,
          2007,
          1994,
          null,
          2003,
          null,
          null,
          1993,
          2005,
          2009,
          1981,
          2009,
          1996,
          1954,
          1996,
          2005,
          1954,
          2003,
          2008,
          1998,
          1997,
          null,
          2008,
          null,
          1987,
          null,
          2002,
          2010,
          1954,
          2008,
          1995,
          2010,
          2001,
          1947,
          2009,
          2010,
          1961,
          2001,
          1992,
          2009,
          2010,
          1967,
          2011,
          1999,
          1992,
          1982,
          null,
          2004,
          2005,
          2010,
          2004,
          1965,
          2008,
          2012,
          1960,
          1996,
          2010,
          1999,
          1981,
          1985,
          2001,
          1952,
          2002,
          1946,
          1976,
          1977,
          1999,
          2010,
          2010,
          2011,
          2003,
          2004,
          null,
          1953,
          2008,
          2006,
          1961,
          2008,
          1991,
          2008,
          2007,
          1992,
          2005,
          1981,
          1986,
          2006,
          1994,
          1987,
          1981,
          2006,
          1992,
          1998,
          1989,
          1956,
          1976,
          1998,
          1958,
          1976,
          2001,
          1988,
          2008,
          2003,
          2002,
          1990,
          1994,
          1973,
          2003,
          1974,
          1996,
          1972,
          1994,
          1969,
          1967,
          1999,
          1992,
          1999,
          1995,
          1995,
          1962,
          1965,
          1941,
          2005,
          2008,
          2011,
          2001,
          2003,
          2000,
          1966,
          1968,
          1977,
          1977,
          2008,
          1996,
          1977,
          2007,
          1965,
          2000,
          1974,
          2012,
          1975,
          1986,
          1966,
          1996,
          1982,
          1999,
          2005,
          2007,
          2008,
          1985,
          1956,
          1980,
          2011,
          1947,
          1984,
          2010,
          1979,
          2008,
          2007,
          2002,
          2004,
          1999,
          1956,
          1990,
          2004,
          2010,
          1991,
          1998,
          1991,
          1950,
          1980,
          2004,
          2002,
          2002,
          2011,
          2011,
          null,
          1972,
          2008,
          2007,
          1986,
          1969,
          1962,
          1948,
          null,
          2000,
          null,
          1975,
          2003,
          1962,
          1991,
          1938,
          1984,
          2010,
          1969,
          1986,
          1994,
          2008,
          1998,
          1973,
          1998,
          1998,
          null,
          2006,
          null,
          1979,
          2001,
          1978,
          2008,
          2008,
          2007,
          null,
          2007,
          2003,
          1968,
          2008,
          null,
          1949,
          2004,
          2003,
          1992,
          2007,
          1972,
          2007,
          1983,
          2010,
          1996,
          1998,
          2004,
          1951,
          2005,
          2004,
          2012,
          2002,
          1995,
          2001,
          1989,
          1973,
          2010,
          null,
          2009,
          1963,
          1993,
          2006,
          1995,
          1984,
          2010,
          2009,
          2008,
          2005,
          2010,
          2004,
          2004,
          2004,
          2004,
          1956,
          1980,
          1962,
          1946,
          2001,
          1977,
          2006,
          1999,
          2009,
          1968,
          1952,
          1954,
          1996,
          2010,
          1968,
          1968,
          1991,
          2004,
          2002,
          2011,
          2002,
          1995,
          1957,
          1958,
          2001,
          1955,
          2010,
          2012,
          1997,
          2000,
          1994,
          1986,
          1989,
          2007,
          1991,
          1967,
          2010,
          1986,
          2002,
          2001,
          null,
          1989,
          1971,
          2000,
          1950,
          2001,
          null,
          1991,
          2008,
          null,
          2004,
          1986,
          1988,
          2008,
          2012,
          2006,
          2011,
          2009,
          1960,
          2010,
          2010,
          1989,
          2009,
          1973,
          1991,
          1961,
          2003,
          null,
          1949,
          1990,
          2006,
          1973,
          1995,
          1999,
          1998,
          2010,
          2006,
          1998,
          1998,
          1961,
          1990,
          1988,
          2002,
          2009,
          1973,
          2013,
          2004,
          1993,
          null,
          2011,
          2004,
          1999,
          1985,
          1980,
          1990,
          1998,
          1997,
          null,
          2011,
          1996,
          1943,
          1982,
          2000,
          1981,
          1999,
          1990,
          1983,
          2003,
          1988,
          2008,
          2004,
          1987,
          1991,
          null,
          1989,
          1989,
          2012,
          1967,
          2006,
          null,
          2007,
          1966,
          2009,
          2008,
          2008,
          1982,
          1994,
          null,
          2007,
          1988,
          1941,
          1992,
          1988,
          1993,
          2002,
          2004,
          2005,
          2006,
          2004,
          2001,
          2003,
          1991,
          2004,
          1971,
          1990,
          1996,
          2011,
          1996,
          2005,
          2009,
          2009,
          1993,
          1958,
          1981,
          1987,
          1997,
          1980,
          1993,
          2005,
          1982,
          2008,
          2006,
          1987,
          1998,
          1973,
          1993,
          null,
          1996,
          1999,
          1961,
          2000,
          null,
          1990,
          1971,
          1941,
          1992,
          2002,
          1955,
          1999,
          null,
          1995,
          null,
          1980,
          1956,
          1987,
          1994,
          1998,
          1989,
          1988,
          1960,
          1994,
          2008,
          2009,
          2003,
          2002,
          2009,
          1990,
          null,
          1964,
          2005,
          1993,
          2010,
          2009,
          1960,
          2004,
          1983,
          1996,
          2001,
          1967,
          2009,
          1978,
          2012,
          2007,
          1966,
          2007,
          2012,
          1984,
          1968,
          1963,
          1999,
          2004,
          1986,
          2001,
          2010,
          1987,
          1993,
          1998,
          1983,
          2006,
          2006,
          1985,
          2005,
          2011,
          2007,
          2007,
          1993,
          1994,
          1986,
          2013,
          1995,
          2012,
          1989,
          1991,
          1988,
          null,
          1990,
          2012,
          2004,
          1997,
          1966,
          2012,
          1954,
          1992,
          2004,
          1983,
          null,
          2004,
          2005,
          null,
          1961,
          2009,
          2010,
          1956,
          null,
          null,
          1999,
          2011,
          1959,
          null,
          1990,
          2009,
          null,
          2007,
          2007,
          2007,
          1969,
          1984,
          2009,
          null,
          1997,
          1989,
          2002,
          2010,
          1984,
          null,
          2007,
          2001,
          1996,
          1993,
          1956,
          2008,
          1985,
          1997,
          2009,
          2002,
          2011,
          2009,
          1996,
          2002,
          2009,
          null,
          2001,
          2007,
          2008,
          2008,
          2000,
          2001,
          2008,
          2010,
          1987,
          1998,
          1990,
          2009,
          1949,
          1974,
          1985,
          1940,
          1992,
          1992,
          1972,
          2002,
          1983,
          2004,
          1998,
          2010,
          1947,
          2007,
          1960,
          1975,
          null,
          2006,
          2002,
          1975,
          1996,
          1993,
          1987,
          2001,
          2010,
          2000,
          1971,
          1992,
          2007,
          2000,
          2006,
          2005,
          1993,
          1964,
          2010,
          null,
          null,
          1996,
          1972,
          1961,
          1998,
          null,
          1996,
          1999,
          2003,
          1984,
          1999,
          1957,
          2012,
          2008,
          1996,
          2005,
          1984,
          1987,
          2002,
          1977,
          1988,
          1979,
          2008,
          1993,
          null,
          2001,
          2006,
          1975,
          2001,
          1959,
          2009,
          2005,
          2008,
          1979,
          1970,
          1993,
          2011,
          2010,
          1985,
          1986,
          1997,
          1996,
          2005,
          1996,
          1993,
          1960,
          1985,
          2011,
          2009,
          1965,
          2001,
          1990,
          2008,
          2000,
          1998,
          1962,
          1985,
          1990,
          2009,
          1978,
          2008,
          null,
          1984,
          1992,
          1992,
          1992,
          2005,
          2006,
          2002,
          1981,
          2011,
          2010,
          2003,
          2005,
          1982,
          1994,
          2004,
          1968,
          1969,
          null,
          1981,
          2000,
          1967,
          1967,
          2009,
          2004,
          1993,
          2011,
          1975,
          2005,
          2009,
          2006,
          2003,
          2008,
          1974,
          1978,
          1964,
          1997,
          2006,
          2010,
          2011,
          2001,
          2009,
          1953,
          1994,
          2008,
          1964,
          2008,
          2011,
          2004,
          1999,
          1995,
          2007,
          2011,
          1983,
          null,
          2003,
          1974,
          1983,
          2002,
          2006,
          1973,
          1954,
          2008,
          1962,
          1991,
          2003,
          1992,
          1978,
          1990,
          2005,
          2008,
          2012,
          1985,
          2009,
          1986,
          2002,
          2005,
          2004,
          2006,
          null,
          2004,
          1993,
          2001,
          1993,
          2006,
          2000,
          1962,
          1998,
          null,
          2010,
          1992,
          1986,
          2002,
          2001,
          2012,
          1980,
          2009,
          1957,
          1979,
          2005,
          1982,
          2000,
          1992,
          2003,
          1983,
          null,
          2000,
          2009,
          1992,
          null,
          1990,
          null,
          null,
          1965,
          1983,
          2009,
          1997,
          1973,
          1969,
          1997,
          1957,
          1990,
          2005,
          2008,
          null,
          2007,
          2001,
          1983,
          2006,
          2001,
          2013,
          1983,
          1983,
          2008,
          1968,
          1990,
          1999,
          2008,
          2006,
          null,
          2005,
          1988,
          2000,
          1981,
          1996,
          1994,
          2010,
          2012,
          2008,
          2003,
          2011,
          1971,
          1968,
          1981,
          2010,
          2006,
          2009,
          1990,
          1998,
          2004,
          2010,
          1953,
          2004,
          2004,
          2005,
          2011,
          1995,
          2004,
          1965,
          2005,
          1950,
          2003,
          1978,
          2002,
          null,
          1997,
          1960,
          1941,
          1961,
          1951,
          2011,
          2008,
          1993,
          2010,
          1974,
          1954,
          1999,
          2012,
          1986,
          1982,
          1954,
          1965,
          1999,
          1979,
          2007,
          1984,
          1975,
          1969,
          1995,
          2012,
          1997,
          null,
          1977,
          1977,
          1987,
          1988,
          1977,
          1963,
          2007,
          2007,
          null,
          2003,
          2005,
          2010,
          1984,
          2002,
          2004,
          2002,
          2011,
          2003,
          1991,
          2006,
          1959,
          1996,
          2001,
          1983,
          2002,
          2006,
          1971,
          2008,
          1961,
          1988,
          2010,
          1993,
          1984,
          1993,
          2008,
          1975,
          2000,
          null,
          1996,
          2012,
          1996,
          2010,
          2009,
          2009,
          1973,
          2000,
          2003,
          null,
          1953,
          2009,
          1965,
          1995,
          2006,
          1987,
          2011,
          2005,
          2010,
          2006,
          2012,
          2000,
          2012,
          2003,
          1984,
          1974,
          1991,
          1962,
          1981,
          1990,
          2012,
          2006,
          2000,
          1995,
          2001,
          1991,
          null,
          1983,
          2010,
          1991,
          2009,
          1985,
          null,
          2011,
          2002,
          null,
          2004,
          null,
          1986,
          2008,
          2008,
          2006,
          2011,
          2012,
          2000,
          1944,
          2011,
          1964,
          2004,
          2007,
          2007,
          2010,
          1976,
          2012,
          1987,
          1971,
          2005,
          2008,
          1994,
          1991,
          2009,
          2009,
          1989,
          1986,
          2010,
          null,
          null,
          2010,
          1950,
          1953,
          1981,
          2008,
          1963,
          1980,
          1982,
          2000,
          1975,
          null,
          2004,
          1972,
          2003,
          1993,
          1975,
          1990,
          null,
          1980,
          2000,
          2002,
          2010,
          2010,
          1988,
          1969,
          2000,
          2005,
          1939,
          2003,
          2008,
          1993,
          2011,
          2010,
          2002,
          2010,
          2010,
          1993,
          1957,
          1993,
          1996,
          null,
          2005,
          2007,
          1998,
          2000,
          1966,
          2003,
          1997,
          null,
          null,
          1997,
          1945,
          null,
          1958,
          1992,
          1992,
          2003,
          2007,
          2011,
          2007,
          2004,
          1978,
          1992,
          1979,
          2006,
          null,
          2008,
          1992,
          1979,
          2000,
          2006,
          1985,
          1998,
          2005,
          2009,
          2005,
          1998,
          2010,
          2000,
          1999,
          1950,
          2003,
          2004,
          1980,
          1997,
          2004,
          2006,
          2005,
          null,
          2012,
          2008,
          2013,
          1955,
          2004,
          1981,
          1965,
          1983,
          1976,
          1966,
          2004,
          2008,
          1990,
          2007,
          1987,
          1974,
          1951,
          1976,
          2000,
          1966,
          1981,
          1985,
          1984,
          1986,
          1984,
          2001,
          2007,
          1965,
          2011,
          2007,
          1986,
          1974,
          2007,
          1983,
          2000,
          2005,
          2004,
          2004,
          1987,
          1999,
          2012,
          null,
          2003,
          1989,
          2009,
          1989,
          1989,
          1974,
          null,
          2003,
          2001,
          2008,
          1962,
          2006,
          2008,
          null,
          2008,
          1993,
          2001,
          1989,
          2005,
          1992,
          2006,
          1970,
          2011,
          1995,
          1975,
          1985,
          1985,
          2003,
          1983,
          1991,
          1987,
          1981,
          1995,
          1992,
          2012,
          1967,
          2012,
          1964,
          1998,
          2008,
          2006,
          2000,
          1982,
          1990,
          1998,
          2000,
          1990,
          null,
          1991,
          1995,
          2009,
          2005,
          1989,
          2007,
          1984,
          2000,
          2005,
          1959,
          1998,
          2008,
          1998,
          2008,
          2006,
          1992,
          1948,
          2008,
          1986,
          1992,
          2007,
          1994,
          1985,
          1960,
          1998,
          1967,
          null,
          1992,
          2011,
          1979,
          2011,
          1971,
          1980,
          1971,
          1999,
          1997,
          1994,
          2004,
          1995,
          1958,
          2010,
          2007,
          1960,
          1957,
          1985,
          1970,
          1986,
          1985,
          1987,
          2002,
          2006,
          2005,
          1991,
          2002,
          null,
          null,
          2003,
          1980,
          2006,
          1987,
          2006,
          2006,
          null,
          1970,
          2010,
          1998,
          1993,
          1996,
          2009,
          1999,
          2008,
          2007,
          null,
          1990,
          1981,
          2011,
          2007,
          2006,
          1998,
          2002,
          1998,
          1964,
          1999,
          1996,
          2011,
          1993,
          2005,
          2006,
          1990,
          2005,
          2004,
          1968,
          1988,
          1994,
          2009,
          2005,
          1974,
          1980,
          2006,
          1965,
          2008,
          2004,
          1949,
          2007,
          2012,
          2006,
          1976,
          1953,
          2012,
          1999,
          2012,
          2002,
          2007,
          2005,
          2005,
          1996,
          1992,
          2006,
          2008,
          1969,
          2008,
          1996,
          2002,
          2004,
          2011,
          1957,
          2001,
          2012,
          1996,
          1972,
          2007,
          1999,
          2000,
          2004,
          2000,
          1943,
          2002,
          1999,
          1984,
          1972,
          null,
          2011,
          1997,
          1998,
          null,
          null,
          1994,
          1985,
          2010,
          1993,
          1985,
          2001,
          2009,
          null,
          2006,
          2010,
          2010,
          1997,
          null,
          2010,
          2011,
          1985,
          1998,
          1996,
          1985,
          2003,
          1979,
          1985,
          2007,
          2006,
          2007,
          1982,
          1972,
          2004,
          2010,
          1978,
          1986,
          2001,
          1979,
          2008,
          1961,
          2005,
          2001,
          2010,
          2006,
          2001,
          1997,
          2003,
          1999,
          1993,
          1977,
          null,
          2006,
          1987,
          1982,
          1957,
          2011,
          2012,
          1993,
          1978,
          2005,
          2009,
          2009,
          2008,
          1977,
          1970,
          2002,
          1990,
          1945,
          2004,
          2004,
          2012,
          2003,
          2003,
          1999,
          2001,
          2001,
          1961,
          1985,
          2007,
          1999,
          2009,
          1964,
          1969,
          1979,
          2008,
          1982,
          1962,
          2007,
          2005,
          1985,
          1995,
          2001,
          1995,
          2002,
          2001,
          2005,
          1987,
          1999,
          1994,
          2008,
          null,
          1993,
          1990,
          1941,
          1983,
          2009,
          1965,
          1986,
          2012,
          1997,
          1987,
          1995,
          2010,
          2007,
          null,
          1942,
          2010,
          1991,
          2007,
          1996,
          1974,
          2009,
          1968,
          2007,
          2000,
          null,
          1998,
          1989,
          1997,
          2003,
          2012,
          2007,
          1982,
          2008,
          2008,
          1958,
          1999,
          1982,
          2003,
          1971,
          1976,
          1982,
          1997,
          2004,
          2009,
          1988,
          1988,
          1989,
          2009,
          2005,
          1936,
          1978,
          1993,
          1978,
          1992,
          1978,
          1968,
          1986,
          1956,
          null,
          1994,
          1982,
          1986,
          2005,
          2011,
          2002,
          1963,
          1993,
          null,
          2011,
          2007,
          1978,
          1995,
          1978,
          1985,
          2010,
          null,
          2008,
          2004,
          2005,
          1987,
          2001,
          2012,
          1978,
          2009,
          1978,
          2005,
          1967,
          1986,
          1991,
          1989,
          1990,
          1993,
          1954,
          2007,
          1996,
          1999,
          2009,
          1962,
          2004,
          1986,
          1997,
          1985,
          2010,
          2003,
          1989,
          1985,
          2001,
          1957,
          1989,
          2008,
          1997,
          1978,
          2011,
          2012,
          2009,
          1988,
          2007,
          2004,
          1954,
          2007,
          2008,
          1981,
          2008,
          2008,
          1985,
          1964,
          2008,
          2001,
          2011,
          2005,
          1974,
          null,
          2012,
          null,
          2003,
          1971,
          2001,
          1990,
          1996,
          1959,
          1957,
          1980,
          1996,
          2007,
          null,
          1954,
          1985,
          2011,
          null,
          1996,
          2003,
          1979,
          1998,
          1971,
          1992,
          2006,
          1994,
          2008,
          2008,
          1953,
          2002,
          1980,
          2000,
          1981,
          1982,
          1977,
          1972,
          1977,
          1943,
          2006,
          1999,
          2000,
          1962,
          2003,
          1980,
          1983,
          2005,
          2005,
          2006,
          2008,
          2009,
          2008,
          1989,
          1958,
          1983,
          1987,
          2009,
          2007,
          2006,
          1982,
          2008,
          1986,
          1955,
          2002,
          2001,
          1979,
          1985,
          1993,
          1993,
          2011,
          2012,
          1994,
          2007,
          2006,
          1991,
          2007,
          2005,
          2012,
          1970,
          1997,
          2001,
          1985,
          1972,
          1992,
          2009,
          1988,
          1995,
          2002,
          null,
          null,
          1988,
          2008,
          1936,
          2012,
          1996,
          1966,
          2012,
          2006,
          1965,
          2004,
          2000,
          1997,
          1988,
          1965,
          null,
          1979,
          2007,
          2009,
          2009,
          1982,
          1996,
          1955,
          1987,
          1960,
          1999,
          1965,
          2006,
          1987,
          1987,
          2001,
          null,
          1988,
          2012,
          1991,
          2007,
          1964,
          1989,
          1981,
          2011,
          1953,
          1943,
          1996,
          1955,
          1954,
          2006,
          2005,
          2003,
          2007,
          2010,
          1987,
          2012,
          1963,
          2006,
          2004,
          2008,
          2003,
          1992,
          2003,
          null,
          2006,
          2009,
          2004,
          2006,
          null,
          1993,
          2000,
          2007,
          1996,
          2012,
          2011,
          2011,
          2012,
          2005,
          2004,
          1972,
          2003,
          1964,
          2006,
          2004,
          2008,
          1997,
          1988,
          1994,
          1979,
          1994,
          2007,
          2009,
          2012,
          1994,
          2012,
          2003,
          2002,
          2008,
          1955,
          2003,
          1999,
          1987,
          null,
          1986,
          2010,
          1997,
          1996,
          2002,
          2001,
          1999,
          1991,
          null,
          null,
          null,
          1956,
          2002,
          2007,
          1989,
          2001,
          2008,
          1990,
          2008,
          2011,
          1973,
          2007,
          2013,
          1939,
          2009,
          2002,
          1996,
          2003,
          1996,
          2009,
          2001,
          1977,
          1975,
          2011,
          1994,
          2006,
          1940,
          null,
          2006,
          1998,
          1997,
          2005,
          1982,
          2003,
          null,
          1993,
          2002,
          1994,
          1980,
          null,
          2004,
          1982,
          1978,
          1989,
          2008,
          2010,
          1980,
          null,
          2012,
          1977,
          1996,
          1999,
          1981,
          null,
          1981,
          1985,
          null,
          1995,
          1983,
          1993,
          2000,
          2006,
          1999,
          2004,
          2011,
          2007,
          1973,
          1992,
          2006,
          2010,
          1992,
          2009,
          1988,
          1995,
          2006,
          1988,
          1965,
          2004,
          1975,
          null,
          null,
          2005,
          null,
          2004,
          1993,
          1965,
          2003,
          2002,
          1999,
          2007,
          2006,
          2006,
          null,
          1997,
          2005,
          2006,
          2004,
          2007,
          2007,
          1997,
          2011,
          2012,
          null,
          2006,
          1991,
          2009,
          2005,
          2009,
          null,
          1958,
          1995,
          2008,
          1988,
          1964,
          2006,
          1991,
          1993,
          2001,
          2002,
          1979,
          1997,
          2004,
          2005,
          1995,
          2003,
          1981,
          1962,
          1962,
          1956,
          2000,
          1985,
          2005,
          2007,
          2004,
          2007,
          2001,
          1983,
          2007,
          2011,
          2000,
          2001,
          1958,
          1947,
          1964,
          2008,
          2008,
          2011,
          1987,
          2012,
          1980,
          1979,
          1996,
          2012,
          1962,
          2006,
          2007,
          1987,
          1988,
          null,
          2008,
          2007,
          2002,
          1986,
          2008,
          1991,
          1963,
          2011,
          1995,
          1996,
          2009,
          null,
          2008,
          1961,
          1948,
          1995,
          1996,
          2007,
          1955,
          null,
          1983,
          2006,
          2001,
          2002,
          1965,
          2000,
          2010,
          1983,
          1983,
          null,
          null,
          2004,
          1974,
          1998,
          1992,
          1974,
          1972,
          1992,
          2005,
          2005,
          2009,
          2012,
          2002,
          1960,
          2007,
          1986,
          2012,
          2002,
          2008,
          2003,
          2011,
          1990,
          1985,
          2011,
          1981,
          2005,
          2003,
          1967,
          2011,
          1998,
          1997,
          2011,
          2005,
          null,
          null,
          1964,
          2008,
          2003,
          2006,
          2004,
          1978,
          1986,
          2009,
          1998,
          1968,
          2002,
          1993,
          1939,
          1970,
          1995,
          1950,
          1976,
          1985,
          2004,
          1998,
          null,
          2008,
          null,
          1992,
          1937,
          1997,
          null,
          2011,
          2009,
          2005,
          1992,
          1990,
          1995,
          2010,
          1993,
          1990,
          2009,
          1976,
          null,
          2000,
          null,
          null,
          1980,
          null,
          1958,
          2003,
          2001,
          2007,
          2012,
          1959,
          2001,
          2006,
          1954,
          1997,
          2005,
          1985,
          2001,
          2010,
          1983,
          2001,
          2000,
          2008,
          1992,
          1952,
          1984,
          2004,
          1988,
          1963,
          1998,
          1983,
          1999,
          1978,
          null,
          2005,
          2011,
          2010,
          1992,
          2005,
          1999,
          2003,
          1980,
          2009,
          null,
          1992,
          null,
          2012,
          2011,
          1962,
          null,
          1986,
          null,
          1970,
          2012,
          2009,
          2008,
          2005,
          2006,
          2007,
          1937,
          1986,
          1983,
          1981,
          null,
          1974,
          1990,
          2004,
          1972,
          2012,
          null,
          1994,
          1959,
          1988,
          1978,
          1999,
          1977,
          1997,
          1999,
          1997,
          1976,
          2005,
          null,
          2001,
          2003,
          2006,
          2002,
          1959,
          2011,
          1991,
          1997,
          2004,
          null,
          1979,
          1971,
          2003,
          2010,
          2007,
          2003,
          1998,
          2006,
          1997,
          2007,
          1991,
          2000,
          null,
          1998,
          1997,
          2005,
          null,
          2008,
          1956,
          1996,
          1999,
          1973,
          1987,
          1952,
          1989,
          1993,
          1999,
          2002,
          2010,
          1994,
          1995,
          2005,
          2007,
          1977,
          1981,
          2003,
          2004,
          2005,
          2005,
          2007,
          2001,
          2001,
          1963,
          1999,
          1987,
          2009,
          2001,
          2008,
          1962,
          1957,
          2004,
          2007,
          1967,
          1992,
          1978,
          1997,
          1989,
          2001,
          2011,
          1966,
          1982,
          2004,
          1971,
          2006,
          1960,
          null,
          1998,
          1968,
          2000,
          2009,
          1993,
          1999,
          2008,
          2005,
          1954,
          1991,
          1991,
          1981,
          1976,
          1982,
          1968,
          null,
          2009,
          2007,
          1992,
          1984,
          1976,
          2000,
          2000,
          2005,
          null,
          2009,
          1999,
          1985,
          1982,
          1958,
          1969,
          1996,
          1966,
          1999,
          2011,
          2010,
          2007,
          1979,
          2003,
          1991,
          1994,
          2010,
          null,
          2002,
          1970,
          2011,
          2010,
          1993,
          2005,
          2000,
          2004,
          2005,
          1998,
          2010,
          2011,
          2005,
          1964,
          1974,
          1989,
          1992,
          2009,
          2001,
          1989,
          2003,
          1999,
          1960,
          2000,
          1983,
          2010,
          1994,
          2000,
          2002,
          2004,
          2000,
          1965,
          1997,
          1991,
          2001,
          1970,
          2001,
          2009,
          1939,
          1979,
          2011,
          1979,
          2005,
          1957,
          2008,
          1961,
          1977,
          2009,
          2004,
          2002,
          1985,
          2002,
          1991,
          1995,
          2009,
          1985,
          2012,
          1995,
          2005,
          1972,
          1999,
          2012,
          2011,
          1985,
          2006,
          2011,
          2006,
          1990,
          1966,
          1990,
          2000,
          1980,
          null,
          null,
          1993,
          2003,
          2011,
          null,
          1995,
          2007,
          1972,
          1994,
          1957,
          1981,
          2002,
          2003,
          2002,
          null,
          2011,
          2002,
          2008,
          2012,
          1998,
          1944,
          1950,
          2002,
          2003,
          1991,
          1977,
          1998,
          2003,
          1961,
          2001,
          2005,
          2008,
          2008,
          2002,
          1988,
          1997,
          2008,
          2001,
          2012,
          1984,
          1993,
          1989,
          1990,
          1972,
          1972,
          2004,
          1971,
          2010,
          1987,
          2005,
          1982,
          1964,
          1975,
          1975,
          null,
          2004,
          2010,
          1983,
          2009,
          2000,
          1996,
          null,
          2000,
          2006,
          2002,
          1995,
          1998,
          2002,
          2012,
          1995,
          1978,
          1971,
          1982,
          1978,
          2004,
          2000,
          1967,
          1975,
          1984,
          1995,
          1991,
          2008,
          2006,
          1968,
          1990,
          2012,
          1966,
          2012,
          null,
          2008,
          2006,
          2008,
          2000,
          2007,
          1992,
          2010,
          1997,
          1954,
          1936,
          1999,
          2009,
          1985,
          1998,
          2007,
          2009,
          2004,
          2002,
          2002,
          2003,
          2002,
          2004,
          null,
          1992,
          1994,
          2012,
          1958,
          null,
          2009,
          1991,
          2004,
          2001,
          1953,
          2000,
          1990,
          2006,
          null,
          1988,
          2009,
          1989,
          2003,
          2012,
          1964,
          2011,
          1986,
          1956,
          1997,
          1995,
          2002,
          2011,
          1993,
          1964,
          1985,
          2000,
          1992,
          2008,
          2003,
          1983,
          2003,
          2011,
          1971,
          1991,
          2010,
          1995,
          1954,
          2002,
          2006,
          2011,
          2009,
          2004,
          1995,
          2006,
          2007,
          1981,
          1981,
          1980,
          2011,
          1957,
          2005,
          1963,
          1965,
          2004,
          2006,
          2004,
          1971,
          2000,
          1981,
          1967,
          1983,
          2004,
          1984,
          1999,
          2006,
          1978,
          2005,
          1983,
          2011,
          2007,
          2000,
          1999,
          1977,
          2013,
          2006,
          1977,
          2008,
          2004,
          2008,
          2000,
          null,
          1960,
          2005,
          2009,
          2002,
          2009,
          1999,
          1987,
          1998,
          1986,
          1965,
          2012,
          1974,
          1976,
          2005,
          2012,
          2009,
          2011,
          2003,
          1972,
          null,
          1994,
          2011,
          1984,
          1989,
          1995,
          1978,
          2005,
          1993,
          1979,
          2012,
          2009,
          1999,
          1990,
          null,
          1967,
          2003,
          2000,
          1989,
          1969,
          1997,
          2000,
          1987,
          2004,
          1998,
          2008,
          1967,
          2001,
          2006,
          null,
          2005,
          2012,
          1994,
          1948,
          2009,
          2004,
          2005,
          1996,
          1984,
          2009,
          2007,
          2003,
          1985,
          2002,
          1997,
          1999,
          1999,
          2008,
          1958,
          2013,
          2001,
          1980,
          1993,
          1995,
          1973,
          2006,
          1993,
          2010,
          2012,
          2004,
          2008,
          2003,
          2009,
          1962,
          1957,
          2010,
          1988,
          2004,
          1981,
          2003,
          2003,
          2000,
          1993,
          1980,
          2000,
          1991,
          1988,
          1975,
          2011,
          1978,
          1988,
          null,
          1999,
          2001,
          2007,
          null,
          2007,
          1992,
          null,
          1987,
          1971,
          1997,
          1997,
          1968,
          null,
          1953,
          1997,
          2009,
          2011,
          1990,
          1976,
          2011,
          1978,
          1988,
          1991,
          1975,
          2007,
          1997,
          2012,
          1976,
          1956,
          2010,
          2008,
          1966,
          2005,
          1936,
          2003,
          2003,
          2009,
          1988,
          1976,
          1992,
          1973,
          2006,
          1997,
          2010,
          1989,
          2001,
          1988,
          2012,
          2007,
          1977,
          1978,
          1985,
          1989,
          2006,
          1991,
          null,
          1975,
          1961,
          1994,
          2007,
          2006,
          2008,
          1996,
          1991,
          2009,
          1981,
          1997,
          2005,
          1993,
          2001,
          2008,
          null,
          2001,
          2008,
          1977,
          1993,
          2002,
          2012,
          2002,
          2005,
          2010,
          2000,
          1988,
          2009,
          null,
          1999,
          2006,
          null,
          2006,
          1993,
          1984,
          1961,
          1995,
          2012,
          2008,
          1991,
          null,
          2010,
          null,
          2011,
          1938,
          2009,
          2006,
          2004,
          1945,
          1974,
          1958,
          2007,
          1991,
          1995,
          2008,
          1984,
          1986,
          2005,
          2006,
          1980,
          2008,
          2008,
          1975,
          1966,
          1966,
          1964,
          1970,
          2004,
          1998,
          2004,
          1987,
          1968,
          2009,
          2006,
          1989,
          1991,
          1984,
          1995,
          1999,
          2010,
          1985,
          2009,
          2010,
          2010,
          2009,
          1998,
          2010,
          null,
          1982,
          2002,
          2009,
          2005,
          1996,
          2003,
          2006,
          2004,
          1996,
          1963,
          2001,
          1984,
          null,
          1965,
          null,
          2003,
          2012,
          2003,
          2006,
          2011,
          2004,
          1998,
          1978,
          1954,
          1995,
          2003,
          1962,
          1996,
          1982,
          2006,
          2010,
          1993,
          1965,
          2005,
          2001,
          2004,
          2011,
          2007,
          2006,
          2005,
          2009,
          1975,
          2006,
          1966,
          2011,
          null,
          2008,
          1995,
          1998,
          1987,
          2005,
          1993,
          2010,
          2009,
          2007,
          2010,
          1992,
          1983,
          2011,
          1971,
          1954,
          1955,
          1993,
          1978,
          2007,
          1998,
          1995,
          2009,
          1999,
          2010,
          1987,
          1999,
          1998,
          1985,
          2002,
          2011,
          null,
          1967,
          2005,
          2010,
          2002,
          1990,
          1975,
          1986,
          2012,
          2009,
          null,
          2000,
          2001,
          1997,
          2010,
          1982,
          2006,
          1987,
          2007,
          1988,
          1951,
          2002,
          1981,
          2008,
          1987,
          2008,
          1990,
          2000,
          1998,
          2010,
          1983,
          1957,
          2009,
          1999,
          2008,
          2001,
          1982,
          1979,
          1956,
          null,
          2006,
          1982,
          1985,
          1984,
          1956,
          2010,
          1969,
          1998,
          1983,
          1980,
          1995,
          1999,
          2001,
          1961,
          1996,
          2007,
          1994,
          1986,
          1957,
          2006,
          1977,
          2003,
          1980,
          2010,
          1954,
          2008,
          1986,
          null,
          1985,
          2006,
          1957,
          2011,
          2009,
          2010,
          2012,
          2012,
          2004,
          null,
          2000,
          2012,
          1987,
          1999,
          2010,
          2009,
          1961,
          2008,
          2009,
          2010,
          2007,
          2005,
          2000,
          null,
          1996,
          2011,
          2002,
          2009,
          2005,
          2005,
          null,
          2009,
          1954,
          1999,
          1997,
          2004,
          1993,
          2008,
          1971,
          1982,
          1984,
          1986,
          1964,
          2010,
          2008,
          2003,
          1975,
          2010,
          2009,
          1978,
          1994,
          1967,
          2012,
          1999,
          1943,
          1992,
          1979,
          1989,
          1974,
          2003,
          1998,
          2000,
          2007,
          1991,
          null,
          1960,
          2005,
          2010,
          2007,
          1953,
          2008,
          1982,
          2011,
          1972,
          2008,
          2001,
          2003,
          2012,
          1994,
          1998,
          1983,
          2005,
          1977,
          2011,
          1988,
          1973,
          2003,
          2001,
          1962,
          1999,
          2004,
          1988,
          1986,
          2005,
          1983,
          2010,
          1952,
          2005,
          1997,
          2005,
          2002,
          2001,
          2011,
          2005,
          1956,
          2007,
          1947,
          1969,
          2008,
          2009,
          1996,
          2006,
          2010,
          1997,
          1965,
          2006,
          2005,
          null,
          2001,
          2012,
          1981,
          null,
          2008,
          2010,
          2006,
          1992,
          2001,
          2008,
          1996,
          null,
          null,
          1985,
          2010,
          1956,
          2006,
          1984,
          2010,
          2010,
          2009,
          1988,
          2008,
          1959,
          1992,
          2012,
          1997,
          1990,
          1961,
          2009,
          1979,
          2011,
          2008,
          2011,
          1981,
          2007,
          1996,
          1996,
          1976,
          2004,
          2011,
          1997,
          1972,
          2002,
          2007,
          2010,
          2002,
          1974,
          2011,
          1989,
          2005,
          2012,
          1973,
          null,
          1993,
          1996,
          1955,
          2003,
          2000,
          2002,
          1991,
          2007,
          2008,
          1973,
          2003,
          1997,
          1992,
          2003,
          2010,
          1999,
          1977,
          2006,
          2001,
          2005,
          1950,
          2004,
          2007,
          2003,
          1951,
          2008,
          1972,
          1952,
          2005,
          1996,
          1993,
          2010,
          2004,
          1998,
          2003,
          1999,
          2006,
          1951,
          2006,
          2010,
          1981,
          1975,
          null,
          2010,
          1994,
          1971,
          null,
          1995,
          2002,
          1994,
          1994,
          2007,
          2008,
          2011,
          2010,
          1986,
          1997,
          2009,
          2004,
          2001,
          1980,
          2005,
          2005,
          1998,
          1975,
          2004,
          1957,
          1983,
          1945,
          1999,
          2010,
          2001,
          2005,
          2005,
          2007,
          1999,
          1984,
          1995,
          2001,
          1971,
          1982,
          1975,
          1986,
          2008,
          1979,
          1984,
          2010,
          1984,
          null,
          1948,
          1967,
          1984,
          2007,
          1989,
          1996,
          1996,
          1992,
          1984,
          2003,
          1984,
          1999,
          1991,
          2007,
          1988,
          2008,
          1958,
          1997,
          2006,
          1991,
          2008,
          1993,
          1979,
          null,
          2002,
          2000,
          1995,
          2013,
          2003,
          1959,
          2003,
          1995,
          2012,
          null,
          1991,
          2011,
          2004,
          1979,
          2002,
          2006,
          1998,
          2004,
          2000,
          1996,
          1991,
          1986,
          1957,
          1969,
          1979,
          1979,
          1994,
          2003,
          1977,
          2005,
          2006,
          1965,
          2004,
          null,
          null,
          1971,
          1997,
          2009,
          2005,
          2000,
          2002,
          1993,
          2004,
          2010,
          1963
         ]
        },
        {
         "name": "10",
         "type": "box",
         "x": [
          1989,
          2010,
          2010,
          2003,
          2001,
          2009,
          1992,
          null,
          null,
          1968,
          1993,
          1989,
          1982,
          2006,
          2010,
          2012,
          2011,
          2012,
          2011,
          1994,
          2000,
          1988,
          1993,
          2002,
          1985,
          1991,
          2003,
          1999,
          1988,
          2009,
          1990,
          2008,
          2010,
          2000,
          1996,
          null,
          1993,
          2007,
          2002,
          2009,
          1995,
          2009,
          1997,
          1987,
          1993,
          1994,
          2012,
          1988,
          2004,
          1990,
          1994,
          2008,
          1994,
          2003,
          1993,
          2008,
          1986,
          1983,
          2011,
          1983,
          2011,
          2012,
          1998,
          1989,
          1991,
          1997,
          1986,
          1997,
          2006,
          2006,
          1981,
          1963,
          1984,
          1992,
          1996,
          2007,
          1996,
          2005,
          1999,
          1988,
          2002,
          null,
          2010,
          2002,
          1993,
          1965,
          2005,
          2010,
          2007,
          1958,
          2003,
          2002,
          2003,
          1982,
          2010,
          2004,
          2004,
          1991,
          2011,
          null,
          1992,
          2008,
          1976,
          2010,
          2003,
          null,
          1993,
          2009,
          1981,
          2009,
          1970,
          2011,
          1972,
          2008,
          1967,
          1997,
          1994,
          null,
          2010,
          2002,
          1991,
          1998,
          2010,
          2001,
          1987,
          2009,
          2011,
          1982,
          2010,
          1981,
          1989,
          2010,
          2009,
          2008,
          2004,
          2010,
          1985,
          1986,
          1994,
          2011,
          1984,
          2006,
          1991,
          2007,
          1992,
          1994,
          1981,
          1981,
          2010,
          2008,
          2003,
          2003,
          2005,
          1996,
          1983,
          1985,
          1992,
          2005,
          1962,
          null,
          2007,
          2005,
          1966,
          1994,
          1991,
          2007,
          2008,
          1986,
          1999,
          2007,
          1980,
          2009,
          2007,
          2011,
          1999,
          1991,
          2002,
          2002,
          1993,
          1992,
          1990,
          1988,
          2008,
          2007,
          2011,
          2011,
          2003,
          2010,
          2003,
          2008,
          1998,
          1973,
          1998,
          null,
          2000,
          1967,
          1990,
          2008,
          2007,
          2007,
          2007,
          1983,
          2005,
          1998,
          2004,
          2005,
          2004,
          null,
          2008,
          1993,
          2011,
          1989,
          2007,
          1986,
          2005,
          2004,
          1962,
          2006,
          null,
          2006,
          2009,
          1991,
          2006,
          2002,
          2011,
          2009,
          2004,
          2010,
          1997,
          1989,
          1986,
          2002,
          1989,
          2011,
          2001,
          null,
          2011,
          2011,
          2000,
          2006,
          2011,
          2007,
          2009,
          1987,
          2009,
          null,
          2010,
          1990,
          2002,
          2007,
          1973,
          1999,
          2006,
          1990,
          1989,
          1993,
          null,
          1984,
          1999,
          1998,
          1985,
          1990,
          2003,
          1975,
          1998,
          null,
          2011,
          2000,
          1968,
          2012,
          2003,
          1990,
          2009,
          2004,
          2001,
          2009,
          2012,
          1994,
          1995,
          1992,
          1989,
          2006,
          2004,
          1992,
          1968,
          1989,
          2012,
          2004,
          1990,
          1984,
          2009,
          1987,
          1997,
          1986,
          2010,
          1971,
          2005,
          1982,
          1993,
          null,
          1990,
          1971,
          null,
          1987,
          1995,
          null,
          1980,
          1963,
          1994,
          2002,
          2011,
          1964,
          2000,
          2010,
          1976,
          2009,
          2001,
          1979,
          1990,
          2011,
          1990,
          2009,
          1986,
          1984,
          1984,
          1989,
          2010,
          2000,
          1987,
          1998,
          2002,
          2006,
          2006,
          2005,
          2010,
          1968,
          1981,
          1993,
          2010,
          1991,
          1989,
          1991,
          1993,
          1992,
          2011,
          2003,
          1983,
          2011,
          2008,
          null,
          2009,
          2007,
          2000,
          1999,
          2005,
          2011,
          2007,
          2007,
          1984,
          2002,
          2008,
          2008,
          1994,
          1979,
          2007,
          1996,
          1993,
          2009,
          2009,
          2012,
          1986,
          2010,
          2008,
          2008,
          2008,
          1982,
          2010,
          1987,
          2009,
          2003,
          1993,
          1991,
          1986,
          1992,
          1972,
          2004,
          2010,
          null,
          2006,
          1999,
          1967,
          1992,
          2007,
          2000,
          2006,
          1986,
          2010,
          null,
          null,
          2011,
          2003,
          1972,
          1981,
          null,
          2012,
          1984,
          1991,
          2009,
          1976,
          1972,
          1993,
          2006,
          1969,
          2009,
          null,
          2011,
          1987,
          1986,
          1992,
          2008,
          1986,
          1997,
          null,
          1993,
          2005,
          1991,
          2009,
          1985,
          2011,
          1992,
          2001,
          1990,
          2008,
          1986,
          2009,
          1992,
          2005,
          2006,
          1981,
          2010,
          2011,
          1993,
          1967,
          1967,
          2006,
          2009,
          2011,
          1981,
          2005,
          1986,
          1997,
          2006,
          2001,
          1985,
          2009,
          2011,
          1983,
          2006,
          1983,
          2006,
          1988,
          1991,
          2009,
          2003,
          1990,
          2005,
          2008,
          2005,
          1989,
          2006,
          2011,
          2001,
          2012,
          2000,
          2008,
          1988,
          1997,
          1993,
          2009,
          1992,
          1982,
          2003,
          1989,
          1999,
          2000,
          null,
          1990,
          1969,
          1997,
          1993,
          null,
          2010,
          2001,
          2010,
          1983,
          1983,
          1990,
          2006,
          null,
          1993,
          2002,
          1994,
          2010,
          2008,
          2012,
          2011,
          2010,
          1990,
          2010,
          2011,
          2004,
          2007,
          2005,
          2001,
          2002,
          2010,
          1999,
          1986,
          1995,
          1988,
          2007,
          2011,
          2001,
          2009,
          1981,
          1984,
          1997,
          2002,
          2011,
          2003,
          1991,
          1971,
          2009,
          1988,
          2010,
          1975,
          1986,
          1975,
          null,
          2004,
          1996,
          2007,
          2000,
          1984,
          1986,
          1991,
          1990,
          2006,
          1991,
          2008,
          null,
          1990,
          1988,
          2010,
          2002,
          1991,
          2011,
          null,
          1986,
          2008,
          2008,
          2006,
          2004,
          2010,
          2005,
          1987,
          1997,
          1986,
          1983,
          2010,
          2010,
          2010,
          1981,
          1996,
          1980,
          1982,
          1995,
          2003,
          1993,
          1989,
          1983,
          1978,
          1983,
          1984,
          2010,
          1987,
          1993,
          2011,
          2010,
          1993,
          1996,
          2005,
          2007,
          1986,
          null,
          1984,
          null,
          2003,
          2011,
          2006,
          2006,
          null,
          1979,
          2006,
          1985,
          2004,
          2006,
          null,
          1991,
          2012,
          2009,
          1981,
          1983,
          null,
          1989,
          2007,
          1986,
          2011,
          2007,
          1997,
          2011,
          2012,
          2004,
          2000,
          1995,
          2003,
          1989,
          2008,
          2003,
          null,
          2010,
          1988,
          2012,
          2009,
          2009,
          1984,
          2009,
          2006,
          2011,
          1989,
          2003,
          1987,
          2011,
          2012,
          2011,
          1991,
          2011,
          2003,
          1965,
          2000,
          1993,
          2004,
          2011,
          1990,
          2010,
          1991,
          1995,
          2007,
          2009,
          1984,
          2005,
          1977,
          1999,
          1992,
          2008,
          1986,
          1980,
          null,
          2009,
          2012,
          1979,
          2011,
          2003,
          1994,
          1990,
          1997,
          1972,
          1999,
          2003,
          2007,
          1986,
          null,
          null,
          2006,
          2012,
          2010,
          1955,
          1999,
          2008,
          1990,
          2007,
          2002,
          1999,
          2009,
          1989,
          2011,
          1981,
          1968,
          2005,
          1988,
          1994,
          2009,
          1987,
          2005,
          2006,
          2012,
          2006,
          1998,
          1974,
          2012,
          2012,
          2005,
          2006,
          1996,
          2006,
          2008,
          1986,
          1969,
          2008,
          1988,
          1992,
          2001,
          1999,
          null,
          2012,
          1996,
          1971,
          2007,
          2000,
          1969,
          1997,
          1998,
          2008,
          1993,
          1985,
          null,
          null,
          1997,
          1952,
          2010,
          2011,
          1996,
          1985,
          2007,
          2007,
          1972,
          2004,
          2009,
          1981,
          2002,
          2007,
          2000,
          2010,
          2001,
          2012,
          1964,
          1997,
          1993,
          1982,
          2009,
          1978,
          null,
          2010,
          2009,
          1976,
          2009,
          1991,
          1978,
          2004,
          1981,
          2003,
          1999,
          1985,
          2006,
          1999,
          2007,
          2006,
          2003,
          2005,
          1994,
          2008,
          null,
          2002,
          2009,
          2004,
          2001,
          1991,
          1987,
          2010,
          null,
          1996,
          2008,
          2007,
          2002,
          2002,
          1998,
          2010,
          1984,
          2009,
          2009,
          1997,
          2009,
          2005,
          2005,
          2007,
          null,
          1992,
          1986,
          2005,
          2011,
          2010,
          2008,
          2011,
          2010,
          1991,
          2008,
          1981,
          1988,
          2010,
          2009,
          1994,
          1989,
          2006,
          1954,
          null,
          2010,
          1995,
          2003,
          1998,
          1985,
          1989,
          2008,
          2012,
          1989,
          2009,
          2007,
          2004,
          2004,
          2009,
          1981,
          2011,
          1990,
          null,
          1974,
          2006,
          1990,
          2012,
          1981,
          2011,
          1960,
          2011,
          1970,
          2003,
          2005,
          1979,
          1986,
          1998,
          1986,
          1992,
          1973,
          1994,
          2008,
          1982,
          2010,
          1999,
          2001,
          1987,
          1984,
          2008,
          2005,
          1983,
          2005,
          2005,
          2008,
          2008,
          1989,
          2007,
          1987,
          2009,
          2004,
          2007,
          2002,
          2007,
          2010,
          1985,
          2006,
          1977,
          2011,
          2010,
          null,
          2007,
          2007,
          2012,
          2012,
          2009,
          1991,
          1985,
          1972,
          1969,
          1995,
          2010,
          2002,
          1993,
          1996,
          1989,
          2012,
          1965,
          1988,
          2007,
          null,
          2009,
          1996,
          1978,
          1981,
          1982,
          1987,
          1999,
          1987,
          1991,
          1993,
          1964,
          1981,
          2003,
          2007,
          1962,
          2004,
          1987,
          1963,
          2006,
          2001,
          2003,
          1994,
          2011,
          null,
          2009,
          2006,
          1993,
          2012,
          1996,
          2012,
          2011,
          1980,
          2004,
          2008,
          1988,
          2006,
          1997,
          1992,
          2012,
          2003,
          2002,
          2008,
          1968,
          1989,
          1982,
          1999,
          2011,
          1968,
          1986,
          1997,
          1996,
          1990,
          2010,
          2000,
          2002,
          2004,
          1991,
          1989,
          null,
          1973,
          2007,
          1989,
          2008,
          1984,
          2008,
          2011,
          2002,
          2002,
          2012,
          2003,
          1985,
          1983,
          1975,
          null,
          2006,
          1983,
          2012,
          1997,
          1996,
          2005,
          2012,
          1983,
          2006,
          2004,
          2009,
          2010,
          2009,
          1995,
          1988,
          2004,
          1991,
          null,
          2005,
          null,
          1993,
          2008,
          2002,
          1999,
          null,
          2004,
          2006,
          2005,
          2006,
          1997,
          2008,
          1973,
          2009,
          2005,
          2009,
          1971,
          1986,
          1995,
          2008,
          1992,
          1991,
          1979,
          1997,
          2005,
          1998,
          2003,
          1962,
          2000,
          2005,
          2007,
          2007,
          1983,
          1981,
          1995,
          2007,
          1998,
          1998,
          1993,
          2011,
          1989,
          2008,
          1994,
          2008,
          1993,
          2009,
          1980,
          2011,
          2007,
          1973,
          1988,
          2008,
          1997,
          1987,
          2011,
          1995,
          2010,
          1972,
          1961,
          2002,
          2010,
          2011,
          2001,
          1991,
          null,
          1974,
          2005,
          1974,
          2005,
          2012,
          1989,
          null,
          1985,
          1984,
          2010,
          1990,
          2011,
          1981,
          2007,
          null,
          1970,
          2010,
          1979,
          2010,
          null,
          1985,
          1992,
          2003,
          2006,
          1990,
          2002,
          1995,
          1992,
          2011,
          2002,
          1993,
          1990,
          1986,
          2001,
          2001,
          2006,
          2006,
          2012,
          1997,
          2005,
          2001,
          2010,
          2005,
          2004,
          1988,
          1998,
          2010,
          2009,
          1986,
          null,
          1977,
          null,
          null,
          null,
          1992,
          null,
          2007,
          null,
          1991,
          2010,
          2009,
          2007,
          1981,
          1990,
          2004,
          2011,
          2004,
          2010,
          1999,
          1999,
          1987,
          1995,
          2012,
          2001,
          2006,
          2000,
          2006,
          1991,
          1979,
          2008,
          2003,
          2010,
          2007,
          2003,
          1990,
          1978,
          1991,
          1989,
          null,
          1996,
          1987,
          1982,
          1993,
          1989,
          2005,
          null,
          2011,
          2011,
          1981,
          2004,
          2001,
          1994,
          1987,
          1988,
          2004,
          1985,
          1992,
          1978,
          2000,
          2009,
          2010,
          1987,
          1991,
          1989,
          1999,
          2008,
          2012,
          1991,
          1960,
          1982,
          null,
          1992,
          1984,
          null,
          2006,
          1996,
          2003,
          2010,
          null,
          2002,
          2012,
          2011,
          1973,
          1982,
          1984,
          2007,
          2008,
          2010,
          1992,
          2006,
          2009,
          2012,
          1989,
          1999,
          1983,
          null,
          2010,
          2000,
          1994,
          1997,
          2000,
          1983,
          2004,
          2000,
          1991,
          2001,
          2009,
          1979,
          2009,
          1991,
          2009,
          1985,
          2004,
          2010,
          null,
          1995,
          2005,
          2011,
          2012,
          2011,
          1985,
          2011,
          2012,
          1993,
          2006,
          1990,
          null,
          null,
          1987,
          1993,
          2007,
          2006,
          1992,
          1998,
          2012,
          2012,
          2011,
          2002,
          1985,
          1991,
          2003,
          2008,
          2008,
          2011,
          1990,
          2004,
          2010,
          2010,
          2005,
          null,
          1999,
          2009,
          2000,
          null,
          1994,
          2000,
          2004,
          2012,
          2002,
          2012,
          1998,
          1995,
          1987,
          1995,
          1995,
          1982,
          1978,
          1991,
          2000,
          1995,
          null,
          1991,
          2006,
          1998,
          1990,
          2012,
          2008,
          2000,
          2007,
          1992,
          1997,
          2007,
          1999,
          2009,
          1985,
          2009,
          2009,
          2002,
          2002,
          1992,
          1998,
          2008,
          1970,
          1995,
          1989,
          2003,
          2011,
          2012,
          1986,
          1995,
          2011,
          1993,
          1968,
          1997,
          1986,
          2010,
          1997,
          1983,
          1996,
          2000,
          1991,
          2004,
          1995,
          2011,
          2009,
          2006,
          2007,
          2010,
          2010,
          1981,
          2011,
          2005,
          1980,
          2006,
          2000,
          1986,
          2001,
          1978,
          2012,
          1993,
          2008,
          2002,
          2006,
          1965,
          2008,
          null,
          2009,
          1984,
          2005,
          1999,
          1984,
          1989,
          1969,
          1987,
          2004,
          2012,
          2012,
          2005,
          2005,
          1960,
          1984,
          1994,
          2007,
          1985,
          1994,
          2007,
          2012,
          2001,
          2011,
          2011,
          2006,
          2012,
          2008,
          2003,
          2003,
          1986,
          2011,
          2007,
          2003,
          1991,
          1988,
          1994,
          1988,
          1984,
          2007,
          1992,
          1994,
          1997,
          2008,
          null,
          1999,
          2009,
          1955,
          2012,
          2011,
          1991,
          2012,
          1984,
          2008,
          2006,
          2009,
          1992,
          1973,
          1999,
          1988,
          2010,
          1989,
          2010,
          1988,
          2011,
          1961,
          2007,
          1990,
          2009,
          1997,
          2005,
          1993,
          2003,
          2001,
          2008,
          2002,
          2005,
          1991,
          2009,
          2002,
          1968,
          1999,
          2003,
          1993,
          1995,
          null,
          2008,
          1984,
          2008,
          2004,
          1990,
          2006,
          2012,
          2009,
          1984,
          1999,
          1985,
          2009,
          2010,
          1994,
          2009,
          2010,
          2006,
          null,
          1989,
          2005,
          1996,
          1981,
          2001,
          1984,
          2006,
          2005,
          2004,
          1998,
          2003,
          2009,
          2010,
          2000,
          null,
          1994,
          2007,
          2005,
          2006,
          1972,
          2007,
          1984,
          1998,
          2005,
          2009,
          2007,
          2010,
          2001,
          1993,
          1998,
          2006,
          2010,
          null,
          1985,
          1988,
          1978,
          2005,
          2011,
          1989,
          2009,
          1987,
          2007,
          2002,
          2004,
          1987,
          2000,
          1998,
          2002,
          2009,
          2005,
          1978,
          1987,
          1982,
          2010,
          2007,
          1990,
          1995,
          1983,
          1980,
          2001,
          2007,
          1986,
          null,
          null,
          2006,
          2009,
          null,
          1997,
          2009,
          1989,
          null,
          2010,
          2008,
          1987,
          null,
          2009,
          null,
          1996,
          2011,
          2002,
          1969,
          2005,
          1969,
          null,
          2004,
          1980,
          2000,
          1971,
          1971,
          2010,
          2003,
          1999,
          1992,
          1989,
          1997,
          2007,
          1991,
          2008,
          2007,
          1975,
          2007,
          2010,
          1982,
          2008,
          2002,
          2005,
          2003,
          1983,
          2005,
          2001,
          1999,
          1988,
          1986,
          2010,
          1990,
          2005,
          2002,
          2001,
          2005,
          2007,
          2009,
          2008,
          1965,
          1996,
          2006,
          2005,
          2009,
          2008,
          1972,
          null,
          2006,
          null,
          null,
          1985,
          2006,
          1988,
          2009,
          1995,
          1992,
          1961,
          2003,
          2007,
          1996,
          1988,
          2004,
          2008,
          2009,
          1997,
          2007,
          2010,
          2005,
          2008,
          1989,
          2005,
          null,
          1997,
          2003,
          1984,
          1993,
          1991,
          1998,
          2008,
          2003,
          1998,
          1993,
          2004,
          1968,
          1983,
          2003,
          null,
          2004,
          1952,
          1993,
          1986,
          2007,
          1984,
          2012,
          2006,
          2006,
          1987,
          1990,
          2010,
          1971,
          null,
          2002,
          2003,
          2007,
          2007,
          2009,
          1987,
          2009,
          2008,
          1997,
          2001,
          2005,
          1992,
          1975,
          1966,
          null,
          1999,
          1978,
          2010,
          2007,
          1989,
          1993,
          1996,
          1984,
          1967,
          2009,
          1992,
          2001,
          2010,
          2004,
          1989,
          2008,
          1992,
          2008,
          1991,
          1988,
          1997,
          1971,
          2013,
          1995,
          2012,
          1991,
          1988,
          2011,
          2004,
          1977,
          2004,
          1988,
          1991,
          1986,
          2002,
          1979,
          1990,
          1996,
          2005,
          2006,
          1968,
          1990,
          1971,
          2000,
          2009,
          2009,
          null,
          2003,
          2004,
          2010
         ]
        }
       ],
       "layout": {
        "template": {
         "data": {
          "bar": [
           {
            "error_x": {
             "color": "#2a3f5f"
            },
            "error_y": {
             "color": "#2a3f5f"
            },
            "marker": {
             "line": {
              "color": "white",
              "width": 0.5
             },
             "pattern": {
              "fillmode": "overlay",
              "size": 10,
              "solidity": 0.2
             }
            },
            "type": "bar"
           }
          ],
          "barpolar": [
           {
            "marker": {
             "line": {
              "color": "white",
              "width": 0.5
             },
             "pattern": {
              "fillmode": "overlay",
              "size": 10,
              "solidity": 0.2
             }
            },
            "type": "barpolar"
           }
          ],
          "carpet": [
           {
            "aaxis": {
             "endlinecolor": "#2a3f5f",
             "gridcolor": "#C8D4E3",
             "linecolor": "#C8D4E3",
             "minorgridcolor": "#C8D4E3",
             "startlinecolor": "#2a3f5f"
            },
            "baxis": {
             "endlinecolor": "#2a3f5f",
             "gridcolor": "#C8D4E3",
             "linecolor": "#C8D4E3",
             "minorgridcolor": "#C8D4E3",
             "startlinecolor": "#2a3f5f"
            },
            "type": "carpet"
           }
          ],
          "choropleth": [
           {
            "colorbar": {
             "outlinewidth": 0,
             "ticks": ""
            },
            "type": "choropleth"
           }
          ],
          "contour": [
           {
            "colorbar": {
             "outlinewidth": 0,
             "ticks": ""
            },
            "colorscale": [
             [
              0,
              "#0d0887"
             ],
             [
              0.1111111111111111,
              "#46039f"
             ],
             [
              0.2222222222222222,
              "#7201a8"
             ],
             [
              0.3333333333333333,
              "#9c179e"
             ],
             [
              0.4444444444444444,
              "#bd3786"
             ],
             [
              0.5555555555555556,
              "#d8576b"
             ],
             [
              0.6666666666666666,
              "#ed7953"
             ],
             [
              0.7777777777777778,
              "#fb9f3a"
             ],
             [
              0.8888888888888888,
              "#fdca26"
             ],
             [
              1,
              "#f0f921"
             ]
            ],
            "type": "contour"
           }
          ],
          "contourcarpet": [
           {
            "colorbar": {
             "outlinewidth": 0,
             "ticks": ""
            },
            "type": "contourcarpet"
           }
          ],
          "heatmap": [
           {
            "colorbar": {
             "outlinewidth": 0,
             "ticks": ""
            },
            "colorscale": [
             [
              0,
              "#0d0887"
             ],
             [
              0.1111111111111111,
              "#46039f"
             ],
             [
              0.2222222222222222,
              "#7201a8"
             ],
             [
              0.3333333333333333,
              "#9c179e"
             ],
             [
              0.4444444444444444,
              "#bd3786"
             ],
             [
              0.5555555555555556,
              "#d8576b"
             ],
             [
              0.6666666666666666,
              "#ed7953"
             ],
             [
              0.7777777777777778,
              "#fb9f3a"
             ],
             [
              0.8888888888888888,
              "#fdca26"
             ],
             [
              1,
              "#f0f921"
             ]
            ],
            "type": "heatmap"
           }
          ],
          "heatmapgl": [
           {
            "colorbar": {
             "outlinewidth": 0,
             "ticks": ""
            },
            "colorscale": [
             [
              0,
              "#0d0887"
             ],
             [
              0.1111111111111111,
              "#46039f"
             ],
             [
              0.2222222222222222,
              "#7201a8"
             ],
             [
              0.3333333333333333,
              "#9c179e"
             ],
             [
              0.4444444444444444,
              "#bd3786"
             ],
             [
              0.5555555555555556,
              "#d8576b"
             ],
             [
              0.6666666666666666,
              "#ed7953"
             ],
             [
              0.7777777777777778,
              "#fb9f3a"
             ],
             [
              0.8888888888888888,
              "#fdca26"
             ],
             [
              1,
              "#f0f921"
             ]
            ],
            "type": "heatmapgl"
           }
          ],
          "histogram": [
           {
            "marker": {
             "pattern": {
              "fillmode": "overlay",
              "size": 10,
              "solidity": 0.2
             }
            },
            "type": "histogram"
           }
          ],
          "histogram2d": [
           {
            "colorbar": {
             "outlinewidth": 0,
             "ticks": ""
            },
            "colorscale": [
             [
              0,
              "#0d0887"
             ],
             [
              0.1111111111111111,
              "#46039f"
             ],
             [
              0.2222222222222222,
              "#7201a8"
             ],
             [
              0.3333333333333333,
              "#9c179e"
             ],
             [
              0.4444444444444444,
              "#bd3786"
             ],
             [
              0.5555555555555556,
              "#d8576b"
             ],
             [
              0.6666666666666666,
              "#ed7953"
             ],
             [
              0.7777777777777778,
              "#fb9f3a"
             ],
             [
              0.8888888888888888,
              "#fdca26"
             ],
             [
              1,
              "#f0f921"
             ]
            ],
            "type": "histogram2d"
           }
          ],
          "histogram2dcontour": [
           {
            "colorbar": {
             "outlinewidth": 0,
             "ticks": ""
            },
            "colorscale": [
             [
              0,
              "#0d0887"
             ],
             [
              0.1111111111111111,
              "#46039f"
             ],
             [
              0.2222222222222222,
              "#7201a8"
             ],
             [
              0.3333333333333333,
              "#9c179e"
             ],
             [
              0.4444444444444444,
              "#bd3786"
             ],
             [
              0.5555555555555556,
              "#d8576b"
             ],
             [
              0.6666666666666666,
              "#ed7953"
             ],
             [
              0.7777777777777778,
              "#fb9f3a"
             ],
             [
              0.8888888888888888,
              "#fdca26"
             ],
             [
              1,
              "#f0f921"
             ]
            ],
            "type": "histogram2dcontour"
           }
          ],
          "mesh3d": [
           {
            "colorbar": {
             "outlinewidth": 0,
             "ticks": ""
            },
            "type": "mesh3d"
           }
          ],
          "parcoords": [
           {
            "line": {
             "colorbar": {
              "outlinewidth": 0,
              "ticks": ""
             }
            },
            "type": "parcoords"
           }
          ],
          "pie": [
           {
            "automargin": true,
            "type": "pie"
           }
          ],
          "scatter": [
           {
            "fillpattern": {
             "fillmode": "overlay",
             "size": 10,
             "solidity": 0.2
            },
            "type": "scatter"
           }
          ],
          "scatter3d": [
           {
            "line": {
             "colorbar": {
              "outlinewidth": 0,
              "ticks": ""
             }
            },
            "marker": {
             "colorbar": {
              "outlinewidth": 0,
              "ticks": ""
             }
            },
            "type": "scatter3d"
           }
          ],
          "scattercarpet": [
           {
            "marker": {
             "colorbar": {
              "outlinewidth": 0,
              "ticks": ""
             }
            },
            "type": "scattercarpet"
           }
          ],
          "scattergeo": [
           {
            "marker": {
             "colorbar": {
              "outlinewidth": 0,
              "ticks": ""
             }
            },
            "type": "scattergeo"
           }
          ],
          "scattergl": [
           {
            "marker": {
             "colorbar": {
              "outlinewidth": 0,
              "ticks": ""
             }
            },
            "type": "scattergl"
           }
          ],
          "scattermapbox": [
           {
            "marker": {
             "colorbar": {
              "outlinewidth": 0,
              "ticks": ""
             }
            },
            "type": "scattermapbox"
           }
          ],
          "scatterpolar": [
           {
            "marker": {
             "colorbar": {
              "outlinewidth": 0,
              "ticks": ""
             }
            },
            "type": "scatterpolar"
           }
          ],
          "scatterpolargl": [
           {
            "marker": {
             "colorbar": {
              "outlinewidth": 0,
              "ticks": ""
             }
            },
            "type": "scatterpolargl"
           }
          ],
          "scatterternary": [
           {
            "marker": {
             "colorbar": {
              "outlinewidth": 0,
              "ticks": ""
             }
            },
            "type": "scatterternary"
           }
          ],
          "surface": [
           {
            "colorbar": {
             "outlinewidth": 0,
             "ticks": ""
            },
            "colorscale": [
             [
              0,
              "#0d0887"
             ],
             [
              0.1111111111111111,
              "#46039f"
             ],
             [
              0.2222222222222222,
              "#7201a8"
             ],
             [
              0.3333333333333333,
              "#9c179e"
             ],
             [
              0.4444444444444444,
              "#bd3786"
             ],
             [
              0.5555555555555556,
              "#d8576b"
             ],
             [
              0.6666666666666666,
              "#ed7953"
             ],
             [
              0.7777777777777778,
              "#fb9f3a"
             ],
             [
              0.8888888888888888,
              "#fdca26"
             ],
             [
              1,
              "#f0f921"
             ]
            ],
            "type": "surface"
           }
          ],
          "table": [
           {
            "cells": {
             "fill": {
              "color": "#EBF0F8"
             },
             "line": {
              "color": "white"
             }
            },
            "header": {
             "fill": {
              "color": "#C8D4E3"
             },
             "line": {
              "color": "white"
             }
            },
            "type": "table"
           }
          ]
         },
         "layout": {
          "annotationdefaults": {
           "arrowcolor": "#2a3f5f",
           "arrowhead": 0,
           "arrowwidth": 1
          },
          "autotypenumbers": "strict",
          "coloraxis": {
           "colorbar": {
            "outlinewidth": 0,
            "ticks": ""
           }
          },
          "colorscale": {
           "diverging": [
            [
             0,
             "#8e0152"
            ],
            [
             0.1,
             "#c51b7d"
            ],
            [
             0.2,
             "#de77ae"
            ],
            [
             0.3,
             "#f1b6da"
            ],
            [
             0.4,
             "#fde0ef"
            ],
            [
             0.5,
             "#f7f7f7"
            ],
            [
             0.6,
             "#e6f5d0"
            ],
            [
             0.7,
             "#b8e186"
            ],
            [
             0.8,
             "#7fbc41"
            ],
            [
             0.9,
             "#4d9221"
            ],
            [
             1,
             "#276419"
            ]
           ],
           "sequential": [
            [
             0,
             "#0d0887"
            ],
            [
             0.1111111111111111,
             "#46039f"
            ],
            [
             0.2222222222222222,
             "#7201a8"
            ],
            [
             0.3333333333333333,
             "#9c179e"
            ],
            [
             0.4444444444444444,
             "#bd3786"
            ],
            [
             0.5555555555555556,
             "#d8576b"
            ],
            [
             0.6666666666666666,
             "#ed7953"
            ],
            [
             0.7777777777777778,
             "#fb9f3a"
            ],
            [
             0.8888888888888888,
             "#fdca26"
            ],
            [
             1,
             "#f0f921"
            ]
           ],
           "sequentialminus": [
            [
             0,
             "#0d0887"
            ],
            [
             0.1111111111111111,
             "#46039f"
            ],
            [
             0.2222222222222222,
             "#7201a8"
            ],
            [
             0.3333333333333333,
             "#9c179e"
            ],
            [
             0.4444444444444444,
             "#bd3786"
            ],
            [
             0.5555555555555556,
             "#d8576b"
            ],
            [
             0.6666666666666666,
             "#ed7953"
            ],
            [
             0.7777777777777778,
             "#fb9f3a"
            ],
            [
             0.8888888888888888,
             "#fdca26"
            ],
            [
             1,
             "#f0f921"
            ]
           ]
          },
          "colorway": [
           "#636efa",
           "#EF553B",
           "#00cc96",
           "#ab63fa",
           "#FFA15A",
           "#19d3f3",
           "#FF6692",
           "#B6E880",
           "#FF97FF",
           "#FECB52"
          ],
          "font": {
           "color": "#2a3f5f"
          },
          "geo": {
           "bgcolor": "white",
           "lakecolor": "white",
           "landcolor": "white",
           "showlakes": true,
           "showland": true,
           "subunitcolor": "#C8D4E3"
          },
          "hoverlabel": {
           "align": "left"
          },
          "hovermode": "closest",
          "mapbox": {
           "style": "light"
          },
          "paper_bgcolor": "white",
          "plot_bgcolor": "white",
          "polar": {
           "angularaxis": {
            "gridcolor": "#EBF0F8",
            "linecolor": "#EBF0F8",
            "ticks": ""
           },
           "bgcolor": "white",
           "radialaxis": {
            "gridcolor": "#EBF0F8",
            "linecolor": "#EBF0F8",
            "ticks": ""
           }
          },
          "scene": {
           "xaxis": {
            "backgroundcolor": "white",
            "gridcolor": "#DFE8F3",
            "gridwidth": 2,
            "linecolor": "#EBF0F8",
            "showbackground": true,
            "ticks": "",
            "zerolinecolor": "#EBF0F8"
           },
           "yaxis": {
            "backgroundcolor": "white",
            "gridcolor": "#DFE8F3",
            "gridwidth": 2,
            "linecolor": "#EBF0F8",
            "showbackground": true,
            "ticks": "",
            "zerolinecolor": "#EBF0F8"
           },
           "zaxis": {
            "backgroundcolor": "white",
            "gridcolor": "#DFE8F3",
            "gridwidth": 2,
            "linecolor": "#EBF0F8",
            "showbackground": true,
            "ticks": "",
            "zerolinecolor": "#EBF0F8"
           }
          },
          "shapedefaults": {
           "line": {
            "color": "#2a3f5f"
           }
          },
          "ternary": {
           "aaxis": {
            "gridcolor": "#DFE8F3",
            "linecolor": "#A2B1C6",
            "ticks": ""
           },
           "baxis": {
            "gridcolor": "#DFE8F3",
            "linecolor": "#A2B1C6",
            "ticks": ""
           },
           "bgcolor": "white",
           "caxis": {
            "gridcolor": "#DFE8F3",
            "linecolor": "#A2B1C6",
            "ticks": ""
           }
          },
          "title": {
           "x": 0.05
          },
          "xaxis": {
           "automargin": true,
           "gridcolor": "#EBF0F8",
           "linecolor": "#EBF0F8",
           "ticks": "",
           "title": {
            "standoff": 15
           },
           "zerolinecolor": "#EBF0F8",
           "zerolinewidth": 2
          },
          "yaxis": {
           "automargin": true,
           "gridcolor": "#EBF0F8",
           "linecolor": "#EBF0F8",
           "ticks": "",
           "title": {
            "standoff": 15
           },
           "zerolinecolor": "#EBF0F8",
           "zerolinewidth": 2
          }
         }
        },
        "title": {
         "text": "Distribution of movies over time for the Indian communities"
        },
        "xaxis": {
         "title": {
          "text": "years"
         }
        },
        "yaxis": {
         "title": {
          "text": "community"
         }
        }
       }
      }
     },
     "metadata": {},
     "output_type": "display_data"
    }
   ],
   "source": [
    "fig = go.Figure()\n",
    "\n",
    "fig.add_trace(go.Box(x = datamov3.Movie_release_year,name = '3'))\n",
    "fig.add_trace(go.Box(x = datamov5.Movie_release_year,name = '5'))\n",
    "fig.add_trace(go.Box(x = datamov10.Movie_release_year,name = '10'))\n",
    "\n",
    "fig.update_layout(title = 'Distribution of movies over time for the Indian communities',template = 'plotly_white')\n",
    "fig.update_xaxes(title = 'years')\n",
    "fig.update_yaxes(title = 'community')\n",
    "fig.show()\n",
    "\n",
    "#fig.write_html('C:/Users/Public/ADA2022/weloic.github.io/_includes/india_time.html')"
   ]
  },
  {
   "cell_type": "code",
   "execution_count": 70,
   "metadata": {},
   "outputs": [
    {
     "name": "stdout",
     "output_type": "stream",
     "text": [
      "Ttest_indResult(statistic=-6.062525433826842, pvalue=1.4108695631365665e-09)\n",
      "Ttest_indResult(statistic=9.283480718604073, pvalue=2.4365309232416606e-20)\n",
      "Ttest_indResult(statistic=-15.074374794060214, pvalue=2.5498741497399483e-50)\n"
     ]
    }
   ],
   "source": [
    "print(stats.ttest_ind(datamov3.Movie_release_year.dropna(),datamov5.Movie_release_year.dropna()))\n",
    "print(stats.ttest_ind(datamov10.Movie_release_year.dropna(),datamov5.Movie_release_year.dropna()))\n",
    "print(stats.ttest_ind(datamov3.Movie_release_year.dropna(),datamov10.Movie_release_year.dropna()))"
   ]
  },
  {
   "cell_type": "code",
   "execution_count": 71,
   "metadata": {},
   "outputs": [
    {
     "name": "stdout",
     "output_type": "stream",
     "text": [
      "[('Drama', 2335), ('World cinema', 1558), ('Romance Film', 1132), ('Bollywood', 1077)]\n",
      "[('Drama', 1773), ('Romance Film', 757), ('Action', 717), ('World cinema', 620)]\n",
      "[('Drama', 957), ('Action', 388), ('Romance Film', 289), ('Comedy', 237)]\n"
     ]
    },
    {
     "ename": "FileNotFoundError",
     "evalue": "[Errno 2] No such file or directory: 'C:/Users/Public/ADA2022/weloic.github.io/_includes/india_genre.svg'",
     "output_type": "error",
     "traceback": [
      "\u001b[0;31m---------------------------------------------------------------------------\u001b[0m",
      "\u001b[0;31mFileNotFoundError\u001b[0m                         Traceback (most recent call last)",
      "\u001b[0;32m<ipython-input-71-52e370f7a423>\u001b[0m in \u001b[0;36m<module>\u001b[0;34m\u001b[0m\n\u001b[1;32m     13\u001b[0m \u001b[0mplot\u001b[0m \u001b[0;34m=\u001b[0m \u001b[0msns\u001b[0m\u001b[0;34m.\u001b[0m\u001b[0mheatmap\u001b[0m\u001b[0;34m(\u001b[0m\u001b[0mdata\u001b[0m\u001b[0;34m=\u001b[0m\u001b[0mfirst_genres\u001b[0m\u001b[0;34m,\u001b[0m\u001b[0mcmap\u001b[0m \u001b[0;34m=\u001b[0m \u001b[0;34m'magma_r'\u001b[0m\u001b[0;34m,\u001b[0m\u001b[0mannot\u001b[0m\u001b[0;34m=\u001b[0m\u001b[0;32mTrue\u001b[0m\u001b[0;34m)\u001b[0m\u001b[0;34m\u001b[0m\u001b[0;34m\u001b[0m\u001b[0m\n\u001b[1;32m     14\u001b[0m \u001b[0mfig\u001b[0m \u001b[0;34m=\u001b[0m \u001b[0mplot\u001b[0m\u001b[0;34m.\u001b[0m\u001b[0mget_figure\u001b[0m\u001b[0;34m(\u001b[0m\u001b[0;34m)\u001b[0m\u001b[0;34m\u001b[0m\u001b[0;34m\u001b[0m\u001b[0m\n\u001b[0;32m---> 15\u001b[0;31m \u001b[0mfig\u001b[0m\u001b[0;34m.\u001b[0m\u001b[0msavefig\u001b[0m\u001b[0;34m(\u001b[0m\u001b[0;34m\"C:/Users/Public/ADA2022/weloic.github.io/_includes/india_genre.svg\"\u001b[0m\u001b[0;34m)\u001b[0m\u001b[0;34m\u001b[0m\u001b[0;34m\u001b[0m\u001b[0m\n\u001b[0m",
      "\u001b[0;32m~/miniforge3/envs/tensorflow/lib/python3.9/site-packages/matplotlib/figure.py\u001b[0m in \u001b[0;36msavefig\u001b[0;34m(self, fname, transparent, **kwargs)\u001b[0m\n\u001b[1;32m   3010\u001b[0m                         ax.patch._cm_set(facecolor='none', edgecolor='none'))\n\u001b[1;32m   3011\u001b[0m \u001b[0;34m\u001b[0m\u001b[0m\n\u001b[0;32m-> 3012\u001b[0;31m             \u001b[0mself\u001b[0m\u001b[0;34m.\u001b[0m\u001b[0mcanvas\u001b[0m\u001b[0;34m.\u001b[0m\u001b[0mprint_figure\u001b[0m\u001b[0;34m(\u001b[0m\u001b[0mfname\u001b[0m\u001b[0;34m,\u001b[0m \u001b[0;34m**\u001b[0m\u001b[0mkwargs\u001b[0m\u001b[0;34m)\u001b[0m\u001b[0;34m\u001b[0m\u001b[0;34m\u001b[0m\u001b[0m\n\u001b[0m\u001b[1;32m   3013\u001b[0m \u001b[0;34m\u001b[0m\u001b[0m\n\u001b[1;32m   3014\u001b[0m     def ginput(self, n=1, timeout=30, show_clicks=True,\n",
      "\u001b[0;32m~/miniforge3/envs/tensorflow/lib/python3.9/site-packages/matplotlib/backend_bases.py\u001b[0m in \u001b[0;36mprint_figure\u001b[0;34m(self, filename, dpi, facecolor, edgecolor, orientation, format, bbox_inches, pad_inches, bbox_extra_artists, backend, **kwargs)\u001b[0m\n\u001b[1;32m   2312\u001b[0m                 \u001b[0;31m# force the figure dpi to 72), so we need to set it again here.\u001b[0m\u001b[0;34m\u001b[0m\u001b[0;34m\u001b[0m\u001b[0;34m\u001b[0m\u001b[0m\n\u001b[1;32m   2313\u001b[0m                 \u001b[0;32mwith\u001b[0m \u001b[0mcbook\u001b[0m\u001b[0;34m.\u001b[0m\u001b[0m_setattr_cm\u001b[0m\u001b[0;34m(\u001b[0m\u001b[0mself\u001b[0m\u001b[0;34m.\u001b[0m\u001b[0mfigure\u001b[0m\u001b[0;34m,\u001b[0m \u001b[0mdpi\u001b[0m\u001b[0;34m=\u001b[0m\u001b[0mdpi\u001b[0m\u001b[0;34m)\u001b[0m\u001b[0;34m:\u001b[0m\u001b[0;34m\u001b[0m\u001b[0;34m\u001b[0m\u001b[0m\n\u001b[0;32m-> 2314\u001b[0;31m                     result = print_method(\n\u001b[0m\u001b[1;32m   2315\u001b[0m                         \u001b[0mfilename\u001b[0m\u001b[0;34m,\u001b[0m\u001b[0;34m\u001b[0m\u001b[0;34m\u001b[0m\u001b[0m\n\u001b[1;32m   2316\u001b[0m                         \u001b[0mfacecolor\u001b[0m\u001b[0;34m=\u001b[0m\u001b[0mfacecolor\u001b[0m\u001b[0;34m,\u001b[0m\u001b[0;34m\u001b[0m\u001b[0;34m\u001b[0m\u001b[0m\n",
      "\u001b[0;32m~/miniforge3/envs/tensorflow/lib/python3.9/site-packages/matplotlib/backend_bases.py\u001b[0m in \u001b[0;36mwrapper\u001b[0;34m(*args, **kwargs)\u001b[0m\n\u001b[1;32m   1641\u001b[0m             \u001b[0mkwargs\u001b[0m\u001b[0;34m.\u001b[0m\u001b[0mpop\u001b[0m\u001b[0;34m(\u001b[0m\u001b[0marg\u001b[0m\u001b[0;34m)\u001b[0m\u001b[0;34m\u001b[0m\u001b[0;34m\u001b[0m\u001b[0m\n\u001b[1;32m   1642\u001b[0m \u001b[0;34m\u001b[0m\u001b[0m\n\u001b[0;32m-> 1643\u001b[0;31m         \u001b[0;32mreturn\u001b[0m \u001b[0mfunc\u001b[0m\u001b[0;34m(\u001b[0m\u001b[0;34m*\u001b[0m\u001b[0margs\u001b[0m\u001b[0;34m,\u001b[0m \u001b[0;34m**\u001b[0m\u001b[0mkwargs\u001b[0m\u001b[0;34m)\u001b[0m\u001b[0;34m\u001b[0m\u001b[0;34m\u001b[0m\u001b[0m\n\u001b[0m\u001b[1;32m   1644\u001b[0m \u001b[0;34m\u001b[0m\u001b[0m\n\u001b[1;32m   1645\u001b[0m     \u001b[0;32mreturn\u001b[0m \u001b[0mwrapper\u001b[0m\u001b[0;34m\u001b[0m\u001b[0;34m\u001b[0m\u001b[0m\n",
      "\u001b[0;32m~/miniforge3/envs/tensorflow/lib/python3.9/site-packages/matplotlib/_api/deprecation.py\u001b[0m in \u001b[0;36mwrapper\u001b[0;34m(*inner_args, **inner_kwargs)\u001b[0m\n\u001b[1;32m    384\u001b[0m             \u001b[0;31m# Early return in the simple, non-deprecated case (much faster than\u001b[0m\u001b[0;34m\u001b[0m\u001b[0;34m\u001b[0m\u001b[0;34m\u001b[0m\u001b[0m\n\u001b[1;32m    385\u001b[0m             \u001b[0;31m# calling bind()).\u001b[0m\u001b[0;34m\u001b[0m\u001b[0;34m\u001b[0m\u001b[0;34m\u001b[0m\u001b[0m\n\u001b[0;32m--> 386\u001b[0;31m             \u001b[0;32mreturn\u001b[0m \u001b[0mfunc\u001b[0m\u001b[0;34m(\u001b[0m\u001b[0;34m*\u001b[0m\u001b[0minner_args\u001b[0m\u001b[0;34m,\u001b[0m \u001b[0;34m**\u001b[0m\u001b[0minner_kwargs\u001b[0m\u001b[0;34m)\u001b[0m\u001b[0;34m\u001b[0m\u001b[0;34m\u001b[0m\u001b[0m\n\u001b[0m\u001b[1;32m    387\u001b[0m         \u001b[0marguments\u001b[0m \u001b[0;34m=\u001b[0m \u001b[0msignature\u001b[0m\u001b[0;34m.\u001b[0m\u001b[0mbind\u001b[0m\u001b[0;34m(\u001b[0m\u001b[0;34m*\u001b[0m\u001b[0minner_args\u001b[0m\u001b[0;34m,\u001b[0m \u001b[0;34m**\u001b[0m\u001b[0minner_kwargs\u001b[0m\u001b[0;34m)\u001b[0m\u001b[0;34m.\u001b[0m\u001b[0marguments\u001b[0m\u001b[0;34m\u001b[0m\u001b[0;34m\u001b[0m\u001b[0m\n\u001b[1;32m    388\u001b[0m         \u001b[0;32mif\u001b[0m \u001b[0mis_varargs\u001b[0m \u001b[0;32mand\u001b[0m \u001b[0marguments\u001b[0m\u001b[0;34m.\u001b[0m\u001b[0mget\u001b[0m\u001b[0;34m(\u001b[0m\u001b[0mname\u001b[0m\u001b[0;34m)\u001b[0m\u001b[0;34m:\u001b[0m\u001b[0;34m\u001b[0m\u001b[0;34m\u001b[0m\u001b[0m\n",
      "\u001b[0;32m~/miniforge3/envs/tensorflow/lib/python3.9/site-packages/matplotlib/_api/deprecation.py\u001b[0m in \u001b[0;36mwrapper\u001b[0;34m(*inner_args, **inner_kwargs)\u001b[0m\n\u001b[1;32m    410\u001b[0m                          \u001b[0;32melse\u001b[0m \u001b[0mdeprecation_addendum\u001b[0m\u001b[0;34m,\u001b[0m\u001b[0;34m\u001b[0m\u001b[0;34m\u001b[0m\u001b[0m\n\u001b[1;32m    411\u001b[0m                 **kwargs)\n\u001b[0;32m--> 412\u001b[0;31m         \u001b[0;32mreturn\u001b[0m \u001b[0mfunc\u001b[0m\u001b[0;34m(\u001b[0m\u001b[0;34m*\u001b[0m\u001b[0minner_args\u001b[0m\u001b[0;34m,\u001b[0m \u001b[0;34m**\u001b[0m\u001b[0minner_kwargs\u001b[0m\u001b[0;34m)\u001b[0m\u001b[0;34m\u001b[0m\u001b[0;34m\u001b[0m\u001b[0m\n\u001b[0m\u001b[1;32m    413\u001b[0m \u001b[0;34m\u001b[0m\u001b[0m\n\u001b[1;32m    414\u001b[0m     \u001b[0mDECORATORS\u001b[0m\u001b[0;34m[\u001b[0m\u001b[0mwrapper\u001b[0m\u001b[0;34m]\u001b[0m \u001b[0;34m=\u001b[0m \u001b[0mdecorator\u001b[0m\u001b[0;34m\u001b[0m\u001b[0;34m\u001b[0m\u001b[0m\n",
      "\u001b[0;32m~/miniforge3/envs/tensorflow/lib/python3.9/site-packages/matplotlib/backends/backend_svg.py\u001b[0m in \u001b[0;36mprint_svg\u001b[0;34m(self, filename, dpi, bbox_inches_restore, metadata, *args)\u001b[0m\n\u001b[1;32m   1319\u001b[0m             \u001b[0m__\u001b[0m \u001b[0mDC_\u001b[0m\u001b[0;34m\u001b[0m\u001b[0;34m\u001b[0m\u001b[0m\n\u001b[1;32m   1320\u001b[0m         \"\"\"\n\u001b[0;32m-> 1321\u001b[0;31m         \u001b[0;32mwith\u001b[0m \u001b[0mcbook\u001b[0m\u001b[0;34m.\u001b[0m\u001b[0mopen_file_cm\u001b[0m\u001b[0;34m(\u001b[0m\u001b[0mfilename\u001b[0m\u001b[0;34m,\u001b[0m \u001b[0;34m\"w\"\u001b[0m\u001b[0;34m,\u001b[0m \u001b[0mencoding\u001b[0m\u001b[0;34m=\u001b[0m\u001b[0;34m\"utf-8\"\u001b[0m\u001b[0;34m)\u001b[0m \u001b[0;32mas\u001b[0m \u001b[0mfh\u001b[0m\u001b[0;34m:\u001b[0m\u001b[0;34m\u001b[0m\u001b[0;34m\u001b[0m\u001b[0m\n\u001b[0m\u001b[1;32m   1322\u001b[0m             \u001b[0;32mif\u001b[0m \u001b[0;32mnot\u001b[0m \u001b[0mcbook\u001b[0m\u001b[0;34m.\u001b[0m\u001b[0mfile_requires_unicode\u001b[0m\u001b[0;34m(\u001b[0m\u001b[0mfh\u001b[0m\u001b[0;34m)\u001b[0m\u001b[0;34m:\u001b[0m\u001b[0;34m\u001b[0m\u001b[0;34m\u001b[0m\u001b[0m\n\u001b[1;32m   1323\u001b[0m                 \u001b[0mfh\u001b[0m \u001b[0;34m=\u001b[0m \u001b[0mcodecs\u001b[0m\u001b[0;34m.\u001b[0m\u001b[0mgetwriter\u001b[0m\u001b[0;34m(\u001b[0m\u001b[0;34m'utf-8'\u001b[0m\u001b[0;34m)\u001b[0m\u001b[0;34m(\u001b[0m\u001b[0mfh\u001b[0m\u001b[0;34m)\u001b[0m\u001b[0;34m\u001b[0m\u001b[0;34m\u001b[0m\u001b[0m\n",
      "\u001b[0;32m~/miniforge3/envs/tensorflow/lib/python3.9/site-packages/matplotlib/cbook/__init__.py\u001b[0m in \u001b[0;36mopen_file_cm\u001b[0;34m(path_or_file, mode, encoding)\u001b[0m\n\u001b[1;32m    463\u001b[0m \u001b[0;32mdef\u001b[0m \u001b[0mopen_file_cm\u001b[0m\u001b[0;34m(\u001b[0m\u001b[0mpath_or_file\u001b[0m\u001b[0;34m,\u001b[0m \u001b[0mmode\u001b[0m\u001b[0;34m=\u001b[0m\u001b[0;34m\"r\"\u001b[0m\u001b[0;34m,\u001b[0m \u001b[0mencoding\u001b[0m\u001b[0;34m=\u001b[0m\u001b[0;32mNone\u001b[0m\u001b[0;34m)\u001b[0m\u001b[0;34m:\u001b[0m\u001b[0;34m\u001b[0m\u001b[0;34m\u001b[0m\u001b[0m\n\u001b[1;32m    464\u001b[0m     \u001b[0;34mr\"\"\"Pass through file objects and context-manage path-likes.\"\"\"\u001b[0m\u001b[0;34m\u001b[0m\u001b[0;34m\u001b[0m\u001b[0m\n\u001b[0;32m--> 465\u001b[0;31m     \u001b[0mfh\u001b[0m\u001b[0;34m,\u001b[0m \u001b[0mopened\u001b[0m \u001b[0;34m=\u001b[0m \u001b[0mto_filehandle\u001b[0m\u001b[0;34m(\u001b[0m\u001b[0mpath_or_file\u001b[0m\u001b[0;34m,\u001b[0m \u001b[0mmode\u001b[0m\u001b[0;34m,\u001b[0m \u001b[0;32mTrue\u001b[0m\u001b[0;34m,\u001b[0m \u001b[0mencoding\u001b[0m\u001b[0;34m)\u001b[0m\u001b[0;34m\u001b[0m\u001b[0;34m\u001b[0m\u001b[0m\n\u001b[0m\u001b[1;32m    466\u001b[0m     \u001b[0;32mreturn\u001b[0m \u001b[0mfh\u001b[0m \u001b[0;32mif\u001b[0m \u001b[0mopened\u001b[0m \u001b[0;32melse\u001b[0m \u001b[0mcontextlib\u001b[0m\u001b[0;34m.\u001b[0m\u001b[0mnullcontext\u001b[0m\u001b[0;34m(\u001b[0m\u001b[0mfh\u001b[0m\u001b[0;34m)\u001b[0m\u001b[0;34m\u001b[0m\u001b[0;34m\u001b[0m\u001b[0m\n\u001b[1;32m    467\u001b[0m \u001b[0;34m\u001b[0m\u001b[0m\n",
      "\u001b[0;32m~/miniforge3/envs/tensorflow/lib/python3.9/site-packages/matplotlib/cbook/__init__.py\u001b[0m in \u001b[0;36mto_filehandle\u001b[0;34m(fname, flag, return_opened, encoding)\u001b[0m\n\u001b[1;32m    449\u001b[0m             \u001b[0mfh\u001b[0m \u001b[0;34m=\u001b[0m \u001b[0mbz2\u001b[0m\u001b[0;34m.\u001b[0m\u001b[0mBZ2File\u001b[0m\u001b[0;34m(\u001b[0m\u001b[0mfname\u001b[0m\u001b[0;34m,\u001b[0m \u001b[0mflag\u001b[0m\u001b[0;34m)\u001b[0m\u001b[0;34m\u001b[0m\u001b[0;34m\u001b[0m\u001b[0m\n\u001b[1;32m    450\u001b[0m         \u001b[0;32melse\u001b[0m\u001b[0;34m:\u001b[0m\u001b[0;34m\u001b[0m\u001b[0;34m\u001b[0m\u001b[0m\n\u001b[0;32m--> 451\u001b[0;31m             \u001b[0mfh\u001b[0m \u001b[0;34m=\u001b[0m \u001b[0mopen\u001b[0m\u001b[0;34m(\u001b[0m\u001b[0mfname\u001b[0m\u001b[0;34m,\u001b[0m \u001b[0mflag\u001b[0m\u001b[0;34m,\u001b[0m \u001b[0mencoding\u001b[0m\u001b[0;34m=\u001b[0m\u001b[0mencoding\u001b[0m\u001b[0;34m)\u001b[0m\u001b[0;34m\u001b[0m\u001b[0;34m\u001b[0m\u001b[0m\n\u001b[0m\u001b[1;32m    452\u001b[0m         \u001b[0mopened\u001b[0m \u001b[0;34m=\u001b[0m \u001b[0;32mTrue\u001b[0m\u001b[0;34m\u001b[0m\u001b[0;34m\u001b[0m\u001b[0m\n\u001b[1;32m    453\u001b[0m     \u001b[0;32melif\u001b[0m \u001b[0mhasattr\u001b[0m\u001b[0;34m(\u001b[0m\u001b[0mfname\u001b[0m\u001b[0;34m,\u001b[0m \u001b[0;34m'seek'\u001b[0m\u001b[0;34m)\u001b[0m\u001b[0;34m:\u001b[0m\u001b[0;34m\u001b[0m\u001b[0;34m\u001b[0m\u001b[0m\n",
      "\u001b[0;31mFileNotFoundError\u001b[0m: [Errno 2] No such file or directory: 'C:/Users/Public/ADA2022/weloic.github.io/_includes/india_genre.svg'"
     ]
    },
    {
     "data": {
      "image/png": "[encoded data removed]",
      "text/plain": [
       "<Figure size 432x288 with 2 Axes>"
      ]
     },
     "metadata": {
      "needs_background": "light"
     },
     "output_type": "display_data"
    }
   ],
   "source": [
    "n = 4\n",
    "\n",
    "first_genres = pd.DataFrame(columns=['genre'])\n",
    "for i in [3,5,10]:\n",
    "    genres = Counter([x for y in vars()['datamov' + str(i)]['Movie_genres'].values for x in y]).most_common(n)\n",
    "    print(genres)\n",
    "    genres = pd.DataFrame(data=genres, columns=['genre',str(i)])\n",
    "    first_genres = first_genres.merge(genres,how='outer',on='genre')\n",
    "    normalization = len(vars()['datamov' + str(i)])\n",
    "    first_genres[str(i)]= first_genres[str(i)].apply(lambda x : x/normalization*100)\n",
    "\n",
    "first_genres.set_index(['genre'],inplace = True)\n",
    "plot = sns.heatmap(data=first_genres,cmap = 'magma_r',annot=True)\n",
    "fig = plot.get_figure()\n",
    "fig.savefig(\"C:/Users/Public/ADA2022/weloic.github.io/_includes/india_genre.svg\")"
   ]
  },
  {
   "cell_type": "code",
   "execution_count": 72,
   "metadata": {},
   "outputs": [
    {
     "data": {
      "application/vnd.plotly.v1+json": {
       "config": {
        "plotlyServerURL": "https://plot.ly"
       },
       "data": [
        {
         "coloraxis": "coloraxis",
         "hovertemplate": "x: %{x}<br>genre: %{y}<br>% movies: %{z}<extra></extra>",
         "name": "0",
         "texttemplate": "%{z:.0f}",
         "type": "heatmap",
         "x": [
          "3",
          "5",
          "10"
         ],
         "xaxis": "x",
         "y": [
          "Drama",
          "World cinema",
          "Romance Film",
          "Bollywood",
          "Action",
          "Comedy"
         ],
         "yaxis": "y",
         "z": [
          [
           58.53597392830283,
           52.92537313432836,
           56.09613130128957
          ],
          [
           39.05740787164703,
           18.507462686567163,
           null
          ],
          [
           28.378039608924542,
           22.597014925373134,
           16.94021101992966
          ],
          [
           26.999247931812487,
           null,
           null
          ],
          [
           null,
           21.402985074626866,
           22.743259085580306
          ],
          [
           null,
           null,
           13.892145369284878
          ]
         ]
        }
       ],
       "layout": {
        "coloraxis": {
         "colorbar": {
          "title": {
           "text": "% movies"
          }
         },
         "colorscale": [
          [
           0,
           "rgb(237, 239, 93)"
          ],
          [
           0.16666666666666666,
           "rgb(169, 220, 103)"
          ],
          [
           0.3333333333333333,
           "rgb(110, 197, 116)"
          ],
          [
           0.5,
           "rgb(57, 171, 126)"
          ],
          [
           0.6666666666666666,
           "rgb(13, 143, 129)"
          ],
          [
           0.8333333333333334,
           "rgb(15, 114, 121)"
          ],
          [
           1,
           "rgb(36, 86, 104)"
          ]
         ]
        },
        "margin": {
         "t": 60
        },
        "template": {
         "data": {
          "bar": [
           {
            "error_x": {
             "color": "#2a3f5f"
            },
            "error_y": {
             "color": "#2a3f5f"
            },
            "marker": {
             "line": {
              "color": "white",
              "width": 0.5
             },
             "pattern": {
              "fillmode": "overlay",
              "size": 10,
              "solidity": 0.2
             }
            },
            "type": "bar"
           }
          ],
          "barpolar": [
           {
            "marker": {
             "line": {
              "color": "white",
              "width": 0.5
             },
             "pattern": {
              "fillmode": "overlay",
              "size": 10,
              "solidity": 0.2
             }
            },
            "type": "barpolar"
           }
          ],
          "carpet": [
           {
            "aaxis": {
             "endlinecolor": "#2a3f5f",
             "gridcolor": "#C8D4E3",
             "linecolor": "#C8D4E3",
             "minorgridcolor": "#C8D4E3",
             "startlinecolor": "#2a3f5f"
            },
            "baxis": {
             "endlinecolor": "#2a3f5f",
             "gridcolor": "#C8D4E3",
             "linecolor": "#C8D4E3",
             "minorgridcolor": "#C8D4E3",
             "startlinecolor": "#2a3f5f"
            },
            "type": "carpet"
           }
          ],
          "choropleth": [
           {
            "colorbar": {
             "outlinewidth": 0,
             "ticks": ""
            },
            "type": "choropleth"
           }
          ],
          "contour": [
           {
            "colorbar": {
             "outlinewidth": 0,
             "ticks": ""
            },
            "colorscale": [
             [
              0,
              "#0d0887"
             ],
             [
              0.1111111111111111,
              "#46039f"
             ],
             [
              0.2222222222222222,
              "#7201a8"
             ],
             [
              0.3333333333333333,
              "#9c179e"
             ],
             [
              0.4444444444444444,
              "#bd3786"
             ],
             [
              0.5555555555555556,
              "#d8576b"
             ],
             [
              0.6666666666666666,
              "#ed7953"
             ],
             [
              0.7777777777777778,
              "#fb9f3a"
             ],
             [
              0.8888888888888888,
              "#fdca26"
             ],
             [
              1,
              "#f0f921"
             ]
            ],
            "type": "contour"
           }
          ],
          "contourcarpet": [
           {
            "colorbar": {
             "outlinewidth": 0,
             "ticks": ""
            },
            "type": "contourcarpet"
           }
          ],
          "heatmap": [
           {
            "colorbar": {
             "outlinewidth": 0,
             "ticks": ""
            },
            "colorscale": [
             [
              0,
              "#0d0887"
             ],
             [
              0.1111111111111111,
              "#46039f"
             ],
             [
              0.2222222222222222,
              "#7201a8"
             ],
             [
              0.3333333333333333,
              "#9c179e"
             ],
             [
              0.4444444444444444,
              "#bd3786"
             ],
             [
              0.5555555555555556,
              "#d8576b"
             ],
             [
              0.6666666666666666,
              "#ed7953"
             ],
             [
              0.7777777777777778,
              "#fb9f3a"
             ],
             [
              0.8888888888888888,
              "#fdca26"
             ],
             [
              1,
              "#f0f921"
             ]
            ],
            "type": "heatmap"
           }
          ],
          "heatmapgl": [
           {
            "colorbar": {
             "outlinewidth": 0,
             "ticks": ""
            },
            "colorscale": [
             [
              0,
              "#0d0887"
             ],
             [
              0.1111111111111111,
              "#46039f"
             ],
             [
              0.2222222222222222,
              "#7201a8"
             ],
             [
              0.3333333333333333,
              "#9c179e"
             ],
             [
              0.4444444444444444,
              "#bd3786"
             ],
             [
              0.5555555555555556,
              "#d8576b"
             ],
             [
              0.6666666666666666,
              "#ed7953"
             ],
             [
              0.7777777777777778,
              "#fb9f3a"
             ],
             [
              0.8888888888888888,
              "#fdca26"
             ],
             [
              1,
              "#f0f921"
             ]
            ],
            "type": "heatmapgl"
           }
          ],
          "histogram": [
           {
            "marker": {
             "pattern": {
              "fillmode": "overlay",
              "size": 10,
              "solidity": 0.2
             }
            },
            "type": "histogram"
           }
          ],
          "histogram2d": [
           {
            "colorbar": {
             "outlinewidth": 0,
             "ticks": ""
            },
            "colorscale": [
             [
              0,
              "#0d0887"
             ],
             [
              0.1111111111111111,
              "#46039f"
             ],
             [
              0.2222222222222222,
              "#7201a8"
             ],
             [
              0.3333333333333333,
              "#9c179e"
             ],
             [
              0.4444444444444444,
              "#bd3786"
             ],
             [
              0.5555555555555556,
              "#d8576b"
             ],
             [
              0.6666666666666666,
              "#ed7953"
             ],
             [
              0.7777777777777778,
              "#fb9f3a"
             ],
             [
              0.8888888888888888,
              "#fdca26"
             ],
             [
              1,
              "#f0f921"
             ]
            ],
            "type": "histogram2d"
           }
          ],
          "histogram2dcontour": [
           {
            "colorbar": {
             "outlinewidth": 0,
             "ticks": ""
            },
            "colorscale": [
             [
              0,
              "#0d0887"
             ],
             [
              0.1111111111111111,
              "#46039f"
             ],
             [
              0.2222222222222222,
              "#7201a8"
             ],
             [
              0.3333333333333333,
              "#9c179e"
             ],
             [
              0.4444444444444444,
              "#bd3786"
             ],
             [
              0.5555555555555556,
              "#d8576b"
             ],
             [
              0.6666666666666666,
              "#ed7953"
             ],
             [
              0.7777777777777778,
              "#fb9f3a"
             ],
             [
              0.8888888888888888,
              "#fdca26"
             ],
             [
              1,
              "#f0f921"
             ]
            ],
            "type": "histogram2dcontour"
           }
          ],
          "mesh3d": [
           {
            "colorbar": {
             "outlinewidth": 0,
             "ticks": ""
            },
            "type": "mesh3d"
           }
          ],
          "parcoords": [
           {
            "line": {
             "colorbar": {
              "outlinewidth": 0,
              "ticks": ""
             }
            },
            "type": "parcoords"
           }
          ],
          "pie": [
           {
            "automargin": true,
            "type": "pie"
           }
          ],
          "scatter": [
           {
            "fillpattern": {
             "fillmode": "overlay",
             "size": 10,
             "solidity": 0.2
            },
            "type": "scatter"
           }
          ],
          "scatter3d": [
           {
            "line": {
             "colorbar": {
              "outlinewidth": 0,
              "ticks": ""
             }
            },
            "marker": {
             "colorbar": {
              "outlinewidth": 0,
              "ticks": ""
             }
            },
            "type": "scatter3d"
           }
          ],
          "scattercarpet": [
           {
            "marker": {
             "colorbar": {
              "outlinewidth": 0,
              "ticks": ""
             }
            },
            "type": "scattercarpet"
           }
          ],
          "scattergeo": [
           {
            "marker": {
             "colorbar": {
              "outlinewidth": 0,
              "ticks": ""
             }
            },
            "type": "scattergeo"
           }
          ],
          "scattergl": [
           {
            "marker": {
             "colorbar": {
              "outlinewidth": 0,
              "ticks": ""
             }
            },
            "type": "scattergl"
           }
          ],
          "scattermapbox": [
           {
            "marker": {
             "colorbar": {
              "outlinewidth": 0,
              "ticks": ""
             }
            },
            "type": "scattermapbox"
           }
          ],
          "scatterpolar": [
           {
            "marker": {
             "colorbar": {
              "outlinewidth": 0,
              "ticks": ""
             }
            },
            "type": "scatterpolar"
           }
          ],
          "scatterpolargl": [
           {
            "marker": {
             "colorbar": {
              "outlinewidth": 0,
              "ticks": ""
             }
            },
            "type": "scatterpolargl"
           }
          ],
          "scatterternary": [
           {
            "marker": {
             "colorbar": {
              "outlinewidth": 0,
              "ticks": ""
             }
            },
            "type": "scatterternary"
           }
          ],
          "surface": [
           {
            "colorbar": {
             "outlinewidth": 0,
             "ticks": ""
            },
            "colorscale": [
             [
              0,
              "#0d0887"
             ],
             [
              0.1111111111111111,
              "#46039f"
             ],
             [
              0.2222222222222222,
              "#7201a8"
             ],
             [
              0.3333333333333333,
              "#9c179e"
             ],
             [
              0.4444444444444444,
              "#bd3786"
             ],
             [
              0.5555555555555556,
              "#d8576b"
             ],
             [
              0.6666666666666666,
              "#ed7953"
             ],
             [
              0.7777777777777778,
              "#fb9f3a"
             ],
             [
              0.8888888888888888,
              "#fdca26"
             ],
             [
              1,
              "#f0f921"
             ]
            ],
            "type": "surface"
           }
          ],
          "table": [
           {
            "cells": {
             "fill": {
              "color": "#EBF0F8"
             },
             "line": {
              "color": "white"
             }
            },
            "header": {
             "fill": {
              "color": "#C8D4E3"
             },
             "line": {
              "color": "white"
             }
            },
            "type": "table"
           }
          ]
         },
         "layout": {
          "annotationdefaults": {
           "arrowcolor": "#2a3f5f",
           "arrowhead": 0,
           "arrowwidth": 1
          },
          "autotypenumbers": "strict",
          "coloraxis": {
           "colorbar": {
            "outlinewidth": 0,
            "ticks": ""
           }
          },
          "colorscale": {
           "diverging": [
            [
             0,
             "#8e0152"
            ],
            [
             0.1,
             "#c51b7d"
            ],
            [
             0.2,
             "#de77ae"
            ],
            [
             0.3,
             "#f1b6da"
            ],
            [
             0.4,
             "#fde0ef"
            ],
            [
             0.5,
             "#f7f7f7"
            ],
            [
             0.6,
             "#e6f5d0"
            ],
            [
             0.7,
             "#b8e186"
            ],
            [
             0.8,
             "#7fbc41"
            ],
            [
             0.9,
             "#4d9221"
            ],
            [
             1,
             "#276419"
            ]
           ],
           "sequential": [
            [
             0,
             "#0d0887"
            ],
            [
             0.1111111111111111,
             "#46039f"
            ],
            [
             0.2222222222222222,
             "#7201a8"
            ],
            [
             0.3333333333333333,
             "#9c179e"
            ],
            [
             0.4444444444444444,
             "#bd3786"
            ],
            [
             0.5555555555555556,
             "#d8576b"
            ],
            [
             0.6666666666666666,
             "#ed7953"
            ],
            [
             0.7777777777777778,
             "#fb9f3a"
            ],
            [
             0.8888888888888888,
             "#fdca26"
            ],
            [
             1,
             "#f0f921"
            ]
           ],
           "sequentialminus": [
            [
             0,
             "#0d0887"
            ],
            [
             0.1111111111111111,
             "#46039f"
            ],
            [
             0.2222222222222222,
             "#7201a8"
            ],
            [
             0.3333333333333333,
             "#9c179e"
            ],
            [
             0.4444444444444444,
             "#bd3786"
            ],
            [
             0.5555555555555556,
             "#d8576b"
            ],
            [
             0.6666666666666666,
             "#ed7953"
            ],
            [
             0.7777777777777778,
             "#fb9f3a"
            ],
            [
             0.8888888888888888,
             "#fdca26"
            ],
            [
             1,
             "#f0f921"
            ]
           ]
          },
          "colorway": [
           "#636efa",
           "#EF553B",
           "#00cc96",
           "#ab63fa",
           "#FFA15A",
           "#19d3f3",
           "#FF6692",
           "#B6E880",
           "#FF97FF",
           "#FECB52"
          ],
          "font": {
           "color": "#2a3f5f"
          },
          "geo": {
           "bgcolor": "white",
           "lakecolor": "white",
           "landcolor": "white",
           "showlakes": true,
           "showland": true,
           "subunitcolor": "#C8D4E3"
          },
          "hoverlabel": {
           "align": "left"
          },
          "hovermode": "closest",
          "mapbox": {
           "style": "light"
          },
          "paper_bgcolor": "white",
          "plot_bgcolor": "white",
          "polar": {
           "angularaxis": {
            "gridcolor": "#EBF0F8",
            "linecolor": "#EBF0F8",
            "ticks": ""
           },
           "bgcolor": "white",
           "radialaxis": {
            "gridcolor": "#EBF0F8",
            "linecolor": "#EBF0F8",
            "ticks": ""
           }
          },
          "scene": {
           "xaxis": {
            "backgroundcolor": "white",
            "gridcolor": "#DFE8F3",
            "gridwidth": 2,
            "linecolor": "#EBF0F8",
            "showbackground": true,
            "ticks": "",
            "zerolinecolor": "#EBF0F8"
           },
           "yaxis": {
            "backgroundcolor": "white",
            "gridcolor": "#DFE8F3",
            "gridwidth": 2,
            "linecolor": "#EBF0F8",
            "showbackground": true,
            "ticks": "",
            "zerolinecolor": "#EBF0F8"
           },
           "zaxis": {
            "backgroundcolor": "white",
            "gridcolor": "#DFE8F3",
            "gridwidth": 2,
            "linecolor": "#EBF0F8",
            "showbackground": true,
            "ticks": "",
            "zerolinecolor": "#EBF0F8"
           }
          },
          "shapedefaults": {
           "line": {
            "color": "#2a3f5f"
           }
          },
          "ternary": {
           "aaxis": {
            "gridcolor": "#DFE8F3",
            "linecolor": "#A2B1C6",
            "ticks": ""
           },
           "baxis": {
            "gridcolor": "#DFE8F3",
            "linecolor": "#A2B1C6",
            "ticks": ""
           },
           "bgcolor": "white",
           "caxis": {
            "gridcolor": "#DFE8F3",
            "linecolor": "#A2B1C6",
            "ticks": ""
           }
          },
          "title": {
           "x": 0.05
          },
          "xaxis": {
           "automargin": true,
           "gridcolor": "#EBF0F8",
           "linecolor": "#EBF0F8",
           "ticks": "",
           "title": {
            "standoff": 15
           },
           "zerolinecolor": "#EBF0F8",
           "zerolinewidth": 2
          },
          "yaxis": {
           "automargin": true,
           "gridcolor": "#EBF0F8",
           "linecolor": "#EBF0F8",
           "ticks": "",
           "title": {
            "standoff": 15
           },
           "zerolinecolor": "#EBF0F8",
           "zerolinewidth": 2
          }
         }
        },
        "title": {
         "text": "Genre appearances in Indian communities"
        },
        "xaxis": {
         "anchor": "y",
         "constrain": "domain",
         "domain": [
          0,
          1
         ],
         "scaleanchor": "y",
         "title": {
          "text": "Community"
         }
        },
        "yaxis": {
         "anchor": "x",
         "autorange": "reversed",
         "constrain": "domain",
         "domain": [
          0,
          1
         ],
         "title": {
          "text": "Genre"
         }
        }
       }
      }
     },
     "metadata": {},
     "output_type": "display_data"
    },
    {
     "ename": "FileNotFoundError",
     "evalue": "[Errno 2] No such file or directory: 'C:/Users/Public/ADA2022/weloic.github.io/_includes/india_genres.html'",
     "output_type": "error",
     "traceback": [
      "\u001b[0;31m---------------------------------------------------------------------------\u001b[0m",
      "\u001b[0;31mFileNotFoundError\u001b[0m                         Traceback (most recent call last)",
      "\u001b[0;32m<ipython-input-72-54a0cea65c24>\u001b[0m in \u001b[0;36m<module>\u001b[0;34m\u001b[0m\n\u001b[1;32m      4\u001b[0m \u001b[0mfig\u001b[0m\u001b[0;34m.\u001b[0m\u001b[0mupdate_layout\u001b[0m\u001b[0;34m(\u001b[0m\u001b[0mtitle\u001b[0m \u001b[0;34m=\u001b[0m \u001b[0;34m'Genre appearances in Indian communities'\u001b[0m\u001b[0;34m,\u001b[0m \u001b[0mtemplate\u001b[0m \u001b[0;34m=\u001b[0m \u001b[0;34m'plotly_white'\u001b[0m\u001b[0;34m)\u001b[0m\u001b[0;34m\u001b[0m\u001b[0;34m\u001b[0m\u001b[0m\n\u001b[1;32m      5\u001b[0m \u001b[0mfig\u001b[0m\u001b[0;34m.\u001b[0m\u001b[0mshow\u001b[0m\u001b[0;34m(\u001b[0m\u001b[0;34m)\u001b[0m\u001b[0;34m\u001b[0m\u001b[0;34m\u001b[0m\u001b[0m\n\u001b[0;32m----> 6\u001b[0;31m \u001b[0mfig\u001b[0m\u001b[0;34m.\u001b[0m\u001b[0mwrite_html\u001b[0m\u001b[0;34m(\u001b[0m\u001b[0;34m'C:/Users/Public/ADA2022/weloic.github.io/_includes/india_genres.html'\u001b[0m\u001b[0;34m)\u001b[0m\u001b[0;34m\u001b[0m\u001b[0;34m\u001b[0m\u001b[0m\n\u001b[0m",
      "\u001b[0;32m~/miniforge3/envs/tensorflow/lib/python3.9/site-packages/plotly/basedatatypes.py\u001b[0m in \u001b[0;36mwrite_html\u001b[0;34m(self, *args, **kwargs)\u001b[0m\n\u001b[1;32m   3708\u001b[0m         \u001b[0;32mimport\u001b[0m \u001b[0mplotly\u001b[0m\u001b[0;34m.\u001b[0m\u001b[0mio\u001b[0m \u001b[0;32mas\u001b[0m \u001b[0mpio\u001b[0m\u001b[0;34m\u001b[0m\u001b[0;34m\u001b[0m\u001b[0m\n\u001b[1;32m   3709\u001b[0m \u001b[0;34m\u001b[0m\u001b[0m\n\u001b[0;32m-> 3710\u001b[0;31m         \u001b[0;32mreturn\u001b[0m \u001b[0mpio\u001b[0m\u001b[0;34m.\u001b[0m\u001b[0mwrite_html\u001b[0m\u001b[0;34m(\u001b[0m\u001b[0mself\u001b[0m\u001b[0;34m,\u001b[0m \u001b[0;34m*\u001b[0m\u001b[0margs\u001b[0m\u001b[0;34m,\u001b[0m \u001b[0;34m**\u001b[0m\u001b[0mkwargs\u001b[0m\u001b[0;34m)\u001b[0m\u001b[0;34m\u001b[0m\u001b[0;34m\u001b[0m\u001b[0m\n\u001b[0m\u001b[1;32m   3711\u001b[0m \u001b[0;34m\u001b[0m\u001b[0m\n\u001b[1;32m   3712\u001b[0m     \u001b[0;32mdef\u001b[0m \u001b[0mto_image\u001b[0m\u001b[0;34m(\u001b[0m\u001b[0mself\u001b[0m\u001b[0;34m,\u001b[0m \u001b[0;34m*\u001b[0m\u001b[0margs\u001b[0m\u001b[0;34m,\u001b[0m \u001b[0;34m**\u001b[0m\u001b[0mkwargs\u001b[0m\u001b[0;34m)\u001b[0m\u001b[0;34m:\u001b[0m\u001b[0;34m\u001b[0m\u001b[0;34m\u001b[0m\u001b[0m\n",
      "\u001b[0;32m~/miniforge3/envs/tensorflow/lib/python3.9/site-packages/plotly/io/_html.py\u001b[0m in \u001b[0;36mwrite_html\u001b[0;34m(fig, file, config, auto_play, include_plotlyjs, include_mathjax, post_script, full_html, animation_opts, validate, default_width, default_height, auto_open, div_id)\u001b[0m\n\u001b[1;32m    540\u001b[0m     \u001b[0;31m# Write HTML string\u001b[0m\u001b[0;34m\u001b[0m\u001b[0;34m\u001b[0m\u001b[0;34m\u001b[0m\u001b[0m\n\u001b[1;32m    541\u001b[0m     \u001b[0;32mif\u001b[0m \u001b[0mpath\u001b[0m \u001b[0;32mis\u001b[0m \u001b[0;32mnot\u001b[0m \u001b[0;32mNone\u001b[0m\u001b[0;34m:\u001b[0m\u001b[0;34m\u001b[0m\u001b[0;34m\u001b[0m\u001b[0m\n\u001b[0;32m--> 542\u001b[0;31m         \u001b[0mpath\u001b[0m\u001b[0;34m.\u001b[0m\u001b[0mwrite_text\u001b[0m\u001b[0;34m(\u001b[0m\u001b[0mhtml_str\u001b[0m\u001b[0;34m)\u001b[0m\u001b[0;34m\u001b[0m\u001b[0;34m\u001b[0m\u001b[0m\n\u001b[0m\u001b[1;32m    543\u001b[0m     \u001b[0;32melse\u001b[0m\u001b[0;34m:\u001b[0m\u001b[0;34m\u001b[0m\u001b[0;34m\u001b[0m\u001b[0m\n\u001b[1;32m    544\u001b[0m         \u001b[0mfile\u001b[0m\u001b[0;34m.\u001b[0m\u001b[0mwrite\u001b[0m\u001b[0;34m(\u001b[0m\u001b[0mhtml_str\u001b[0m\u001b[0;34m)\u001b[0m\u001b[0;34m\u001b[0m\u001b[0;34m\u001b[0m\u001b[0m\n",
      "\u001b[0;32m~/miniforge3/envs/tensorflow/lib/python3.9/pathlib.py\u001b[0m in \u001b[0;36mwrite_text\u001b[0;34m(self, data, encoding, errors)\u001b[0m\n\u001b[1;32m   1273\u001b[0m             raise TypeError('data must be str, not %s' %\n\u001b[1;32m   1274\u001b[0m                             data.__class__.__name__)\n\u001b[0;32m-> 1275\u001b[0;31m         \u001b[0;32mwith\u001b[0m \u001b[0mself\u001b[0m\u001b[0;34m.\u001b[0m\u001b[0mopen\u001b[0m\u001b[0;34m(\u001b[0m\u001b[0mmode\u001b[0m\u001b[0;34m=\u001b[0m\u001b[0;34m'w'\u001b[0m\u001b[0;34m,\u001b[0m \u001b[0mencoding\u001b[0m\u001b[0;34m=\u001b[0m\u001b[0mencoding\u001b[0m\u001b[0;34m,\u001b[0m \u001b[0merrors\u001b[0m\u001b[0;34m=\u001b[0m\u001b[0merrors\u001b[0m\u001b[0;34m)\u001b[0m \u001b[0;32mas\u001b[0m \u001b[0mf\u001b[0m\u001b[0;34m:\u001b[0m\u001b[0;34m\u001b[0m\u001b[0;34m\u001b[0m\u001b[0m\n\u001b[0m\u001b[1;32m   1276\u001b[0m             \u001b[0;32mreturn\u001b[0m \u001b[0mf\u001b[0m\u001b[0;34m.\u001b[0m\u001b[0mwrite\u001b[0m\u001b[0;34m(\u001b[0m\u001b[0mdata\u001b[0m\u001b[0;34m)\u001b[0m\u001b[0;34m\u001b[0m\u001b[0;34m\u001b[0m\u001b[0m\n\u001b[1;32m   1277\u001b[0m \u001b[0;34m\u001b[0m\u001b[0m\n",
      "\u001b[0;32m~/miniforge3/envs/tensorflow/lib/python3.9/pathlib.py\u001b[0m in \u001b[0;36mopen\u001b[0;34m(self, mode, buffering, encoding, errors, newline)\u001b[0m\n\u001b[1;32m   1240\u001b[0m         \u001b[0mthe\u001b[0m \u001b[0mbuilt\u001b[0m\u001b[0;34m-\u001b[0m\u001b[0;32min\u001b[0m \u001b[0mopen\u001b[0m\u001b[0;34m(\u001b[0m\u001b[0;34m)\u001b[0m \u001b[0mfunction\u001b[0m \u001b[0mdoes\u001b[0m\u001b[0;34m.\u001b[0m\u001b[0;34m\u001b[0m\u001b[0;34m\u001b[0m\u001b[0m\n\u001b[1;32m   1241\u001b[0m         \"\"\"\n\u001b[0;32m-> 1242\u001b[0;31m         return io.open(self, mode, buffering, encoding, errors, newline,\n\u001b[0m\u001b[1;32m   1243\u001b[0m                        opener=self._opener)\n\u001b[1;32m   1244\u001b[0m \u001b[0;34m\u001b[0m\u001b[0m\n",
      "\u001b[0;32m~/miniforge3/envs/tensorflow/lib/python3.9/pathlib.py\u001b[0m in \u001b[0;36m_opener\u001b[0;34m(self, name, flags, mode)\u001b[0m\n\u001b[1;32m   1108\u001b[0m     \u001b[0;32mdef\u001b[0m \u001b[0m_opener\u001b[0m\u001b[0;34m(\u001b[0m\u001b[0mself\u001b[0m\u001b[0;34m,\u001b[0m \u001b[0mname\u001b[0m\u001b[0;34m,\u001b[0m \u001b[0mflags\u001b[0m\u001b[0;34m,\u001b[0m \u001b[0mmode\u001b[0m\u001b[0;34m=\u001b[0m\u001b[0;36m0o666\u001b[0m\u001b[0;34m)\u001b[0m\u001b[0;34m:\u001b[0m\u001b[0;34m\u001b[0m\u001b[0;34m\u001b[0m\u001b[0m\n\u001b[1;32m   1109\u001b[0m         \u001b[0;31m# A stub for the opener argument to built-in open()\u001b[0m\u001b[0;34m\u001b[0m\u001b[0;34m\u001b[0m\u001b[0;34m\u001b[0m\u001b[0m\n\u001b[0;32m-> 1110\u001b[0;31m         \u001b[0;32mreturn\u001b[0m \u001b[0mself\u001b[0m\u001b[0;34m.\u001b[0m\u001b[0m_accessor\u001b[0m\u001b[0;34m.\u001b[0m\u001b[0mopen\u001b[0m\u001b[0;34m(\u001b[0m\u001b[0mself\u001b[0m\u001b[0;34m,\u001b[0m \u001b[0mflags\u001b[0m\u001b[0;34m,\u001b[0m \u001b[0mmode\u001b[0m\u001b[0;34m)\u001b[0m\u001b[0;34m\u001b[0m\u001b[0;34m\u001b[0m\u001b[0m\n\u001b[0m\u001b[1;32m   1111\u001b[0m \u001b[0;34m\u001b[0m\u001b[0m\n\u001b[1;32m   1112\u001b[0m     \u001b[0;32mdef\u001b[0m \u001b[0m_raw_open\u001b[0m\u001b[0;34m(\u001b[0m\u001b[0mself\u001b[0m\u001b[0;34m,\u001b[0m \u001b[0mflags\u001b[0m\u001b[0;34m,\u001b[0m \u001b[0mmode\u001b[0m\u001b[0;34m=\u001b[0m\u001b[0;36m0o777\u001b[0m\u001b[0;34m)\u001b[0m\u001b[0;34m:\u001b[0m\u001b[0;34m\u001b[0m\u001b[0;34m\u001b[0m\u001b[0m\n",
      "\u001b[0;31mFileNotFoundError\u001b[0m: [Errno 2] No such file or directory: 'C:/Users/Public/ADA2022/weloic.github.io/_includes/india_genres.html'"
     ]
    }
   ],
   "source": [
    "fig = px.imshow(first_genres,color_continuous_scale  = 'Aggrnyl_r', text_auto='.0f',labels={'color':'% movies'})\n",
    "fig.update_yaxes(title = 'Genre')\n",
    "fig.update_xaxes(title = 'Community')\n",
    "fig.update_layout(title = 'Genre appearances in Indian communities', template = 'plotly_white')\n",
    "fig.show()\n",
    "fig.write_html('C:/Users/Public/ADA2022/weloic.github.io/_includes/india_genres.html')"
   ]
  },
  {
   "cell_type": "code",
   "execution_count": 73,
   "metadata": {},
   "outputs": [
    {
     "name": "stdout",
     "output_type": "stream",
     "text": [
      "[('Hindi Language', 3138), ('English Language', 346), ('Tamil Language', 228)]\n",
      "[('Tamil Language', 1434), ('Telugu language', 988), ('Hindi Language', 520)]\n",
      "[('Malayalam Language', 890), ('Tamil Language', 393), ('Telugu language', 147)]\n"
     ]
    },
    {
     "ename": "FileNotFoundError",
     "evalue": "[Errno 2] No such file or directory: 'C:/Users/Public/ADA2022/weloic.github.io/_includes/india_language.png'",
     "output_type": "error",
     "traceback": [
      "\u001b[0;31m---------------------------------------------------------------------------\u001b[0m",
      "\u001b[0;31mFileNotFoundError\u001b[0m                         Traceback (most recent call last)",
      "\u001b[0;32m<ipython-input-73-44a4d9ed0c7a>\u001b[0m in \u001b[0;36m<module>\u001b[0;34m\u001b[0m\n\u001b[1;32m     14\u001b[0m \u001b[0mplt\u001b[0m\u001b[0;34m.\u001b[0m\u001b[0mtitle\u001b[0m\u001b[0;34m(\u001b[0m\u001b[0;34m'Movie % '\u001b[0m\u001b[0;34m)\u001b[0m\u001b[0;34m\u001b[0m\u001b[0;34m\u001b[0m\u001b[0m\n\u001b[1;32m     15\u001b[0m \u001b[0mfig\u001b[0m \u001b[0;34m=\u001b[0m \u001b[0mplot\u001b[0m\u001b[0;34m.\u001b[0m\u001b[0mget_figure\u001b[0m\u001b[0;34m(\u001b[0m\u001b[0;34m)\u001b[0m\u001b[0;34m\u001b[0m\u001b[0;34m\u001b[0m\u001b[0m\n\u001b[0;32m---> 16\u001b[0;31m \u001b[0mfig\u001b[0m\u001b[0;34m.\u001b[0m\u001b[0msavefig\u001b[0m\u001b[0;34m(\u001b[0m\u001b[0;34m\"C:/Users/Public/ADA2022/weloic.github.io/_includes/india_language.png\"\u001b[0m\u001b[0;34m)\u001b[0m\u001b[0;34m\u001b[0m\u001b[0;34m\u001b[0m\u001b[0m\n\u001b[0m",
      "\u001b[0;32m~/miniforge3/envs/tensorflow/lib/python3.9/site-packages/matplotlib/figure.py\u001b[0m in \u001b[0;36msavefig\u001b[0;34m(self, fname, transparent, **kwargs)\u001b[0m\n\u001b[1;32m   3010\u001b[0m                         ax.patch._cm_set(facecolor='none', edgecolor='none'))\n\u001b[1;32m   3011\u001b[0m \u001b[0;34m\u001b[0m\u001b[0m\n\u001b[0;32m-> 3012\u001b[0;31m             \u001b[0mself\u001b[0m\u001b[0;34m.\u001b[0m\u001b[0mcanvas\u001b[0m\u001b[0;34m.\u001b[0m\u001b[0mprint_figure\u001b[0m\u001b[0;34m(\u001b[0m\u001b[0mfname\u001b[0m\u001b[0;34m,\u001b[0m \u001b[0;34m**\u001b[0m\u001b[0mkwargs\u001b[0m\u001b[0;34m)\u001b[0m\u001b[0;34m\u001b[0m\u001b[0;34m\u001b[0m\u001b[0m\n\u001b[0m\u001b[1;32m   3013\u001b[0m \u001b[0;34m\u001b[0m\u001b[0m\n\u001b[1;32m   3014\u001b[0m     def ginput(self, n=1, timeout=30, show_clicks=True,\n",
      "\u001b[0;32m~/miniforge3/envs/tensorflow/lib/python3.9/site-packages/matplotlib/backend_bases.py\u001b[0m in \u001b[0;36mprint_figure\u001b[0;34m(self, filename, dpi, facecolor, edgecolor, orientation, format, bbox_inches, pad_inches, bbox_extra_artists, backend, **kwargs)\u001b[0m\n\u001b[1;32m   2312\u001b[0m                 \u001b[0;31m# force the figure dpi to 72), so we need to set it again here.\u001b[0m\u001b[0;34m\u001b[0m\u001b[0;34m\u001b[0m\u001b[0;34m\u001b[0m\u001b[0m\n\u001b[1;32m   2313\u001b[0m                 \u001b[0;32mwith\u001b[0m \u001b[0mcbook\u001b[0m\u001b[0;34m.\u001b[0m\u001b[0m_setattr_cm\u001b[0m\u001b[0;34m(\u001b[0m\u001b[0mself\u001b[0m\u001b[0;34m.\u001b[0m\u001b[0mfigure\u001b[0m\u001b[0;34m,\u001b[0m \u001b[0mdpi\u001b[0m\u001b[0;34m=\u001b[0m\u001b[0mdpi\u001b[0m\u001b[0;34m)\u001b[0m\u001b[0;34m:\u001b[0m\u001b[0;34m\u001b[0m\u001b[0;34m\u001b[0m\u001b[0m\n\u001b[0;32m-> 2314\u001b[0;31m                     result = print_method(\n\u001b[0m\u001b[1;32m   2315\u001b[0m                         \u001b[0mfilename\u001b[0m\u001b[0;34m,\u001b[0m\u001b[0;34m\u001b[0m\u001b[0;34m\u001b[0m\u001b[0m\n\u001b[1;32m   2316\u001b[0m                         \u001b[0mfacecolor\u001b[0m\u001b[0;34m=\u001b[0m\u001b[0mfacecolor\u001b[0m\u001b[0;34m,\u001b[0m\u001b[0;34m\u001b[0m\u001b[0;34m\u001b[0m\u001b[0m\n",
      "\u001b[0;32m~/miniforge3/envs/tensorflow/lib/python3.9/site-packages/matplotlib/backend_bases.py\u001b[0m in \u001b[0;36mwrapper\u001b[0;34m(*args, **kwargs)\u001b[0m\n\u001b[1;32m   1641\u001b[0m             \u001b[0mkwargs\u001b[0m\u001b[0;34m.\u001b[0m\u001b[0mpop\u001b[0m\u001b[0;34m(\u001b[0m\u001b[0marg\u001b[0m\u001b[0;34m)\u001b[0m\u001b[0;34m\u001b[0m\u001b[0;34m\u001b[0m\u001b[0m\n\u001b[1;32m   1642\u001b[0m \u001b[0;34m\u001b[0m\u001b[0m\n\u001b[0;32m-> 1643\u001b[0;31m         \u001b[0;32mreturn\u001b[0m \u001b[0mfunc\u001b[0m\u001b[0;34m(\u001b[0m\u001b[0;34m*\u001b[0m\u001b[0margs\u001b[0m\u001b[0;34m,\u001b[0m \u001b[0;34m**\u001b[0m\u001b[0mkwargs\u001b[0m\u001b[0;34m)\u001b[0m\u001b[0;34m\u001b[0m\u001b[0;34m\u001b[0m\u001b[0m\n\u001b[0m\u001b[1;32m   1644\u001b[0m \u001b[0;34m\u001b[0m\u001b[0m\n\u001b[1;32m   1645\u001b[0m     \u001b[0;32mreturn\u001b[0m \u001b[0mwrapper\u001b[0m\u001b[0;34m\u001b[0m\u001b[0;34m\u001b[0m\u001b[0m\n",
      "\u001b[0;32m~/miniforge3/envs/tensorflow/lib/python3.9/site-packages/matplotlib/_api/deprecation.py\u001b[0m in \u001b[0;36mwrapper\u001b[0;34m(*inner_args, **inner_kwargs)\u001b[0m\n\u001b[1;32m    410\u001b[0m                          \u001b[0;32melse\u001b[0m \u001b[0mdeprecation_addendum\u001b[0m\u001b[0;34m,\u001b[0m\u001b[0;34m\u001b[0m\u001b[0;34m\u001b[0m\u001b[0m\n\u001b[1;32m    411\u001b[0m                 **kwargs)\n\u001b[0;32m--> 412\u001b[0;31m         \u001b[0;32mreturn\u001b[0m \u001b[0mfunc\u001b[0m\u001b[0;34m(\u001b[0m\u001b[0;34m*\u001b[0m\u001b[0minner_args\u001b[0m\u001b[0;34m,\u001b[0m \u001b[0;34m**\u001b[0m\u001b[0minner_kwargs\u001b[0m\u001b[0;34m)\u001b[0m\u001b[0;34m\u001b[0m\u001b[0;34m\u001b[0m\u001b[0m\n\u001b[0m\u001b[1;32m    413\u001b[0m \u001b[0;34m\u001b[0m\u001b[0m\n\u001b[1;32m    414\u001b[0m     \u001b[0mDECORATORS\u001b[0m\u001b[0;34m[\u001b[0m\u001b[0mwrapper\u001b[0m\u001b[0;34m]\u001b[0m \u001b[0;34m=\u001b[0m \u001b[0mdecorator\u001b[0m\u001b[0;34m\u001b[0m\u001b[0;34m\u001b[0m\u001b[0m\n",
      "\u001b[0;32m~/miniforge3/envs/tensorflow/lib/python3.9/site-packages/matplotlib/backends/backend_agg.py\u001b[0m in \u001b[0;36mprint_png\u001b[0;34m(self, filename_or_obj, metadata, pil_kwargs, *args)\u001b[0m\n\u001b[1;32m    539\u001b[0m         \"\"\"\n\u001b[1;32m    540\u001b[0m         \u001b[0mFigureCanvasAgg\u001b[0m\u001b[0;34m.\u001b[0m\u001b[0mdraw\u001b[0m\u001b[0;34m(\u001b[0m\u001b[0mself\u001b[0m\u001b[0;34m)\u001b[0m\u001b[0;34m\u001b[0m\u001b[0;34m\u001b[0m\u001b[0m\n\u001b[0;32m--> 541\u001b[0;31m         mpl.image.imsave(\n\u001b[0m\u001b[1;32m    542\u001b[0m             \u001b[0mfilename_or_obj\u001b[0m\u001b[0;34m,\u001b[0m \u001b[0mself\u001b[0m\u001b[0;34m.\u001b[0m\u001b[0mbuffer_rgba\u001b[0m\u001b[0;34m(\u001b[0m\u001b[0;34m)\u001b[0m\u001b[0;34m,\u001b[0m \u001b[0mformat\u001b[0m\u001b[0;34m=\u001b[0m\u001b[0;34m\"png\"\u001b[0m\u001b[0;34m,\u001b[0m \u001b[0morigin\u001b[0m\u001b[0;34m=\u001b[0m\u001b[0;34m\"upper\"\u001b[0m\u001b[0;34m,\u001b[0m\u001b[0;34m\u001b[0m\u001b[0;34m\u001b[0m\u001b[0m\n\u001b[1;32m    543\u001b[0m             dpi=self.figure.dpi, metadata=metadata, pil_kwargs=pil_kwargs)\n",
      "\u001b[0;32m~/miniforge3/envs/tensorflow/lib/python3.9/site-packages/matplotlib/image.py\u001b[0m in \u001b[0;36mimsave\u001b[0;34m(fname, arr, vmin, vmax, cmap, format, origin, dpi, metadata, pil_kwargs)\u001b[0m\n\u001b[1;32m   1673\u001b[0m         \u001b[0mpil_kwargs\u001b[0m\u001b[0;34m.\u001b[0m\u001b[0msetdefault\u001b[0m\u001b[0;34m(\u001b[0m\u001b[0;34m\"format\"\u001b[0m\u001b[0;34m,\u001b[0m \u001b[0mformat\u001b[0m\u001b[0;34m)\u001b[0m\u001b[0;34m\u001b[0m\u001b[0;34m\u001b[0m\u001b[0m\n\u001b[1;32m   1674\u001b[0m         \u001b[0mpil_kwargs\u001b[0m\u001b[0;34m.\u001b[0m\u001b[0msetdefault\u001b[0m\u001b[0;34m(\u001b[0m\u001b[0;34m\"dpi\"\u001b[0m\u001b[0;34m,\u001b[0m \u001b[0;34m(\u001b[0m\u001b[0mdpi\u001b[0m\u001b[0;34m,\u001b[0m \u001b[0mdpi\u001b[0m\u001b[0;34m)\u001b[0m\u001b[0;34m)\u001b[0m\u001b[0;34m\u001b[0m\u001b[0;34m\u001b[0m\u001b[0m\n\u001b[0;32m-> 1675\u001b[0;31m         \u001b[0mimage\u001b[0m\u001b[0;34m.\u001b[0m\u001b[0msave\u001b[0m\u001b[0;34m(\u001b[0m\u001b[0mfname\u001b[0m\u001b[0;34m,\u001b[0m \u001b[0;34m**\u001b[0m\u001b[0mpil_kwargs\u001b[0m\u001b[0;34m)\u001b[0m\u001b[0;34m\u001b[0m\u001b[0;34m\u001b[0m\u001b[0m\n\u001b[0m\u001b[1;32m   1676\u001b[0m \u001b[0;34m\u001b[0m\u001b[0m\n\u001b[1;32m   1677\u001b[0m \u001b[0;34m\u001b[0m\u001b[0m\n",
      "\u001b[0;32m~/miniforge3/envs/tensorflow/lib/python3.9/site-packages/PIL/Image.py\u001b[0m in \u001b[0;36msave\u001b[0;34m(self, fp, format, **params)\u001b[0m\n\u001b[1;32m   2235\u001b[0m                 \u001b[0mfp\u001b[0m \u001b[0;34m=\u001b[0m \u001b[0mbuiltins\u001b[0m\u001b[0;34m.\u001b[0m\u001b[0mopen\u001b[0m\u001b[0;34m(\u001b[0m\u001b[0mfilename\u001b[0m\u001b[0;34m,\u001b[0m \u001b[0;34m\"r+b\"\u001b[0m\u001b[0;34m)\u001b[0m\u001b[0;34m\u001b[0m\u001b[0;34m\u001b[0m\u001b[0m\n\u001b[1;32m   2236\u001b[0m             \u001b[0;32melse\u001b[0m\u001b[0;34m:\u001b[0m\u001b[0;34m\u001b[0m\u001b[0;34m\u001b[0m\u001b[0m\n\u001b[0;32m-> 2237\u001b[0;31m                 \u001b[0mfp\u001b[0m \u001b[0;34m=\u001b[0m \u001b[0mbuiltins\u001b[0m\u001b[0;34m.\u001b[0m\u001b[0mopen\u001b[0m\u001b[0;34m(\u001b[0m\u001b[0mfilename\u001b[0m\u001b[0;34m,\u001b[0m \u001b[0;34m\"w+b\"\u001b[0m\u001b[0;34m)\u001b[0m\u001b[0;34m\u001b[0m\u001b[0;34m\u001b[0m\u001b[0m\n\u001b[0m\u001b[1;32m   2238\u001b[0m \u001b[0;34m\u001b[0m\u001b[0m\n\u001b[1;32m   2239\u001b[0m         \u001b[0;32mtry\u001b[0m\u001b[0;34m:\u001b[0m\u001b[0;34m\u001b[0m\u001b[0;34m\u001b[0m\u001b[0m\n",
      "\u001b[0;31mFileNotFoundError\u001b[0m: [Errno 2] No such file or directory: 'C:/Users/Public/ADA2022/weloic.github.io/_includes/india_language.png'"
     ]
    },
    {
     "data": {
      "image/png": "[encoded data removed]",
      "text/plain": [
       "<Figure size 432x288 with 2 Axes>"
      ]
     },
     "metadata": {
      "needs_background": "light"
     },
     "output_type": "display_data"
    }
   ],
   "source": [
    "n = 3\n",
    "first_languages = pd.DataFrame(columns=['language'])\n",
    "for i in [3,5,10]:\n",
    "    languages = Counter([x for y in vars()['datamov' + str(i)]['Movie_languages'].values for x in y]).most_common(n)\n",
    "    print(languages)\n",
    "    languages = pd.DataFrame(data=languages, columns=['language',str(i)])\n",
    "    first_languages = first_languages.merge(languages,how='outer',on='language')\n",
    "    normalization = len(vars()['datamov' + str(i)])\n",
    "    first_languages[str(i)]= first_languages[str(i)].apply(lambda x : x/normalization*100)\n",
    "\n",
    "first_languages.set_index(['language'],inplace = True)\n",
    "plt.figure()\n",
    "plot = sns.heatmap(data=first_languages,cmap = 'summer_r',annot=True)\n",
    "plt.title('Movie % ')\n",
    "fig = plot.get_figure()\n",
    "fig.savefig(\"C:/Users/Public/ADA2022/weloic.github.io/_includes/india_language.png\")"
   ]
  },
  {
   "cell_type": "code",
   "execution_count": 76,
   "metadata": {},
   "outputs": [
    {
     "data": {
      "application/vnd.plotly.v1+json": {
       "config": {
        "plotlyServerURL": "https://plot.ly"
       },
       "data": [
        {
         "coloraxis": "coloraxis",
         "colorbar": {
          "thickness": 1
         },
         "hovertemplate": "x: %{x}<br>language: %{y}<br>% movies: %{z}<extra></extra>",
         "name": "0",
         "texttemplate": "%{z:.0f}",
         "type": "heatmap",
         "x": [
          "3",
          "5",
          "10"
         ],
         "xaxis": "x",
         "y": [
          "Hindi Language",
          "English Language",
          "Tamil Language",
          "Telugu language",
          "Malayalam Language"
         ],
         "yaxis": "y",
         "z": [
          [
           78.66633241413888,
           15.522388059701491,
           null
          ],
          [
           8.673853096014039,
           null,
           null
          ],
          [
           5.715718225119078,
           42.80597014925373,
           23.036342321219227
          ],
          [
           null,
           29.492537313432837,
           8.61664712778429
          ],
          [
           null,
           null,
           52.16881594372802
          ]
         ]
        }
       ],
       "layout": {
        "coloraxis": {
         "colorbar": {
          "title": {
           "text": "% movies"
          }
         },
         "colorscale": [
          [
           0,
           "rgb(254, 252, 205)"
          ],
          [
           0.09090909090909091,
           "rgb(239, 225, 156)"
          ],
          [
           0.18181818181818182,
           "rgb(221, 201, 106)"
          ],
          [
           0.2727272727272727,
           "rgb(194, 182, 59)"
          ],
          [
           0.36363636363636365,
           "rgb(157, 167, 21)"
          ],
          [
           0.45454545454545453,
           "rgb(116, 153, 5)"
          ],
          [
           0.5454545454545454,
           "rgb(75, 138, 20)"
          ],
          [
           0.6363636363636364,
           "rgb(35, 121, 36)"
          ],
          [
           0.7272727272727273,
           "rgb(11, 100, 44)"
          ],
          [
           0.8181818181818182,
           "rgb(18, 78, 43)"
          ],
          [
           0.9090909090909091,
           "rgb(25, 56, 34)"
          ],
          [
           1,
           "rgb(23, 35, 18)"
          ]
         ]
        },
        "margin": {
         "t": 60
        },
        "template": {
         "data": {
          "bar": [
           {
            "error_x": {
             "color": "#2a3f5f"
            },
            "error_y": {
             "color": "#2a3f5f"
            },
            "marker": {
             "line": {
              "color": "white",
              "width": 0.5
             },
             "pattern": {
              "fillmode": "overlay",
              "size": 10,
              "solidity": 0.2
             }
            },
            "type": "bar"
           }
          ],
          "barpolar": [
           {
            "marker": {
             "line": {
              "color": "white",
              "width": 0.5
             },
             "pattern": {
              "fillmode": "overlay",
              "size": 10,
              "solidity": 0.2
             }
            },
            "type": "barpolar"
           }
          ],
          "carpet": [
           {
            "aaxis": {
             "endlinecolor": "#2a3f5f",
             "gridcolor": "#C8D4E3",
             "linecolor": "#C8D4E3",
             "minorgridcolor": "#C8D4E3",
             "startlinecolor": "#2a3f5f"
            },
            "baxis": {
             "endlinecolor": "#2a3f5f",
             "gridcolor": "#C8D4E3",
             "linecolor": "#C8D4E3",
             "minorgridcolor": "#C8D4E3",
             "startlinecolor": "#2a3f5f"
            },
            "type": "carpet"
           }
          ],
          "choropleth": [
           {
            "colorbar": {
             "outlinewidth": 0,
             "ticks": ""
            },
            "type": "choropleth"
           }
          ],
          "contour": [
           {
            "colorbar": {
             "outlinewidth": 0,
             "ticks": ""
            },
            "colorscale": [
             [
              0,
              "#0d0887"
             ],
             [
              0.1111111111111111,
              "#46039f"
             ],
             [
              0.2222222222222222,
              "#7201a8"
             ],
             [
              0.3333333333333333,
              "#9c179e"
             ],
             [
              0.4444444444444444,
              "#bd3786"
             ],
             [
              0.5555555555555556,
              "#d8576b"
             ],
             [
              0.6666666666666666,
              "#ed7953"
             ],
             [
              0.7777777777777778,
              "#fb9f3a"
             ],
             [
              0.8888888888888888,
              "#fdca26"
             ],
             [
              1,
              "#f0f921"
             ]
            ],
            "type": "contour"
           }
          ],
          "contourcarpet": [
           {
            "colorbar": {
             "outlinewidth": 0,
             "ticks": ""
            },
            "type": "contourcarpet"
           }
          ],
          "heatmap": [
           {
            "colorbar": {
             "outlinewidth": 0,
             "ticks": ""
            },
            "colorscale": [
             [
              0,
              "#0d0887"
             ],
             [
              0.1111111111111111,
              "#46039f"
             ],
             [
              0.2222222222222222,
              "#7201a8"
             ],
             [
              0.3333333333333333,
              "#9c179e"
             ],
             [
              0.4444444444444444,
              "#bd3786"
             ],
             [
              0.5555555555555556,
              "#d8576b"
             ],
             [
              0.6666666666666666,
              "#ed7953"
             ],
             [
              0.7777777777777778,
              "#fb9f3a"
             ],
             [
              0.8888888888888888,
              "#fdca26"
             ],
             [
              1,
              "#f0f921"
             ]
            ],
            "type": "heatmap"
           }
          ],
          "heatmapgl": [
           {
            "colorbar": {
             "outlinewidth": 0,
             "ticks": ""
            },
            "colorscale": [
             [
              0,
              "#0d0887"
             ],
             [
              0.1111111111111111,
              "#46039f"
             ],
             [
              0.2222222222222222,
              "#7201a8"
             ],
             [
              0.3333333333333333,
              "#9c179e"
             ],
             [
              0.4444444444444444,
              "#bd3786"
             ],
             [
              0.5555555555555556,
              "#d8576b"
             ],
             [
              0.6666666666666666,
              "#ed7953"
             ],
             [
              0.7777777777777778,
              "#fb9f3a"
             ],
             [
              0.8888888888888888,
              "#fdca26"
             ],
             [
              1,
              "#f0f921"
             ]
            ],
            "type": "heatmapgl"
           }
          ],
          "histogram": [
           {
            "marker": {
             "pattern": {
              "fillmode": "overlay",
              "size": 10,
              "solidity": 0.2
             }
            },
            "type": "histogram"
           }
          ],
          "histogram2d": [
           {
            "colorbar": {
             "outlinewidth": 0,
             "ticks": ""
            },
            "colorscale": [
             [
              0,
              "#0d0887"
             ],
             [
              0.1111111111111111,
              "#46039f"
             ],
             [
              0.2222222222222222,
              "#7201a8"
             ],
             [
              0.3333333333333333,
              "#9c179e"
             ],
             [
              0.4444444444444444,
              "#bd3786"
             ],
             [
              0.5555555555555556,
              "#d8576b"
             ],
             [
              0.6666666666666666,
              "#ed7953"
             ],
             [
              0.7777777777777778,
              "#fb9f3a"
             ],
             [
              0.8888888888888888,
              "#fdca26"
             ],
             [
              1,
              "#f0f921"
             ]
            ],
            "type": "histogram2d"
           }
          ],
          "histogram2dcontour": [
           {
            "colorbar": {
             "outlinewidth": 0,
             "ticks": ""
            },
            "colorscale": [
             [
              0,
              "#0d0887"
             ],
             [
              0.1111111111111111,
              "#46039f"
             ],
             [
              0.2222222222222222,
              "#7201a8"
             ],
             [
              0.3333333333333333,
              "#9c179e"
             ],
             [
              0.4444444444444444,
              "#bd3786"
             ],
             [
              0.5555555555555556,
              "#d8576b"
             ],
             [
              0.6666666666666666,
              "#ed7953"
             ],
             [
              0.7777777777777778,
              "#fb9f3a"
             ],
             [
              0.8888888888888888,
              "#fdca26"
             ],
             [
              1,
              "#f0f921"
             ]
            ],
            "type": "histogram2dcontour"
           }
          ],
          "mesh3d": [
           {
            "colorbar": {
             "outlinewidth": 0,
             "ticks": ""
            },
            "type": "mesh3d"
           }
          ],
          "parcoords": [
           {
            "line": {
             "colorbar": {
              "outlinewidth": 0,
              "ticks": ""
             }
            },
            "type": "parcoords"
           }
          ],
          "pie": [
           {
            "automargin": true,
            "type": "pie"
           }
          ],
          "scatter": [
           {
            "fillpattern": {
             "fillmode": "overlay",
             "size": 10,
             "solidity": 0.2
            },
            "type": "scatter"
           }
          ],
          "scatter3d": [
           {
            "line": {
             "colorbar": {
              "outlinewidth": 0,
              "ticks": ""
             }
            },
            "marker": {
             "colorbar": {
              "outlinewidth": 0,
              "ticks": ""
             }
            },
            "type": "scatter3d"
           }
          ],
          "scattercarpet": [
           {
            "marker": {
             "colorbar": {
              "outlinewidth": 0,
              "ticks": ""
             }
            },
            "type": "scattercarpet"
           }
          ],
          "scattergeo": [
           {
            "marker": {
             "colorbar": {
              "outlinewidth": 0,
              "ticks": ""
             }
            },
            "type": "scattergeo"
           }
          ],
          "scattergl": [
           {
            "marker": {
             "colorbar": {
              "outlinewidth": 0,
              "ticks": ""
             }
            },
            "type": "scattergl"
           }
          ],
          "scattermapbox": [
           {
            "marker": {
             "colorbar": {
              "outlinewidth": 0,
              "ticks": ""
             }
            },
            "type": "scattermapbox"
           }
          ],
          "scatterpolar": [
           {
            "marker": {
             "colorbar": {
              "outlinewidth": 0,
              "ticks": ""
             }
            },
            "type": "scatterpolar"
           }
          ],
          "scatterpolargl": [
           {
            "marker": {
             "colorbar": {
              "outlinewidth": 0,
              "ticks": ""
             }
            },
            "type": "scatterpolargl"
           }
          ],
          "scatterternary": [
           {
            "marker": {
             "colorbar": {
              "outlinewidth": 0,
              "ticks": ""
             }
            },
            "type": "scatterternary"
           }
          ],
          "surface": [
           {
            "colorbar": {
             "outlinewidth": 0,
             "ticks": ""
            },
            "colorscale": [
             [
              0,
              "#0d0887"
             ],
             [
              0.1111111111111111,
              "#46039f"
             ],
             [
              0.2222222222222222,
              "#7201a8"
             ],
             [
              0.3333333333333333,
              "#9c179e"
             ],
             [
              0.4444444444444444,
              "#bd3786"
             ],
             [
              0.5555555555555556,
              "#d8576b"
             ],
             [
              0.6666666666666666,
              "#ed7953"
             ],
             [
              0.7777777777777778,
              "#fb9f3a"
             ],
             [
              0.8888888888888888,
              "#fdca26"
             ],
             [
              1,
              "#f0f921"
             ]
            ],
            "type": "surface"
           }
          ],
          "table": [
           {
            "cells": {
             "fill": {
              "color": "#EBF0F8"
             },
             "line": {
              "color": "white"
             }
            },
            "header": {
             "fill": {
              "color": "#C8D4E3"
             },
             "line": {
              "color": "white"
             }
            },
            "type": "table"
           }
          ]
         },
         "layout": {
          "annotationdefaults": {
           "arrowcolor": "#2a3f5f",
           "arrowhead": 0,
           "arrowwidth": 1
          },
          "autotypenumbers": "strict",
          "coloraxis": {
           "colorbar": {
            "outlinewidth": 0,
            "ticks": ""
           }
          },
          "colorscale": {
           "diverging": [
            [
             0,
             "#8e0152"
            ],
            [
             0.1,
             "#c51b7d"
            ],
            [
             0.2,
             "#de77ae"
            ],
            [
             0.3,
             "#f1b6da"
            ],
            [
             0.4,
             "#fde0ef"
            ],
            [
             0.5,
             "#f7f7f7"
            ],
            [
             0.6,
             "#e6f5d0"
            ],
            [
             0.7,
             "#b8e186"
            ],
            [
             0.8,
             "#7fbc41"
            ],
            [
             0.9,
             "#4d9221"
            ],
            [
             1,
             "#276419"
            ]
           ],
           "sequential": [
            [
             0,
             "#0d0887"
            ],
            [
             0.1111111111111111,
             "#46039f"
            ],
            [
             0.2222222222222222,
             "#7201a8"
            ],
            [
             0.3333333333333333,
             "#9c179e"
            ],
            [
             0.4444444444444444,
             "#bd3786"
            ],
            [
             0.5555555555555556,
             "#d8576b"
            ],
            [
             0.6666666666666666,
             "#ed7953"
            ],
            [
             0.7777777777777778,
             "#fb9f3a"
            ],
            [
             0.8888888888888888,
             "#fdca26"
            ],
            [
             1,
             "#f0f921"
            ]
           ],
           "sequentialminus": [
            [
             0,
             "#0d0887"
            ],
            [
             0.1111111111111111,
             "#46039f"
            ],
            [
             0.2222222222222222,
             "#7201a8"
            ],
            [
             0.3333333333333333,
             "#9c179e"
            ],
            [
             0.4444444444444444,
             "#bd3786"
            ],
            [
             0.5555555555555556,
             "#d8576b"
            ],
            [
             0.6666666666666666,
             "#ed7953"
            ],
            [
             0.7777777777777778,
             "#fb9f3a"
            ],
            [
             0.8888888888888888,
             "#fdca26"
            ],
            [
             1,
             "#f0f921"
            ]
           ]
          },
          "colorway": [
           "#636efa",
           "#EF553B",
           "#00cc96",
           "#ab63fa",
           "#FFA15A",
           "#19d3f3",
           "#FF6692",
           "#B6E880",
           "#FF97FF",
           "#FECB52"
          ],
          "font": {
           "color": "#2a3f5f"
          },
          "geo": {
           "bgcolor": "white",
           "lakecolor": "white",
           "landcolor": "white",
           "showlakes": true,
           "showland": true,
           "subunitcolor": "#C8D4E3"
          },
          "hoverlabel": {
           "align": "left"
          },
          "hovermode": "closest",
          "mapbox": {
           "style": "light"
          },
          "paper_bgcolor": "white",
          "plot_bgcolor": "white",
          "polar": {
           "angularaxis": {
            "gridcolor": "#EBF0F8",
            "linecolor": "#EBF0F8",
            "ticks": ""
           },
           "bgcolor": "white",
           "radialaxis": {
            "gridcolor": "#EBF0F8",
            "linecolor": "#EBF0F8",
            "ticks": ""
           }
          },
          "scene": {
           "xaxis": {
            "backgroundcolor": "white",
            "gridcolor": "#DFE8F3",
            "gridwidth": 2,
            "linecolor": "#EBF0F8",
            "showbackground": true,
            "ticks": "",
            "zerolinecolor": "#EBF0F8"
           },
           "yaxis": {
            "backgroundcolor": "white",
            "gridcolor": "#DFE8F3",
            "gridwidth": 2,
            "linecolor": "#EBF0F8",
            "showbackground": true,
            "ticks": "",
            "zerolinecolor": "#EBF0F8"
           },
           "zaxis": {
            "backgroundcolor": "white",
            "gridcolor": "#DFE8F3",
            "gridwidth": 2,
            "linecolor": "#EBF0F8",
            "showbackground": true,
            "ticks": "",
            "zerolinecolor": "#EBF0F8"
           }
          },
          "shapedefaults": {
           "line": {
            "color": "#2a3f5f"
           }
          },
          "ternary": {
           "aaxis": {
            "gridcolor": "#DFE8F3",
            "linecolor": "#A2B1C6",
            "ticks": ""
           },
           "baxis": {
            "gridcolor": "#DFE8F3",
            "linecolor": "#A2B1C6",
            "ticks": ""
           },
           "bgcolor": "white",
           "caxis": {
            "gridcolor": "#DFE8F3",
            "linecolor": "#A2B1C6",
            "ticks": ""
           }
          },
          "title": {
           "x": 0.05
          },
          "xaxis": {
           "automargin": true,
           "gridcolor": "#EBF0F8",
           "linecolor": "#EBF0F8",
           "ticks": "",
           "title": {
            "standoff": 15
           },
           "zerolinecolor": "#EBF0F8",
           "zerolinewidth": 2
          },
          "yaxis": {
           "automargin": true,
           "gridcolor": "#EBF0F8",
           "linecolor": "#EBF0F8",
           "ticks": "",
           "title": {
            "standoff": 15
           },
           "zerolinecolor": "#EBF0F8",
           "zerolinewidth": 2
          }
         }
        },
        "title": {
         "text": "Languages of movies in Indian communities"
        },
        "xaxis": {
         "anchor": "y",
         "constrain": "domain",
         "domain": [
          0,
          1
         ],
         "scaleanchor": "y",
         "title": {
          "text": "Community"
         }
        },
        "yaxis": {
         "anchor": "x",
         "autorange": "reversed",
         "constrain": "domain",
         "domain": [
          0,
          1
         ],
         "title": {
          "text": "language"
         }
        }
       }
      }
     },
     "metadata": {},
     "output_type": "display_data"
    }
   ],
   "source": [
    "fig = px.imshow(first_languages,color_continuous_scale  = 'speed', text_auto='.0f',labels={'color':'% movies'})\n",
    "fig.update_yaxes(title = 'language')\n",
    "fig.update_xaxes(title = 'Community')\n",
    "fig.update_layout(title = 'Languages of movies in Indian communities', template = 'plotly_white')\n",
    "fig.update_traces(colorbar = {'thickness':1})\n",
    "fig.show()\n",
    "#fig.write_html('C:/Users/Public/ADA2022/weloic.github.io/_includes/india_languages.html')"
   ]
  },
  {
   "cell_type": "code",
   "execution_count": 75,
   "metadata": {},
   "outputs": [
    {
     "data": {
      "text/html": [
       "<div>\n",
       "<style scoped>\n",
       "    .dataframe tbody tr th:only-of-type {\n",
       "        vertical-align: middle;\n",
       "    }\n",
       "\n",
       "    .dataframe tbody tr th {\n",
       "        vertical-align: top;\n",
       "    }\n",
       "\n",
       "    .dataframe thead th {\n",
       "        text-align: right;\n",
       "    }\n",
       "</style>\n",
       "<table border=\"1\" class=\"dataframe\">\n",
       "  <thead>\n",
       "    <tr style=\"text-align: right;\">\n",
       "      <th></th>\n",
       "      <th>Freebase_actor_ID</th>\n",
       "      <th>connectivity</th>\n",
       "      <th>Community</th>\n",
       "      <th>Wikidata_ID</th>\n",
       "      <th>actor_country_of_citizenship</th>\n",
       "      <th>actor_occupation</th>\n",
       "      <th>Actor_date_of_birth</th>\n",
       "      <th>actor_gender</th>\n",
       "      <th>Actor_name</th>\n",
       "    </tr>\n",
       "  </thead>\n",
       "  <tbody>\n",
       "    <tr>\n",
       "      <th>4831</th>\n",
       "      <td>/m/048svj</td>\n",
       "      <td>902</td>\n",
       "      <td>10</td>\n",
       "      <td>Q6122250</td>\n",
       "      <td>India</td>\n",
       "      <td>['actor', 'screenwriter', 'television actor', ...</td>\n",
       "      <td>1951-01-05</td>\n",
       "      <td>M</td>\n",
       "      <td>Jagathi Sreekumar</td>\n",
       "    </tr>\n",
       "    <tr>\n",
       "      <th>4832</th>\n",
       "      <td>/m/02fbpz</td>\n",
       "      <td>826</td>\n",
       "      <td>10</td>\n",
       "      <td>Q2050534</td>\n",
       "      <td>India</td>\n",
       "      <td>['film actor', 'film producer', 'singer', 'pla...</td>\n",
       "      <td>1960-05-21</td>\n",
       "      <td>M</td>\n",
       "      <td>Mohanlal</td>\n",
       "    </tr>\n",
       "    <tr>\n",
       "      <th>4833</th>\n",
       "      <td>/m/02hkv5</td>\n",
       "      <td>776</td>\n",
       "      <td>10</td>\n",
       "      <td>Q2721855</td>\n",
       "      <td>India</td>\n",
       "      <td>['film actor', 'film producer', 'screenwriter'...</td>\n",
       "      <td>1951-09-07</td>\n",
       "      <td>M</td>\n",
       "      <td>Mammootty</td>\n",
       "    </tr>\n",
       "  </tbody>\n",
       "</table>\n",
       "</div>"
      ],
      "text/plain": [
       "     Freebase_actor_ID  connectivity  Community Wikidata_ID  \\\n",
       "4831         /m/048svj           902         10    Q6122250   \n",
       "4832         /m/02fbpz           826         10    Q2050534   \n",
       "4833         /m/02hkv5           776         10    Q2721855   \n",
       "\n",
       "     actor_country_of_citizenship  \\\n",
       "4831                        India   \n",
       "4832                        India   \n",
       "4833                        India   \n",
       "\n",
       "                                       actor_occupation Actor_date_of_birth  \\\n",
       "4831  ['actor', 'screenwriter', 'television actor', ...          1951-01-05   \n",
       "4832  ['film actor', 'film producer', 'singer', 'pla...          1960-05-21   \n",
       "4833  ['film actor', 'film producer', 'screenwriter'...          1951-09-07   \n",
       "\n",
       "     actor_gender         Actor_name  \n",
       "4831            M  Jagathi Sreekumar  \n",
       "4832            M           Mohanlal  \n",
       "4833            M          Mammootty  "
      ]
     },
     "execution_count": 75,
     "metadata": {},
     "output_type": "execute_result"
    }
   ],
   "source": [
    "data_actors[data_actors['Community'] == 10].head(3)"
   ]
  },
  {
   "cell_type": "code",
   "execution_count": 383,
   "metadata": {},
   "outputs": [
    {
     "data": {
      "text/html": [
       "<div>\n",
       "<style scoped>\n",
       "    .dataframe tbody tr th:only-of-type {\n",
       "        vertical-align: middle;\n",
       "    }\n",
       "\n",
       "    .dataframe tbody tr th {\n",
       "        vertical-align: top;\n",
       "    }\n",
       "\n",
       "    .dataframe thead th {\n",
       "        text-align: right;\n",
       "    }\n",
       "</style>\n",
       "<table border=\"1\" class=\"dataframe\">\n",
       "  <thead>\n",
       "    <tr style=\"text-align: right;\">\n",
       "      <th></th>\n",
       "      <th>Freebase_actor_ID</th>\n",
       "      <th>connectivity</th>\n",
       "      <th>Community</th>\n",
       "      <th>Wikidata_ID</th>\n",
       "      <th>actor_country_of_citizenship</th>\n",
       "      <th>actor_occupation</th>\n",
       "      <th>Actor_date_of_birth</th>\n",
       "      <th>actor_gender</th>\n",
       "      <th>Actor_name</th>\n",
       "    </tr>\n",
       "  </thead>\n",
       "  <tbody>\n",
       "    <tr>\n",
       "      <th>3374</th>\n",
       "      <td>/m/071wvh</td>\n",
       "      <td>1188</td>\n",
       "      <td>5</td>\n",
       "      <td>Q3765029</td>\n",
       "      <td>India</td>\n",
       "      <td>['comedian']</td>\n",
       "      <td>1956-02-01</td>\n",
       "      <td>M</td>\n",
       "      <td>Brahmanandam</td>\n",
       "    </tr>\n",
       "    <tr>\n",
       "      <th>3375</th>\n",
       "      <td>/m/09tqx3</td>\n",
       "      <td>845</td>\n",
       "      <td>5</td>\n",
       "      <td>Q1322453</td>\n",
       "      <td>India</td>\n",
       "      <td>['film actor', 'film producer', 'film director...</td>\n",
       "      <td>1965-03-26</td>\n",
       "      <td>M</td>\n",
       "      <td>Prakash Raj</td>\n",
       "    </tr>\n",
       "    <tr>\n",
       "      <th>3376</th>\n",
       "      <td>/m/0dfjb8</td>\n",
       "      <td>679</td>\n",
       "      <td>5</td>\n",
       "      <td>Q3521977</td>\n",
       "      <td>India</td>\n",
       "      <td>['film director', 'actor', 'screenwriter', 'fi...</td>\n",
       "      <td>1958-03-05</td>\n",
       "      <td>M</td>\n",
       "      <td>Nassar</td>\n",
       "    </tr>\n",
       "  </tbody>\n",
       "</table>\n",
       "</div>"
      ],
      "text/plain": [
       "     Freebase_actor_ID  connectivity  Community Wikidata_ID  \\\n",
       "3374         /m/071wvh          1188          5    Q3765029   \n",
       "3375         /m/09tqx3           845          5    Q1322453   \n",
       "3376         /m/0dfjb8           679          5    Q3521977   \n",
       "\n",
       "     actor_country_of_citizenship  \\\n",
       "3374                        India   \n",
       "3375                        India   \n",
       "3376                        India   \n",
       "\n",
       "                                       actor_occupation Actor_date_of_birth  \\\n",
       "3374                                       ['comedian']          1956-02-01   \n",
       "3375  ['film actor', 'film producer', 'film director...          1965-03-26   \n",
       "3376  ['film director', 'actor', 'screenwriter', 'fi...          1958-03-05   \n",
       "\n",
       "     actor_gender    Actor_name  \n",
       "3374            M  Brahmanandam  \n",
       "3375            M   Prakash Raj  \n",
       "3376            M        Nassar  "
      ]
     },
     "execution_count": 383,
     "metadata": {},
     "output_type": "execute_result"
    }
   ],
   "source": [
    "data_actors[data_actors['Community'] == 5].head(3)\n"
   ]
  },
  {
   "cell_type": "code",
   "execution_count": 384,
   "metadata": {},
   "outputs": [
    {
     "data": {
      "text/html": [
       "<div>\n",
       "<style scoped>\n",
       "    .dataframe tbody tr th:only-of-type {\n",
       "        vertical-align: middle;\n",
       "    }\n",
       "\n",
       "    .dataframe tbody tr th {\n",
       "        vertical-align: top;\n",
       "    }\n",
       "\n",
       "    .dataframe thead th {\n",
       "        text-align: right;\n",
       "    }\n",
       "</style>\n",
       "<table border=\"1\" class=\"dataframe\">\n",
       "  <thead>\n",
       "    <tr style=\"text-align: right;\">\n",
       "      <th></th>\n",
       "      <th>Freebase_actor_ID</th>\n",
       "      <th>connectivity</th>\n",
       "      <th>Community</th>\n",
       "      <th>Wikidata_ID</th>\n",
       "      <th>actor_country_of_citizenship</th>\n",
       "      <th>actor_occupation</th>\n",
       "      <th>Actor_date_of_birth</th>\n",
       "      <th>actor_gender</th>\n",
       "      <th>Actor_name</th>\n",
       "    </tr>\n",
       "  </thead>\n",
       "  <tbody>\n",
       "    <tr>\n",
       "      <th>2089</th>\n",
       "      <td>/m/04c636</td>\n",
       "      <td>1129</td>\n",
       "      <td>3</td>\n",
       "      <td>Q379604</td>\n",
       "      <td>India</td>\n",
       "      <td>['film actor', 'politician']</td>\n",
       "      <td>1950-06-16</td>\n",
       "      <td>M</td>\n",
       "      <td>Mithun Chakraborty</td>\n",
       "    </tr>\n",
       "    <tr>\n",
       "      <th>2090</th>\n",
       "      <td>/m/05yvfd</td>\n",
       "      <td>969</td>\n",
       "      <td>3</td>\n",
       "      <td>Q312789</td>\n",
       "      <td>India</td>\n",
       "      <td>['actor', 'comedian']</td>\n",
       "      <td>1958-09-03</td>\n",
       "      <td>M</td>\n",
       "      <td>Shakti Kapoor</td>\n",
       "    </tr>\n",
       "    <tr>\n",
       "      <th>2091</th>\n",
       "      <td>/m/0tj9</td>\n",
       "      <td>957</td>\n",
       "      <td>3</td>\n",
       "      <td>Q9570</td>\n",
       "      <td>India</td>\n",
       "      <td>['film actor', 'film producer', 'singer', 'tel...</td>\n",
       "      <td>1942-10-11</td>\n",
       "      <td>M</td>\n",
       "      <td>Amitabh Bachchan</td>\n",
       "    </tr>\n",
       "  </tbody>\n",
       "</table>\n",
       "</div>"
      ],
      "text/plain": [
       "     Freebase_actor_ID  connectivity  Community Wikidata_ID  \\\n",
       "2089         /m/04c636          1129          3     Q379604   \n",
       "2090         /m/05yvfd           969          3     Q312789   \n",
       "2091           /m/0tj9           957          3       Q9570   \n",
       "\n",
       "     actor_country_of_citizenship  \\\n",
       "2089                        India   \n",
       "2090                        India   \n",
       "2091                        India   \n",
       "\n",
       "                                       actor_occupation Actor_date_of_birth  \\\n",
       "2089                       ['film actor', 'politician']          1950-06-16   \n",
       "2090                              ['actor', 'comedian']          1958-09-03   \n",
       "2091  ['film actor', 'film producer', 'singer', 'tel...          1942-10-11   \n",
       "\n",
       "     actor_gender          Actor_name  \n",
       "2089            M  Mithun Chakraborty  \n",
       "2090            M       Shakti Kapoor  \n",
       "2091            M    Amitabh Bachchan  "
      ]
     },
     "execution_count": 384,
     "metadata": {},
     "output_type": "execute_result"
    }
   ],
   "source": [
    "data_actors[data_actors['Community'] == 3].head(3)"
   ]
  },
  {
   "attachments": {},
   "cell_type": "markdown",
   "metadata": {},
   "source": [
    "## Time Analysis"
   ]
  },
  {
   "attachments": {},
   "cell_type": "markdown",
   "metadata": {},
   "source": [
    "### distribution"
   ]
  },
  {
   "cell_type": "code",
   "execution_count": 385,
   "metadata": {},
   "outputs": [
    {
     "data": {
      "text/plain": [
       "Text(50.722222222222214, 0.5, 'Release year')"
      ]
     },
     "execution_count": 385,
     "metadata": {},
     "output_type": "execute_result"
    },
    {
     "data": {
      "image/png": "[encoded data removed]",
      "text/plain": [
       "<Figure size 640x480 with 2 Axes>"
      ]
     },
     "metadata": {},
     "output_type": "display_data"
    }
   ],
   "source": [
    "coms  =  np.arange(1,21)\n",
    "movies_year_com = data_movies[coms.astype(str)]\n",
    "movies_year_com['Movie_release_year'] = data_movies['Movie_release_year']\n",
    "for y in coms.astype(str):\n",
    "    movies_year_com[y] = movies_year_com[y].apply(lambda x : 1 if (x != 0) else  0)\n",
    "movies_year_com = movies_year_com.groupby('Movie_release_year').agg('sum')\n",
    "sns.heatmap(data=movies_year_com, norm=LogNorm(),cmap = 'rocket_r')\n",
    "plt.title('Movie Distribution over Years and Communities')\n",
    "plt.ylabel('Release year')"
   ]
  },
  {
   "cell_type": "code",
   "execution_count": 402,
   "metadata": {},
   "outputs": [
    {
     "data": {
      "application/vnd.plotly.v1+json": {
       "config": {
        "plotlyServerURL": "https://plot.ly"
       },
       "data": [
        {
         "coloraxis": "coloraxis",
         "hovertemplate": "x: %{x}<br>Movie_release_year: %{y}<br>log nb movies: %{z}<extra></extra>",
         "name": "0",
         "type": "heatmap",
         "x": [
          "1",
          "2",
          "3",
          "4",
          "5",
          "6",
          "7",
          "8",
          "9",
          "10",
          "11",
          "12",
          "13",
          "14",
          "15",
          "16",
          "17",
          "18",
          "19",
          "20"
         ],
         "xaxis": "x",
         "y": [
          1908,
          1909,
          1910,
          1911,
          1912,
          1913,
          1914,
          1915,
          1916,
          1917,
          1918,
          1919,
          1920,
          1921,
          1922,
          1923,
          1924,
          1925,
          1926,
          1927,
          1928,
          1929,
          1930,
          1931,
          1932,
          1933,
          1934,
          1935,
          1936,
          1937,
          1938,
          1939,
          1940,
          1941,
          1942,
          1943,
          1944,
          1945,
          1946,
          1947,
          1948,
          1949,
          1950,
          1951,
          1952,
          1953,
          1954,
          1955,
          1956,
          1957,
          1958,
          1959,
          1960,
          1961,
          1962,
          1963,
          1964,
          1965,
          1966,
          1967,
          1968,
          1969,
          1970,
          1971,
          1972,
          1973,
          1974,
          1975,
          1976,
          1977,
          1978,
          1979,
          1980,
          1981,
          1982,
          1983,
          1984,
          1985,
          1986,
          1987,
          1988,
          1989,
          1990,
          1991,
          1992,
          1993,
          1994,
          1995,
          1996,
          1997,
          1998,
          1999,
          2000,
          2001,
          2002,
          2003,
          2004,
          2005,
          2006,
          2007,
          2008,
          2009,
          2010,
          2011,
          2012,
          2013,
          2014,
          2015,
          2016
         ],
         "yaxis": "y",
         "z": [
          [
           null,
           0,
           null,
           null,
           null,
           null,
           null,
           null,
           null,
           null,
           null,
           null,
           null,
           null,
           null,
           0,
           null,
           null,
           null,
           null
          ],
          [
           null,
           0.47712125471966244,
           null,
           null,
           null,
           null,
           null,
           null,
           null,
           null,
           null,
           null,
           null,
           null,
           null,
           0.8450980400142568,
           null,
           0,
           null,
           null
          ],
          [
           null,
           0.47712125471966244,
           null,
           null,
           null,
           null,
           null,
           null,
           null,
           null,
           null,
           null,
           null,
           null,
           null,
           0.47712125471966244,
           null,
           0.3010299956639812,
           null,
           null
          ],
          [
           null,
           0.3010299956639812,
           null,
           null,
           null,
           null,
           null,
           null,
           null,
           null,
           null,
           null,
           null,
           null,
           null,
           0.3010299956639812,
           null,
           0.9542425094393249,
           null,
           null
          ],
          [
           null,
           1,
           null,
           null,
           null,
           null,
           0,
           null,
           null,
           null,
           null,
           null,
           null,
           null,
           null,
           0.6020599913279624,
           null,
           1.3424226808222062,
           null,
           null
          ],
          [
           null,
           1.0413926851582251,
           null,
           null,
           null,
           null,
           null,
           null,
           null,
           null,
           null,
           null,
           null,
           null,
           null,
           1,
           null,
           1.6334684555795864,
           null,
           null
          ],
          [
           null,
           1.1760912590556813,
           null,
           null,
           null,
           null,
           null,
           null,
           null,
           null,
           null,
           null,
           1.1760912590556813,
           null,
           null,
           1.6232492903979006,
           null,
           1.954242509439325,
           null,
           null
          ],
          [
           null,
           1.255272505103306,
           null,
           null,
           null,
           null,
           null,
           null,
           null,
           null,
           null,
           null,
           0.9542425094393249,
           null,
           null,
           1.380211241711606,
           0.6989700043360189,
           1.863322860120456,
           null,
           null
          ],
          [
           null,
           0.9030899869919435,
           null,
           null,
           null,
           null,
           null,
           null,
           null,
           null,
           null,
           null,
           1,
           null,
           null,
           1.2041199826559248,
           0.3010299956639812,
           1.6020599913279623,
           null,
           null
          ],
          [
           0,
           1.0413926851582251,
           null,
           null,
           null,
           null,
           null,
           null,
           null,
           null,
           null,
           null,
           0.8450980400142568,
           null,
           null,
           1.146128035678238,
           0.3010299956639812,
           1.2041199826559248,
           null,
           null
          ],
          [
           null,
           0.9030899869919435,
           null,
           null,
           null,
           null,
           null,
           null,
           null,
           null,
           null,
           null,
           0.47712125471966244,
           null,
           null,
           0.9542425094393249,
           0.3010299956639812,
           0.8450980400142568,
           null,
           null
          ],
          [
           null,
           1,
           null,
           null,
           null,
           null,
           null,
           null,
           null,
           null,
           null,
           null,
           0.6020599913279624,
           null,
           null,
           0.7781512503836436,
           0.3010299956639812,
           0.6989700043360189,
           null,
           null
          ],
          [
           null,
           1,
           null,
           null,
           null,
           null,
           null,
           null,
           null,
           null,
           null,
           null,
           0.3010299956639812,
           null,
           null,
           0.8450980400142568,
           null,
           0.3010299956639812,
           null,
           null
          ],
          [
           null,
           1.2041199826559248,
           null,
           0.3010299956639812,
           null,
           null,
           null,
           null,
           null,
           null,
           null,
           null,
           0.47712125471966244,
           null,
           null,
           0.9030899869919435,
           null,
           0.6989700043360189,
           null,
           null
          ],
          [
           null,
           1.146128035678238,
           null,
           null,
           null,
           null,
           null,
           null,
           null,
           null,
           null,
           null,
           1.0413926851582251,
           null,
           null,
           0.6989700043360189,
           null,
           0.7781512503836436,
           null,
           null
          ],
          [
           null,
           1.462397997898956,
           null,
           null,
           null,
           null,
           null,
           null,
           null,
           null,
           null,
           null,
           1.3010299956639813,
           null,
           null,
           0.9030899869919435,
           0,
           0.9030899869919435,
           null,
           null
          ],
          [
           null,
           1.4913616938342726,
           null,
           0,
           null,
           null,
           null,
           null,
           null,
           null,
           null,
           null,
           0.6989700043360189,
           null,
           null,
           0.3010299956639812,
           0,
           0.6989700043360189,
           null,
           null
          ],
          [
           null,
           1.5563025007672873,
           null,
           null,
           null,
           null,
           null,
           null,
           null,
           null,
           null,
           null,
           0.6989700043360189,
           null,
           null,
           0.9030899869919435,
           0,
           0.9542425094393249,
           null,
           null
          ],
          [
           null,
           1.5797835966168101,
           null,
           0,
           null,
           null,
           null,
           null,
           null,
           null,
           null,
           null,
           0.9030899869919435,
           null,
           null,
           0.9030899869919435,
           0.3010299956639812,
           0.7781512503836436,
           null,
           null
          ],
          [
           null,
           1.7160033436347992,
           null,
           0,
           null,
           null,
           0,
           null,
           0,
           null,
           null,
           null,
           1.3979400086720377,
           null,
           null,
           1.0791812460476249,
           0.6020599913279624,
           0.9542425094393249,
           null,
           null
          ],
          [
           null,
           1.7558748556724915,
           null,
           null,
           null,
           null,
           0.3010299956639812,
           null,
           null,
           null,
           null,
           null,
           1.1760912590556813,
           null,
           null,
           1,
           0.7781512503836436,
           0.47712125471966244,
           null,
           null
          ],
          [
           null,
           1.954242509439325,
           null,
           0.6989700043360189,
           null,
           null,
           0.3010299956639812,
           null,
           null,
           null,
           null,
           null,
           1.505149978319906,
           null,
           null,
           1.0413926851582251,
           1,
           0.8450980400142568,
           null,
           null
          ],
          [
           null,
           2.0827853703164503,
           null,
           0.7781512503836436,
           null,
           null,
           null,
           null,
           null,
           null,
           null,
           0,
           1.3222192947339193,
           null,
           null,
           1.0413926851582251,
           0.7781512503836436,
           0.7781512503836436,
           null,
           null
          ],
          [
           null,
           2.0969100130080562,
           null,
           1,
           null,
           null,
           0,
           null,
           null,
           null,
           null,
           null,
           1.3617278360175928,
           0,
           null,
           1.0791812460476249,
           0.6020599913279624,
           0.47712125471966244,
           null,
           null
          ],
          [
           null,
           2.187520720836463,
           null,
           1.1139433523068367,
           null,
           null,
           null,
           null,
           null,
           null,
           null,
           null,
           1.380211241711606,
           0,
           null,
           1.0791812460476249,
           0.7781512503836436,
           0.7781512503836436,
           null,
           null
          ],
          [
           null,
           2.2380461031287955,
           null,
           1,
           null,
           null,
           0.8450980400142568,
           null,
           null,
           null,
           null,
           0,
           1.3010299956639813,
           0,
           null,
           1.146128035678238,
           1.0791812460476249,
           0.6989700043360189,
           null,
           null
          ],
          [
           0,
           2.2329961103921536,
           null,
           1.3617278360175928,
           null,
           0,
           0.7781512503836436,
           null,
           null,
           null,
           null,
           0.47712125471966244,
           1.2304489213782739,
           0,
           null,
           1,
           1.0791812460476249,
           0.47712125471966244,
           null,
           null
          ],
          [
           0.3010299956639812,
           2.220108088040055,
           null,
           1.4313637641589874,
           null,
           null,
           0.6020599913279624,
           null,
           0,
           null,
           null,
           0.6989700043360189,
           1.0791812460476249,
           0,
           null,
           1.255272505103306,
           1.380211241711606,
           0.47712125471966244,
           null,
           null
          ],
          [
           0,
           2.2671717284030137,
           null,
           1.462397997898956,
           0.6020599913279624,
           null,
           1.0791812460476249,
           null,
           null,
           null,
           null,
           0.6989700043360189,
           1.3617278360175928,
           0.47712125471966244,
           null,
           1.5185139398778875,
           1.3010299956639813,
           0.6020599913279624,
           null,
           null
          ],
          [
           0,
           2.2013971243204513,
           null,
           1.4471580313422192,
           0.3010299956639812,
           null,
           1.2041199826559248,
           null,
           null,
           null,
           0,
           0.3010299956639812,
           1.0791812460476249,
           null,
           null,
           1.3010299956639813,
           1.2304489213782739,
           null,
           null,
           null
          ],
          [
           0.47712125471966244,
           2.2068258760318495,
           null,
           1.414973347970818,
           0.3010299956639812,
           null,
           1.2787536009528289,
           null,
           null,
           null,
           null,
           0.6020599913279624,
           1.146128035678238,
           null,
           0,
           1.1760912590556813,
           1.146128035678238,
           0,
           null,
           null
          ],
          [
           0.6020599913279624,
           2.255272505103306,
           null,
           1.5440680443502757,
           0.6020599913279624,
           null,
           1.146128035678238,
           null,
           null,
           null,
           null,
           0.3010299956639812,
           1.2787536009528289,
           null,
           null,
           1.414973347970818,
           1.0413926851582251,
           0,
           null,
           null
          ],
          [
           0.3010299956639812,
           2.2600713879850747,
           0,
           1.6989700043360187,
           0.3010299956639812,
           null,
           1.146128035678238,
           0,
           null,
           null,
           null,
           null,
           1.255272505103306,
           null,
           null,
           1.3424226808222062,
           1.2304489213782739,
           0,
           null,
           null
          ],
          [
           0.6020599913279624,
           2.271841606536499,
           0.6020599913279624,
           1.5314789170422551,
           0.6989700043360189,
           null,
           1.1760912590556813,
           0,
           null,
           null,
           null,
           0,
           1.3979400086720377,
           null,
           0,
           1.146128035678238,
           1.3010299956639813,
           0,
           null,
           null
          ],
          [
           0.6989700043360189,
           2.2648178230095364,
           null,
           1.4913616938342726,
           0.47712125471966244,
           null,
           1.414973347970818,
           null,
           null,
           null,
           null,
           0.47712125471966244,
           1.146128035678238,
           0,
           0,
           1.462397997898956,
           1.3617278360175928,
           0.47712125471966244,
           null,
           null
          ],
          [
           0.6989700043360189,
           2.161368002234975,
           0.47712125471966244,
           1.462397997898956,
           0.6989700043360189,
           null,
           1.2304489213782739,
           0.47712125471966244,
           null,
           null,
           null,
           0.3010299956639812,
           1.1760912590556813,
           0.3010299956639812,
           0,
           1.414973347970818,
           1.2304489213782739,
           0,
           null,
           null
          ],
          [
           0,
           2.167317334748176,
           0,
           1.4471580313422192,
           0.3010299956639812,
           null,
           1.2787536009528289,
           null,
           0,
           null,
           null,
           0,
           0.9030899869919435,
           0.3010299956639812,
           null,
           1.2304489213782739,
           1.146128035678238,
           0,
           null,
           0
          ],
          [
           0.6020599913279624,
           2.113943352306837,
           0,
           1.505149978319906,
           0.6020599913279624,
           null,
           1.1139433523068367,
           null,
           0,
           null,
           null,
           0.3010299956639812,
           1.1139433523068367,
           0,
           null,
           1.1760912590556813,
           1.255272505103306,
           0,
           null,
           null
          ],
          [
           0.6989700043360189,
           2.110589710299249,
           0.3010299956639812,
           1.3617278360175928,
           0.3010299956639812,
           null,
           1.146128035678238,
           null,
           null,
           null,
           null,
           0.3010299956639812,
           0.8450980400142568,
           0.47712125471966244,
           null,
           0.8450980400142568,
           1.255272505103306,
           null,
           null,
           null
          ],
          [
           0.9030899869919435,
           2.130333768495006,
           0.3010299956639812,
           1.662757831681574,
           0.6989700043360189,
           null,
           1.3617278360175928,
           0,
           null,
           null,
           null,
           0,
           0.7781512503836436,
           0.6020599913279624,
           null,
           0.6989700043360189,
           1.2304489213782739,
           null,
           null,
           0.3010299956639812
          ],
          [
           0.9030899869919435,
           2.173186268412274,
           0.9030899869919435,
           1.7160033436347992,
           0.6989700043360189,
           null,
           1.2041199826559248,
           0.3010299956639812,
           null,
           null,
           null,
           0.47712125471966244,
           0.6989700043360189,
           0,
           null,
           0.6020599913279624,
           1.3222192947339193,
           null,
           null,
           0.3010299956639812
          ],
          [
           1.0413926851582251,
           2.167317334748176,
           0.6020599913279624,
           1.806179973983887,
           0.6989700043360189,
           null,
           1.3010299956639813,
           0.6020599913279624,
           null,
           null,
           null,
           0.6020599913279624,
           0.47712125471966244,
           0.6989700043360189,
           null,
           0.47712125471966244,
           0.9542425094393249,
           null,
           null,
           0.6020599913279624
          ],
          [
           1.1760912590556813,
           2.1760912590556813,
           1,
           1.6720978579357175,
           0.9030899869919435,
           null,
           1.255272505103306,
           0.6989700043360189,
           0,
           null,
           null,
           1,
           0.6989700043360189,
           0.47712125471966244,
           0,
           0.47712125471966244,
           1.146128035678238,
           null,
           null,
           0
          ],
          [
           1.0791812460476249,
           2.1492191126553797,
           0.9030899869919435,
           1.6989700043360187,
           0.7781512503836436,
           null,
           1.2304489213782739,
           0.6989700043360189,
           0,
           null,
           null,
           1.1139433523068367,
           0.47712125471966244,
           0.6989700043360189,
           null,
           0.3010299956639812,
           1.1139433523068367,
           null,
           null,
           0.3010299956639812
          ],
          [
           1.0791812460476249,
           2.1072099696478683,
           0.8450980400142568,
           1.845098040014257,
           0.8450980400142568,
           null,
           1.4471580313422192,
           1.0791812460476249,
           null,
           0.3010299956639812,
           null,
           1.1760912590556813,
           0.7781512503836436,
           0.9030899869919435,
           null,
           0.47712125471966244,
           1.1139433523068367,
           null,
           null,
           0.3010299956639812
          ],
          [
           1.0791812460476249,
           2.1492191126553797,
           0.9030899869919435,
           1.8325089127062364,
           1.0413926851582251,
           null,
           1.3617278360175928,
           0.7781512503836436,
           null,
           null,
           null,
           1.1139433523068367,
           0.6989700043360189,
           0.8450980400142568,
           null,
           0.47712125471966244,
           1.1139433523068367,
           null,
           0,
           0.3010299956639812
          ],
          [
           1.1139433523068367,
           2.093421685162235,
           1.146128035678238,
           1.8195439355418688,
           1.3222192947339193,
           null,
           1.2787536009528289,
           0.47712125471966244,
           0.3010299956639812,
           0,
           null,
           1.146128035678238,
           0.47712125471966244,
           0.9030899869919435,
           null,
           0.3010299956639812,
           0.9542425094393249,
           null,
           null,
           0.3010299956639812
          ],
          [
           1.3010299956639813,
           2.123851640967086,
           1.2041199826559248,
           1.8573324964312685,
           1,
           null,
           1.380211241711606,
           0.7781512503836436,
           0,
           0.3010299956639812,
           null,
           1.146128035678238,
           0.6020599913279624,
           1,
           0,
           0.47712125471966244,
           1,
           null,
           0,
           0.47712125471966244
          ],
          [
           1.1139433523068367,
           2.1172712956557644,
           1.0413926851582251,
           1.8325089127062364,
           1.255272505103306,
           null,
           1.380211241711606,
           1.146128035678238,
           null,
           null,
           null,
           1.1139433523068367,
           0.47712125471966244,
           1.2787536009528289,
           0.47712125471966244,
           0,
           1.0413926851582251,
           null,
           null,
           0
          ],
          [
           1.146128035678238,
           2.0453229787866576,
           1.1760912590556813,
           1.8920946026904804,
           1.3424226808222062,
           null,
           1.3424226808222062,
           0.9030899869919435,
           null,
           null,
           null,
           1.0413926851582251,
           0.6989700043360189,
           1.1760912590556813,
           null,
           0.47712125471966244,
           1,
           null,
           null,
           0.47712125471966244
          ],
          [
           1,
           1.9867717342662448,
           1.3010299956639813,
           1.863322860120456,
           1.2041199826559248,
           null,
           1.2304489213782739,
           0.8450980400142568,
           0.47712125471966244,
           0,
           null,
           1.2041199826559248,
           null,
           1.0791812460476249,
           0.3010299956639812,
           0.3010299956639812,
           0.8450980400142568,
           null,
           null,
           0.6020599913279624
          ],
          [
           1.146128035678238,
           1.9822712330395684,
           1.2041199826559248,
           1.8808135922807914,
           1,
           null,
           1.1139433523068367,
           0.47712125471966244,
           0.3010299956639812,
           null,
           null,
           1.146128035678238,
           null,
           0.8450980400142568,
           0.47712125471966244,
           0.47712125471966244,
           1,
           0,
           null,
           0.3010299956639812
          ],
          [
           1.0413926851582251,
           1.9030899869919435,
           1.4471580313422192,
           1.8976270912904414,
           1.1760912590556813,
           0,
           1.0791812460476249,
           0.6020599913279624,
           null,
           0.47712125471966244,
           null,
           1.3979400086720377,
           null,
           0.9030899869919435,
           0.47712125471966244,
           0,
           0.47712125471966244,
           null,
           null,
           0.3010299956639812
          ],
          [
           1.255272505103306,
           1.863322860120456,
           1.3010299956639813,
           1.8129133566428555,
           1.2787536009528289,
           null,
           1,
           0.6989700043360189,
           0.47712125471966244,
           0.47712125471966244,
           null,
           1.255272505103306,
           null,
           0.9542425094393249,
           0.3010299956639812,
           null,
           0.47712125471966244,
           null,
           null,
           0.3010299956639812
          ],
          [
           1.380211241711606,
           1.968482948553935,
           1.4313637641589874,
           1.9344984512435677,
           1.3222192947339193,
           0.3010299956639812,
           1.0413926851582251,
           0.7781512503836436,
           0.6989700043360189,
           0.6020599913279624,
           null,
           1.3222192947339193,
           0.3010299956639812,
           1.1139433523068367,
           0.3010299956639812,
           null,
           0.7781512503836436,
           null,
           null,
           0
          ],
          [
           1.3010299956639813,
           1.8864907251724818,
           1.3010299956639813,
           1.7708520116421442,
           1.146128035678238,
           0,
           1.0791812460476249,
           0.6020599913279624,
           0.47712125471966244,
           0.47712125471966244,
           null,
           1.1760912590556813,
           null,
           0.9030899869919435,
           0.3010299956639812,
           0,
           0.7781512503836436,
           null,
           null,
           0.3010299956639812
          ],
          [
           1.5185139398778875,
           1.9395192526186185,
           1.414973347970818,
           1.8750612633917,
           1.3424226808222062,
           0.3010299956639812,
           1.146128035678238,
           0.6020599913279624,
           0.7781512503836436,
           0.47712125471966244,
           null,
           1.3424226808222062,
           0,
           1.0413926851582251,
           0.7781512503836436,
           0.3010299956639812,
           0,
           null,
           0.3010299956639812,
           0.3010299956639812
          ],
          [
           1.380211241711606,
           2.0043213737826426,
           1.3222192947339193,
           1.9030899869919435,
           1.3979400086720377,
           0.3010299956639812,
           1.0413926851582251,
           0.7781512503836436,
           0.8450980400142568,
           0.6989700043360189,
           null,
           1.3424226808222062,
           null,
           0.9542425094393249,
           0.6020599913279624,
           0.3010299956639812,
           0.3010299956639812,
           null,
           0.3010299956639812,
           0.3010299956639812
          ],
          [
           1.462397997898956,
           1.9294189257142926,
           1.462397997898956,
           1.863322860120456,
           1.2787536009528289,
           0.3010299956639812,
           1,
           0.9030899869919435,
           0.9542425094393249,
           0.3010299956639812,
           null,
           1.380211241711606,
           0.47712125471966244,
           0.7781512503836436,
           1,
           0.3010299956639812,
           null,
           null,
           0,
           1.0413926851582251
          ],
          [
           1.6127838567197355,
           1.954242509439325,
           1.414973347970818,
           1.8260748027008264,
           1.3010299956639813,
           0.3010299956639812,
           0.8450980400142568,
           1.0791812460476249,
           0.8450980400142568,
           0.7781512503836436,
           null,
           1.3424226808222062,
           0.3010299956639812,
           0.6020599913279624,
           1.146128035678238,
           0,
           null,
           null,
           0,
           0
          ],
          [
           1.5440680443502757,
           1.968482948553935,
           1.3617278360175928,
           1.9084850188786497,
           1.2787536009528289,
           0,
           0.7781512503836436,
           1.146128035678238,
           1.0791812460476249,
           1.0413926851582251,
           null,
           1.3979400086720377,
           0.47712125471966244,
           0.6989700043360189,
           0.9030899869919435,
           0,
           0.6020599913279624,
           null,
           0.47712125471966244,
           0.7781512503836436
          ],
          [
           1.505149978319906,
           1.8750612633917,
           1.462397997898956,
           1.845098040014257,
           1.2041199826559248,
           0.3010299956639812,
           0.7781512503836436,
           1,
           0.9542425094393249,
           0.9030899869919435,
           null,
           1.4313637641589874,
           0.9030899869919435,
           0.9542425094393249,
           0.8450980400142568,
           null,
           0.3010299956639812,
           null,
           0.3010299956639812,
           0.6020599913279624
          ],
          [
           1.6434526764861874,
           1.8573324964312685,
           1.6434526764861874,
           1.8512583487190752,
           1.0791812460476249,
           0.7781512503836436,
           0.7781512503836436,
           0.9030899869919435,
           1.1139433523068367,
           0.6020599913279624,
           null,
           1.3424226808222062,
           0.3010299956639812,
           0.7781512503836436,
           1.146128035678238,
           null,
           0,
           null,
           0.6989700043360189,
           0.6989700043360189
          ],
          [
           1.6232492903979006,
           1.8129133566428555,
           1.8195439355418688,
           1.7403626894942439,
           1.3979400086720377,
           1,
           0.9542425094393249,
           0.9542425094393249,
           1,
           1,
           0,
           1.3617278360175928,
           0.8450980400142568,
           0.3010299956639812,
           0.8450980400142568,
           null,
           0,
           null,
           0.47712125471966244,
           0.7781512503836436
          ],
          [
           1.6434526764861874,
           1.8195439355418688,
           1.7993405494535817,
           1.7993405494535817,
           1.3617278360175928,
           1.3979400086720377,
           0.6020599913279624,
           1.1139433523068367,
           1.1139433523068367,
           1,
           null,
           1.3222192947339193,
           0.7781512503836436,
           0.6989700043360189,
           1.0413926851582251,
           null,
           null,
           null,
           0.47712125471966244,
           0.6989700043360189
          ],
          [
           1.662757831681574,
           1.8512583487190752,
           1.7634279935629373,
           1.7853298350107671,
           1.2787536009528289,
           0.7781512503836436,
           0.9030899869919435,
           1.255272505103306,
           0.9542425094393249,
           0.9030899869919435,
           null,
           1.2787536009528289,
           0.8450980400142568,
           0.3010299956639812,
           1.0791812460476249,
           0,
           null,
           null,
           0.47712125471966244,
           0.6020599913279624
          ],
          [
           1.6532125137753437,
           1.7634279935629373,
           1.6989700043360187,
           1.8129133566428555,
           1.3222192947339193,
           1.0413926851582251,
           1,
           1.1760912590556813,
           0.8450980400142568,
           0.6020599913279624,
           null,
           1.2304489213782739,
           0.7781512503836436,
           0.7781512503836436,
           1.2041199826559248,
           null,
           null,
           null,
           0.6020599913279624,
           0.6020599913279624
          ],
          [
           1.6989700043360187,
           1.7781512503836436,
           1.7634279935629373,
           1.7323937598229686,
           1.414973347970818,
           0.9030899869919435,
           0.8450980400142568,
           1.146128035678238,
           0.47712125471966244,
           0.7781512503836436,
           0,
           1.2041199826559248,
           1.0413926851582251,
           0.6020599913279624,
           1.0413926851582251,
           0,
           null,
           null,
           0.47712125471966244,
           0.3010299956639812
          ],
          [
           1.8195439355418688,
           1.7853298350107671,
           1.6434526764861874,
           1.7323937598229686,
           1.255272505103306,
           1.0413926851582251,
           0.9542425094393249,
           1.255272505103306,
           0.8450980400142568,
           0.6020599913279624,
           null,
           1.255272505103306,
           0.7781512503836436,
           0.47712125471966244,
           1.255272505103306,
           null,
           null,
           null,
           0,
           0.47712125471966244
          ],
          [
           1.7781512503836436,
           1.8195439355418688,
           1.8808135922807914,
           1.724275869600789,
           1.4913616938342726,
           1.1760912590556813,
           1.1139433523068367,
           0.9542425094393249,
           0.9030899869919435,
           0.6020599913279624,
           null,
           1.2041199826559248,
           0.9542425094393249,
           0.47712125471966244,
           1.1760912590556813,
           null,
           null,
           null,
           0.6020599913279624,
           0.7781512503836436
          ],
          [
           1.8750612633917,
           1.8512583487190752,
           1.806179973983887,
           1.7634279935629373,
           1.5314789170422551,
           1.3222192947339193,
           1.146128035678238,
           1.0413926851582251,
           0.9030899869919435,
           1.0413926851582251,
           0,
           1.1760912590556813,
           0.9542425094393249,
           0.47712125471966244,
           1.255272505103306,
           null,
           null,
           null,
           0.3010299956639812,
           0.47712125471966244
          ],
          [
           1.863322860120456,
           1.8129133566428555,
           1.7781512503836436,
           1.8195439355418688,
           1.4913616938342726,
           1.2787536009528289,
           1.0791812460476249,
           1,
           1.0413926851582251,
           1,
           0.3010299956639812,
           1.255272505103306,
           1,
           0.6020599913279624,
           1.2304489213782739,
           null,
           null,
           null,
           0.47712125471966244,
           0.47712125471966244
          ],
          [
           1.968482948553935,
           1.7634279935629373,
           1.806179973983887,
           1.7323937598229686,
           1.462397997898956,
           1.2041199826559248,
           1.146128035678238,
           1.2304489213782739,
           1.1760912590556813,
           0.9542425094393249,
           0.3010299956639812,
           1.0413926851582251,
           0.7781512503836436,
           0.3010299956639812,
           1.3222192947339193,
           0,
           null,
           null,
           0,
           0.47712125471966244
          ],
          [
           1.8976270912904414,
           1.7160033436347992,
           1.8195439355418688,
           1.6720978579357175,
           1.5563025007672873,
           1.2787536009528289,
           1.2304489213782739,
           1.2041199826559248,
           1.0791812460476249,
           1.414973347970818,
           0,
           1.1760912590556813,
           0.7781512503836436,
           0.6020599913279624,
           1.1760912590556813,
           null,
           null,
           null,
           0.47712125471966244,
           0.6989700043360189
          ],
          [
           1.9138138523837167,
           1.6720978579357175,
           1.8260748027008264,
           1.662757831681574,
           1.568201724066995,
           1.1139433523068367,
           1.1760912590556813,
           1.3424226808222062,
           1,
           1.2304489213782739,
           null,
           1.1139433523068367,
           0.8450980400142568,
           0.3010299956639812,
           1.3424226808222062,
           0,
           null,
           null,
           0.47712125471966244,
           0.6989700043360189
          ],
          [
           1.9395192526186185,
           1.6989700043360187,
           1.724275869600789,
           1.6532125137753437,
           1.6334684555795864,
           1.1139433523068367,
           1.4313637641589874,
           1.414973347970818,
           1.1760912590556813,
           1.380211241711606,
           null,
           1.146128035678238,
           0.9030899869919435,
           0.6020599913279624,
           1.3424226808222062,
           null,
           null,
           null,
           0.6020599913279624,
           0.47712125471966244
          ],
          [
           2.0293837776852097,
           1.5563025007672873,
           1.7781512503836436,
           1.662757831681574,
           1.5797835966168101,
           1.1139433523068367,
           1.2041199826559248,
           1.414973347970818,
           1.2787536009528289,
           1.505149978319906,
           0.7781512503836436,
           0.9030899869919435,
           0.9542425094393249,
           0.3010299956639812,
           1.4771212547196624,
           null,
           null,
           null,
           0.7781512503836436,
           0.7781512503836436
          ],
          [
           2.093421685162235,
           1.4913616938342726,
           1.8129133566428555,
           1.7323937598229686,
           1.7075701760979363,
           1.0413926851582251,
           1.3424226808222062,
           1.380211241711606,
           1.462397997898956,
           1.3979400086720377,
           0.7781512503836436,
           1.1139433523068367,
           1.1139433523068367,
           0.3010299956639812,
           1.3617278360175928,
           null,
           null,
           null,
           0.9030899869919435,
           0.3010299956639812
          ],
          [
           2.093421685162235,
           1.6232492903979006,
           1.7853298350107671,
           1.6720978579357175,
           1.6434526764861874,
           1.0413926851582251,
           1.4771212547196624,
           1.5563025007672873,
           1.2787536009528289,
           1.6020599913279623,
           0.9030899869919435,
           1.2041199826559248,
           1,
           0.3010299956639812,
           1.462397997898956,
           null,
           null,
           null,
           0.47712125471966244,
           0.6989700043360189
          ],
          [
           2.173186268412274,
           1.6812412373755872,
           1.6334684555795864,
           1.8325089127062364,
           1.662757831681574,
           1.146128035678238,
           1.3222192947339193,
           1.5185139398778875,
           1.4471580313422192,
           1.505149978319906,
           0.6020599913279624,
           1.1139433523068367,
           1.0791812460476249,
           0,
           1.3222192947339193,
           0,
           null,
           null,
           0.3010299956639812,
           0.3010299956639812
          ],
          [
           2.1958996524092336,
           1.662757831681574,
           1.792391689498254,
           1.806179973983887,
           1.6532125137753437,
           1.146128035678238,
           1.5440680443502757,
           1.7323937598229686,
           1.4771212547196624,
           1.4913616938342726,
           0.8450980400142568,
           1,
           0.9542425094393249,
           0.47712125471966244,
           1.4313637641589874,
           null,
           null,
           null,
           0.6989700043360189,
           0.6989700043360189
          ],
          [
           2.2174839442139063,
           1.591064607026499,
           1.8129133566428555,
           1.7160033436347992,
           1.6232492903979006,
           1.2787536009528289,
           1.6434526764861874,
           1.7075701760979363,
           1.3222192947339193,
           1.6334684555795864,
           0.6020599913279624,
           0.6020599913279624,
           0.6989700043360189,
           0.47712125471966244,
           1.3222192947339193,
           null,
           null,
           null,
           0.7781512503836436,
           0.6020599913279624
          ],
          [
           2.2174839442139063,
           1.7403626894942439,
           1.806179973983887,
           1.7993405494535817,
           1.6901960800285136,
           1.3424226808222062,
           1.414973347970818,
           1.7323937598229686,
           1.5797835966168101,
           1.6020599913279623,
           0.6020599913279624,
           1.0413926851582251,
           0.8450980400142568,
           0.3010299956639812,
           1.505149978319906,
           null,
           null,
           null,
           0.8450980400142568,
           0.6989700043360189
          ],
          [
           2.2068258760318495,
           1.5185139398778875,
           1.9084850188786497,
           1.7708520116421442,
           1.7481880270062005,
           1.2787536009528289,
           1.5563025007672873,
           1.6901960800285136,
           1.4313637641589874,
           1.6901960800285136,
           0.7781512503836436,
           1.0791812460476249,
           0,
           0.3010299956639812,
           1.2041199826559248,
           null,
           null,
           null,
           0.6020599913279624,
           0.6020599913279624
          ],
          [
           2.2528530309798933,
           1.505149978319906,
           1.8573324964312685,
           1.806179973983887,
           1.7708520116421442,
           1.414973347970818,
           1.6334684555795864,
           1.662757831681574,
           1.505149978319906,
           1.568201724066995,
           0.6020599913279624,
           1.0791812460476249,
           0.7781512503836436,
           0.3010299956639812,
           1.5440680443502757,
           null,
           0,
           null,
           0.7781512503836436,
           0.6989700043360189
          ],
          [
           2.271841606536499,
           1.6532125137753437,
           1.9084850188786497,
           1.845098040014257,
           1.8692317197309762,
           1.5797835966168101,
           1.4913616938342726,
           1.806179973983887,
           1.5797835966168101,
           1.662757831681574,
           1,
           1.2041199826559248,
           0.9542425094393249,
           0.3010299956639812,
           1.414973347970818,
           null,
           null,
           null,
           0.3010299956639812,
           1
          ],
          [
           2.3404441148401185,
           1.6532125137753437,
           1.7993405494535817,
           1.8920946026904804,
           1.6812412373755872,
           1.2787536009528289,
           1.7160033436347992,
           1.9294189257142926,
           1.7558748556724915,
           1.4471580313422192,
           1,
           1.1760912590556813,
           0.9030899869919435,
           0.6020599913279624,
           1.4471580313422192,
           null,
           0,
           null,
           0.47712125471966244,
           0.6989700043360189
          ],
          [
           2.3483048630481607,
           1.5185139398778875,
           1.792391689498254,
           1.9344984512435677,
           1.7558748556724915,
           1.2041199826559248,
           1.6901960800285136,
           1.8808135922807914,
           1.792391689498254,
           1.4313637641589874,
           0.9542425094393249,
           1.1760912590556813,
           1,
           0.47712125471966244,
           1.4471580313422192,
           null,
           null,
           null,
           0,
           0.6020599913279624
          ],
          [
           2.401400540781544,
           1.662757831681574,
           1.8129133566428555,
           1.954242509439325,
           1.8388490907372552,
           1.4471580313422192,
           1.591064607026499,
           1.9637878273455553,
           1.7634279935629373,
           1.414973347970818,
           0,
           1.255272505103306,
           0.7781512503836436,
           null,
           1.6232492903979006,
           null,
           null,
           null,
           0.7781512503836436,
           0.47712125471966244
          ],
          [
           2.4183012913197452,
           1.4913616938342726,
           1.8325089127062364,
           1.99563519459755,
           1.845098040014257,
           1.146128035678238,
           1.7708520116421442,
           1.919078092376074,
           1.8129133566428555,
           1.568201724066995,
           1.0791812460476249,
           1.0413926851582251,
           0.6020599913279624,
           null,
           1.505149978319906,
           null,
           null,
           null,
           0.6989700043360189,
           0.7781512503836436
          ],
          [
           2.4456042032735974,
           1.662757831681574,
           1.8692317197309762,
           2.0043213737826426,
           1.8325089127062364,
           1.380211241711606,
           1.806179973983887,
           2.0569048513364727,
           1.8750612633917,
           1.4313637641589874,
           0.9030899869919435,
           1.0791812460476249,
           0.8450980400142568,
           0.6020599913279624,
           1.5563025007672873,
           null,
           null,
           null,
           0.9030899869919435,
           0.47712125471966244
          ],
          [
           2.44870631990508,
           1.5563025007672873,
           1.9242792860618816,
           2.0492180226701815,
           1.9138138523837167,
           1.2787536009528289,
           1.7558748556724915,
           2.0569048513364727,
           1.8512583487190752,
           1.5440680443502757,
           0.6020599913279624,
           1.3010299956639813,
           0.9030899869919435,
           0.47712125471966244,
           1.6434526764861874,
           null,
           null,
           null,
           0.6020599913279624,
           0.6989700043360189
          ],
          [
           2.4313637641589874,
           1.3617278360175928,
           1.8692317197309762,
           1.9867717342662448,
           1.8976270912904414,
           1.3617278360175928,
           1.7160033436347992,
           2.0170333392987803,
           1.845098040014257,
           1.5185139398778875,
           0.9542425094393249,
           1.0413926851582251,
           1,
           0,
           1.568201724066995,
           null,
           null,
           null,
           0.6989700043360189,
           0.6989700043360189
          ],
          [
           2.419955748489758,
           1.4313637641589874,
           1.8808135922807914,
           2.0492180226701815,
           1.9637878273455553,
           1.414973347970818,
           1.6720978579357175,
           2.0492180226701815,
           1.9138138523837167,
           1.5185139398778875,
           1.0413926851582251,
           1.1139433523068367,
           0.6989700043360189,
           0.3010299956639812,
           1.6532125137753437,
           null,
           null,
           null,
           0.6989700043360189,
           0.47712125471966244
          ],
          [
           2.450249108319361,
           1.414973347970818,
           1.9395192526186185,
           1.9867717342662448,
           1.9867717342662448,
           1.5440680443502757,
           1.7853298350107671,
           1.99563519459755,
           1.9242792860618816,
           1.6812412373755872,
           0.9542425094393249,
           1.146128035678238,
           0.9030899869919435,
           0.6020599913279624,
           1.462397997898956,
           null,
           null,
           null,
           0.6989700043360189,
           0.47712125471966244
          ],
          [
           2.416640507338281,
           1.3222192947339193,
           1.9731278535996986,
           1.9590413923210936,
           2.0211892990699383,
           1.5440680443502757,
           1.7481880270062005,
           2.041392685158225,
           1.8512583487190752,
           1.7403626894942439,
           0.7781512503836436,
           1.2304489213782739,
           0.6989700043360189,
           0.3010299956639812,
           1.591064607026499,
           null,
           null,
           null,
           0.9030899869919435,
           0.7781512503836436
          ],
          [
           2.444044795918076,
           1.414973347970818,
           2.0453229787866576,
           2.0293837776852097,
           2.0791812460476247,
           1.5314789170422551,
           1.8195439355418688,
           2.0293837776852097,
           1.9395192526186185,
           1.7160033436347992,
           1.146128035678238,
           1.2041199826559248,
           0.6020599913279624,
           0.47712125471966244,
           1.591064607026499,
           null,
           null,
           null,
           0.9542425094393249,
           0
          ],
          [
           2.4578818967339924,
           1.414973347970818,
           2.0791812460476247,
           2.012837224705172,
           2.113943352306837,
           1.5185139398778875,
           1.8195439355418688,
           2.0530784434834195,
           1.9493900066449128,
           1.8195439355418688,
           1.2304489213782739,
           1,
           0.6989700043360189,
           0.3010299956639812,
           1.5440680443502757,
           null,
           null,
           null,
           0.9030899869919435,
           0.47712125471966244
          ],
          [
           2.5289167002776547,
           1.5185139398778875,
           2.089905111439398,
           2.0211892990699383,
           2.093421685162235,
           1.4913616938342726,
           1.8692317197309762,
           2.0718820073061255,
           1.9822712330395684,
           1.863322860120456,
           1.0791812460476249,
           1.2041199826559248,
           0,
           0.3010299956639812,
           1.6901960800285136,
           null,
           null,
           null,
           1.2304489213782739,
           0.3010299956639812
          ],
          [
           2.4727564493172123,
           1.3979400086720377,
           2.089905111439398,
           1.9030899869919435,
           2.0827853703164503,
           1.5314789170422551,
           1.806179973983887,
           2.113943352306837,
           1.9294189257142926,
           1.8976270912904414,
           1.146128035678238,
           1.0791812460476249,
           0.6989700043360189,
           0.3010299956639812,
           1.505149978319906,
           null,
           null,
           null,
           0.9542425094393249,
           0.9030899869919435
          ],
          [
           2.4800069429571505,
           1.255272505103306,
           2.1398790864012365,
           2,
           2.1818435879447726,
           1.5563025007672873,
           1.806179973983887,
           2.037426497940624,
           1.919078092376074,
           1.8864907251724818,
           1,
           1.146128035678238,
           0.9030899869919435,
           0,
           1.462397997898956,
           null,
           null,
           null,
           0.8450980400142568,
           0
          ],
          [
           2.481442628502305,
           1.2304489213782739,
           2.130333768495006,
           1.8864907251724818,
           2.103803720955957,
           1.505149978319906,
           1.8573324964312685,
           2.0530784434834195,
           1.8750612633917,
           1.9822712330395684,
           1.1760912590556813,
           1.255272505103306,
           0.47712125471966244,
           0,
           1.5185139398778875,
           null,
           null,
           null,
           0.47712125471966244,
           0.3010299956639812
          ],
          [
           2.406540180433955,
           1.1760912590556813,
           2.1367205671564067,
           1.8195439355418688,
           2.110589710299249,
           1.6127838567197355,
           1.7481880270062005,
           2.041392685158225,
           1.8976270912904414,
           1.9822712330395684,
           0.9030899869919435,
           1.0791812460476249,
           0.6989700043360189,
           0,
           1.5797835966168101,
           null,
           null,
           null,
           0.3010299956639812,
           0.47712125471966244
          ],
          [
           2.3783979009481375,
           1.0791812460476249,
           2.0827853703164503,
           1.8750612633917,
           2.03342375548695,
           1.4471580313422192,
           1.6334684555795864,
           2.0043213737826426,
           1.9138138523837167,
           1.9242792860618816,
           0.8450980400142568,
           0.6989700043360189,
           0.3010299956639812,
           null,
           1.5314789170422551,
           null,
           null,
           null,
           0.9542425094393249,
           0.3010299956639812
          ],
          [
           2.2695129442179165,
           0.7781512503836436,
           1.9493900066449128,
           1.7853298350107671,
           1.9777236052888478,
           1.380211241711606,
           1.4913616938342726,
           1.8512583487190752,
           1.7403626894942439,
           1.7558748556724915,
           0.6020599913279624,
           1.0413926851582251,
           0,
           null,
           1.2041199826559248,
           null,
           null,
           null,
           0.47712125471966244,
           null
          ],
          [
           1.6812412373755872,
           0,
           1.0791812460476249,
           1.2304489213782739,
           0.9542425094393249,
           0,
           0.8450980400142568,
           1.3424226808222062,
           1,
           0,
           0,
           null,
           null,
           null,
           0.47712125471966244,
           null,
           null,
           null,
           null,
           null
          ],
          [
           0.6020599913279624,
           null,
           null,
           0,
           null,
           null,
           null,
           null,
           0.47712125471966244,
           null,
           null,
           null,
           null,
           null,
           null,
           null,
           null,
           null,
           null,
           null
          ],
          [
           0,
           null,
           0,
           null,
           null,
           null,
           null,
           null,
           null,
           null,
           null,
           null,
           null,
           null,
           null,
           null,
           null,
           null,
           null,
           null
          ],
          [
           0,
           null,
           null,
           null,
           null,
           null,
           null,
           null,
           null,
           null,
           null,
           null,
           null,
           null,
           null,
           null,
           null,
           null,
           null,
           null
          ]
         ]
        }
       ],
       "layout": {
        "coloraxis": {
         "colorbar": {
          "title": {
           "text": "log nb movies"
          }
         },
         "colorscale": [
          [
           0,
           "rgb(241, 236, 236)"
          ],
          [
           0.09090909090909091,
           "rgb(230, 209, 203)"
          ],
          [
           0.18181818181818182,
           "rgb(221, 182, 170)"
          ],
          [
           0.2727272727272727,
           "rgb(213, 156, 137)"
          ],
          [
           0.36363636363636365,
           "rgb(205, 129, 103)"
          ],
          [
           0.45454545454545453,
           "rgb(196, 102, 73)"
          ],
          [
           0.5454545454545454,
           "rgb(186, 74, 47)"
          ],
          [
           0.6363636363636364,
           "rgb(172, 44, 36)"
          ],
          [
           0.7272727272727273,
           "rgb(149, 19, 39)"
          ],
          [
           0.8181818181818182,
           "rgb(120, 14, 40)"
          ],
          [
           0.9090909090909091,
           "rgb(89, 13, 31)"
          ],
          [
           1,
           "rgb(60, 9, 17)"
          ]
         ]
        },
        "height": 600,
        "margin": {
         "t": 60
        },
        "template": {
         "data": {
          "bar": [
           {
            "error_x": {
             "color": "#2a3f5f"
            },
            "error_y": {
             "color": "#2a3f5f"
            },
            "marker": {
             "line": {
              "color": "white",
              "width": 0.5
             },
             "pattern": {
              "fillmode": "overlay",
              "size": 10,
              "solidity": 0.2
             }
            },
            "type": "bar"
           }
          ],
          "barpolar": [
           {
            "marker": {
             "line": {
              "color": "white",
              "width": 0.5
             },
             "pattern": {
              "fillmode": "overlay",
              "size": 10,
              "solidity": 0.2
             }
            },
            "type": "barpolar"
           }
          ],
          "carpet": [
           {
            "aaxis": {
             "endlinecolor": "#2a3f5f",
             "gridcolor": "#C8D4E3",
             "linecolor": "#C8D4E3",
             "minorgridcolor": "#C8D4E3",
             "startlinecolor": "#2a3f5f"
            },
            "baxis": {
             "endlinecolor": "#2a3f5f",
             "gridcolor": "#C8D4E3",
             "linecolor": "#C8D4E3",
             "minorgridcolor": "#C8D4E3",
             "startlinecolor": "#2a3f5f"
            },
            "type": "carpet"
           }
          ],
          "choropleth": [
           {
            "colorbar": {
             "outlinewidth": 0,
             "ticks": ""
            },
            "type": "choropleth"
           }
          ],
          "contour": [
           {
            "colorbar": {
             "outlinewidth": 0,
             "ticks": ""
            },
            "colorscale": [
             [
              0,
              "#0d0887"
             ],
             [
              0.1111111111111111,
              "#46039f"
             ],
             [
              0.2222222222222222,
              "#7201a8"
             ],
             [
              0.3333333333333333,
              "#9c179e"
             ],
             [
              0.4444444444444444,
              "#bd3786"
             ],
             [
              0.5555555555555556,
              "#d8576b"
             ],
             [
              0.6666666666666666,
              "#ed7953"
             ],
             [
              0.7777777777777778,
              "#fb9f3a"
             ],
             [
              0.8888888888888888,
              "#fdca26"
             ],
             [
              1,
              "#f0f921"
             ]
            ],
            "type": "contour"
           }
          ],
          "contourcarpet": [
           {
            "colorbar": {
             "outlinewidth": 0,
             "ticks": ""
            },
            "type": "contourcarpet"
           }
          ],
          "heatmap": [
           {
            "colorbar": {
             "outlinewidth": 0,
             "ticks": ""
            },
            "colorscale": [
             [
              0,
              "#0d0887"
             ],
             [
              0.1111111111111111,
              "#46039f"
             ],
             [
              0.2222222222222222,
              "#7201a8"
             ],
             [
              0.3333333333333333,
              "#9c179e"
             ],
             [
              0.4444444444444444,
              "#bd3786"
             ],
             [
              0.5555555555555556,
              "#d8576b"
             ],
             [
              0.6666666666666666,
              "#ed7953"
             ],
             [
              0.7777777777777778,
              "#fb9f3a"
             ],
             [
              0.8888888888888888,
              "#fdca26"
             ],
             [
              1,
              "#f0f921"
             ]
            ],
            "type": "heatmap"
           }
          ],
          "heatmapgl": [
           {
            "colorbar": {
             "outlinewidth": 0,
             "ticks": ""
            },
            "colorscale": [
             [
              0,
              "#0d0887"
             ],
             [
              0.1111111111111111,
              "#46039f"
             ],
             [
              0.2222222222222222,
              "#7201a8"
             ],
             [
              0.3333333333333333,
              "#9c179e"
             ],
             [
              0.4444444444444444,
              "#bd3786"
             ],
             [
              0.5555555555555556,
              "#d8576b"
             ],
             [
              0.6666666666666666,
              "#ed7953"
             ],
             [
              0.7777777777777778,
              "#fb9f3a"
             ],
             [
              0.8888888888888888,
              "#fdca26"
             ],
             [
              1,
              "#f0f921"
             ]
            ],
            "type": "heatmapgl"
           }
          ],
          "histogram": [
           {
            "marker": {
             "pattern": {
              "fillmode": "overlay",
              "size": 10,
              "solidity": 0.2
             }
            },
            "type": "histogram"
           }
          ],
          "histogram2d": [
           {
            "colorbar": {
             "outlinewidth": 0,
             "ticks": ""
            },
            "colorscale": [
             [
              0,
              "#0d0887"
             ],
             [
              0.1111111111111111,
              "#46039f"
             ],
             [
              0.2222222222222222,
              "#7201a8"
             ],
             [
              0.3333333333333333,
              "#9c179e"
             ],
             [
              0.4444444444444444,
              "#bd3786"
             ],
             [
              0.5555555555555556,
              "#d8576b"
             ],
             [
              0.6666666666666666,
              "#ed7953"
             ],
             [
              0.7777777777777778,
              "#fb9f3a"
             ],
             [
              0.8888888888888888,
              "#fdca26"
             ],
             [
              1,
              "#f0f921"
             ]
            ],
            "type": "histogram2d"
           }
          ],
          "histogram2dcontour": [
           {
            "colorbar": {
             "outlinewidth": 0,
             "ticks": ""
            },
            "colorscale": [
             [
              0,
              "#0d0887"
             ],
             [
              0.1111111111111111,
              "#46039f"
             ],
             [
              0.2222222222222222,
              "#7201a8"
             ],
             [
              0.3333333333333333,
              "#9c179e"
             ],
             [
              0.4444444444444444,
              "#bd3786"
             ],
             [
              0.5555555555555556,
              "#d8576b"
             ],
             [
              0.6666666666666666,
              "#ed7953"
             ],
             [
              0.7777777777777778,
              "#fb9f3a"
             ],
             [
              0.8888888888888888,
              "#fdca26"
             ],
             [
              1,
              "#f0f921"
             ]
            ],
            "type": "histogram2dcontour"
           }
          ],
          "mesh3d": [
           {
            "colorbar": {
             "outlinewidth": 0,
             "ticks": ""
            },
            "type": "mesh3d"
           }
          ],
          "parcoords": [
           {
            "line": {
             "colorbar": {
              "outlinewidth": 0,
              "ticks": ""
             }
            },
            "type": "parcoords"
           }
          ],
          "pie": [
           {
            "automargin": true,
            "type": "pie"
           }
          ],
          "scatter": [
           {
            "marker": {
             "colorbar": {
              "outlinewidth": 0,
              "ticks": ""
             }
            },
            "type": "scatter"
           }
          ],
          "scatter3d": [
           {
            "line": {
             "colorbar": {
              "outlinewidth": 0,
              "ticks": ""
             }
            },
            "marker": {
             "colorbar": {
              "outlinewidth": 0,
              "ticks": ""
             }
            },
            "type": "scatter3d"
           }
          ],
          "scattercarpet": [
           {
            "marker": {
             "colorbar": {
              "outlinewidth": 0,
              "ticks": ""
             }
            },
            "type": "scattercarpet"
           }
          ],
          "scattergeo": [
           {
            "marker": {
             "colorbar": {
              "outlinewidth": 0,
              "ticks": ""
             }
            },
            "type": "scattergeo"
           }
          ],
          "scattergl": [
           {
            "marker": {
             "colorbar": {
              "outlinewidth": 0,
              "ticks": ""
             }
            },
            "type": "scattergl"
           }
          ],
          "scattermapbox": [
           {
            "marker": {
             "colorbar": {
              "outlinewidth": 0,
              "ticks": ""
             }
            },
            "type": "scattermapbox"
           }
          ],
          "scatterpolar": [
           {
            "marker": {
             "colorbar": {
              "outlinewidth": 0,
              "ticks": ""
             }
            },
            "type": "scatterpolar"
           }
          ],
          "scatterpolargl": [
           {
            "marker": {
             "colorbar": {
              "outlinewidth": 0,
              "ticks": ""
             }
            },
            "type": "scatterpolargl"
           }
          ],
          "scatterternary": [
           {
            "marker": {
             "colorbar": {
              "outlinewidth": 0,
              "ticks": ""
             }
            },
            "type": "scatterternary"
           }
          ],
          "surface": [
           {
            "colorbar": {
             "outlinewidth": 0,
             "ticks": ""
            },
            "colorscale": [
             [
              0,
              "#0d0887"
             ],
             [
              0.1111111111111111,
              "#46039f"
             ],
             [
              0.2222222222222222,
              "#7201a8"
             ],
             [
              0.3333333333333333,
              "#9c179e"
             ],
             [
              0.4444444444444444,
              "#bd3786"
             ],
             [
              0.5555555555555556,
              "#d8576b"
             ],
             [
              0.6666666666666666,
              "#ed7953"
             ],
             [
              0.7777777777777778,
              "#fb9f3a"
             ],
             [
              0.8888888888888888,
              "#fdca26"
             ],
             [
              1,
              "#f0f921"
             ]
            ],
            "type": "surface"
           }
          ],
          "table": [
           {
            "cells": {
             "fill": {
              "color": "#EBF0F8"
             },
             "line": {
              "color": "white"
             }
            },
            "header": {
             "fill": {
              "color": "#C8D4E3"
             },
             "line": {
              "color": "white"
             }
            },
            "type": "table"
           }
          ]
         },
         "layout": {
          "annotationdefaults": {
           "arrowcolor": "#2a3f5f",
           "arrowhead": 0,
           "arrowwidth": 1
          },
          "autotypenumbers": "strict",
          "coloraxis": {
           "colorbar": {
            "outlinewidth": 0,
            "ticks": ""
           }
          },
          "colorscale": {
           "diverging": [
            [
             0,
             "#8e0152"
            ],
            [
             0.1,
             "#c51b7d"
            ],
            [
             0.2,
             "#de77ae"
            ],
            [
             0.3,
             "#f1b6da"
            ],
            [
             0.4,
             "#fde0ef"
            ],
            [
             0.5,
             "#f7f7f7"
            ],
            [
             0.6,
             "#e6f5d0"
            ],
            [
             0.7,
             "#b8e186"
            ],
            [
             0.8,
             "#7fbc41"
            ],
            [
             0.9,
             "#4d9221"
            ],
            [
             1,
             "#276419"
            ]
           ],
           "sequential": [
            [
             0,
             "#0d0887"
            ],
            [
             0.1111111111111111,
             "#46039f"
            ],
            [
             0.2222222222222222,
             "#7201a8"
            ],
            [
             0.3333333333333333,
             "#9c179e"
            ],
            [
             0.4444444444444444,
             "#bd3786"
            ],
            [
             0.5555555555555556,
             "#d8576b"
            ],
            [
             0.6666666666666666,
             "#ed7953"
            ],
            [
             0.7777777777777778,
             "#fb9f3a"
            ],
            [
             0.8888888888888888,
             "#fdca26"
            ],
            [
             1,
             "#f0f921"
            ]
           ],
           "sequentialminus": [
            [
             0,
             "#0d0887"
            ],
            [
             0.1111111111111111,
             "#46039f"
            ],
            [
             0.2222222222222222,
             "#7201a8"
            ],
            [
             0.3333333333333333,
             "#9c179e"
            ],
            [
             0.4444444444444444,
             "#bd3786"
            ],
            [
             0.5555555555555556,
             "#d8576b"
            ],
            [
             0.6666666666666666,
             "#ed7953"
            ],
            [
             0.7777777777777778,
             "#fb9f3a"
            ],
            [
             0.8888888888888888,
             "#fdca26"
            ],
            [
             1,
             "#f0f921"
            ]
           ]
          },
          "colorway": [
           "#636efa",
           "#EF553B",
           "#00cc96",
           "#ab63fa",
           "#FFA15A",
           "#19d3f3",
           "#FF6692",
           "#B6E880",
           "#FF97FF",
           "#FECB52"
          ],
          "font": {
           "color": "#2a3f5f"
          },
          "geo": {
           "bgcolor": "white",
           "lakecolor": "white",
           "landcolor": "white",
           "showlakes": true,
           "showland": true,
           "subunitcolor": "#C8D4E3"
          },
          "hoverlabel": {
           "align": "left"
          },
          "hovermode": "closest",
          "mapbox": {
           "style": "light"
          },
          "paper_bgcolor": "white",
          "plot_bgcolor": "white",
          "polar": {
           "angularaxis": {
            "gridcolor": "#EBF0F8",
            "linecolor": "#EBF0F8",
            "ticks": ""
           },
           "bgcolor": "white",
           "radialaxis": {
            "gridcolor": "#EBF0F8",
            "linecolor": "#EBF0F8",
            "ticks": ""
           }
          },
          "scene": {
           "xaxis": {
            "backgroundcolor": "white",
            "gridcolor": "#DFE8F3",
            "gridwidth": 2,
            "linecolor": "#EBF0F8",
            "showbackground": true,
            "ticks": "",
            "zerolinecolor": "#EBF0F8"
           },
           "yaxis": {
            "backgroundcolor": "white",
            "gridcolor": "#DFE8F3",
            "gridwidth": 2,
            "linecolor": "#EBF0F8",
            "showbackground": true,
            "ticks": "",
            "zerolinecolor": "#EBF0F8"
           },
           "zaxis": {
            "backgroundcolor": "white",
            "gridcolor": "#DFE8F3",
            "gridwidth": 2,
            "linecolor": "#EBF0F8",
            "showbackground": true,
            "ticks": "",
            "zerolinecolor": "#EBF0F8"
           }
          },
          "shapedefaults": {
           "line": {
            "color": "#2a3f5f"
           }
          },
          "ternary": {
           "aaxis": {
            "gridcolor": "#DFE8F3",
            "linecolor": "#A2B1C6",
            "ticks": ""
           },
           "baxis": {
            "gridcolor": "#DFE8F3",
            "linecolor": "#A2B1C6",
            "ticks": ""
           },
           "bgcolor": "white",
           "caxis": {
            "gridcolor": "#DFE8F3",
            "linecolor": "#A2B1C6",
            "ticks": ""
           }
          },
          "title": {
           "x": 0.05
          },
          "xaxis": {
           "automargin": true,
           "gridcolor": "#EBF0F8",
           "linecolor": "#EBF0F8",
           "ticks": "",
           "title": {
            "standoff": 15
           },
           "zerolinecolor": "#EBF0F8",
           "zerolinewidth": 2
          },
          "yaxis": {
           "automargin": true,
           "gridcolor": "#EBF0F8",
           "linecolor": "#EBF0F8",
           "ticks": "",
           "title": {
            "standoff": 15
           },
           "zerolinecolor": "#EBF0F8",
           "zerolinewidth": 2
          }
         }
        },
        "title": {
         "text": "Movie distribution over years and communities"
        },
        "width": 800,
        "xaxis": {
         "anchor": "y",
         "constrain": "domain",
         "domain": [
          0,
          1
         ],
         "scaleanchor": "y",
         "title": {
          "text": "Community"
         }
        },
        "yaxis": {
         "anchor": "x",
         "autorange": "reversed",
         "constrain": "domain",
         "domain": [
          0,
          1
         ],
         "title": {
          "text": "Release year"
         }
        }
       }
      }
     },
     "metadata": {},
     "output_type": "display_data"
    }
   ],
   "source": [
    "fig = px.imshow(np.log10(movies_year_com),y=movies_year_com.index,color_continuous_scale  = 'amp',labels={'color':'log nb movies'})\n",
    "fig.update_yaxes(title = 'Release year')\n",
    "fig.update_xaxes(title = 'Community')\n",
    "fig.update_layout(title = 'Movie distribution over years and communities', template = 'plotly_white',height=600,width = 800)\n",
    "fig.show()\n",
    "fig.write_html('C:/Users/Public/ADA2022/weloic.github.io/_includes/movies_time_dist.html')"
   ]
  },
  {
   "attachments": {},
   "cell_type": "markdown",
   "metadata": {},
   "source": [
    "### The beginning of cinema "
   ]
  },
  {
   "cell_type": "code",
   "execution_count": 387,
   "metadata": {},
   "outputs": [
    {
     "data": {
      "text/html": [
       "<div>\n",
       "<style scoped>\n",
       "    .dataframe tbody tr th:only-of-type {\n",
       "        vertical-align: middle;\n",
       "    }\n",
       "\n",
       "    .dataframe tbody tr th {\n",
       "        vertical-align: top;\n",
       "    }\n",
       "\n",
       "    .dataframe thead th {\n",
       "        text-align: right;\n",
       "    }\n",
       "</style>\n",
       "<table border=\"1\" class=\"dataframe\">\n",
       "  <thead>\n",
       "    <tr style=\"text-align: right;\">\n",
       "      <th></th>\n",
       "      <th>Wikipedia_movie_ID</th>\n",
       "      <th>Freebase_movie_ID</th>\n",
       "      <th>Movie_name</th>\n",
       "      <th>Movie_languages</th>\n",
       "      <th>Movie_countries</th>\n",
       "      <th>Movie_genres</th>\n",
       "      <th>Movie_release_year</th>\n",
       "      <th>1</th>\n",
       "      <th>2</th>\n",
       "      <th>3</th>\n",
       "      <th>...</th>\n",
       "      <th>11</th>\n",
       "      <th>12</th>\n",
       "      <th>13</th>\n",
       "      <th>14</th>\n",
       "      <th>15</th>\n",
       "      <th>16</th>\n",
       "      <th>17</th>\n",
       "      <th>18</th>\n",
       "      <th>19</th>\n",
       "      <th>20</th>\n",
       "    </tr>\n",
       "  </thead>\n",
       "  <tbody>\n",
       "    <tr>\n",
       "      <th>7636</th>\n",
       "      <td>19268430</td>\n",
       "      <td>/m/04lfsrt</td>\n",
       "      <td>The Call of the Wild</td>\n",
       "      <td>[English Language]</td>\n",
       "      <td>[United States of America]</td>\n",
       "      <td>[Short Film, Silent film, Action]</td>\n",
       "      <td>1908.0</td>\n",
       "      <td>0.0</td>\n",
       "      <td>1.0</td>\n",
       "      <td>0.0</td>\n",
       "      <td>...</td>\n",
       "      <td>0.0</td>\n",
       "      <td>0.0</td>\n",
       "      <td>0.0</td>\n",
       "      <td>0.0</td>\n",
       "      <td>0.0</td>\n",
       "      <td>3.0</td>\n",
       "      <td>0.0</td>\n",
       "      <td>0.0</td>\n",
       "      <td>0.0</td>\n",
       "      <td>0.0</td>\n",
       "    </tr>\n",
       "    <tr>\n",
       "      <th>13014</th>\n",
       "      <td>73413</td>\n",
       "      <td>/m/0jqdm</td>\n",
       "      <td>A Corner in Wheat</td>\n",
       "      <td>[English Language]</td>\n",
       "      <td>[United States of America]</td>\n",
       "      <td>[Silent film, Social problem film, Indie, Blac...</td>\n",
       "      <td>1909.0</td>\n",
       "      <td>0.0</td>\n",
       "      <td>2.0</td>\n",
       "      <td>0.0</td>\n",
       "      <td>...</td>\n",
       "      <td>0.0</td>\n",
       "      <td>0.0</td>\n",
       "      <td>0.0</td>\n",
       "      <td>0.0</td>\n",
       "      <td>0.0</td>\n",
       "      <td>1.0</td>\n",
       "      <td>0.0</td>\n",
       "      <td>0.0</td>\n",
       "      <td>0.0</td>\n",
       "      <td>0.0</td>\n",
       "    </tr>\n",
       "    <tr>\n",
       "      <th>2018</th>\n",
       "      <td>9588217</td>\n",
       "      <td>/m/02pk_p8</td>\n",
       "      <td>The Sealed Room</td>\n",
       "      <td>[Silent film]</td>\n",
       "      <td>[United States of America]</td>\n",
       "      <td>[Silent film, Horror, Indie, Black-and-white, ...</td>\n",
       "      <td>1909.0</td>\n",
       "      <td>0.0</td>\n",
       "      <td>2.0</td>\n",
       "      <td>0.0</td>\n",
       "      <td>...</td>\n",
       "      <td>0.0</td>\n",
       "      <td>0.0</td>\n",
       "      <td>0.0</td>\n",
       "      <td>0.0</td>\n",
       "      <td>0.0</td>\n",
       "      <td>6.0</td>\n",
       "      <td>0.0</td>\n",
       "      <td>1.0</td>\n",
       "      <td>0.0</td>\n",
       "      <td>0.0</td>\n",
       "    </tr>\n",
       "    <tr>\n",
       "      <th>11014</th>\n",
       "      <td>18230568</td>\n",
       "      <td>/m/04cyynz</td>\n",
       "      <td>In Little Italy</td>\n",
       "      <td>[Silent film, English Language]</td>\n",
       "      <td>[United States of America]</td>\n",
       "      <td>[Short Film, Silent film, Drama, Black-and-white]</td>\n",
       "      <td>1909.0</td>\n",
       "      <td>0.0</td>\n",
       "      <td>1.0</td>\n",
       "      <td>0.0</td>\n",
       "      <td>...</td>\n",
       "      <td>0.0</td>\n",
       "      <td>0.0</td>\n",
       "      <td>0.0</td>\n",
       "      <td>0.0</td>\n",
       "      <td>0.0</td>\n",
       "      <td>2.0</td>\n",
       "      <td>0.0</td>\n",
       "      <td>0.0</td>\n",
       "      <td>0.0</td>\n",
       "      <td>0.0</td>\n",
       "    </tr>\n",
       "    <tr>\n",
       "      <th>3207</th>\n",
       "      <td>14973616</td>\n",
       "      <td>/m/03h3dzx</td>\n",
       "      <td>Head Over Heels</td>\n",
       "      <td>[English Language]</td>\n",
       "      <td>[United States of America]</td>\n",
       "      <td>[Short Film, Silent film, Drama, Indie, Comedy]</td>\n",
       "      <td>1910.0</td>\n",
       "      <td>0.0</td>\n",
       "      <td>2.0</td>\n",
       "      <td>0.0</td>\n",
       "      <td>...</td>\n",
       "      <td>0.0</td>\n",
       "      <td>0.0</td>\n",
       "      <td>0.0</td>\n",
       "      <td>0.0</td>\n",
       "      <td>0.0</td>\n",
       "      <td>1.0</td>\n",
       "      <td>0.0</td>\n",
       "      <td>0.0</td>\n",
       "      <td>0.0</td>\n",
       "      <td>0.0</td>\n",
       "    </tr>\n",
       "  </tbody>\n",
       "</table>\n",
       "<p>5 rows × 27 columns</p>\n",
       "</div>"
      ],
      "text/plain": [
       "       Wikipedia_movie_ID Freebase_movie_ID            Movie_name  \\\n",
       "7636             19268430        /m/04lfsrt  The Call of the Wild   \n",
       "13014               73413          /m/0jqdm     A Corner in Wheat   \n",
       "2018              9588217        /m/02pk_p8       The Sealed Room   \n",
       "11014            18230568        /m/04cyynz       In Little Italy   \n",
       "3207             14973616        /m/03h3dzx       Head Over Heels   \n",
       "\n",
       "                       Movie_languages             Movie_countries  \\\n",
       "7636                [English Language]  [United States of America]   \n",
       "13014               [English Language]  [United States of America]   \n",
       "2018                     [Silent film]  [United States of America]   \n",
       "11014  [Silent film, English Language]  [United States of America]   \n",
       "3207                [English Language]  [United States of America]   \n",
       "\n",
       "                                            Movie_genres  Movie_release_year  \\\n",
       "7636                   [Short Film, Silent film, Action]              1908.0   \n",
       "13014  [Silent film, Social problem film, Indie, Blac...              1909.0   \n",
       "2018   [Silent film, Horror, Indie, Black-and-white, ...              1909.0   \n",
       "11014  [Short Film, Silent film, Drama, Black-and-white]              1909.0   \n",
       "3207     [Short Film, Silent film, Drama, Indie, Comedy]              1910.0   \n",
       "\n",
       "         1    2    3  ...   11   12   13   14   15   16   17   18   19   20  \n",
       "7636   0.0  1.0  0.0  ...  0.0  0.0  0.0  0.0  0.0  3.0  0.0  0.0  0.0  0.0  \n",
       "13014  0.0  2.0  0.0  ...  0.0  0.0  0.0  0.0  0.0  1.0  0.0  0.0  0.0  0.0  \n",
       "2018   0.0  2.0  0.0  ...  0.0  0.0  0.0  0.0  0.0  6.0  0.0  1.0  0.0  0.0  \n",
       "11014  0.0  1.0  0.0  ...  0.0  0.0  0.0  0.0  0.0  2.0  0.0  0.0  0.0  0.0  \n",
       "3207   0.0  2.0  0.0  ...  0.0  0.0  0.0  0.0  0.0  1.0  0.0  0.0  0.0  0.0  \n",
       "\n",
       "[5 rows x 27 columns]"
      ]
     },
     "execution_count": 387,
     "metadata": {},
     "output_type": "execute_result"
    }
   ],
   "source": [
    "datamov2.sort_values(by = 'Movie_release_year').head(5)"
   ]
  },
  {
   "cell_type": "code",
   "execution_count": 388,
   "metadata": {},
   "outputs": [
    {
     "data": {
      "text/html": [
       "<div>\n",
       "<style scoped>\n",
       "    .dataframe tbody tr th:only-of-type {\n",
       "        vertical-align: middle;\n",
       "    }\n",
       "\n",
       "    .dataframe tbody tr th {\n",
       "        vertical-align: top;\n",
       "    }\n",
       "\n",
       "    .dataframe thead th {\n",
       "        text-align: right;\n",
       "    }\n",
       "</style>\n",
       "<table border=\"1\" class=\"dataframe\">\n",
       "  <thead>\n",
       "    <tr style=\"text-align: right;\">\n",
       "      <th></th>\n",
       "      <th>Wikipedia_movie_ID</th>\n",
       "      <th>Freebase_movie_ID</th>\n",
       "      <th>Movie_name</th>\n",
       "      <th>Movie_languages</th>\n",
       "      <th>Movie_countries</th>\n",
       "      <th>Movie_genres</th>\n",
       "      <th>Movie_release_year</th>\n",
       "      <th>1</th>\n",
       "      <th>2</th>\n",
       "      <th>3</th>\n",
       "      <th>...</th>\n",
       "      <th>11</th>\n",
       "      <th>12</th>\n",
       "      <th>13</th>\n",
       "      <th>14</th>\n",
       "      <th>15</th>\n",
       "      <th>16</th>\n",
       "      <th>17</th>\n",
       "      <th>18</th>\n",
       "      <th>19</th>\n",
       "      <th>20</th>\n",
       "    </tr>\n",
       "  </thead>\n",
       "  <tbody>\n",
       "    <tr>\n",
       "      <th>7636</th>\n",
       "      <td>19268430</td>\n",
       "      <td>/m/04lfsrt</td>\n",
       "      <td>The Call of the Wild</td>\n",
       "      <td>[English Language]</td>\n",
       "      <td>[United States of America]</td>\n",
       "      <td>[Short Film, Silent film, Action]</td>\n",
       "      <td>1908.0</td>\n",
       "      <td>0.0</td>\n",
       "      <td>1.0</td>\n",
       "      <td>0.0</td>\n",
       "      <td>...</td>\n",
       "      <td>0.0</td>\n",
       "      <td>0.0</td>\n",
       "      <td>0.0</td>\n",
       "      <td>0.0</td>\n",
       "      <td>0.0</td>\n",
       "      <td>3.0</td>\n",
       "      <td>0.0</td>\n",
       "      <td>0.0</td>\n",
       "      <td>0.0</td>\n",
       "      <td>0.0</td>\n",
       "    </tr>\n",
       "    <tr>\n",
       "      <th>2018</th>\n",
       "      <td>9588217</td>\n",
       "      <td>/m/02pk_p8</td>\n",
       "      <td>The Sealed Room</td>\n",
       "      <td>[Silent film]</td>\n",
       "      <td>[United States of America]</td>\n",
       "      <td>[Silent film, Horror, Indie, Black-and-white, ...</td>\n",
       "      <td>1909.0</td>\n",
       "      <td>0.0</td>\n",
       "      <td>2.0</td>\n",
       "      <td>0.0</td>\n",
       "      <td>...</td>\n",
       "      <td>0.0</td>\n",
       "      <td>0.0</td>\n",
       "      <td>0.0</td>\n",
       "      <td>0.0</td>\n",
       "      <td>0.0</td>\n",
       "      <td>6.0</td>\n",
       "      <td>0.0</td>\n",
       "      <td>1.0</td>\n",
       "      <td>0.0</td>\n",
       "      <td>0.0</td>\n",
       "    </tr>\n",
       "    <tr>\n",
       "      <th>11014</th>\n",
       "      <td>18230568</td>\n",
       "      <td>/m/04cyynz</td>\n",
       "      <td>In Little Italy</td>\n",
       "      <td>[Silent film, English Language]</td>\n",
       "      <td>[United States of America]</td>\n",
       "      <td>[Short Film, Silent film, Drama, Black-and-white]</td>\n",
       "      <td>1909.0</td>\n",
       "      <td>0.0</td>\n",
       "      <td>1.0</td>\n",
       "      <td>0.0</td>\n",
       "      <td>...</td>\n",
       "      <td>0.0</td>\n",
       "      <td>0.0</td>\n",
       "      <td>0.0</td>\n",
       "      <td>0.0</td>\n",
       "      <td>0.0</td>\n",
       "      <td>2.0</td>\n",
       "      <td>0.0</td>\n",
       "      <td>0.0</td>\n",
       "      <td>0.0</td>\n",
       "      <td>0.0</td>\n",
       "    </tr>\n",
       "    <tr>\n",
       "      <th>26530</th>\n",
       "      <td>13289708</td>\n",
       "      <td>/m/03c0nt6</td>\n",
       "      <td>The Red Man's View</td>\n",
       "      <td>[Silent film, English Language]</td>\n",
       "      <td>[United States of America]</td>\n",
       "      <td>[Short Film, Silent film, Western, Black-and-w...</td>\n",
       "      <td>1909.0</td>\n",
       "      <td>0.0</td>\n",
       "      <td>0.0</td>\n",
       "      <td>0.0</td>\n",
       "      <td>...</td>\n",
       "      <td>0.0</td>\n",
       "      <td>0.0</td>\n",
       "      <td>0.0</td>\n",
       "      <td>0.0</td>\n",
       "      <td>0.0</td>\n",
       "      <td>2.0</td>\n",
       "      <td>0.0</td>\n",
       "      <td>0.0</td>\n",
       "      <td>0.0</td>\n",
       "      <td>0.0</td>\n",
       "    </tr>\n",
       "    <tr>\n",
       "      <th>541</th>\n",
       "      <td>6735825</td>\n",
       "      <td>/m/0gl9t3</td>\n",
       "      <td>The Death Disc: A Story of the Cromwellian Period</td>\n",
       "      <td>[]</td>\n",
       "      <td>[United States of America]</td>\n",
       "      <td>[Short Film, Silent film, Drama, Indie, Black-...</td>\n",
       "      <td>1909.0</td>\n",
       "      <td>0.0</td>\n",
       "      <td>0.0</td>\n",
       "      <td>0.0</td>\n",
       "      <td>...</td>\n",
       "      <td>0.0</td>\n",
       "      <td>0.0</td>\n",
       "      <td>0.0</td>\n",
       "      <td>0.0</td>\n",
       "      <td>0.0</td>\n",
       "      <td>5.0</td>\n",
       "      <td>0.0</td>\n",
       "      <td>0.0</td>\n",
       "      <td>0.0</td>\n",
       "      <td>0.0</td>\n",
       "    </tr>\n",
       "  </tbody>\n",
       "</table>\n",
       "<p>5 rows × 27 columns</p>\n",
       "</div>"
      ],
      "text/plain": [
       "       Wikipedia_movie_ID Freebase_movie_ID  \\\n",
       "7636             19268430        /m/04lfsrt   \n",
       "2018              9588217        /m/02pk_p8   \n",
       "11014            18230568        /m/04cyynz   \n",
       "26530            13289708        /m/03c0nt6   \n",
       "541               6735825         /m/0gl9t3   \n",
       "\n",
       "                                              Movie_name  \\\n",
       "7636                                The Call of the Wild   \n",
       "2018                                     The Sealed Room   \n",
       "11014                                    In Little Italy   \n",
       "26530                                 The Red Man's View   \n",
       "541    The Death Disc: A Story of the Cromwellian Period   \n",
       "\n",
       "                       Movie_languages             Movie_countries  \\\n",
       "7636                [English Language]  [United States of America]   \n",
       "2018                     [Silent film]  [United States of America]   \n",
       "11014  [Silent film, English Language]  [United States of America]   \n",
       "26530  [Silent film, English Language]  [United States of America]   \n",
       "541                                 []  [United States of America]   \n",
       "\n",
       "                                            Movie_genres  Movie_release_year  \\\n",
       "7636                   [Short Film, Silent film, Action]              1908.0   \n",
       "2018   [Silent film, Horror, Indie, Black-and-white, ...              1909.0   \n",
       "11014  [Short Film, Silent film, Drama, Black-and-white]              1909.0   \n",
       "26530  [Short Film, Silent film, Western, Black-and-w...              1909.0   \n",
       "541    [Short Film, Silent film, Drama, Indie, Black-...              1909.0   \n",
       "\n",
       "         1    2    3  ...   11   12   13   14   15   16   17   18   19   20  \n",
       "7636   0.0  1.0  0.0  ...  0.0  0.0  0.0  0.0  0.0  3.0  0.0  0.0  0.0  0.0  \n",
       "2018   0.0  2.0  0.0  ...  0.0  0.0  0.0  0.0  0.0  6.0  0.0  1.0  0.0  0.0  \n",
       "11014  0.0  1.0  0.0  ...  0.0  0.0  0.0  0.0  0.0  2.0  0.0  0.0  0.0  0.0  \n",
       "26530  0.0  0.0  0.0  ...  0.0  0.0  0.0  0.0  0.0  2.0  0.0  0.0  0.0  0.0  \n",
       "541    0.0  0.0  0.0  ...  0.0  0.0  0.0  0.0  0.0  5.0  0.0  0.0  0.0  0.0  \n",
       "\n",
       "[5 rows x 27 columns]"
      ]
     },
     "execution_count": 388,
     "metadata": {},
     "output_type": "execute_result"
    }
   ],
   "source": [
    "datamov16.sort_values(by = 'Movie_release_year').head(5)"
   ]
  },
  {
   "cell_type": "code",
   "execution_count": 389,
   "metadata": {},
   "outputs": [
    {
     "data": {
      "text/html": [
       "<div>\n",
       "<style scoped>\n",
       "    .dataframe tbody tr th:only-of-type {\n",
       "        vertical-align: middle;\n",
       "    }\n",
       "\n",
       "    .dataframe tbody tr th {\n",
       "        vertical-align: top;\n",
       "    }\n",
       "\n",
       "    .dataframe thead th {\n",
       "        text-align: right;\n",
       "    }\n",
       "</style>\n",
       "<table border=\"1\" class=\"dataframe\">\n",
       "  <thead>\n",
       "    <tr style=\"text-align: right;\">\n",
       "      <th></th>\n",
       "      <th>Wikipedia_movie_ID</th>\n",
       "      <th>Freebase_movie_ID</th>\n",
       "      <th>Movie_name</th>\n",
       "      <th>Movie_languages</th>\n",
       "      <th>Movie_countries</th>\n",
       "      <th>Movie_genres</th>\n",
       "      <th>Movie_release_year</th>\n",
       "      <th>1</th>\n",
       "      <th>2</th>\n",
       "      <th>3</th>\n",
       "      <th>...</th>\n",
       "      <th>11</th>\n",
       "      <th>12</th>\n",
       "      <th>13</th>\n",
       "      <th>14</th>\n",
       "      <th>15</th>\n",
       "      <th>16</th>\n",
       "      <th>17</th>\n",
       "      <th>18</th>\n",
       "      <th>19</th>\n",
       "      <th>20</th>\n",
       "    </tr>\n",
       "  </thead>\n",
       "  <tbody>\n",
       "    <tr>\n",
       "      <th>2018</th>\n",
       "      <td>9588217</td>\n",
       "      <td>/m/02pk_p8</td>\n",
       "      <td>The Sealed Room</td>\n",
       "      <td>[Silent film]</td>\n",
       "      <td>[United States of America]</td>\n",
       "      <td>[Silent film, Horror, Indie, Black-and-white, ...</td>\n",
       "      <td>1909.0</td>\n",
       "      <td>0.0</td>\n",
       "      <td>2.0</td>\n",
       "      <td>0.0</td>\n",
       "      <td>...</td>\n",
       "      <td>0.0</td>\n",
       "      <td>0.0</td>\n",
       "      <td>0.0</td>\n",
       "      <td>0.0</td>\n",
       "      <td>0.0</td>\n",
       "      <td>6.0</td>\n",
       "      <td>0.0</td>\n",
       "      <td>1.0</td>\n",
       "      <td>0.0</td>\n",
       "      <td>0.0</td>\n",
       "    </tr>\n",
       "    <tr>\n",
       "      <th>10042</th>\n",
       "      <td>13295592</td>\n",
       "      <td>/m/047gn31</td>\n",
       "      <td>Ramona</td>\n",
       "      <td>[Silent film, English Language]</td>\n",
       "      <td>[United States of America]</td>\n",
       "      <td>[Short Film, Silent film, Drama, Indie, Black-...</td>\n",
       "      <td>1910.0</td>\n",
       "      <td>0.0</td>\n",
       "      <td>1.0</td>\n",
       "      <td>0.0</td>\n",
       "      <td>...</td>\n",
       "      <td>0.0</td>\n",
       "      <td>0.0</td>\n",
       "      <td>0.0</td>\n",
       "      <td>0.0</td>\n",
       "      <td>0.0</td>\n",
       "      <td>0.0</td>\n",
       "      <td>0.0</td>\n",
       "      <td>2.0</td>\n",
       "      <td>0.0</td>\n",
       "      <td>0.0</td>\n",
       "    </tr>\n",
       "    <tr>\n",
       "      <th>6285</th>\n",
       "      <td>28777800</td>\n",
       "      <td>/m/0ddd49b</td>\n",
       "      <td>The Englishman and the Girl</td>\n",
       "      <td>[Silent film, English Language]</td>\n",
       "      <td>[United States of America]</td>\n",
       "      <td>[Short Film, Silent film, Comedy]</td>\n",
       "      <td>1910.0</td>\n",
       "      <td>0.0</td>\n",
       "      <td>0.0</td>\n",
       "      <td>0.0</td>\n",
       "      <td>...</td>\n",
       "      <td>0.0</td>\n",
       "      <td>0.0</td>\n",
       "      <td>0.0</td>\n",
       "      <td>0.0</td>\n",
       "      <td>0.0</td>\n",
       "      <td>1.0</td>\n",
       "      <td>0.0</td>\n",
       "      <td>2.0</td>\n",
       "      <td>0.0</td>\n",
       "      <td>0.0</td>\n",
       "    </tr>\n",
       "    <tr>\n",
       "      <th>2935</th>\n",
       "      <td>7253646</td>\n",
       "      <td>/m/0kv22j</td>\n",
       "      <td>The Buddhist Priestess</td>\n",
       "      <td>[English Language]</td>\n",
       "      <td>[United States of America]</td>\n",
       "      <td>[Short Film, Silent film, Drama, Indie, Black-...</td>\n",
       "      <td>1911.0</td>\n",
       "      <td>0.0</td>\n",
       "      <td>0.0</td>\n",
       "      <td>0.0</td>\n",
       "      <td>...</td>\n",
       "      <td>0.0</td>\n",
       "      <td>0.0</td>\n",
       "      <td>0.0</td>\n",
       "      <td>0.0</td>\n",
       "      <td>0.0</td>\n",
       "      <td>0.0</td>\n",
       "      <td>0.0</td>\n",
       "      <td>4.0</td>\n",
       "      <td>0.0</td>\n",
       "      <td>0.0</td>\n",
       "    </tr>\n",
       "    <tr>\n",
       "      <th>22815</th>\n",
       "      <td>7253406</td>\n",
       "      <td>/m/0kv210</td>\n",
       "      <td>Flames and Fortune</td>\n",
       "      <td>[English Language]</td>\n",
       "      <td>[United States of America]</td>\n",
       "      <td>[Short Film, Silent film, Drama, Indie, Black-...</td>\n",
       "      <td>1911.0</td>\n",
       "      <td>0.0</td>\n",
       "      <td>0.0</td>\n",
       "      <td>0.0</td>\n",
       "      <td>...</td>\n",
       "      <td>0.0</td>\n",
       "      <td>0.0</td>\n",
       "      <td>0.0</td>\n",
       "      <td>0.0</td>\n",
       "      <td>0.0</td>\n",
       "      <td>0.0</td>\n",
       "      <td>0.0</td>\n",
       "      <td>2.0</td>\n",
       "      <td>0.0</td>\n",
       "      <td>0.0</td>\n",
       "    </tr>\n",
       "  </tbody>\n",
       "</table>\n",
       "<p>5 rows × 27 columns</p>\n",
       "</div>"
      ],
      "text/plain": [
       "       Wikipedia_movie_ID Freebase_movie_ID                   Movie_name  \\\n",
       "2018              9588217        /m/02pk_p8              The Sealed Room   \n",
       "10042            13295592        /m/047gn31                       Ramona   \n",
       "6285             28777800        /m/0ddd49b  The Englishman and the Girl   \n",
       "2935              7253646         /m/0kv22j       The Buddhist Priestess   \n",
       "22815             7253406         /m/0kv210           Flames and Fortune   \n",
       "\n",
       "                       Movie_languages             Movie_countries  \\\n",
       "2018                     [Silent film]  [United States of America]   \n",
       "10042  [Silent film, English Language]  [United States of America]   \n",
       "6285   [Silent film, English Language]  [United States of America]   \n",
       "2935                [English Language]  [United States of America]   \n",
       "22815               [English Language]  [United States of America]   \n",
       "\n",
       "                                            Movie_genres  Movie_release_year  \\\n",
       "2018   [Silent film, Horror, Indie, Black-and-white, ...              1909.0   \n",
       "10042  [Short Film, Silent film, Drama, Indie, Black-...              1910.0   \n",
       "6285                   [Short Film, Silent film, Comedy]              1910.0   \n",
       "2935   [Short Film, Silent film, Drama, Indie, Black-...              1911.0   \n",
       "22815  [Short Film, Silent film, Drama, Indie, Black-...              1911.0   \n",
       "\n",
       "         1    2    3  ...   11   12   13   14   15   16   17   18   19   20  \n",
       "2018   0.0  2.0  0.0  ...  0.0  0.0  0.0  0.0  0.0  6.0  0.0  1.0  0.0  0.0  \n",
       "10042  0.0  1.0  0.0  ...  0.0  0.0  0.0  0.0  0.0  0.0  0.0  2.0  0.0  0.0  \n",
       "6285   0.0  0.0  0.0  ...  0.0  0.0  0.0  0.0  0.0  1.0  0.0  2.0  0.0  0.0  \n",
       "2935   0.0  0.0  0.0  ...  0.0  0.0  0.0  0.0  0.0  0.0  0.0  4.0  0.0  0.0  \n",
       "22815  0.0  0.0  0.0  ...  0.0  0.0  0.0  0.0  0.0  0.0  0.0  2.0  0.0  0.0  \n",
       "\n",
       "[5 rows x 27 columns]"
      ]
     },
     "execution_count": 389,
     "metadata": {},
     "output_type": "execute_result"
    }
   ],
   "source": [
    "datamov18.sort_values(by = 'Movie_release_year').head(5)"
   ]
  },
  {
   "cell_type": "code",
   "execution_count": 390,
   "metadata": {},
   "outputs": [
    {
     "name": "stdout",
     "output_type": "stream",
     "text": [
      "[('United States of America', 403), ('United Kingdom', 2), ('Soviet Union', 1), ('England', 1)]\n",
      "[('English Language', 355), ('Silent film', 193), ('French Language', 1), ('Ukrainian Language', 1), ('American English', 1)]\n"
     ]
    }
   ],
   "source": [
    "print(Counter([x for y in datamov18['Movie_countries'].values for x in y]).most_common())\n",
    "print(Counter([x for y in datamov18['Movie_languages'].values for x in y]).most_common())"
   ]
  },
  {
   "cell_type": "code",
   "execution_count": 391,
   "metadata": {},
   "outputs": [
    {
     "data": {
      "text/plain": [
       "Unnamed: 0                                          17\n",
       "Community                                           18\n",
       "1st Movie_genre                            Silent film\n",
       "1st Movie_genre %                            84.708738\n",
       "2nd Movie_genre                        Black-and-white\n",
       "2nd Movie_genre %                            77.669903\n",
       "3rd Movie_genre                             Short Film\n",
       "3rd Movie_genre %                            65.533981\n",
       "4th Movie_genre                                  Drama\n",
       "4th Movie_genre %                            59.466019\n",
       "5th Movie_genre                                  Indie\n",
       "5th Movie_genre %                            49.514563\n",
       "1st Movie_country             United States of America\n",
       "1st Movie_country %                           0.990172\n",
       "2nd Movie_country                       United Kingdom\n",
       "2nd Movie_country %                           0.004914\n",
       "3rd Movie_country                         Soviet Union\n",
       "3rd Movie_country %                           0.002457\n",
       "1st Movie_language                         Silent film\n",
       "1st Movie_language %                          0.322204\n",
       "2nd Movie_language                    English Language\n",
       "2nd Movie_language %                          0.308848\n",
       "3rd Movie_language                    English Language\n",
       "3rd Movie_language %                          0.283806\n",
       "Average movie_release_year                 1918.061125\n",
       "Name: 17, dtype: object"
      ]
     },
     "execution_count": 391,
     "metadata": {},
     "output_type": "execute_result"
    }
   ],
   "source": [
    "features_movies.iloc[17]"
   ]
  },
  {
   "cell_type": "code",
   "execution_count": 392,
   "metadata": {},
   "outputs": [
    {
     "data": {
      "text/plain": [
       "Community                                 18\n",
       "Males_%                                 52.0\n",
       "Females_%                               48.0\n",
       "1st_country         United States of America\n",
       "1st_country_%                           87.5\n",
       "2nd_country                           Canada\n",
       "2nd_country_%                       6.944444\n",
       "3rd_country                          Germany\n",
       "3rd_country_%                       2.777778\n",
       "1st_occupation                      director\n",
       "1st_occupation_%                   15.178571\n",
       "2nd_occupation                        writer\n",
       "2nd_occupation_%                        12.5\n",
       "3rd_occupation                      producer\n",
       "3rd_occupation_%                    5.357143\n",
       "Name: 17, dtype: object"
      ]
     },
     "execution_count": 392,
     "metadata": {},
     "output_type": "execute_result"
    }
   ],
   "source": [
    "features.iloc[17]"
   ]
  },
  {
   "cell_type": "code",
   "execution_count": 416,
   "metadata": {},
   "outputs": [
    {
     "data": {
      "text/html": [
       "<div>\n",
       "<style scoped>\n",
       "    .dataframe tbody tr th:only-of-type {\n",
       "        vertical-align: middle;\n",
       "    }\n",
       "\n",
       "    .dataframe tbody tr th {\n",
       "        vertical-align: top;\n",
       "    }\n",
       "\n",
       "    .dataframe thead th {\n",
       "        text-align: right;\n",
       "    }\n",
       "</style>\n",
       "<table border=\"1\" class=\"dataframe\">\n",
       "  <thead>\n",
       "    <tr style=\"text-align: right;\">\n",
       "      <th></th>\n",
       "      <th>Freebase_actor_ID</th>\n",
       "      <th>connectivity</th>\n",
       "      <th>Community</th>\n",
       "      <th>Wikidata_ID</th>\n",
       "      <th>actor_country_of_citizenship</th>\n",
       "      <th>actor_occupation</th>\n",
       "      <th>Actor_date_of_birth</th>\n",
       "      <th>actor_gender</th>\n",
       "      <th>Actor_name</th>\n",
       "    </tr>\n",
       "  </thead>\n",
       "  <tbody>\n",
       "    <tr>\n",
       "      <th>5879</th>\n",
       "      <td>/m/0krz_9</td>\n",
       "      <td>302</td>\n",
       "      <td>18</td>\n",
       "      <td>Q2960968</td>\n",
       "      <td>United States of America</td>\n",
       "      <td>['actor', 'film actor']</td>\n",
       "      <td>1881-05-30</td>\n",
       "      <td>F</td>\n",
       "      <td>Charlotte Burton</td>\n",
       "    </tr>\n",
       "    <tr>\n",
       "      <th>5880</th>\n",
       "      <td>/m/0kr_7z</td>\n",
       "      <td>286</td>\n",
       "      <td>18</td>\n",
       "      <td>Q5673686</td>\n",
       "      <td>United States of America</td>\n",
       "      <td>['actor', 'film actor']</td>\n",
       "      <td>1871-03-29</td>\n",
       "      <td>M</td>\n",
       "      <td>Harry von Meter</td>\n",
       "    </tr>\n",
       "    <tr>\n",
       "      <th>5881</th>\n",
       "      <td>/m/0ks01m</td>\n",
       "      <td>270</td>\n",
       "      <td>18</td>\n",
       "      <td>Q3157301</td>\n",
       "      <td>United States of America</td>\n",
       "      <td>['actor']</td>\n",
       "      <td>1883-11-18</td>\n",
       "      <td>M</td>\n",
       "      <td>Jack Richardson</td>\n",
       "    </tr>\n",
       "    <tr>\n",
       "      <th>5882</th>\n",
       "      <td>/m/0kr_01</td>\n",
       "      <td>241</td>\n",
       "      <td>18</td>\n",
       "      <td>Q526779</td>\n",
       "      <td>United States of America</td>\n",
       "      <td>['actor', 'film actor']</td>\n",
       "      <td>1893-05-26</td>\n",
       "      <td>F</td>\n",
       "      <td>Vivian Rich</td>\n",
       "    </tr>\n",
       "    <tr>\n",
       "      <th>5883</th>\n",
       "      <td>/m/0krz_p</td>\n",
       "      <td>238</td>\n",
       "      <td>18</td>\n",
       "      <td>Q3263782</td>\n",
       "      <td>United States of America</td>\n",
       "      <td>['stage actor', 'film actor']</td>\n",
       "      <td>1867-08-08</td>\n",
       "      <td>F</td>\n",
       "      <td>Louise Lester</td>\n",
       "    </tr>\n",
       "    <tr>\n",
       "      <th>5884</th>\n",
       "      <td>/m/0krxsd</td>\n",
       "      <td>148</td>\n",
       "      <td>18</td>\n",
       "      <td>Q3098625</td>\n",
       "      <td>United States of America</td>\n",
       "      <td>['film director', 'actor', 'stage actor', 'fil...</td>\n",
       "      <td>1884-04-28</td>\n",
       "      <td>M</td>\n",
       "      <td>William Garwood</td>\n",
       "    </tr>\n",
       "    <tr>\n",
       "      <th>5885</th>\n",
       "      <td>/m/0kr_9g</td>\n",
       "      <td>94</td>\n",
       "      <td>18</td>\n",
       "      <td>Q391236</td>\n",
       "      <td>United States of America</td>\n",
       "      <td>['actor', 'screenwriter', 'film director']</td>\n",
       "      <td>1879-08-28</td>\n",
       "      <td>M</td>\n",
       "      <td>Sydney Ayres</td>\n",
       "    </tr>\n",
       "    <tr>\n",
       "      <th>5886</th>\n",
       "      <td>/m/0kr_bl</td>\n",
       "      <td>84</td>\n",
       "      <td>18</td>\n",
       "      <td>Q7169721</td>\n",
       "      <td>Canada</td>\n",
       "      <td>['actor']</td>\n",
       "      <td>1877-04-24</td>\n",
       "      <td>M</td>\n",
       "      <td>Perry Banks</td>\n",
       "    </tr>\n",
       "    <tr>\n",
       "      <th>5887</th>\n",
       "      <td>/m/0ks551</td>\n",
       "      <td>81</td>\n",
       "      <td>18</td>\n",
       "      <td>Q2884883</td>\n",
       "      <td>United States of America</td>\n",
       "      <td>['actor', 'film actor', 'stage actor', 'film d...</td>\n",
       "      <td>1880-08-08</td>\n",
       "      <td>M</td>\n",
       "      <td>Edward Coxen</td>\n",
       "    </tr>\n",
       "    <tr>\n",
       "      <th>5888</th>\n",
       "      <td>/m/0ks7nw</td>\n",
       "      <td>77</td>\n",
       "      <td>18</td>\n",
       "      <td>Q5338503</td>\n",
       "      <td>United States of America</td>\n",
       "      <td>['actor', 'film actor']</td>\n",
       "      <td>1890-11-25</td>\n",
       "      <td>F</td>\n",
       "      <td>Edith Borella</td>\n",
       "    </tr>\n",
       "    <tr>\n",
       "      <th>5889</th>\n",
       "      <td>/m/0ks81r</td>\n",
       "      <td>72</td>\n",
       "      <td>18</td>\n",
       "      <td>Q5406844</td>\n",
       "      <td>United States of America</td>\n",
       "      <td>['actor', 'film director']</td>\n",
       "      <td>1877-03-18</td>\n",
       "      <td>M</td>\n",
       "      <td>George Field</td>\n",
       "    </tr>\n",
       "    <tr>\n",
       "      <th>5890</th>\n",
       "      <td>/m/0ks474</td>\n",
       "      <td>66</td>\n",
       "      <td>18</td>\n",
       "      <td>Q13217455</td>\n",
       "      <td>United States of America</td>\n",
       "      <td>['film director', 'screenwriter', 'actor', 'fi...</td>\n",
       "      <td>1886-09-11</td>\n",
       "      <td>M</td>\n",
       "      <td>Jacques Jaccard</td>\n",
       "    </tr>\n",
       "    <tr>\n",
       "      <th>5891</th>\n",
       "      <td>/m/0ks46d</td>\n",
       "      <td>64</td>\n",
       "      <td>18</td>\n",
       "      <td>Q5045021</td>\n",
       "      <td>United States of America</td>\n",
       "      <td>['actor', 'screenwriter', 'film actor']</td>\n",
       "      <td>1875-12-29</td>\n",
       "      <td>F</td>\n",
       "      <td>Caroline Cooke</td>\n",
       "    </tr>\n",
       "    <tr>\n",
       "      <th>5892</th>\n",
       "      <td>/m/0ksb3w</td>\n",
       "      <td>52</td>\n",
       "      <td>18</td>\n",
       "      <td>Q7933253</td>\n",
       "      <td>United States of America</td>\n",
       "      <td>['actor', 'film actor']</td>\n",
       "      <td>1894-05-15</td>\n",
       "      <td>F</td>\n",
       "      <td>Violet Knights</td>\n",
       "    </tr>\n",
       "    <tr>\n",
       "      <th>5893</th>\n",
       "      <td>/m/0ks3ht</td>\n",
       "      <td>50</td>\n",
       "      <td>18</td>\n",
       "      <td>Q3072218</td>\n",
       "      <td>United States of America</td>\n",
       "      <td>['actor', 'film director', 'film actor', 'scre...</td>\n",
       "      <td>1879-07-25</td>\n",
       "      <td>M</td>\n",
       "      <td>J. Warren Kerrigan</td>\n",
       "    </tr>\n",
       "    <tr>\n",
       "      <th>5894</th>\n",
       "      <td>/m/0ks80_</td>\n",
       "      <td>49</td>\n",
       "      <td>18</td>\n",
       "      <td>Q5096144</td>\n",
       "      <td>United States of America</td>\n",
       "      <td>['actor']</td>\n",
       "      <td>1878-04-03</td>\n",
       "      <td>M</td>\n",
       "      <td>Chick Morrison</td>\n",
       "    </tr>\n",
       "    <tr>\n",
       "      <th>5895</th>\n",
       "      <td>/m/0ksb6w</td>\n",
       "      <td>49</td>\n",
       "      <td>18</td>\n",
       "      <td>Q2082402</td>\n",
       "      <td>United States of America</td>\n",
       "      <td>['actor', 'film actor']</td>\n",
       "      <td>1885-01-01</td>\n",
       "      <td>F</td>\n",
       "      <td>Winifred Greenwood</td>\n",
       "    </tr>\n",
       "    <tr>\n",
       "      <th>5896</th>\n",
       "      <td>/m/026l5d2</td>\n",
       "      <td>48</td>\n",
       "      <td>18</td>\n",
       "      <td>Q5236872</td>\n",
       "      <td>United States of America</td>\n",
       "      <td>['actor']</td>\n",
       "      <td>1880</td>\n",
       "      <td>M</td>\n",
       "      <td>David Lythgoe</td>\n",
       "    </tr>\n",
       "    <tr>\n",
       "      <th>5897</th>\n",
       "      <td>/m/0kr_cb</td>\n",
       "      <td>44</td>\n",
       "      <td>18</td>\n",
       "      <td>Q264707</td>\n",
       "      <td>United States of America</td>\n",
       "      <td>['film director', 'actor', 'screenwriter', 'fi...</td>\n",
       "      <td>1886-10-02</td>\n",
       "      <td>M</td>\n",
       "      <td>B. Reeves Eason</td>\n",
       "    </tr>\n",
       "    <tr>\n",
       "      <th>5898</th>\n",
       "      <td>/m/0ks35_</td>\n",
       "      <td>40</td>\n",
       "      <td>18</td>\n",
       "      <td>Q3101830</td>\n",
       "      <td>United States of America</td>\n",
       "      <td>['actor', 'stage actor']</td>\n",
       "      <td>1874-02-05</td>\n",
       "      <td>M</td>\n",
       "      <td>George Periolat</td>\n",
       "    </tr>\n",
       "  </tbody>\n",
       "</table>\n",
       "</div>"
      ],
      "text/plain": [
       "     Freebase_actor_ID  connectivity  Community Wikidata_ID  \\\n",
       "5879         /m/0krz_9           302         18    Q2960968   \n",
       "5880         /m/0kr_7z           286         18    Q5673686   \n",
       "5881         /m/0ks01m           270         18    Q3157301   \n",
       "5882         /m/0kr_01           241         18     Q526779   \n",
       "5883         /m/0krz_p           238         18    Q3263782   \n",
       "5884         /m/0krxsd           148         18    Q3098625   \n",
       "5885         /m/0kr_9g            94         18     Q391236   \n",
       "5886         /m/0kr_bl            84         18    Q7169721   \n",
       "5887         /m/0ks551            81         18    Q2884883   \n",
       "5888         /m/0ks7nw            77         18    Q5338503   \n",
       "5889         /m/0ks81r            72         18    Q5406844   \n",
       "5890         /m/0ks474            66         18   Q13217455   \n",
       "5891         /m/0ks46d            64         18    Q5045021   \n",
       "5892         /m/0ksb3w            52         18    Q7933253   \n",
       "5893         /m/0ks3ht            50         18    Q3072218   \n",
       "5894         /m/0ks80_            49         18    Q5096144   \n",
       "5895         /m/0ksb6w            49         18    Q2082402   \n",
       "5896        /m/026l5d2            48         18    Q5236872   \n",
       "5897         /m/0kr_cb            44         18     Q264707   \n",
       "5898         /m/0ks35_            40         18    Q3101830   \n",
       "\n",
       "     actor_country_of_citizenship  \\\n",
       "5879     United States of America   \n",
       "5880     United States of America   \n",
       "5881     United States of America   \n",
       "5882     United States of America   \n",
       "5883     United States of America   \n",
       "5884     United States of America   \n",
       "5885     United States of America   \n",
       "5886                       Canada   \n",
       "5887     United States of America   \n",
       "5888     United States of America   \n",
       "5889     United States of America   \n",
       "5890     United States of America   \n",
       "5891     United States of America   \n",
       "5892     United States of America   \n",
       "5893     United States of America   \n",
       "5894     United States of America   \n",
       "5895     United States of America   \n",
       "5896     United States of America   \n",
       "5897     United States of America   \n",
       "5898     United States of America   \n",
       "\n",
       "                                       actor_occupation Actor_date_of_birth  \\\n",
       "5879                            ['actor', 'film actor']          1881-05-30   \n",
       "5880                            ['actor', 'film actor']          1871-03-29   \n",
       "5881                                          ['actor']          1883-11-18   \n",
       "5882                            ['actor', 'film actor']          1893-05-26   \n",
       "5883                      ['stage actor', 'film actor']          1867-08-08   \n",
       "5884  ['film director', 'actor', 'stage actor', 'fil...          1884-04-28   \n",
       "5885         ['actor', 'screenwriter', 'film director']          1879-08-28   \n",
       "5886                                          ['actor']          1877-04-24   \n",
       "5887  ['actor', 'film actor', 'stage actor', 'film d...          1880-08-08   \n",
       "5888                            ['actor', 'film actor']          1890-11-25   \n",
       "5889                         ['actor', 'film director']          1877-03-18   \n",
       "5890  ['film director', 'screenwriter', 'actor', 'fi...          1886-09-11   \n",
       "5891            ['actor', 'screenwriter', 'film actor']          1875-12-29   \n",
       "5892                            ['actor', 'film actor']          1894-05-15   \n",
       "5893  ['actor', 'film director', 'film actor', 'scre...          1879-07-25   \n",
       "5894                                          ['actor']          1878-04-03   \n",
       "5895                            ['actor', 'film actor']          1885-01-01   \n",
       "5896                                          ['actor']                1880   \n",
       "5897  ['film director', 'actor', 'screenwriter', 'fi...          1886-10-02   \n",
       "5898                           ['actor', 'stage actor']          1874-02-05   \n",
       "\n",
       "     actor_gender          Actor_name  \n",
       "5879            F    Charlotte Burton  \n",
       "5880            M     Harry von Meter  \n",
       "5881            M     Jack Richardson  \n",
       "5882            F         Vivian Rich  \n",
       "5883            F       Louise Lester  \n",
       "5884            M     William Garwood  \n",
       "5885            M        Sydney Ayres  \n",
       "5886            M         Perry Banks  \n",
       "5887            M        Edward Coxen  \n",
       "5888            F       Edith Borella  \n",
       "5889            M        George Field  \n",
       "5890            M     Jacques Jaccard  \n",
       "5891            F      Caroline Cooke  \n",
       "5892            F      Violet Knights  \n",
       "5893            M  J. Warren Kerrigan  \n",
       "5894            M      Chick Morrison  \n",
       "5895            F  Winifred Greenwood  \n",
       "5896            M       David Lythgoe  \n",
       "5897            M     B. Reeves Eason  \n",
       "5898            M     George Periolat  "
      ]
     },
     "execution_count": 416,
     "metadata": {},
     "output_type": "execute_result"
    }
   ],
   "source": [
    "data_actors[data_actors['Community']==18].head(20)"
   ]
  },
  {
   "cell_type": "code",
   "execution_count": 393,
   "metadata": {},
   "outputs": [
    {
     "data": {
      "text/plain": [
       "[('Animation', 182),\n",
       " ('Japanese Movies', 170),\n",
       " ('Anime', 161),\n",
       " ('Action', 101),\n",
       " ('Fantasy', 87),\n",
       " ('Science Fiction', 78),\n",
       " ('Adventure', 55),\n",
       " ('World cinema', 44),\n",
       " ('Comedy', 40),\n",
       " ('Family Film', 36),\n",
       " ('Drama', 31),\n",
       " ('Childrens', 27),\n",
       " ('Thriller', 21),\n",
       " ('Action/Adventure', 20),\n",
       " ('Animated cartoon', 17),\n",
       " ('Fantasy Adventure', 16),\n",
       " ('Romance Film', 14),\n",
       " ('Short Film', 13),\n",
       " ('Childrens/Family', 11),\n",
       " ('Comedy film', 9),\n",
       " ('Martial Arts Film', 9),\n",
       " ('Computer Animation', 8),\n",
       " ('Mystery', 8),\n",
       " ('Horror', 7),\n",
       " ('Childrens Fantasy', 7),\n",
       " ('Family-Oriented Adventure', 6),\n",
       " ('Fantasy Comedy', 5),\n",
       " ('Future noir', 5),\n",
       " ('Western', 4),\n",
       " ('Sports', 4),\n",
       " ('Coming of age', 3),\n",
       " ('Crime Thriller', 3),\n",
       " ('Indie', 3),\n",
       " ('Doomsday film', 2),\n",
       " ('Psychological thriller', 2),\n",
       " ('Dystopia', 2),\n",
       " ('LGBT', 2),\n",
       " ('Parody', 2),\n",
       " ('Chinese Movies', 2),\n",
       " ('Samurai cinema', 2),\n",
       " ('Romantic comedy', 2),\n",
       " ('Black-and-white', 2),\n",
       " ('Television movie', 1),\n",
       " ('Comedy-drama', 1),\n",
       " ('Supernatural', 1),\n",
       " ('Fairy tale', 1),\n",
       " ('Musical', 1),\n",
       " ('Slice of life story', 1),\n",
       " ('Sci-Fi Adventure', 1),\n",
       " ('Auto racing', 1),\n",
       " ('Epic', 1),\n",
       " ('Crime Fiction', 1),\n",
       " ('B-movie', 1),\n",
       " ('Women in prison films', 1),\n",
       " ('Animal Picture', 1),\n",
       " ('Heavenly Comedy', 1),\n",
       " ('Religious Film', 1),\n",
       " ('Action Comedy', 1),\n",
       " ('Historical fiction', 1),\n",
       " ('Detective fiction', 1),\n",
       " ('Detective', 1),\n",
       " ('Action Thrillers', 1),\n",
       " ('Steampunk', 1),\n",
       " ('Airplanes and airports', 1),\n",
       " ('Black comedy', 1),\n",
       " ('Art film', 1),\n",
       " ('Romantic drama', 1)]"
      ]
     },
     "execution_count": 393,
     "metadata": {},
     "output_type": "execute_result"
    }
   ],
   "source": [
    "Counter([x for y in datamov11['Movie_genres'].values for x in y]).most_common()"
   ]
  },
  {
   "cell_type": "code",
   "execution_count": 394,
   "metadata": {},
   "outputs": [
    {
     "data": {
      "text/html": [
       "<div>\n",
       "<style scoped>\n",
       "    .dataframe tbody tr th:only-of-type {\n",
       "        vertical-align: middle;\n",
       "    }\n",
       "\n",
       "    .dataframe tbody tr th {\n",
       "        vertical-align: top;\n",
       "    }\n",
       "\n",
       "    .dataframe thead th {\n",
       "        text-align: right;\n",
       "    }\n",
       "</style>\n",
       "<table border=\"1\" class=\"dataframe\">\n",
       "  <thead>\n",
       "    <tr style=\"text-align: right;\">\n",
       "      <th></th>\n",
       "      <th>Unnamed: 0</th>\n",
       "      <th>Wikipedia_movie_ID</th>\n",
       "      <th>Freebase_movie_ID</th>\n",
       "      <th>Movie_name</th>\n",
       "      <th>Movie_languages</th>\n",
       "      <th>Movie_countries</th>\n",
       "      <th>Movie_genres</th>\n",
       "      <th>Movie_release_year</th>\n",
       "    </tr>\n",
       "  </thead>\n",
       "  <tbody>\n",
       "    <tr>\n",
       "      <th>9291</th>\n",
       "      <td>9291</td>\n",
       "      <td>807258</td>\n",
       "      <td>/m/03dglc</td>\n",
       "      <td>La Fée aux Choux</td>\n",
       "      <td>[]</td>\n",
       "      <td>[France]</td>\n",
       "      <td>[Silent film, Indie, Black-and-white, Short Fi...</td>\n",
       "      <td>1896.0</td>\n",
       "    </tr>\n",
       "    <tr>\n",
       "      <th>9713</th>\n",
       "      <td>9713</td>\n",
       "      <td>14019515</td>\n",
       "      <td>/m/03cr4q9</td>\n",
       "      <td>Esmeralda</td>\n",
       "      <td>[French Language]</td>\n",
       "      <td>[France]</td>\n",
       "      <td>[Short Film, Silent film, Drama, Black-and-white]</td>\n",
       "      <td>1905.0</td>\n",
       "    </tr>\n",
       "    <tr>\n",
       "      <th>15365</th>\n",
       "      <td>15365</td>\n",
       "      <td>24463054</td>\n",
       "      <td>/m/080c485</td>\n",
       "      <td>Falling Leaves</td>\n",
       "      <td>[English Language]</td>\n",
       "      <td>[United States of America]</td>\n",
       "      <td>[Short Film, Drama]</td>\n",
       "      <td>1912.0</td>\n",
       "    </tr>\n",
       "    <tr>\n",
       "      <th>21565</th>\n",
       "      <td>21565</td>\n",
       "      <td>28372044</td>\n",
       "      <td>/m/0crf95t</td>\n",
       "      <td>Danse serpentine</td>\n",
       "      <td>[]</td>\n",
       "      <td>[France]</td>\n",
       "      <td>[Short Film, Silent film]</td>\n",
       "      <td>1896.0</td>\n",
       "    </tr>\n",
       "    <tr>\n",
       "      <th>42080</th>\n",
       "      <td>42080</td>\n",
       "      <td>19514976</td>\n",
       "      <td>/m/04myvv3</td>\n",
       "      <td>The Consequences of Feminism</td>\n",
       "      <td>[]</td>\n",
       "      <td>[France]</td>\n",
       "      <td>[Short Film, Comedy film]</td>\n",
       "      <td>1906.0</td>\n",
       "    </tr>\n",
       "    <tr>\n",
       "      <th>55688</th>\n",
       "      <td>55688</td>\n",
       "      <td>16690709</td>\n",
       "      <td>/m/03yn1b0</td>\n",
       "      <td>Algie the Miner</td>\n",
       "      <td>[English Language]</td>\n",
       "      <td>[United States of America]</td>\n",
       "      <td>[LGBT, Short Film, Silent film, Black-and-white]</td>\n",
       "      <td>1912.0</td>\n",
       "    </tr>\n",
       "    <tr>\n",
       "      <th>72614</th>\n",
       "      <td>72614</td>\n",
       "      <td>28371285</td>\n",
       "      <td>/m/0crd1h6</td>\n",
       "      <td>Le chiffonnier</td>\n",
       "      <td>[Silent film]</td>\n",
       "      <td>[France]</td>\n",
       "      <td>[Short Film, Silent film]</td>\n",
       "      <td>1896.0</td>\n",
       "    </tr>\n",
       "    <tr>\n",
       "      <th>74675</th>\n",
       "      <td>74675</td>\n",
       "      <td>32946863</td>\n",
       "      <td>/m/0h54mgf</td>\n",
       "      <td>The Shooting of Dan McGrew</td>\n",
       "      <td>[]</td>\n",
       "      <td>[]</td>\n",
       "      <td>[Silent film]</td>\n",
       "      <td>1915.0</td>\n",
       "    </tr>\n",
       "    <tr>\n",
       "      <th>77064</th>\n",
       "      <td>77064</td>\n",
       "      <td>21112004</td>\n",
       "      <td>/m/05c4fw0</td>\n",
       "      <td>Matrimony's Speed Limit</td>\n",
       "      <td>[English Language]</td>\n",
       "      <td>[United States of America]</td>\n",
       "      <td>[Short Film, Silent film, Comedy, Slapstick]</td>\n",
       "      <td>1913.0</td>\n",
       "    </tr>\n",
       "  </tbody>\n",
       "</table>\n",
       "</div>"
      ],
      "text/plain": [
       "       Unnamed: 0  Wikipedia_movie_ID Freebase_movie_ID  \\\n",
       "9291         9291              807258         /m/03dglc   \n",
       "9713         9713            14019515        /m/03cr4q9   \n",
       "15365       15365            24463054        /m/080c485   \n",
       "21565       21565            28372044        /m/0crf95t   \n",
       "42080       42080            19514976        /m/04myvv3   \n",
       "55688       55688            16690709        /m/03yn1b0   \n",
       "72614       72614            28371285        /m/0crd1h6   \n",
       "74675       74675            32946863        /m/0h54mgf   \n",
       "77064       77064            21112004        /m/05c4fw0   \n",
       "\n",
       "                         Movie_name     Movie_languages  \\\n",
       "9291               La Fée aux Choux                  []   \n",
       "9713                      Esmeralda   [French Language]   \n",
       "15365                Falling Leaves  [English Language]   \n",
       "21565              Danse serpentine                  []   \n",
       "42080  The Consequences of Feminism                  []   \n",
       "55688               Algie the Miner  [English Language]   \n",
       "72614                Le chiffonnier       [Silent film]   \n",
       "74675    The Shooting of Dan McGrew                  []   \n",
       "77064       Matrimony's Speed Limit  [English Language]   \n",
       "\n",
       "                  Movie_countries  \\\n",
       "9291                     [France]   \n",
       "9713                     [France]   \n",
       "15365  [United States of America]   \n",
       "21565                    [France]   \n",
       "42080                    [France]   \n",
       "55688  [United States of America]   \n",
       "72614                    [France]   \n",
       "74675                          []   \n",
       "77064  [United States of America]   \n",
       "\n",
       "                                            Movie_genres  Movie_release_year  \n",
       "9291   [Silent film, Indie, Black-and-white, Short Fi...              1896.0  \n",
       "9713   [Short Film, Silent film, Drama, Black-and-white]              1905.0  \n",
       "15365                                [Short Film, Drama]              1912.0  \n",
       "21565                          [Short Film, Silent film]              1896.0  \n",
       "42080                          [Short Film, Comedy film]              1906.0  \n",
       "55688   [LGBT, Short Film, Silent film, Black-and-white]              1912.0  \n",
       "72614                          [Short Film, Silent film]              1896.0  \n",
       "74675                                      [Silent film]              1915.0  \n",
       "77064       [Short Film, Silent film, Comedy, Slapstick]              1913.0  "
      ]
     },
     "execution_count": 394,
     "metadata": {},
     "output_type": "execute_result"
    }
   ],
   "source": [
    "alice = ['/m/03dglc','/m/0crd1h6','/m/0crf95t','/m/012brhdl','/m/03cr4q9','/m/04myvv3','/m/03yn1b0','/m/080c485','/m/0_g606b','/m/0135xbrf','/m/05c4fw0','/m/0h54mgf']\n",
    "all_movies[all_movies['Freebase_movie_ID'].isin(alice)]"
   ]
  },
  {
   "cell_type": "code",
   "execution_count": 422,
   "metadata": {},
   "outputs": [
    {
     "data": {
      "text/html": [
       "<div>\n",
       "<style scoped>\n",
       "    .dataframe tbody tr th:only-of-type {\n",
       "        vertical-align: middle;\n",
       "    }\n",
       "\n",
       "    .dataframe tbody tr th {\n",
       "        vertical-align: top;\n",
       "    }\n",
       "\n",
       "    .dataframe thead th {\n",
       "        text-align: right;\n",
       "    }\n",
       "</style>\n",
       "<table border=\"1\" class=\"dataframe\">\n",
       "  <thead>\n",
       "    <tr style=\"text-align: right;\">\n",
       "      <th></th>\n",
       "      <th>Wikipedia_movie_ID</th>\n",
       "      <th>Freebase_movie_ID</th>\n",
       "      <th>Movie_release_date</th>\n",
       "      <th>Character_name</th>\n",
       "      <th>Actor_date_of_birth</th>\n",
       "      <th>actor_gender</th>\n",
       "      <th>Actor_height_(in_meters)</th>\n",
       "      <th>Actor_ethnicity</th>\n",
       "      <th>Actor_name</th>\n",
       "      <th>Actor_age_at_movie_release</th>\n",
       "      <th>Freebase_character/actor_map_ID</th>\n",
       "      <th>Freebase_character_ID</th>\n",
       "      <th>Freebase_actor_ID</th>\n",
       "    </tr>\n",
       "  </thead>\n",
       "  <tbody>\n",
       "    <tr>\n",
       "      <th>7027</th>\n",
       "      <td>23691080</td>\n",
       "      <td>/m/06zp8lv</td>\n",
       "      <td>1944</td>\n",
       "      <td>NaN</td>\n",
       "      <td>NaN</td>\n",
       "      <td>M</td>\n",
       "      <td>NaN</td>\n",
       "      <td>NaN</td>\n",
       "      <td>Trigger</td>\n",
       "      <td>NaN</td>\n",
       "      <td>/m/0dk087b</td>\n",
       "      <td>NaN</td>\n",
       "      <td>/m/05pg6q</td>\n",
       "    </tr>\n",
       "  </tbody>\n",
       "</table>\n",
       "</div>"
      ],
      "text/plain": [
       "      Wikipedia_movie_ID Freebase_movie_ID Movie_release_date Character_name  \\\n",
       "7027            23691080        /m/06zp8lv               1944            NaN   \n",
       "\n",
       "     Actor_date_of_birth actor_gender  Actor_height_(in_meters)  \\\n",
       "7027                 NaN            M                       NaN   \n",
       "\n",
       "     Actor_ethnicity Actor_name  Actor_age_at_movie_release  \\\n",
       "7027             NaN    Trigger                         NaN   \n",
       "\n",
       "     Freebase_character/actor_map_ID Freebase_character_ID Freebase_actor_ID  \n",
       "7027                      /m/0dk087b                   NaN         /m/05pg6q  "
      ]
     },
     "execution_count": 422,
     "metadata": {},
     "output_type": "execute_result"
    }
   ],
   "source": [
    "character_metadata[character_metadata['Actor_name'] == 'Trigger']"
   ]
  },
  {
   "attachments": {},
   "cell_type": "markdown",
   "metadata": {},
   "source": [
    "### Community 2"
   ]
  },
  {
   "cell_type": "code",
   "execution_count": 4,
   "metadata": {},
   "outputs": [],
   "source": [
    "gender2 = gender_rolling[gender_rolling['Community']==2]\n",
    "gender2 = gender2.pivot_table(values='rolling_average_ratio', index='year', columns='actor_gender',aggfunc='sum')"
   ]
  },
  {
   "cell_type": "code",
   "execution_count": 459,
   "metadata": {},
   "outputs": [
    {
     "data": {
      "text/html": [
       "<div>\n",
       "<style scoped>\n",
       "    .dataframe tbody tr th:only-of-type {\n",
       "        vertical-align: middle;\n",
       "    }\n",
       "\n",
       "    .dataframe tbody tr th {\n",
       "        vertical-align: top;\n",
       "    }\n",
       "\n",
       "    .dataframe thead th {\n",
       "        text-align: right;\n",
       "    }\n",
       "</style>\n",
       "<table border=\"1\" class=\"dataframe\">\n",
       "  <thead>\n",
       "    <tr style=\"text-align: right;\">\n",
       "      <th></th>\n",
       "      <th>Unnamed: 0</th>\n",
       "      <th>year</th>\n",
       "      <th>Community</th>\n",
       "      <th>average_age</th>\n",
       "      <th>rolling_average_age</th>\n",
       "    </tr>\n",
       "  </thead>\n",
       "  <tbody>\n",
       "    <tr>\n",
       "      <th>1</th>\n",
       "      <td>1</td>\n",
       "      <td>1908</td>\n",
       "      <td>2</td>\n",
       "      <td>31.000000</td>\n",
       "      <td>NaN</td>\n",
       "    </tr>\n",
       "    <tr>\n",
       "      <th>21</th>\n",
       "      <td>21</td>\n",
       "      <td>1909</td>\n",
       "      <td>2</td>\n",
       "      <td>23.666667</td>\n",
       "      <td>0.000000</td>\n",
       "    </tr>\n",
       "    <tr>\n",
       "      <th>41</th>\n",
       "      <td>41</td>\n",
       "      <td>1910</td>\n",
       "      <td>2</td>\n",
       "      <td>29.500000</td>\n",
       "      <td>28.387143</td>\n",
       "    </tr>\n",
       "    <tr>\n",
       "      <th>61</th>\n",
       "      <td>61</td>\n",
       "      <td>1911</td>\n",
       "      <td>2</td>\n",
       "      <td>23.000000</td>\n",
       "      <td>34.677818</td>\n",
       "    </tr>\n",
       "    <tr>\n",
       "      <th>81</th>\n",
       "      <td>81</td>\n",
       "      <td>1912</td>\n",
       "      <td>2</td>\n",
       "      <td>25.222222</td>\n",
       "      <td>37.532809</td>\n",
       "    </tr>\n",
       "    <tr>\n",
       "      <th>...</th>\n",
       "      <td>...</td>\n",
       "      <td>...</td>\n",
       "      <td>...</td>\n",
       "      <td>...</td>\n",
       "      <td>...</td>\n",
       "    </tr>\n",
       "    <tr>\n",
       "      <th>2081</th>\n",
       "      <td>2081</td>\n",
       "      <td>2012</td>\n",
       "      <td>2</td>\n",
       "      <td>67.909091</td>\n",
       "      <td>0.000000</td>\n",
       "    </tr>\n",
       "    <tr>\n",
       "      <th>2101</th>\n",
       "      <td>2101</td>\n",
       "      <td>2013</td>\n",
       "      <td>2</td>\n",
       "      <td>68.500000</td>\n",
       "      <td>0.000000</td>\n",
       "    </tr>\n",
       "    <tr>\n",
       "      <th>2121</th>\n",
       "      <td>2121</td>\n",
       "      <td>2014</td>\n",
       "      <td>2</td>\n",
       "      <td>0.000000</td>\n",
       "      <td>33.920952</td>\n",
       "    </tr>\n",
       "    <tr>\n",
       "      <th>2141</th>\n",
       "      <td>2141</td>\n",
       "      <td>2015</td>\n",
       "      <td>2</td>\n",
       "      <td>0.000000</td>\n",
       "      <td>45.172222</td>\n",
       "    </tr>\n",
       "    <tr>\n",
       "      <th>2161</th>\n",
       "      <td>2161</td>\n",
       "      <td>2016</td>\n",
       "      <td>2</td>\n",
       "      <td>0.000000</td>\n",
       "      <td>51.980317</td>\n",
       "    </tr>\n",
       "  </tbody>\n",
       "</table>\n",
       "<p>109 rows × 5 columns</p>\n",
       "</div>"
      ],
      "text/plain": [
       "      Unnamed: 0  year  Community  average_age  rolling_average_age\n",
       "1              1  1908          2    31.000000                  NaN\n",
       "21            21  1909          2    23.666667             0.000000\n",
       "41            41  1910          2    29.500000            28.387143\n",
       "61            61  1911          2    23.000000            34.677818\n",
       "81            81  1912          2    25.222222            37.532809\n",
       "...          ...   ...        ...          ...                  ...\n",
       "2081        2081  2012          2    67.909091             0.000000\n",
       "2101        2101  2013          2    68.500000             0.000000\n",
       "2121        2121  2014          2     0.000000            33.920952\n",
       "2141        2141  2015          2     0.000000            45.172222\n",
       "2161        2161  2016          2     0.000000            51.980317\n",
       "\n",
       "[109 rows x 5 columns]"
      ]
     },
     "execution_count": 459,
     "metadata": {},
     "output_type": "execute_result"
    }
   ],
   "source": [
    "age_rolling2 = age_rolling[age_rolling['Community']==2]\n",
    "age_rolling2"
   ]
  },
  {
   "cell_type": "code",
   "execution_count": 7,
   "metadata": {},
   "outputs": [
    {
     "data": {
      "application/vnd.plotly.v1+json": {
       "config": {
        "plotlyServerURL": "https://plot.ly"
       },
       "data": [
        {
         "marker": {
          "color": "#3E4E58"
         },
         "name": "male",
         "type": "bar",
         "x": [
          1908,
          1909,
          1910,
          1911,
          1912,
          1913,
          1914,
          1915,
          1916,
          1917,
          1918,
          1919,
          1920,
          1921,
          1922,
          1923,
          1924,
          1925,
          1926,
          1927,
          1928,
          1929,
          1930,
          1931,
          1932,
          1933,
          1934,
          1935,
          1936,
          1937,
          1938,
          1939,
          1940,
          1941,
          1942,
          1943,
          1944,
          1945,
          1946,
          1947,
          1948,
          1949,
          1950,
          1951,
          1952,
          1953,
          1954,
          1955,
          1956,
          1957,
          1958,
          1959,
          1960,
          1961,
          1962,
          1963,
          1964,
          1965,
          1966,
          1967,
          1968,
          1969,
          1970,
          1971,
          1972,
          1973,
          1974,
          1975,
          1976,
          1977,
          1978,
          1979,
          1980,
          1981,
          1982,
          1983,
          1984,
          1985,
          1986,
          1987,
          1988,
          1989,
          1990,
          1991,
          1992,
          1993,
          1994,
          1995,
          1996,
          1997,
          1998,
          1999,
          2000,
          2001,
          2002,
          2003,
          2004,
          2005,
          2006,
          2007,
          2008,
          2009,
          2010,
          2011,
          2012,
          2013,
          2014,
          2015,
          2016
         ],
         "y": [
          1,
          0.6805555555555556,
          0.6805555555555556,
          0.3194444444444444,
          0.3194444444444444,
          0.3194444444444444,
          0.6798810703666998,
          0.6798810703666998,
          0.6798810703666998,
          0.32011892963330024,
          0.32011892963330024,
          0.5914127423822715,
          0.5914127423822715,
          0.5914127423822715,
          0.4085872576177285,
          0.4085872576177285,
          0.4085872576177285,
          0.7282415630550623,
          0.7282415630550623,
          1,
          0.27175843694493784,
          0.27175843694493784,
          0.6447963800904977,
          0.6447963800904977,
          0.6447963800904977,
          0.3552036199095022,
          0.3552036199095022,
          0.3552036199095022,
          0.7372262773722629,
          0.7372262773722629,
          0.26277372262773724,
          0.26277372262773724,
          0.26277372262773724,
          0.6691176470588236,
          0.6691176470588236,
          0.6691176470588236,
          0.3308823529411764,
          0.3308823529411764,
          0.3308823529411764,
          0.7,
          0.7,
          0.30000000000000004,
          0.30000000000000004,
          0.30000000000000004,
          0.6984924623115578,
          0.6984924623115578,
          0.6984924623115578,
          0.3015075376884422,
          0.3015075376884422,
          1,
          0.6069364161849711,
          0.6069364161849711,
          0.3930635838150289,
          0.3930635838150289,
          0.3930635838150289,
          0.5542168674698795,
          0.5542168674698795,
          0.5542168674698795,
          0.4457831325301205,
          0.4457831325301205,
          0.6419753086419754,
          0.6419753086419754,
          0.6419753086419754,
          0.3580246913580247,
          0.3580246913580247,
          0.3580246913580247,
          0.7196969696969697,
          0.7196969696969697,
          0.7196969696969697,
          0.2803030303030303,
          0.2803030303030303,
          0.688,
          0.688,
          0.688,
          0.31200000000000006,
          0.31200000000000006,
          0.31200000000000006,
          0.7641509433962265,
          0.7641509433962265,
          1,
          0.23584905660377353,
          0.23584905660377353,
          0.8431372549019608,
          0.8431372549019608,
          0.8431372549019608,
          0.1568627450980392,
          0.1568627450980392,
          0.1568627450980392,
          0.6585365853658537,
          0.6585365853658537,
          0.3414634146341463,
          0.3414634146341463,
          0.3414634146341463,
          0.52,
          0.52,
          0.52,
          0.48,
          0.48,
          0.48,
          0.5757575757575758,
          0.5757575757575758,
          0.4242424242424242,
          0.4242424242424242,
          0.4242424242424242,
          0.5789473684210527,
          0.5789473684210527,
          0.5789473684210527,
          0.42105263157894735,
          0.42105263157894735
         ]
        },
        {
         "marker": {
          "color": "#e97030"
         },
         "name": "female",
         "type": "bar",
         "x": [
          1908,
          1909,
          1910,
          1911,
          1912,
          1913,
          1914,
          1915,
          1916,
          1917,
          1918,
          1919,
          1920,
          1921,
          1922,
          1923,
          1924,
          1925,
          1926,
          1927,
          1928,
          1929,
          1930,
          1931,
          1932,
          1933,
          1934,
          1935,
          1936,
          1937,
          1938,
          1939,
          1940,
          1941,
          1942,
          1943,
          1944,
          1945,
          1946,
          1947,
          1948,
          1949,
          1950,
          1951,
          1952,
          1953,
          1954,
          1955,
          1956,
          1957,
          1958,
          1959,
          1960,
          1961,
          1962,
          1963,
          1964,
          1965,
          1966,
          1967,
          1968,
          1969,
          1970,
          1971,
          1972,
          1973,
          1974,
          1975,
          1976,
          1977,
          1978,
          1979,
          1980,
          1981,
          1982,
          1983,
          1984,
          1985,
          1986,
          1987,
          1988,
          1989,
          1990,
          1991,
          1992,
          1993,
          1994,
          1995,
          1996,
          1997,
          1998,
          1999,
          2000,
          2001,
          2002,
          2003,
          2004,
          2005,
          2006,
          2007,
          2008,
          2009,
          2010,
          2011,
          2012,
          2013,
          2014,
          2015,
          2016
         ],
         "y": [
          0,
          0.3194444444444444,
          0.3194444444444444,
          0.6805555555555556,
          0.6805555555555556,
          0.6805555555555556,
          0.3201189296333003,
          0.3201189296333003,
          0.3201189296333003,
          0.6798810703666998,
          0.6798810703666998,
          0.4085872576177285,
          0.4085872576177285,
          0.4085872576177285,
          0.5914127423822715,
          0.5914127423822715,
          0.5914127423822715,
          0.2717584369449378,
          0.2717584369449378,
          0,
          0.7282415630550622,
          0.7282415630550622,
          0.3552036199095023,
          0.3552036199095023,
          0.3552036199095023,
          0.6447963800904978,
          0.6447963800904978,
          0.6447963800904978,
          0.2627737226277372,
          0.2627737226277372,
          0.7372262773722628,
          0.7372262773722628,
          0.7372262773722628,
          0.3308823529411764,
          0.3308823529411764,
          0.3308823529411764,
          0.6691176470588236,
          0.6691176470588236,
          0.6691176470588236,
          0.3,
          0.3,
          0.7,
          0.7,
          0.7,
          0.3015075376884422,
          0.3015075376884422,
          0.3015075376884422,
          0.6984924623115578,
          0.6984924623115578,
          0,
          0.3930635838150289,
          0.3930635838150289,
          0.6069364161849711,
          0.6069364161849711,
          0.6069364161849711,
          0.4457831325301205,
          0.4457831325301205,
          0.4457831325301205,
          0.5542168674698795,
          0.5542168674698795,
          0.3580246913580246,
          0.3580246913580246,
          0.3580246913580246,
          0.6419753086419753,
          0.6419753086419753,
          0.6419753086419753,
          0.2803030303030303,
          0.2803030303030303,
          0.2803030303030303,
          0.7196969696969697,
          0.7196969696969697,
          0.312,
          0.312,
          0.312,
          0.688,
          0.688,
          0.688,
          0.2358490566037735,
          0.2358490566037735,
          0,
          0.7641509433962265,
          0.7641509433962265,
          0.1568627450980392,
          0.1568627450980392,
          0.1568627450980392,
          0.8431372549019608,
          0.8431372549019608,
          0.8431372549019608,
          0.3414634146341463,
          0.3414634146341463,
          0.6585365853658537,
          0.6585365853658537,
          0.6585365853658537,
          0.48,
          0.48,
          0.48,
          0.52,
          0.52,
          0.52,
          0.4242424242424242,
          0.4242424242424242,
          0.5757575757575758,
          0.5757575757575758,
          0.5757575757575758,
          0.4210526315789473,
          0.4210526315789473,
          0.4210526315789473,
          0.5789473684210527,
          0.5789473684210527
         ]
        }
       ],
       "layout": {
        "barmode": "stack",
        "height": 300,
        "template": {
         "data": {
          "bar": [
           {
            "error_x": {
             "color": "#2a3f5f"
            },
            "error_y": {
             "color": "#2a3f5f"
            },
            "marker": {
             "line": {
              "color": "white",
              "width": 0.5
             },
             "pattern": {
              "fillmode": "overlay",
              "size": 10,
              "solidity": 0.2
             }
            },
            "type": "bar"
           }
          ],
          "barpolar": [
           {
            "marker": {
             "line": {
              "color": "white",
              "width": 0.5
             },
             "pattern": {
              "fillmode": "overlay",
              "size": 10,
              "solidity": 0.2
             }
            },
            "type": "barpolar"
           }
          ],
          "carpet": [
           {
            "aaxis": {
             "endlinecolor": "#2a3f5f",
             "gridcolor": "#C8D4E3",
             "linecolor": "#C8D4E3",
             "minorgridcolor": "#C8D4E3",
             "startlinecolor": "#2a3f5f"
            },
            "baxis": {
             "endlinecolor": "#2a3f5f",
             "gridcolor": "#C8D4E3",
             "linecolor": "#C8D4E3",
             "minorgridcolor": "#C8D4E3",
             "startlinecolor": "#2a3f5f"
            },
            "type": "carpet"
           }
          ],
          "choropleth": [
           {
            "colorbar": {
             "outlinewidth": 0,
             "ticks": ""
            },
            "type": "choropleth"
           }
          ],
          "contour": [
           {
            "colorbar": {
             "outlinewidth": 0,
             "ticks": ""
            },
            "colorscale": [
             [
              0,
              "#0d0887"
             ],
             [
              0.1111111111111111,
              "#46039f"
             ],
             [
              0.2222222222222222,
              "#7201a8"
             ],
             [
              0.3333333333333333,
              "#9c179e"
             ],
             [
              0.4444444444444444,
              "#bd3786"
             ],
             [
              0.5555555555555556,
              "#d8576b"
             ],
             [
              0.6666666666666666,
              "#ed7953"
             ],
             [
              0.7777777777777778,
              "#fb9f3a"
             ],
             [
              0.8888888888888888,
              "#fdca26"
             ],
             [
              1,
              "#f0f921"
             ]
            ],
            "type": "contour"
           }
          ],
          "contourcarpet": [
           {
            "colorbar": {
             "outlinewidth": 0,
             "ticks": ""
            },
            "type": "contourcarpet"
           }
          ],
          "heatmap": [
           {
            "colorbar": {
             "outlinewidth": 0,
             "ticks": ""
            },
            "colorscale": [
             [
              0,
              "#0d0887"
             ],
             [
              0.1111111111111111,
              "#46039f"
             ],
             [
              0.2222222222222222,
              "#7201a8"
             ],
             [
              0.3333333333333333,
              "#9c179e"
             ],
             [
              0.4444444444444444,
              "#bd3786"
             ],
             [
              0.5555555555555556,
              "#d8576b"
             ],
             [
              0.6666666666666666,
              "#ed7953"
             ],
             [
              0.7777777777777778,
              "#fb9f3a"
             ],
             [
              0.8888888888888888,
              "#fdca26"
             ],
             [
              1,
              "#f0f921"
             ]
            ],
            "type": "heatmap"
           }
          ],
          "heatmapgl": [
           {
            "colorbar": {
             "outlinewidth": 0,
             "ticks": ""
            },
            "colorscale": [
             [
              0,
              "#0d0887"
             ],
             [
              0.1111111111111111,
              "#46039f"
             ],
             [
              0.2222222222222222,
              "#7201a8"
             ],
             [
              0.3333333333333333,
              "#9c179e"
             ],
             [
              0.4444444444444444,
              "#bd3786"
             ],
             [
              0.5555555555555556,
              "#d8576b"
             ],
             [
              0.6666666666666666,
              "#ed7953"
             ],
             [
              0.7777777777777778,
              "#fb9f3a"
             ],
             [
              0.8888888888888888,
              "#fdca26"
             ],
             [
              1,
              "#f0f921"
             ]
            ],
            "type": "heatmapgl"
           }
          ],
          "histogram": [
           {
            "marker": {
             "pattern": {
              "fillmode": "overlay",
              "size": 10,
              "solidity": 0.2
             }
            },
            "type": "histogram"
           }
          ],
          "histogram2d": [
           {
            "colorbar": {
             "outlinewidth": 0,
             "ticks": ""
            },
            "colorscale": [
             [
              0,
              "#0d0887"
             ],
             [
              0.1111111111111111,
              "#46039f"
             ],
             [
              0.2222222222222222,
              "#7201a8"
             ],
             [
              0.3333333333333333,
              "#9c179e"
             ],
             [
              0.4444444444444444,
              "#bd3786"
             ],
             [
              0.5555555555555556,
              "#d8576b"
             ],
             [
              0.6666666666666666,
              "#ed7953"
             ],
             [
              0.7777777777777778,
              "#fb9f3a"
             ],
             [
              0.8888888888888888,
              "#fdca26"
             ],
             [
              1,
              "#f0f921"
             ]
            ],
            "type": "histogram2d"
           }
          ],
          "histogram2dcontour": [
           {
            "colorbar": {
             "outlinewidth": 0,
             "ticks": ""
            },
            "colorscale": [
             [
              0,
              "#0d0887"
             ],
             [
              0.1111111111111111,
              "#46039f"
             ],
             [
              0.2222222222222222,
              "#7201a8"
             ],
             [
              0.3333333333333333,
              "#9c179e"
             ],
             [
              0.4444444444444444,
              "#bd3786"
             ],
             [
              0.5555555555555556,
              "#d8576b"
             ],
             [
              0.6666666666666666,
              "#ed7953"
             ],
             [
              0.7777777777777778,
              "#fb9f3a"
             ],
             [
              0.8888888888888888,
              "#fdca26"
             ],
             [
              1,
              "#f0f921"
             ]
            ],
            "type": "histogram2dcontour"
           }
          ],
          "mesh3d": [
           {
            "colorbar": {
             "outlinewidth": 0,
             "ticks": ""
            },
            "type": "mesh3d"
           }
          ],
          "parcoords": [
           {
            "line": {
             "colorbar": {
              "outlinewidth": 0,
              "ticks": ""
             }
            },
            "type": "parcoords"
           }
          ],
          "pie": [
           {
            "automargin": true,
            "type": "pie"
           }
          ],
          "scatter": [
           {
            "marker": {
             "colorbar": {
              "outlinewidth": 0,
              "ticks": ""
             }
            },
            "type": "scatter"
           }
          ],
          "scatter3d": [
           {
            "line": {
             "colorbar": {
              "outlinewidth": 0,
              "ticks": ""
             }
            },
            "marker": {
             "colorbar": {
              "outlinewidth": 0,
              "ticks": ""
             }
            },
            "type": "scatter3d"
           }
          ],
          "scattercarpet": [
           {
            "marker": {
             "colorbar": {
              "outlinewidth": 0,
              "ticks": ""
             }
            },
            "type": "scattercarpet"
           }
          ],
          "scattergeo": [
           {
            "marker": {
             "colorbar": {
              "outlinewidth": 0,
              "ticks": ""
             }
            },
            "type": "scattergeo"
           }
          ],
          "scattergl": [
           {
            "marker": {
             "colorbar": {
              "outlinewidth": 0,
              "ticks": ""
             }
            },
            "type": "scattergl"
           }
          ],
          "scattermapbox": [
           {
            "marker": {
             "colorbar": {
              "outlinewidth": 0,
              "ticks": ""
             }
            },
            "type": "scattermapbox"
           }
          ],
          "scatterpolar": [
           {
            "marker": {
             "colorbar": {
              "outlinewidth": 0,
              "ticks": ""
             }
            },
            "type": "scatterpolar"
           }
          ],
          "scatterpolargl": [
           {
            "marker": {
             "colorbar": {
              "outlinewidth": 0,
              "ticks": ""
             }
            },
            "type": "scatterpolargl"
           }
          ],
          "scatterternary": [
           {
            "marker": {
             "colorbar": {
              "outlinewidth": 0,
              "ticks": ""
             }
            },
            "type": "scatterternary"
           }
          ],
          "surface": [
           {
            "colorbar": {
             "outlinewidth": 0,
             "ticks": ""
            },
            "colorscale": [
             [
              0,
              "#0d0887"
             ],
             [
              0.1111111111111111,
              "#46039f"
             ],
             [
              0.2222222222222222,
              "#7201a8"
             ],
             [
              0.3333333333333333,
              "#9c179e"
             ],
             [
              0.4444444444444444,
              "#bd3786"
             ],
             [
              0.5555555555555556,
              "#d8576b"
             ],
             [
              0.6666666666666666,
              "#ed7953"
             ],
             [
              0.7777777777777778,
              "#fb9f3a"
             ],
             [
              0.8888888888888888,
              "#fdca26"
             ],
             [
              1,
              "#f0f921"
             ]
            ],
            "type": "surface"
           }
          ],
          "table": [
           {
            "cells": {
             "fill": {
              "color": "#EBF0F8"
             },
             "line": {
              "color": "white"
             }
            },
            "header": {
             "fill": {
              "color": "#C8D4E3"
             },
             "line": {
              "color": "white"
             }
            },
            "type": "table"
           }
          ]
         },
         "layout": {
          "annotationdefaults": {
           "arrowcolor": "#2a3f5f",
           "arrowhead": 0,
           "arrowwidth": 1
          },
          "autotypenumbers": "strict",
          "coloraxis": {
           "colorbar": {
            "outlinewidth": 0,
            "ticks": ""
           }
          },
          "colorscale": {
           "diverging": [
            [
             0,
             "#8e0152"
            ],
            [
             0.1,
             "#c51b7d"
            ],
            [
             0.2,
             "#de77ae"
            ],
            [
             0.3,
             "#f1b6da"
            ],
            [
             0.4,
             "#fde0ef"
            ],
            [
             0.5,
             "#f7f7f7"
            ],
            [
             0.6,
             "#e6f5d0"
            ],
            [
             0.7,
             "#b8e186"
            ],
            [
             0.8,
             "#7fbc41"
            ],
            [
             0.9,
             "#4d9221"
            ],
            [
             1,
             "#276419"
            ]
           ],
           "sequential": [
            [
             0,
             "#0d0887"
            ],
            [
             0.1111111111111111,
             "#46039f"
            ],
            [
             0.2222222222222222,
             "#7201a8"
            ],
            [
             0.3333333333333333,
             "#9c179e"
            ],
            [
             0.4444444444444444,
             "#bd3786"
            ],
            [
             0.5555555555555556,
             "#d8576b"
            ],
            [
             0.6666666666666666,
             "#ed7953"
            ],
            [
             0.7777777777777778,
             "#fb9f3a"
            ],
            [
             0.8888888888888888,
             "#fdca26"
            ],
            [
             1,
             "#f0f921"
            ]
           ],
           "sequentialminus": [
            [
             0,
             "#0d0887"
            ],
            [
             0.1111111111111111,
             "#46039f"
            ],
            [
             0.2222222222222222,
             "#7201a8"
            ],
            [
             0.3333333333333333,
             "#9c179e"
            ],
            [
             0.4444444444444444,
             "#bd3786"
            ],
            [
             0.5555555555555556,
             "#d8576b"
            ],
            [
             0.6666666666666666,
             "#ed7953"
            ],
            [
             0.7777777777777778,
             "#fb9f3a"
            ],
            [
             0.8888888888888888,
             "#fdca26"
            ],
            [
             1,
             "#f0f921"
            ]
           ]
          },
          "colorway": [
           "#636efa",
           "#EF553B",
           "#00cc96",
           "#ab63fa",
           "#FFA15A",
           "#19d3f3",
           "#FF6692",
           "#B6E880",
           "#FF97FF",
           "#FECB52"
          ],
          "font": {
           "color": "#2a3f5f"
          },
          "geo": {
           "bgcolor": "white",
           "lakecolor": "white",
           "landcolor": "white",
           "showlakes": true,
           "showland": true,
           "subunitcolor": "#C8D4E3"
          },
          "hoverlabel": {
           "align": "left"
          },
          "hovermode": "closest",
          "mapbox": {
           "style": "light"
          },
          "paper_bgcolor": "white",
          "plot_bgcolor": "white",
          "polar": {
           "angularaxis": {
            "gridcolor": "#EBF0F8",
            "linecolor": "#EBF0F8",
            "ticks": ""
           },
           "bgcolor": "white",
           "radialaxis": {
            "gridcolor": "#EBF0F8",
            "linecolor": "#EBF0F8",
            "ticks": ""
           }
          },
          "scene": {
           "xaxis": {
            "backgroundcolor": "white",
            "gridcolor": "#DFE8F3",
            "gridwidth": 2,
            "linecolor": "#EBF0F8",
            "showbackground": true,
            "ticks": "",
            "zerolinecolor": "#EBF0F8"
           },
           "yaxis": {
            "backgroundcolor": "white",
            "gridcolor": "#DFE8F3",
            "gridwidth": 2,
            "linecolor": "#EBF0F8",
            "showbackground": true,
            "ticks": "",
            "zerolinecolor": "#EBF0F8"
           },
           "zaxis": {
            "backgroundcolor": "white",
            "gridcolor": "#DFE8F3",
            "gridwidth": 2,
            "linecolor": "#EBF0F8",
            "showbackground": true,
            "ticks": "",
            "zerolinecolor": "#EBF0F8"
           }
          },
          "shapedefaults": {
           "line": {
            "color": "#2a3f5f"
           }
          },
          "ternary": {
           "aaxis": {
            "gridcolor": "#DFE8F3",
            "linecolor": "#A2B1C6",
            "ticks": ""
           },
           "baxis": {
            "gridcolor": "#DFE8F3",
            "linecolor": "#A2B1C6",
            "ticks": ""
           },
           "bgcolor": "white",
           "caxis": {
            "gridcolor": "#DFE8F3",
            "linecolor": "#A2B1C6",
            "ticks": ""
           }
          },
          "title": {
           "x": 0.05
          },
          "xaxis": {
           "automargin": true,
           "gridcolor": "#EBF0F8",
           "linecolor": "#EBF0F8",
           "ticks": "",
           "title": {
            "standoff": 15
           },
           "zerolinecolor": "#EBF0F8",
           "zerolinewidth": 2
          },
          "yaxis": {
           "automargin": true,
           "gridcolor": "#EBF0F8",
           "linecolor": "#EBF0F8",
           "ticks": "",
           "title": {
            "standoff": 15
           },
           "zerolinecolor": "#EBF0F8",
           "zerolinewidth": 2
          }
         }
        },
        "title": {
         "text": "Gender Distribution over the years for Community 2"
        }
       }
      }
     },
     "metadata": {},
     "output_type": "display_data"
    }
   ],
   "source": [
    "fig = go.Figure()\n",
    "\n",
    "fig.add_trace(go.Bar( x=gender2.index, y=1 -gender2['F'],name = 'male',marker={'color':color_dict['male_%']}))\n",
    "fig.add_trace(go.Bar( x=gender2.index, y = gender2['F'],name = 'female',marker={'color':color_dict['female_%']}))\n",
    "\n",
    "fig.update_layout(height = 300, title_text=\"Gender Distribution over the years for Community 2\")\n",
    "fig.update_layout(barmode = 'stack',template = 'plotly_white')\n",
    "\n",
    "fig.show()\n",
    "fig.write_html('C:/Users/Public/ADA2022/weloic.github.io/_includes/gender_2.html')"
   ]
  },
  {
   "cell_type": "code",
   "execution_count": 469,
   "metadata": {},
   "outputs": [
    {
     "data": {
      "text/html": [
       "<table class=\"simpletable\">\n",
       "<caption>OLS Regression Results</caption>\n",
       "<tr>\n",
       "  <th>Dep. Variable:</th>            <td>F</td>        <th>  R-squared:         </th> <td>   0.006</td>\n",
       "</tr>\n",
       "<tr>\n",
       "  <th>Model:</th>                   <td>OLS</td>       <th>  Adj. R-squared:    </th> <td>  -0.004</td>\n",
       "</tr>\n",
       "<tr>\n",
       "  <th>Method:</th>             <td>Least Squares</td>  <th>  F-statistic:       </th> <td>  0.6093</td>\n",
       "</tr>\n",
       "<tr>\n",
       "  <th>Date:</th>             <td>Fri, 23 Dec 2022</td> <th>  Prob (F-statistic):</th>  <td> 0.437</td> \n",
       "</tr>\n",
       "<tr>\n",
       "  <th>Time:</th>                 <td>17:29:47</td>     <th>  Log-Likelihood:    </th> <td>  21.199</td>\n",
       "</tr>\n",
       "<tr>\n",
       "  <th>No. Observations:</th>      <td>   109</td>      <th>  AIC:               </th> <td>  -38.40</td>\n",
       "</tr>\n",
       "<tr>\n",
       "  <th>Df Residuals:</th>          <td>   107</td>      <th>  BIC:               </th> <td>  -33.02</td>\n",
       "</tr>\n",
       "<tr>\n",
       "  <th>Df Model:</th>              <td>     1</td>      <th>                     </th>     <td> </td>   \n",
       "</tr>\n",
       "<tr>\n",
       "  <th>Covariance Type:</th>      <td>nonrobust</td>    <th>                     </th>     <td> </td>   \n",
       "</tr>\n",
       "</table>\n",
       "<table class=\"simpletable\">\n",
       "<tr>\n",
       "      <td></td>         <th>coef</th>     <th>std err</th>      <th>t</th>      <th>P>|t|</th>  <th>[0.025</th>    <th>0.975]</th>  \n",
       "</tr>\n",
       "<tr>\n",
       "  <th>Intercept</th> <td>   -0.4536</td> <td>    1.201</td> <td>   -0.378</td> <td> 0.706</td> <td>   -2.834</td> <td>    1.927</td>\n",
       "</tr>\n",
       "<tr>\n",
       "  <th>year</th>      <td>    0.0005</td> <td>    0.001</td> <td>    0.781</td> <td> 0.437</td> <td>   -0.001</td> <td>    0.002</td>\n",
       "</tr>\n",
       "</table>\n",
       "<table class=\"simpletable\">\n",
       "<tr>\n",
       "  <th>Omnibus:</th>       <td> 4.959</td> <th>  Durbin-Watson:     </th> <td>   1.484</td>\n",
       "</tr>\n",
       "<tr>\n",
       "  <th>Prob(Omnibus):</th> <td> 0.084</td> <th>  Jarque-Bera (JB):  </th> <td>   3.570</td>\n",
       "</tr>\n",
       "<tr>\n",
       "  <th>Skew:</th>          <td>-0.301</td> <th>  Prob(JB):          </th> <td>   0.168</td>\n",
       "</tr>\n",
       "<tr>\n",
       "  <th>Kurtosis:</th>      <td> 2.350</td> <th>  Cond. No.          </th> <td>1.22e+05</td>\n",
       "</tr>\n",
       "</table><br/><br/>Notes:<br/>[1] Standard Errors assume that the covariance matrix of the errors is correctly specified.<br/>[2] The condition number is large, 1.22e+05. This might indicate that there are<br/>strong multicollinearity or other numerical problems."
      ],
      "text/plain": [
       "<class 'statsmodels.iolib.summary.Summary'>\n",
       "\"\"\"\n",
       "                            OLS Regression Results                            \n",
       "==============================================================================\n",
       "Dep. Variable:                      F   R-squared:                       0.006\n",
       "Model:                            OLS   Adj. R-squared:                 -0.004\n",
       "Method:                 Least Squares   F-statistic:                    0.6093\n",
       "Date:                Fri, 23 Dec 2022   Prob (F-statistic):              0.437\n",
       "Time:                        17:29:47   Log-Likelihood:                 21.199\n",
       "No. Observations:                 109   AIC:                            -38.40\n",
       "Df Residuals:                     107   BIC:                            -33.02\n",
       "Df Model:                           1                                         \n",
       "Covariance Type:            nonrobust                                         \n",
       "==============================================================================\n",
       "                 coef    std err          t      P>|t|      [0.025      0.975]\n",
       "------------------------------------------------------------------------------\n",
       "Intercept     -0.4536      1.201     -0.378      0.706      -2.834       1.927\n",
       "year           0.0005      0.001      0.781      0.437      -0.001       0.002\n",
       "==============================================================================\n",
       "Omnibus:                        4.959   Durbin-Watson:                   1.484\n",
       "Prob(Omnibus):                  0.084   Jarque-Bera (JB):                3.570\n",
       "Skew:                          -0.301   Prob(JB):                        0.168\n",
       "Kurtosis:                       2.350   Cond. No.                     1.22e+05\n",
       "==============================================================================\n",
       "\n",
       "Notes:\n",
       "[1] Standard Errors assume that the covariance matrix of the errors is correctly specified.\n",
       "[2] The condition number is large, 1.22e+05. This might indicate that there are\n",
       "strong multicollinearity or other numerical problems.\n",
       "\"\"\""
      ]
     },
     "execution_count": 469,
     "metadata": {},
     "output_type": "execute_result"
    }
   ],
   "source": [
    "import statsmodels.formula.api as smf\n",
    "gender2 = gender2.reset_index()\n",
    "mod = smf.ols(formula='F ~ year', data=gender2) \n",
    "np.random.seed(2) \n",
    "res = mod.fit()  \n",
    "res.summary()"
   ]
  },
  {
   "cell_type": "code",
   "execution_count": 461,
   "metadata": {},
   "outputs": [
    {
     "data": {
      "application/vnd.plotly.v1+json": {
       "config": {
        "plotlyServerURL": "https://plot.ly"
       },
       "data": [
        {
         "name": "average age",
         "type": "bar",
         "x": [
          1908,
          1909,
          1910,
          1911,
          1912,
          1913,
          1914,
          1915,
          1916,
          1917,
          1918,
          1919,
          1920,
          1921,
          1922,
          1923,
          1924,
          1925,
          1926,
          1927,
          1928,
          1929,
          1930,
          1931,
          1932,
          1933,
          1934,
          1935,
          1936,
          1937,
          1938,
          1939,
          1940,
          1941,
          1942,
          1943,
          1944,
          1945,
          1946,
          1947,
          1948,
          1949,
          1950,
          1951,
          1952,
          1953,
          1954,
          1955,
          1956,
          1957,
          1958,
          1959,
          1960,
          1961,
          1962,
          1963,
          1964,
          1965,
          1966,
          1967,
          1968,
          1969,
          1970,
          1971,
          1972,
          1973,
          1974,
          1975,
          1976,
          1977,
          1978,
          1979,
          1980,
          1981,
          1982,
          1983,
          1984,
          1985,
          1986,
          1987,
          1988,
          1989,
          1990,
          1991,
          1992,
          1993,
          1994,
          1995,
          1996,
          1997,
          1998,
          1999,
          2000,
          2001,
          2002,
          2003,
          2004,
          2005,
          2006,
          2007,
          2008,
          2009,
          2010,
          2011,
          2012,
          2013,
          2014,
          2015,
          2016
         ],
         "y": [
          null,
          0,
          28.38714285714285,
          34.67781846930489,
          37.53280856143733,
          46.43442766846099,
          33.95142606516291,
          39.25848977189112,
          44.95552140763546,
          56.384500809318446,
          63.2272059419221,
          null,
          -6,
          18.70926573426573,
          29.90627845467559,
          37.94410839898208,
          44.77823608298665,
          21.2,
          36.71604837789001,
          42.68081566050315,
          48.83077371423384,
          48.82615845838366,
          0,
          0,
          27.44878023936847,
          36.467997817785054,
          36.318076377523184,
          40.57632786291172,
          0,
          0,
          20.45,
          30.261906284071763,
          36.64910231858232,
          -11.066666666666666,
          25.717857142857145,
          40.29605805958747,
          40.16086549707602,
          43.506583364909794,
          46.31980115122972,
          0,
          5.466666666666667,
          36.64642857142857,
          36.56397888207315,
          40.80568849215592,
          0,
          1,
          19.766666666666666,
          39.68005050505051,
          40.03840345254064,
          null,
          0,
          0,
          33.65948717948718,
          34.12414285714285,
          40.29204466277334,
          0,
          -6.4,
          0,
          26.704761904761902,
          37.162951081176885,
          null,
          14.7,
          32.53354312354312,
          40.086676537892046,
          48.62887667887668,
          57.18475783475783,
          29.80079119367045,
          34.38310722458319,
          23.84,
          37.58476190476191,
          57.90666666666667,
          0,
          14.45,
          36.61857553366174,
          45.40264367816092,
          54.203809523809525,
          49.25,
          2.8,
          10.8,
          42.4,
          40.54193924016276,
          49.4376012883883,
          29.421212121212125,
          42.36144682115271,
          48.16126984126984,
          11.8,
          19.723076923076924,
          0,
          24.133333333333333,
          43.81553930105655,
          56.109545454545454,
          0,
          0,
          31.713139097744364,
          46.31,
          0,
          0,
          22.288888888888888,
          0,
          0,
          0,
          18.45,
          32.348926237161535,
          44.364118993135016,
          0,
          0,
          33.920952380952386,
          45.172222222222224,
          51.980317460317465
         ]
        }
       ],
       "layout": {
        "barmode": "stack",
        "height": 600,
        "template": {
         "data": {
          "bar": [
           {
            "error_x": {
             "color": "#2a3f5f"
            },
            "error_y": {
             "color": "#2a3f5f"
            },
            "marker": {
             "line": {
              "color": "white",
              "width": 0.5
             },
             "pattern": {
              "fillmode": "overlay",
              "size": 10,
              "solidity": 0.2
             }
            },
            "type": "bar"
           }
          ],
          "barpolar": [
           {
            "marker": {
             "line": {
              "color": "white",
              "width": 0.5
             },
             "pattern": {
              "fillmode": "overlay",
              "size": 10,
              "solidity": 0.2
             }
            },
            "type": "barpolar"
           }
          ],
          "carpet": [
           {
            "aaxis": {
             "endlinecolor": "#2a3f5f",
             "gridcolor": "#C8D4E3",
             "linecolor": "#C8D4E3",
             "minorgridcolor": "#C8D4E3",
             "startlinecolor": "#2a3f5f"
            },
            "baxis": {
             "endlinecolor": "#2a3f5f",
             "gridcolor": "#C8D4E3",
             "linecolor": "#C8D4E3",
             "minorgridcolor": "#C8D4E3",
             "startlinecolor": "#2a3f5f"
            },
            "type": "carpet"
           }
          ],
          "choropleth": [
           {
            "colorbar": {
             "outlinewidth": 0,
             "ticks": ""
            },
            "type": "choropleth"
           }
          ],
          "contour": [
           {
            "colorbar": {
             "outlinewidth": 0,
             "ticks": ""
            },
            "colorscale": [
             [
              0,
              "#0d0887"
             ],
             [
              0.1111111111111111,
              "#46039f"
             ],
             [
              0.2222222222222222,
              "#7201a8"
             ],
             [
              0.3333333333333333,
              "#9c179e"
             ],
             [
              0.4444444444444444,
              "#bd3786"
             ],
             [
              0.5555555555555556,
              "#d8576b"
             ],
             [
              0.6666666666666666,
              "#ed7953"
             ],
             [
              0.7777777777777778,
              "#fb9f3a"
             ],
             [
              0.8888888888888888,
              "#fdca26"
             ],
             [
              1,
              "#f0f921"
             ]
            ],
            "type": "contour"
           }
          ],
          "contourcarpet": [
           {
            "colorbar": {
             "outlinewidth": 0,
             "ticks": ""
            },
            "type": "contourcarpet"
           }
          ],
          "heatmap": [
           {
            "colorbar": {
             "outlinewidth": 0,
             "ticks": ""
            },
            "colorscale": [
             [
              0,
              "#0d0887"
             ],
             [
              0.1111111111111111,
              "#46039f"
             ],
             [
              0.2222222222222222,
              "#7201a8"
             ],
             [
              0.3333333333333333,
              "#9c179e"
             ],
             [
              0.4444444444444444,
              "#bd3786"
             ],
             [
              0.5555555555555556,
              "#d8576b"
             ],
             [
              0.6666666666666666,
              "#ed7953"
             ],
             [
              0.7777777777777778,
              "#fb9f3a"
             ],
             [
              0.8888888888888888,
              "#fdca26"
             ],
             [
              1,
              "#f0f921"
             ]
            ],
            "type": "heatmap"
           }
          ],
          "heatmapgl": [
           {
            "colorbar": {
             "outlinewidth": 0,
             "ticks": ""
            },
            "colorscale": [
             [
              0,
              "#0d0887"
             ],
             [
              0.1111111111111111,
              "#46039f"
             ],
             [
              0.2222222222222222,
              "#7201a8"
             ],
             [
              0.3333333333333333,
              "#9c179e"
             ],
             [
              0.4444444444444444,
              "#bd3786"
             ],
             [
              0.5555555555555556,
              "#d8576b"
             ],
             [
              0.6666666666666666,
              "#ed7953"
             ],
             [
              0.7777777777777778,
              "#fb9f3a"
             ],
             [
              0.8888888888888888,
              "#fdca26"
             ],
             [
              1,
              "#f0f921"
             ]
            ],
            "type": "heatmapgl"
           }
          ],
          "histogram": [
           {
            "marker": {
             "pattern": {
              "fillmode": "overlay",
              "size": 10,
              "solidity": 0.2
             }
            },
            "type": "histogram"
           }
          ],
          "histogram2d": [
           {
            "colorbar": {
             "outlinewidth": 0,
             "ticks": ""
            },
            "colorscale": [
             [
              0,
              "#0d0887"
             ],
             [
              0.1111111111111111,
              "#46039f"
             ],
             [
              0.2222222222222222,
              "#7201a8"
             ],
             [
              0.3333333333333333,
              "#9c179e"
             ],
             [
              0.4444444444444444,
              "#bd3786"
             ],
             [
              0.5555555555555556,
              "#d8576b"
             ],
             [
              0.6666666666666666,
              "#ed7953"
             ],
             [
              0.7777777777777778,
              "#fb9f3a"
             ],
             [
              0.8888888888888888,
              "#fdca26"
             ],
             [
              1,
              "#f0f921"
             ]
            ],
            "type": "histogram2d"
           }
          ],
          "histogram2dcontour": [
           {
            "colorbar": {
             "outlinewidth": 0,
             "ticks": ""
            },
            "colorscale": [
             [
              0,
              "#0d0887"
             ],
             [
              0.1111111111111111,
              "#46039f"
             ],
             [
              0.2222222222222222,
              "#7201a8"
             ],
             [
              0.3333333333333333,
              "#9c179e"
             ],
             [
              0.4444444444444444,
              "#bd3786"
             ],
             [
              0.5555555555555556,
              "#d8576b"
             ],
             [
              0.6666666666666666,
              "#ed7953"
             ],
             [
              0.7777777777777778,
              "#fb9f3a"
             ],
             [
              0.8888888888888888,
              "#fdca26"
             ],
             [
              1,
              "#f0f921"
             ]
            ],
            "type": "histogram2dcontour"
           }
          ],
          "mesh3d": [
           {
            "colorbar": {
             "outlinewidth": 0,
             "ticks": ""
            },
            "type": "mesh3d"
           }
          ],
          "parcoords": [
           {
            "line": {
             "colorbar": {
              "outlinewidth": 0,
              "ticks": ""
             }
            },
            "type": "parcoords"
           }
          ],
          "pie": [
           {
            "automargin": true,
            "type": "pie"
           }
          ],
          "scatter": [
           {
            "marker": {
             "colorbar": {
              "outlinewidth": 0,
              "ticks": ""
             }
            },
            "type": "scatter"
           }
          ],
          "scatter3d": [
           {
            "line": {
             "colorbar": {
              "outlinewidth": 0,
              "ticks": ""
             }
            },
            "marker": {
             "colorbar": {
              "outlinewidth": 0,
              "ticks": ""
             }
            },
            "type": "scatter3d"
           }
          ],
          "scattercarpet": [
           {
            "marker": {
             "colorbar": {
              "outlinewidth": 0,
              "ticks": ""
             }
            },
            "type": "scattercarpet"
           }
          ],
          "scattergeo": [
           {
            "marker": {
             "colorbar": {
              "outlinewidth": 0,
              "ticks": ""
             }
            },
            "type": "scattergeo"
           }
          ],
          "scattergl": [
           {
            "marker": {
             "colorbar": {
              "outlinewidth": 0,
              "ticks": ""
             }
            },
            "type": "scattergl"
           }
          ],
          "scattermapbox": [
           {
            "marker": {
             "colorbar": {
              "outlinewidth": 0,
              "ticks": ""
             }
            },
            "type": "scattermapbox"
           }
          ],
          "scatterpolar": [
           {
            "marker": {
             "colorbar": {
              "outlinewidth": 0,
              "ticks": ""
             }
            },
            "type": "scatterpolar"
           }
          ],
          "scatterpolargl": [
           {
            "marker": {
             "colorbar": {
              "outlinewidth": 0,
              "ticks": ""
             }
            },
            "type": "scatterpolargl"
           }
          ],
          "scatterternary": [
           {
            "marker": {
             "colorbar": {
              "outlinewidth": 0,
              "ticks": ""
             }
            },
            "type": "scatterternary"
           }
          ],
          "surface": [
           {
            "colorbar": {
             "outlinewidth": 0,
             "ticks": ""
            },
            "colorscale": [
             [
              0,
              "#0d0887"
             ],
             [
              0.1111111111111111,
              "#46039f"
             ],
             [
              0.2222222222222222,
              "#7201a8"
             ],
             [
              0.3333333333333333,
              "#9c179e"
             ],
             [
              0.4444444444444444,
              "#bd3786"
             ],
             [
              0.5555555555555556,
              "#d8576b"
             ],
             [
              0.6666666666666666,
              "#ed7953"
             ],
             [
              0.7777777777777778,
              "#fb9f3a"
             ],
             [
              0.8888888888888888,
              "#fdca26"
             ],
             [
              1,
              "#f0f921"
             ]
            ],
            "type": "surface"
           }
          ],
          "table": [
           {
            "cells": {
             "fill": {
              "color": "#EBF0F8"
             },
             "line": {
              "color": "white"
             }
            },
            "header": {
             "fill": {
              "color": "#C8D4E3"
             },
             "line": {
              "color": "white"
             }
            },
            "type": "table"
           }
          ]
         },
         "layout": {
          "annotationdefaults": {
           "arrowcolor": "#2a3f5f",
           "arrowhead": 0,
           "arrowwidth": 1
          },
          "autotypenumbers": "strict",
          "coloraxis": {
           "colorbar": {
            "outlinewidth": 0,
            "ticks": ""
           }
          },
          "colorscale": {
           "diverging": [
            [
             0,
             "#8e0152"
            ],
            [
             0.1,
             "#c51b7d"
            ],
            [
             0.2,
             "#de77ae"
            ],
            [
             0.3,
             "#f1b6da"
            ],
            [
             0.4,
             "#fde0ef"
            ],
            [
             0.5,
             "#f7f7f7"
            ],
            [
             0.6,
             "#e6f5d0"
            ],
            [
             0.7,
             "#b8e186"
            ],
            [
             0.8,
             "#7fbc41"
            ],
            [
             0.9,
             "#4d9221"
            ],
            [
             1,
             "#276419"
            ]
           ],
           "sequential": [
            [
             0,
             "#0d0887"
            ],
            [
             0.1111111111111111,
             "#46039f"
            ],
            [
             0.2222222222222222,
             "#7201a8"
            ],
            [
             0.3333333333333333,
             "#9c179e"
            ],
            [
             0.4444444444444444,
             "#bd3786"
            ],
            [
             0.5555555555555556,
             "#d8576b"
            ],
            [
             0.6666666666666666,
             "#ed7953"
            ],
            [
             0.7777777777777778,
             "#fb9f3a"
            ],
            [
             0.8888888888888888,
             "#fdca26"
            ],
            [
             1,
             "#f0f921"
            ]
           ],
           "sequentialminus": [
            [
             0,
             "#0d0887"
            ],
            [
             0.1111111111111111,
             "#46039f"
            ],
            [
             0.2222222222222222,
             "#7201a8"
            ],
            [
             0.3333333333333333,
             "#9c179e"
            ],
            [
             0.4444444444444444,
             "#bd3786"
            ],
            [
             0.5555555555555556,
             "#d8576b"
            ],
            [
             0.6666666666666666,
             "#ed7953"
            ],
            [
             0.7777777777777778,
             "#fb9f3a"
            ],
            [
             0.8888888888888888,
             "#fdca26"
            ],
            [
             1,
             "#f0f921"
            ]
           ]
          },
          "colorway": [
           "#636efa",
           "#EF553B",
           "#00cc96",
           "#ab63fa",
           "#FFA15A",
           "#19d3f3",
           "#FF6692",
           "#B6E880",
           "#FF97FF",
           "#FECB52"
          ],
          "font": {
           "color": "#2a3f5f"
          },
          "geo": {
           "bgcolor": "white",
           "lakecolor": "white",
           "landcolor": "white",
           "showlakes": true,
           "showland": true,
           "subunitcolor": "#C8D4E3"
          },
          "hoverlabel": {
           "align": "left"
          },
          "hovermode": "closest",
          "mapbox": {
           "style": "light"
          },
          "paper_bgcolor": "white",
          "plot_bgcolor": "white",
          "polar": {
           "angularaxis": {
            "gridcolor": "#EBF0F8",
            "linecolor": "#EBF0F8",
            "ticks": ""
           },
           "bgcolor": "white",
           "radialaxis": {
            "gridcolor": "#EBF0F8",
            "linecolor": "#EBF0F8",
            "ticks": ""
           }
          },
          "scene": {
           "xaxis": {
            "backgroundcolor": "white",
            "gridcolor": "#DFE8F3",
            "gridwidth": 2,
            "linecolor": "#EBF0F8",
            "showbackground": true,
            "ticks": "",
            "zerolinecolor": "#EBF0F8"
           },
           "yaxis": {
            "backgroundcolor": "white",
            "gridcolor": "#DFE8F3",
            "gridwidth": 2,
            "linecolor": "#EBF0F8",
            "showbackground": true,
            "ticks": "",
            "zerolinecolor": "#EBF0F8"
           },
           "zaxis": {
            "backgroundcolor": "white",
            "gridcolor": "#DFE8F3",
            "gridwidth": 2,
            "linecolor": "#EBF0F8",
            "showbackground": true,
            "ticks": "",
            "zerolinecolor": "#EBF0F8"
           }
          },
          "shapedefaults": {
           "line": {
            "color": "#2a3f5f"
           }
          },
          "ternary": {
           "aaxis": {
            "gridcolor": "#DFE8F3",
            "linecolor": "#A2B1C6",
            "ticks": ""
           },
           "baxis": {
            "gridcolor": "#DFE8F3",
            "linecolor": "#A2B1C6",
            "ticks": ""
           },
           "bgcolor": "white",
           "caxis": {
            "gridcolor": "#DFE8F3",
            "linecolor": "#A2B1C6",
            "ticks": ""
           }
          },
          "title": {
           "x": 0.05
          },
          "xaxis": {
           "automargin": true,
           "gridcolor": "#EBF0F8",
           "linecolor": "#EBF0F8",
           "ticks": "",
           "title": {
            "standoff": 15
           },
           "zerolinecolor": "#EBF0F8",
           "zerolinewidth": 2
          },
          "yaxis": {
           "automargin": true,
           "gridcolor": "#EBF0F8",
           "linecolor": "#EBF0F8",
           "ticks": "",
           "title": {
            "standoff": 15
           },
           "zerolinecolor": "#EBF0F8",
           "zerolinewidth": 2
          }
         }
        },
        "title": {
         "text": "Average age over the years for Community 2"
        }
       }
      }
     },
     "metadata": {},
     "output_type": "display_data"
    }
   ],
   "source": [
    "fig = go.Figure()\n",
    "\n",
    "fig.add_trace(go.Bar( x=age_rolling2['year'], y=age_rolling2['rolling_average_age'],name = 'average age'))\n",
    "\n",
    "fig.update_layout(height = 600, title_text=\"Average age over the years for Community 2\")\n",
    "fig.update_layout(barmode = 'stack',template = 'plotly_white')\n",
    "\n",
    "fig.show()\n",
    "fig.write_html('C:/Users/Public/ADA2022/weloic.github.io/_includes/gender_2.html')"
   ]
  },
  {
   "cell_type": "markdown",
   "metadata": {},
   "source": [
    "# Genre of movies"
   ]
  },
  {
   "cell_type": "code",
   "execution_count": 396,
   "metadata": {},
   "outputs": [
    {
     "data": {
      "text/plain": [
       "363"
      ]
     },
     "execution_count": 396,
     "metadata": {},
     "output_type": "execute_result"
    }
   ],
   "source": [
    "len(Counter([x for y in all_movies['Movie_genres'].values for x in y]).most_common())"
   ]
  },
  {
   "cell_type": "markdown",
   "metadata": {},
   "source": [
    "### main genres in each community"
   ]
  },
  {
   "cell_type": "code",
   "execution_count": 397,
   "metadata": {},
   "outputs": [
    {
     "data": {
      "text/plain": [
       "<AxesSubplot:ylabel='genre'>"
      ]
     },
     "execution_count": 397,
     "metadata": {},
     "output_type": "execute_result"
    },
    {
     "data": {
      "image/png": "[encoded data removed]",
      "text/plain": [
       "<Figure size 1200x1200 with 2 Axes>"
      ]
     },
     "metadata": {},
     "output_type": "display_data"
    }
   ],
   "source": [
    "n = 7\n",
    "\n",
    "first_genres = pd.DataFrame(columns=['genre'])\n",
    "for i in range(1,21):\n",
    "    genres = Counter([x for y in vars()['datamov' + str(i)]['Movie_genres'].values for x in y]).most_common(n)\n",
    "    genres = pd.DataFrame(data=genres, columns=['genre',str(i)])\n",
    "    first_genres = first_genres.merge(genres,how='outer',on='genre')\n",
    "    normalization = len(vars()['datamov' + str(i)])\n",
    "    first_genres[str(i)]= first_genres[str(i)].apply(lambda x : x/normalization*100)\n",
    "\n",
    "first_genres.set_index(['genre'],inplace = True)\n",
    "plt.figure(figsize=(12,12))\n",
    "sns.heatmap(data=first_genres,cmap = 'summer_r',annot=True)"
   ]
  },
  {
   "cell_type": "code",
   "execution_count": 403,
   "metadata": {},
   "outputs": [
    {
     "data": {
      "application/vnd.plotly.v1+json": {
       "config": {
        "plotlyServerURL": "https://plot.ly"
       },
       "data": [
        {
         "coloraxis": "coloraxis",
         "hovertemplate": "x: %{x}<br>genre: %{y}<br>movies %: %{z}<extra></extra>",
         "name": "0",
         "texttemplate": "%{z:.0f}",
         "type": "heatmap",
         "x": [
          "1",
          "2",
          "3",
          "4",
          "5",
          "6",
          "7",
          "8",
          "9",
          "10",
          "11",
          "12",
          "13",
          "14",
          "15",
          "16",
          "17",
          "18",
          "19",
          "20"
         ],
         "xaxis": "x",
         "y": [
          "Drama",
          "Comedy",
          "Thriller",
          "Romance Film",
          "Action",
          "Black-and-white",
          "World cinema",
          "Bollywood",
          "Musical",
          "Chinese Movies",
          "Martial Arts Film",
          "Action/Adventure",
          "Family Film",
          "Animation",
          "Short Film",
          "Crime Fiction",
          "Japanese Movies",
          "Anime",
          "Fantasy",
          "Indie",
          "Silent film",
          "Slapstick",
          "Horror"
         ],
         "yaxis": "y",
         "z": [
          [
           52.682443315574275,
           49.17859035506094,
           58.53597392830283,
           54.977939765969694,
           52.92537313432836,
           null,
           24.416042309387397,
           48.9126559714795,
           63.09341500765697,
           56.09613130128957,
           null,
           66.85823754789271,
           33.900364520048605,
           56.15141955835961,
           46.04726976365118,
           null,
           16.86046511627907,
           59.46601941747572,
           28.125,
           63.983050847457626
          ],
          [
           41.9774501300954,
           29.093799682034977,
           null,
           30.750047957030503,
           null,
           null,
           44.601145879241955,
           40.677361853832444,
           31.03624298111281,
           13.892145369284878,
           null,
           30.65134099616858,
           52.36938031591738,
           null,
           47.02526487367563,
           44.29065743944637,
           62.4031007751938,
           null,
           41.07142857142857,
           17.372881355932204
          ],
          [
           24.47032585801016,
           null,
           null,
           22.558987147515825,
           null,
           null,
           null,
           28.235294117647058,
           26.2378764675855,
           12.778429073856975,
           null,
           18.29501915708812,
           null,
           null,
           24.449877750611247,
           null,
           null,
           null,
           null,
           22.88135593220339
          ],
          [
           21.01350514186594,
           20.76046634870164,
           28.378039608924542,
           19.41300594667178,
           22.597014925373134,
           null,
           null,
           null,
           25.01276161306789,
           16.94021101992966,
           null,
           23.18007662835249,
           null,
           null,
           null,
           null,
           null,
           null,
           null,
           null
          ],
          [
           19.26650972618015,
           16.30895601483837,
           21.584356981699674,
           17.264530980241705,
           21.402985074626866,
           42.50248262164846,
           null,
           27.094474153297682,
           18.529862174578867,
           22.743259085580306,
           38.996138996138995,
           null,
           null,
           19.242902208201894,
           23.145884270578648,
           null,
           null,
           null,
           21.875,
           19.06779661016949
          ],
          [
           null,
           30.564387917329093,
           null,
           null,
           null,
           null,
           null,
           null,
           null,
           null,
           null,
           null,
           39.85419198055893,
           null,
           null,
           56.05536332179931,
           65.89147286821705,
           77.66990291262135,
           null,
           null
          ],
          [
           null,
           null,
           39.05740787164703,
           null,
           18.507462686567163,
           46.4746772591857,
           null,
           null,
           null,
           null,
           null,
           29.310344827586203,
           null,
           47.3186119873817,
           null,
           null,
           null,
           null,
           null,
           17.796610169491526
          ],
          [
           null,
           null,
           26.999247931812487,
           null,
           null,
           null,
           null,
           null,
           null,
           null,
           null,
           null,
           null,
           null,
           null,
           null,
           null,
           null,
           null,
           null
          ],
          [
           null,
           null,
           null,
           null,
           13.253731343283581,
           null,
           null,
           null,
           null,
           null,
           null,
           null,
           null,
           null,
           null,
           null,
           null,
           null,
           null,
           null
          ],
          [
           null,
           null,
           null,
           null,
           null,
           82.32373386295929,
           null,
           null,
           null,
           null,
           null,
           null,
           null,
           null,
           null,
           null,
           null,
           null,
           null,
           null
          ],
          [
           null,
           null,
           null,
           null,
           null,
           37.835153922542204,
           null,
           null,
           null,
           null,
           null,
           null,
           null,
           null,
           null,
           null,
           null,
           null,
           null,
           null
          ],
          [
           null,
           null,
           null,
           null,
           null,
           35.55114200595829,
           null,
           null,
           null,
           null,
           null,
           null,
           null,
           19.873817034700316,
           20.048899755501225,
           null,
           null,
           null,
           null,
           null
          ],
          [
           null,
           null,
           null,
           null,
           null,
           null,
           37.6377258704275,
           null,
           null,
           null,
           null,
           null,
           null,
           null,
           null,
           null,
           null,
           null,
           null,
           null
          ],
          [
           null,
           null,
           null,
           null,
           null,
           null,
           37.5055090348171,
           null,
           null,
           null,
           70.27027027027027,
           null,
           null,
           null,
           null,
           null,
           null,
           null,
           null,
           null
          ],
          [
           null,
           null,
           null,
           null,
           null,
           null,
           22.38871749669458,
           null,
           null,
           null,
           null,
           null,
           22.114216281895505,
           null,
           null,
           31.66089965397924,
           44.96124031007752,
           65.53398058252428,
           null,
           null
          ],
          [
           null,
           null,
           null,
           null,
           null,
           null,
           null,
           22.174688057041,
           null,
           null,
           null,
           null,
           null,
           null,
           null,
           null,
           null,
           null,
           null,
           null
          ],
          [
           null,
           null,
           null,
           null,
           null,
           null,
           null,
           null,
           null,
           null,
           65.63706563706563,
           null,
           null,
           81.07255520504731,
           null,
           null,
           null,
           null,
           null,
           null
          ],
          [
           null,
           null,
           null,
           null,
           null,
           null,
           null,
           null,
           null,
           null,
           62.16216216216216,
           null,
           null,
           null,
           null,
           null,
           null,
           null,
           null,
           null
          ],
          [
           null,
           null,
           null,
           null,
           null,
           null,
           null,
           null,
           null,
           null,
           33.59073359073359,
           null,
           null,
           null,
           null,
           null,
           null,
           null,
           null,
           null
          ],
          [
           null,
           null,
           null,
           null,
           null,
           null,
           null,
           null,
           null,
           null,
           null,
           null,
           18.1044957472661,
           null,
           null,
           28.719723183391004,
           null,
           49.51456310679612,
           24.107142857142858,
           null
          ],
          [
           null,
           null,
           null,
           null,
           null,
           null,
           null,
           null,
           null,
           null,
           null,
           null,
           null,
           null,
           null,
           34.77508650519031,
           null,
           84.70873786407766,
           null,
           null
          ],
          [
           null,
           null,
           null,
           null,
           null,
           null,
           null,
           null,
           null,
           null,
           null,
           null,
           null,
           null,
           null,
           null,
           18.992248062015506,
           null,
           null,
           null
          ],
          [
           null,
           null,
           null,
           null,
           null,
           null,
           null,
           null,
           null,
           null,
           null,
           null,
           null,
           null,
           null,
           null,
           null,
           null,
           26.785714285714285,
           null
          ]
         ]
        }
       ],
       "layout": {
        "coloraxis": {
         "colorbar": {
          "title": {
           "text": "movies %"
          }
         },
         "colorscale": [
          [
           0,
           "rgb(237, 239, 93)"
          ],
          [
           0.16666666666666666,
           "rgb(169, 220, 103)"
          ],
          [
           0.3333333333333333,
           "rgb(110, 197, 116)"
          ],
          [
           0.5,
           "rgb(57, 171, 126)"
          ],
          [
           0.6666666666666666,
           "rgb(13, 143, 129)"
          ],
          [
           0.8333333333333334,
           "rgb(15, 114, 121)"
          ],
          [
           1,
           "rgb(36, 86, 104)"
          ]
         ]
        },
        "height": 1000,
        "margin": {
         "t": 60
        },
        "template": {
         "data": {
          "bar": [
           {
            "error_x": {
             "color": "#2a3f5f"
            },
            "error_y": {
             "color": "#2a3f5f"
            },
            "marker": {
             "line": {
              "color": "white",
              "width": 0.5
             },
             "pattern": {
              "fillmode": "overlay",
              "size": 10,
              "solidity": 0.2
             }
            },
            "type": "bar"
           }
          ],
          "barpolar": [
           {
            "marker": {
             "line": {
              "color": "white",
              "width": 0.5
             },
             "pattern": {
              "fillmode": "overlay",
              "size": 10,
              "solidity": 0.2
             }
            },
            "type": "barpolar"
           }
          ],
          "carpet": [
           {
            "aaxis": {
             "endlinecolor": "#2a3f5f",
             "gridcolor": "#C8D4E3",
             "linecolor": "#C8D4E3",
             "minorgridcolor": "#C8D4E3",
             "startlinecolor": "#2a3f5f"
            },
            "baxis": {
             "endlinecolor": "#2a3f5f",
             "gridcolor": "#C8D4E3",
             "linecolor": "#C8D4E3",
             "minorgridcolor": "#C8D4E3",
             "startlinecolor": "#2a3f5f"
            },
            "type": "carpet"
           }
          ],
          "choropleth": [
           {
            "colorbar": {
             "outlinewidth": 0,
             "ticks": ""
            },
            "type": "choropleth"
           }
          ],
          "contour": [
           {
            "colorbar": {
             "outlinewidth": 0,
             "ticks": ""
            },
            "colorscale": [
             [
              0,
              "#0d0887"
             ],
             [
              0.1111111111111111,
              "#46039f"
             ],
             [
              0.2222222222222222,
              "#7201a8"
             ],
             [
              0.3333333333333333,
              "#9c179e"
             ],
             [
              0.4444444444444444,
              "#bd3786"
             ],
             [
              0.5555555555555556,
              "#d8576b"
             ],
             [
              0.6666666666666666,
              "#ed7953"
             ],
             [
              0.7777777777777778,
              "#fb9f3a"
             ],
             [
              0.8888888888888888,
              "#fdca26"
             ],
             [
              1,
              "#f0f921"
             ]
            ],
            "type": "contour"
           }
          ],
          "contourcarpet": [
           {
            "colorbar": {
             "outlinewidth": 0,
             "ticks": ""
            },
            "type": "contourcarpet"
           }
          ],
          "heatmap": [
           {
            "colorbar": {
             "outlinewidth": 0,
             "ticks": ""
            },
            "colorscale": [
             [
              0,
              "#0d0887"
             ],
             [
              0.1111111111111111,
              "#46039f"
             ],
             [
              0.2222222222222222,
              "#7201a8"
             ],
             [
              0.3333333333333333,
              "#9c179e"
             ],
             [
              0.4444444444444444,
              "#bd3786"
             ],
             [
              0.5555555555555556,
              "#d8576b"
             ],
             [
              0.6666666666666666,
              "#ed7953"
             ],
             [
              0.7777777777777778,
              "#fb9f3a"
             ],
             [
              0.8888888888888888,
              "#fdca26"
             ],
             [
              1,
              "#f0f921"
             ]
            ],
            "type": "heatmap"
           }
          ],
          "heatmapgl": [
           {
            "colorbar": {
             "outlinewidth": 0,
             "ticks": ""
            },
            "colorscale": [
             [
              0,
              "#0d0887"
             ],
             [
              0.1111111111111111,
              "#46039f"
             ],
             [
              0.2222222222222222,
              "#7201a8"
             ],
             [
              0.3333333333333333,
              "#9c179e"
             ],
             [
              0.4444444444444444,
              "#bd3786"
             ],
             [
              0.5555555555555556,
              "#d8576b"
             ],
             [
              0.6666666666666666,
              "#ed7953"
             ],
             [
              0.7777777777777778,
              "#fb9f3a"
             ],
             [
              0.8888888888888888,
              "#fdca26"
             ],
             [
              1,
              "#f0f921"
             ]
            ],
            "type": "heatmapgl"
           }
          ],
          "histogram": [
           {
            "marker": {
             "pattern": {
              "fillmode": "overlay",
              "size": 10,
              "solidity": 0.2
             }
            },
            "type": "histogram"
           }
          ],
          "histogram2d": [
           {
            "colorbar": {
             "outlinewidth": 0,
             "ticks": ""
            },
            "colorscale": [
             [
              0,
              "#0d0887"
             ],
             [
              0.1111111111111111,
              "#46039f"
             ],
             [
              0.2222222222222222,
              "#7201a8"
             ],
             [
              0.3333333333333333,
              "#9c179e"
             ],
             [
              0.4444444444444444,
              "#bd3786"
             ],
             [
              0.5555555555555556,
              "#d8576b"
             ],
             [
              0.6666666666666666,
              "#ed7953"
             ],
             [
              0.7777777777777778,
              "#fb9f3a"
             ],
             [
              0.8888888888888888,
              "#fdca26"
             ],
             [
              1,
              "#f0f921"
             ]
            ],
            "type": "histogram2d"
           }
          ],
          "histogram2dcontour": [
           {
            "colorbar": {
             "outlinewidth": 0,
             "ticks": ""
            },
            "colorscale": [
             [
              0,
              "#0d0887"
             ],
             [
              0.1111111111111111,
              "#46039f"
             ],
             [
              0.2222222222222222,
              "#7201a8"
             ],
             [
              0.3333333333333333,
              "#9c179e"
             ],
             [
              0.4444444444444444,
              "#bd3786"
             ],
             [
              0.5555555555555556,
              "#d8576b"
             ],
             [
              0.6666666666666666,
              "#ed7953"
             ],
             [
              0.7777777777777778,
              "#fb9f3a"
             ],
             [
              0.8888888888888888,
              "#fdca26"
             ],
             [
              1,
              "#f0f921"
             ]
            ],
            "type": "histogram2dcontour"
           }
          ],
          "mesh3d": [
           {
            "colorbar": {
             "outlinewidth": 0,
             "ticks": ""
            },
            "type": "mesh3d"
           }
          ],
          "parcoords": [
           {
            "line": {
             "colorbar": {
              "outlinewidth": 0,
              "ticks": ""
             }
            },
            "type": "parcoords"
           }
          ],
          "pie": [
           {
            "automargin": true,
            "type": "pie"
           }
          ],
          "scatter": [
           {
            "marker": {
             "colorbar": {
              "outlinewidth": 0,
              "ticks": ""
             }
            },
            "type": "scatter"
           }
          ],
          "scatter3d": [
           {
            "line": {
             "colorbar": {
              "outlinewidth": 0,
              "ticks": ""
             }
            },
            "marker": {
             "colorbar": {
              "outlinewidth": 0,
              "ticks": ""
             }
            },
            "type": "scatter3d"
           }
          ],
          "scattercarpet": [
           {
            "marker": {
             "colorbar": {
              "outlinewidth": 0,
              "ticks": ""
             }
            },
            "type": "scattercarpet"
           }
          ],
          "scattergeo": [
           {
            "marker": {
             "colorbar": {
              "outlinewidth": 0,
              "ticks": ""
             }
            },
            "type": "scattergeo"
           }
          ],
          "scattergl": [
           {
            "marker": {
             "colorbar": {
              "outlinewidth": 0,
              "ticks": ""
             }
            },
            "type": "scattergl"
           }
          ],
          "scattermapbox": [
           {
            "marker": {
             "colorbar": {
              "outlinewidth": 0,
              "ticks": ""
             }
            },
            "type": "scattermapbox"
           }
          ],
          "scatterpolar": [
           {
            "marker": {
             "colorbar": {
              "outlinewidth": 0,
              "ticks": ""
             }
            },
            "type": "scatterpolar"
           }
          ],
          "scatterpolargl": [
           {
            "marker": {
             "colorbar": {
              "outlinewidth": 0,
              "ticks": ""
             }
            },
            "type": "scatterpolargl"
           }
          ],
          "scatterternary": [
           {
            "marker": {
             "colorbar": {
              "outlinewidth": 0,
              "ticks": ""
             }
            },
            "type": "scatterternary"
           }
          ],
          "surface": [
           {
            "colorbar": {
             "outlinewidth": 0,
             "ticks": ""
            },
            "colorscale": [
             [
              0,
              "#0d0887"
             ],
             [
              0.1111111111111111,
              "#46039f"
             ],
             [
              0.2222222222222222,
              "#7201a8"
             ],
             [
              0.3333333333333333,
              "#9c179e"
             ],
             [
              0.4444444444444444,
              "#bd3786"
             ],
             [
              0.5555555555555556,
              "#d8576b"
             ],
             [
              0.6666666666666666,
              "#ed7953"
             ],
             [
              0.7777777777777778,
              "#fb9f3a"
             ],
             [
              0.8888888888888888,
              "#fdca26"
             ],
             [
              1,
              "#f0f921"
             ]
            ],
            "type": "surface"
           }
          ],
          "table": [
           {
            "cells": {
             "fill": {
              "color": "#EBF0F8"
             },
             "line": {
              "color": "white"
             }
            },
            "header": {
             "fill": {
              "color": "#C8D4E3"
             },
             "line": {
              "color": "white"
             }
            },
            "type": "table"
           }
          ]
         },
         "layout": {
          "annotationdefaults": {
           "arrowcolor": "#2a3f5f",
           "arrowhead": 0,
           "arrowwidth": 1
          },
          "autotypenumbers": "strict",
          "coloraxis": {
           "colorbar": {
            "outlinewidth": 0,
            "ticks": ""
           }
          },
          "colorscale": {
           "diverging": [
            [
             0,
             "#8e0152"
            ],
            [
             0.1,
             "#c51b7d"
            ],
            [
             0.2,
             "#de77ae"
            ],
            [
             0.3,
             "#f1b6da"
            ],
            [
             0.4,
             "#fde0ef"
            ],
            [
             0.5,
             "#f7f7f7"
            ],
            [
             0.6,
             "#e6f5d0"
            ],
            [
             0.7,
             "#b8e186"
            ],
            [
             0.8,
             "#7fbc41"
            ],
            [
             0.9,
             "#4d9221"
            ],
            [
             1,
             "#276419"
            ]
           ],
           "sequential": [
            [
             0,
             "#0d0887"
            ],
            [
             0.1111111111111111,
             "#46039f"
            ],
            [
             0.2222222222222222,
             "#7201a8"
            ],
            [
             0.3333333333333333,
             "#9c179e"
            ],
            [
             0.4444444444444444,
             "#bd3786"
            ],
            [
             0.5555555555555556,
             "#d8576b"
            ],
            [
             0.6666666666666666,
             "#ed7953"
            ],
            [
             0.7777777777777778,
             "#fb9f3a"
            ],
            [
             0.8888888888888888,
             "#fdca26"
            ],
            [
             1,
             "#f0f921"
            ]
           ],
           "sequentialminus": [
            [
             0,
             "#0d0887"
            ],
            [
             0.1111111111111111,
             "#46039f"
            ],
            [
             0.2222222222222222,
             "#7201a8"
            ],
            [
             0.3333333333333333,
             "#9c179e"
            ],
            [
             0.4444444444444444,
             "#bd3786"
            ],
            [
             0.5555555555555556,
             "#d8576b"
            ],
            [
             0.6666666666666666,
             "#ed7953"
            ],
            [
             0.7777777777777778,
             "#fb9f3a"
            ],
            [
             0.8888888888888888,
             "#fdca26"
            ],
            [
             1,
             "#f0f921"
            ]
           ]
          },
          "colorway": [
           "#636efa",
           "#EF553B",
           "#00cc96",
           "#ab63fa",
           "#FFA15A",
           "#19d3f3",
           "#FF6692",
           "#B6E880",
           "#FF97FF",
           "#FECB52"
          ],
          "font": {
           "color": "#2a3f5f"
          },
          "geo": {
           "bgcolor": "white",
           "lakecolor": "white",
           "landcolor": "white",
           "showlakes": true,
           "showland": true,
           "subunitcolor": "#C8D4E3"
          },
          "hoverlabel": {
           "align": "left"
          },
          "hovermode": "closest",
          "mapbox": {
           "style": "light"
          },
          "paper_bgcolor": "white",
          "plot_bgcolor": "white",
          "polar": {
           "angularaxis": {
            "gridcolor": "#EBF0F8",
            "linecolor": "#EBF0F8",
            "ticks": ""
           },
           "bgcolor": "white",
           "radialaxis": {
            "gridcolor": "#EBF0F8",
            "linecolor": "#EBF0F8",
            "ticks": ""
           }
          },
          "scene": {
           "xaxis": {
            "backgroundcolor": "white",
            "gridcolor": "#DFE8F3",
            "gridwidth": 2,
            "linecolor": "#EBF0F8",
            "showbackground": true,
            "ticks": "",
            "zerolinecolor": "#EBF0F8"
           },
           "yaxis": {
            "backgroundcolor": "white",
            "gridcolor": "#DFE8F3",
            "gridwidth": 2,
            "linecolor": "#EBF0F8",
            "showbackground": true,
            "ticks": "",
            "zerolinecolor": "#EBF0F8"
           },
           "zaxis": {
            "backgroundcolor": "white",
            "gridcolor": "#DFE8F3",
            "gridwidth": 2,
            "linecolor": "#EBF0F8",
            "showbackground": true,
            "ticks": "",
            "zerolinecolor": "#EBF0F8"
           }
          },
          "shapedefaults": {
           "line": {
            "color": "#2a3f5f"
           }
          },
          "ternary": {
           "aaxis": {
            "gridcolor": "#DFE8F3",
            "linecolor": "#A2B1C6",
            "ticks": ""
           },
           "baxis": {
            "gridcolor": "#DFE8F3",
            "linecolor": "#A2B1C6",
            "ticks": ""
           },
           "bgcolor": "white",
           "caxis": {
            "gridcolor": "#DFE8F3",
            "linecolor": "#A2B1C6",
            "ticks": ""
           }
          },
          "title": {
           "x": 0.05
          },
          "xaxis": {
           "automargin": true,
           "gridcolor": "#EBF0F8",
           "linecolor": "#EBF0F8",
           "ticks": "",
           "title": {
            "standoff": 15
           },
           "zerolinecolor": "#EBF0F8",
           "zerolinewidth": 2
          },
          "yaxis": {
           "automargin": true,
           "gridcolor": "#EBF0F8",
           "linecolor": "#EBF0F8",
           "ticks": "",
           "title": {
            "standoff": 15
           },
           "zerolinecolor": "#EBF0F8",
           "zerolinewidth": 2
          }
         }
        },
        "title": {
         "text": "Genre appearance in movies"
        },
        "xaxis": {
         "anchor": "y",
         "constrain": "domain",
         "domain": [
          0,
          1
         ],
         "scaleanchor": "y",
         "title": {
          "text": "Community"
         }
        },
        "yaxis": {
         "anchor": "x",
         "autorange": "reversed",
         "constrain": "domain",
         "domain": [
          0,
          1
         ],
         "title": {
          "text": "Release year"
         }
        }
       }
      }
     },
     "metadata": {},
     "output_type": "display_data"
    }
   ],
   "source": [
    "n = 5\n",
    "\n",
    "first_genres = pd.DataFrame(columns=['genre'])\n",
    "for i in range(1,21):\n",
    "    genres = Counter([x for y in vars()['datamov' + str(i)]['Movie_genres'].values for x in y]).most_common(n)\n",
    "    genres = pd.DataFrame(data=genres, columns=['genre',str(i)])\n",
    "    first_genres = first_genres.merge(genres,how='outer',on='genre')\n",
    "    normalization = len(vars()['datamov' + str(i)])\n",
    "    first_genres[str(i)]= first_genres[str(i)].apply(lambda x : x/normalization*100)\n",
    "\n",
    "first_genres.set_index(['genre'],inplace = True)\n",
    "\n",
    "fig = px.imshow(first_genres,color_continuous_scale  = 'Aggrnyl_r',labels={'color':'movies %'},text_auto='.0f')\n",
    "fig.update_yaxes(title = 'Release year')\n",
    "fig.update_xaxes(title = 'Community')\n",
    "fig.update_layout(title = 'Genre appearance in movies', template = 'plotly_white',height = 1000)\n",
    "fig.show()\n",
    "fig.write_html('C:/Users/Public/ADA2022/weloic.github.io/_includes/movies_genres_matrix.html')"
   ]
  },
  {
   "cell_type": "code",
   "execution_count": 404,
   "metadata": {},
   "outputs": [
    {
     "data": {
      "text/html": [
       "<div>\n",
       "<style scoped>\n",
       "    .dataframe tbody tr th:only-of-type {\n",
       "        vertical-align: middle;\n",
       "    }\n",
       "\n",
       "    .dataframe tbody tr th {\n",
       "        vertical-align: top;\n",
       "    }\n",
       "\n",
       "    .dataframe thead th {\n",
       "        text-align: right;\n",
       "    }\n",
       "</style>\n",
       "<table border=\"1\" class=\"dataframe\">\n",
       "  <thead>\n",
       "    <tr style=\"text-align: right;\">\n",
       "      <th></th>\n",
       "      <th>Wikipedia_movie_ID</th>\n",
       "      <th>Freebase_movie_ID</th>\n",
       "      <th>Movie_name</th>\n",
       "      <th>Movie_languages</th>\n",
       "      <th>Movie_countries</th>\n",
       "      <th>Movie_genres</th>\n",
       "      <th>Movie_release_year</th>\n",
       "      <th>1</th>\n",
       "      <th>2</th>\n",
       "      <th>3</th>\n",
       "      <th>...</th>\n",
       "      <th>11</th>\n",
       "      <th>12</th>\n",
       "      <th>13</th>\n",
       "      <th>14</th>\n",
       "      <th>15</th>\n",
       "      <th>16</th>\n",
       "      <th>17</th>\n",
       "      <th>18</th>\n",
       "      <th>19</th>\n",
       "      <th>20</th>\n",
       "    </tr>\n",
       "  </thead>\n",
       "  <tbody>\n",
       "    <tr>\n",
       "      <th>101</th>\n",
       "      <td>14739568</td>\n",
       "      <td>/m/03gw63h</td>\n",
       "      <td>Hula-La-La</td>\n",
       "      <td>[English Language]</td>\n",
       "      <td>[United States of America]</td>\n",
       "      <td>[Short Film, Comedy, Black-and-white, Slapstick]</td>\n",
       "      <td>1951.0</td>\n",
       "      <td>0.0</td>\n",
       "      <td>0.0</td>\n",
       "      <td>0.0</td>\n",
       "      <td>...</td>\n",
       "      <td>0.0</td>\n",
       "      <td>0.0</td>\n",
       "      <td>0.0</td>\n",
       "      <td>0.0</td>\n",
       "      <td>0.0</td>\n",
       "      <td>0.0</td>\n",
       "      <td>6.0</td>\n",
       "      <td>0.0</td>\n",
       "      <td>0.0</td>\n",
       "      <td>0.0</td>\n",
       "    </tr>\n",
       "    <tr>\n",
       "      <th>114</th>\n",
       "      <td>21236198</td>\n",
       "      <td>/m/05c4c72</td>\n",
       "      <td>Thief of Damascus</td>\n",
       "      <td>[English Language]</td>\n",
       "      <td>[United States of America]</td>\n",
       "      <td>[Romance Film, Fantasy, Adventure]</td>\n",
       "      <td>1952.0</td>\n",
       "      <td>0.0</td>\n",
       "      <td>2.0</td>\n",
       "      <td>0.0</td>\n",
       "      <td>...</td>\n",
       "      <td>0.0</td>\n",
       "      <td>0.0</td>\n",
       "      <td>0.0</td>\n",
       "      <td>0.0</td>\n",
       "      <td>0.0</td>\n",
       "      <td>0.0</td>\n",
       "      <td>1.0</td>\n",
       "      <td>0.0</td>\n",
       "      <td>0.0</td>\n",
       "      <td>0.0</td>\n",
       "    </tr>\n",
       "    <tr>\n",
       "      <th>174</th>\n",
       "      <td>44218</td>\n",
       "      <td>/m/0c1p3</td>\n",
       "      <td>San Francisco</td>\n",
       "      <td>[English Language]</td>\n",
       "      <td>[United States of America]</td>\n",
       "      <td>[Disaster, Romance Film, Drama, Natural disast...</td>\n",
       "      <td>1936.0</td>\n",
       "      <td>0.0</td>\n",
       "      <td>7.0</td>\n",
       "      <td>0.0</td>\n",
       "      <td>...</td>\n",
       "      <td>0.0</td>\n",
       "      <td>0.0</td>\n",
       "      <td>0.0</td>\n",
       "      <td>0.0</td>\n",
       "      <td>0.0</td>\n",
       "      <td>1.0</td>\n",
       "      <td>1.0</td>\n",
       "      <td>0.0</td>\n",
       "      <td>0.0</td>\n",
       "      <td>0.0</td>\n",
       "    </tr>\n",
       "    <tr>\n",
       "      <th>243</th>\n",
       "      <td>24051028</td>\n",
       "      <td>/m/07kgp1w</td>\n",
       "      <td>No Time for Sergeants</td>\n",
       "      <td>[English Language]</td>\n",
       "      <td>[United States of America]</td>\n",
       "      <td>[Slapstick, Drama, Comedy, Black-and-white, Fi...</td>\n",
       "      <td>1958.0</td>\n",
       "      <td>0.0</td>\n",
       "      <td>2.0</td>\n",
       "      <td>0.0</td>\n",
       "      <td>...</td>\n",
       "      <td>0.0</td>\n",
       "      <td>0.0</td>\n",
       "      <td>0.0</td>\n",
       "      <td>0.0</td>\n",
       "      <td>0.0</td>\n",
       "      <td>0.0</td>\n",
       "      <td>1.0</td>\n",
       "      <td>0.0</td>\n",
       "      <td>0.0</td>\n",
       "      <td>0.0</td>\n",
       "    </tr>\n",
       "    <tr>\n",
       "      <th>244</th>\n",
       "      <td>14734420</td>\n",
       "      <td>/m/03gvzxy</td>\n",
       "      <td>Pies and Guys</td>\n",
       "      <td>[English Language]</td>\n",
       "      <td>[United States of America]</td>\n",
       "      <td>[Short Film, Comedy, Black-and-white]</td>\n",
       "      <td>1958.0</td>\n",
       "      <td>0.0</td>\n",
       "      <td>1.0</td>\n",
       "      <td>0.0</td>\n",
       "      <td>...</td>\n",
       "      <td>0.0</td>\n",
       "      <td>0.0</td>\n",
       "      <td>0.0</td>\n",
       "      <td>0.0</td>\n",
       "      <td>0.0</td>\n",
       "      <td>0.0</td>\n",
       "      <td>7.0</td>\n",
       "      <td>0.0</td>\n",
       "      <td>0.0</td>\n",
       "      <td>0.0</td>\n",
       "    </tr>\n",
       "    <tr>\n",
       "      <th>...</th>\n",
       "      <td>...</td>\n",
       "      <td>...</td>\n",
       "      <td>...</td>\n",
       "      <td>...</td>\n",
       "      <td>...</td>\n",
       "      <td>...</td>\n",
       "      <td>...</td>\n",
       "      <td>...</td>\n",
       "      <td>...</td>\n",
       "      <td>...</td>\n",
       "      <td>...</td>\n",
       "      <td>...</td>\n",
       "      <td>...</td>\n",
       "      <td>...</td>\n",
       "      <td>...</td>\n",
       "      <td>...</td>\n",
       "      <td>...</td>\n",
       "      <td>...</td>\n",
       "      <td>...</td>\n",
       "      <td>...</td>\n",
       "      <td>...</td>\n",
       "    </tr>\n",
       "    <tr>\n",
       "      <th>27113</th>\n",
       "      <td>8004497</td>\n",
       "      <td>/m/026n72t</td>\n",
       "      <td>Rhythm and Weep</td>\n",
       "      <td>[English Language]</td>\n",
       "      <td>[United States of America]</td>\n",
       "      <td>[Short Film, Comedy, Black-and-white, Slapstick]</td>\n",
       "      <td>1946.0</td>\n",
       "      <td>0.0</td>\n",
       "      <td>0.0</td>\n",
       "      <td>0.0</td>\n",
       "      <td>...</td>\n",
       "      <td>0.0</td>\n",
       "      <td>0.0</td>\n",
       "      <td>0.0</td>\n",
       "      <td>0.0</td>\n",
       "      <td>0.0</td>\n",
       "      <td>0.0</td>\n",
       "      <td>5.0</td>\n",
       "      <td>0.0</td>\n",
       "      <td>0.0</td>\n",
       "      <td>0.0</td>\n",
       "    </tr>\n",
       "    <tr>\n",
       "      <th>27137</th>\n",
       "      <td>3941009</td>\n",
       "      <td>/m/0b7v0f</td>\n",
       "      <td>The Man They Could Not Hang</td>\n",
       "      <td>[English Language]</td>\n",
       "      <td>[United States of America]</td>\n",
       "      <td>[Horror, Black-and-white]</td>\n",
       "      <td>1939.0</td>\n",
       "      <td>0.0</td>\n",
       "      <td>2.0</td>\n",
       "      <td>0.0</td>\n",
       "      <td>...</td>\n",
       "      <td>0.0</td>\n",
       "      <td>0.0</td>\n",
       "      <td>0.0</td>\n",
       "      <td>0.0</td>\n",
       "      <td>0.0</td>\n",
       "      <td>0.0</td>\n",
       "      <td>1.0</td>\n",
       "      <td>0.0</td>\n",
       "      <td>0.0</td>\n",
       "      <td>0.0</td>\n",
       "    </tr>\n",
       "    <tr>\n",
       "      <th>27146</th>\n",
       "      <td>6736424</td>\n",
       "      <td>/m/0glc67</td>\n",
       "      <td>Beer and Pretzels</td>\n",
       "      <td>[English Language]</td>\n",
       "      <td>[United States of America]</td>\n",
       "      <td>[Short Film, Screwball comedy, Comedy of manne...</td>\n",
       "      <td>1933.0</td>\n",
       "      <td>0.0</td>\n",
       "      <td>1.0</td>\n",
       "      <td>0.0</td>\n",
       "      <td>...</td>\n",
       "      <td>0.0</td>\n",
       "      <td>0.0</td>\n",
       "      <td>0.0</td>\n",
       "      <td>0.0</td>\n",
       "      <td>0.0</td>\n",
       "      <td>0.0</td>\n",
       "      <td>6.0</td>\n",
       "      <td>0.0</td>\n",
       "      <td>0.0</td>\n",
       "      <td>0.0</td>\n",
       "    </tr>\n",
       "    <tr>\n",
       "      <th>27155</th>\n",
       "      <td>14738984</td>\n",
       "      <td>/m/03gw5m9</td>\n",
       "      <td>Studio Stoops</td>\n",
       "      <td>[English Language]</td>\n",
       "      <td>[United States of America]</td>\n",
       "      <td>[Short Film, Comedy, Black-and-white]</td>\n",
       "      <td>1950.0</td>\n",
       "      <td>0.0</td>\n",
       "      <td>0.0</td>\n",
       "      <td>0.0</td>\n",
       "      <td>...</td>\n",
       "      <td>0.0</td>\n",
       "      <td>0.0</td>\n",
       "      <td>0.0</td>\n",
       "      <td>0.0</td>\n",
       "      <td>0.0</td>\n",
       "      <td>0.0</td>\n",
       "      <td>8.0</td>\n",
       "      <td>0.0</td>\n",
       "      <td>0.0</td>\n",
       "      <td>0.0</td>\n",
       "    </tr>\n",
       "    <tr>\n",
       "      <th>27216</th>\n",
       "      <td>12696181</td>\n",
       "      <td>/m/02x0vdb</td>\n",
       "      <td>Pest from the West</td>\n",
       "      <td>[English Language]</td>\n",
       "      <td>[United States of America]</td>\n",
       "      <td>[Short Film, Comedy, Black-and-white]</td>\n",
       "      <td>1939.0</td>\n",
       "      <td>0.0</td>\n",
       "      <td>0.0</td>\n",
       "      <td>0.0</td>\n",
       "      <td>...</td>\n",
       "      <td>0.0</td>\n",
       "      <td>0.0</td>\n",
       "      <td>0.0</td>\n",
       "      <td>0.0</td>\n",
       "      <td>0.0</td>\n",
       "      <td>1.0</td>\n",
       "      <td>6.0</td>\n",
       "      <td>0.0</td>\n",
       "      <td>0.0</td>\n",
       "      <td>0.0</td>\n",
       "    </tr>\n",
       "  </tbody>\n",
       "</table>\n",
       "<p>516 rows × 27 columns</p>\n",
       "</div>"
      ],
      "text/plain": [
       "       Wikipedia_movie_ID Freebase_movie_ID                   Movie_name  \\\n",
       "101              14739568        /m/03gw63h                   Hula-La-La   \n",
       "114              21236198        /m/05c4c72            Thief of Damascus   \n",
       "174                 44218          /m/0c1p3                San Francisco   \n",
       "243              24051028        /m/07kgp1w        No Time for Sergeants   \n",
       "244              14734420        /m/03gvzxy                Pies and Guys   \n",
       "...                   ...               ...                          ...   \n",
       "27113             8004497        /m/026n72t              Rhythm and Weep   \n",
       "27137             3941009         /m/0b7v0f  The Man They Could Not Hang   \n",
       "27146             6736424         /m/0glc67            Beer and Pretzels   \n",
       "27155            14738984        /m/03gw5m9                Studio Stoops   \n",
       "27216            12696181        /m/02x0vdb           Pest from the West   \n",
       "\n",
       "          Movie_languages             Movie_countries  \\\n",
       "101    [English Language]  [United States of America]   \n",
       "114    [English Language]  [United States of America]   \n",
       "174    [English Language]  [United States of America]   \n",
       "243    [English Language]  [United States of America]   \n",
       "244    [English Language]  [United States of America]   \n",
       "...                   ...                         ...   \n",
       "27113  [English Language]  [United States of America]   \n",
       "27137  [English Language]  [United States of America]   \n",
       "27146  [English Language]  [United States of America]   \n",
       "27155  [English Language]  [United States of America]   \n",
       "27216  [English Language]  [United States of America]   \n",
       "\n",
       "                                            Movie_genres  Movie_release_year  \\\n",
       "101     [Short Film, Comedy, Black-and-white, Slapstick]              1951.0   \n",
       "114                   [Romance Film, Fantasy, Adventure]              1952.0   \n",
       "174    [Disaster, Romance Film, Drama, Natural disast...              1936.0   \n",
       "243    [Slapstick, Drama, Comedy, Black-and-white, Fi...              1958.0   \n",
       "244                [Short Film, Comedy, Black-and-white]              1958.0   \n",
       "...                                                  ...                 ...   \n",
       "27113   [Short Film, Comedy, Black-and-white, Slapstick]              1946.0   \n",
       "27137                          [Horror, Black-and-white]              1939.0   \n",
       "27146  [Short Film, Screwball comedy, Comedy of manne...              1933.0   \n",
       "27155              [Short Film, Comedy, Black-and-white]              1950.0   \n",
       "27216              [Short Film, Comedy, Black-and-white]              1939.0   \n",
       "\n",
       "         1    2    3  ...   11   12   13   14   15   16   17   18   19   20  \n",
       "101    0.0  0.0  0.0  ...  0.0  0.0  0.0  0.0  0.0  0.0  6.0  0.0  0.0  0.0  \n",
       "114    0.0  2.0  0.0  ...  0.0  0.0  0.0  0.0  0.0  0.0  1.0  0.0  0.0  0.0  \n",
       "174    0.0  7.0  0.0  ...  0.0  0.0  0.0  0.0  0.0  1.0  1.0  0.0  0.0  0.0  \n",
       "243    0.0  2.0  0.0  ...  0.0  0.0  0.0  0.0  0.0  0.0  1.0  0.0  0.0  0.0  \n",
       "244    0.0  1.0  0.0  ...  0.0  0.0  0.0  0.0  0.0  0.0  7.0  0.0  0.0  0.0  \n",
       "...    ...  ...  ...  ...  ...  ...  ...  ...  ...  ...  ...  ...  ...  ...  \n",
       "27113  0.0  0.0  0.0  ...  0.0  0.0  0.0  0.0  0.0  0.0  5.0  0.0  0.0  0.0  \n",
       "27137  0.0  2.0  0.0  ...  0.0  0.0  0.0  0.0  0.0  0.0  1.0  0.0  0.0  0.0  \n",
       "27146  0.0  1.0  0.0  ...  0.0  0.0  0.0  0.0  0.0  0.0  6.0  0.0  0.0  0.0  \n",
       "27155  0.0  0.0  0.0  ...  0.0  0.0  0.0  0.0  0.0  0.0  8.0  0.0  0.0  0.0  \n",
       "27216  0.0  0.0  0.0  ...  0.0  0.0  0.0  0.0  0.0  1.0  6.0  0.0  0.0  0.0  \n",
       "\n",
       "[516 rows x 27 columns]"
      ]
     },
     "execution_count": 404,
     "metadata": {},
     "output_type": "execute_result"
    }
   ],
   "source": [
    "datamov17"
   ]
  }
 ],
 "metadata": {
  "kernelspec": {
   "display_name": "base",
   "language": "python",
   "name": "python3"
  },
  "language_info": {
   "codemirror_mode": {
    "name": "ipython",
    "version": 3
   },
   "file_extension": ".py",
   "mimetype": "text/x-python",
   "name": "python",
   "nbconvert_exporter": "python",
   "pygments_lexer": "ipython3",
   "version": "3.9.12"
  },
  "vscode": {
   "interpreter": {
    "hash": "fc6a87218d93c3eb3aa29305b960fd7fc714f48d8ac50960275ef4f8856ba0fd"
   }
  }
 },
 "nbformat": 4,
 "nbformat_minor": 4
}
