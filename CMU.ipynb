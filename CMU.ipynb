{
 "cells": [
  {
   "cell_type": "markdown",
   "metadata": {},
   "source": [
    "# 1. Import"
   ]
  },
  {
   "cell_type": "code",
   "execution_count": 1,
   "metadata": {},
   "outputs": [
    {
     "name": "stdout",
     "output_type": "stream",
     "text": [
      "Note: to be able to use all crisp methods, you need to install some additional packages:  {'graph_tool', 'wurlitzer'}\n",
      "Note: to be able to use all bipartite methods, you need to install some additional packages:  {'wurlitzer'}\n"
     ]
    }
   ],
   "source": [
    "import numpy as np\n",
    "import pandas as pd\n",
    "import matplotlib.pyplot as plt\n",
    "import seaborn as sns\n",
    "from cdlib import viz\n",
    "import os\n",
    "import sys\n",
    "import warnings\n",
    "warnings.filterwarnings('ignore')\n",
    "import pandas_profiling\n",
    "import networkx as nx\n",
    "from cdlib import algorithms, viz"
   ]
  },
  {
   "cell_type": "markdown",
   "metadata": {},
   "source": [
    "## 1.1 Importing data"
   ]
  },
  {
   "cell_type": "code",
   "execution_count": 2,
   "metadata": {},
   "outputs": [],
   "source": [
    "# load data from tsv file to a pandas dataframe\n",
    "movies_metadata = pd.read_csv('MovieSummaries/movie.metadata.tsv', sep='\\t', header=None)\n",
    "character_metadata = pd.read_csv('MovieSummaries/character.metadata.tsv', sep='\\t', header=None)\n",
    "plot_summaries = pd.read_csv('MovieSummaries/plot_summaries.txt', sep='\\t', header=None)"
   ]
  },
  {
   "cell_type": "markdown",
   "metadata": {},
   "source": [
    "The columns have the following labels:\n",
    "<br> Movies metadata:\n",
    "1. Wikipedia movie ID\n",
    "2. Freebase movie ID\n",
    "3. Movie name\n",
    "4. Movie release date\n",
    "5. Movie box office revenue\n",
    "6. Movie runtime\n",
    "7. Movie languages (Freebase ID:name tuples)\n",
    "8. Movie countries (Freebase ID:name tuples)\n",
    "9. Movie genres (Freebase ID:name tuples)\n",
    "\n",
    "Character/actors metadata:\n",
    "1. Wikipedia movie ID\n",
    "2. Freebase movie ID\n",
    "3. Movie release date\n",
    "4. Character name\n",
    "5. Actor date of birth\n",
    "6. Actor gender\n",
    "7. Actor height (in meters)\n",
    "8. Actor ethnicity (Freebase ID)\n",
    "9. Actor name\n",
    "10. Actor age at movie release\n",
    "11. Freebase character/actor map ID\n",
    "12. Freebase character ID\n",
    "13. Freebase actor ID\n",
    "\n",
    "Plot summaries:\n",
    "1. Wikipedia movie ID\n",
    "2. Plot summary"
   ]
  },
  {
   "cell_type": "code",
   "execution_count": 3,
   "metadata": {},
   "outputs": [],
   "source": [
    "#label the columns\n",
    "movies_metadata.columns = ['Wikipedia_movie_ID', 'Freebase_movie_ID', 'Movie_name', 'Movie_release_date', 'Movie_box_office_revenue', 'Movie_runtime', 'Movie_languages', 'Movie_countries', 'Movie_genres'] \n",
    "character_metadata.columns = ['Wikipedia_movie_ID', 'Freebase_movie_ID', 'Movie_release_date', 'Character_name', 'Actor_date_of_birth', 'actor_gender', 'Actor_height_(in_meters)', 'Actor_ethnicity', 'Actor_name', 'Actor_age_at_movie_release', 'Freebase_character/actor_map_ID', 'Freebase_character_ID', 'Freebase_actor_ID']\n",
    "plot_summaries.columns = ['Wikipedia_movie_ID', 'Plot_summary']"
   ]
  },
  {
   "cell_type": "markdown",
   "metadata": {},
   "source": [
    "## 1.2 Visualizing row data"
   ]
  },
  {
   "cell_type": "code",
   "execution_count": 4,
   "metadata": {},
   "outputs": [
    {
     "data": {
      "text/html": [
       "<div>\n",
       "<style scoped>\n",
       "    .dataframe tbody tr th:only-of-type {\n",
       "        vertical-align: middle;\n",
       "    }\n",
       "\n",
       "    .dataframe tbody tr th {\n",
       "        vertical-align: top;\n",
       "    }\n",
       "\n",
       "    .dataframe thead th {\n",
       "        text-align: right;\n",
       "    }\n",
       "</style>\n",
       "<table border=\"1\" class=\"dataframe\">\n",
       "  <thead>\n",
       "    <tr style=\"text-align: right;\">\n",
       "      <th></th>\n",
       "      <th>Wikipedia_movie_ID</th>\n",
       "      <th>Freebase_movie_ID</th>\n",
       "      <th>Movie_name</th>\n",
       "      <th>Movie_release_date</th>\n",
       "      <th>Movie_box_office_revenue</th>\n",
       "      <th>Movie_runtime</th>\n",
       "      <th>Movie_languages</th>\n",
       "      <th>Movie_countries</th>\n",
       "      <th>Movie_genres</th>\n",
       "    </tr>\n",
       "  </thead>\n",
       "  <tbody>\n",
       "    <tr>\n",
       "      <th>27585</th>\n",
       "      <td>24019458</td>\n",
       "      <td>/m/07kfpb6</td>\n",
       "      <td>Tojin Okichi</td>\n",
       "      <td>1930-07-01</td>\n",
       "      <td>NaN</td>\n",
       "      <td>130.0</td>\n",
       "      <td>{\"/m/03_9r\": \"Japanese Language\"}</td>\n",
       "      <td>{\"/m/03_3d\": \"Japan\"}</td>\n",
       "      <td>{\"/m/0gw5n2f\": \"Japanese Movies\", \"/m/07s9rl0\"...</td>\n",
       "    </tr>\n",
       "    <tr>\n",
       "      <th>74252</th>\n",
       "      <td>9797126</td>\n",
       "      <td>/m/06_yc8m</td>\n",
       "      <td>Fronteras de la ley</td>\n",
       "      <td>1941</td>\n",
       "      <td>NaN</td>\n",
       "      <td>NaN</td>\n",
       "      <td>{\"/m/06nm1\": \"Spanish Language\"}</td>\n",
       "      <td>{\"/m/0jgd\": \"Argentina\"}</td>\n",
       "      <td>{\"/m/01g6gs\": \"Black-and-white\"}</td>\n",
       "    </tr>\n",
       "    <tr>\n",
       "      <th>77596</th>\n",
       "      <td>11141345</td>\n",
       "      <td>/m/02r1c_5</td>\n",
       "      <td>The Seven Minutes</td>\n",
       "      <td>1971</td>\n",
       "      <td>NaN</td>\n",
       "      <td>115.0</td>\n",
       "      <td>{\"/m/02h40lc\": \"English Language\"}</td>\n",
       "      <td>{\"/m/09c7w0\": \"United States of America\"}</td>\n",
       "      <td>{\"/m/07s9rl0\": \"Drama\", \"/m/02js9\": \"Erotica\"}</td>\n",
       "    </tr>\n",
       "  </tbody>\n",
       "</table>\n",
       "</div>"
      ],
      "text/plain": [
       "       Wikipedia_movie_ID Freebase_movie_ID           Movie_name  \\\n",
       "27585            24019458        /m/07kfpb6         Tojin Okichi   \n",
       "74252             9797126        /m/06_yc8m  Fronteras de la ley   \n",
       "77596            11141345        /m/02r1c_5    The Seven Minutes   \n",
       "\n",
       "      Movie_release_date  Movie_box_office_revenue  Movie_runtime  \\\n",
       "27585         1930-07-01                       NaN          130.0   \n",
       "74252               1941                       NaN            NaN   \n",
       "77596               1971                       NaN          115.0   \n",
       "\n",
       "                          Movie_languages  \\\n",
       "27585   {\"/m/03_9r\": \"Japanese Language\"}   \n",
       "74252    {\"/m/06nm1\": \"Spanish Language\"}   \n",
       "77596  {\"/m/02h40lc\": \"English Language\"}   \n",
       "\n",
       "                                 Movie_countries  \\\n",
       "27585                      {\"/m/03_3d\": \"Japan\"}   \n",
       "74252                   {\"/m/0jgd\": \"Argentina\"}   \n",
       "77596  {\"/m/09c7w0\": \"United States of America\"}   \n",
       "\n",
       "                                            Movie_genres  \n",
       "27585  {\"/m/0gw5n2f\": \"Japanese Movies\", \"/m/07s9rl0\"...  \n",
       "74252                   {\"/m/01g6gs\": \"Black-and-white\"}  \n",
       "77596     {\"/m/07s9rl0\": \"Drama\", \"/m/02js9\": \"Erotica\"}  "
      ]
     },
     "execution_count": 4,
     "metadata": {},
     "output_type": "execute_result"
    }
   ],
   "source": [
    "movies_metadata.sample(3)"
   ]
  },
  {
   "cell_type": "code",
   "execution_count": 5,
   "metadata": {},
   "outputs": [
    {
     "data": {
      "text/html": [
       "<div>\n",
       "<style scoped>\n",
       "    .dataframe tbody tr th:only-of-type {\n",
       "        vertical-align: middle;\n",
       "    }\n",
       "\n",
       "    .dataframe tbody tr th {\n",
       "        vertical-align: top;\n",
       "    }\n",
       "\n",
       "    .dataframe thead th {\n",
       "        text-align: right;\n",
       "    }\n",
       "</style>\n",
       "<table border=\"1\" class=\"dataframe\">\n",
       "  <thead>\n",
       "    <tr style=\"text-align: right;\">\n",
       "      <th></th>\n",
       "      <th>Wikipedia_movie_ID</th>\n",
       "      <th>Freebase_movie_ID</th>\n",
       "      <th>Movie_release_date</th>\n",
       "      <th>Character_name</th>\n",
       "      <th>Actor_date_of_birth</th>\n",
       "      <th>actor_gender</th>\n",
       "      <th>Actor_height_(in_meters)</th>\n",
       "      <th>Actor_ethnicity</th>\n",
       "      <th>Actor_name</th>\n",
       "      <th>Actor_age_at_movie_release</th>\n",
       "      <th>Freebase_character/actor_map_ID</th>\n",
       "      <th>Freebase_character_ID</th>\n",
       "      <th>Freebase_actor_ID</th>\n",
       "    </tr>\n",
       "  </thead>\n",
       "  <tbody>\n",
       "    <tr>\n",
       "      <th>217046</th>\n",
       "      <td>13745576</td>\n",
       "      <td>/m/03cgyzz</td>\n",
       "      <td>2000</td>\n",
       "      <td>NaN</td>\n",
       "      <td>NaN</td>\n",
       "      <td>NaN</td>\n",
       "      <td>NaN</td>\n",
       "      <td>NaN</td>\n",
       "      <td>Adam Idrissa</td>\n",
       "      <td>NaN</td>\n",
       "      <td>/m/0bfmwwm</td>\n",
       "      <td>NaN</td>\n",
       "      <td>/m/0bfmwwk</td>\n",
       "    </tr>\n",
       "    <tr>\n",
       "      <th>201298</th>\n",
       "      <td>5898351</td>\n",
       "      <td>/m/0fcj9r</td>\n",
       "      <td>1996</td>\n",
       "      <td>NaN</td>\n",
       "      <td>1972-11-19</td>\n",
       "      <td>F</td>\n",
       "      <td>1.778</td>\n",
       "      <td>/m/017sq0</td>\n",
       "      <td>Sandrine Holt</td>\n",
       "      <td>23.0</td>\n",
       "      <td>/m/0c1lccf</td>\n",
       "      <td>NaN</td>\n",
       "      <td>/m/06s3fy</td>\n",
       "    </tr>\n",
       "    <tr>\n",
       "      <th>44214</th>\n",
       "      <td>15656621</td>\n",
       "      <td>/m/03w9gp_</td>\n",
       "      <td>2009-03-12</td>\n",
       "      <td>Mia</td>\n",
       "      <td>1980-04-26</td>\n",
       "      <td>F</td>\n",
       "      <td>1.700</td>\n",
       "      <td>/m/02p7gyv</td>\n",
       "      <td>Jordana Brewster</td>\n",
       "      <td>28.0</td>\n",
       "      <td>/m/04m645c</td>\n",
       "      <td>/m/0h5mbyz</td>\n",
       "      <td>/m/03wjxs</td>\n",
       "    </tr>\n",
       "  </tbody>\n",
       "</table>\n",
       "</div>"
      ],
      "text/plain": [
       "        Wikipedia_movie_ID Freebase_movie_ID Movie_release_date  \\\n",
       "217046            13745576        /m/03cgyzz               2000   \n",
       "201298             5898351         /m/0fcj9r               1996   \n",
       "44214             15656621        /m/03w9gp_         2009-03-12   \n",
       "\n",
       "       Character_name Actor_date_of_birth actor_gender  \\\n",
       "217046            NaN                 NaN          NaN   \n",
       "201298            NaN          1972-11-19            F   \n",
       "44214             Mia          1980-04-26            F   \n",
       "\n",
       "        Actor_height_(in_meters) Actor_ethnicity        Actor_name  \\\n",
       "217046                       NaN             NaN      Adam Idrissa   \n",
       "201298                     1.778       /m/017sq0     Sandrine Holt   \n",
       "44214                      1.700      /m/02p7gyv  Jordana Brewster   \n",
       "\n",
       "        Actor_age_at_movie_release Freebase_character/actor_map_ID  \\\n",
       "217046                         NaN                      /m/0bfmwwm   \n",
       "201298                        23.0                      /m/0c1lccf   \n",
       "44214                         28.0                      /m/04m645c   \n",
       "\n",
       "       Freebase_character_ID Freebase_actor_ID  \n",
       "217046                   NaN        /m/0bfmwwk  \n",
       "201298                   NaN         /m/06s3fy  \n",
       "44214             /m/0h5mbyz         /m/03wjxs  "
      ]
     },
     "execution_count": 5,
     "metadata": {},
     "output_type": "execute_result"
    }
   ],
   "source": [
    "character_metadata.sample(3)"
   ]
  },
  {
   "cell_type": "code",
   "execution_count": 6,
   "metadata": {},
   "outputs": [
    {
     "data": {
      "text/html": [
       "<div>\n",
       "<style scoped>\n",
       "    .dataframe tbody tr th:only-of-type {\n",
       "        vertical-align: middle;\n",
       "    }\n",
       "\n",
       "    .dataframe tbody tr th {\n",
       "        vertical-align: top;\n",
       "    }\n",
       "\n",
       "    .dataframe thead th {\n",
       "        text-align: right;\n",
       "    }\n",
       "</style>\n",
       "<table border=\"1\" class=\"dataframe\">\n",
       "  <thead>\n",
       "    <tr style=\"text-align: right;\">\n",
       "      <th></th>\n",
       "      <th>Wikipedia_movie_ID</th>\n",
       "      <th>Plot_summary</th>\n",
       "    </tr>\n",
       "  </thead>\n",
       "  <tbody>\n",
       "    <tr>\n",
       "      <th>9214</th>\n",
       "      <td>29413725</td>\n",
       "      <td>Matthias Clausen is the powerful leader of Cla...</td>\n",
       "    </tr>\n",
       "    <tr>\n",
       "      <th>22834</th>\n",
       "      <td>20888275</td>\n",
       "      <td>Home Movie documents one family's descent into...</td>\n",
       "    </tr>\n",
       "    <tr>\n",
       "      <th>28756</th>\n",
       "      <td>1236447</td>\n",
       "      <td>Harry Dunne  is home schooled throughout his l...</td>\n",
       "    </tr>\n",
       "  </tbody>\n",
       "</table>\n",
       "</div>"
      ],
      "text/plain": [
       "       Wikipedia_movie_ID                                       Plot_summary\n",
       "9214             29413725  Matthias Clausen is the powerful leader of Cla...\n",
       "22834            20888275  Home Movie documents one family's descent into...\n",
       "28756             1236447  Harry Dunne  is home schooled throughout his l..."
      ]
     },
     "execution_count": 6,
     "metadata": {},
     "output_type": "execute_result"
    }
   ],
   "source": [
    "plot_summaries.sample(3)"
   ]
  },
  {
   "cell_type": "markdown",
   "metadata": {},
   "source": [
    "# 2. Understanding and cleaning data"
   ]
  },
  {
   "cell_type": "markdown",
   "metadata": {},
   "source": [
    "## 2.1 Exploring raw data"
   ]
  },
  {
   "cell_type": "markdown",
   "metadata": {},
   "source": [
    "We use the pandas_profiling librarie to get a first rapid overview of the data. It gives many information like value repartition, correlations and missing values.\n",
    "<br>It ouptput the `character_metadata_report.html` and `movies_metadata_report.html` which can be found in the repo and doesn't requierd to re-run every time so we comment it."
   ]
  },
  {
   "cell_type": "code",
   "execution_count": 7,
   "metadata": {},
   "outputs": [],
   "source": [
    "# # profile the movies metadata dataframe\n",
    "# movies_metadata.profile_report(title='Movies Metadata Report')\n",
    "# # show the profile report\n",
    "# movies_metadata.profile_report()"
   ]
  },
  {
   "cell_type": "code",
   "execution_count": 8,
   "metadata": {},
   "outputs": [],
   "source": [
    "# # profile the character metadata dataframe\n",
    "# character_metadata.profile_report(title='Character Metadata Report')\n",
    "# # show the profile report\n",
    "# character_metadata.profile_report()"
   ]
  },
  {
   "cell_type": "markdown",
   "metadata": {},
   "source": [
    "We remark that for movies the `Movie_box_office_revenue`, `Movie_runtime` columns have some missing values and we face the same problems with those columns `Character_name`, `Actor_date_of_birth`, `Actor_height_(in_meters)`, `Actor_ethnicity` in the actor dataset. We'll probably not use most of them except for the boxoffice revenue and the ethnicity who could be interresting but will need some scarping to add missing values."
   ]
  },
  {
   "cell_type": "markdown",
   "metadata": {},
   "source": [
    "## 2.2 Cleaning the data"
   ]
  },
  {
   "cell_type": "markdown",
   "metadata": {},
   "source": [
    "We aim to create a network between actors as nodes and movies as edges. Therfor we need to match those two different dataframes. The `Wikipedia_movie_ID` and `Freebase_movie_ID` are perfect for that as they have no missing values. Furthermore we choose to use `Actor_name` as identifier for the actors as it didn't have any missing values."
   ]
  },
  {
   "cell_type": "markdown",
   "metadata": {},
   "source": [
    "<div class=\"alert alert-block alert-info\">\n",
    "    <b>\n",
    "        !!! could be interresting to analyse more `actor_name` see if we have names with typo or sommething like that\n",
    "    </b> \n",
    "</div>"
   ]
  },
  {
   "cell_type": "code",
   "execution_count": 9,
   "metadata": {},
   "outputs": [],
   "source": [
    "from difflib import SequenceMatcher , get_close_matches"
   ]
  },
  {
   "cell_type": "code",
   "execution_count": 10,
   "metadata": {},
   "outputs": [
    {
     "name": "stdout",
     "output_type": "stream",
     "text": [
      "['abcdef', 'abcdefghi']\n"
     ]
    }
   ],
   "source": [
    "s1 = \"abcdefg\"\n",
    "list_one = [\"abcdefghi\" , \"abcdef\" , \"htyudjh\" , \"abcxyzg\"]\n",
    "match = get_close_matches(s1, list_one, cutoff=0.6)\n",
    "print(match)"
   ]
  },
  {
   "cell_type": "code",
   "execution_count": 11,
   "metadata": {},
   "outputs": [
    {
     "name": "stdout",
     "output_type": "stream",
     "text": [
      "<class 'str'>\n"
     ]
    }
   ],
   "source": [
    "actors1 = character_metadata.drop_duplicates('Actor_name')\n",
    "actors1 = actors1.dropna(subset=['Actor_name'])\n",
    "t = type(actors1.Actor_name[0])\n",
    "print(t)\n",
    "\n",
    "\n",
    "for n in actors1.Actor_name:\n",
    "    if type(n) != t:\n",
    "        print(\"type: \", type(n), \" | \", n)"
   ]
  },
  {
   "cell_type": "code",
   "execution_count": null,
   "metadata": {},
   "outputs": [
    {
     "name": "stdout",
     "output_type": "stream",
     "text": [
      "['Peter Jason', 'Peter Jackson']\n",
      "['John Hawkes', 'John Hawker']\n",
      "['Miles Thompson', 'Myles Thompson']\n",
      "['Ellen Geer', 'Ellen Gedert']\n",
      "['Yoshio Harada', 'Yoshiko Harada']\n",
      "['John Lurie', 'John Laurie', 'John Louie']\n",
      "['Christopher Walken', 'Christopher Whalen']\n",
      "['Viktor Lazarev', 'Viktor Lazarevski']\n",
      "['AlexSandra Wright', 'Alexander Wright']\n",
      "['Kaylan Bolton', 'Kylan Bolton']\n",
      "['Kylan Bolton', 'Kaylan Bolton']\n",
      "['Girija', 'Grija']\n",
      "['Sukumari', 'Sukumar']\n",
      "[\"Kevin O'Connor\", \"Kevin J. O'Connor\"]\n",
      "['Richard Greene', 'Richard Green', 'H. Richard Greene']\n",
      "['Smita Patil', 'Smita Patel']\n",
      "['Rajesh Khanna', 'Ramesh Khanna', 'Rakesh Khanna']\n",
      "['Karan Shah', 'Kiran Shah']\n",
      "['James Neill', 'James Newill']\n",
      "['Perry Lopez', 'Gerry Lopez']\n",
      "['Bill McKinney', 'Will McKinney']\n",
      "['Juan Fernández', 'Juan Hernández']\n",
      "['Sy Richardson', 'Ty Richardson']\n",
      "['Martin Sperr', 'Martin Speer']\n",
      "['Robert Lloyd', 'Robert Floyd']\n",
      "['Stephanie Corler', 'Stephanie Cole', 'Stephanie Coles']\n",
      "['Wolfgang Schöne', 'Wolfgang Schnell']\n",
      "['Kim Miyori', 'Kim Myori']\n",
      "['Michael Bowen', 'Michael Brown', 'Michael Bower']\n",
      "['William Petersen', 'William Petterson']\n",
      "['Joe Silver', 'Joel Silver', 'Joey Silvera']\n",
      "['Wally Martin', 'Sally Martin']\n",
      "['Roy Roberts', 'Roby Roberts', 'Ray Roberts']\n",
      "['Alan Hale, Jr.', 'Alan Hale, Sr.']\n",
      "['Tannishtha Chatterjee', 'Tanisha Chatterjee']\n",
      "['Vineet Kumar', 'Vineeth Kumar']\n",
      "['Jane Hoffman', 'Jake Hoffman']\n",
      "['Leslie Howard', 'Leslie Hogard']\n",
      "['Jennifer Allen', 'Jennifer Alden']\n",
      "['Shirley MacLaine', 'Shirley McLine']\n",
      "['Christopher Plummer', 'Christopher Gummer']\n",
      "['Michael Byrne', 'Michael Byrnes']\n",
      "['Lon Chaney, Sr.', 'Lon Chaney, Jr.']\n",
      "['Paul Moyer', 'Paul Moder']\n",
      "['Bo Svenson', 'Bo Stevenson']\n",
      "['Robert Hoy', 'Robert Joy']\n",
      "['Mark Baer', 'Mark Baker']\n",
      "['David Gorcey', 'David Gore']\n",
      "[\"Michael O'Keefe\", \"Michelle O'Keefe\"]\n",
      "['Mary Murphy', 'Marty Murphy']\n",
      "['V.K. Ramaswamy', 'V.K. Ramasamy', 'V.N. Ramaswamy']\n",
      "['Sam Williams', 'Sammy Williams', 'Tam Williams']\n",
      "['Tom Kenny', 'Tom Kennedy']\n",
      "['Carolyn Lawrence', 'Carol Lawrence']\n",
      "['Davy Jones', 'Dave Jones']\n",
      "['Patrick Duffy', 'Patrick Duff']\n",
      "['Shashi Kapoor', 'Shahi Kapoor', 'Shahid Kapoor']\n",
      "['Robert Gallo', 'Robert Gallico']\n",
      "['John Shea', \"John O'Shea\"]\n",
      "['Len Jones', 'Leeon Jones']\n",
      "['David Warner', 'David Wagner', 'David Garner']\n",
      "['Patrick Shai', 'Patrick Shea']\n",
      "['Warrick Grier', 'Warwick Grier']\n",
      "['Gino Mattera', 'Lino Mattera']\n",
      "[\"Tony D'Angelo\", 'Tony Angelo']\n",
      "['Jong-ho Kim', 'Yong-ho Kim']\n",
      "['Jamie Donnelly', 'James Donnelly']\n",
      "['Kelly Ward', 'Kelly Wade']\n",
      "['Jeanne Moreau', 'Jennie Moreau']\n",
      "['Jody Gilbert', 'Jo Gilbert']\n",
      "['Will Wright', 'Bill Wright']\n",
      "['Marie Bell', 'Marie Belluc']\n",
      "['Frank Morgan', 'Frank Moran']\n",
      "['Goundamani', 'Koundamani']\n",
      "['Sahila Chadha', 'Saahil Chadha']\n",
      "['Mario Adorf', 'Mario Adolf']\n",
      "['Greg Germann', 'Greg Germain']\n",
      "['John Castle', 'John Cale']\n",
      "['Mario Machado', 'Maria Machado']\n",
      "['Sujatha', 'Sujata']\n",
      "['Dhamu', 'Dhaamu']\n",
      "['Nazima', 'Nazim']\n",
      "['Nanda', 'Nandha']\n",
      "['Alan Bates', 'Aclan Bates']\n",
      "['Andrew Duncan', 'Andrew Dunn']\n",
      "['Kevin Jonas', 'Kevin Jones']\n",
      "['Jackie Cooper', 'Jack Cooper']\n",
      "['Riyaz Khan', 'Riaz Khan']\n",
      "['Rachel Ward', 'Rachel Bard']\n",
      "['Michael Richards', 'Michael Richard']\n",
      "['Michael Mailer', 'Michael Miller']\n",
      "['Josh Randall', 'John Randall']\n",
      "['George Calil', 'George Calin']\n",
      "['Kevin Christy', 'Ken Christy']\n",
      "['David Carrera', 'David Barrera']\n",
      "['Andrew Johnston', 'Andrew Johnson']\n",
      "['Michael Buie', 'Michael Buice']\n",
      "['Bob Osborne', 'Bobby Osborne']\n",
      "['Michelle Rodriguez', 'Michael Rodriguez']\n",
      "['Paul Henreid', 'Paul Henri']\n",
      "['Lon Chaney, Jr.', 'Lon Chaney, Sr.']\n",
      "['Robert Clary', 'Robert Clark']\n",
      "['Bruce LaBruce', 'Bruce Bruce']\n",
      "['George C. Scott', 'George W. Scott']\n",
      "['Glenn Speers', 'Glenn Steers']\n",
      "['Amisha Patel', 'Asha Patel']\n",
      "['John Wayne', 'John Payne']\n",
      "['Joel Torre', 'Joe Torre']\n",
      "['John Prats', 'John Pratt']\n",
      "['Marvin Miller', 'Martin Miller']\n",
      "['Dan Dailey', 'Dan Daily', 'Dan Bailey']\n",
      "['Robert Young', 'Robert Youngs']\n",
      "['John Carroll', 'Joan Carroll', 'John Carol']\n",
      "['Françoise Brion', 'Françoise Bertin']\n",
      "['John Gilbert', 'Jo Gilbert']\n",
      "['George Hamilton', 'George Hilton']\n",
      "['Dick Jones', 'Rick Jones', 'Nick Jones']\n",
      "['Jack Curtis', 'Jackie Curtis']\n",
      "['Frank McGlynn Jr.', 'Frank McGlynn Sr.']\n",
      "['Bobby Simmons', 'Bob Simmons']\n",
      "['Danny Rosen', 'Dan Rosen']\n",
      "['George Nichols', 'George Nicholas']\n",
      "['Laura Dern', 'Laura Dean']\n",
      "['Laura Dean', 'Laura Dern']\n",
      "['Ann Petersen', 'Anne Petersen', 'Ann Peters']\n",
      "['Jeanne Bates', 'Jean Bates']\n",
      "['Christopher Lee', 'Christopher Gee', 'Christopher Lenk']\n",
      "['John Sharian', 'John Sharman']\n",
      "['Reg Wilson', 'Yeg Wilson']\n",
      "['Helen', 'Helena']\n",
      "['Vijayakumar', 'Vijayakumari', 'Vijaykumar']\n",
      "['Diana Nadeau', 'Diane Nadeau']\n",
      "['Pandari Bai', 'Pandari Bhai']\n",
      "['James Gannon', 'Jamie Gannon']\n",
      "['Michael Wegner', 'Michael Wiener', 'Michael Weiner']\n",
      "['Jim Cummings', 'Jimmy Cummings']\n",
      "['Raaj Kumar', 'Raj Kumar']\n",
      "['Tom Hollander', 'Tom Holland']\n",
      "['Claire Danes', 'Claire Dames']\n",
      "['Nigel Whitney', 'Nigel Whitmey']\n",
      "['M. K. Raina', 'K. K. Raina']\n",
      "['Rod Taylor', 'Ron Taylor', 'Rob Taylor']\n",
      "['Johnny Lever', 'Johnny Lee']\n",
      "['Roy Stewart', 'Ron Stewart', 'Rob Stewart']\n",
      "['John Cusack', 'Joan Cusack']\n",
      "['Jamie Anderson', 'James Anderson']\n",
      "['Vincent Regan', 'Vincent Fegan']\n",
      "['David Hayman', 'David Heyman']\n",
      "['David Kelly', 'David Knell']\n",
      "['Roy Scheider', 'Romy Schneider']\n",
      "['Adrian Hall', 'Andria Hall']\n",
      "['Michelle Williams', 'Michael Williams']\n",
      "['Don Wilson', 'Dolan Wilson']\n",
      "['Jonathan Haze', 'Jonathan Hale']\n",
      "['Ramon Martinez', 'Ron Martinez']\n",
      "['Elizabeth Hartman', 'Elizabeth Hart']\n",
      "['Anne Ramsay', 'Anne Ramsey', 'Anna Ramsay']\n",
      "['Steve Reeves', 'Steve Reevis']\n",
      "['Kate Wright', 'Katie Wright']\n",
      "['Laura Harring', 'Laura Harling']\n",
      "['Kevin Dailey', 'Kevin Bailey']\n",
      "['Michael Dorman', 'Michael Dorn']\n",
      "['Moe Howard', 'Joe Howard']\n",
      "['Larry Fine', 'Larry Pine']\n",
      "['Johnny Weissmuller', 'Johnny Weissmuller Jr.']\n",
      "['Ann Little', 'Annie Little']\n",
      "['Nagma', 'Naghma']\n",
      "['Max Baker', 'Max Baer']\n",
      "['Matt Bush', 'Matt Brush']\n",
      "['Michele Harris', 'Michael Harris', 'Michelle Harrison']\n",
      "['Eleanor Bron', 'Eleanor Brown']\n",
      "['Pete Johnson', 'Peta Johnson']\n",
      "['Tom Wilson', 'Tom Gilson']\n",
      "['Ben Johnson', 'Ken Johnson']\n",
      "['James Fox', 'James Foxx']\n",
      "['Michael Caine', 'Michael Carmine', 'Michael Crane']\n",
      "['Bob Burns', 'Bobby Burns']\n",
      "['Peter Boyle', 'Peter Doyle']\n",
      "['Iain Gregory', 'Ian Gregory']\n",
      "['Richard Bebb', 'Richard Webb']\n",
      "['R.G. Armstrong', 'R.D. Armstrong']\n",
      "['Josh Hamilton', 'John Hamilton']\n",
      "['Max Miller', 'Max Hiller', 'Dax Miller']\n",
      "['Mariana Cordero', 'Maria Cordero']\n",
      "['Paul Jones', 'Paula Jones']\n",
      "['Edward G. Robinson', 'Edward G. Robinson Jr.']\n",
      "['Charles D. Brown', 'Charles A. Browne']\n",
      "['Joan Cusack', 'John Cusack']\n",
      "['Michael Brandon', 'Michael Brandner']\n",
      "['Harry Green', 'Larry Green']\n",
      "['Ernie Alexander', 'Ernest Alexander']\n",
      "['Janette Scott', 'Janet Scott']\n",
      "['Harry Andrews', 'Barry Andrews']\n",
      "['Michelle Ye', 'Michelle Yeoh']\n",
      "['Huang Yi', 'Hung Yi']\n",
      "['Tamara Lee', 'Tamara Lees']\n",
      "['Molly Griffiths', 'Molly Griffith']\n",
      "['Charles Stevens', 'Charles Stevenson']\n",
      "['Joan Barclay', 'Jean Barclay']\n",
      "['John Gavin', 'John Garvin']\n",
      "['Michael Legge', 'Michael Legg', 'Michael Lee']\n",
      "[\"James O'Brien\", \"Jamie O'Brien\"]\n",
      "['Ben Miller', 'Brent Miller', 'Ken Miller']\n",
      "['David Knight', 'David McKnight']\n",
      "['Catherine Keener', 'Catherine Kellner']\n",
      "['Kimberly Williams', 'Kiely Williams']\n",
      "['Bob Harter', 'Bob Carter']\n",
      "['Barry Cassins', 'Barry Cassin']\n",
      "['Christopher Casson', 'Christopher Cass']\n",
      "['Sanjay Dutt', 'Sonjay Dutt']\n",
      "['Jon Foster', 'Jason Foster', 'Ron Foster']\n",
      "['Richard Dawson', 'Richard Lawson']\n",
      "['Shaam', 'Shyaam']\n",
      "['Sun Chien', 'Shun Chien']\n",
      "['Yoshiko Fujita', 'Toshiko Fujita']\n",
      "['Paulino Nunes', 'Paulo Nunes']\n",
      "['Richard M. Davidson', 'Richard Davidson']\n",
      "['Robert Blake', 'Robert Baker']\n",
      "['Charlton Heston', 'Charleton Hen-ston']\n",
      "['John Harmon', 'John Harron']\n",
      "['Eiji Okuda', 'Eiji Okada']\n",
      "['Peter Sellers', 'Peter Zellers', 'Peter Sellars']\n",
      "['David Arkin', 'David Ari']\n",
      "['Bruce Lee', 'Bruce Le']\n",
      "['George Sanders', 'George Saunders']\n",
      "['Kay Johnson', 'Kathy Johnson', 'Ray Johnson']\n",
      "['James Gandia', 'James Gandhi']\n",
      "['Michael Phillips', 'Michelle Phillips']\n",
      "['Robin Williams', 'Ron Williams', 'Robin T. Williams']\n",
      "['Jon Stewart', 'John Stewart', 'Jason Stewart']\n",
      "['Robert Forster', 'Robert Fortier']\n",
      "['Robert Downey Jr.', 'Robert Downey Sr.']\n",
      "['Josef Sommer', 'Josef Somr']\n",
      "['Joe Brooks', 'Joel Brooks']\n",
      "['Jerry Jones', 'Terry Jones']\n",
      "['Isabella Rossellini', 'Isabella Rossellinni']\n",
      "['Vincent Gallo', 'Vincent Glo']\n",
      "['John Williams', 'Johnny Williams']\n",
      "['Monty Landis', 'Monte Landis']\n",
      "['Denis Dupont', 'Dennis Dupont']\n",
      "['Sripada', 'Sriprada']\n",
      "['Hedger Wallace', 'Hedgar Wallace']\n",
      "['Christiane Paul', 'Christian Paul']\n",
      "['Nikolai Cherkasov', 'Nikolai P. Cherkasov']\n",
      "['Peter Green', 'Peter Greene']\n",
      "['Jackie Richardson', 'Jake Richardson', 'Jack Richardson']\n",
      "['Paul Bates', 'Paul Yates']\n",
      "['James Hong', 'James Wong']\n",
      "['Heather Harris', 'Heath Harris']\n",
      "['Bill Fraser', 'Will Fraser']\n",
      "['John Mills', 'Josh Mills']\n",
      "['Cecil Parker', 'Cecilia Parker']\n",
      "['Noah Beery, Jr.', 'Noah Beery, Sr.']\n",
      "['Walter Sande', 'Walter Shane']\n",
      "['Roy Rogers', 'Rod Rogers']\n",
      "['Kate Mara', \"Kate O'Mara\"]\n",
      "['Kit Jones', 'Keith Jones']\n",
      "['Ken Marino', 'Kenny Marino']\n",
      "['Min Zhang', 'Minwu Zhang']\n",
      "['John Leary', \"John O'Leary\"]\n",
      "['Jim Carter', 'Jimmy Carter']\n",
      "['John Crawford', 'Johnny Crawford', 'Joan Crawford']\n",
      "['Gary Cooper', 'Garry Cooper']\n",
      "['Meena', 'Meenal']\n",
      "['John Abraham', 'Jon Abrahams']\n",
      "['Vinu Chakravarthy', 'Vinu Chakravarty', 'Vinu Chakravarthi']\n",
      "['Michael McKean', 'Michael McKeag']\n",
      "[\"Beverly D'Angelo\", 'Beverly D Angelo']\n",
      "['Jack Nicholson', 'Jack Nicholsen']\n",
      "['Roy Kinnear', 'Rory Kinnear']\n",
      "['Tom Baker', 'Tom Barker', 'Thom Baker']\n",
      "['Charles Lane', 'Charles Lanyer', 'Charles Cane']\n",
      "['Fiona Lewis', 'Fiona Loewi']\n",
      "['Asha Sachdev', 'Akshay Sachdev']\n",
      "['Rajan Kapoor', 'Rajat Kapoor', 'Raj Kapoor']\n",
      "['Kamal', 'Kamala', 'Kamahl']\n",
      "['Chanda', 'Chandra', 'Chandan']\n",
      "['Tommy Chong', 'Tommy Chang']\n",
      "['Andrew Johnson', 'Andrew Johnston']\n",
      "['S. Varalakshmi', 'S.Varalakshmi']\n",
      "['James Caan', 'James Cada']\n",
      "['Bill Murray', 'Billy Murray']\n",
      "['David Millbern', 'David Miller']\n",
      "['Michael Jackson', 'Michael Blackson']\n",
      "['Ossie Davis', 'Essie Davis']\n",
      "['Joy Bryant', 'Joyce Bryant']\n",
      "['K. R. Vijaya', 'K.R. Vijaya']\n",
      "['Tamara Taylor', 'Tara Taylor']\n",
      "['Charle', 'Charlie']\n",
      "['Preetha Vijayakumar', 'Preitha Vijaykumar']\n",
      "['Jennifer Blaire', 'Jennifer Claire']\n",
      "['Romy Schneider', 'Roy Scheider']\n",
      "['Fernando Rey', 'Fernando Reyes']\n",
      "['Essie Davis', 'Ossie Davis']\n",
      "['Li Tian-lu', 'Li Tien-lu']\n",
      "['Danny Jackson', 'Dan Jackson']\n",
      "['Paul Newlan', 'Paul Newman']\n",
      "['John Hamilton', 'Josh Hamilton']\n",
      "['Allan Sherman', 'Alan Shearman']\n",
      "['Paul Cheung', 'Paul Chun', 'Paul Chen']\n",
      "['Dae-hyeon Lee', 'Dae-yeon Lee']\n",
      "['Chris Humphreys', 'Chris Humphrey']\n",
      "['Aaliyah', 'Aaliya']\n",
      "['Paul McGann', 'Paul Mann']\n",
      "['Sithara', 'Sitara']\n",
      "['Jessica Gee', 'Jessica Lee']\n",
      "['Steve Staley', 'Steven Stanley']\n",
      "['Jack Webb', 'Jacki Webb']\n",
      "['Peter Brown', 'Peter Bowen']\n",
      "['Brad Davis', 'Brandy Davis', 'Brad David']\n",
      "['Silvia De Santis', 'Silvana De Santis']\n",
      "['Jack Richardson', 'Jackie Richardson', 'Jake Richardson']\n",
      "['Johnny Crawford', 'John Crawford']\n",
      "['Charles S. Dutton', 'Charles Sutton']\n",
      "['Francisco Rey', 'Francisco Reyes']\n",
      "['Ai Maeda', 'Aki Maeda']\n",
      "['Shigeru Chiba', 'Shigeru Shiba']\n",
      "['Bijay Anand', 'Vijay Anand']\n",
      "['Jonathan Hale', 'Jonathan Sale', 'Jonathan Hole']\n",
      "['Robert Wilcox', 'Robert Willox']\n",
      "['Robert Dawson', 'Robert Daws']\n",
      "['Jane Russell', 'Janet Russell']\n",
      "['William Haines', 'William Gaines']\n",
      "['Jayant', 'Jayan']\n",
      "['James Stephenson', 'Jamie Stephenson', 'James Stephens']\n",
      "['Rand Brooks', 'Randy Brooks', 'Randi Brooks']\n",
      "['Gloria Pope', 'Gloria Hope']\n",
      "['Patsy Moran', 'Pat Moran']\n",
      "['Charles King', 'Charles Ying']\n",
      "['Mary Smit', 'Marty Smith']\n",
      "['James Frain', 'James Frail']\n",
      "['William Mang', 'William Wang', 'William Mann']\n",
      "['Joely Richardson', 'Jody Richardson']\n",
      "['Rob Moran', 'Rob Morgan']\n",
      "['Molly Shannon', 'Polly Shannon']\n",
      "['Sai Kumar', 'Salim Kumar']\n",
      "['Diana Bracho', 'Diana Brauch']\n",
      "['David McCallum', 'David L. McCallum']\n",
      "['Richard Conte', 'Richard Conti']\n",
      "['Michael Tolan', 'Michael Toland', 'Michael Dolan']\n",
      "['Harry Wilson', 'Barry Wilson']\n",
      "['Frankie Chan', 'Frankie Chin']\n",
      "['Wing Chung', 'Ling Chung']\n",
      "['Sangeeta', 'Sangeetha']\n",
      "['Bobby Burns', 'Bob Burns']\n",
      "['Luke Perry', 'Louk Perry']\n",
      "['Josie Davis', 'Jodie Davis']\n",
      "['Adrienne Barbeau', 'Adrienne Bourbeau']\n",
      "['Lisa Banes', 'Lisa Baines']\n",
      "['David Cross', 'David Kross']\n",
      "['Dana Andrews', 'Dean Andrews']\n",
      "['Jean Martin', 'Dean Martin']\n",
      "['Jill Kelly', 'Bill Kelly']\n",
      "['Dean Martin', 'Dan Martin', 'Jean Martin']\n",
      "['Ricky Nelson', 'Vicky Nelson']\n",
      "['Darya Semyonova', 'Dariya Semyonova']\n",
      "['Aleksandr Starikov', 'Aleksandr Larikov']\n",
      "['Gavin Hood', 'Gavin Wood']\n",
      "['Jacqueline Beer', 'Jacqueline Bayer']\n",
      "['Paul Newman', 'Paul Newlan']\n",
      "['Elizabeth Brown', 'Elizabeth Barton']\n",
      "['Michael Lawrence', 'Michael Laurence']\n",
      "['Richard Davis', 'Richard Davies']\n",
      "['Allen Levin', 'Allen Lin']\n",
      "['Don Murray', 'Devon Murray', 'Zon Murray']\n",
      "['Frédéric Pierrot', 'Frédéric Pierre']\n",
      "['Van Johnson', 'Vance Johnson']\n",
      "['Aarathi', 'Aarthi']\n",
      "['Carol Hughes', 'Carolyn Hughes']\n",
      "['James Cada', 'James Cade', 'James Caan']\n",
      "['Sally Wingert', 'Wally Wingert']\n",
      "['Frederick Burton', 'Fredrick Burton']\n",
      "['Ben Hendricks Jr.', 'Ben Hendricks Sr.']\n",
      "['Justin Bradley', 'Justin Brady']\n",
      "['Robert Watts', 'Robert Wyatt']\n",
      "['Joseph McFadden', 'Joseph Madden']\n",
      "['Yu-mi Jeong', 'Yun-min Jeong']\n",
      "['Anna Karina', 'Anna Katarina']\n",
      "['James Floyd', 'James Foy']\n",
      "['Krishna Kumari', 'Krishna Kumar']\n",
      "['Ted Danson', 'Ted Manson']\n",
      "['Read Morgan', 'Reid Morgan']\n",
      "['Alicia Moro', 'Alicia Morton']\n",
      "['Jackie Condon', 'Jackie Conn']\n",
      "['Jack Davis', 'Mack Davis']\n",
      "['John Forrest', 'John Forest']\n",
      "['Michael Ward', 'Michael Wardle', 'Michael Wade']\n",
      "['James Cooley', 'James Cole']\n",
      "['Peter Wong', 'Peter Wang']\n",
      "['David King', 'David Kang']\n",
      "['Nicholas Bell', 'Nicholas Ball']\n",
      "['Marc Warren', 'Marcia Warren', 'Mary Warren']\n",
      "['Helen Dowell', 'Helen Lowell']\n",
      "['Paul Hartmann', 'Paula Hartmann', 'Paul Hartman']\n",
      "['David McNeil', 'David McNeill']\n",
      "['Tord Peterson', 'Todd Peterson']\n",
      "[\"Lauren O'Connell\", \"Maureen O'Connell\"]\n",
      "['Stephen Rea', 'Stephen Rue', 'Stephen Rae']\n",
      "['John Lynch', 'Johnny Lynch']\n",
      "['John Lone', 'John Leone']\n",
      "['Keith David', 'Keith Davis']\n",
      "['Jayan', 'Jayant']\n",
      "['Seema', 'Seeman']\n"
     ]
    }
   ],
   "source": [
    "for n in actors1.Actor_name:\n",
    "    if type(n) == t:\n",
    "        match = get_close_matches(n,actors1.Actor_name , cutoff=0.9)\n",
    "        if len(match) > 1:\n",
    "            print(match)"
   ]
  },
  {
   "cell_type": "code",
   "execution_count": null,
   "metadata": {},
   "outputs": [],
   "source": [
    "# filter characters metadata dataframe to keep only the characters where the character name and actor name are not null\n",
    "characters_before_filter = character_metadata.shape[0]\n",
    "character_metadata = character_metadata[character_metadata['Freebase_actor_ID'].notnull()]\n",
    "# show how many characters were originally in the dataframe, how many were removed and how many are left\n",
    "print('Number of characters before filter: ', characters_before_filter)\n",
    "print('Number of characters after filter: ', character_metadata.shape[0])\n",
    "print('Number of characters removed: ', characters_before_filter - character_metadata.shape[0])"
   ]
  },
  {
   "cell_type": "markdown",
   "metadata": {},
   "source": [
    "<div class=\"alert alert-block alert-danger\">\n",
    "    <b>\n",
    "        Check utility of filtering actors\n",
    "        <br>for movies: normal to have > and not >= ?\n",
    "    </b>\n",
    "</div>"
   ]
  },
  {
   "cell_type": "markdown",
   "metadata": {},
   "source": [
    "We need movies that have at least 2 actors to connect the nodes."
   ]
  },
  {
   "cell_type": "code",
   "execution_count": null,
   "metadata": {},
   "outputs": [],
   "source": [
    "# list the characters of each movie in a list and the actors of each movie in a list\n",
    "actors = character_metadata.groupby('Wikipedia_movie_ID')['Actor_name'].apply(list).reset_index().rename(columns={'Actor_name': 'Actors_names'})\n",
    "# count the actors of each movie\n",
    "actors['Number_of_actors'] = actors['Actors_names'].apply(lambda x: len(x))\n",
    "# filter the actors dataframe to keep only the movies with more than 2 actors\n",
    "actors = actors[actors['Number_of_actors'] > 2].reset_index(drop=True)\n",
    "# show the number of movies before and after the filter and how many movies were removed\n",
    "print('Number of movies before filter: ', character_metadata['Wikipedia_movie_ID'].nunique())\n",
    "print('Number of movies after filter: ', actors.shape[0])\n",
    "print('Number of movies removed: ', character_metadata['Wikipedia_movie_ID'].nunique() - actors.shape[0])\n"
   ]
  },
  {
   "cell_type": "markdown",
   "metadata": {},
   "source": [
    "## 2.2 Further exploration of cleaned data"
   ]
  },
  {
   "cell_type": "markdown",
   "metadata": {},
   "source": [
    "Now that we have drop the data that won't be usefull we can start analysing it."
   ]
  },
  {
   "cell_type": "code",
   "execution_count": null,
   "metadata": {},
   "outputs": [],
   "source": [
    "# Firstly print the new dataframe merging movies and actors\n",
    "actors"
   ]
  },
  {
   "cell_type": "code",
   "execution_count": null,
   "metadata": {},
   "outputs": [],
   "source": [
    "plot = sns.displot(actors['Wikipedia_movie_ID'], x = actors['Number_of_actors'],\n",
    "                   log=True, discrete=True, aspect = 3)\n",
    "plot = plot.set(title = 'Distribution of the number of actors per movie', \n",
    "               xlabel = 'Number of actors',\n",
    "               ylabel = 'Number of movies')"
   ]
  },
  {
   "cell_type": "markdown",
   "metadata": {},
   "source": [
    "# 3. Creating a network of actors"
   ]
  },
  {
   "cell_type": "markdown",
   "metadata": {},
   "source": [
    "It's now time to creat a first network"
   ]
  },
  {
   "cell_type": "markdown",
   "metadata": {},
   "source": [
    "## 3.1 Processing the data"
   ]
  },
  {
   "cell_type": "code",
   "execution_count": null,
   "metadata": {},
   "outputs": [],
   "source": [
    "# one actor per line in the new dataframe\n",
    "actors_new_meta = actors.merge(character_metadata[['Character_name', 'Actor_name', 'Wikipedia_movie_ID']], on='Wikipedia_movie_ID', how='inner')"
   ]
  },
  {
   "cell_type": "code",
   "execution_count": null,
   "metadata": {},
   "outputs": [],
   "source": [
    "actors_new_meta.sample(3)"
   ]
  },
  {
   "cell_type": "code",
   "execution_count": null,
   "metadata": {},
   "outputs": [],
   "source": [
    "# dataframe with pairs of actors and the number of movies they acted in together\n",
    "# the dataframe to merge contains all the actors_new_meta dataframe except the actors_names column\n",
    "to_merge = actors_new_meta.drop('Actors_names', axis=1)\n",
    "actors_pairs = to_merge.merge(to_merge, on=['Wikipedia_movie_ID', 'Number_of_actors'], how='inner')\n",
    "# filter the dataframe to keep only the pairs where the actor names are different\n",
    "actors_pairs = actors_pairs[actors_pairs['Actor_name_x'] != actors_pairs['Actor_name_y']]\n",
    "# filter the dataframe to keep only the pairs that are not interchangeable (actor1, actor2) and (actor2, actor1)\n",
    "actors_pairs = actors_pairs[actors_pairs['Actor_name_x'] < actors_pairs['Actor_name_y']]"
   ]
  },
  {
   "cell_type": "code",
   "execution_count": null,
   "metadata": {},
   "outputs": [],
   "source": [
    "# for each pair make a new column with the list of movies they acted in together\n",
    "actors_pairs_common_movies = actors_pairs.groupby(['Actor_name_x', 'Actor_name_y'])['Wikipedia_movie_ID'].apply(list).reset_index().rename(columns={'Wikipedia_movie_ID': 'Common_movies'})\n",
    "# remove the duplicates in the movies list\n",
    "actors_pairs_common_movies['Common_movies'] = actors_pairs_common_movies['Common_movies'].apply(lambda x: list(set(x)))"
   ]
  },
  {
   "cell_type": "code",
   "execution_count": null,
   "metadata": {},
   "outputs": [],
   "source": [
    "# number of common movies between each pair of actors\n",
    "actors_pairs_common_movies['Number_of_common_movies'] = actors_pairs_common_movies['Common_movies'].apply(lambda x: len(x))"
   ]
  },
  {
   "cell_type": "code",
   "execution_count": null,
   "metadata": {},
   "outputs": [],
   "source": [
    "# filter the dataframe to keep only the pairs that acted in more than 2 movies together\n",
    "actors_pairs_common_movies_filtered = actors_pairs_common_movies[actors_pairs_common_movies['Number_of_common_movies'] > 2]"
   ]
  },
  {
   "cell_type": "code",
   "execution_count": null,
   "metadata": {},
   "outputs": [],
   "source": [
    "actors_pairs_common_movies_filtered.sample(3)"
   ]
  },
  {
   "cell_type": "markdown",
   "metadata": {},
   "source": [
    "## 3.2 Creating the network"
   ]
  },
  {
   "cell_type": "markdown",
   "metadata": {},
   "source": [
    "There are many ways to create networks, a really common one is the networkx library. It offers lots of tools and we can easily find documentation on the web."
   ]
  },
  {
   "cell_type": "code",
   "execution_count": null,
   "metadata": {},
   "outputs": [],
   "source": [
    "# create a non directed graph from the dataframe\n",
    "G = nx.from_pandas_edgelist(actors_pairs_common_movies_filtered, source='Actor_name_x', target='Actor_name_y', edge_attr='Number_of_common_movies')\n",
    "# show the number of nodes and edges in the graph\n",
    "print('Number of nodes: ', G.number_of_nodes())\n",
    "print('Number of edges: ', G.number_of_edges())"
   ]
  },
  {
   "cell_type": "markdown",
   "metadata": {},
   "source": [
    "Now that we have the network we'll need to analyse it. The first step is to create subgroup using the louvain algorithm."
   ]
  },
  {
   "cell_type": "code",
   "execution_count": null,
   "metadata": {},
   "outputs": [],
   "source": [
    "# make partitions of the graph \n",
    "coms = algorithms.louvain(G, weight='Number_of_common_movies')\n",
    "\n",
    "# make subgraphs from the partitions\n",
    "subgraphs = [G.subgraph(c) for c in coms.communities]\n",
    "# show the number of subgraphs\n",
    "print('Number of communities: ', len(subgraphs))"
   ]
  },
  {
   "cell_type": "code",
   "execution_count": null,
   "metadata": {},
   "outputs": [],
   "source": [
    "# show the number of nodes in each subgraph and the average weight of the edges in each subgraph\n",
    "for i, subgraph in enumerate(subgraphs):\n",
    "    print('community ', i + 1, ' number of actors: ', subgraph.number_of_nodes())\n",
    "    print('community ', i + 1, ' average numbers of movies between actors: ', subgraph.size(weight='Number_of_common_movies') / subgraph.number_of_edges())"
   ]
  },
  {
   "cell_type": "markdown",
   "metadata": {},
   "source": [
    "## 3.3 Vizualising the network"
   ]
  },
  {
   "cell_type": "markdown",
   "metadata": {},
   "source": [
    "Let's start the funny part with a basic visualization."
   ]
  },
  {
   "cell_type": "code",
   "execution_count": null,
   "metadata": {},
   "outputs": [],
   "source": [
    "# vizualise the obtained partitions (top 20 communities)\n",
    "viz.plot_network_clusters(G, coms, node_size=20, figsize=(20, 20), plot_labels=False, top_k=20)"
   ]
  },
  {
   "cell_type": "code",
   "execution_count": null,
   "metadata": {},
   "outputs": [],
   "source": [
    "viz.plot_community_graph(G, coms, node_size=20, figsize=(20, 20), plot_labels=False, top_k=20)"
   ]
  },
  {
   "cell_type": "markdown",
   "metadata": {},
   "source": [
    "## 3.4 Analysing subnetworks"
   ]
  },
  {
   "cell_type": "markdown",
   "metadata": {},
   "source": [
    "If we aim to see tendancies between those subgroup, we'll need to add features to nodes."
   ]
  },
  {
   "cell_type": "code",
   "execution_count": null,
   "metadata": {},
   "outputs": [],
   "source": [
    "for n in G.nodes:\n",
    "    G.nodes[n]['actor_gender'] = character_metadata[character_metadata.Actor_name == n]['actor_gender'].iloc[0]\n",
    "    G.nodes[n]['Actor_ethnicity'] = character_metadata[character_metadata.Actor_name == n]['Actor_ethnicity'].iloc[0]"
   ]
  },
  {
   "cell_type": "markdown",
   "metadata": {},
   "source": [
    "We can now compute the assortativity  for certains properties. It measures the similarity of connections in the graph with respect to the given attribute."
   ]
  },
  {
   "cell_type": "code",
   "execution_count": null,
   "metadata": {},
   "outputs": [],
   "source": [
    "print(\"gender homophily: \", nx.attribute_assortativity_coefficient(G, 'actor_gender'))\n",
    "print(\"ethnicity homophily: \", nx.attribute_assortativity_coefficient(G, 'Actor_ethnicity'))"
   ]
  },
  {
   "cell_type": "code",
   "execution_count": null,
   "metadata": {},
   "outputs": [],
   "source": [
    "# store the top 20 communities in dataframes\n",
    "# each row in the dataframe is an actor in the community, the connectivity column represents the total weight of the edges that the actor is connected to\n",
    "# i.e the total number of movies the actor acted in with the other actors in the community\n",
    "top_20_communities = []\n",
    "for i, subgraph in enumerate(subgraphs[:20]):\n",
    "    top_20_communities.append(pd.DataFrame(subgraph.degree(weight='Number_of_common_movies'), columns=['Actor_name', 'connectivity']).sort_values('connectivity', ascending=False))"
   ]
  },
  {
   "cell_type": "code",
   "execution_count": null,
   "metadata": {},
   "outputs": [],
   "source": [
    "# for each community add columns for actors ethnicity, gender and date of birth from the character_metadata dataframe\n",
    "for i, community in enumerate(top_20_communities):\n",
    "    top_20_communities[i] = community.merge(character_metadata[['Actor_name','actor_gender', 'Actor_date_of_birth', 'Actor_ethnicity']], on='Actor_name', how='inner').drop_duplicates(subset=['Actor_name']).reset_index(drop=True)\n"
   ]
  },
  {
   "cell_type": "code",
   "execution_count": null,
   "metadata": {},
   "outputs": [],
   "source": [
    "G = nx.connected_watts_strogatz_graph(30,5,.2)\n",
    "nodes = G.nodes()\n",
    "edges=list(G.edges(data=True))"
   ]
  },
  {
   "cell_type": "code",
   "execution_count": null,
   "metadata": {},
   "outputs": [],
   "source": []
  },
  {
   "cell_type": "code",
   "execution_count": null,
   "metadata": {},
   "outputs": [],
   "source": []
  }
 ],
 "metadata": {
  "kernelspec": {
   "display_name": "Python 3 (ipykernel)",
   "language": "python",
   "name": "python3"
  },
  "language_info": {
   "codemirror_mode": {
    "name": "ipython",
    "version": 3
   },
   "file_extension": ".py",
   "mimetype": "text/x-python",
   "name": "python",
   "nbconvert_exporter": "python",
   "pygments_lexer": "ipython3",
   "version": "3.9.12"
  },
  "vscode": {
   "interpreter": {
    "hash": "d37a1d50f378da0f68e11ee5fba6c6e83e272cf9b6bb98807c67244994dff8ee"
   }
  }
 },
 "nbformat": 4,
 "nbformat_minor": 4
}
