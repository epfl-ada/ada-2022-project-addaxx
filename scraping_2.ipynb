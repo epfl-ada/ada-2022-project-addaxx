{
 "cells": [
  {
   "cell_type": "code",
   "execution_count": null,
   "metadata": {},
   "outputs": [],
   "source": [
    "# import libraries\n",
    "import requests\n",
    "from bs4 import BeautifulSoup\n",
    "import pandas as pd\n",
    "import numpy as np"
   ]
  },
  {
   "cell_type": "code",
   "execution_count": 2,
   "metadata": {},
   "outputs": [],
   "source": [
    "# load the data from csv\n",
    "df = pd.read_csv('top_20_communities_all_actors_wikidata_with_description.csv')"
   ]
  },
  {
   "cell_type": "code",
   "execution_count": 3,
   "metadata": {},
   "outputs": [],
   "source": [
    "# for each row where the gender is not known, if the actor description contains the word \"actor\" or \"actress\" then set the gender to M or F\n"
   ]
  },
  {
   "cell_type": "code",
   "execution_count": 4,
   "metadata": {},
   "outputs": [],
   "source": [
    "# function that get the gender from the description if gender is None\n",
    "# the gender is 'M' if the description contains 'actor'\n",
    "# t\n",
    "def get_gender_from_description(gender):\n",
    "    if gender is None:\n",
    "        i\n"
   ]
  }
 ],
 "metadata": {
  "kernelspec": {
   "display_name": "Python 3.9.5 ('tensorflow')",
   "language": "python",
   "name": "python3"
  },
  "language_info": {
   "codemirror_mode": {
    "name": "ipython",
    "version": 3
   },
   "file_extension": ".py",
   "mimetype": "text/x-python",
   "name": "python",
   "nbconvert_exporter": "python",
   "pygments_lexer": "ipython3",
   "version": "3.9.5"
  },
  "orig_nbformat": 4,
  "vscode": {
   "interpreter": {
    "hash": "d37a1d50f378da0f68e11ee5fba6c6e83e272cf9b6bb98807c67244994dff8ee"
   }
  }
 },
 "nbformat": 4,
 "nbformat_minor": 2
}
