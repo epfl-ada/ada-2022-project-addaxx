{
 "cells": [
  {
   "cell_type": "code",
   "execution_count": 1,
   "metadata": {},
   "outputs": [],
   "source": [
    "# import libraries\n",
    "import requests\n",
    "from bs4 import BeautifulSoup\n",
    "import pandas as pd\n",
    "import numpy as np\n",
    "import spacy\n",
    "from nltk import word_tokenize\n",
    "\n"
   ]
  },
  {
   "cell_type": "code",
   "execution_count": 2,
   "metadata": {},
   "outputs": [],
   "source": [
    "# load the data from csv\n",
    "df = pd.read_csv('top_20_communities_all_actors_wikidata_with_country_occupation.csv')"
   ]
  },
  {
   "cell_type": "code",
   "execution_count": 3,
   "metadata": {},
   "outputs": [
    {
     "data": {
      "text/html": [
       "<div>\n",
       "<style scoped>\n",
       "    .dataframe tbody tr th:only-of-type {\n",
       "        vertical-align: middle;\n",
       "    }\n",
       "\n",
       "    .dataframe tbody tr th {\n",
       "        vertical-align: top;\n",
       "    }\n",
       "\n",
       "    .dataframe thead th {\n",
       "        text-align: right;\n",
       "    }\n",
       "</style>\n",
       "<table border=\"1\" class=\"dataframe\">\n",
       "  <thead>\n",
       "    <tr style=\"text-align: right;\">\n",
       "      <th></th>\n",
       "      <th>Actor_name</th>\n",
       "      <th>connectivity</th>\n",
       "      <th>actor_gender</th>\n",
       "      <th>Actor_date_of_birth</th>\n",
       "      <th>Actor_ethnicity</th>\n",
       "      <th>Freebase_actor_ID</th>\n",
       "      <th>community</th>\n",
       "      <th>Wikidata_actor_id</th>\n",
       "      <th>actor_description</th>\n",
       "      <th>actor_country_of_citizenship</th>\n",
       "      <th>actor_occupation</th>\n",
       "    </tr>\n",
       "  </thead>\n",
       "  <tbody>\n",
       "    <tr>\n",
       "      <th>0</th>\n",
       "      <td>John Wayne</td>\n",
       "      <td>286</td>\n",
       "      <td>M</td>\n",
       "      <td>1907-05-26</td>\n",
       "      <td>/m/063k3h</td>\n",
       "      <td>/m/043gj</td>\n",
       "      <td>1</td>\n",
       "      <td>Q40531</td>\n",
       "      <td>American actor (1907–1979)</td>\n",
       "      <td>United States of America</td>\n",
       "      <td>['actor', 'film actor', 'film director', 'film...</td>\n",
       "    </tr>\n",
       "    <tr>\n",
       "      <th>1</th>\n",
       "      <td>Roy Rogers</td>\n",
       "      <td>242</td>\n",
       "      <td>M</td>\n",
       "      <td>1911-11-05</td>\n",
       "      <td>/m/07hwkr</td>\n",
       "      <td>/m/01mc6h1</td>\n",
       "      <td>1</td>\n",
       "      <td>Q367129</td>\n",
       "      <td>American actor and singer (1911-1998)</td>\n",
       "      <td>United States of America</td>\n",
       "      <td>['television actor', 'film actor', 'singer', '...</td>\n",
       "    </tr>\n",
       "    <tr>\n",
       "      <th>2</th>\n",
       "      <td>George 'Gabby' Hayes</td>\n",
       "      <td>130</td>\n",
       "      <td>M</td>\n",
       "      <td>1885-05-07</td>\n",
       "      <td>NaN</td>\n",
       "      <td>/m/03l6jx</td>\n",
       "      <td>1</td>\n",
       "      <td>Q1277973</td>\n",
       "      <td>American actor (1885-1969)</td>\n",
       "      <td>United States of America</td>\n",
       "      <td>['actor', 'television actor', 'film actor', 'r...</td>\n",
       "    </tr>\n",
       "    <tr>\n",
       "      <th>3</th>\n",
       "      <td>Basil Rathbone</td>\n",
       "      <td>121</td>\n",
       "      <td>M</td>\n",
       "      <td>1892-06-13</td>\n",
       "      <td>NaN</td>\n",
       "      <td>/m/0hwd8</td>\n",
       "      <td>1</td>\n",
       "      <td>Q336865</td>\n",
       "      <td>English actor (1892–1967)</td>\n",
       "      <td>United Kingdom</td>\n",
       "      <td>['character actor', 'stage actor', 'film actor...</td>\n",
       "    </tr>\n",
       "    <tr>\n",
       "      <th>4</th>\n",
       "      <td>John Carradine</td>\n",
       "      <td>114</td>\n",
       "      <td>M</td>\n",
       "      <td>1906-02-05</td>\n",
       "      <td>NaN</td>\n",
       "      <td>/m/021mlp</td>\n",
       "      <td>1</td>\n",
       "      <td>Q312878</td>\n",
       "      <td>American actor (1906-1988)</td>\n",
       "      <td>United States of America</td>\n",
       "      <td>['film actor', 'character actor', 'stage actor...</td>\n",
       "    </tr>\n",
       "    <tr>\n",
       "      <th>...</th>\n",
       "      <td>...</td>\n",
       "      <td>...</td>\n",
       "      <td>...</td>\n",
       "      <td>...</td>\n",
       "      <td>...</td>\n",
       "      <td>...</td>\n",
       "      <td>...</td>\n",
       "      <td>...</td>\n",
       "      <td>...</td>\n",
       "      <td>...</td>\n",
       "      <td>...</td>\n",
       "    </tr>\n",
       "    <tr>\n",
       "      <th>6069</th>\n",
       "      <td>Pushpavalli</td>\n",
       "      <td>3</td>\n",
       "      <td>F</td>\n",
       "      <td>NaN</td>\n",
       "      <td>NaN</td>\n",
       "      <td>/m/080hxfv</td>\n",
       "      <td>20</td>\n",
       "      <td>Q7261853</td>\n",
       "      <td>Indian actress</td>\n",
       "      <td>India</td>\n",
       "      <td>['actor']</td>\n",
       "    </tr>\n",
       "    <tr>\n",
       "      <th>6070</th>\n",
       "      <td>Sarathi</td>\n",
       "      <td>3</td>\n",
       "      <td>M</td>\n",
       "      <td>1942-06-26</td>\n",
       "      <td>NaN</td>\n",
       "      <td>/m/0463_8t</td>\n",
       "      <td>20</td>\n",
       "      <td>Q7423331</td>\n",
       "      <td>Indian actor</td>\n",
       "      <td>India</td>\n",
       "      <td>['actor']</td>\n",
       "    </tr>\n",
       "    <tr>\n",
       "      <th>6071</th>\n",
       "      <td>Ragini</td>\n",
       "      <td>3</td>\n",
       "      <td>F</td>\n",
       "      <td>1937</td>\n",
       "      <td>NaN</td>\n",
       "      <td>/m/06w4wmq</td>\n",
       "      <td>20</td>\n",
       "      <td>Q7283094</td>\n",
       "      <td>Indian actress</td>\n",
       "      <td>India</td>\n",
       "      <td>['actor']</td>\n",
       "    </tr>\n",
       "    <tr>\n",
       "      <th>6072</th>\n",
       "      <td>Nirmalamma</td>\n",
       "      <td>3</td>\n",
       "      <td>F</td>\n",
       "      <td>1920</td>\n",
       "      <td>NaN</td>\n",
       "      <td>/m/07kj3f9</td>\n",
       "      <td>20</td>\n",
       "      <td>Q7040057</td>\n",
       "      <td>Indian actress</td>\n",
       "      <td>India</td>\n",
       "      <td>['actor']</td>\n",
       "    </tr>\n",
       "    <tr>\n",
       "      <th>6073</th>\n",
       "      <td>Rushyendramani</td>\n",
       "      <td>3</td>\n",
       "      <td>F</td>\n",
       "      <td>1917-01-01</td>\n",
       "      <td>NaN</td>\n",
       "      <td>/m/0br_7d6</td>\n",
       "      <td>20</td>\n",
       "      <td>Q7380893</td>\n",
       "      <td>Indian actress</td>\n",
       "      <td>India</td>\n",
       "      <td>['actor']</td>\n",
       "    </tr>\n",
       "  </tbody>\n",
       "</table>\n",
       "<p>6074 rows × 11 columns</p>\n",
       "</div>"
      ],
      "text/plain": [
       "                Actor_name  connectivity actor_gender Actor_date_of_birth  \\\n",
       "0               John Wayne           286            M          1907-05-26   \n",
       "1               Roy Rogers           242            M          1911-11-05   \n",
       "2     George 'Gabby' Hayes           130            M          1885-05-07   \n",
       "3           Basil Rathbone           121            M          1892-06-13   \n",
       "4           John Carradine           114            M          1906-02-05   \n",
       "...                    ...           ...          ...                 ...   \n",
       "6069           Pushpavalli             3            F                 NaN   \n",
       "6070               Sarathi             3            M          1942-06-26   \n",
       "6071                Ragini             3            F                1937   \n",
       "6072            Nirmalamma             3            F                1920   \n",
       "6073        Rushyendramani             3            F          1917-01-01   \n",
       "\n",
       "     Actor_ethnicity Freebase_actor_ID  community Wikidata_actor_id  \\\n",
       "0          /m/063k3h          /m/043gj          1            Q40531   \n",
       "1          /m/07hwkr        /m/01mc6h1          1           Q367129   \n",
       "2                NaN         /m/03l6jx          1          Q1277973   \n",
       "3                NaN          /m/0hwd8          1           Q336865   \n",
       "4                NaN         /m/021mlp          1           Q312878   \n",
       "...              ...               ...        ...               ...   \n",
       "6069             NaN        /m/080hxfv         20          Q7261853   \n",
       "6070             NaN        /m/0463_8t         20          Q7423331   \n",
       "6071             NaN        /m/06w4wmq         20          Q7283094   \n",
       "6072             NaN        /m/07kj3f9         20          Q7040057   \n",
       "6073             NaN        /m/0br_7d6         20          Q7380893   \n",
       "\n",
       "                          actor_description actor_country_of_citizenship  \\\n",
       "0                American actor (1907–1979)     United States of America   \n",
       "1     American actor and singer (1911-1998)     United States of America   \n",
       "2                American actor (1885-1969)     United States of America   \n",
       "3                 English actor (1892–1967)               United Kingdom   \n",
       "4                American actor (1906-1988)     United States of America   \n",
       "...                                     ...                          ...   \n",
       "6069                         Indian actress                        India   \n",
       "6070                           Indian actor                        India   \n",
       "6071                         Indian actress                        India   \n",
       "6072                         Indian actress                        India   \n",
       "6073                         Indian actress                        India   \n",
       "\n",
       "                                       actor_occupation  \n",
       "0     ['actor', 'film actor', 'film director', 'film...  \n",
       "1     ['television actor', 'film actor', 'singer', '...  \n",
       "2     ['actor', 'television actor', 'film actor', 'r...  \n",
       "3     ['character actor', 'stage actor', 'film actor...  \n",
       "4     ['film actor', 'character actor', 'stage actor...  \n",
       "...                                                 ...  \n",
       "6069                                          ['actor']  \n",
       "6070                                          ['actor']  \n",
       "6071                                          ['actor']  \n",
       "6072                                          ['actor']  \n",
       "6073                                          ['actor']  \n",
       "\n",
       "[6074 rows x 11 columns]"
      ]
     },
     "execution_count": 3,
     "metadata": {},
     "output_type": "execute_result"
    }
   ],
   "source": [
    "df"
   ]
  },
  {
   "cell_type": "code",
   "execution_count": 4,
   "metadata": {},
   "outputs": [],
   "source": [
    "df['actor_description'] = df['actor_description'].astype(str)"
   ]
  },
  {
   "cell_type": "code",
   "execution_count": 5,
   "metadata": {},
   "outputs": [],
   "source": [
    "\n",
    "nlp = spacy.load('en_core_web_sm')\n",
    "\n",
    "# extract nationality from the phrase \"american actor\"\n",
    "def extract_country(text):\n",
    "    if text:\n",
    "        doc = nlp(text)\n",
    "        for ent in doc.ents:\n",
    "            if ent.label_ == 'NORP':\n",
    "                return ent.text\n",
    "    return None"
   ]
  },
  {
   "cell_type": "code",
   "execution_count": 6,
   "metadata": {},
   "outputs": [],
   "source": [
    "# df['actor_country'] = df['actor_description'].apply(extract_country)"
   ]
  },
  {
   "cell_type": "code",
   "execution_count": 7,
   "metadata": {},
   "outputs": [
    {
     "data": {
      "text/plain": [
       "United States of America    2798\n",
       "India                       1130\n",
       "United Kingdom               722\n",
       "Japan                        233\n",
       "Canada                       131\n",
       "                            ... \n",
       "Colombia                       1\n",
       "Argentina                      1\n",
       "Greece                         1\n",
       "Malta                          1\n",
       "Lithuania                      1\n",
       "Name: actor_country_of_citizenship, Length: 71, dtype: int64"
      ]
     },
     "execution_count": 7,
     "metadata": {},
     "output_type": "execute_result"
    }
   ],
   "source": [
    "df.actor_country_of_citizenship.value_counts()"
   ]
  },
  {
   "cell_type": "code",
   "execution_count": 8,
   "metadata": {},
   "outputs": [
    {
     "data": {
      "text/plain": [
       "['actor']                                                                        615\n",
       "['actor', 'film actor']                                                          298\n",
       "['actor', 'television actor']                                                    293\n",
       "['actor', 'film actor', 'television actor']                                      112\n",
       "['actor', 'television actor', 'film actor']                                      103\n",
       "                                                                                ... \n",
       "['actor', 'film actor', 'screenwriter', 'television actor']                        1\n",
       "['actor', 'film actor', 'film director', 'television actor', 'film producer']      1\n",
       "['voice actor', 'comedian']                                                        1\n",
       "['actor', 'painter', 'television actor', 'film actor', 'screenwriter']             1\n",
       "['author', 'actor', 'journalist']                                                  1\n",
       "Name: actor_occupation, Length: 2794, dtype: int64"
      ]
     },
     "execution_count": 8,
     "metadata": {},
     "output_type": "execute_result"
    }
   ],
   "source": [
    "df.actor_occupation.value_counts()"
   ]
  },
  {
   "cell_type": "code",
   "execution_count": 13,
   "metadata": {},
   "outputs": [
    {
     "data": {
      "text/plain": [
       "310"
      ]
     },
     "execution_count": 13,
     "metadata": {},
     "output_type": "execute_result"
    }
   ],
   "source": [
    "df.actor_country_of_citizenship.isna().sum()"
   ]
  },
  {
   "cell_type": "code",
   "execution_count": 14,
   "metadata": {},
   "outputs": [
    {
     "data": {
      "text/plain": [
       "271"
      ]
     },
     "execution_count": 14,
     "metadata": {},
     "output_type": "execute_result"
    }
   ],
   "source": [
    "df.actor_occupation.isna().sum()"
   ]
  },
  {
   "cell_type": "code",
   "execution_count": null,
   "metadata": {},
   "outputs": [],
   "source": [
    "# save to csv\n",
    "# df.to_csv('actors_withcountries.csv', index=False)"
   ]
  }
 ],
 "metadata": {
  "kernelspec": {
   "display_name": "Python 3 (ipykernel)",
   "language": "python",
   "name": "python3"
  },
  "language_info": {
   "codemirror_mode": {
    "name": "ipython",
    "version": 3
   },
   "file_extension": ".py",
   "mimetype": "text/x-python",
   "name": "python",
   "nbconvert_exporter": "python",
   "pygments_lexer": "ipython3",
   "version": "3.9.7"
  },
  "vscode": {
   "interpreter": {
    "hash": "d37a1d50f378da0f68e11ee5fba6c6e83e272cf9b6bb98807c67244994dff8ee"
   }
  }
 },
 "nbformat": 4,
 "nbformat_minor": 2
}
